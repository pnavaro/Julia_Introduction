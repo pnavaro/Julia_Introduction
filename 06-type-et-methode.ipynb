{
 "cells": [
  {
   "cell_type": "markdown",
   "id": "1c8d4fbf",
   "metadata": {},
   "source": [
    "# Type et méthodes\n",
    "\n",
    "*Julia* possède un système de type et de méthode qui lui confère une approche objet.\n",
    "La fonction `typeof()` renvoie le type d'une variable de base `Int32`, `Float64`... *Julia* est conçu pour permettre facilement d'étendre l'environnement à de nouveaux type de variable.\n",
    "\n",
    "Le types sont organisés suivant un hiérarchie comme on peut le voir sur l'arborescence partielle ci-dessous\n"
   ]
  },
  {
   "cell_type": "code",
   "execution_count": null,
   "id": "7e4d541a",
   "metadata": {
    "title": "- Any << abstract immutable size:0 >>"
   },
   "outputs": [],
   "source": [
    "using AbstractTrees\n",
    "\n",
    "AbstractTrees.children(x::Type) = subtypes(x)\n",
    "\n",
    "print_tree(Number)"
   ]
  },
  {
   "cell_type": "markdown",
   "id": "83db2130",
   "metadata": {},
   "source": [
    "Dans cette arborescence, certains types sont \"abstraits\" et d'autres \"concrets\"."
   ]
  },
  {
   "cell_type": "code",
   "execution_count": null,
   "id": "f8e76d5f",
   "metadata": {},
   "outputs": [],
   "source": [
    "isconcretetype(Real), isconcretetype(Float64)"
   ]
  },
  {
   "cell_type": "markdown",
   "id": "95b36a72",
   "metadata": {},
   "source": [
    "Un réel sera forcemment de type concret `Float64` ou `Float32` par exemple, et pourra être utilisé comme argument par toutes les fonctions acceptant le type abstrait `AbstractFloat`"
   ]
  },
  {
   "cell_type": "code",
   "execution_count": null,
   "id": "497bc474",
   "metadata": {},
   "outputs": [],
   "source": [
    "Float64 <: AbstractFloat"
   ]
  },
  {
   "cell_type": "markdown",
   "id": "e1243793",
   "metadata": {},
   "source": [
    "# Méthodes\n",
    "\n",
    "A chaque fonction est associée une méthode dépendante du type d'entrée comme dans ce qui suit suivant que l'entrée soit un entier ou pas."
   ]
  },
  {
   "cell_type": "code",
   "execution_count": null,
   "id": "a3b0f9e8",
   "metadata": {},
   "outputs": [],
   "source": [
    "function f(x::Any)\n",
    "    sin(x+1)\n",
    "end"
   ]
  },
  {
   "cell_type": "code",
   "execution_count": null,
   "id": "beaf23ae",
   "metadata": {},
   "outputs": [],
   "source": [
    "function f(n::Integer)\n",
    "    n\n",
    "end"
   ]
  },
  {
   "cell_type": "code",
   "execution_count": null,
   "id": "adefdd79",
   "metadata": {},
   "outputs": [],
   "source": [
    "f(3.0)"
   ]
  },
  {
   "cell_type": "code",
   "execution_count": null,
   "id": "1fcfc530",
   "metadata": {},
   "outputs": [],
   "source": [
    "f(3)"
   ]
  },
  {
   "cell_type": "code",
   "execution_count": null,
   "id": "2ba92d70",
   "metadata": {},
   "outputs": [],
   "source": [
    "f(im)"
   ]
  },
  {
   "cell_type": "code",
   "execution_count": null,
   "id": "38cf1220",
   "metadata": {},
   "outputs": [],
   "source": [
    "f(-2)"
   ]
  },
  {
   "cell_type": "code",
   "execution_count": null,
   "id": "a3685d8b",
   "metadata": {},
   "outputs": [],
   "source": [
    "+"
   ]
  },
  {
   "cell_type": "code",
   "execution_count": null,
   "id": "02db68f4",
   "metadata": {},
   "outputs": [],
   "source": [
    "+(1,2)"
   ]
  },
  {
   "cell_type": "code",
   "execution_count": null,
   "id": "5a6c41ef",
   "metadata": {},
   "outputs": [],
   "source": [
    "f(sqrt(2))"
   ]
  },
  {
   "cell_type": "markdown",
   "id": "2c6dc403",
   "metadata": {},
   "source": [
    "# Construction d'un nouveau Type de variable\n",
    "\n",
    "En premier lieu il faut définir un type abstrait puis une instance sous-hiérarchiquement concrète :"
   ]
  },
  {
   "cell_type": "code",
   "execution_count": null,
   "id": "1551cc55",
   "metadata": {},
   "outputs": [],
   "source": [
    "abstract type AbstractGrid end # juste en dessous de Any\n",
    "mutable struct Grid1d <: AbstractGrid\n",
    "    debut::Float64\n",
    "    fin::Float64\n",
    "    n::Int32\n",
    "end"
   ]
  },
  {
   "cell_type": "code",
   "execution_count": null,
   "id": "c4fbc88a",
   "metadata": {},
   "outputs": [],
   "source": [
    "a=Grid1d(0,1,2)"
   ]
  },
  {
   "cell_type": "code",
   "execution_count": null,
   "id": "684f777a",
   "metadata": {},
   "outputs": [],
   "source": [
    "a.debut"
   ]
  },
  {
   "cell_type": "code",
   "execution_count": null,
   "id": "a2ca2cf9",
   "metadata": {},
   "outputs": [],
   "source": [
    "a.fin"
   ]
  },
  {
   "cell_type": "code",
   "execution_count": null,
   "id": "af4110fc",
   "metadata": {},
   "outputs": [],
   "source": [
    "a.n"
   ]
  },
  {
   "cell_type": "markdown",
   "id": "1d186efb",
   "metadata": {},
   "source": [
    "# Surcharge des opérateurs\n",
    "\n",
    "La surcharge des opérations usuelles se fait en définissant une nouvelle méthode associé au nouveau type pour chaque opérateur, commençons par surcharger l'affichage à l'écran de notre nouveau type. Pour cela on va ajouter une méthode à la fonction \"show\""
   ]
  },
  {
   "cell_type": "code",
   "execution_count": null,
   "id": "dd681d32",
   "metadata": {},
   "outputs": [],
   "source": [
    "function Base.show(io::IO,g::Grid1d)\n",
    "    print(io, \"Grid 1d : début $(g.debut) , fin $(g.fin) , $(g.n) éléments\\n\")\n",
    "end"
   ]
  },
  {
   "cell_type": "code",
   "execution_count": null,
   "id": "00ab6952",
   "metadata": {},
   "outputs": [],
   "source": [
    "Base.show(a)"
   ]
  },
  {
   "cell_type": "code",
   "execution_count": null,
   "id": "b50cd78c",
   "metadata": {},
   "outputs": [],
   "source": [
    "println(a)"
   ]
  },
  {
   "cell_type": "code",
   "execution_count": null,
   "id": "d3f483a0",
   "metadata": {},
   "outputs": [],
   "source": [
    "a"
   ]
  },
  {
   "cell_type": "code",
   "execution_count": null,
   "id": "d0e8ecc1",
   "metadata": {},
   "outputs": [],
   "source": [
    "@show a"
   ]
  },
  {
   "cell_type": "markdown",
   "id": "eb6ce277",
   "metadata": {},
   "source": [
    "## Addition, soustraction ...\n",
    "\n",
    "Ces fonctions sont de la forme +(), -() c'est à dire"
   ]
  },
  {
   "cell_type": "code",
   "execution_count": null,
   "id": "8b2ee690",
   "metadata": {},
   "outputs": [],
   "source": [
    "import Base:+\n",
    "function +(g::Grid1d,n::Integer)\n",
    "    g.n +=n\n",
    "    return g\n",
    "end"
   ]
  },
  {
   "cell_type": "code",
   "execution_count": null,
   "id": "b5dca75d",
   "metadata": {},
   "outputs": [],
   "source": [
    "a=Grid1d(0,1,2)"
   ]
  },
  {
   "cell_type": "code",
   "execution_count": null,
   "id": "1afce0bb",
   "metadata": {},
   "outputs": [],
   "source": [
    "a+2"
   ]
  },
  {
   "cell_type": "code",
   "execution_count": null,
   "id": "99806167",
   "metadata": {},
   "outputs": [],
   "source": [
    "a+=1"
   ]
  },
  {
   "cell_type": "markdown",
   "id": "ae9e1f27",
   "metadata": {},
   "source": [
    "Attention l'addition n'est pas forcément commutative !"
   ]
  },
  {
   "cell_type": "code",
   "execution_count": null,
   "id": "918170a1",
   "metadata": {},
   "outputs": [],
   "source": [
    "try \n",
    "    2+a\n",
    "catch e\n",
    "    showerror(stdout, e)\n",
    "end"
   ]
  },
  {
   "cell_type": "markdown",
   "id": "19a26f0f",
   "metadata": {},
   "source": [
    "ni unaire !"
   ]
  },
  {
   "cell_type": "code",
   "execution_count": null,
   "id": "2b52f298",
   "metadata": {},
   "outputs": [],
   "source": [
    "try \n",
    "    -a\n",
    "catch e\n",
    "    showerror(stdout, e)\n",
    "end "
   ]
  },
  {
   "cell_type": "markdown",
   "id": "91612a32",
   "metadata": {},
   "source": [
    "Notez le message d'erreur qui est très claire !"
   ]
  },
  {
   "cell_type": "code",
   "execution_count": null,
   "id": "3bfa8122",
   "metadata": {},
   "outputs": [],
   "source": [
    "try\n",
    "    a+[1,2]\n",
    "catch e\n",
    "    showerror(stdout, e)\n",
    "end "
   ]
  },
  {
   "cell_type": "markdown",
   "id": "6e5aa97d",
   "metadata": {},
   "source": [
    "## Autres surcharges\n",
    "\n",
    "Toutes les fonctions usuelles sont surchargeable sans limite : size(); det() ..."
   ]
  },
  {
   "cell_type": "code",
   "execution_count": null,
   "id": "403f577c",
   "metadata": {},
   "outputs": [],
   "source": [
    "function Base.size(g::AbstractGrid)\n",
    "    return g.n\n",
    "end"
   ]
  },
  {
   "cell_type": "code",
   "execution_count": null,
   "id": "c991ca07",
   "metadata": {},
   "outputs": [],
   "source": [
    "size(a)"
   ]
  },
  {
   "cell_type": "code",
   "execution_count": null,
   "id": "2ee2d22e",
   "metadata": {},
   "outputs": [],
   "source": [
    "using LinearAlgebra\n",
    "\n",
    "function LinearAlgebra.det(g::Grid1d)\n",
    "    g.fin-g.debut\n",
    "end "
   ]
  },
  {
   "cell_type": "code",
   "execution_count": null,
   "id": "e216976d",
   "metadata": {},
   "outputs": [],
   "source": [
    "det(a)"
   ]
  },
  {
   "cell_type": "markdown",
   "id": "f3242f19",
   "metadata": {},
   "source": [
    "# Type et constructeurs\n",
    "\n",
    "Chaque langage \"objet\" définit un constructeur pour ces objets. Nous avons déjà utilisé un constructeur générique qui rempli chaque champ du nouveau type. Il est possible de faire une variante suivant le nombre d'arguments d'entrée et de leur type "
   ]
  },
  {
   "cell_type": "code",
   "execution_count": null,
   "id": "4d2a7bf3",
   "metadata": {},
   "outputs": [],
   "source": [
    "abstract type AbstractGrid end # juste en dessous de Any\n",
    "struct Grid1D <: AbstractGrid\n",
    "    debut::Float64\n",
    "    fin::Float64\n",
    "    n::Int32\n",
    "    \n",
    "    # constructeurs par défaut sans argument\n",
    "    function Grid1D()\n",
    "        new(0,0,0)\n",
    "    end\n",
    "    \n",
    "    # constructeurs par défaut avec argument\n",
    "    function Grid1D(a,b,c)\n",
    "        c <= 0 && @error(\"pas possible\")\n",
    "        new(a,b,c)\n",
    "    end\n",
    "end"
   ]
  },
  {
   "cell_type": "code",
   "execution_count": null,
   "id": "38f88513",
   "metadata": {},
   "outputs": [],
   "source": [
    "b = Grid1D(0, 1, -1)"
   ]
  },
  {
   "cell_type": "markdown",
   "id": "6cd65e88",
   "metadata": {},
   "source": [
    "Il devient possible de déterminer un constructeurs pour différentes entrées.\n",
    "\n",
    "Il faut au préalable bien penser sa hiérarchie de type et écrire autant de fonctions constructeurs que de cas d'initialisation du nouveau type."
   ]
  },
  {
   "cell_type": "markdown",
   "id": "aa38b59a",
   "metadata": {},
   "source": [
    "# Les Itérateurs\n",
    "\n",
    "Il est possible sur un type nouveau de définir un itérateur, comme ici de parcourir les points de la grille, définissons (surchargeons) de nouvelles fonctions ou plutôt méthodes : "
   ]
  },
  {
   "cell_type": "code",
   "execution_count": null,
   "id": "255a9cf7",
   "metadata": {},
   "outputs": [],
   "source": [
    "Base.iterate(g::Grid1D, state=g.debut) = begin\n",
    "   state > g.fin ? nothing : (state, state+(g.fin-g.debut)/g.n)\n",
    "end"
   ]
  },
  {
   "cell_type": "code",
   "execution_count": null,
   "id": "5c8b8793",
   "metadata": {},
   "outputs": [],
   "source": [
    "grid = Grid1D(0,2,10)"
   ]
  },
  {
   "cell_type": "code",
   "execution_count": null,
   "id": "aea3d1ee",
   "metadata": {},
   "outputs": [],
   "source": [
    "for x in grid\n",
    "    println(x)\n",
    "end"
   ]
  },
  {
   "cell_type": "markdown",
   "id": "f771b42c",
   "metadata": {},
   "source": [
    "Il devient possible de construire des itérateurs sur une grille 2d, 3d renvoyant les coordonnées des points de la grille... Mais on peut imaginer sur une triangulation etc... "
   ]
  }
 ],
 "metadata": {
  "jupytext": {
   "cell_metadata_filter": "title,-all",
   "main_language": "julia",
   "notebook_metadata_filter": "-all"
  }
 },
 "nbformat": 4,
 "nbformat_minor": 5
}
