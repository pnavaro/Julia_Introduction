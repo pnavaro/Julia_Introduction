{
 "cells": [
  {
   "cell_type": "markdown",
   "id": "1c8d4fbf",
   "metadata": {},
   "source": [
    "# Type et méthodes\n",
    "\n",
    "*Julia* possède un système de type et de méthode qui lui confère une approche objet.\n",
    "La fonction `typeof()` renvoie le type d'une variable de base `Int32`, `Float64`... *Julia* est conçu pour permettre facilement d'étendre l'environnement à de nouveaux type de variable.\n",
    "\n",
    "Le types sont organisés suivant un hiérarchie comme on peut le voir sur l'arborescence partielle ci-dessous\n"
   ]
  },
  {
   "cell_type": "code",
   "execution_count": 1,
   "id": "7e4d541a",
   "metadata": {
    "title": "- Any << abstract immutable size:0 >>"
   },
   "outputs": [
    {
     "name": "stdout",
     "output_type": "stream",
     "text": [
      "Number\n",
      "├─ Complex\n",
      "└─ Real\n",
      "   ├─ AbstractFloat\n",
      "   │  ├─ BigFloat\n",
      "   │  ├─ Float16\n",
      "   │  ├─ Float32\n",
      "   │  └─ Float64\n",
      "   ├─ AbstractIrrational\n",
      "   │  └─ Irrational\n",
      "   ├─ Integer\n",
      "   │  ├─ Bool\n",
      "   │  ├─ Signed\n",
      "   │  │  ├─ BigInt\n",
      "   │  │  ├─ Int128\n",
      "   │  │  ├─ Int16\n",
      "   │  │  ├─ Int32\n",
      "   │  │  ├─ Int64\n",
      "   │  │  └─ Int8\n",
      "   │  └─ Unsigned\n",
      "   │     ├─ UInt128\n",
      "   │     ├─ UInt16\n",
      "   │     ├─ UInt32\n",
      "   │     ├─ UInt64\n",
      "   │     └─ UInt8\n",
      "   └─ Rational\n"
     ]
    }
   ],
   "source": [
    "using AbstractTrees\n",
    "\n",
    "AbstractTrees.children(x::Type) = subtypes(x)\n",
    "\n",
    "print_tree(Number)"
   ]
  },
  {
   "cell_type": "markdown",
   "id": "83db2130",
   "metadata": {},
   "source": [
    "Dans cette arborescence, certains types sont \"abstraits\" et d'autres \"concrets\"."
   ]
  },
  {
   "cell_type": "code",
   "execution_count": 2,
   "id": "f8e76d5f",
   "metadata": {},
   "outputs": [
    {
     "data": {
      "text/plain": [
       "(false, true)"
      ]
     },
     "execution_count": 2,
     "metadata": {},
     "output_type": "execute_result"
    }
   ],
   "source": [
    "isconcretetype(Real), isconcretetype(Float64)"
   ]
  },
  {
   "cell_type": "markdown",
   "id": "95b36a72",
   "metadata": {},
   "source": [
    "Un réel sera forcemment de type concret `Float64` ou `Float32` par exemple, et pourra être utilisé comme argument par toutes les fonctions acceptant le type abstrait `AbstractFloat`"
   ]
  },
  {
   "cell_type": "code",
   "execution_count": 6,
   "id": "497bc474",
   "metadata": {},
   "outputs": [
    {
     "data": {
      "text/plain": [
       "true"
      ]
     },
     "execution_count": 6,
     "metadata": {},
     "output_type": "execute_result"
    }
   ],
   "source": [
    "Float64 <: AbstractFloat"
   ]
  },
  {
   "cell_type": "markdown",
   "id": "e1243793",
   "metadata": {},
   "source": [
    "# Méthodes\n",
    "\n",
    "A chaque fonction est associée une méthode dépendante du type d'entrée comme dans ce qui suit suivant que l'entrée soit un entier ou pas."
   ]
  },
  {
   "cell_type": "code",
   "execution_count": 8,
   "id": "a3b0f9e8",
   "metadata": {},
   "outputs": [
    {
     "data": {
      "text/plain": [
       "f (generic function with 1 method)"
      ]
     },
     "execution_count": 8,
     "metadata": {},
     "output_type": "execute_result"
    }
   ],
   "source": [
    "function f(x::Any)\n",
    "    sin(x+1)\n",
    "end"
   ]
  },
  {
   "cell_type": "code",
   "execution_count": 9,
   "id": "beaf23ae",
   "metadata": {},
   "outputs": [
    {
     "data": {
      "text/plain": [
       "f (generic function with 2 methods)"
      ]
     },
     "execution_count": 9,
     "metadata": {},
     "output_type": "execute_result"
    }
   ],
   "source": [
    "function f(n::Integer)\n",
    "    n\n",
    "end"
   ]
  },
  {
   "cell_type": "code",
   "execution_count": 12,
   "id": "adefdd79",
   "metadata": {},
   "outputs": [
    {
     "data": {
      "text/plain": [
       "-0.7568024953079282"
      ]
     },
     "execution_count": 12,
     "metadata": {},
     "output_type": "execute_result"
    }
   ],
   "source": [
    "f(3.0)"
   ]
  },
  {
   "cell_type": "code",
   "execution_count": 13,
   "id": "515379ac",
   "metadata": {},
   "outputs": [
    {
     "data": {
      "text/html": [
       "# 2 methods for generic function <b>f</b>:<ul><li> f(n::<b>Integer</b>) in Main at In[9]:1</li> <li> f(x) in Main at In[8]:1</li> </ul>"
      ],
      "text/plain": [
       "# 2 methods for generic function \"f\":\n",
       "[1] f(n::Integer) in Main at In[9]:1\n",
       "[2] f(x) in Main at In[8]:1"
      ]
     },
     "execution_count": 13,
     "metadata": {},
     "output_type": "execute_result"
    }
   ],
   "source": [
    "methods(f)"
   ]
  },
  {
   "cell_type": "code",
   "execution_count": 14,
   "id": "1fcfc530",
   "metadata": {},
   "outputs": [
    {
     "data": {
      "text/plain": [
       "3"
      ]
     },
     "execution_count": 14,
     "metadata": {},
     "output_type": "execute_result"
    }
   ],
   "source": [
    "f(3)"
   ]
  },
  {
   "cell_type": "code",
   "execution_count": 15,
   "id": "2ba92d70",
   "metadata": {},
   "outputs": [
    {
     "data": {
      "text/plain": [
       "1.2984575814159773 + 0.6349639147847361im"
      ]
     },
     "execution_count": 15,
     "metadata": {},
     "output_type": "execute_result"
    }
   ],
   "source": [
    "f(im)"
   ]
  },
  {
   "cell_type": "code",
   "execution_count": 16,
   "id": "38cf1220",
   "metadata": {},
   "outputs": [
    {
     "data": {
      "text/plain": [
       "-2"
      ]
     },
     "execution_count": 16,
     "metadata": {},
     "output_type": "execute_result"
    }
   ],
   "source": [
    "f(-2)"
   ]
  },
  {
   "cell_type": "code",
   "execution_count": 17,
   "id": "a3685d8b",
   "metadata": {},
   "outputs": [
    {
     "data": {
      "text/plain": [
       "+ (generic function with 208 methods)"
      ]
     },
     "execution_count": 17,
     "metadata": {},
     "output_type": "execute_result"
    }
   ],
   "source": [
    "+"
   ]
  },
  {
   "cell_type": "code",
   "execution_count": 18,
   "id": "02db68f4",
   "metadata": {},
   "outputs": [
    {
     "data": {
      "text/plain": [
       "3"
      ]
     },
     "execution_count": 18,
     "metadata": {},
     "output_type": "execute_result"
    }
   ],
   "source": [
    "+(1,2)"
   ]
  },
  {
   "cell_type": "code",
   "execution_count": 19,
   "id": "5a6c41ef",
   "metadata": {},
   "outputs": [
    {
     "data": {
      "text/plain": [
       "0.6649143126867011"
      ]
     },
     "execution_count": 19,
     "metadata": {},
     "output_type": "execute_result"
    }
   ],
   "source": [
    "f(sqrt(2))"
   ]
  },
  {
   "cell_type": "markdown",
   "id": "2c6dc403",
   "metadata": {},
   "source": [
    "# Construction d'un nouveau Type de variable\n",
    "\n",
    "En premier lieu il faut définir un type abstrait puis une instance sous-hiérarchiquement concrète :"
   ]
  },
  {
   "cell_type": "code",
   "execution_count": 21,
   "id": "1551cc55",
   "metadata": {},
   "outputs": [],
   "source": [
    "abstract type AbstractGrid end # juste en dessous de Any\n",
    "\n",
    "mutable struct Grid1d <: AbstractGrid\n",
    "    debut::Float64\n",
    "    fin::Float64\n",
    "    n::Int32\n",
    "end"
   ]
  },
  {
   "cell_type": "code",
   "execution_count": 31,
   "id": "c4fbc88a",
   "metadata": {},
   "outputs": [
    {
     "name": "stdout",
     "output_type": "stream",
     "text": [
      "a = Grid1d(0, 1, 2) = Grid 1d : début 0.0 , fin 1.0 , 2 éléments\n",
      "\n"
     ]
    },
    {
     "data": {
      "text/plain": [
       "Grid 1d : début 0.0 , fin 1.0 , 2 éléments\n"
      ]
     },
     "execution_count": 31,
     "metadata": {},
     "output_type": "execute_result"
    }
   ],
   "source": [
    "@show a = Grid1d(0, 1, 2)"
   ]
  },
  {
   "cell_type": "code",
   "execution_count": 23,
   "id": "684f777a",
   "metadata": {},
   "outputs": [
    {
     "data": {
      "text/plain": [
       "0.0"
      ]
     },
     "execution_count": 23,
     "metadata": {},
     "output_type": "execute_result"
    }
   ],
   "source": [
    "a.debut"
   ]
  },
  {
   "cell_type": "code",
   "execution_count": 24,
   "id": "a2ca2cf9",
   "metadata": {},
   "outputs": [
    {
     "data": {
      "text/plain": [
       "1.0"
      ]
     },
     "execution_count": 24,
     "metadata": {},
     "output_type": "execute_result"
    }
   ],
   "source": [
    "a.fin"
   ]
  },
  {
   "cell_type": "code",
   "execution_count": 25,
   "id": "af4110fc",
   "metadata": {},
   "outputs": [
    {
     "data": {
      "text/plain": [
       "2"
      ]
     },
     "execution_count": 25,
     "metadata": {},
     "output_type": "execute_result"
    }
   ],
   "source": [
    "a.n"
   ]
  },
  {
   "cell_type": "markdown",
   "id": "1d186efb",
   "metadata": {},
   "source": [
    "# Surcharge des opérateurs\n",
    "\n",
    "La surcharge des opérations usuelles se fait en définissant une nouvelle méthode associé au nouveau type pour chaque opérateur, commençons par surcharger l'affichage à l'écran de notre nouveau type. Pour cela on va ajouter une méthode à la fonction \"show\""
   ]
  },
  {
   "cell_type": "code",
   "execution_count": 26,
   "id": "dd681d32",
   "metadata": {},
   "outputs": [],
   "source": [
    "function Base.show(io::IO,g::Grid1d)\n",
    "    print(io, \"Grid 1d : début $(g.debut) , fin $(g.fin) , $(g.n) éléments\\n\")\n",
    "end"
   ]
  },
  {
   "cell_type": "code",
   "execution_count": 27,
   "id": "00ab6952",
   "metadata": {},
   "outputs": [
    {
     "name": "stdout",
     "output_type": "stream",
     "text": [
      "Grid 1d : début 0.0 , fin 1.0 , 2 éléments\n"
     ]
    }
   ],
   "source": [
    "Base.show(a)"
   ]
  },
  {
   "cell_type": "code",
   "execution_count": 28,
   "id": "b50cd78c",
   "metadata": {},
   "outputs": [
    {
     "name": "stdout",
     "output_type": "stream",
     "text": [
      "Grid 1d : début 0.0 , fin 1.0 , 2 éléments\n",
      "\n"
     ]
    }
   ],
   "source": [
    "println(a)"
   ]
  },
  {
   "cell_type": "code",
   "execution_count": 29,
   "id": "d3f483a0",
   "metadata": {},
   "outputs": [
    {
     "data": {
      "text/plain": [
       "Grid 1d : début 0.0 , fin 1.0 , 2 éléments\n"
      ]
     },
     "execution_count": 29,
     "metadata": {},
     "output_type": "execute_result"
    }
   ],
   "source": [
    "a"
   ]
  },
  {
   "cell_type": "code",
   "execution_count": 30,
   "id": "d0e8ecc1",
   "metadata": {},
   "outputs": [
    {
     "name": "stdout",
     "output_type": "stream",
     "text": [
      "a = Grid 1d : début 0.0 , fin 1.0 , 2 éléments\n",
      "\n"
     ]
    },
    {
     "data": {
      "text/plain": [
       "Grid 1d : début 0.0 , fin 1.0 , 2 éléments\n"
      ]
     },
     "execution_count": 30,
     "metadata": {},
     "output_type": "execute_result"
    }
   ],
   "source": [
    "@show a"
   ]
  },
  {
   "cell_type": "markdown",
   "id": "eb6ce277",
   "metadata": {},
   "source": [
    "## Addition, soustraction ...\n",
    "\n",
    "Ces fonctions sont de la forme +(), -() c'est à dire"
   ]
  },
  {
   "cell_type": "code",
   "execution_count": 35,
   "id": "8b2ee690",
   "metadata": {},
   "outputs": [
    {
     "data": {
      "text/plain": [
       "+ (generic function with 209 methods)"
      ]
     },
     "execution_count": 35,
     "metadata": {},
     "output_type": "execute_result"
    }
   ],
   "source": [
    "import Base:+\n",
    "\n",
    "function +(g::Grid1d, n::Integer)\n",
    "    g.n += n\n",
    "    return g\n",
    "end"
   ]
  },
  {
   "cell_type": "code",
   "execution_count": 36,
   "id": "b5dca75d",
   "metadata": {},
   "outputs": [
    {
     "data": {
      "text/plain": [
       "Grid 1d : début 0.0 , fin 1.0 , 2 éléments\n"
      ]
     },
     "execution_count": 36,
     "metadata": {},
     "output_type": "execute_result"
    }
   ],
   "source": [
    "a = Grid1d(0,1,2)"
   ]
  },
  {
   "cell_type": "code",
   "execution_count": 37,
   "id": "1afce0bb",
   "metadata": {},
   "outputs": [
    {
     "data": {
      "text/plain": [
       "Grid 1d : début 0.0 , fin 1.0 , 4 éléments\n"
      ]
     },
     "execution_count": 37,
     "metadata": {},
     "output_type": "execute_result"
    }
   ],
   "source": [
    "a+2"
   ]
  },
  {
   "cell_type": "code",
   "execution_count": 38,
   "id": "99806167",
   "metadata": {},
   "outputs": [
    {
     "data": {
      "text/plain": [
       "Grid 1d : début 0.0 , fin 1.0 , 5 éléments\n"
      ]
     },
     "execution_count": 38,
     "metadata": {},
     "output_type": "execute_result"
    }
   ],
   "source": [
    "a += 1"
   ]
  },
  {
   "cell_type": "markdown",
   "id": "ae9e1f27",
   "metadata": {},
   "source": [
    "Attention l'addition n'est pas forcément commutative !"
   ]
  },
  {
   "cell_type": "code",
   "execution_count": 39,
   "id": "918170a1",
   "metadata": {},
   "outputs": [
    {
     "name": "stdout",
     "output_type": "stream",
     "text": [
      "MethodError: no method matching +(::Int64, ::Grid1d)\n",
      "\u001b[0mClosest candidates are:\n",
      "\u001b[0m  +(::Any, ::Any, \u001b[91m::Any\u001b[39m, \u001b[91m::Any...\u001b[39m) at /Applications/Julia-1.7.app/Contents/Resources/julia/share/julia/base/operators.jl:655\n",
      "\u001b[0m  +(::T, \u001b[91m::T\u001b[39m) where T<:Union{Int128, Int16, Int32, Int64, Int8, UInt128, UInt16, UInt32, UInt64, UInt8} at /Applications/Julia-1.7.app/Contents/Resources/julia/share/julia/base/int.jl:87\n",
      "\u001b[0m  +(::Union{Int16, Int32, Int64, Int8}, \u001b[91m::BigInt\u001b[39m) at /Applications/Julia-1.7.app/Contents/Resources/julia/share/julia/base/gmp.jl:535\n",
      "\u001b[0m  ..."
     ]
    }
   ],
   "source": [
    "try \n",
    "    2 + a\n",
    "catch e\n",
    "    showerror(stdout, e)\n",
    "end"
   ]
  },
  {
   "cell_type": "markdown",
   "id": "19a26f0f",
   "metadata": {},
   "source": [
    "ni unaire !"
   ]
  },
  {
   "cell_type": "code",
   "execution_count": 40,
   "id": "2b52f298",
   "metadata": {},
   "outputs": [
    {
     "name": "stdout",
     "output_type": "stream",
     "text": [
      "MethodError: no method matching -(::Grid1d)\n",
      "\u001b[0mClosest candidates are:\n",
      "\u001b[0m  -(\u001b[91m::Union{Int128, Int16, Int32, Int64, Int8, UInt128, UInt16, UInt32, UInt64, UInt8}\u001b[39m) at /Applications/Julia-1.7.app/Contents/Resources/julia/share/julia/base/int.jl:85\n",
      "\u001b[0m  -(\u001b[91m::T\u001b[39m, \u001b[91m::T\u001b[39m) where T<:Union{Int128, Int16, Int32, Int64, Int8, UInt128, UInt16, UInt32, UInt64, UInt8} at /Applications/Julia-1.7.app/Contents/Resources/julia/share/julia/base/int.jl:86\n",
      "\u001b[0m  -(\u001b[91m::Union{UInt16, UInt32, UInt64, UInt8}\u001b[39m, \u001b[91m::BigInt\u001b[39m) at /Applications/Julia-1.7.app/Contents/Resources/julia/share/julia/base/gmp.jl:532\n",
      "\u001b[0m  ..."
     ]
    }
   ],
   "source": [
    "try \n",
    "    -a\n",
    "catch e\n",
    "    showerror(stdout, e)\n",
    "end "
   ]
  },
  {
   "cell_type": "markdown",
   "id": "91612a32",
   "metadata": {},
   "source": [
    "Notez le message d'erreur qui est très claire !"
   ]
  },
  {
   "cell_type": "code",
   "execution_count": 41,
   "id": "3bfa8122",
   "metadata": {},
   "outputs": [
    {
     "name": "stdout",
     "output_type": "stream",
     "text": [
      "MethodError: no method matching +(::Grid1d, ::Vector{Int64})\n",
      "\u001b[0mClosest candidates are:\n",
      "\u001b[0m  +(::Any, ::Any, \u001b[91m::Any\u001b[39m, \u001b[91m::Any...\u001b[39m) at /Applications/Julia-1.7.app/Contents/Resources/julia/share/julia/base/operators.jl:655\n",
      "\u001b[0m  +(\u001b[91m::SparseArrays.AbstractSparseMatrixCSC\u001b[39m, ::Array) at /Applications/Julia-1.7.app/Contents/Resources/julia/share/julia/stdlib/v1.7/SparseArrays/src/sparsematrix.jl:1774\n",
      "\u001b[0m  +(\u001b[91m::Array\u001b[39m, ::Array...) at /Applications/Julia-1.7.app/Contents/Resources/julia/share/julia/base/arraymath.jl:43\n",
      "\u001b[0m  ..."
     ]
    }
   ],
   "source": [
    "try\n",
    "    a+[1,2]\n",
    "catch e\n",
    "    showerror(stdout, e)\n",
    "end "
   ]
  },
  {
   "cell_type": "markdown",
   "id": "6e5aa97d",
   "metadata": {},
   "source": [
    "## Autres surcharges\n",
    "\n",
    "Toutes les fonctions usuelles sont surchargeable sans limite : size(); det() ..."
   ]
  },
  {
   "cell_type": "code",
   "execution_count": 42,
   "id": "403f577c",
   "metadata": {},
   "outputs": [],
   "source": [
    "function Base.size(g::AbstractGrid)\n",
    "    return g.n\n",
    "end"
   ]
  },
  {
   "cell_type": "code",
   "execution_count": 43,
   "id": "c991ca07",
   "metadata": {},
   "outputs": [
    {
     "data": {
      "text/plain": [
       "5"
      ]
     },
     "execution_count": 43,
     "metadata": {},
     "output_type": "execute_result"
    }
   ],
   "source": [
    "size(a)"
   ]
  },
  {
   "cell_type": "code",
   "execution_count": 44,
   "id": "2ee2d22e",
   "metadata": {},
   "outputs": [],
   "source": [
    "using LinearAlgebra\n",
    "\n",
    "function LinearAlgebra.det(g::Grid1d)\n",
    "    g.fin-g.debut\n",
    "end "
   ]
  },
  {
   "cell_type": "code",
   "execution_count": 45,
   "id": "e216976d",
   "metadata": {},
   "outputs": [
    {
     "data": {
      "text/plain": [
       "1.0"
      ]
     },
     "execution_count": 45,
     "metadata": {},
     "output_type": "execute_result"
    }
   ],
   "source": [
    "det(a)"
   ]
  },
  {
   "cell_type": "markdown",
   "id": "f3242f19",
   "metadata": {},
   "source": [
    "# Type et constructeurs\n",
    "\n",
    "Chaque langage \"objet\" définit un constructeur pour ces objets. Nous avons déjà utilisé un constructeur générique qui rempli chaque champ du nouveau type. Il est possible de faire une variante suivant le nombre d'arguments d'entrée et de leur type "
   ]
  },
  {
   "cell_type": "code",
   "execution_count": 46,
   "id": "4d2a7bf3",
   "metadata": {},
   "outputs": [],
   "source": [
    "abstract type AbstractGrid end # juste en dessous de Any\n",
    "\n",
    "struct Grid1D <: AbstractGrid\n",
    "    debut::Float64\n",
    "    fin::Float64\n",
    "    n::Int32\n",
    "    \n",
    "    # constructeurs par défaut sans argument\n",
    "    function Grid1D()\n",
    "        new(0,0,0)\n",
    "    end\n",
    "    \n",
    "    # constructeurs par défaut avec argument\n",
    "    function Grid1D(a,b,c)\n",
    "        c <= 0 && @error(\"pas possible\")\n",
    "        new(a,b,c)\n",
    "    end\n",
    "end"
   ]
  },
  {
   "cell_type": "code",
   "execution_count": 48,
   "id": "38f88513",
   "metadata": {},
   "outputs": [
    {
     "name": "stderr",
     "output_type": "stream",
     "text": [
      "┌ Error: pas possible\n",
      "└ @ Main In[46]:15\n"
     ]
    },
    {
     "data": {
      "text/plain": [
       "Grid1D(0.0, 1.0, -1)"
      ]
     },
     "execution_count": 48,
     "metadata": {},
     "output_type": "execute_result"
    }
   ],
   "source": [
    "b = Grid1D(0, 1, -1)"
   ]
  },
  {
   "cell_type": "markdown",
   "id": "6cd65e88",
   "metadata": {},
   "source": [
    "Il devient possible de déterminer un constructeurs pour différentes entrées.\n",
    "\n",
    "Il faut au préalable bien penser sa hiérarchie de type et écrire autant de fonctions constructeurs que de cas d'initialisation du nouveau type."
   ]
  },
  {
   "cell_type": "markdown",
   "id": "aa38b59a",
   "metadata": {},
   "source": [
    "# Les Itérateurs\n",
    "\n",
    "Il est possible sur un type nouveau de définir un itérateur, comme ici de parcourir les points de la grille, définissons (surchargeons) de nouvelles fonctions ou plutôt méthodes : "
   ]
  },
  {
   "cell_type": "code",
   "execution_count": 50,
   "id": "255a9cf7",
   "metadata": {},
   "outputs": [],
   "source": [
    "Base.iterate(g::Grid1D, state=g.debut) = begin\n",
    "   state > g.fin ? nothing : (state, state+(g.fin-g.debut)/g.n)\n",
    "end"
   ]
  },
  {
   "cell_type": "code",
   "execution_count": 49,
   "id": "5c8b8793",
   "metadata": {},
   "outputs": [
    {
     "data": {
      "text/plain": [
       "Grid1D(0.0, 2.0, 10)"
      ]
     },
     "execution_count": 49,
     "metadata": {},
     "output_type": "execute_result"
    }
   ],
   "source": [
    "grid = Grid1D(0, 2 , 10)"
   ]
  },
  {
   "cell_type": "code",
   "execution_count": 51,
   "id": "aea3d1ee",
   "metadata": {},
   "outputs": [
    {
     "name": "stdout",
     "output_type": "stream",
     "text": [
      "0.0\n",
      "0.2\n",
      "0.4\n",
      "0.6000000000000001\n",
      "0.8\n",
      "1.0\n",
      "1.2\n",
      "1.4\n",
      "1.5999999999999999\n",
      "1.7999999999999998\n",
      "1.9999999999999998\n"
     ]
    }
   ],
   "source": [
    "for x in grid\n",
    "    println(x)\n",
    "end"
   ]
  },
  {
   "cell_type": "markdown",
   "id": "f771b42c",
   "metadata": {},
   "source": [
    "Il devient possible de construire des itérateurs sur une grille 2d, 3d renvoyant les coordonnées des points de la grille... Mais on peut imaginer sur une triangulation etc... "
   ]
  }
 ],
 "metadata": {
  "jupytext": {
   "cell_metadata_filter": "title,-all",
   "main_language": "julia",
   "notebook_metadata_filter": "-all"
  },
  "kernelspec": {
   "display_name": "Julia 1.7.2",
   "language": "julia",
   "name": "julia-1.7"
  },
  "language_info": {
   "file_extension": ".jl",
   "mimetype": "application/julia",
   "name": "julia",
   "version": "1.7.2"
  }
 },
 "nbformat": 4,
 "nbformat_minor": 5
}
