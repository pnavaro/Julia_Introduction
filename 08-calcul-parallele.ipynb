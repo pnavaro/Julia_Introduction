{
 "cells": [
  {
   "cell_type": "markdown",
   "id": "ef8d82cd",
   "metadata": {},
   "source": [
    "# Calcul parallèle\n",
    "\n",
    "*Julia* permet nativement le calcul parallèle plus précisément le calcul parallèle à mémoire partagée ou distribuée.\n",
    "\n",
    "Le document référence officiel : https://docs.julialang.org/en/v1/manual/parallel-computing/"
   ]
  },
  {
   "cell_type": "code",
   "execution_count": null,
   "id": "dbb34a76",
   "metadata": {},
   "outputs": [],
   "source": [
    "using Plots"
   ]
  },
  {
   "cell_type": "markdown",
   "id": "e66bc374",
   "metadata": {},
   "source": [
    "En tout premier lieu on peut lancer une instance de *Julia* avec plusieurs processeurs (ou plusieurs instances de *Julia*) à l'aide de la commande shell\n",
    "\n",
    "julia -p 4\n",
    "\n",
    "Avec cette option le package `Distributed` est automatiquement importé.\n",
    "\n",
    "Autrement on peut à la volée ajouter/enlever des processeurs ou plutôt workers à l'aide des commandes <code>addproc()</code> <code>rmproc()</code> et <code>worker()</code> ainsi que les commandes <code>nprocs</code> et <code>nworker</code> "
   ]
  },
  {
   "cell_type": "code",
   "execution_count": null,
   "id": "a3a7a7e0",
   "metadata": {},
   "outputs": [],
   "source": [
    "using Distributed\n",
    "workers() # par défaut un worker le \"maitre\""
   ]
  },
  {
   "cell_type": "code",
   "execution_count": null,
   "id": "fb4c5a54",
   "metadata": {},
   "outputs": [],
   "source": [
    "addprocs(2) #ajout de 2 workers"
   ]
  },
  {
   "cell_type": "code",
   "execution_count": null,
   "id": "c0877f4c",
   "metadata": {},
   "outputs": [],
   "source": [
    "workers() # le processeur 1 n'est plus worker il est devenu master"
   ]
  },
  {
   "cell_type": "markdown",
   "id": "8fa7c78c",
   "metadata": {},
   "source": [
    "# Parallélisation avec Distributed\n",
    "\n",
    "*Julia* offre une façon simple de programmer des processus asynchrones à l'aide de fonction `pmap` et la macro @spawnat"
   ]
  },
  {
   "cell_type": "code",
   "execution_count": null,
   "id": "3a06b0e4",
   "metadata": {},
   "outputs": [],
   "source": [
    "@everywhere begin  # la fonction slow_add est définit sur tous les processus\n",
    "    function slow_add( x )\n",
    "        sleep(1)\n",
    "        x + 1\n",
    "     end\n",
    "end\n",
    "\n",
    "@elapsed results = [slow_add(x) for x in 1:8]"
   ]
  },
  {
   "cell_type": "code",
   "execution_count": null,
   "id": "ce6f358a",
   "metadata": {},
   "outputs": [],
   "source": [
    "results"
   ]
  },
  {
   "cell_type": "code",
   "execution_count": null,
   "id": "ff960f9a",
   "metadata": {},
   "outputs": [],
   "source": [
    "@elapsed results = pmap(slow_add, 1:8 )"
   ]
  },
  {
   "cell_type": "code",
   "execution_count": null,
   "id": "a3c2b0e2",
   "metadata": {},
   "outputs": [],
   "source": [
    "futures = []\n",
    "for x in 1:8\n",
    "    future = @spawnat :any slow_add(x)  # remplacez :any par un id pour exécuter \n",
    "    push!(futures, future)              # sur un processus particulier\n",
    "end"
   ]
  },
  {
   "cell_type": "code",
   "execution_count": null,
   "id": "850c6273",
   "metadata": {},
   "outputs": [],
   "source": [
    "@elapsed results = [fetch(f) for f in futures] # les futures ont déjà été exécutées"
   ]
  },
  {
   "cell_type": "code",
   "execution_count": null,
   "id": "635edca9",
   "metadata": {},
   "outputs": [],
   "source": [
    "results"
   ]
  },
  {
   "cell_type": "markdown",
   "id": "f411cb59",
   "metadata": {},
   "source": [
    "Regardons plus exactement la répartition du calcul pour cela utilisons un tableau partagé <code>SharedArray</code> (voir également <code>SharedMatrix</code>, <code>SharedVector</code>). Autrement dit un tableau qui sera accessible en lecture et en écriture pour chaque worker (et le master)."
   ]
  },
  {
   "cell_type": "code",
   "execution_count": null,
   "id": "402635f2",
   "metadata": {},
   "outputs": [],
   "source": [
    "using SharedArrays"
   ]
  },
  {
   "cell_type": "code",
   "execution_count": null,
   "id": "62f9fb97",
   "metadata": {},
   "outputs": [],
   "source": [
    "taille=7\n",
    "a = SharedArray{Int}(1,taille) # Tableau partagé\n",
    "@distributed for i=1:taille\n",
    "    a[i]=myid() # renvoie le numéro du worker stocké dans a\n",
    "end"
   ]
  },
  {
   "cell_type": "code",
   "execution_count": null,
   "id": "75c77908",
   "metadata": {},
   "outputs": [],
   "source": [
    "a"
   ]
  },
  {
   "cell_type": "markdown",
   "id": "f248f194",
   "metadata": {},
   "source": [
    "La boucle à été partagée et envoyée pour $i=1:4$ sur le worker 2 et pour $i=5:7$ sur le worker 3.\n",
    "\n",
    "Regardons si nous n'avions pas utilisé de tableau partagé"
   ]
  },
  {
   "cell_type": "code",
   "execution_count": null,
   "id": "1a56b5eb",
   "metadata": {},
   "outputs": [],
   "source": [
    "taille=7\n",
    "a = zeros(taille) # Tableau non partagé il est ici en local myid()==1\n",
    "@sync @distributed for i=1:taille\n",
    "    a[i]=myid() # renvoie le numéro du worker\n",
    "    println(a)\n",
    "end"
   ]
  },
  {
   "cell_type": "markdown",
   "id": "bb423b58",
   "metadata": {},
   "source": [
    "On peut voire que localement les workers ont accès à une copie de <code>a</code> dont ils peuvent modifier les valeurs \"localement\". \n",
    "\n",
    "Par contre"
   ]
  },
  {
   "cell_type": "code",
   "execution_count": null,
   "id": "a02a6c0b",
   "metadata": {},
   "outputs": [],
   "source": [
    "println(a)"
   ]
  },
  {
   "cell_type": "markdown",
   "id": "75e765c9",
   "metadata": {},
   "source": [
    "la valeur sur master n'a pas été modifiée. Autrement dit chaque worker a utilisé une copie locale de a, localement modifiable mais une fois l'exécution terminée cette copie est effacée."
   ]
  },
  {
   "cell_type": "code",
   "execution_count": null,
   "id": "f4db3b6d",
   "metadata": {},
   "outputs": [],
   "source": [
    "a = ones(taille)\n",
    "@sync begin\n",
    "    @distributed for i=1:2\n",
    "        println(a) # nouvelle copie locale\n",
    "    end\n",
    "end"
   ]
  },
  {
   "cell_type": "markdown",
   "id": "d6108eed",
   "metadata": {},
   "source": [
    "# Application Bassin d'attraction de Newton :\n",
    "\n",
    "Plaçons nous sur un exemple de calcul de bassin d'attraction de Newton\n",
    "\n",
    "## premier calcul mono-processeur (temps de référence)"
   ]
  },
  {
   "cell_type": "code",
   "execution_count": null,
   "id": "1180c71c",
   "metadata": {},
   "outputs": [],
   "source": [
    "using LinearAlgebra    # Pour la fonction `norm`\n",
    "\" Algorithme de Newton \"\n",
    "function newton(x0,f,df,epsi)\n",
    "    k=0\n",
    "    x=x0\n",
    "    xnew=x-df(x)\\f(x)\n",
    "    while (norm(x-xnew)>epsi)&(k<1000)\n",
    "        x=xnew\n",
    "        xnew=x-df(x)\\f(x)\n",
    "    end\n",
    "    return xnew\n",
    "end"
   ]
  },
  {
   "cell_type": "code",
   "execution_count": null,
   "id": "6699e167",
   "metadata": {},
   "outputs": [],
   "source": [
    "# fonction f(x)=0 à résoudre ici z=x+iy et f(z)=z^3-1\n",
    "f(x)=[x[1]^3-3*x[1]*x[2]^2-1,3*x[1]^2*x[2]-x[2]^3]\n",
    "# le jacobien de f\n",
    "df(x)=[3*x[1]^2-3*x[2]^2 -6*x[1]*x[2];6*x[1]*x[2] 3*x[1]^2-3*x[2]^2]\n",
    "\n",
    "\"\"\"\n",
    "Calcul du bassin si on converge vers la Ieme racine suivant le point de départ\n",
    "\"\"\"\n",
    "function calc_bassin(f,df,n)\n",
    "    x=LinRange(-1,1,n);\n",
    "    y=LinRange(-1,1,n);\n",
    "    Imag=zeros(n,n);\n",
    "    for i=1:n\n",
    "        for j=1:n\n",
    "            r=newton([x[i],y[n-j+1]],f,df,1e-10)\n",
    "            Imag[j,i]=(round(atan(r[2],r[1])*3/pi)+3)%3;\n",
    "        end\n",
    "    end\n",
    "    return Imag\n",
    "end"
   ]
  },
  {
   "cell_type": "code",
   "execution_count": null,
   "id": "60c66143",
   "metadata": {},
   "outputs": [],
   "source": [
    "Imag = calc_bassin(f,df,4); # pour la compilation\n",
    "n = 1024 # un deuxième appel est plus rapide\n",
    "@time Imag = calc_bassin(f,df,n); "
   ]
  },
  {
   "cell_type": "code",
   "execution_count": null,
   "id": "53956397",
   "metadata": {},
   "outputs": [],
   "source": [
    "contourf(LinRange(-1,1,n),LinRange(-1,1,n),Imag, \n",
    "    aspect_ratio = :equal)"
   ]
  },
  {
   "cell_type": "markdown",
   "id": "0054d7d9",
   "metadata": {},
   "source": [
    "## Newton en parallèle"
   ]
  },
  {
   "cell_type": "code",
   "execution_count": null,
   "id": "0b4a6d62",
   "metadata": {},
   "outputs": [],
   "source": [
    "using Distributed, SharedArrays\n",
    "\n",
    "addprocs(2) # on ajoute 2 processeurs"
   ]
  },
  {
   "cell_type": "code",
   "execution_count": null,
   "id": "674ba792",
   "metadata": {},
   "outputs": [],
   "source": [
    "workers()"
   ]
  },
  {
   "cell_type": "markdown",
   "id": "8e402c1b",
   "metadata": {},
   "source": [
    "Dans un premier temps on redéfinit les fonctions `newton`, `f` et `df` pour tous les workers à l'aide de la macro @everywhere"
   ]
  },
  {
   "cell_type": "code",
   "execution_count": null,
   "id": "c07afd4f",
   "metadata": {},
   "outputs": [],
   "source": [
    "@everywhere using LinearAlgebra\n",
    "\n",
    "# algorithme de Newton\n",
    "@everywhere function newton(x0,f,df,epsi)\n",
    "    k=0;\n",
    "    x=x0;\n",
    "    xnew=x-df(x)\\f(x);\n",
    "    while (norm(x-xnew)>epsi)&(k<1000)\n",
    "        x=xnew\n",
    "        xnew=x-df(x)\\f(x);\n",
    "    end\n",
    "    return xnew\n",
    "end\n",
    "# fonction f(x)=0 à résoudre ici z=x+iy et f(z)=z^3-1\n",
    "@everywhere f(x)=[x[1]^3-3*x[1]*x[2]^2-1,3*x[1]^2*x[2]-x[2]^3]\n",
    "# le jacobien de f\n",
    "@everywhere df(x)=[3*x[1]^2-3*x[2]^2 -6*x[1]*x[2];6*x[1]*x[2] 3*x[1]^2-3*x[2]^2]\n",
    "# Calcul du bassin si on converge vers la Ieme racine suivant le point de départ"
   ]
  },
  {
   "cell_type": "markdown",
   "id": "12390e67",
   "metadata": {},
   "source": [
    "Puis on uitlise <code>@parallel</code> dans la boucle extérieure ainsi que <code>@sync</code> pour resynchroniser les process autrement attendre que tous les workers aient fini leurs calculs "
   ]
  },
  {
   "cell_type": "code",
   "execution_count": null,
   "id": "a4cb5951",
   "metadata": {},
   "outputs": [],
   "source": [
    "function calc_bassin_distributed(f,df,n)\n",
    "    x = LinRange(-1,1,n);\n",
    "    y = LinRange(-1,1,n);\n",
    "    Imag = SharedArray{Int}(n,n);\n",
    "    @sync begin\n",
    "        @distributed for i=1:n\n",
    "             for j=1:n\n",
    "                r=newton([x[i],y[n-j+1]],f,df,1e-10)\n",
    "                Imag[j,i]=(round(atan(r[2],r[1])*3/pi)+3)%3;\n",
    "            end\n",
    "        end\n",
    "    end\n",
    "    return Imag\n",
    "end"
   ]
  },
  {
   "cell_type": "code",
   "execution_count": null,
   "id": "009c0ff1",
   "metadata": {},
   "outputs": [],
   "source": [
    "n = 1024 # pour efficacité il faut relancer 2 fois\n",
    "@time Imag = calc_bassin_distributed(f,df,n); "
   ]
  },
  {
   "cell_type": "code",
   "execution_count": null,
   "id": "d06674b8",
   "metadata": {},
   "outputs": [],
   "source": [
    "contourf(LinRange(-1,1,n),LinRange(-1,1,n),Imag,\n",
    "    aspect_ratio = :equal)\n"
   ]
  },
  {
   "cell_type": "markdown",
   "id": "b6824e51",
   "metadata": {},
   "source": [
    "# Encore plus de //\n",
    "\n",
    "On a utilisé les macros <code>@everywhere</code> <code>@distributed</code> <code>@sync</code>\n",
    "regardons \n",
    "\n",
    "* <code>remotecall</code> appel asynchrone (n'attends pas le résultat dit appel non bloquant)\n",
    "* <code>fetch</code> récupère le résultat (synchronise)\n",
    "* <code>remotecall_fetch</code> les 2 commandes précédentes réunies ou appel bloquant (tant que le résultat n'est pas calculé la fonction ne rend pas la main.\n",
    "* <code>remotecall_wait</code> appel bloquant attend la fin de l'éxacution.\n",
    "* <code>@async</code> exécute le bloc en mode asynchrone.\n",
    "* <code>@spawn</code> et <code>@spawnat</code> macros pour <code>remotecall</code>"
   ]
  },
  {
   "cell_type": "code",
   "execution_count": null,
   "id": "caeabd84",
   "metadata": {},
   "outputs": [],
   "source": [
    "for proc=workers()\n",
    "    println(remotecall_fetch(myid, proc)) # demande l'exécution de myid() sur chaque proc\n",
    "end"
   ]
  },
  {
   "cell_type": "code",
   "execution_count": null,
   "id": "038e7014",
   "metadata": {},
   "outputs": [],
   "source": [
    "data=zeros(nworkers())\n",
    "for (i,w) in enumerate(workers())\n",
    "    data[i]=remotecall_fetch(myid, w)\n",
    "end\n",
    "data # data contient les numéros des workers  "
   ]
  },
  {
   "cell_type": "code",
   "execution_count": null,
   "id": "6074ce85",
   "metadata": {},
   "outputs": [],
   "source": [
    "for i=1:10\n",
    "    r = @spawn myid() \n",
    "    println(\"process: $(r.where) int: $(fetch(r))\")  \n",
    "end  "
   ]
  },
  {
   "cell_type": "markdown",
   "id": "d1a2a3f0",
   "metadata": {},
   "source": [
    "## Newton parallel 2\n",
    "\n",
    "Reprenons notre algorithme de calcul de bassin"
   ]
  },
  {
   "cell_type": "code",
   "execution_count": null,
   "id": "aff52637",
   "metadata": {},
   "outputs": [],
   "source": [
    "# Calcul du bassin si on converge vers la Ieme racine suivant le point de départ\n",
    "function calc_bassin_async(f,df,n)\n",
    "    x=LinRange(-1,1,n);\n",
    "    y=LinRange(-1,1,n);\n",
    "    Imag=zeros(n,n);\n",
    "    k=0\n",
    "    wo=workers()\n",
    "    nw=nworkers()\n",
    "    @sync begin\n",
    "        for i=1:n\n",
    "            for j=1:n\n",
    "                @async begin    # lancement asynchrone      \n",
    "                    k=k+1\n",
    "                    wk=wo[k%nw+1] # worker suivant\n",
    "                    r = @spawnat :any newton([x[i],y[n-j+1]],f,df,1e-10)\n",
    "                    Imag[j,i]=(round(atan(r[2],r[1])*3/pi)+3)%3;\n",
    "            end # ens @async\n",
    "            end\n",
    "        end     \n",
    "    end # end @sync\n",
    "    return Imag\n",
    "end"
   ]
  },
  {
   "cell_type": "code",
   "execution_count": null,
   "id": "e6dedf89",
   "metadata": {},
   "outputs": [],
   "source": [
    "n=32 # efficacité pas très grande voir catastrophique !\n",
    "@time Imag=calc_bassin_async(f,df,n); "
   ]
  },
  {
   "cell_type": "markdown",
   "id": "d83c2bfe",
   "metadata": {},
   "source": [
    "On peut voir que le code n'est pas très efficace on perd beaucoup de temps en communication on fait trop d'appels aux workers ($n^2$).\n",
    "\n",
    "Changeons de principe et divisons la tache en nombre de workers :"
   ]
  },
  {
   "cell_type": "code",
   "execution_count": null,
   "id": "666191b2",
   "metadata": {},
   "outputs": [],
   "source": [
    "# résoltion d'un block du probleme du bassin de Newtown\n",
    "@everywhere function calc_block(f,df,x,y)\n",
    "    n=length(x)\n",
    "    m=length(y)\n",
    "    Imag=zeros(m,n)\n",
    "    for i=1:n\n",
    "        for j=1:m\n",
    "            @inbounds r=newton([x[i],y[m-j+1]],f,df,1e-10)\n",
    "            @inbounds Imag[j,i]=(round(atan(r[2],r[1])*3/pi)+3)%3;\n",
    "        end\n",
    "    end\n",
    "    return Imag\n",
    "end"
   ]
  },
  {
   "cell_type": "code",
   "execution_count": null,
   "id": "1460a796",
   "metadata": {},
   "outputs": [],
   "source": [
    "function calc_bassin_parallel(f,df,n)\n",
    "    x=LinRange(-1,1,n)\n",
    "    y=LinRange(1,-1,n)\n",
    "    Imag=zeros(n,n)\n",
    "    \n",
    "    # permet la répartition du travail\n",
    "    wo=workers()\n",
    "    nw=nworkers()\n",
    "    parts = Iterators.partition(1:n, n ÷ nw)\n",
    "    \n",
    "    @sync for (i,part) in enumerate(parts) # répartition sur tous les workers\n",
    "        @async begin  \n",
    "            Imag[:,part] .=\n",
    "                remotecall_fetch(calc_block, wo[i], f,df,x[part],y)\n",
    "            end # end @async\n",
    "    end     \n",
    "    return Imag\n",
    "end"
   ]
  },
  {
   "cell_type": "code",
   "execution_count": null,
   "id": "5c7d1e4c",
   "metadata": {},
   "outputs": [],
   "source": [
    "n=1024 # efficacité correcte \n",
    "@time Imag=calc_bassin_parallel(f,df,n); "
   ]
  },
  {
   "cell_type": "code",
   "execution_count": null,
   "id": "3287ec5e",
   "metadata": {},
   "outputs": [],
   "source": [
    "contourf(LinRange(-1,1,n),LinRange(-1,1,n),Imag, aspect_ratio = :equal)"
   ]
  },
  {
   "cell_type": "markdown",
   "id": "15f7dd47",
   "metadata": {},
   "source": [
    "En diminuant le nombre d'appels on à retrouver une efficacité de l'ordre de 88% $\\left(\\dfrac{T_{ref}}{T_{multiproc} * nbproc}\\right)$ comme avec la macro <code>@parallel</code> précédente."
   ]
  },
  {
   "cell_type": "code",
   "execution_count": null,
   "id": "b7fdc2a9",
   "metadata": {},
   "outputs": [],
   "source": [
    "rmprocs(workers())\n",
    "nworkers()"
   ]
  },
  {
   "cell_type": "markdown",
   "id": "3a483edc",
   "metadata": {},
   "source": [
    "# Threads\n",
    "\n",
    "Lisez ce [billet de blog](https://julialang.org/blog/2019/07/multithreading/) pour une présentation des fonctionnalités multi-threading de Julia."
   ]
  },
  {
   "cell_type": "markdown",
   "id": "53f2c909",
   "metadata": {},
   "source": [
    "Par défaut Julia n'utilise qu'un seul thread. Pour le démarrer avec plusieurs threads nous devons le lui dire explicitement :\n",
    "\n",
    "```julia\n",
    "using IJulia\n",
    "installkernel(\"Julia (4 threads)\", \"--project=@.\", env=Dict(\"JULIA_NUM_THREADS\"=>\"4\"))\n",
    "```\n",
    "\n",
    "Note : Changer manuellement dans le menu \"Kernel\" pour chaque nouvelle version de Julia et vous devez recharger votre navigateur pour voir un effet.\n",
    "\n",
    "Pour vérifier que cela a fonctionné :"
   ]
  },
  {
   "cell_type": "code",
   "execution_count": null,
   "id": "e0f055fb",
   "metadata": {},
   "outputs": [],
   "source": [
    "import Base.Threads\n",
    "using LinearAlgebra\n",
    "\n",
    "Threads.nthreads()"
   ]
  },
  {
   "cell_type": "code",
   "execution_count": null,
   "id": "b3d01193",
   "metadata": {},
   "outputs": [],
   "source": [
    "@elapsed begin\n",
    "    Threads.@threads for i in 1:Threads.nthreads()\n",
    "        sleep(1)\n",
    "        println(\" Bonjour du thread $(Threads.threadid())\")\n",
    "    end\n",
    "end"
   ]
  },
  {
   "cell_type": "code",
   "execution_count": null,
   "id": "41d5b05e",
   "metadata": {},
   "outputs": [],
   "source": [
    "function slow_add(x, y)\n",
    "    sleep(1)\n",
    "    x + y\n",
    "end\n",
    "\n",
    "v = 1:8\n",
    "w = zero(v)\n",
    "\n",
    "etime = @elapsed begin\n",
    "    Threads.@threads for i in eachindex(v)\n",
    "        w[i] = slow_add( v[i], v[i])\n",
    "    end\n",
    "end\n",
    "\n",
    "etime, w"
   ]
  },
  {
   "cell_type": "markdown",
   "id": "7c26d8a2",
   "metadata": {},
   "source": [
    "Je reprends l'exemple ci-dessus de la fractale et je parallélise avec la mémoire partagée."
   ]
  },
  {
   "cell_type": "code",
   "execution_count": null,
   "id": "eec3a879",
   "metadata": {},
   "outputs": [],
   "source": [
    "function newton(x0,f,df,epsi)\n",
    "    k=0\n",
    "    x=x0\n",
    "    xnew=x-df(x)\\f(x)\n",
    "    while (norm(x-xnew)>epsi)&(k<1000)\n",
    "        x=xnew\n",
    "        xnew=x-df(x)\\f(x)\n",
    "    end\n",
    "    return xnew\n",
    "end\n",
    "\n",
    "# fonction f(x)=0 à résoudre ici z=x+iy et f(z)=z^3-1\n",
    "f(x)=[x[1]^3-3*x[1]*x[2]^2-1,3*x[1]^2*x[2]-x[2]^3]\n",
    "# le jacobien de f\n",
    "df(x)=[3*x[1]^2-3*x[2]^2 -6*x[1]*x[2];6*x[1]*x[2] 3*x[1]^2-3*x[2]^2]\n",
    "\n",
    "# Calcul du bassin si on converge vers la Ieme racine suivant le point de départ\n",
    "function calc_bassin_threads(f,df,n)\n",
    "    x = LinRange(-1,1,n)\n",
    "    y = LinRange(-1,1,n)\n",
    "    Imag=zeros(n,n)\n",
    "    nt = Threads.nthreads()\n",
    "    parts = Iterators.partition( 1:n, n ÷ nt)\n",
    "    Threads.@sync for part in parts\n",
    "        Threads.@spawn begin\n",
    "            println(\" Thread $(Threads.threadid()) : $part \")\n",
    "            for i in part\n",
    "                for j=1:n\n",
    "                    @inbounds r = newton([x[i],y[n-j+1]],f,df,1e-10)\n",
    "                    @inbounds Imag[j,i]=(round(atan(r[2],r[1])*3/pi)+3)%3;\n",
    "                end\n",
    "            end\n",
    "        end\n",
    "    end\n",
    "    return Imag\n",
    "end"
   ]
  },
  {
   "cell_type": "code",
   "execution_count": null,
   "id": "a66672e0",
   "metadata": {},
   "outputs": [],
   "source": [
    "n=1024 # un deuxième appel est plus rapide\n",
    "@time Imag=calc_bassin_threads(f,df,n); "
   ]
  },
  {
   "cell_type": "code",
   "execution_count": null,
   "id": "d6844c5e",
   "metadata": {},
   "outputs": [],
   "source": [
    "contourf(LinRange(-1,1,n),LinRange(-1,1,n),Imag, aspect_ratio = :equal)"
   ]
  },
  {
   "cell_type": "markdown",
   "id": "efd085b4",
   "metadata": {},
   "source": [
    "## Cas particulier des opérations de réduction parallèle"
   ]
  },
  {
   "cell_type": "markdown",
   "id": "ac651919",
   "metadata": {},
   "source": [
    "La fonction suivante permet de calculer l'histogramme de particules tirées au hasard avec une distribution normale"
   ]
  },
  {
   "cell_type": "code",
   "execution_count": null,
   "id": "78d3124e",
   "metadata": {},
   "outputs": [],
   "source": [
    "using Random, Plots\n",
    "\n",
    "const nx = 64\n",
    "const np = 100000\n",
    "const xmin = -6\n",
    "const xmax = +6\n",
    "\n",
    "\n",
    "rng = MersenneTwister(123)\n",
    "xp = randn(rng, np)\n",
    "\n",
    "function serial_deposition( xp )\n",
    "\n",
    "    Lx = xmax - xmin\n",
    "    rho = zeros(Float64, nx)\n",
    "    \n",
    "    fill!(rho, 0.0)\n",
    "\n",
    "    for i in eachindex(xp)\n",
    "        x_norm = (xp[i]-xmin) / Lx\n",
    "        ip = trunc(Int,  x_norm * nx)+1\n",
    "        rho[ip] += 1\n",
    "    end\n",
    "\n",
    "    rho\n",
    "\n",
    "end\n",
    "\n",
    "histogram(xp, bins=nx)\n",
    "plot!(LinRange(xmin, xmax, nx), serial_deposition(xp), lw = 5)\n"
   ]
  },
  {
   "cell_type": "markdown",
   "id": "5d6bb6a1",
   "metadata": {},
   "source": [
    "Si on essaye de paralléliser cette boucle, on se heurte à un problème d'accès concurrents. Chaque fil d'execution a accès à la mémoire occupée par le tableau `rho`. Lorsque deux threads accèdent à la mémoire en même temps c'est le dernier qui met à jour le tableau qui gagne et la modification faite par l'autre thread n'est pas toujours comptabilisé. Ce type d'opération de réduction n'est pas (encore) prise en charge par **Julia**."
   ]
  },
  {
   "cell_type": "code",
   "execution_count": null,
   "id": "fe4ea196",
   "metadata": {},
   "outputs": [],
   "source": [
    "function parallel_deposition_bad( xp )\n",
    "\n",
    "    Lx = xmax - xmin\n",
    "    rho = zeros(Float64, nx)\n",
    "    Threads.@threads for i in eachindex(xp)\n",
    "        x_norm = (xp[i]-xmin) / Lx\n",
    "        ip = trunc(Int,  x_norm * nx)+1\n",
    "        rho[ip] += 1\n",
    "    end\n",
    "\n",
    "    rho\n",
    "\n",
    "end\n",
    "\n",
    "histogram(xp, bins=nx)\n",
    "plot!(LinRange(xmin, xmax, nx), parallel_deposition_bad(xp), lw = 5)\n",
    "\n"
   ]
  },
  {
   "cell_type": "markdown",
   "id": "cb193db5",
   "metadata": {},
   "source": [
    "On peut résoudre ce problème en créant une version de `rho` nommée `rho_local` qui sera propre à chaque thread.\n",
    "Il suffira ensuite de sommer ces tableaux locaux pour calculer le tableau global."
   ]
  },
  {
   "cell_type": "code",
   "execution_count": null,
   "id": "2a01ff7f",
   "metadata": {},
   "outputs": [],
   "source": [
    "function parallel_deposition( xp )\n",
    "\n",
    "    Lx = xmax - xmin\n",
    "    rho = zeros(Float64, nx)\n",
    "    ntid = Threads.nthreads()\n",
    "    rho_local = [zero(rho) for _ in 1:ntid]\n",
    "    chunks = Iterators.partition(1:np, np÷ntid)\n",
    "\n",
    "    Threads.@sync for chunk in chunks\n",
    "        Threads.@spawn begin\n",
    "            tid = Threads.threadid()\n",
    "            fill!(rho_local[tid], 0.0)\n",
    "            for i in chunk\n",
    "                x_norm = (xp[i]-xmin) / Lx\n",
    "                ip = trunc(Int,  x_norm * nx)+1\n",
    "                rho_local[tid][ip] += 1\n",
    "            end\n",
    "        end\n",
    "    end\n",
    "\n",
    "    rho .= reduce(+,rho_local)\n",
    "\n",
    "    rho\n",
    "\n",
    "end\n",
    "\n",
    "histogram(xp, bins=nx)\n",
    "plot!(LinRange(xmin, xmax, nx), parallel_deposition(xp), lw = 5)\n",
    "\n",
    "\n"
   ]
  },
  {
   "cell_type": "code",
   "execution_count": null,
   "id": "70e40b3a",
   "metadata": {},
   "outputs": [],
   "source": []
  }
 ],
 "metadata": {
  "jupytext": {
   "cell_metadata_filter": "-all",
   "main_language": "julia",
   "notebook_metadata_filter": "-all"
  }
 },
 "nbformat": 4,
 "nbformat_minor": 5
}
