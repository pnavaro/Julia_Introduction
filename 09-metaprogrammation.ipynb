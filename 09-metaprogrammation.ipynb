{
 "cells": [
  {
   "cell_type": "markdown",
   "id": "23e2f9fa",
   "metadata": {},
   "source": [
    "# Metaprogrammation\n",
    "\n",
    "Définition de wikipédia : La métaprogrammation, nommée par analogie avec les métadonnées et les métaclasses, désigne l'écriture de programmes qui manipulent des données décrivant elles-mêmes des programmes. Dans le cas particulier où le programme manipule ses propres instructions pendant son exécution, on parle de programme auto-modifiant.\n",
    "\n",
    "La métaprogrammation est beaucoup utilisé dans le langage **Julia**, c'est elle qui vous donne accès à toutes ces macros commencant par `@` si pratiques. Cependant, elle est à utiliser avec précaution car il est souvent difficile de détecter des erreurs. Je conseille de l'utiliser uniquement si cela est vraiment nécessaire."
   ]
  },
  {
   "cell_type": "code",
   "execution_count": null,
   "id": "e368759d",
   "metadata": {},
   "outputs": [],
   "source": [
    "using Plots"
   ]
  },
  {
   "cell_type": "markdown",
   "id": "e474b371",
   "metadata": {},
   "source": [
    "Nous allons coder en **Julia** quelques méthodes numériques classiques pour résoudre l'équation différentielle suivante:\n",
    "\n",
    "$$\n",
    "y'(t) = 1 - y(t)\n",
    "$$\n",
    "\n",
    "$ t \\in [0,5] \\qquad \\mbox{ and } \\qquad y(0) = 0 $"
   ]
  },
  {
   "cell_type": "markdown",
   "id": "a179ba2c",
   "metadata": {},
   "source": [
    "## Euler explicite"
   ]
  },
  {
   "cell_type": "code",
   "execution_count": null,
   "id": "4dc7e5c8",
   "metadata": {},
   "outputs": [],
   "source": [
    "\"\"\"\n",
    "\n",
    "   euler(f::Function, t::Float64, y::Float64, h::Float64)\n",
    "\n",
    "explicit euler method function that returns\n",
    "\n",
    "```math\n",
    "y^{n+1} = y^n + h \\\\cdot f(t^n, y^n)\n",
    "```\n",
    "\n",
    "\"\"\"\n",
    "function euler(f::Function, t::Float64, y::Float64, h::Float64)\n",
    "    t + h, y + h * f(t,y)\n",
    "end"
   ]
  },
  {
   "cell_type": "code",
   "execution_count": null,
   "id": "5586c4bf",
   "metadata": {},
   "outputs": [],
   "source": [
    "?euler"
   ]
  },
  {
   "cell_type": "markdown",
   "id": "3190dc85",
   "metadata": {},
   "source": [
    "## Runge-Kutta d'ordre deux"
   ]
  },
  {
   "cell_type": "code",
   "execution_count": null,
   "id": "bfa47313",
   "metadata": {},
   "outputs": [],
   "source": [
    "\"\"\"\n",
    "\n",
    "   rk2(f::Function, t::Float64, y::Float64,  dt::Float64)\n",
    "\n",
    "Runge-Kutta second order method function\n",
    "\n",
    "```jldoctest\n",
    "julia> f(t,y) = 1 - y\n",
    "julia> rk2(f, 0.0, 0.0, 1.0)\n",
    "(1.0, 0.5)\n",
    "```\n",
    "\n",
    "\"\"\"\n",
    "function rk2(f::Function, t::Float64, y::Float64,  h::Float64)\n",
    "    ỹ = y + h/2 * f(t,y)\n",
    "    t + h, y + h * f(t+h/2,ỹ)\n",
    "end\n",
    "#----------------------------------------------------------------------------"
   ]
  },
  {
   "cell_type": "code",
   "execution_count": null,
   "id": "b2a54fa5",
   "metadata": {},
   "outputs": [],
   "source": [
    "?rk2"
   ]
  },
  {
   "cell_type": "markdown",
   "id": "ec3096e1",
   "metadata": {},
   "source": [
    "## Runge-Kutta d'ordre quatre"
   ]
  },
  {
   "cell_type": "code",
   "execution_count": null,
   "id": "deeb6138",
   "metadata": {},
   "outputs": [],
   "source": [
    "\"\"\"\n",
    "\n",
    "   rk4(f::Function, t::Float64, y::Float64,  dt::Float64)\n",
    "\n",
    "Runge-Kutta fourth order method function\n",
    "\n",
    "[Runge–Kutta methods on Wikipedia](https://en.wikipedia.org/wiki/Runge–Kutta_methods)\n",
    "\n",
    "\"\"\"\n",
    "function rk4(f::Function, t::Float64, y::Float64,  dt::Float64)\n",
    "\n",
    "    y₁ = dt * f(t,y)\n",
    "    y₂ = dt * f(t+dt/2,y+y₁/2)\n",
    "    y₃ = dt * f(t+dt/2,y+y₂/2)\n",
    "    y₄ = dt * f(t+dt,y+y₃)\n",
    "\n",
    "    t+dt, y+(y₁+2*y₂+2*y₃+y₄)/6\n",
    "\n",
    "end\n"
   ]
  },
  {
   "cell_type": "code",
   "execution_count": null,
   "id": "87f95cbf",
   "metadata": {},
   "outputs": [],
   "source": [
    "?rk4"
   ]
  },
  {
   "cell_type": "markdown",
   "id": "88d8645c",
   "metadata": {},
   "source": [
    "## Fonction solveur\n",
    "\n",
    "Voici une fonction  permettant de résoudre l'équation différentielle avec la méthode numérique utilisée en paramètre."
   ]
  },
  {
   "cell_type": "code",
   "execution_count": null,
   "id": "085d6ec1",
   "metadata": {},
   "outputs": [],
   "source": [
    "\"\"\"\n",
    "\n",
    "    solver(f::Function, Method::Function, t₀::Float64,\n",
    "                y₀::Float64, dt::Float64, nsteps::Int64)\n",
    "\n",
    "Solve numerically the equation ``y' = f(t, y)``\n",
    "\n",
    "with `y(t₀)= y₀` and `nsteps` steps `h`\n",
    "\n",
    "## Arguments\n",
    "- `f::Function`: the function `f` of equation ``y' = f(t,y)``.\n",
    "- `Method::Function`: numerical method from (tⁿ,yⁿ) returns ``(t^{n+1},y^{n+1})``\n",
    "\n",
    "\n",
    "\"\"\"\n",
    "function solver(f::Function,\n",
    "                Method::Function,\n",
    "                t₀::Float64,\n",
    "                y₀::Float64, h::Float64, nsteps::Int64)\n",
    "\n",
    "    t = zeros(Float64,nsteps)\n",
    "    y = similar(t)\n",
    "\n",
    "    t[1] = t₀\n",
    "    y[1] = y₀\n",
    "\n",
    "    for i in 2:nsteps\n",
    "       t[i], y[i] = Method(f,t[i-1],y[i-1], h)\n",
    "    end\n",
    "\n",
    "    t, y\n",
    "\n",
    "end"
   ]
  },
  {
   "cell_type": "code",
   "execution_count": null,
   "id": "fff86abb",
   "metadata": {},
   "outputs": [],
   "source": [
    "?solver"
   ]
  },
  {
   "cell_type": "code",
   "execution_count": null,
   "id": "0c783b42",
   "metadata": {},
   "outputs": [],
   "source": [
    "nsteps, tfinal   = 7, 5.0\n",
    "t₀, x₀ = 0., 0."
   ]
  },
  {
   "cell_type": "code",
   "execution_count": null,
   "id": "3bd37d99",
   "metadata": {},
   "outputs": [],
   "source": [
    "dt = tfinal / (nsteps-1)\n",
    "f(t, x) = 1 - x"
   ]
  },
  {
   "cell_type": "code",
   "execution_count": null,
   "id": "68b138b4",
   "metadata": {},
   "outputs": [],
   "source": [
    "plot( solver(f, euler, t₀, x₀, dt, nsteps); marker = :o, label=\"euler\")\n",
    "plot!(solver(f, rk2,   t₀, x₀, dt, nsteps); marker = :d, label=\"rk2\")\n",
    "plot!(solver(f, rk4,   t₀, x₀, dt, nsteps); marker = :p, label=\"rk4\")\n",
    "t = 0:0.1:5\n",
    "plot!(t, 1 .- exp.(-t); line = 3, label = \"exact\", legend = :right)"
   ]
  },
  {
   "cell_type": "markdown",
   "id": "19e5cb0e",
   "metadata": {},
   "source": [
    "## Objet function\n",
    "\n",
    "Pour améliorer l'interface, imaginons un type `RungeKutta` capable de fournir plusieurs méthodes de ce type.\n",
    "Un schéma de Runge-Kutta peut se construire en utilisant le tableau de Butcher:\n",
    "\n",
    "$$\n",
    "\\begin{array}{c|cccc}\n",
    " c₁  &        &        &        &        \\\\\n",
    " c₂  & a_{21} &        &        &        \\\\\n",
    " c₃  & a_{31} & a_{32} &        &        \\\\\n",
    " c₄  & a_{41} & a_{42} & a_{43} &        \\\\\n",
    " \\hline\n",
    "     & b_1    & b_2    & b_3    & b_4    \\\\\n",
    "\\end{array}\n",
    "$$\n",
    "\n",
    "$$\n",
    "\\forall i = 1, \\dotsc, q, \\begin{cases}t_{n,i} &= t_n + c_i h_n, \\\\ \n",
    "y_{n,i} &= y_n + h_n \\sum_{k = 1}^{i-1} a_{ik} p_{n,k}\\\\ \n",
    "p_{n,i} &= f(t_{n,i}, y_{n,i}) \\end{cases}\n",
    "$$\n",
    "\n",
    "$$\n",
    "y_{n+1} = y_n + h_n \\sum_{k = 1}^q b_k p_{n,k}.\n",
    "$$\n"
   ]
  },
  {
   "cell_type": "code",
   "execution_count": null,
   "id": "97c2afec",
   "metadata": {},
   "outputs": [],
   "source": [
    "struct RungeKutta{T}\n",
    "    \n",
    "    q :: Int\n",
    "    a :: Array{T, 2}\n",
    "    b :: Array{T, 1}\n",
    "    c :: Array{T, 1}\n",
    "    \n",
    "    tn :: Vector{T}\n",
    "    yn :: Vector{T}\n",
    "    pn :: Vector{T}\n",
    "    \n",
    "    function RungeKutta( a::Array{T,2}, b::Vector{T}, c::Vector{T}) where T\n",
    "        \n",
    "        q = length(c)\n",
    "        @assert ( length(c) == size(a,1))\n",
    "        @assert ( length(b) == size(a,2))\n",
    "        tn = zeros(T, q)\n",
    "        yn = zeros(T, q)\n",
    "        pn = zeros(T, q)\n",
    "        new{T}( q, a, b, c, tn, yn, pn)\n",
    "        \n",
    "    end\n",
    "\n",
    "end"
   ]
  },
  {
   "cell_type": "code",
   "execution_count": null,
   "id": "ebbdd98c",
   "metadata": {},
   "outputs": [],
   "source": [
    "function (rk::RungeKutta)(f::Function, t::T, y::T,  h::T) where T\n",
    "\n",
    "    for i = 1:rk.q\n",
    "        rk.tn[i] = t + rk.c[i] * h\n",
    "        rk.yn[i] = y + h * sum([rk.a[i,k]*rk.pn[k] for k = 1:i-1])\n",
    "        rk.pn[i] = f(rk.tn[i],rk.yn[i])\n",
    "    end\n",
    "\n",
    "    t + h, y + h * sum([rk.b[k]*rk.pn[k] for k in 1:rk.q ])\n",
    "\n",
    "end"
   ]
  },
  {
   "cell_type": "code",
   "execution_count": null,
   "id": "e2be1182",
   "metadata": {},
   "outputs": [],
   "source": [
    "function solver(f::Function,\n",
    "                Method::RungeKutta,\n",
    "                t₀::T,\n",
    "                y₀::T, h::T, nsteps::Int) where T\n",
    "\n",
    "    t = zeros(T,nsteps)\n",
    "    y = similar(t)\n",
    "\n",
    "    t[1] = t₀\n",
    "    y[1] = y₀\n",
    "\n",
    "    for i in 2:nsteps\n",
    "       t[i], y[i] = Method(f,t[i-1],y[i-1], h)\n",
    "    end\n",
    "\n",
    "    t, y\n",
    "\n",
    "end"
   ]
  },
  {
   "cell_type": "code",
   "execution_count": null,
   "id": "b8920035",
   "metadata": {},
   "outputs": [],
   "source": [
    "a = BigFloat.([ 0   0   0 0; \n",
    "      1/2 0   0 0; \n",
    "      0   1/2 0 0; \n",
    "      0   0   1 0])"
   ]
  },
  {
   "cell_type": "code",
   "execution_count": null,
   "id": "7bc5ed01",
   "metadata": {},
   "outputs": [],
   "source": [
    "b = [1/6 ,1/3, 1/3, 1/6]\n",
    "c = [0   ,1/2, 1/2, 1  ]"
   ]
  },
  {
   "cell_type": "code",
   "execution_count": null,
   "id": "928ff497",
   "metadata": {},
   "outputs": [],
   "source": [
    "rk4_new = RungeKutta(a, b, c)"
   ]
  },
  {
   "cell_type": "code",
   "execution_count": null,
   "id": "0238ded6",
   "metadata": {},
   "outputs": [],
   "source": [
    "using Plots\n",
    "t = 0:0.1:5\n",
    "f(t, x) = 1 - x\n",
    "t₀, x₀ = 0., 0.\n",
    "nsteps, tfinal   = 7, 5.0\n",
    "dt = tfinal / (nsteps-1)\n",
    "plot(t, 1 .- exp.(-t),label = \"exact\", legend = :right)\n",
    "plot!(solver(f, rk4_new, t₀, x₀, dt, nsteps), marker = :o,  label=\"rk4_new\")"
   ]
  },
  {
   "cell_type": "code",
   "execution_count": null,
   "id": "f9e8241d",
   "metadata": {},
   "outputs": [],
   "source": [
    "a = [  0   0  0  0; \n",
    "     1/3   0  0  0; \n",
    "    -1/3   1  0  0; \n",
    "       1  -1  1  0]"
   ]
  },
  {
   "cell_type": "code",
   "execution_count": null,
   "id": "77bb6b37",
   "metadata": {},
   "outputs": [],
   "source": [
    "b = [1/8, 3/8, 3/8, 1/8]\n",
    "c = [0, 1/3,  2/3, 1]\n",
    "rk4_38 = RungeKutta(a, b, c)\n",
    "plot!(solver(f, rk4_38, t₀, x₀, dt, nsteps), marker = :r,  label=\"rk4_38\")"
   ]
  },
  {
   "cell_type": "markdown",
   "id": "3a98f296",
   "metadata": {},
   "source": [
    "## Metaprogrammation\n",
    "\n",
    "Voyons maintenant comment créer la fonction \"solveur\" en utilisant la métaprogrammation."
   ]
  },
  {
   "cell_type": "code",
   "execution_count": null,
   "id": "deed455c",
   "metadata": {},
   "outputs": [],
   "source": [
    "macro addition(x, y)\n",
    "    return :($x + $y)\n",
    "end"
   ]
  },
  {
   "cell_type": "code",
   "execution_count": null,
   "id": "bf48b189",
   "metadata": {},
   "outputs": [],
   "source": [
    "@add 2 3      ## ou @add(2, 3) "
   ]
  },
  {
   "cell_type": "markdown",
   "id": "a83b4700",
   "metadata": {},
   "source": [
    "Cette macro n'est pas une fonction, elle crée une expression en utilisant les deux arguments et place le symbole `+` entre les deux. Créons maintenant une macro pour calculer la valeur absolue."
   ]
  },
  {
   "cell_type": "code",
   "execution_count": null,
   "id": "7b593bcd",
   "metadata": {},
   "outputs": [],
   "source": [
    "macro abs(x)\n",
    "    return :( $x > 0 ? $x : -$x)\n",
    "end\n",
    "@abs(-2), @abs(2)"
   ]
  },
  {
   "cell_type": "markdown",
   "id": "a3a28b62",
   "metadata": {},
   "source": [
    "Pour des expressions plus longues et plus compliquées, on utilisera le mot-clé `quote`. La macro suivante va créer la fonction solveur avec la méthode numérique choisie."
   ]
  },
  {
   "cell_type": "code",
   "execution_count": null,
   "id": "9a1ba45b",
   "metadata": {},
   "outputs": [],
   "source": [
    "macro make_method( meth)\n",
    "    return quote\n",
    "        function (f::Function, t₀::T, x₀::T, dt::T, nsteps::Int64) where T\n",
    "\n",
    "            t = zeros(T,nsteps)\n",
    "            x = zeros(T,nsteps)\n",
    "\n",
    "            t[1] = t₀\n",
    "            x[1] = x₀\n",
    "\n",
    "            for i in 2:nsteps\n",
    "               t[i], x[i] = $meth(f,t[i-1],x[i-1], dt)\n",
    "            end\n",
    "\n",
    "            return t, x\n",
    "        end\n",
    "    end\n",
    "end"
   ]
  },
  {
   "cell_type": "code",
   "execution_count": null,
   "id": "5351e39a",
   "metadata": {},
   "outputs": [],
   "source": [
    "rk4_solver = @make_method rk4"
   ]
  },
  {
   "cell_type": "code",
   "execution_count": null,
   "id": "986d7456",
   "metadata": {},
   "outputs": [],
   "source": [
    "plot(rk4_solver(f, t₀, x₀, dt, nsteps))"
   ]
  }
 ],
 "metadata": {
  "jupytext": {
   "cell_metadata_filter": "-all",
   "main_language": "julia",
   "notebook_metadata_filter": "-all"
  }
 },
 "nbformat": 4,
 "nbformat_minor": 5
}
