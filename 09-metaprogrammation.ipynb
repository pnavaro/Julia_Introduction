{
 "cells": [
  {
   "cell_type": "markdown",
   "id": "23e2f9fa",
   "metadata": {},
   "source": [
    "# Metaprogrammation\n",
    "\n",
    "Définition de wikipédia : La métaprogrammation, nommée par analogie avec les métadonnées et les métaclasses, désigne l'écriture de programmes qui manipulent des données décrivant elles-mêmes des programmes. Dans le cas particulier où le programme manipule ses propres instructions pendant son exécution, on parle de programme auto-modifiant.\n",
    "\n",
    "La métaprogrammation est beaucoup utilisé dans le langage **Julia**, c'est elle qui vous donne accès à toutes ces macros commencant par `@` si pratiques. Cependant, elle est à utiliser avec précaution car il est souvent difficile de détecter des erreurs. Je conseille de l'utiliser uniquement si cela est vraiment nécessaire."
   ]
  },
  {
   "cell_type": "code",
   "execution_count": 1,
   "id": "e368759d",
   "metadata": {},
   "outputs": [],
   "source": [
    "using Plots"
   ]
  },
  {
   "cell_type": "markdown",
   "id": "e474b371",
   "metadata": {},
   "source": [
    "Nous allons coder en **Julia** quelques méthodes numériques classiques pour résoudre l'équation différentielle suivante:\n",
    "\n",
    "$$\n",
    "y'(t) = 1 - y(t)\n",
    "$$\n",
    "\n",
    "$ t \\in [0,5] \\qquad \\mbox{ and } \\qquad y(0) = 0 $"
   ]
  },
  {
   "cell_type": "markdown",
   "id": "a179ba2c",
   "metadata": {},
   "source": [
    "## Euler explicite"
   ]
  },
  {
   "cell_type": "code",
   "execution_count": 2,
   "id": "4dc7e5c8",
   "metadata": {},
   "outputs": [
    {
     "data": {
      "text/plain": [
       "euler"
      ]
     },
     "execution_count": 2,
     "metadata": {},
     "output_type": "execute_result"
    }
   ],
   "source": [
    "\"\"\"\n",
    "\n",
    "   euler(f::Function, t::Float64, y::Float64, h::Float64)\n",
    "\n",
    "explicit euler method function that returns\n",
    "\n",
    "```math\n",
    "y^{n+1} = y^n + h \\\\cdot f(t^n, y^n)\n",
    "```\n",
    "\n",
    "\"\"\"\n",
    "function euler(f::Function, t::Float64, y::Float64, h::Float64)\n",
    "    t + h, y + h * f(t,y)\n",
    "end"
   ]
  },
  {
   "cell_type": "code",
   "execution_count": 3,
   "id": "5586c4bf",
   "metadata": {},
   "outputs": [
    {
     "name": "stdout",
     "output_type": "stream",
     "text": [
      "search: \u001b[0m\u001b[1me\u001b[22m\u001b[0m\u001b[1mu\u001b[22m\u001b[0m\u001b[1ml\u001b[22m\u001b[0m\u001b[1me\u001b[22m\u001b[0m\u001b[1mr\u001b[22m sch\u001b[0m\u001b[1me\u001b[22md\u001b[0m\u001b[1mu\u001b[22m\u001b[0m\u001b[1ml\u001b[22m\u001b[0m\u001b[1me\u001b[22m Nam\u001b[0m\u001b[1me\u001b[22mdT\u001b[0m\u001b[1mu\u001b[22mp\u001b[0m\u001b[1ml\u001b[22m\u001b[0m\u001b[1me\u001b[22m promot\u001b[0m\u001b[1me\u001b[22m_r\u001b[0m\u001b[1mu\u001b[22m\u001b[0m\u001b[1ml\u001b[22m\u001b[0m\u001b[1me\u001b[22m bar\u001b[0m\u001b[1me\u001b[22mmod\u001b[0m\u001b[1mu\u001b[22m\u001b[0m\u001b[1ml\u001b[22m\u001b[0m\u001b[1me\u001b[22m @Nam\u001b[0m\u001b[1me\u001b[22mdT\u001b[0m\u001b[1mu\u001b[22mp\u001b[0m\u001b[1ml\u001b[22m\u001b[0m\u001b[1me\u001b[22m\n",
      "\n"
     ]
    },
    {
     "data": {
      "text/latex": [
       "euler(f::Function, t::Float64, y::Float64, h::Float64)\n",
       "\n",
       "explicit euler method function that returns\n",
       "\n",
       "$$y^{n+1} = y^n + h \\cdot f(t^n, y^n)$$\n"
      ],
      "text/markdown": [
       "euler(f::Function, t::Float64, y::Float64, h::Float64)\n",
       "\n",
       "explicit euler method function that returns\n",
       "\n",
       "$$\n",
       "y^{n+1} = y^n + h \\cdot f(t^n, y^n)\n",
       "$$\n"
      ],
      "text/plain": [
       "  euler(f::Function, t::Float64, y::Float64, h::Float64)\n",
       "\n",
       "  explicit euler method function that returns\n",
       "\n",
       "\u001b[35m  y^{n+1} = y^n + h \\cdot f(t^n, y^n)\u001b[39m"
      ]
     },
     "execution_count": 3,
     "metadata": {},
     "output_type": "execute_result"
    }
   ],
   "source": [
    "?euler"
   ]
  },
  {
   "cell_type": "markdown",
   "id": "3190dc85",
   "metadata": {},
   "source": [
    "## Runge-Kutta d'ordre deux"
   ]
  },
  {
   "cell_type": "code",
   "execution_count": 4,
   "id": "bfa47313",
   "metadata": {},
   "outputs": [
    {
     "data": {
      "text/plain": [
       "rk2"
      ]
     },
     "execution_count": 4,
     "metadata": {},
     "output_type": "execute_result"
    }
   ],
   "source": [
    "\"\"\"\n",
    "\n",
    "   rk2(f::Function, t::Float64, y::Float64,  dt::Float64)\n",
    "\n",
    "Runge-Kutta second order method function\n",
    "\n",
    "```jldoctest\n",
    "julia> f(t,y) = 1 - y\n",
    "julia> rk2(f, 0.0, 0.0, 1.0)\n",
    "(1.0, 0.5)\n",
    "```\n",
    "\n",
    "\"\"\"\n",
    "function rk2(f::Function, t::Float64, y::Float64,  h::Float64)\n",
    "    ỹ = y + h/2 * f(t,y)\n",
    "    t + h, y + h * f(t+h/2,ỹ)\n",
    "end\n",
    "#----------------------------------------------------------------------------"
   ]
  },
  {
   "cell_type": "code",
   "execution_count": 5,
   "id": "b2a54fa5",
   "metadata": {},
   "outputs": [
    {
     "name": "stdout",
     "output_type": "stream",
     "text": [
      "search: \u001b[0m\u001b[1mr\u001b[22m\u001b[0m\u001b[1mk\u001b[22m\u001b[0m\u001b[1m2\u001b[22m\n",
      "\n"
     ]
    },
    {
     "data": {
      "text/latex": [
       "rk2(f::Function, t::Float64, y::Float64,  dt::Float64)\n",
       "\n",
       "Runge-Kutta second order method function\n",
       "\n",
       "\\begin{verbatim}\n",
       "julia> f(t,y) = 1 - y\n",
       "julia> rk2(f, 0.0, 0.0, 1.0)\n",
       "(1.0, 0.5)\n",
       "\\end{verbatim}\n"
      ],
      "text/markdown": [
       "rk2(f::Function, t::Float64, y::Float64,  dt::Float64)\n",
       "\n",
       "Runge-Kutta second order method function\n",
       "\n",
       "```jldoctest\n",
       "julia> f(t,y) = 1 - y\n",
       "julia> rk2(f, 0.0, 0.0, 1.0)\n",
       "(1.0, 0.5)\n",
       "```\n"
      ],
      "text/plain": [
       "  rk2(f::Function, t::Float64, y::Float64, dt::Float64)\n",
       "\n",
       "  Runge-Kutta second order method function\n",
       "\n",
       "\u001b[36m  julia> f(t,y) = 1 - y\u001b[39m\n",
       "\u001b[36m  julia> rk2(f, 0.0, 0.0, 1.0)\u001b[39m\n",
       "\u001b[36m  (1.0, 0.5)\u001b[39m"
      ]
     },
     "execution_count": 5,
     "metadata": {},
     "output_type": "execute_result"
    }
   ],
   "source": [
    "?rk2"
   ]
  },
  {
   "cell_type": "markdown",
   "id": "ec3096e1",
   "metadata": {},
   "source": [
    "## Runge-Kutta d'ordre quatre"
   ]
  },
  {
   "cell_type": "code",
   "execution_count": 6,
   "id": "deeb6138",
   "metadata": {},
   "outputs": [
    {
     "data": {
      "text/plain": [
       "rk4"
      ]
     },
     "execution_count": 6,
     "metadata": {},
     "output_type": "execute_result"
    }
   ],
   "source": [
    "\"\"\"\n",
    "\n",
    "   rk4(f::Function, t::Float64, y::Float64,  dt::Float64)\n",
    "\n",
    "Runge-Kutta fourth order method function\n",
    "\n",
    "[Runge–Kutta methods on Wikipedia](https://en.wikipedia.org/wiki/Runge–Kutta_methods)\n",
    "\n",
    "\"\"\"\n",
    "function rk4(f::Function, t::Float64, y::Float64,  dt::Float64)\n",
    "\n",
    "    y₁ = dt * f(t,y)\n",
    "    y₂ = dt * f(t+dt/2,y+y₁/2)\n",
    "    y₃ = dt * f(t+dt/2,y+y₂/2)\n",
    "    y₄ = dt * f(t+dt,y+y₃)\n",
    "\n",
    "    t+dt, y+(y₁+2*y₂+2*y₃+y₄)/6\n",
    "\n",
    "end\n"
   ]
  },
  {
   "cell_type": "code",
   "execution_count": 7,
   "id": "87f95cbf",
   "metadata": {},
   "outputs": [
    {
     "name": "stdout",
     "output_type": "stream",
     "text": [
      "search: \u001b[0m\u001b[1mr\u001b[22m\u001b[0m\u001b[1mk\u001b[22m\u001b[0m\u001b[1m4\u001b[22m\n",
      "\n"
     ]
    },
    {
     "data": {
      "text/latex": [
       "rk4(f::Function, t::Float64, y::Float64,  dt::Float64)\n",
       "\n",
       "Runge-Kutta fourth order method function\n",
       "\n",
       "\\href{https://en.wikipedia.org/wiki/Runge–Kutta_methods}{Runge–Kutta methods on Wikipedia}\n",
       "\n"
      ],
      "text/markdown": [
       "rk4(f::Function, t::Float64, y::Float64,  dt::Float64)\n",
       "\n",
       "Runge-Kutta fourth order method function\n",
       "\n",
       "[Runge–Kutta methods on Wikipedia](https://en.wikipedia.org/wiki/Runge–Kutta_methods)\n"
      ],
      "text/plain": [
       "  rk4(f::Function, t::Float64, y::Float64, dt::Float64)\n",
       "\n",
       "  Runge-Kutta fourth order method function\n",
       "\n",
       "  Runge–Kutta methods on Wikipedia\n",
       "  (https://en.wikipedia.org/wiki/Runge–Kutta_methods)"
      ]
     },
     "execution_count": 7,
     "metadata": {},
     "output_type": "execute_result"
    }
   ],
   "source": [
    "?rk4"
   ]
  },
  {
   "cell_type": "markdown",
   "id": "88d8645c",
   "metadata": {},
   "source": [
    "## Fonction solveur\n",
    "\n",
    "Voici une fonction  permettant de résoudre l'équation différentielle avec la méthode numérique utilisée en paramètre."
   ]
  },
  {
   "cell_type": "code",
   "execution_count": 8,
   "id": "085d6ec1",
   "metadata": {},
   "outputs": [
    {
     "data": {
      "text/plain": [
       "solver"
      ]
     },
     "execution_count": 8,
     "metadata": {},
     "output_type": "execute_result"
    }
   ],
   "source": [
    "\"\"\"\n",
    "\n",
    "    solver(f::Function, Method::Function, t₀::Float64,\n",
    "                y₀::Float64, dt::Float64, nsteps::Int64)\n",
    "\n",
    "Solve numerically the equation ``y' = f(t, y)``\n",
    "\n",
    "with `y(t₀)= y₀` and `nsteps` steps `h`\n",
    "\n",
    "## Arguments\n",
    "- `f::Function`: the function `f` of equation ``y' = f(t,y)``.\n",
    "- `Method::Function`: numerical method from (tⁿ,yⁿ) returns ``(t^{n+1},y^{n+1})``\n",
    "\n",
    "\n",
    "\"\"\"\n",
    "function solver(f::Function,\n",
    "                Method::Function,\n",
    "                t₀::Float64,\n",
    "                y₀::Float64, h::Float64, nsteps::Int64)\n",
    "\n",
    "    t = zeros(Float64,nsteps)\n",
    "    y = similar(t)\n",
    "\n",
    "    t[1] = t₀\n",
    "    y[1] = y₀\n",
    "\n",
    "    for i in 2:nsteps\n",
    "       t[i], y[i] = Method(f,t[i-1],y[i-1], h)\n",
    "    end\n",
    "\n",
    "    t, y\n",
    "\n",
    "end"
   ]
  },
  {
   "cell_type": "code",
   "execution_count": 9,
   "id": "fff86abb",
   "metadata": {},
   "outputs": [
    {
     "name": "stdout",
     "output_type": "stream",
     "text": [
      "search: \u001b[0m\u001b[1ms\u001b[22m\u001b[0m\u001b[1mo\u001b[22m\u001b[0m\u001b[1ml\u001b[22m\u001b[0m\u001b[1mv\u001b[22m\u001b[0m\u001b[1me\u001b[22m\u001b[0m\u001b[1mr\u001b[22m\n",
      "\n"
     ]
    },
    {
     "data": {
      "text/latex": [
       "\\begin{verbatim}\n",
       "solver(f::Function, Method::Function, t₀::Float64,\n",
       "            y₀::Float64, dt::Float64, nsteps::Int64)\n",
       "\\end{verbatim}\n",
       "Solve numerically the equation $y' = f(t, y)$\n",
       "\n",
       "with \\texttt{y(t₀)= y₀} and \\texttt{nsteps} steps \\texttt{h}\n",
       "\n",
       "\\subsection{Arguments}\n",
       "\\begin{itemize}\n",
       "\\item \\texttt{f::Function}: the function \\texttt{f} of equation $y' = f(t,y)$.\n",
       "\n",
       "\n",
       "\\item \\texttt{Method::Function}: numerical method from (tⁿ,yⁿ) returns $(t^{n+1},y^{n+1})$\n",
       "\n",
       "\\end{itemize}\n"
      ],
      "text/markdown": [
       "```\n",
       "solver(f::Function, Method::Function, t₀::Float64,\n",
       "            y₀::Float64, dt::Float64, nsteps::Int64)\n",
       "```\n",
       "\n",
       "Solve numerically the equation $y' = f(t, y)$\n",
       "\n",
       "with `y(t₀)= y₀` and `nsteps` steps `h`\n",
       "\n",
       "## Arguments\n",
       "\n",
       "  * `f::Function`: the function `f` of equation $y' = f(t,y)$.\n",
       "  * `Method::Function`: numerical method from (tⁿ,yⁿ) returns $(t^{n+1},y^{n+1})$\n"
      ],
      "text/plain": [
       "\u001b[36m  solver(f::Function, Method::Function, t₀::Float64,\u001b[39m\n",
       "\u001b[36m              y₀::Float64, dt::Float64, nsteps::Int64)\u001b[39m\n",
       "\n",
       "  Solve numerically the equation \u001b[35my' = f(t, y)\u001b[39m\n",
       "\n",
       "  with \u001b[36my(t₀)= y₀\u001b[39m and \u001b[36mnsteps\u001b[39m steps \u001b[36mh\u001b[39m\n",
       "\n",
       "\u001b[1m  Arguments\u001b[22m\n",
       "\u001b[1m  ===========\u001b[22m\n",
       "\n",
       "    •  \u001b[36mf::Function\u001b[39m: the function \u001b[36mf\u001b[39m of equation \u001b[35my' = f(t,y)\u001b[39m.\n",
       "\n",
       "    •  \u001b[36mMethod::Function\u001b[39m: numerical method from (tⁿ,yⁿ) returns\n",
       "       \u001b[35m(t^{n+1},y^{n+1})\u001b[39m"
      ]
     },
     "execution_count": 9,
     "metadata": {},
     "output_type": "execute_result"
    }
   ],
   "source": [
    "?solver"
   ]
  },
  {
   "cell_type": "code",
   "execution_count": 10,
   "id": "0c783b42",
   "metadata": {},
   "outputs": [
    {
     "data": {
      "text/plain": [
       "(0.0, 0.0)"
      ]
     },
     "execution_count": 10,
     "metadata": {},
     "output_type": "execute_result"
    }
   ],
   "source": [
    "nsteps, tfinal   = 7, 5.0\n",
    "t₀, x₀ = 0., 0."
   ]
  },
  {
   "cell_type": "code",
   "execution_count": 11,
   "id": "3bd37d99",
   "metadata": {},
   "outputs": [
    {
     "data": {
      "text/plain": [
       "f (generic function with 1 method)"
      ]
     },
     "execution_count": 11,
     "metadata": {},
     "output_type": "execute_result"
    }
   ],
   "source": [
    "dt = tfinal / (nsteps-1)\n",
    "f(t, x) = 1 - x"
   ]
  },
  {
   "cell_type": "code",
   "execution_count": 12,
   "id": "68b138b4",
   "metadata": {},
   "outputs": [
    {
     "data": {
      "image/svg+xml": [
       "<?xml version=\"1.0\" encoding=\"utf-8\"?>\n",
       "<svg xmlns=\"http://www.w3.org/2000/svg\" xmlns:xlink=\"http://www.w3.org/1999/xlink\" width=\"600\" height=\"400\" viewBox=\"0 0 2400 1600\">\n",
       "<defs>\n",
       "  <clipPath id=\"clip770\">\n",
       "    <rect x=\"0\" y=\"0\" width=\"2400\" height=\"1600\"/>\n",
       "  </clipPath>\n",
       "</defs>\n",
       "<path clip-path=\"url(#clip770)\" d=\"\n",
       "M0 1600 L2400 1600 L2400 0 L0 0  Z\n",
       "  \" fill=\"#ffffff\" fill-rule=\"evenodd\" fill-opacity=\"1\"/>\n",
       "<defs>\n",
       "  <clipPath id=\"clip771\">\n",
       "    <rect x=\"480\" y=\"0\" width=\"1681\" height=\"1600\"/>\n",
       "  </clipPath>\n",
       "</defs>\n",
       "<path clip-path=\"url(#clip770)\" d=\"\n",
       "M186.274 1486.45 L2352.76 1486.45 L2352.76 47.2441 L186.274 47.2441  Z\n",
       "  \" fill=\"#ffffff\" fill-rule=\"evenodd\" fill-opacity=\"1\"/>\n",
       "<defs>\n",
       "  <clipPath id=\"clip772\">\n",
       "    <rect x=\"186\" y=\"47\" width=\"2167\" height=\"1440\"/>\n",
       "  </clipPath>\n",
       "</defs>\n",
       "<polyline clip-path=\"url(#clip772)\" style=\"stroke:#000000; stroke-linecap:butt; stroke-linejoin:round; stroke-width:2; stroke-opacity:0.1; fill:none\" points=\"\n",
       "  247.59,1486.45 247.59,47.2441 \n",
       "  \"/>\n",
       "<polyline clip-path=\"url(#clip772)\" style=\"stroke:#000000; stroke-linecap:butt; stroke-linejoin:round; stroke-width:2; stroke-opacity:0.1; fill:none\" points=\"\n",
       "  656.36,1486.45 656.36,47.2441 \n",
       "  \"/>\n",
       "<polyline clip-path=\"url(#clip772)\" style=\"stroke:#000000; stroke-linecap:butt; stroke-linejoin:round; stroke-width:2; stroke-opacity:0.1; fill:none\" points=\"\n",
       "  1065.13,1486.45 1065.13,47.2441 \n",
       "  \"/>\n",
       "<polyline clip-path=\"url(#clip772)\" style=\"stroke:#000000; stroke-linecap:butt; stroke-linejoin:round; stroke-width:2; stroke-opacity:0.1; fill:none\" points=\"\n",
       "  1473.9,1486.45 1473.9,47.2441 \n",
       "  \"/>\n",
       "<polyline clip-path=\"url(#clip772)\" style=\"stroke:#000000; stroke-linecap:butt; stroke-linejoin:round; stroke-width:2; stroke-opacity:0.1; fill:none\" points=\"\n",
       "  1882.67,1486.45 1882.67,47.2441 \n",
       "  \"/>\n",
       "<polyline clip-path=\"url(#clip772)\" style=\"stroke:#000000; stroke-linecap:butt; stroke-linejoin:round; stroke-width:2; stroke-opacity:0.1; fill:none\" points=\"\n",
       "  2291.44,1486.45 2291.44,47.2441 \n",
       "  \"/>\n",
       "<polyline clip-path=\"url(#clip770)\" style=\"stroke:#000000; stroke-linecap:butt; stroke-linejoin:round; stroke-width:4; stroke-opacity:1; fill:none\" points=\"\n",
       "  186.274,1486.45 2352.76,1486.45 \n",
       "  \"/>\n",
       "<polyline clip-path=\"url(#clip770)\" style=\"stroke:#000000; stroke-linecap:butt; stroke-linejoin:round; stroke-width:4; stroke-opacity:1; fill:none\" points=\"\n",
       "  247.59,1486.45 247.59,1467.55 \n",
       "  \"/>\n",
       "<polyline clip-path=\"url(#clip770)\" style=\"stroke:#000000; stroke-linecap:butt; stroke-linejoin:round; stroke-width:4; stroke-opacity:1; fill:none\" points=\"\n",
       "  656.36,1486.45 656.36,1467.55 \n",
       "  \"/>\n",
       "<polyline clip-path=\"url(#clip770)\" style=\"stroke:#000000; stroke-linecap:butt; stroke-linejoin:round; stroke-width:4; stroke-opacity:1; fill:none\" points=\"\n",
       "  1065.13,1486.45 1065.13,1467.55 \n",
       "  \"/>\n",
       "<polyline clip-path=\"url(#clip770)\" style=\"stroke:#000000; stroke-linecap:butt; stroke-linejoin:round; stroke-width:4; stroke-opacity:1; fill:none\" points=\"\n",
       "  1473.9,1486.45 1473.9,1467.55 \n",
       "  \"/>\n",
       "<polyline clip-path=\"url(#clip770)\" style=\"stroke:#000000; stroke-linecap:butt; stroke-linejoin:round; stroke-width:4; stroke-opacity:1; fill:none\" points=\"\n",
       "  1882.67,1486.45 1882.67,1467.55 \n",
       "  \"/>\n",
       "<polyline clip-path=\"url(#clip770)\" style=\"stroke:#000000; stroke-linecap:butt; stroke-linejoin:round; stroke-width:4; stroke-opacity:1; fill:none\" points=\"\n",
       "  2291.44,1486.45 2291.44,1467.55 \n",
       "  \"/>\n",
       "<path clip-path=\"url(#clip770)\" d=\"M247.59 1517.37 Q243.978 1517.37 242.15 1520.93 Q240.344 1524.47 240.344 1531.6 Q240.344 1538.71 242.15 1542.27 Q243.978 1545.82 247.59 1545.82 Q251.224 1545.82 253.029 1542.27 Q254.858 1538.71 254.858 1531.6 Q254.858 1524.47 253.029 1520.93 Q251.224 1517.37 247.59 1517.37 M247.59 1513.66 Q253.4 1513.66 256.455 1518.27 Q259.534 1522.85 259.534 1531.6 Q259.534 1540.33 256.455 1544.94 Q253.4 1549.52 247.59 1549.52 Q241.779 1549.52 238.701 1544.94 Q235.645 1540.33 235.645 1531.6 Q235.645 1522.85 238.701 1518.27 Q241.779 1513.66 247.59 1513.66 Z\" fill=\"#000000\" fill-rule=\"evenodd\" fill-opacity=\"1\" /><path clip-path=\"url(#clip770)\" d=\"M646.742 1544.91 L654.381 1544.91 L654.381 1518.55 L646.07 1520.21 L646.07 1515.95 L654.334 1514.29 L659.01 1514.29 L659.01 1544.91 L666.649 1544.91 L666.649 1548.85 L646.742 1548.85 L646.742 1544.91 Z\" fill=\"#000000\" fill-rule=\"evenodd\" fill-opacity=\"1\" /><path clip-path=\"url(#clip770)\" d=\"M1059.78 1544.91 L1076.1 1544.91 L1076.1 1548.85 L1054.16 1548.85 L1054.16 1544.91 Q1056.82 1542.16 1061.4 1537.53 Q1066.01 1532.88 1067.19 1531.53 Q1069.44 1529.01 1070.32 1527.27 Q1071.22 1525.51 1071.22 1523.82 Q1071.22 1521.07 1069.27 1519.33 Q1067.35 1517.6 1064.25 1517.6 Q1062.05 1517.6 1059.6 1518.36 Q1057.17 1519.13 1054.39 1520.68 L1054.39 1515.95 Q1057.21 1514.82 1059.67 1514.24 Q1062.12 1513.66 1064.16 1513.66 Q1069.53 1513.66 1072.72 1516.35 Q1075.92 1519.03 1075.92 1523.52 Q1075.92 1525.65 1075.11 1527.57 Q1074.32 1529.47 1072.21 1532.07 Q1071.63 1532.74 1068.53 1535.95 Q1065.43 1539.15 1059.78 1544.91 Z\" fill=\"#000000\" fill-rule=\"evenodd\" fill-opacity=\"1\" /><path clip-path=\"url(#clip770)\" d=\"M1478.15 1530.21 Q1481.5 1530.93 1483.38 1533.2 Q1485.28 1535.47 1485.28 1538.8 Q1485.28 1543.92 1481.76 1546.72 Q1478.24 1549.52 1471.76 1549.52 Q1469.58 1549.52 1467.27 1549.08 Q1464.98 1548.66 1462.52 1547.81 L1462.52 1543.29 Q1464.47 1544.43 1466.78 1545.01 Q1469.1 1545.58 1471.62 1545.58 Q1476.02 1545.58 1478.31 1543.85 Q1480.62 1542.11 1480.62 1538.8 Q1480.62 1535.75 1478.47 1534.03 Q1476.34 1532.3 1472.52 1532.3 L1468.49 1532.3 L1468.49 1528.45 L1472.71 1528.45 Q1476.16 1528.45 1477.99 1527.09 Q1479.81 1525.7 1479.81 1523.11 Q1479.81 1520.45 1477.92 1519.03 Q1476.04 1517.6 1472.52 1517.6 Q1470.6 1517.6 1468.4 1518.01 Q1466.2 1518.43 1463.56 1519.31 L1463.56 1515.14 Q1466.23 1514.4 1468.54 1514.03 Q1470.88 1513.66 1472.94 1513.66 Q1478.26 1513.66 1481.37 1516.09 Q1484.47 1518.5 1484.47 1522.62 Q1484.47 1525.49 1482.82 1527.48 Q1481.18 1529.45 1478.15 1530.21 Z\" fill=\"#000000\" fill-rule=\"evenodd\" fill-opacity=\"1\" /><path clip-path=\"url(#clip770)\" d=\"M1885.68 1518.36 L1873.87 1536.81 L1885.68 1536.81 L1885.68 1518.36 M1884.45 1514.29 L1890.33 1514.29 L1890.33 1536.81 L1895.26 1536.81 L1895.26 1540.7 L1890.33 1540.7 L1890.33 1548.85 L1885.68 1548.85 L1885.68 1540.7 L1870.08 1540.7 L1870.08 1536.19 L1884.45 1514.29 Z\" fill=\"#000000\" fill-rule=\"evenodd\" fill-opacity=\"1\" /><path clip-path=\"url(#clip770)\" d=\"M2281.72 1514.29 L2300.07 1514.29 L2300.07 1518.22 L2286 1518.22 L2286 1526.7 Q2287.02 1526.35 2288.04 1526.19 Q2289.06 1526 2290.07 1526 Q2295.86 1526 2299.24 1529.17 Q2302.62 1532.34 2302.62 1537.76 Q2302.62 1543.34 2299.15 1546.44 Q2295.68 1549.52 2289.36 1549.52 Q2287.18 1549.52 2284.91 1549.15 Q2282.67 1548.78 2280.26 1548.04 L2280.26 1543.34 Q2282.34 1544.47 2284.57 1545.03 Q2286.79 1545.58 2289.26 1545.58 Q2293.27 1545.58 2295.61 1543.48 Q2297.94 1541.37 2297.94 1537.76 Q2297.94 1534.15 2295.61 1532.04 Q2293.27 1529.94 2289.26 1529.94 Q2287.39 1529.94 2285.51 1530.35 Q2283.66 1530.77 2281.72 1531.65 L2281.72 1514.29 Z\" fill=\"#000000\" fill-rule=\"evenodd\" fill-opacity=\"1\" /><polyline clip-path=\"url(#clip772)\" style=\"stroke:#000000; stroke-linecap:butt; stroke-linejoin:round; stroke-width:2; stroke-opacity:0.1; fill:none\" points=\"\n",
       "  186.274,1445.72 2352.76,1445.72 \n",
       "  \"/>\n",
       "<polyline clip-path=\"url(#clip772)\" style=\"stroke:#000000; stroke-linecap:butt; stroke-linejoin:round; stroke-width:2; stroke-opacity:0.1; fill:none\" points=\"\n",
       "  186.274,1106.27 2352.76,1106.27 \n",
       "  \"/>\n",
       "<polyline clip-path=\"url(#clip772)\" style=\"stroke:#000000; stroke-linecap:butt; stroke-linejoin:round; stroke-width:2; stroke-opacity:0.1; fill:none\" points=\"\n",
       "  186.274,766.831 2352.76,766.831 \n",
       "  \"/>\n",
       "<polyline clip-path=\"url(#clip772)\" style=\"stroke:#000000; stroke-linecap:butt; stroke-linejoin:round; stroke-width:2; stroke-opacity:0.1; fill:none\" points=\"\n",
       "  186.274,427.389 2352.76,427.389 \n",
       "  \"/>\n",
       "<polyline clip-path=\"url(#clip772)\" style=\"stroke:#000000; stroke-linecap:butt; stroke-linejoin:round; stroke-width:2; stroke-opacity:0.1; fill:none\" points=\"\n",
       "  186.274,87.9472 2352.76,87.9472 \n",
       "  \"/>\n",
       "<polyline clip-path=\"url(#clip770)\" style=\"stroke:#000000; stroke-linecap:butt; stroke-linejoin:round; stroke-width:4; stroke-opacity:1; fill:none\" points=\"\n",
       "  186.274,1486.45 186.274,47.2441 \n",
       "  \"/>\n",
       "<polyline clip-path=\"url(#clip770)\" style=\"stroke:#000000; stroke-linecap:butt; stroke-linejoin:round; stroke-width:4; stroke-opacity:1; fill:none\" points=\"\n",
       "  186.274,1445.72 205.172,1445.72 \n",
       "  \"/>\n",
       "<polyline clip-path=\"url(#clip770)\" style=\"stroke:#000000; stroke-linecap:butt; stroke-linejoin:round; stroke-width:4; stroke-opacity:1; fill:none\" points=\"\n",
       "  186.274,1106.27 205.172,1106.27 \n",
       "  \"/>\n",
       "<polyline clip-path=\"url(#clip770)\" style=\"stroke:#000000; stroke-linecap:butt; stroke-linejoin:round; stroke-width:4; stroke-opacity:1; fill:none\" points=\"\n",
       "  186.274,766.831 205.172,766.831 \n",
       "  \"/>\n",
       "<polyline clip-path=\"url(#clip770)\" style=\"stroke:#000000; stroke-linecap:butt; stroke-linejoin:round; stroke-width:4; stroke-opacity:1; fill:none\" points=\"\n",
       "  186.274,427.389 205.172,427.389 \n",
       "  \"/>\n",
       "<polyline clip-path=\"url(#clip770)\" style=\"stroke:#000000; stroke-linecap:butt; stroke-linejoin:round; stroke-width:4; stroke-opacity:1; fill:none\" points=\"\n",
       "  186.274,87.9472 205.172,87.9472 \n",
       "  \"/>\n",
       "<path clip-path=\"url(#clip770)\" d=\"M62.9365 1431.51 Q59.3254 1431.51 57.4967 1435.08 Q55.6912 1438.62 55.6912 1445.75 Q55.6912 1452.86 57.4967 1456.42 Q59.3254 1459.96 62.9365 1459.96 Q66.5707 1459.96 68.3763 1456.42 Q70.205 1452.86 70.205 1445.75 Q70.205 1438.62 68.3763 1435.08 Q66.5707 1431.51 62.9365 1431.51 M62.9365 1427.81 Q68.7467 1427.81 71.8022 1432.42 Q74.8809 1437 74.8809 1445.75 Q74.8809 1454.48 71.8022 1459.08 Q68.7467 1463.67 62.9365 1463.67 Q57.1264 1463.67 54.0477 1459.08 Q50.9921 1454.48 50.9921 1445.75 Q50.9921 1437 54.0477 1432.42 Q57.1264 1427.81 62.9365 1427.81 Z\" fill=\"#000000\" fill-rule=\"evenodd\" fill-opacity=\"1\" /><path clip-path=\"url(#clip770)\" d=\"M83.0984 1457.12 L87.9827 1457.12 L87.9827 1463 L83.0984 1463 L83.0984 1457.12 Z\" fill=\"#000000\" fill-rule=\"evenodd\" fill-opacity=\"1\" /><path clip-path=\"url(#clip770)\" d=\"M108.168 1431.51 Q104.557 1431.51 102.728 1435.08 Q100.922 1438.62 100.922 1445.75 Q100.922 1452.86 102.728 1456.42 Q104.557 1459.96 108.168 1459.96 Q111.802 1459.96 113.608 1456.42 Q115.436 1452.86 115.436 1445.75 Q115.436 1438.62 113.608 1435.08 Q111.802 1431.51 108.168 1431.51 M108.168 1427.81 Q113.978 1427.81 117.033 1432.42 Q120.112 1437 120.112 1445.75 Q120.112 1454.48 117.033 1459.08 Q113.978 1463.67 108.168 1463.67 Q102.358 1463.67 99.2789 1459.08 Q96.2234 1454.48 96.2234 1445.75 Q96.2234 1437 99.2789 1432.42 Q102.358 1427.81 108.168 1427.81 Z\" fill=\"#000000\" fill-rule=\"evenodd\" fill-opacity=\"1\" /><path clip-path=\"url(#clip770)\" d=\"M138.33 1431.51 Q134.719 1431.51 132.89 1435.08 Q131.084 1438.62 131.084 1445.75 Q131.084 1452.86 132.89 1456.42 Q134.719 1459.96 138.33 1459.96 Q141.964 1459.96 143.769 1456.42 Q145.598 1452.86 145.598 1445.75 Q145.598 1438.62 143.769 1435.08 Q141.964 1431.51 138.33 1431.51 M138.33 1427.81 Q144.14 1427.81 147.195 1432.42 Q150.274 1437 150.274 1445.75 Q150.274 1454.48 147.195 1459.08 Q144.14 1463.67 138.33 1463.67 Q132.519 1463.67 129.441 1459.08 Q126.385 1454.48 126.385 1445.75 Q126.385 1437 129.441 1432.42 Q132.519 1427.81 138.33 1427.81 Z\" fill=\"#000000\" fill-rule=\"evenodd\" fill-opacity=\"1\" /><path clip-path=\"url(#clip770)\" d=\"M63.9319 1092.07 Q60.3208 1092.07 58.4921 1095.64 Q56.6865 1099.18 56.6865 1106.31 Q56.6865 1113.41 58.4921 1116.98 Q60.3208 1120.52 63.9319 1120.52 Q67.5661 1120.52 69.3717 1116.98 Q71.2004 1113.41 71.2004 1106.31 Q71.2004 1099.18 69.3717 1095.64 Q67.5661 1092.07 63.9319 1092.07 M63.9319 1088.37 Q69.742 1088.37 72.7976 1092.98 Q75.8763 1097.56 75.8763 1106.31 Q75.8763 1115.04 72.7976 1119.64 Q69.742 1124.22 63.9319 1124.22 Q58.1217 1124.22 55.043 1119.64 Q51.9875 1115.04 51.9875 1106.31 Q51.9875 1097.56 55.043 1092.98 Q58.1217 1088.37 63.9319 1088.37 Z\" fill=\"#000000\" fill-rule=\"evenodd\" fill-opacity=\"1\" /><path clip-path=\"url(#clip770)\" d=\"M84.0938 1117.67 L88.978 1117.67 L88.978 1123.55 L84.0938 1123.55 L84.0938 1117.67 Z\" fill=\"#000000\" fill-rule=\"evenodd\" fill-opacity=\"1\" /><path clip-path=\"url(#clip770)\" d=\"M103.191 1119.62 L119.51 1119.62 L119.51 1123.55 L97.566 1123.55 L97.566 1119.62 Q100.228 1116.86 104.811 1112.23 Q109.418 1107.58 110.598 1106.24 Q112.844 1103.72 113.723 1101.98 Q114.626 1100.22 114.626 1098.53 Q114.626 1095.78 112.682 1094.04 Q110.76 1092.3 107.658 1092.3 Q105.459 1092.3 103.006 1093.07 Q100.575 1093.83 97.7974 1095.38 L97.7974 1090.66 Q100.621 1089.53 103.075 1088.95 Q105.529 1088.37 107.566 1088.37 Q112.936 1088.37 116.131 1091.05 Q119.325 1093.74 119.325 1098.23 Q119.325 1100.36 118.515 1102.28 Q117.728 1104.18 115.621 1106.77 Q115.043 1107.44 111.941 1110.66 Q108.839 1113.85 103.191 1119.62 Z\" fill=\"#000000\" fill-rule=\"evenodd\" fill-opacity=\"1\" /><path clip-path=\"url(#clip770)\" d=\"M129.371 1088.99 L147.728 1088.99 L147.728 1092.93 L133.654 1092.93 L133.654 1101.4 Q134.672 1101.05 135.691 1100.89 Q136.709 1100.71 137.728 1100.71 Q143.515 1100.71 146.894 1103.88 Q150.274 1107.05 150.274 1112.47 Q150.274 1118.04 146.802 1121.15 Q143.33 1124.22 137.01 1124.22 Q134.834 1124.22 132.566 1123.85 Q130.32 1123.48 127.913 1122.74 L127.913 1118.04 Q129.996 1119.18 132.219 1119.73 Q134.441 1120.29 136.918 1120.29 Q140.922 1120.29 143.26 1118.18 Q145.598 1116.08 145.598 1112.47 Q145.598 1108.85 143.26 1106.75 Q140.922 1104.64 136.918 1104.64 Q135.043 1104.64 133.168 1105.06 Q131.316 1105.47 129.371 1106.35 L129.371 1088.99 Z\" fill=\"#000000\" fill-rule=\"evenodd\" fill-opacity=\"1\" /><path clip-path=\"url(#clip770)\" d=\"M62.9365 752.63 Q59.3254 752.63 57.4967 756.195 Q55.6912 759.737 55.6912 766.866 Q55.6912 773.973 57.4967 777.537 Q59.3254 781.079 62.9365 781.079 Q66.5707 781.079 68.3763 777.537 Q70.205 773.973 70.205 766.866 Q70.205 759.737 68.3763 756.195 Q66.5707 752.63 62.9365 752.63 M62.9365 748.926 Q68.7467 748.926 71.8022 753.533 Q74.8809 758.116 74.8809 766.866 Q74.8809 775.593 71.8022 780.199 Q68.7467 784.783 62.9365 784.783 Q57.1264 784.783 54.0477 780.199 Q50.9921 775.593 50.9921 766.866 Q50.9921 758.116 54.0477 753.533 Q57.1264 748.926 62.9365 748.926 Z\" fill=\"#000000\" fill-rule=\"evenodd\" fill-opacity=\"1\" /><path clip-path=\"url(#clip770)\" d=\"M83.0984 778.232 L87.9827 778.232 L87.9827 784.111 L83.0984 784.111 L83.0984 778.232 Z\" fill=\"#000000\" fill-rule=\"evenodd\" fill-opacity=\"1\" /><path clip-path=\"url(#clip770)\" d=\"M98.2141 749.551 L116.57 749.551 L116.57 753.487 L102.496 753.487 L102.496 761.959 Q103.515 761.612 104.534 761.45 Q105.552 761.264 106.571 761.264 Q112.358 761.264 115.737 764.436 Q119.117 767.607 119.117 773.024 Q119.117 778.602 115.645 781.704 Q112.172 784.783 105.853 784.783 Q103.677 784.783 101.409 784.412 Q99.1632 784.042 96.7558 783.301 L96.7558 778.602 Q98.8391 779.736 101.061 780.292 Q103.284 780.848 105.76 780.848 Q109.765 780.848 112.103 778.741 Q114.441 776.635 114.441 773.024 Q114.441 769.412 112.103 767.306 Q109.765 765.199 105.76 765.199 Q103.885 765.199 102.01 765.616 Q100.159 766.033 98.2141 766.912 L98.2141 749.551 Z\" fill=\"#000000\" fill-rule=\"evenodd\" fill-opacity=\"1\" /><path clip-path=\"url(#clip770)\" d=\"M138.33 752.63 Q134.719 752.63 132.89 756.195 Q131.084 759.737 131.084 766.866 Q131.084 773.973 132.89 777.537 Q134.719 781.079 138.33 781.079 Q141.964 781.079 143.769 777.537 Q145.598 773.973 145.598 766.866 Q145.598 759.737 143.769 756.195 Q141.964 752.63 138.33 752.63 M138.33 748.926 Q144.14 748.926 147.195 753.533 Q150.274 758.116 150.274 766.866 Q150.274 775.593 147.195 780.199 Q144.14 784.783 138.33 784.783 Q132.519 784.783 129.441 780.199 Q126.385 775.593 126.385 766.866 Q126.385 758.116 129.441 753.533 Q132.519 748.926 138.33 748.926 Z\" fill=\"#000000\" fill-rule=\"evenodd\" fill-opacity=\"1\" /><path clip-path=\"url(#clip770)\" d=\"M63.9319 413.188 Q60.3208 413.188 58.4921 416.753 Q56.6865 420.294 56.6865 427.424 Q56.6865 434.53 58.4921 438.095 Q60.3208 441.637 63.9319 441.637 Q67.5661 441.637 69.3717 438.095 Q71.2004 434.53 71.2004 427.424 Q71.2004 420.294 69.3717 416.753 Q67.5661 413.188 63.9319 413.188 M63.9319 409.484 Q69.742 409.484 72.7976 414.091 Q75.8763 418.674 75.8763 427.424 Q75.8763 436.151 72.7976 440.757 Q69.742 445.341 63.9319 445.341 Q58.1217 445.341 55.043 440.757 Q51.9875 436.151 51.9875 427.424 Q51.9875 418.674 55.043 414.091 Q58.1217 409.484 63.9319 409.484 Z\" fill=\"#000000\" fill-rule=\"evenodd\" fill-opacity=\"1\" /><path clip-path=\"url(#clip770)\" d=\"M84.0938 438.79 L88.978 438.79 L88.978 444.669 L84.0938 444.669 L84.0938 438.79 Z\" fill=\"#000000\" fill-rule=\"evenodd\" fill-opacity=\"1\" /><path clip-path=\"url(#clip770)\" d=\"M97.9826 410.109 L120.205 410.109 L120.205 412.1 L107.658 444.669 L102.774 444.669 L114.58 414.044 L97.9826 414.044 L97.9826 410.109 Z\" fill=\"#000000\" fill-rule=\"evenodd\" fill-opacity=\"1\" /><path clip-path=\"url(#clip770)\" d=\"M129.371 410.109 L147.728 410.109 L147.728 414.044 L133.654 414.044 L133.654 422.517 Q134.672 422.169 135.691 422.007 Q136.709 421.822 137.728 421.822 Q143.515 421.822 146.894 424.993 Q150.274 428.165 150.274 433.581 Q150.274 439.16 146.802 442.262 Q143.33 445.341 137.01 445.341 Q134.834 445.341 132.566 444.97 Q130.32 444.6 127.913 443.859 L127.913 439.16 Q129.996 440.294 132.219 440.85 Q134.441 441.405 136.918 441.405 Q140.922 441.405 143.26 439.299 Q145.598 437.192 145.598 433.581 Q145.598 429.97 143.26 427.864 Q140.922 425.757 136.918 425.757 Q135.043 425.757 133.168 426.174 Q131.316 426.591 129.371 427.47 L129.371 410.109 Z\" fill=\"#000000\" fill-rule=\"evenodd\" fill-opacity=\"1\" /><path clip-path=\"url(#clip770)\" d=\"M53.7467 101.292 L61.3856 101.292 L61.3856 74.9264 L53.0754 76.5931 L53.0754 72.3338 L61.3393 70.6672 L66.0152 70.6672 L66.0152 101.292 L73.654 101.292 L73.654 105.227 L53.7467 105.227 L53.7467 101.292 Z\" fill=\"#000000\" fill-rule=\"evenodd\" fill-opacity=\"1\" /><path clip-path=\"url(#clip770)\" d=\"M83.0984 99.3476 L87.9827 99.3476 L87.9827 105.227 L83.0984 105.227 L83.0984 99.3476 Z\" fill=\"#000000\" fill-rule=\"evenodd\" fill-opacity=\"1\" /><path clip-path=\"url(#clip770)\" d=\"M108.168 73.7459 Q104.557 73.7459 102.728 77.3107 Q100.922 80.8523 100.922 87.9819 Q100.922 95.0883 102.728 98.6531 Q104.557 102.195 108.168 102.195 Q111.802 102.195 113.608 98.6531 Q115.436 95.0883 115.436 87.9819 Q115.436 80.8523 113.608 77.3107 Q111.802 73.7459 108.168 73.7459 M108.168 70.0422 Q113.978 70.0422 117.033 74.6486 Q120.112 79.2319 120.112 87.9819 Q120.112 96.7087 117.033 101.315 Q113.978 105.898 108.168 105.898 Q102.358 105.898 99.2789 101.315 Q96.2234 96.7087 96.2234 87.9819 Q96.2234 79.2319 99.2789 74.6486 Q102.358 70.0422 108.168 70.0422 Z\" fill=\"#000000\" fill-rule=\"evenodd\" fill-opacity=\"1\" /><path clip-path=\"url(#clip770)\" d=\"M138.33 73.7459 Q134.719 73.7459 132.89 77.3107 Q131.084 80.8523 131.084 87.9819 Q131.084 95.0883 132.89 98.6531 Q134.719 102.195 138.33 102.195 Q141.964 102.195 143.769 98.6531 Q145.598 95.0883 145.598 87.9819 Q145.598 80.8523 143.769 77.3107 Q141.964 73.7459 138.33 73.7459 M138.33 70.0422 Q144.14 70.0422 147.195 74.6486 Q150.274 79.2319 150.274 87.9819 Q150.274 96.7087 147.195 101.315 Q144.14 105.898 138.33 105.898 Q132.519 105.898 129.441 101.315 Q126.385 96.7087 126.385 87.9819 Q126.385 79.2319 129.441 74.6486 Q132.519 70.0422 138.33 70.0422 Z\" fill=\"#000000\" fill-rule=\"evenodd\" fill-opacity=\"1\" /><polyline clip-path=\"url(#clip772)\" style=\"stroke:#009af9; stroke-linecap:butt; stroke-linejoin:round; stroke-width:4; stroke-opacity:1; fill:none\" points=\"\n",
       "  247.59,1445.72 588.231,314.242 928.873,125.663 1269.51,94.2331 1610.16,88.9948 1950.8,88.1218 2291.44,87.9763 \n",
       "  \"/>\n",
       "<path clip-path=\"url(#clip772)\" d=\"M247.59 1461.72 L236.278 1457.03 L231.59 1445.72 L236.278 1434.4 L247.59 1429.72 L258.902 1434.4 L263.59 1445.72 L258.902 1457.03 Z\" fill=\"#009af9\" fill-rule=\"evenodd\" fill-opacity=\"1\" stroke=\"#000000\" stroke-opacity=\"1\" stroke-width=\"3.2\"/>\n",
       "<path clip-path=\"url(#clip772)\" d=\"M588.231 330.242 L576.919 325.554 L572.231 314.242 L576.919 302.93 L588.231 298.242 L599.543 302.93 L604.231 314.242 L599.543 325.554 Z\" fill=\"#009af9\" fill-rule=\"evenodd\" fill-opacity=\"1\" stroke=\"#000000\" stroke-opacity=\"1\" stroke-width=\"3.2\"/>\n",
       "<path clip-path=\"url(#clip772)\" d=\"M928.873 141.663 L917.561 136.975 L912.873 125.663 L917.561 114.351 L928.873 109.663 L940.185 114.351 L944.873 125.663 L940.185 136.975 Z\" fill=\"#009af9\" fill-rule=\"evenodd\" fill-opacity=\"1\" stroke=\"#000000\" stroke-opacity=\"1\" stroke-width=\"3.2\"/>\n",
       "<path clip-path=\"url(#clip772)\" d=\"M1269.51 110.233 L1258.2 105.545 L1253.51 94.2331 L1258.2 82.9211 L1269.51 78.2331 L1280.83 82.9211 L1285.51 94.2331 L1280.83 105.545 Z\" fill=\"#009af9\" fill-rule=\"evenodd\" fill-opacity=\"1\" stroke=\"#000000\" stroke-opacity=\"1\" stroke-width=\"3.2\"/>\n",
       "<path clip-path=\"url(#clip772)\" d=\"M1610.16 104.995 L1598.84 100.307 L1594.16 88.9948 L1598.84 77.6828 L1610.16 72.9948 L1621.47 77.6828 L1626.16 88.9948 L1621.47 100.307 Z\" fill=\"#009af9\" fill-rule=\"evenodd\" fill-opacity=\"1\" stroke=\"#000000\" stroke-opacity=\"1\" stroke-width=\"3.2\"/>\n",
       "<path clip-path=\"url(#clip772)\" d=\"M1950.8 104.122 L1939.49 99.4338 L1934.8 88.1218 L1939.49 76.8098 L1950.8 72.1218 L1962.11 76.8098 L1966.8 88.1218 L1962.11 99.4338 Z\" fill=\"#009af9\" fill-rule=\"evenodd\" fill-opacity=\"1\" stroke=\"#000000\" stroke-opacity=\"1\" stroke-width=\"3.2\"/>\n",
       "<path clip-path=\"url(#clip772)\" d=\"M2291.44 103.976 L2280.13 99.2883 L2275.44 87.9763 L2280.13 76.6643 L2291.44 71.9763 L2302.75 76.6643 L2307.44 87.9763 L2302.75 99.2883 Z\" fill=\"#009af9\" fill-rule=\"evenodd\" fill-opacity=\"1\" stroke=\"#000000\" stroke-opacity=\"1\" stroke-width=\"3.2\"/>\n",
       "<polyline clip-path=\"url(#clip772)\" style=\"stroke:#e26f46; stroke-linecap:butt; stroke-linejoin:round; stroke-width:4; stroke-opacity:1; fill:none\" points=\"\n",
       "  247.59,1445.72 588.231,785.689 928.873,446.509 1269.51,272.208 1610.16,182.637 1950.8,136.607 2291.44,112.953 \n",
       "  \"/>\n",
       "<path clip-path=\"url(#clip772)\" d=\"M247.59 1429.72 L231.59 1445.72 L247.59 1461.72 L263.59 1445.72 L247.59 1429.72 Z\" fill=\"#e26f46\" fill-rule=\"evenodd\" fill-opacity=\"1\" stroke=\"#000000\" stroke-opacity=\"1\" stroke-width=\"3.2\"/>\n",
       "<path clip-path=\"url(#clip772)\" d=\"M588.231 769.689 L572.231 785.689 L588.231 801.689 L604.231 785.689 L588.231 769.689 Z\" fill=\"#e26f46\" fill-rule=\"evenodd\" fill-opacity=\"1\" stroke=\"#000000\" stroke-opacity=\"1\" stroke-width=\"3.2\"/>\n",
       "<path clip-path=\"url(#clip772)\" d=\"M928.873 430.509 L912.873 446.509 L928.873 462.509 L944.873 446.509 L928.873 430.509 Z\" fill=\"#e26f46\" fill-rule=\"evenodd\" fill-opacity=\"1\" stroke=\"#000000\" stroke-opacity=\"1\" stroke-width=\"3.2\"/>\n",
       "<path clip-path=\"url(#clip772)\" d=\"M1269.51 256.208 L1253.51 272.208 L1269.51 288.208 L1285.51 272.208 L1269.51 256.208 Z\" fill=\"#e26f46\" fill-rule=\"evenodd\" fill-opacity=\"1\" stroke=\"#000000\" stroke-opacity=\"1\" stroke-width=\"3.2\"/>\n",
       "<path clip-path=\"url(#clip772)\" d=\"M1610.16 166.637 L1594.16 182.637 L1610.16 198.637 L1626.16 182.637 L1610.16 166.637 Z\" fill=\"#e26f46\" fill-rule=\"evenodd\" fill-opacity=\"1\" stroke=\"#000000\" stroke-opacity=\"1\" stroke-width=\"3.2\"/>\n",
       "<path clip-path=\"url(#clip772)\" d=\"M1950.8 120.607 L1934.8 136.607 L1950.8 152.607 L1966.8 136.607 L1950.8 120.607 Z\" fill=\"#e26f46\" fill-rule=\"evenodd\" fill-opacity=\"1\" stroke=\"#000000\" stroke-opacity=\"1\" stroke-width=\"3.2\"/>\n",
       "<path clip-path=\"url(#clip772)\" d=\"M2291.44 96.953 L2275.44 112.953 L2291.44 128.953 L2307.44 112.953 L2291.44 96.953 Z\" fill=\"#e26f46\" fill-rule=\"evenodd\" fill-opacity=\"1\" stroke=\"#000000\" stroke-opacity=\"1\" stroke-width=\"3.2\"/>\n",
       "<polyline clip-path=\"url(#clip772)\" style=\"stroke:#3da44d; stroke-linecap:butt; stroke-linejoin:round; stroke-width:4; stroke-opacity:1; fill:none\" points=\"\n",
       "  247.59,1445.72 588.231,682.015 928.873,347.871 1269.51,201.672 1610.16,137.705 1950.8,109.718 2291.44,97.4726 \n",
       "  \"/>\n",
       "<path clip-path=\"url(#clip772)\" d=\"M247.59 1429.72 L232.374 1440.77 L238.182 1458.66 L256.998 1458.66 L262.806 1440.77 Z\" fill=\"#3da44d\" fill-rule=\"evenodd\" fill-opacity=\"1\" stroke=\"#000000\" stroke-opacity=\"1\" stroke-width=\"3.2\"/>\n",
       "<path clip-path=\"url(#clip772)\" d=\"M588.231 666.015 L573.015 677.071 L578.823 694.959 L597.639 694.959 L603.447 677.071 Z\" fill=\"#3da44d\" fill-rule=\"evenodd\" fill-opacity=\"1\" stroke=\"#000000\" stroke-opacity=\"1\" stroke-width=\"3.2\"/>\n",
       "<path clip-path=\"url(#clip772)\" d=\"M928.873 331.871 L913.657 342.927 L919.465 360.815 L938.281 360.815 L944.089 342.927 Z\" fill=\"#3da44d\" fill-rule=\"evenodd\" fill-opacity=\"1\" stroke=\"#000000\" stroke-opacity=\"1\" stroke-width=\"3.2\"/>\n",
       "<path clip-path=\"url(#clip772)\" d=\"M1269.51 185.672 L1254.3 196.728 L1260.11 214.616 L1278.92 214.616 L1284.73 196.728 Z\" fill=\"#3da44d\" fill-rule=\"evenodd\" fill-opacity=\"1\" stroke=\"#000000\" stroke-opacity=\"1\" stroke-width=\"3.2\"/>\n",
       "<path clip-path=\"url(#clip772)\" d=\"M1610.16 121.705 L1594.94 132.761 L1600.75 150.649 L1619.56 150.649 L1625.37 132.761 Z\" fill=\"#3da44d\" fill-rule=\"evenodd\" fill-opacity=\"1\" stroke=\"#000000\" stroke-opacity=\"1\" stroke-width=\"3.2\"/>\n",
       "<path clip-path=\"url(#clip772)\" d=\"M1950.8 93.718 L1935.58 104.774 L1941.39 122.662 L1960.21 122.662 L1966.01 104.774 Z\" fill=\"#3da44d\" fill-rule=\"evenodd\" fill-opacity=\"1\" stroke=\"#000000\" stroke-opacity=\"1\" stroke-width=\"3.2\"/>\n",
       "<path clip-path=\"url(#clip772)\" d=\"M2291.44 81.4726 L2276.22 92.5286 L2282.03 110.417 L2300.85 110.417 L2306.66 92.5286 Z\" fill=\"#3da44d\" fill-rule=\"evenodd\" fill-opacity=\"1\" stroke=\"#000000\" stroke-opacity=\"1\" stroke-width=\"3.2\"/>\n",
       "<polyline clip-path=\"url(#clip772)\" style=\"stroke:#c271d2; stroke-linecap:butt; stroke-linejoin:round; stroke-width:12; stroke-opacity:1; fill:none\" points=\"\n",
       "  247.59,1445.72 288.467,1316.51 329.344,1199.59 370.221,1093.81 411.098,998.087 451.975,911.475 492.852,833.106 533.729,762.195 574.606,698.032 615.483,639.975 \n",
       "  656.36,587.442 697.237,539.909 738.114,496.899 778.991,457.982 819.868,422.769 860.745,390.906 901.622,362.076 942.499,335.989 983.376,312.385 1024.25,291.027 \n",
       "  1065.13,271.701 1106.01,254.215 1146.88,238.392 1187.76,224.075 1228.64,211.121 1269.51,199.4 1310.39,188.794 1351.27,179.197 1392.15,170.513 1433.02,162.656 \n",
       "  1473.9,155.546 1514.78,149.114 1555.65,143.293 1596.53,138.026 1637.41,133.26 1678.29,128.948 1719.16,125.046 1760.04,121.516 1800.92,118.322 1841.79,115.431 \n",
       "  1882.67,112.816 1923.55,110.449 1964.42,108.308 2005.3,106.37 2046.18,104.617 2087.06,103.031 2127.93,101.595 2168.81,100.296 2209.69,99.1213 2250.56,98.0579 \n",
       "  2291.44,97.0957 \n",
       "  \"/>\n",
       "<path clip-path=\"url(#clip770)\" d=\"\n",
       "M1913.48 870.526 L2280.54 870.526 L2280.54 611.326 L1913.48 611.326  Z\n",
       "  \" fill=\"#ffffff\" fill-rule=\"evenodd\" fill-opacity=\"1\"/>\n",
       "<polyline clip-path=\"url(#clip770)\" style=\"stroke:#000000; stroke-linecap:butt; stroke-linejoin:round; stroke-width:4; stroke-opacity:1; fill:none\" points=\"\n",
       "  1913.48,870.526 2280.54,870.526 2280.54,611.326 1913.48,611.326 1913.48,870.526 \n",
       "  \"/>\n",
       "<polyline clip-path=\"url(#clip770)\" style=\"stroke:#009af9; stroke-linecap:butt; stroke-linejoin:round; stroke-width:4; stroke-opacity:1; fill:none\" points=\"\n",
       "  1937.55,663.166 2081.98,663.166 \n",
       "  \"/>\n",
       "<path clip-path=\"url(#clip770)\" d=\"M2009.77 688.766 L1991.67 681.265 L1984.17 663.166 L1991.67 645.067 L2009.77 637.566 L2027.86 645.067 L2035.37 663.166 L2027.86 681.265 Z\" fill=\"#009af9\" fill-rule=\"evenodd\" fill-opacity=\"1\" stroke=\"#000000\" stroke-opacity=\"1\" stroke-width=\"5.12\"/>\n",
       "<path clip-path=\"url(#clip770)\" d=\"M2130.08 666.418 L2130.08 668.502 L2110.5 668.502 Q2110.78 672.9 2113.14 675.215 Q2115.52 677.506 2119.76 677.506 Q2122.21 677.506 2124.5 676.904 Q2126.82 676.302 2129.09 675.099 L2129.09 679.127 Q2126.79 680.099 2124.39 680.608 Q2121.98 681.117 2119.5 681.117 Q2113.3 681.117 2109.66 677.506 Q2106.05 673.895 2106.05 667.738 Q2106.05 661.372 2109.48 657.645 Q2112.93 653.895 2118.76 653.895 Q2123.99 653.895 2127.03 657.275 Q2130.08 660.631 2130.08 666.418 M2125.82 665.168 Q2125.78 661.673 2123.85 659.59 Q2121.96 657.506 2118.81 657.506 Q2115.24 657.506 2113.09 659.52 Q2110.96 661.534 2110.64 665.191 L2125.82 665.168 Z\" fill=\"#000000\" fill-rule=\"evenodd\" fill-opacity=\"1\" /><path clip-path=\"url(#clip770)\" d=\"M2136.63 670.215 L2136.63 654.52 L2140.89 654.52 L2140.89 670.053 Q2140.89 673.733 2142.33 675.585 Q2143.76 677.414 2146.63 677.414 Q2150.08 677.414 2152.07 675.215 Q2154.09 673.015 2154.09 669.219 L2154.09 654.52 L2158.35 654.52 L2158.35 680.446 L2154.09 680.446 L2154.09 676.465 Q2152.54 678.826 2150.47 679.983 Q2148.44 681.117 2145.73 681.117 Q2141.26 681.117 2138.95 678.34 Q2136.63 675.562 2136.63 670.215 M2147.35 653.895 L2147.35 653.895 Z\" fill=\"#000000\" fill-rule=\"evenodd\" fill-opacity=\"1\" /><path clip-path=\"url(#clip770)\" d=\"M2167.12 644.428 L2171.38 644.428 L2171.38 680.446 L2167.12 680.446 L2167.12 644.428 Z\" fill=\"#000000\" fill-rule=\"evenodd\" fill-opacity=\"1\" /><path clip-path=\"url(#clip770)\" d=\"M2202.47 666.418 L2202.47 668.502 L2182.88 668.502 Q2183.16 672.9 2185.52 675.215 Q2187.91 677.506 2192.14 677.506 Q2194.6 677.506 2196.89 676.904 Q2199.2 676.302 2201.47 675.099 L2201.47 679.127 Q2199.18 680.099 2196.77 680.608 Q2194.36 681.117 2191.89 681.117 Q2185.68 681.117 2182.05 677.506 Q2178.44 673.895 2178.44 667.738 Q2178.44 661.372 2181.86 657.645 Q2185.31 653.895 2191.15 653.895 Q2196.38 653.895 2199.41 657.275 Q2202.47 660.631 2202.47 666.418 M2198.21 665.168 Q2198.16 661.673 2196.24 659.59 Q2194.34 657.506 2191.19 657.506 Q2187.63 657.506 2185.47 659.52 Q2183.35 661.534 2183.02 665.191 L2198.21 665.168 Z\" fill=\"#000000\" fill-rule=\"evenodd\" fill-opacity=\"1\" /><path clip-path=\"url(#clip770)\" d=\"M2224.48 658.502 Q2223.76 658.085 2222.91 657.9 Q2222.07 657.691 2221.05 657.691 Q2217.44 657.691 2215.5 660.053 Q2213.58 662.391 2213.58 666.789 L2213.58 680.446 L2209.29 680.446 L2209.29 654.52 L2213.58 654.52 L2213.58 658.548 Q2214.92 656.187 2217.07 655.053 Q2219.22 653.895 2222.3 653.895 Q2222.74 653.895 2223.28 653.965 Q2223.81 654.011 2224.46 654.127 L2224.48 658.502 Z\" fill=\"#000000\" fill-rule=\"evenodd\" fill-opacity=\"1\" /><polyline clip-path=\"url(#clip770)\" style=\"stroke:#e26f46; stroke-linecap:butt; stroke-linejoin:round; stroke-width:4; stroke-opacity:1; fill:none\" points=\"\n",
       "  1937.55,715.006 2081.98,715.006 \n",
       "  \"/>\n",
       "<path clip-path=\"url(#clip770)\" d=\"M2009.77 689.406 L1984.17 715.006 L2009.77 740.606 L2035.37 715.006 L2009.77 689.406 Z\" fill=\"#e26f46\" fill-rule=\"evenodd\" fill-opacity=\"1\" stroke=\"#000000\" stroke-opacity=\"1\" stroke-width=\"5.12\"/>\n",
       "<path clip-path=\"url(#clip770)\" d=\"M2121.24 710.342 Q2120.52 709.925 2119.66 709.74 Q2118.83 709.531 2117.81 709.531 Q2114.2 709.531 2112.26 711.893 Q2110.34 714.231 2110.34 718.629 L2110.34 732.286 L2106.05 732.286 L2106.05 706.36 L2110.34 706.36 L2110.34 710.388 Q2111.68 708.027 2113.83 706.893 Q2115.98 705.735 2119.06 705.735 Q2119.5 705.735 2120.04 705.805 Q2120.57 705.851 2121.22 705.967 L2121.24 710.342 Z\" fill=\"#000000\" fill-rule=\"evenodd\" fill-opacity=\"1\" /><path clip-path=\"url(#clip770)\" d=\"M2125.54 696.268 L2129.83 696.268 L2129.83 717.541 L2142.54 706.36 L2147.97 706.36 L2134.23 718.49 L2148.55 732.286 L2143 732.286 L2129.83 719.624 L2129.83 732.286 L2125.54 732.286 L2125.54 696.268 Z\" fill=\"#000000\" fill-rule=\"evenodd\" fill-opacity=\"1\" /><path clip-path=\"url(#clip770)\" d=\"M2157.79 728.351 L2174.11 728.351 L2174.11 732.286 L2152.16 732.286 L2152.16 728.351 Q2154.83 725.596 2159.41 720.967 Q2164.02 716.314 2165.2 714.971 Q2167.44 712.448 2168.32 710.712 Q2169.22 708.953 2169.22 707.263 Q2169.22 704.508 2167.28 702.772 Q2165.36 701.036 2162.26 701.036 Q2160.06 701.036 2157.6 701.8 Q2155.17 702.564 2152.4 704.115 L2152.4 699.393 Q2155.22 698.258 2157.67 697.68 Q2160.13 697.101 2162.16 697.101 Q2167.54 697.101 2170.73 699.786 Q2173.92 702.471 2173.92 706.962 Q2173.92 709.092 2173.11 711.013 Q2172.33 712.911 2170.22 715.504 Q2169.64 716.175 2166.54 719.393 Q2163.44 722.587 2157.79 728.351 Z\" fill=\"#000000\" fill-rule=\"evenodd\" fill-opacity=\"1\" /><polyline clip-path=\"url(#clip770)\" style=\"stroke:#3da44d; stroke-linecap:butt; stroke-linejoin:round; stroke-width:4; stroke-opacity:1; fill:none\" points=\"\n",
       "  1937.55,766.846 2081.98,766.846 \n",
       "  \"/>\n",
       "<path clip-path=\"url(#clip770)\" d=\"M2009.77 741.246 L1985.42 758.936 L1994.71 787.556 L2024.82 787.556 L2034.11 758.936 Z\" fill=\"#3da44d\" fill-rule=\"evenodd\" fill-opacity=\"1\" stroke=\"#000000\" stroke-opacity=\"1\" stroke-width=\"5.12\"/>\n",
       "<path clip-path=\"url(#clip770)\" d=\"M2121.24 762.182 Q2120.52 761.765 2119.66 761.58 Q2118.83 761.371 2117.81 761.371 Q2114.2 761.371 2112.26 763.733 Q2110.34 766.071 2110.34 770.469 L2110.34 784.126 L2106.05 784.126 L2106.05 758.2 L2110.34 758.2 L2110.34 762.228 Q2111.68 759.867 2113.83 758.733 Q2115.98 757.575 2119.06 757.575 Q2119.5 757.575 2120.04 757.645 Q2120.57 757.691 2121.22 757.807 L2121.24 762.182 Z\" fill=\"#000000\" fill-rule=\"evenodd\" fill-opacity=\"1\" /><path clip-path=\"url(#clip770)\" d=\"M2125.54 748.108 L2129.83 748.108 L2129.83 769.381 L2142.54 758.2 L2147.97 758.2 L2134.23 770.33 L2148.55 784.126 L2143 784.126 L2129.83 771.464 L2129.83 784.126 L2125.54 784.126 L2125.54 748.108 Z\" fill=\"#000000\" fill-rule=\"evenodd\" fill-opacity=\"1\" /><path clip-path=\"url(#clip770)\" d=\"M2166.61 753.64 L2154.8 772.089 L2166.61 772.089 L2166.61 753.64 M2165.38 749.566 L2171.26 749.566 L2171.26 772.089 L2176.19 772.089 L2176.19 775.978 L2171.26 775.978 L2171.26 784.126 L2166.61 784.126 L2166.61 775.978 L2151.01 775.978 L2151.01 771.464 L2165.38 749.566 Z\" fill=\"#000000\" fill-rule=\"evenodd\" fill-opacity=\"1\" /><polyline clip-path=\"url(#clip770)\" style=\"stroke:#c271d2; stroke-linecap:butt; stroke-linejoin:round; stroke-width:4; stroke-opacity:1; fill:none\" points=\"\n",
       "  1937.55,818.686 2081.98,818.686 \n",
       "  \"/>\n",
       "<path clip-path=\"url(#clip770)\" d=\"M2130.08 821.938 L2130.08 824.022 L2110.5 824.022 Q2110.78 828.42 2113.14 830.735 Q2115.52 833.026 2119.76 833.026 Q2122.21 833.026 2124.5 832.424 Q2126.82 831.822 2129.09 830.619 L2129.09 834.647 Q2126.79 835.619 2124.39 836.128 Q2121.98 836.637 2119.5 836.637 Q2113.3 836.637 2109.66 833.026 Q2106.05 829.415 2106.05 823.258 Q2106.05 816.892 2109.48 813.165 Q2112.93 809.415 2118.76 809.415 Q2123.99 809.415 2127.03 812.795 Q2130.08 816.151 2130.08 821.938 M2125.82 820.688 Q2125.78 817.193 2123.85 815.11 Q2121.96 813.026 2118.81 813.026 Q2115.24 813.026 2113.09 815.04 Q2110.96 817.054 2110.64 820.711 L2125.82 820.688 Z\" fill=\"#000000\" fill-rule=\"evenodd\" fill-opacity=\"1\" /><path clip-path=\"url(#clip770)\" d=\"M2157.79 810.04 L2148.41 822.656 L2158.28 835.966 L2153.25 835.966 L2145.71 825.781 L2138.16 835.966 L2133.14 835.966 L2143.21 822.401 L2133.99 810.04 L2139.02 810.04 L2145.89 819.276 L2152.77 810.04 L2157.79 810.04 Z\" fill=\"#000000\" fill-rule=\"evenodd\" fill-opacity=\"1\" /><path clip-path=\"url(#clip770)\" d=\"M2176.08 822.934 Q2170.91 822.934 2168.92 824.114 Q2166.93 825.295 2166.93 828.142 Q2166.93 830.41 2168.41 831.753 Q2169.92 833.072 2172.49 833.072 Q2176.03 833.072 2178.16 830.572 Q2180.31 828.049 2180.31 823.883 L2180.31 822.934 L2176.08 822.934 M2184.57 821.174 L2184.57 835.966 L2180.31 835.966 L2180.31 832.031 Q2178.85 834.392 2176.68 835.526 Q2174.5 836.637 2171.35 836.637 Q2167.37 836.637 2165.01 834.415 Q2162.67 832.17 2162.67 828.42 Q2162.67 824.045 2165.59 821.823 Q2168.53 819.6 2174.34 819.6 L2180.31 819.6 L2180.31 819.184 Q2180.31 816.244 2178.37 814.647 Q2176.45 813.026 2172.95 813.026 Q2170.73 813.026 2168.62 813.559 Q2166.52 814.091 2164.57 815.156 L2164.57 811.221 Q2166.91 810.318 2169.11 809.878 Q2171.31 809.415 2173.39 809.415 Q2179.02 809.415 2181.79 812.332 Q2184.57 815.249 2184.57 821.174 Z\" fill=\"#000000\" fill-rule=\"evenodd\" fill-opacity=\"1\" /><path clip-path=\"url(#clip770)\" d=\"M2212 811.036 L2212 815.017 Q2210.2 814.022 2208.37 813.536 Q2206.56 813.026 2204.71 813.026 Q2200.57 813.026 2198.28 815.665 Q2195.98 818.281 2195.98 823.026 Q2195.98 827.772 2198.28 830.41 Q2200.57 833.026 2204.71 833.026 Q2206.56 833.026 2208.37 832.54 Q2210.2 832.031 2212 831.035 L2212 834.971 Q2210.22 835.804 2208.3 836.221 Q2206.4 836.637 2204.25 836.637 Q2198.39 836.637 2194.94 832.957 Q2191.49 829.276 2191.49 823.026 Q2191.49 816.684 2194.97 813.049 Q2198.46 809.415 2204.53 809.415 Q2206.49 809.415 2208.37 809.832 Q2210.24 810.225 2212 811.036 Z\" fill=\"#000000\" fill-rule=\"evenodd\" fill-opacity=\"1\" /><path clip-path=\"url(#clip770)\" d=\"M2223.62 802.679 L2223.62 810.04 L2232.4 810.04 L2232.4 813.35 L2223.62 813.35 L2223.62 827.424 Q2223.62 830.596 2224.48 831.498 Q2225.36 832.401 2228.02 832.401 L2232.4 832.401 L2232.4 835.966 L2228.02 835.966 Q2223.09 835.966 2221.22 834.137 Q2219.34 832.285 2219.34 827.424 L2219.34 813.35 L2216.22 813.35 L2216.22 810.04 L2219.34 810.04 L2219.34 802.679 L2223.62 802.679 Z\" fill=\"#000000\" fill-rule=\"evenodd\" fill-opacity=\"1\" /></svg>\n"
      ]
     },
     "execution_count": 12,
     "metadata": {},
     "output_type": "execute_result"
    }
   ],
   "source": [
    "plot( solver(f, euler, t₀, x₀, dt, nsteps); marker = :o, label=\"euler\")\n",
    "plot!(solver(f, rk2,   t₀, x₀, dt, nsteps); marker = :d, label=\"rk2\")\n",
    "plot!(solver(f, rk4,   t₀, x₀, dt, nsteps); marker = :p, label=\"rk4\")\n",
    "t = 0:0.1:5\n",
    "plot!(t, 1 .- exp.(-t); line = 3, label = \"exact\", legend = :right)"
   ]
  },
  {
   "cell_type": "markdown",
   "id": "19e5cb0e",
   "metadata": {},
   "source": [
    "## Objet function\n",
    "\n",
    "Pour améliorer l'interface, imaginons un type `RungeKutta` capable de fournir plusieurs méthodes de ce type.\n",
    "Un schéma de Runge-Kutta peut se construire en utilisant le tableau de Butcher:\n",
    "\n",
    "$$\n",
    "\\begin{array}{c|cccc}\n",
    " c₁  &        &        &        &        \\\\\n",
    " c₂  & a_{21} &        &        &        \\\\\n",
    " c₃  & a_{31} & a_{32} &        &        \\\\\n",
    " c₄  & a_{41} & a_{42} & a_{43} &        \\\\\n",
    " \\hline\n",
    "     & b_1    & b_2    & b_3    & b_4    \\\\\n",
    "\\end{array}\n",
    "$$\n",
    "\n",
    "$$\n",
    "\\forall i = 1, \\dotsc, q, \\begin{cases}t_{n,i} &= t_n + c_i h_n, \\\\ \n",
    "y_{n,i} &= y_n + h_n \\sum_{k = 1}^{i-1} a_{ik} p_{n,k}\\\\ \n",
    "p_{n,i} &= f(t_{n,i}, y_{n,i}) \\end{cases}\n",
    "$$\n",
    "\n",
    "$$\n",
    "y_{n+1} = y_n + h_n \\sum_{k = 1}^q b_k p_{n,k}.\n",
    "$$\n"
   ]
  },
  {
   "cell_type": "code",
   "execution_count": 14,
   "id": "97c2afec",
   "metadata": {},
   "outputs": [],
   "source": [
    "struct RungeKutta{T}\n",
    "    \n",
    "    q :: Int\n",
    "    a :: Array{T, 2}\n",
    "    b :: Array{T, 1}\n",
    "    c :: Array{T, 1}\n",
    "    \n",
    "    tn :: Vector{T}\n",
    "    yn :: Vector{T}\n",
    "    pn :: Vector{T}\n",
    "    \n",
    "    function RungeKutta( a::Array{T,2}, b::Vector{T}, c::Vector{T}) where T\n",
    "        \n",
    "        q = length(c)\n",
    "        @assert ( length(c) == size(a,1))\n",
    "        @assert ( length(b) == size(a,2))\n",
    "        tn = zeros(T, q)\n",
    "        yn = zeros(T, q)\n",
    "        pn = zeros(T, q)\n",
    "        new{T}( q, a, b, c, tn, yn, pn)\n",
    "        \n",
    "    end\n",
    "\n",
    "end"
   ]
  },
  {
   "cell_type": "code",
   "execution_count": 15,
   "id": "ebbdd98c",
   "metadata": {},
   "outputs": [],
   "source": [
    "function (rk::RungeKutta)(f::Function, t::T, y::T,  h::T) where T\n",
    "\n",
    "    for i = 1:rk.q\n",
    "        rk.tn[i] = t + rk.c[i] * h\n",
    "        rk.yn[i] = y + h * sum([rk.a[i,k]*rk.pn[k] for k = 1:i-1])\n",
    "        rk.pn[i] = f(rk.tn[i],rk.yn[i])\n",
    "    end\n",
    "\n",
    "    t + h, y + h * sum([rk.b[k]*rk.pn[k] for k in 1:rk.q ])\n",
    "\n",
    "end"
   ]
  },
  {
   "cell_type": "code",
   "execution_count": 16,
   "id": "e2be1182",
   "metadata": {},
   "outputs": [
    {
     "data": {
      "text/plain": [
       "solver (generic function with 2 methods)"
      ]
     },
     "execution_count": 16,
     "metadata": {},
     "output_type": "execute_result"
    }
   ],
   "source": [
    "function solver(f::Function,\n",
    "                Method::RungeKutta,\n",
    "                t₀::T,\n",
    "                y₀::T, h::T, nsteps::Int) where T\n",
    "\n",
    "    t = zeros(T,nsteps)\n",
    "    y = similar(t)\n",
    "\n",
    "    t[1] = t₀\n",
    "    y[1] = y₀\n",
    "\n",
    "    for i in 2:nsteps\n",
    "       t[i], y[i] = Method(f,t[i-1],y[i-1], h)\n",
    "    end\n",
    "\n",
    "    t, y\n",
    "\n",
    "end"
   ]
  },
  {
   "cell_type": "code",
   "execution_count": 27,
   "id": "b8920035",
   "metadata": {},
   "outputs": [
    {
     "data": {
      "text/plain": [
       "4×4 Matrix{BigFloat}:\n",
       " 0.0  0.0  0.0  0.0\n",
       " 0.5  0.0  0.0  0.0\n",
       " 0.0  0.5  0.0  0.0\n",
       " 0.0  0.0  1.0  0.0"
      ]
     },
     "execution_count": 27,
     "metadata": {},
     "output_type": "execute_result"
    }
   ],
   "source": [
    "a = BigFloat.([ 0   0   0 0; \n",
    "      1/2 0   0 0; \n",
    "      0   1/2 0 0; \n",
    "      0   0   1 0])"
   ]
  },
  {
   "cell_type": "code",
   "execution_count": 28,
   "id": "7bc5ed01",
   "metadata": {},
   "outputs": [
    {
     "data": {
      "text/plain": [
       "4-element Vector{BigFloat}:\n",
       " 0.0\n",
       " 0.5\n",
       " 0.5\n",
       " 1.0"
      ]
     },
     "execution_count": 28,
     "metadata": {},
     "output_type": "execute_result"
    }
   ],
   "source": [
    "b = BigFloat.([1/6 ,1/3, 1/3, 1/6])\n",
    "c = BigFloat.([0   ,1/2, 1/2, 1  ])"
   ]
  },
  {
   "cell_type": "code",
   "execution_count": 29,
   "id": "928ff497",
   "metadata": {},
   "outputs": [
    {
     "data": {
      "text/plain": [
       "RungeKutta{BigFloat}(4, BigFloat[0.0 0.0 0.0 0.0; 0.5 0.0 0.0 0.0; 0.0 0.5 0.0 0.0; 0.0 0.0 1.0 0.0], BigFloat[0.1666666666666666574148081281236954964697360992431640625, 0.333333333333333314829616256247390992939472198486328125, 0.333333333333333314829616256247390992939472198486328125, 0.1666666666666666574148081281236954964697360992431640625], BigFloat[0.0, 0.5, 0.5, 1.0], BigFloat[0.0, 0.0, 0.0, 0.0], BigFloat[0.0, 0.0, 0.0, 0.0], BigFloat[0.0, 0.0, 0.0, 0.0])"
      ]
     },
     "execution_count": 29,
     "metadata": {},
     "output_type": "execute_result"
    }
   ],
   "source": [
    "rk4_new = RungeKutta(a, b, c)"
   ]
  },
  {
   "cell_type": "code",
   "execution_count": 30,
   "id": "0238ded6",
   "metadata": {},
   "outputs": [
    {
     "data": {
      "image/svg+xml": [
       "<?xml version=\"1.0\" encoding=\"utf-8\"?>\n",
       "<svg xmlns=\"http://www.w3.org/2000/svg\" xmlns:xlink=\"http://www.w3.org/1999/xlink\" width=\"600\" height=\"400\" viewBox=\"0 0 2400 1600\">\n",
       "<defs>\n",
       "  <clipPath id=\"clip850\">\n",
       "    <rect x=\"0\" y=\"0\" width=\"2400\" height=\"1600\"/>\n",
       "  </clipPath>\n",
       "</defs>\n",
       "<path clip-path=\"url(#clip850)\" d=\"\n",
       "M0 1600 L2400 1600 L2400 0 L0 0  Z\n",
       "  \" fill=\"#ffffff\" fill-rule=\"evenodd\" fill-opacity=\"1\"/>\n",
       "<defs>\n",
       "  <clipPath id=\"clip851\">\n",
       "    <rect x=\"480\" y=\"0\" width=\"1681\" height=\"1600\"/>\n",
       "  </clipPath>\n",
       "</defs>\n",
       "<path clip-path=\"url(#clip850)\" d=\"\n",
       "M186.274 1486.45 L2352.76 1486.45 L2352.76 47.2441 L186.274 47.2441  Z\n",
       "  \" fill=\"#ffffff\" fill-rule=\"evenodd\" fill-opacity=\"1\"/>\n",
       "<defs>\n",
       "  <clipPath id=\"clip852\">\n",
       "    <rect x=\"186\" y=\"47\" width=\"2167\" height=\"1440\"/>\n",
       "  </clipPath>\n",
       "</defs>\n",
       "<polyline clip-path=\"url(#clip852)\" style=\"stroke:#000000; stroke-linecap:butt; stroke-linejoin:round; stroke-width:2; stroke-opacity:0.1; fill:none\" points=\"\n",
       "  247.59,1486.45 247.59,47.2441 \n",
       "  \"/>\n",
       "<polyline clip-path=\"url(#clip852)\" style=\"stroke:#000000; stroke-linecap:butt; stroke-linejoin:round; stroke-width:2; stroke-opacity:0.1; fill:none\" points=\"\n",
       "  656.36,1486.45 656.36,47.2441 \n",
       "  \"/>\n",
       "<polyline clip-path=\"url(#clip852)\" style=\"stroke:#000000; stroke-linecap:butt; stroke-linejoin:round; stroke-width:2; stroke-opacity:0.1; fill:none\" points=\"\n",
       "  1065.13,1486.45 1065.13,47.2441 \n",
       "  \"/>\n",
       "<polyline clip-path=\"url(#clip852)\" style=\"stroke:#000000; stroke-linecap:butt; stroke-linejoin:round; stroke-width:2; stroke-opacity:0.1; fill:none\" points=\"\n",
       "  1473.9,1486.45 1473.9,47.2441 \n",
       "  \"/>\n",
       "<polyline clip-path=\"url(#clip852)\" style=\"stroke:#000000; stroke-linecap:butt; stroke-linejoin:round; stroke-width:2; stroke-opacity:0.1; fill:none\" points=\"\n",
       "  1882.67,1486.45 1882.67,47.2441 \n",
       "  \"/>\n",
       "<polyline clip-path=\"url(#clip852)\" style=\"stroke:#000000; stroke-linecap:butt; stroke-linejoin:round; stroke-width:2; stroke-opacity:0.1; fill:none\" points=\"\n",
       "  2291.44,1486.45 2291.44,47.2441 \n",
       "  \"/>\n",
       "<polyline clip-path=\"url(#clip850)\" style=\"stroke:#000000; stroke-linecap:butt; stroke-linejoin:round; stroke-width:4; stroke-opacity:1; fill:none\" points=\"\n",
       "  186.274,1486.45 2352.76,1486.45 \n",
       "  \"/>\n",
       "<polyline clip-path=\"url(#clip850)\" style=\"stroke:#000000; stroke-linecap:butt; stroke-linejoin:round; stroke-width:4; stroke-opacity:1; fill:none\" points=\"\n",
       "  247.59,1486.45 247.59,1467.55 \n",
       "  \"/>\n",
       "<polyline clip-path=\"url(#clip850)\" style=\"stroke:#000000; stroke-linecap:butt; stroke-linejoin:round; stroke-width:4; stroke-opacity:1; fill:none\" points=\"\n",
       "  656.36,1486.45 656.36,1467.55 \n",
       "  \"/>\n",
       "<polyline clip-path=\"url(#clip850)\" style=\"stroke:#000000; stroke-linecap:butt; stroke-linejoin:round; stroke-width:4; stroke-opacity:1; fill:none\" points=\"\n",
       "  1065.13,1486.45 1065.13,1467.55 \n",
       "  \"/>\n",
       "<polyline clip-path=\"url(#clip850)\" style=\"stroke:#000000; stroke-linecap:butt; stroke-linejoin:round; stroke-width:4; stroke-opacity:1; fill:none\" points=\"\n",
       "  1473.9,1486.45 1473.9,1467.55 \n",
       "  \"/>\n",
       "<polyline clip-path=\"url(#clip850)\" style=\"stroke:#000000; stroke-linecap:butt; stroke-linejoin:round; stroke-width:4; stroke-opacity:1; fill:none\" points=\"\n",
       "  1882.67,1486.45 1882.67,1467.55 \n",
       "  \"/>\n",
       "<polyline clip-path=\"url(#clip850)\" style=\"stroke:#000000; stroke-linecap:butt; stroke-linejoin:round; stroke-width:4; stroke-opacity:1; fill:none\" points=\"\n",
       "  2291.44,1486.45 2291.44,1467.55 \n",
       "  \"/>\n",
       "<path clip-path=\"url(#clip850)\" d=\"M247.59 1517.37 Q243.978 1517.37 242.15 1520.93 Q240.344 1524.47 240.344 1531.6 Q240.344 1538.71 242.15 1542.27 Q243.978 1545.82 247.59 1545.82 Q251.224 1545.82 253.029 1542.27 Q254.858 1538.71 254.858 1531.6 Q254.858 1524.47 253.029 1520.93 Q251.224 1517.37 247.59 1517.37 M247.59 1513.66 Q253.4 1513.66 256.455 1518.27 Q259.534 1522.85 259.534 1531.6 Q259.534 1540.33 256.455 1544.94 Q253.4 1549.52 247.59 1549.52 Q241.779 1549.52 238.701 1544.94 Q235.645 1540.33 235.645 1531.6 Q235.645 1522.85 238.701 1518.27 Q241.779 1513.66 247.59 1513.66 Z\" fill=\"#000000\" fill-rule=\"evenodd\" fill-opacity=\"1\" /><path clip-path=\"url(#clip850)\" d=\"M646.742 1544.91 L654.381 1544.91 L654.381 1518.55 L646.07 1520.21 L646.07 1515.95 L654.334 1514.29 L659.01 1514.29 L659.01 1544.91 L666.649 1544.91 L666.649 1548.85 L646.742 1548.85 L646.742 1544.91 Z\" fill=\"#000000\" fill-rule=\"evenodd\" fill-opacity=\"1\" /><path clip-path=\"url(#clip850)\" d=\"M1059.78 1544.91 L1076.1 1544.91 L1076.1 1548.85 L1054.16 1548.85 L1054.16 1544.91 Q1056.82 1542.16 1061.4 1537.53 Q1066.01 1532.88 1067.19 1531.53 Q1069.44 1529.01 1070.32 1527.27 Q1071.22 1525.51 1071.22 1523.82 Q1071.22 1521.07 1069.27 1519.33 Q1067.35 1517.6 1064.25 1517.6 Q1062.05 1517.6 1059.6 1518.36 Q1057.17 1519.13 1054.39 1520.68 L1054.39 1515.95 Q1057.21 1514.82 1059.67 1514.24 Q1062.12 1513.66 1064.16 1513.66 Q1069.53 1513.66 1072.72 1516.35 Q1075.92 1519.03 1075.92 1523.52 Q1075.92 1525.65 1075.11 1527.57 Q1074.32 1529.47 1072.21 1532.07 Q1071.63 1532.74 1068.53 1535.95 Q1065.43 1539.15 1059.78 1544.91 Z\" fill=\"#000000\" fill-rule=\"evenodd\" fill-opacity=\"1\" /><path clip-path=\"url(#clip850)\" d=\"M1478.15 1530.21 Q1481.5 1530.93 1483.38 1533.2 Q1485.28 1535.47 1485.28 1538.8 Q1485.28 1543.92 1481.76 1546.72 Q1478.24 1549.52 1471.76 1549.52 Q1469.58 1549.52 1467.27 1549.08 Q1464.98 1548.66 1462.52 1547.81 L1462.52 1543.29 Q1464.47 1544.43 1466.78 1545.01 Q1469.1 1545.58 1471.62 1545.58 Q1476.02 1545.58 1478.31 1543.85 Q1480.62 1542.11 1480.62 1538.8 Q1480.62 1535.75 1478.47 1534.03 Q1476.34 1532.3 1472.52 1532.3 L1468.49 1532.3 L1468.49 1528.45 L1472.71 1528.45 Q1476.16 1528.45 1477.99 1527.09 Q1479.81 1525.7 1479.81 1523.11 Q1479.81 1520.45 1477.92 1519.03 Q1476.04 1517.6 1472.52 1517.6 Q1470.6 1517.6 1468.4 1518.01 Q1466.2 1518.43 1463.56 1519.31 L1463.56 1515.14 Q1466.23 1514.4 1468.54 1514.03 Q1470.88 1513.66 1472.94 1513.66 Q1478.26 1513.66 1481.37 1516.09 Q1484.47 1518.5 1484.47 1522.62 Q1484.47 1525.49 1482.82 1527.48 Q1481.18 1529.45 1478.15 1530.21 Z\" fill=\"#000000\" fill-rule=\"evenodd\" fill-opacity=\"1\" /><path clip-path=\"url(#clip850)\" d=\"M1885.68 1518.36 L1873.87 1536.81 L1885.68 1536.81 L1885.68 1518.36 M1884.45 1514.29 L1890.33 1514.29 L1890.33 1536.81 L1895.26 1536.81 L1895.26 1540.7 L1890.33 1540.7 L1890.33 1548.85 L1885.68 1548.85 L1885.68 1540.7 L1870.08 1540.7 L1870.08 1536.19 L1884.45 1514.29 Z\" fill=\"#000000\" fill-rule=\"evenodd\" fill-opacity=\"1\" /><path clip-path=\"url(#clip850)\" d=\"M2281.72 1514.29 L2300.07 1514.29 L2300.07 1518.22 L2286 1518.22 L2286 1526.7 Q2287.02 1526.35 2288.04 1526.19 Q2289.06 1526 2290.07 1526 Q2295.86 1526 2299.24 1529.17 Q2302.62 1532.34 2302.62 1537.76 Q2302.62 1543.34 2299.15 1546.44 Q2295.68 1549.52 2289.36 1549.52 Q2287.18 1549.52 2284.91 1549.15 Q2282.67 1548.78 2280.26 1548.04 L2280.26 1543.34 Q2282.34 1544.47 2284.57 1545.03 Q2286.79 1545.58 2289.26 1545.58 Q2293.27 1545.58 2295.61 1543.48 Q2297.94 1541.37 2297.94 1537.76 Q2297.94 1534.15 2295.61 1532.04 Q2293.27 1529.94 2289.26 1529.94 Q2287.39 1529.94 2285.51 1530.35 Q2283.66 1530.77 2281.72 1531.65 L2281.72 1514.29 Z\" fill=\"#000000\" fill-rule=\"evenodd\" fill-opacity=\"1\" /><polyline clip-path=\"url(#clip852)\" style=\"stroke:#000000; stroke-linecap:butt; stroke-linejoin:round; stroke-width:2; stroke-opacity:0.1; fill:none\" points=\"\n",
       "  186.274,1445.72 2352.76,1445.72 \n",
       "  \"/>\n",
       "<polyline clip-path=\"url(#clip852)\" style=\"stroke:#000000; stroke-linecap:butt; stroke-linejoin:round; stroke-width:2; stroke-opacity:0.1; fill:none\" points=\"\n",
       "  186.274,1103.98 2352.76,1103.98 \n",
       "  \"/>\n",
       "<polyline clip-path=\"url(#clip852)\" style=\"stroke:#000000; stroke-linecap:butt; stroke-linejoin:round; stroke-width:2; stroke-opacity:0.1; fill:none\" points=\"\n",
       "  186.274,762.241 2352.76,762.241 \n",
       "  \"/>\n",
       "<polyline clip-path=\"url(#clip852)\" style=\"stroke:#000000; stroke-linecap:butt; stroke-linejoin:round; stroke-width:2; stroke-opacity:0.1; fill:none\" points=\"\n",
       "  186.274,420.503 2352.76,420.503 \n",
       "  \"/>\n",
       "<polyline clip-path=\"url(#clip852)\" style=\"stroke:#000000; stroke-linecap:butt; stroke-linejoin:round; stroke-width:2; stroke-opacity:0.1; fill:none\" points=\"\n",
       "  186.274,78.7658 2352.76,78.7658 \n",
       "  \"/>\n",
       "<polyline clip-path=\"url(#clip850)\" style=\"stroke:#000000; stroke-linecap:butt; stroke-linejoin:round; stroke-width:4; stroke-opacity:1; fill:none\" points=\"\n",
       "  186.274,1486.45 186.274,47.2441 \n",
       "  \"/>\n",
       "<polyline clip-path=\"url(#clip850)\" style=\"stroke:#000000; stroke-linecap:butt; stroke-linejoin:round; stroke-width:4; stroke-opacity:1; fill:none\" points=\"\n",
       "  186.274,1445.72 205.172,1445.72 \n",
       "  \"/>\n",
       "<polyline clip-path=\"url(#clip850)\" style=\"stroke:#000000; stroke-linecap:butt; stroke-linejoin:round; stroke-width:4; stroke-opacity:1; fill:none\" points=\"\n",
       "  186.274,1103.98 205.172,1103.98 \n",
       "  \"/>\n",
       "<polyline clip-path=\"url(#clip850)\" style=\"stroke:#000000; stroke-linecap:butt; stroke-linejoin:round; stroke-width:4; stroke-opacity:1; fill:none\" points=\"\n",
       "  186.274,762.241 205.172,762.241 \n",
       "  \"/>\n",
       "<polyline clip-path=\"url(#clip850)\" style=\"stroke:#000000; stroke-linecap:butt; stroke-linejoin:round; stroke-width:4; stroke-opacity:1; fill:none\" points=\"\n",
       "  186.274,420.503 205.172,420.503 \n",
       "  \"/>\n",
       "<polyline clip-path=\"url(#clip850)\" style=\"stroke:#000000; stroke-linecap:butt; stroke-linejoin:round; stroke-width:4; stroke-opacity:1; fill:none\" points=\"\n",
       "  186.274,78.7658 205.172,78.7658 \n",
       "  \"/>\n",
       "<path clip-path=\"url(#clip850)\" d=\"M62.9365 1431.51 Q59.3254 1431.51 57.4967 1435.08 Q55.6912 1438.62 55.6912 1445.75 Q55.6912 1452.86 57.4967 1456.42 Q59.3254 1459.96 62.9365 1459.96 Q66.5707 1459.96 68.3763 1456.42 Q70.205 1452.86 70.205 1445.75 Q70.205 1438.62 68.3763 1435.08 Q66.5707 1431.51 62.9365 1431.51 M62.9365 1427.81 Q68.7467 1427.81 71.8022 1432.42 Q74.8809 1437 74.8809 1445.75 Q74.8809 1454.48 71.8022 1459.08 Q68.7467 1463.67 62.9365 1463.67 Q57.1264 1463.67 54.0477 1459.08 Q50.9921 1454.48 50.9921 1445.75 Q50.9921 1437 54.0477 1432.42 Q57.1264 1427.81 62.9365 1427.81 Z\" fill=\"#000000\" fill-rule=\"evenodd\" fill-opacity=\"1\" /><path clip-path=\"url(#clip850)\" d=\"M83.0984 1457.12 L87.9827 1457.12 L87.9827 1463 L83.0984 1463 L83.0984 1457.12 Z\" fill=\"#000000\" fill-rule=\"evenodd\" fill-opacity=\"1\" /><path clip-path=\"url(#clip850)\" d=\"M108.168 1431.51 Q104.557 1431.51 102.728 1435.08 Q100.922 1438.62 100.922 1445.75 Q100.922 1452.86 102.728 1456.42 Q104.557 1459.96 108.168 1459.96 Q111.802 1459.96 113.608 1456.42 Q115.436 1452.86 115.436 1445.75 Q115.436 1438.62 113.608 1435.08 Q111.802 1431.51 108.168 1431.51 M108.168 1427.81 Q113.978 1427.81 117.033 1432.42 Q120.112 1437 120.112 1445.75 Q120.112 1454.48 117.033 1459.08 Q113.978 1463.67 108.168 1463.67 Q102.358 1463.67 99.2789 1459.08 Q96.2234 1454.48 96.2234 1445.75 Q96.2234 1437 99.2789 1432.42 Q102.358 1427.81 108.168 1427.81 Z\" fill=\"#000000\" fill-rule=\"evenodd\" fill-opacity=\"1\" /><path clip-path=\"url(#clip850)\" d=\"M138.33 1431.51 Q134.719 1431.51 132.89 1435.08 Q131.084 1438.62 131.084 1445.75 Q131.084 1452.86 132.89 1456.42 Q134.719 1459.96 138.33 1459.96 Q141.964 1459.96 143.769 1456.42 Q145.598 1452.86 145.598 1445.75 Q145.598 1438.62 143.769 1435.08 Q141.964 1431.51 138.33 1431.51 M138.33 1427.81 Q144.14 1427.81 147.195 1432.42 Q150.274 1437 150.274 1445.75 Q150.274 1454.48 147.195 1459.08 Q144.14 1463.67 138.33 1463.67 Q132.519 1463.67 129.441 1459.08 Q126.385 1454.48 126.385 1445.75 Q126.385 1437 129.441 1432.42 Q132.519 1427.81 138.33 1427.81 Z\" fill=\"#000000\" fill-rule=\"evenodd\" fill-opacity=\"1\" /><path clip-path=\"url(#clip850)\" d=\"M63.9319 1089.78 Q60.3208 1089.78 58.4921 1093.34 Q56.6865 1096.88 56.6865 1104.01 Q56.6865 1111.12 58.4921 1114.68 Q60.3208 1118.23 63.9319 1118.23 Q67.5661 1118.23 69.3717 1114.68 Q71.2004 1111.12 71.2004 1104.01 Q71.2004 1096.88 69.3717 1093.34 Q67.5661 1089.78 63.9319 1089.78 M63.9319 1086.07 Q69.742 1086.07 72.7976 1090.68 Q75.8763 1095.26 75.8763 1104.01 Q75.8763 1112.74 72.7976 1117.35 Q69.742 1121.93 63.9319 1121.93 Q58.1217 1121.93 55.043 1117.35 Q51.9875 1112.74 51.9875 1104.01 Q51.9875 1095.26 55.043 1090.68 Q58.1217 1086.07 63.9319 1086.07 Z\" fill=\"#000000\" fill-rule=\"evenodd\" fill-opacity=\"1\" /><path clip-path=\"url(#clip850)\" d=\"M84.0938 1115.38 L88.978 1115.38 L88.978 1121.26 L84.0938 1121.26 L84.0938 1115.38 Z\" fill=\"#000000\" fill-rule=\"evenodd\" fill-opacity=\"1\" /><path clip-path=\"url(#clip850)\" d=\"M103.191 1117.32 L119.51 1117.32 L119.51 1121.26 L97.566 1121.26 L97.566 1117.32 Q100.228 1114.57 104.811 1109.94 Q109.418 1105.29 110.598 1103.94 Q112.844 1101.42 113.723 1099.68 Q114.626 1097.93 114.626 1096.24 Q114.626 1093.48 112.682 1091.74 Q110.76 1090.01 107.658 1090.01 Q105.459 1090.01 103.006 1090.77 Q100.575 1091.54 97.7974 1093.09 L97.7974 1088.36 Q100.621 1087.23 103.075 1086.65 Q105.529 1086.07 107.566 1086.07 Q112.936 1086.07 116.131 1088.76 Q119.325 1091.44 119.325 1095.93 Q119.325 1098.06 118.515 1099.99 Q117.728 1101.88 115.621 1104.48 Q115.043 1105.15 111.941 1108.36 Q108.839 1111.56 103.191 1117.32 Z\" fill=\"#000000\" fill-rule=\"evenodd\" fill-opacity=\"1\" /><path clip-path=\"url(#clip850)\" d=\"M129.371 1086.7 L147.728 1086.7 L147.728 1090.63 L133.654 1090.63 L133.654 1099.11 Q134.672 1098.76 135.691 1098.6 Q136.709 1098.41 137.728 1098.41 Q143.515 1098.41 146.894 1101.58 Q150.274 1104.75 150.274 1110.17 Q150.274 1115.75 146.802 1118.85 Q143.33 1121.93 137.01 1121.93 Q134.834 1121.93 132.566 1121.56 Q130.32 1121.19 127.913 1120.45 L127.913 1115.75 Q129.996 1116.88 132.219 1117.44 Q134.441 1117.99 136.918 1117.99 Q140.922 1117.99 143.26 1115.89 Q145.598 1113.78 145.598 1110.17 Q145.598 1106.56 143.26 1104.45 Q140.922 1102.35 136.918 1102.35 Q135.043 1102.35 133.168 1102.76 Q131.316 1103.18 129.371 1104.06 L129.371 1086.7 Z\" fill=\"#000000\" fill-rule=\"evenodd\" fill-opacity=\"1\" /><path clip-path=\"url(#clip850)\" d=\"M62.9365 748.039 Q59.3254 748.039 57.4967 751.604 Q55.6912 755.146 55.6912 762.275 Q55.6912 769.382 57.4967 772.947 Q59.3254 776.488 62.9365 776.488 Q66.5707 776.488 68.3763 772.947 Q70.205 769.382 70.205 762.275 Q70.205 755.146 68.3763 751.604 Q66.5707 748.039 62.9365 748.039 M62.9365 744.336 Q68.7467 744.336 71.8022 748.942 Q74.8809 753.526 74.8809 762.275 Q74.8809 771.002 71.8022 775.609 Q68.7467 780.192 62.9365 780.192 Q57.1264 780.192 54.0477 775.609 Q50.9921 771.002 50.9921 762.275 Q50.9921 753.526 54.0477 748.942 Q57.1264 744.336 62.9365 744.336 Z\" fill=\"#000000\" fill-rule=\"evenodd\" fill-opacity=\"1\" /><path clip-path=\"url(#clip850)\" d=\"M83.0984 773.641 L87.9827 773.641 L87.9827 779.521 L83.0984 779.521 L83.0984 773.641 Z\" fill=\"#000000\" fill-rule=\"evenodd\" fill-opacity=\"1\" /><path clip-path=\"url(#clip850)\" d=\"M98.2141 744.961 L116.57 744.961 L116.57 748.896 L102.496 748.896 L102.496 757.368 Q103.515 757.021 104.534 756.859 Q105.552 756.674 106.571 756.674 Q112.358 756.674 115.737 759.845 Q119.117 763.016 119.117 768.433 Q119.117 774.012 115.645 777.113 Q112.172 780.192 105.853 780.192 Q103.677 780.192 101.409 779.822 Q99.1632 779.451 96.7558 778.711 L96.7558 774.012 Q98.8391 775.146 101.061 775.701 Q103.284 776.257 105.76 776.257 Q109.765 776.257 112.103 774.15 Q114.441 772.044 114.441 768.433 Q114.441 764.822 112.103 762.715 Q109.765 760.609 105.76 760.609 Q103.885 760.609 102.01 761.025 Q100.159 761.442 98.2141 762.322 L98.2141 744.961 Z\" fill=\"#000000\" fill-rule=\"evenodd\" fill-opacity=\"1\" /><path clip-path=\"url(#clip850)\" d=\"M138.33 748.039 Q134.719 748.039 132.89 751.604 Q131.084 755.146 131.084 762.275 Q131.084 769.382 132.89 772.947 Q134.719 776.488 138.33 776.488 Q141.964 776.488 143.769 772.947 Q145.598 769.382 145.598 762.275 Q145.598 755.146 143.769 751.604 Q141.964 748.039 138.33 748.039 M138.33 744.336 Q144.14 744.336 147.195 748.942 Q150.274 753.526 150.274 762.275 Q150.274 771.002 147.195 775.609 Q144.14 780.192 138.33 780.192 Q132.519 780.192 129.441 775.609 Q126.385 771.002 126.385 762.275 Q126.385 753.526 129.441 748.942 Q132.519 744.336 138.33 744.336 Z\" fill=\"#000000\" fill-rule=\"evenodd\" fill-opacity=\"1\" /><path clip-path=\"url(#clip850)\" d=\"M63.9319 406.302 Q60.3208 406.302 58.4921 409.867 Q56.6865 413.408 56.6865 420.538 Q56.6865 427.644 58.4921 431.209 Q60.3208 434.751 63.9319 434.751 Q67.5661 434.751 69.3717 431.209 Q71.2004 427.644 71.2004 420.538 Q71.2004 413.408 69.3717 409.867 Q67.5661 406.302 63.9319 406.302 M63.9319 402.598 Q69.742 402.598 72.7976 407.205 Q75.8763 411.788 75.8763 420.538 Q75.8763 429.265 72.7976 433.871 Q69.742 438.455 63.9319 438.455 Q58.1217 438.455 55.043 433.871 Q51.9875 429.265 51.9875 420.538 Q51.9875 411.788 55.043 407.205 Q58.1217 402.598 63.9319 402.598 Z\" fill=\"#000000\" fill-rule=\"evenodd\" fill-opacity=\"1\" /><path clip-path=\"url(#clip850)\" d=\"M84.0938 431.904 L88.978 431.904 L88.978 437.783 L84.0938 437.783 L84.0938 431.904 Z\" fill=\"#000000\" fill-rule=\"evenodd\" fill-opacity=\"1\" /><path clip-path=\"url(#clip850)\" d=\"M97.9826 403.223 L120.205 403.223 L120.205 405.214 L107.658 437.783 L102.774 437.783 L114.58 407.158 L97.9826 407.158 L97.9826 403.223 Z\" fill=\"#000000\" fill-rule=\"evenodd\" fill-opacity=\"1\" /><path clip-path=\"url(#clip850)\" d=\"M129.371 403.223 L147.728 403.223 L147.728 407.158 L133.654 407.158 L133.654 415.631 Q134.672 415.283 135.691 415.121 Q136.709 414.936 137.728 414.936 Q143.515 414.936 146.894 418.107 Q150.274 421.279 150.274 426.695 Q150.274 432.274 146.802 435.376 Q143.33 438.455 137.01 438.455 Q134.834 438.455 132.566 438.084 Q130.32 437.714 127.913 436.973 L127.913 432.274 Q129.996 433.408 132.219 433.964 Q134.441 434.519 136.918 434.519 Q140.922 434.519 143.26 432.413 Q145.598 430.306 145.598 426.695 Q145.598 423.084 143.26 420.978 Q140.922 418.871 136.918 418.871 Q135.043 418.871 133.168 419.288 Q131.316 419.705 129.371 420.584 L129.371 403.223 Z\" fill=\"#000000\" fill-rule=\"evenodd\" fill-opacity=\"1\" /><path clip-path=\"url(#clip850)\" d=\"M53.7467 92.1107 L61.3856 92.1107 L61.3856 65.7451 L53.0754 67.4117 L53.0754 63.1525 L61.3393 61.4858 L66.0152 61.4858 L66.0152 92.1107 L73.654 92.1107 L73.654 96.0458 L53.7467 96.0458 L53.7467 92.1107 Z\" fill=\"#000000\" fill-rule=\"evenodd\" fill-opacity=\"1\" /><path clip-path=\"url(#clip850)\" d=\"M83.0984 90.1662 L87.9827 90.1662 L87.9827 96.0458 L83.0984 96.0458 L83.0984 90.1662 Z\" fill=\"#000000\" fill-rule=\"evenodd\" fill-opacity=\"1\" /><path clip-path=\"url(#clip850)\" d=\"M108.168 64.5645 Q104.557 64.5645 102.728 68.1293 Q100.922 71.671 100.922 78.8006 Q100.922 85.907 102.728 89.4718 Q104.557 93.0135 108.168 93.0135 Q111.802 93.0135 113.608 89.4718 Q115.436 85.907 115.436 78.8006 Q115.436 71.671 113.608 68.1293 Q111.802 64.5645 108.168 64.5645 M108.168 60.8608 Q113.978 60.8608 117.033 65.4673 Q120.112 70.0506 120.112 78.8006 Q120.112 87.5274 117.033 92.1338 Q113.978 96.7171 108.168 96.7171 Q102.358 96.7171 99.2789 92.1338 Q96.2234 87.5274 96.2234 78.8006 Q96.2234 70.0506 99.2789 65.4673 Q102.358 60.8608 108.168 60.8608 Z\" fill=\"#000000\" fill-rule=\"evenodd\" fill-opacity=\"1\" /><path clip-path=\"url(#clip850)\" d=\"M138.33 64.5645 Q134.719 64.5645 132.89 68.1293 Q131.084 71.671 131.084 78.8006 Q131.084 85.907 132.89 89.4718 Q134.719 93.0135 138.33 93.0135 Q141.964 93.0135 143.769 89.4718 Q145.598 85.907 145.598 78.8006 Q145.598 71.671 143.769 68.1293 Q141.964 64.5645 138.33 64.5645 M138.33 60.8608 Q144.14 60.8608 147.195 65.4673 Q150.274 70.0506 150.274 78.8006 Q150.274 87.5274 147.195 92.1338 Q144.14 96.7171 138.33 96.7171 Q132.519 96.7171 129.441 92.1338 Q126.385 87.5274 126.385 78.8006 Q126.385 70.0506 129.441 65.4673 Q132.519 60.8608 138.33 60.8608 Z\" fill=\"#000000\" fill-rule=\"evenodd\" fill-opacity=\"1\" /><polyline clip-path=\"url(#clip852)\" style=\"stroke:#009af9; stroke-linecap:butt; stroke-linejoin:round; stroke-width:4; stroke-opacity:1; fill:none\" points=\"\n",
       "  247.59,1445.72 288.467,1315.63 329.344,1197.93 370.221,1091.43 411.098,995.06 451.975,907.863 492.852,828.964 533.729,757.573 574.606,692.976 615.483,634.526 \n",
       "  656.36,581.639 697.237,533.784 738.114,490.483 778.991,451.303 819.868,415.852 860.745,383.774 901.622,354.748 942.499,328.485 983.376,304.721 1024.25,283.219 \n",
       "  1065.13,263.762 1106.01,246.158 1146.88,230.228 1187.76,215.815 1228.64,202.773 1269.51,190.972 1310.39,180.294 1351.27,170.632 1392.15,161.89 1433.02,153.98 \n",
       "  1473.9,146.822 1514.78,140.346 1555.65,134.486 1596.53,129.183 1637.41,124.385 1678.29,120.044 1719.16,116.116 1760.04,112.562 1800.92,109.346 1841.79,106.436 \n",
       "  1882.67,103.802 1923.55,101.42 1964.42,99.264 2005.3,97.3134 2046.18,95.5483 2087.06,93.9513 2127.93,92.5062 2168.81,91.1986 2209.69,90.0155 2250.56,88.9449 \n",
       "  2291.44,87.9763 \n",
       "  \"/>\n",
       "<polyline clip-path=\"url(#clip852)\" style=\"stroke:#e26f46; stroke-linecap:butt; stroke-linejoin:round; stroke-width:4; stroke-opacity:1; fill:none\" points=\"\n",
       "  247.59,1445.72 588.231,676.85 928.873,340.447 1269.51,193.26 1610.16,128.861 1950.8,100.684 2291.44,88.3557 \n",
       "  \"/>\n",
       "<path clip-path=\"url(#clip852)\" d=\"M247.59 1461.72 L236.278 1457.03 L231.59 1445.72 L236.278 1434.4 L247.59 1429.72 L258.902 1434.4 L263.59 1445.72 L258.902 1457.03 Z\" fill=\"#e26f46\" fill-rule=\"evenodd\" fill-opacity=\"1\" stroke=\"#000000\" stroke-opacity=\"1\" stroke-width=\"3.2\"/>\n",
       "<path clip-path=\"url(#clip852)\" d=\"M588.231 692.85 L576.919 688.162 L572.231 676.85 L576.919 665.538 L588.231 660.85 L599.543 665.538 L604.231 676.85 L599.543 688.162 Z\" fill=\"#e26f46\" fill-rule=\"evenodd\" fill-opacity=\"1\" stroke=\"#000000\" stroke-opacity=\"1\" stroke-width=\"3.2\"/>\n",
       "<path clip-path=\"url(#clip852)\" d=\"M928.873 356.447 L917.561 351.759 L912.873 340.447 L917.561 329.135 L928.873 324.447 L940.185 329.135 L944.873 340.447 L940.185 351.759 Z\" fill=\"#e26f46\" fill-rule=\"evenodd\" fill-opacity=\"1\" stroke=\"#000000\" stroke-opacity=\"1\" stroke-width=\"3.2\"/>\n",
       "<path clip-path=\"url(#clip852)\" d=\"M1269.51 209.26 L1258.2 204.572 L1253.51 193.26 L1258.2 181.948 L1269.51 177.26 L1280.83 181.948 L1285.51 193.26 L1280.83 204.572 Z\" fill=\"#e26f46\" fill-rule=\"evenodd\" fill-opacity=\"1\" stroke=\"#000000\" stroke-opacity=\"1\" stroke-width=\"3.2\"/>\n",
       "<path clip-path=\"url(#clip852)\" d=\"M1610.16 144.861 L1598.84 140.173 L1594.16 128.861 L1598.84 117.549 L1610.16 112.861 L1621.47 117.549 L1626.16 128.861 L1621.47 140.173 Z\" fill=\"#e26f46\" fill-rule=\"evenodd\" fill-opacity=\"1\" stroke=\"#000000\" stroke-opacity=\"1\" stroke-width=\"3.2\"/>\n",
       "<path clip-path=\"url(#clip852)\" d=\"M1950.8 116.684 L1939.49 111.996 L1934.8 100.684 L1939.49 89.3719 L1950.8 84.6839 L1962.11 89.3719 L1966.8 100.684 L1962.11 111.996 Z\" fill=\"#e26f46\" fill-rule=\"evenodd\" fill-opacity=\"1\" stroke=\"#000000\" stroke-opacity=\"1\" stroke-width=\"3.2\"/>\n",
       "<path clip-path=\"url(#clip852)\" d=\"M2291.44 104.356 L2280.13 99.6677 L2275.44 88.3557 L2280.13 77.0437 L2291.44 72.3557 L2302.75 77.0437 L2307.44 88.3557 L2302.75 99.6677 Z\" fill=\"#e26f46\" fill-rule=\"evenodd\" fill-opacity=\"1\" stroke=\"#000000\" stroke-opacity=\"1\" stroke-width=\"3.2\"/>\n",
       "<path clip-path=\"url(#clip850)\" d=\"\n",
       "M1847.32 818.686 L2280.54 818.686 L2280.54 663.166 L1847.32 663.166  Z\n",
       "  \" fill=\"#ffffff\" fill-rule=\"evenodd\" fill-opacity=\"1\"/>\n",
       "<polyline clip-path=\"url(#clip850)\" style=\"stroke:#000000; stroke-linecap:butt; stroke-linejoin:round; stroke-width:4; stroke-opacity:1; fill:none\" points=\"\n",
       "  1847.32,818.686 2280.54,818.686 2280.54,663.166 1847.32,663.166 1847.32,818.686 \n",
       "  \"/>\n",
       "<polyline clip-path=\"url(#clip850)\" style=\"stroke:#009af9; stroke-linecap:butt; stroke-linejoin:round; stroke-width:4; stroke-opacity:1; fill:none\" points=\"\n",
       "  1871.39,715.006 2015.82,715.006 \n",
       "  \"/>\n",
       "<path clip-path=\"url(#clip850)\" d=\"M2063.92 718.258 L2063.92 720.342 L2044.34 720.342 Q2044.62 724.74 2046.98 727.055 Q2049.36 729.346 2053.6 729.346 Q2056.05 729.346 2058.35 728.744 Q2060.66 728.142 2062.93 726.939 L2062.93 730.967 Q2060.64 731.939 2058.23 732.448 Q2055.82 732.957 2053.35 732.957 Q2047.14 732.957 2043.51 729.346 Q2039.9 725.735 2039.9 719.578 Q2039.9 713.212 2043.32 709.485 Q2046.77 705.735 2052.61 705.735 Q2057.84 705.735 2060.87 709.115 Q2063.92 712.471 2063.92 718.258 M2059.67 717.008 Q2059.62 713.513 2057.7 711.43 Q2055.8 709.346 2052.65 709.346 Q2049.09 709.346 2046.93 711.36 Q2044.8 713.374 2044.48 717.031 L2059.67 717.008 Z\" fill=\"#000000\" fill-rule=\"evenodd\" fill-opacity=\"1\" /><path clip-path=\"url(#clip850)\" d=\"M2091.63 706.36 L2082.26 718.976 L2092.12 732.286 L2087.1 732.286 L2079.55 722.101 L2072 732.286 L2066.98 732.286 L2077.05 718.721 L2067.84 706.36 L2072.86 706.36 L2079.73 715.596 L2086.61 706.36 L2091.63 706.36 Z\" fill=\"#000000\" fill-rule=\"evenodd\" fill-opacity=\"1\" /><path clip-path=\"url(#clip850)\" d=\"M2109.92 719.254 Q2104.76 719.254 2102.77 720.434 Q2100.78 721.615 2100.78 724.462 Q2100.78 726.73 2102.26 728.073 Q2103.76 729.392 2106.33 729.392 Q2109.87 729.392 2112 726.892 Q2114.16 724.369 2114.16 720.203 L2114.16 719.254 L2109.92 719.254 M2118.41 717.494 L2118.41 732.286 L2114.16 732.286 L2114.16 728.351 Q2112.7 730.712 2110.52 731.846 Q2108.35 732.957 2105.2 732.957 Q2101.22 732.957 2098.85 730.735 Q2096.52 728.49 2096.52 724.74 Q2096.52 720.365 2099.43 718.143 Q2102.37 715.92 2108.18 715.92 L2114.16 715.92 L2114.16 715.504 Q2114.16 712.564 2112.21 710.967 Q2110.29 709.346 2106.79 709.346 Q2104.57 709.346 2102.47 709.879 Q2100.36 710.411 2098.42 711.476 L2098.42 707.541 Q2100.75 706.638 2102.95 706.198 Q2105.15 705.735 2107.23 705.735 Q2112.86 705.735 2115.64 708.652 Q2118.41 711.569 2118.41 717.494 Z\" fill=\"#000000\" fill-rule=\"evenodd\" fill-opacity=\"1\" /><path clip-path=\"url(#clip850)\" d=\"M2145.85 707.356 L2145.85 711.337 Q2144.04 710.342 2142.21 709.856 Q2140.41 709.346 2138.55 709.346 Q2134.41 709.346 2132.12 711.985 Q2129.83 714.601 2129.83 719.346 Q2129.83 724.092 2132.12 726.73 Q2134.41 729.346 2138.55 729.346 Q2140.41 729.346 2142.21 728.86 Q2144.04 728.351 2145.85 727.355 L2145.85 731.291 Q2144.06 732.124 2142.14 732.541 Q2140.24 732.957 2138.09 732.957 Q2132.23 732.957 2128.79 729.277 Q2125.34 725.596 2125.34 719.346 Q2125.34 713.004 2128.81 709.369 Q2132.3 705.735 2138.37 705.735 Q2140.34 705.735 2142.21 706.152 Q2144.09 706.545 2145.85 707.356 Z\" fill=\"#000000\" fill-rule=\"evenodd\" fill-opacity=\"1\" /><path clip-path=\"url(#clip850)\" d=\"M2157.47 698.999 L2157.47 706.36 L2166.24 706.36 L2166.24 709.67 L2157.47 709.67 L2157.47 723.744 Q2157.47 726.916 2158.32 727.818 Q2159.2 728.721 2161.86 728.721 L2166.24 728.721 L2166.24 732.286 L2161.86 732.286 Q2156.93 732.286 2155.06 730.457 Q2153.18 728.605 2153.18 723.744 L2153.18 709.67 L2150.06 709.67 L2150.06 706.36 L2153.18 706.36 L2153.18 698.999 L2157.47 698.999 Z\" fill=\"#000000\" fill-rule=\"evenodd\" fill-opacity=\"1\" /><polyline clip-path=\"url(#clip850)\" style=\"stroke:#e26f46; stroke-linecap:butt; stroke-linejoin:round; stroke-width:4; stroke-opacity:1; fill:none\" points=\"\n",
       "  1871.39,766.846 2015.82,766.846 \n",
       "  \"/>\n",
       "<path clip-path=\"url(#clip850)\" d=\"M1943.61 792.446 L1925.51 784.945 L1918.01 766.846 L1925.51 748.747 L1943.61 741.246 L1961.71 748.747 L1969.21 766.846 L1961.71 784.945 Z\" fill=\"#e26f46\" fill-rule=\"evenodd\" fill-opacity=\"1\" stroke=\"#000000\" stroke-opacity=\"1\" stroke-width=\"5.12\"/>\n",
       "<path clip-path=\"url(#clip850)\" d=\"M2055.08 762.182 Q2054.36 761.765 2053.51 761.58 Q2052.67 761.371 2051.66 761.371 Q2048.04 761.371 2046.1 763.733 Q2044.18 766.071 2044.18 770.469 L2044.18 784.126 L2039.9 784.126 L2039.9 758.2 L2044.18 758.2 L2044.18 762.228 Q2045.52 759.867 2047.67 758.733 Q2049.83 757.575 2052.91 757.575 Q2053.35 757.575 2053.88 757.645 Q2054.41 757.691 2055.06 757.807 L2055.08 762.182 Z\" fill=\"#000000\" fill-rule=\"evenodd\" fill-opacity=\"1\" /><path clip-path=\"url(#clip850)\" d=\"M2059.39 748.108 L2063.67 748.108 L2063.67 769.381 L2076.38 758.2 L2081.82 758.2 L2068.07 770.33 L2082.4 784.126 L2076.84 784.126 L2063.67 771.464 L2063.67 784.126 L2059.39 784.126 L2059.39 748.108 Z\" fill=\"#000000\" fill-rule=\"evenodd\" fill-opacity=\"1\" /><path clip-path=\"url(#clip850)\" d=\"M2100.45 753.64 L2088.65 772.089 L2100.45 772.089 L2100.45 753.64 M2099.23 749.566 L2105.1 749.566 L2105.1 772.089 L2110.04 772.089 L2110.04 775.978 L2105.1 775.978 L2105.1 784.126 L2100.45 784.126 L2100.45 775.978 L2084.85 775.978 L2084.85 771.464 L2099.23 749.566 Z\" fill=\"#000000\" fill-rule=\"evenodd\" fill-opacity=\"1\" /><path clip-path=\"url(#clip850)\" d=\"M2136.86 791.996 L2136.86 795.306 L2112.23 795.306 L2112.23 791.996 L2136.86 791.996 Z\" fill=\"#000000\" fill-rule=\"evenodd\" fill-opacity=\"1\" /><path clip-path=\"url(#clip850)\" d=\"M2162.42 768.478 L2162.42 784.126 L2158.16 784.126 L2158.16 768.617 Q2158.16 764.936 2156.72 763.108 Q2155.29 761.279 2152.42 761.279 Q2148.97 761.279 2146.98 763.478 Q2144.99 765.677 2144.99 769.473 L2144.99 784.126 L2140.71 784.126 L2140.71 758.2 L2144.99 758.2 L2144.99 762.228 Q2146.52 759.89 2148.58 758.733 Q2150.66 757.575 2153.37 757.575 Q2157.84 757.575 2160.13 760.353 Q2162.42 763.108 2162.42 768.478 Z\" fill=\"#000000\" fill-rule=\"evenodd\" fill-opacity=\"1\" /><path clip-path=\"url(#clip850)\" d=\"M2193.09 770.098 L2193.09 772.182 L2173.51 772.182 Q2173.79 776.58 2176.15 778.895 Q2178.53 781.186 2182.77 781.186 Q2185.22 781.186 2187.51 780.584 Q2189.83 779.982 2192.1 778.779 L2192.1 782.807 Q2189.8 783.779 2187.4 784.288 Q2184.99 784.797 2182.51 784.797 Q2176.31 784.797 2172.67 781.186 Q2169.06 777.575 2169.06 771.418 Q2169.06 765.052 2172.49 761.325 Q2175.94 757.575 2181.77 757.575 Q2187 757.575 2190.03 760.955 Q2193.09 764.311 2193.09 770.098 M2188.83 768.848 Q2188.78 765.353 2186.86 763.27 Q2184.97 761.186 2181.82 761.186 Q2178.25 761.186 2176.1 763.2 Q2173.97 765.214 2173.65 768.871 L2188.83 768.848 Z\" fill=\"#000000\" fill-rule=\"evenodd\" fill-opacity=\"1\" /><path clip-path=\"url(#clip850)\" d=\"M2197.6 758.2 L2201.86 758.2 L2207.19 778.432 L2212.49 758.2 L2217.51 758.2 L2222.84 778.432 L2228.14 758.2 L2232.4 758.2 L2225.61 784.126 L2220.59 784.126 L2215.01 762.876 L2209.41 784.126 L2204.39 784.126 L2197.6 758.2 Z\" fill=\"#000000\" fill-rule=\"evenodd\" fill-opacity=\"1\" /></svg>\n"
      ]
     },
     "execution_count": 30,
     "metadata": {},
     "output_type": "execute_result"
    }
   ],
   "source": [
    "using Plots\n",
    "t = 0:0.1:5\n",
    "f(t, x) = 1 - x\n",
    "t₀, x₀ = 0., 0.\n",
    "nsteps, tfinal   = 7, 5.0\n",
    "dt = tfinal / (nsteps-1)\n",
    "plot(t, 1 .- exp.(-t),label = \"exact\", legend = :right)\n",
    "plot!(solver(f, rk4_new, t₀, x₀, dt, nsteps), marker = :o,  label=\"rk4_new\")"
   ]
  },
  {
   "cell_type": "code",
   "execution_count": 31,
   "id": "f9e8241d",
   "metadata": {},
   "outputs": [
    {
     "data": {
      "text/plain": [
       "4×4 Matrix{Float64}:\n",
       "  0.0        0.0  0.0  0.0\n",
       "  0.333333   0.0  0.0  0.0\n",
       " -0.333333   1.0  0.0  0.0\n",
       "  1.0       -1.0  1.0  0.0"
      ]
     },
     "execution_count": 31,
     "metadata": {},
     "output_type": "execute_result"
    }
   ],
   "source": [
    "a = [  0   0  0  0; \n",
    "     1/3   0  0  0; \n",
    "    -1/3   1  0  0; \n",
    "       1  -1  1  0]"
   ]
  },
  {
   "cell_type": "code",
   "execution_count": 32,
   "id": "77bb6b37",
   "metadata": {},
   "outputs": [
    {
     "data": {
      "image/svg+xml": [
       "<?xml version=\"1.0\" encoding=\"utf-8\"?>\n",
       "<svg xmlns=\"http://www.w3.org/2000/svg\" xmlns:xlink=\"http://www.w3.org/1999/xlink\" width=\"600\" height=\"400\" viewBox=\"0 0 2400 1600\">\n",
       "<defs>\n",
       "  <clipPath id=\"clip890\">\n",
       "    <rect x=\"0\" y=\"0\" width=\"2400\" height=\"1600\"/>\n",
       "  </clipPath>\n",
       "</defs>\n",
       "<path clip-path=\"url(#clip890)\" d=\"\n",
       "M0 1600 L2400 1600 L2400 0 L0 0  Z\n",
       "  \" fill=\"#ffffff\" fill-rule=\"evenodd\" fill-opacity=\"1\"/>\n",
       "<defs>\n",
       "  <clipPath id=\"clip891\">\n",
       "    <rect x=\"480\" y=\"0\" width=\"1681\" height=\"1600\"/>\n",
       "  </clipPath>\n",
       "</defs>\n",
       "<path clip-path=\"url(#clip890)\" d=\"\n",
       "M186.274 1486.45 L2352.76 1486.45 L2352.76 47.2441 L186.274 47.2441  Z\n",
       "  \" fill=\"#ffffff\" fill-rule=\"evenodd\" fill-opacity=\"1\"/>\n",
       "<defs>\n",
       "  <clipPath id=\"clip892\">\n",
       "    <rect x=\"186\" y=\"47\" width=\"2167\" height=\"1440\"/>\n",
       "  </clipPath>\n",
       "</defs>\n",
       "<polyline clip-path=\"url(#clip892)\" style=\"stroke:#000000; stroke-linecap:butt; stroke-linejoin:round; stroke-width:2; stroke-opacity:0.1; fill:none\" points=\"\n",
       "  247.59,1486.45 247.59,47.2441 \n",
       "  \"/>\n",
       "<polyline clip-path=\"url(#clip892)\" style=\"stroke:#000000; stroke-linecap:butt; stroke-linejoin:round; stroke-width:2; stroke-opacity:0.1; fill:none\" points=\"\n",
       "  656.36,1486.45 656.36,47.2441 \n",
       "  \"/>\n",
       "<polyline clip-path=\"url(#clip892)\" style=\"stroke:#000000; stroke-linecap:butt; stroke-linejoin:round; stroke-width:2; stroke-opacity:0.1; fill:none\" points=\"\n",
       "  1065.13,1486.45 1065.13,47.2441 \n",
       "  \"/>\n",
       "<polyline clip-path=\"url(#clip892)\" style=\"stroke:#000000; stroke-linecap:butt; stroke-linejoin:round; stroke-width:2; stroke-opacity:0.1; fill:none\" points=\"\n",
       "  1473.9,1486.45 1473.9,47.2441 \n",
       "  \"/>\n",
       "<polyline clip-path=\"url(#clip892)\" style=\"stroke:#000000; stroke-linecap:butt; stroke-linejoin:round; stroke-width:2; stroke-opacity:0.1; fill:none\" points=\"\n",
       "  1882.67,1486.45 1882.67,47.2441 \n",
       "  \"/>\n",
       "<polyline clip-path=\"url(#clip892)\" style=\"stroke:#000000; stroke-linecap:butt; stroke-linejoin:round; stroke-width:2; stroke-opacity:0.1; fill:none\" points=\"\n",
       "  2291.44,1486.45 2291.44,47.2441 \n",
       "  \"/>\n",
       "<polyline clip-path=\"url(#clip890)\" style=\"stroke:#000000; stroke-linecap:butt; stroke-linejoin:round; stroke-width:4; stroke-opacity:1; fill:none\" points=\"\n",
       "  186.274,1486.45 2352.76,1486.45 \n",
       "  \"/>\n",
       "<polyline clip-path=\"url(#clip890)\" style=\"stroke:#000000; stroke-linecap:butt; stroke-linejoin:round; stroke-width:4; stroke-opacity:1; fill:none\" points=\"\n",
       "  247.59,1486.45 247.59,1467.55 \n",
       "  \"/>\n",
       "<polyline clip-path=\"url(#clip890)\" style=\"stroke:#000000; stroke-linecap:butt; stroke-linejoin:round; stroke-width:4; stroke-opacity:1; fill:none\" points=\"\n",
       "  656.36,1486.45 656.36,1467.55 \n",
       "  \"/>\n",
       "<polyline clip-path=\"url(#clip890)\" style=\"stroke:#000000; stroke-linecap:butt; stroke-linejoin:round; stroke-width:4; stroke-opacity:1; fill:none\" points=\"\n",
       "  1065.13,1486.45 1065.13,1467.55 \n",
       "  \"/>\n",
       "<polyline clip-path=\"url(#clip890)\" style=\"stroke:#000000; stroke-linecap:butt; stroke-linejoin:round; stroke-width:4; stroke-opacity:1; fill:none\" points=\"\n",
       "  1473.9,1486.45 1473.9,1467.55 \n",
       "  \"/>\n",
       "<polyline clip-path=\"url(#clip890)\" style=\"stroke:#000000; stroke-linecap:butt; stroke-linejoin:round; stroke-width:4; stroke-opacity:1; fill:none\" points=\"\n",
       "  1882.67,1486.45 1882.67,1467.55 \n",
       "  \"/>\n",
       "<polyline clip-path=\"url(#clip890)\" style=\"stroke:#000000; stroke-linecap:butt; stroke-linejoin:round; stroke-width:4; stroke-opacity:1; fill:none\" points=\"\n",
       "  2291.44,1486.45 2291.44,1467.55 \n",
       "  \"/>\n",
       "<path clip-path=\"url(#clip890)\" d=\"M247.59 1517.37 Q243.978 1517.37 242.15 1520.93 Q240.344 1524.47 240.344 1531.6 Q240.344 1538.71 242.15 1542.27 Q243.978 1545.82 247.59 1545.82 Q251.224 1545.82 253.029 1542.27 Q254.858 1538.71 254.858 1531.6 Q254.858 1524.47 253.029 1520.93 Q251.224 1517.37 247.59 1517.37 M247.59 1513.66 Q253.4 1513.66 256.455 1518.27 Q259.534 1522.85 259.534 1531.6 Q259.534 1540.33 256.455 1544.94 Q253.4 1549.52 247.59 1549.52 Q241.779 1549.52 238.701 1544.94 Q235.645 1540.33 235.645 1531.6 Q235.645 1522.85 238.701 1518.27 Q241.779 1513.66 247.59 1513.66 Z\" fill=\"#000000\" fill-rule=\"evenodd\" fill-opacity=\"1\" /><path clip-path=\"url(#clip890)\" d=\"M646.742 1544.91 L654.381 1544.91 L654.381 1518.55 L646.07 1520.21 L646.07 1515.95 L654.334 1514.29 L659.01 1514.29 L659.01 1544.91 L666.649 1544.91 L666.649 1548.85 L646.742 1548.85 L646.742 1544.91 Z\" fill=\"#000000\" fill-rule=\"evenodd\" fill-opacity=\"1\" /><path clip-path=\"url(#clip890)\" d=\"M1059.78 1544.91 L1076.1 1544.91 L1076.1 1548.85 L1054.16 1548.85 L1054.16 1544.91 Q1056.82 1542.16 1061.4 1537.53 Q1066.01 1532.88 1067.19 1531.53 Q1069.44 1529.01 1070.32 1527.27 Q1071.22 1525.51 1071.22 1523.82 Q1071.22 1521.07 1069.27 1519.33 Q1067.35 1517.6 1064.25 1517.6 Q1062.05 1517.6 1059.6 1518.36 Q1057.17 1519.13 1054.39 1520.68 L1054.39 1515.95 Q1057.21 1514.82 1059.67 1514.24 Q1062.12 1513.66 1064.16 1513.66 Q1069.53 1513.66 1072.72 1516.35 Q1075.92 1519.03 1075.92 1523.52 Q1075.92 1525.65 1075.11 1527.57 Q1074.32 1529.47 1072.21 1532.07 Q1071.63 1532.74 1068.53 1535.95 Q1065.43 1539.15 1059.78 1544.91 Z\" fill=\"#000000\" fill-rule=\"evenodd\" fill-opacity=\"1\" /><path clip-path=\"url(#clip890)\" d=\"M1478.15 1530.21 Q1481.5 1530.93 1483.38 1533.2 Q1485.28 1535.47 1485.28 1538.8 Q1485.28 1543.92 1481.76 1546.72 Q1478.24 1549.52 1471.76 1549.52 Q1469.58 1549.52 1467.27 1549.08 Q1464.98 1548.66 1462.52 1547.81 L1462.52 1543.29 Q1464.47 1544.43 1466.78 1545.01 Q1469.1 1545.58 1471.62 1545.58 Q1476.02 1545.58 1478.31 1543.85 Q1480.62 1542.11 1480.62 1538.8 Q1480.62 1535.75 1478.47 1534.03 Q1476.34 1532.3 1472.52 1532.3 L1468.49 1532.3 L1468.49 1528.45 L1472.71 1528.45 Q1476.16 1528.45 1477.99 1527.09 Q1479.81 1525.7 1479.81 1523.11 Q1479.81 1520.45 1477.92 1519.03 Q1476.04 1517.6 1472.52 1517.6 Q1470.6 1517.6 1468.4 1518.01 Q1466.2 1518.43 1463.56 1519.31 L1463.56 1515.14 Q1466.23 1514.4 1468.54 1514.03 Q1470.88 1513.66 1472.94 1513.66 Q1478.26 1513.66 1481.37 1516.09 Q1484.47 1518.5 1484.47 1522.62 Q1484.47 1525.49 1482.82 1527.48 Q1481.18 1529.45 1478.15 1530.21 Z\" fill=\"#000000\" fill-rule=\"evenodd\" fill-opacity=\"1\" /><path clip-path=\"url(#clip890)\" d=\"M1885.68 1518.36 L1873.87 1536.81 L1885.68 1536.81 L1885.68 1518.36 M1884.45 1514.29 L1890.33 1514.29 L1890.33 1536.81 L1895.26 1536.81 L1895.26 1540.7 L1890.33 1540.7 L1890.33 1548.85 L1885.68 1548.85 L1885.68 1540.7 L1870.08 1540.7 L1870.08 1536.19 L1884.45 1514.29 Z\" fill=\"#000000\" fill-rule=\"evenodd\" fill-opacity=\"1\" /><path clip-path=\"url(#clip890)\" d=\"M2281.72 1514.29 L2300.07 1514.29 L2300.07 1518.22 L2286 1518.22 L2286 1526.7 Q2287.02 1526.35 2288.04 1526.19 Q2289.06 1526 2290.07 1526 Q2295.86 1526 2299.24 1529.17 Q2302.62 1532.34 2302.62 1537.76 Q2302.62 1543.34 2299.15 1546.44 Q2295.68 1549.52 2289.36 1549.52 Q2287.18 1549.52 2284.91 1549.15 Q2282.67 1548.78 2280.26 1548.04 L2280.26 1543.34 Q2282.34 1544.47 2284.57 1545.03 Q2286.79 1545.58 2289.26 1545.58 Q2293.27 1545.58 2295.61 1543.48 Q2297.94 1541.37 2297.94 1537.76 Q2297.94 1534.15 2295.61 1532.04 Q2293.27 1529.94 2289.26 1529.94 Q2287.39 1529.94 2285.51 1530.35 Q2283.66 1530.77 2281.72 1531.65 L2281.72 1514.29 Z\" fill=\"#000000\" fill-rule=\"evenodd\" fill-opacity=\"1\" /><polyline clip-path=\"url(#clip892)\" style=\"stroke:#000000; stroke-linecap:butt; stroke-linejoin:round; stroke-width:2; stroke-opacity:0.1; fill:none\" points=\"\n",
       "  186.274,1445.72 2352.76,1445.72 \n",
       "  \"/>\n",
       "<polyline clip-path=\"url(#clip892)\" style=\"stroke:#000000; stroke-linecap:butt; stroke-linejoin:round; stroke-width:2; stroke-opacity:0.1; fill:none\" points=\"\n",
       "  186.274,1103.98 2352.76,1103.98 \n",
       "  \"/>\n",
       "<polyline clip-path=\"url(#clip892)\" style=\"stroke:#000000; stroke-linecap:butt; stroke-linejoin:round; stroke-width:2; stroke-opacity:0.1; fill:none\" points=\"\n",
       "  186.274,762.241 2352.76,762.241 \n",
       "  \"/>\n",
       "<polyline clip-path=\"url(#clip892)\" style=\"stroke:#000000; stroke-linecap:butt; stroke-linejoin:round; stroke-width:2; stroke-opacity:0.1; fill:none\" points=\"\n",
       "  186.274,420.503 2352.76,420.503 \n",
       "  \"/>\n",
       "<polyline clip-path=\"url(#clip892)\" style=\"stroke:#000000; stroke-linecap:butt; stroke-linejoin:round; stroke-width:2; stroke-opacity:0.1; fill:none\" points=\"\n",
       "  186.274,78.7658 2352.76,78.7658 \n",
       "  \"/>\n",
       "<polyline clip-path=\"url(#clip890)\" style=\"stroke:#000000; stroke-linecap:butt; stroke-linejoin:round; stroke-width:4; stroke-opacity:1; fill:none\" points=\"\n",
       "  186.274,1486.45 186.274,47.2441 \n",
       "  \"/>\n",
       "<polyline clip-path=\"url(#clip890)\" style=\"stroke:#000000; stroke-linecap:butt; stroke-linejoin:round; stroke-width:4; stroke-opacity:1; fill:none\" points=\"\n",
       "  186.274,1445.72 205.172,1445.72 \n",
       "  \"/>\n",
       "<polyline clip-path=\"url(#clip890)\" style=\"stroke:#000000; stroke-linecap:butt; stroke-linejoin:round; stroke-width:4; stroke-opacity:1; fill:none\" points=\"\n",
       "  186.274,1103.98 205.172,1103.98 \n",
       "  \"/>\n",
       "<polyline clip-path=\"url(#clip890)\" style=\"stroke:#000000; stroke-linecap:butt; stroke-linejoin:round; stroke-width:4; stroke-opacity:1; fill:none\" points=\"\n",
       "  186.274,762.241 205.172,762.241 \n",
       "  \"/>\n",
       "<polyline clip-path=\"url(#clip890)\" style=\"stroke:#000000; stroke-linecap:butt; stroke-linejoin:round; stroke-width:4; stroke-opacity:1; fill:none\" points=\"\n",
       "  186.274,420.503 205.172,420.503 \n",
       "  \"/>\n",
       "<polyline clip-path=\"url(#clip890)\" style=\"stroke:#000000; stroke-linecap:butt; stroke-linejoin:round; stroke-width:4; stroke-opacity:1; fill:none\" points=\"\n",
       "  186.274,78.7658 205.172,78.7658 \n",
       "  \"/>\n",
       "<path clip-path=\"url(#clip890)\" d=\"M62.9365 1431.51 Q59.3254 1431.51 57.4967 1435.08 Q55.6912 1438.62 55.6912 1445.75 Q55.6912 1452.86 57.4967 1456.42 Q59.3254 1459.96 62.9365 1459.96 Q66.5707 1459.96 68.3763 1456.42 Q70.205 1452.86 70.205 1445.75 Q70.205 1438.62 68.3763 1435.08 Q66.5707 1431.51 62.9365 1431.51 M62.9365 1427.81 Q68.7467 1427.81 71.8022 1432.42 Q74.8809 1437 74.8809 1445.75 Q74.8809 1454.48 71.8022 1459.08 Q68.7467 1463.67 62.9365 1463.67 Q57.1264 1463.67 54.0477 1459.08 Q50.9921 1454.48 50.9921 1445.75 Q50.9921 1437 54.0477 1432.42 Q57.1264 1427.81 62.9365 1427.81 Z\" fill=\"#000000\" fill-rule=\"evenodd\" fill-opacity=\"1\" /><path clip-path=\"url(#clip890)\" d=\"M83.0984 1457.12 L87.9827 1457.12 L87.9827 1463 L83.0984 1463 L83.0984 1457.12 Z\" fill=\"#000000\" fill-rule=\"evenodd\" fill-opacity=\"1\" /><path clip-path=\"url(#clip890)\" d=\"M108.168 1431.51 Q104.557 1431.51 102.728 1435.08 Q100.922 1438.62 100.922 1445.75 Q100.922 1452.86 102.728 1456.42 Q104.557 1459.96 108.168 1459.96 Q111.802 1459.96 113.608 1456.42 Q115.436 1452.86 115.436 1445.75 Q115.436 1438.62 113.608 1435.08 Q111.802 1431.51 108.168 1431.51 M108.168 1427.81 Q113.978 1427.81 117.033 1432.42 Q120.112 1437 120.112 1445.75 Q120.112 1454.48 117.033 1459.08 Q113.978 1463.67 108.168 1463.67 Q102.358 1463.67 99.2789 1459.08 Q96.2234 1454.48 96.2234 1445.75 Q96.2234 1437 99.2789 1432.42 Q102.358 1427.81 108.168 1427.81 Z\" fill=\"#000000\" fill-rule=\"evenodd\" fill-opacity=\"1\" /><path clip-path=\"url(#clip890)\" d=\"M138.33 1431.51 Q134.719 1431.51 132.89 1435.08 Q131.084 1438.62 131.084 1445.75 Q131.084 1452.86 132.89 1456.42 Q134.719 1459.96 138.33 1459.96 Q141.964 1459.96 143.769 1456.42 Q145.598 1452.86 145.598 1445.75 Q145.598 1438.62 143.769 1435.08 Q141.964 1431.51 138.33 1431.51 M138.33 1427.81 Q144.14 1427.81 147.195 1432.42 Q150.274 1437 150.274 1445.75 Q150.274 1454.48 147.195 1459.08 Q144.14 1463.67 138.33 1463.67 Q132.519 1463.67 129.441 1459.08 Q126.385 1454.48 126.385 1445.75 Q126.385 1437 129.441 1432.42 Q132.519 1427.81 138.33 1427.81 Z\" fill=\"#000000\" fill-rule=\"evenodd\" fill-opacity=\"1\" /><path clip-path=\"url(#clip890)\" d=\"M63.9319 1089.78 Q60.3208 1089.78 58.4921 1093.34 Q56.6865 1096.88 56.6865 1104.01 Q56.6865 1111.12 58.4921 1114.68 Q60.3208 1118.23 63.9319 1118.23 Q67.5661 1118.23 69.3717 1114.68 Q71.2004 1111.12 71.2004 1104.01 Q71.2004 1096.88 69.3717 1093.34 Q67.5661 1089.78 63.9319 1089.78 M63.9319 1086.07 Q69.742 1086.07 72.7976 1090.68 Q75.8763 1095.26 75.8763 1104.01 Q75.8763 1112.74 72.7976 1117.35 Q69.742 1121.93 63.9319 1121.93 Q58.1217 1121.93 55.043 1117.35 Q51.9875 1112.74 51.9875 1104.01 Q51.9875 1095.26 55.043 1090.68 Q58.1217 1086.07 63.9319 1086.07 Z\" fill=\"#000000\" fill-rule=\"evenodd\" fill-opacity=\"1\" /><path clip-path=\"url(#clip890)\" d=\"M84.0938 1115.38 L88.978 1115.38 L88.978 1121.26 L84.0938 1121.26 L84.0938 1115.38 Z\" fill=\"#000000\" fill-rule=\"evenodd\" fill-opacity=\"1\" /><path clip-path=\"url(#clip890)\" d=\"M103.191 1117.32 L119.51 1117.32 L119.51 1121.26 L97.566 1121.26 L97.566 1117.32 Q100.228 1114.57 104.811 1109.94 Q109.418 1105.29 110.598 1103.94 Q112.844 1101.42 113.723 1099.68 Q114.626 1097.93 114.626 1096.24 Q114.626 1093.48 112.682 1091.74 Q110.76 1090.01 107.658 1090.01 Q105.459 1090.01 103.006 1090.77 Q100.575 1091.54 97.7974 1093.09 L97.7974 1088.36 Q100.621 1087.23 103.075 1086.65 Q105.529 1086.07 107.566 1086.07 Q112.936 1086.07 116.131 1088.76 Q119.325 1091.44 119.325 1095.93 Q119.325 1098.06 118.515 1099.99 Q117.728 1101.88 115.621 1104.48 Q115.043 1105.15 111.941 1108.36 Q108.839 1111.56 103.191 1117.32 Z\" fill=\"#000000\" fill-rule=\"evenodd\" fill-opacity=\"1\" /><path clip-path=\"url(#clip890)\" d=\"M129.371 1086.7 L147.728 1086.7 L147.728 1090.63 L133.654 1090.63 L133.654 1099.11 Q134.672 1098.76 135.691 1098.6 Q136.709 1098.41 137.728 1098.41 Q143.515 1098.41 146.894 1101.58 Q150.274 1104.75 150.274 1110.17 Q150.274 1115.75 146.802 1118.85 Q143.33 1121.93 137.01 1121.93 Q134.834 1121.93 132.566 1121.56 Q130.32 1121.19 127.913 1120.45 L127.913 1115.75 Q129.996 1116.88 132.219 1117.44 Q134.441 1117.99 136.918 1117.99 Q140.922 1117.99 143.26 1115.89 Q145.598 1113.78 145.598 1110.17 Q145.598 1106.56 143.26 1104.45 Q140.922 1102.35 136.918 1102.35 Q135.043 1102.35 133.168 1102.76 Q131.316 1103.18 129.371 1104.06 L129.371 1086.7 Z\" fill=\"#000000\" fill-rule=\"evenodd\" fill-opacity=\"1\" /><path clip-path=\"url(#clip890)\" d=\"M62.9365 748.039 Q59.3254 748.039 57.4967 751.604 Q55.6912 755.146 55.6912 762.275 Q55.6912 769.382 57.4967 772.947 Q59.3254 776.488 62.9365 776.488 Q66.5707 776.488 68.3763 772.947 Q70.205 769.382 70.205 762.275 Q70.205 755.146 68.3763 751.604 Q66.5707 748.039 62.9365 748.039 M62.9365 744.336 Q68.7467 744.336 71.8022 748.942 Q74.8809 753.526 74.8809 762.275 Q74.8809 771.002 71.8022 775.609 Q68.7467 780.192 62.9365 780.192 Q57.1264 780.192 54.0477 775.609 Q50.9921 771.002 50.9921 762.275 Q50.9921 753.526 54.0477 748.942 Q57.1264 744.336 62.9365 744.336 Z\" fill=\"#000000\" fill-rule=\"evenodd\" fill-opacity=\"1\" /><path clip-path=\"url(#clip890)\" d=\"M83.0984 773.641 L87.9827 773.641 L87.9827 779.521 L83.0984 779.521 L83.0984 773.641 Z\" fill=\"#000000\" fill-rule=\"evenodd\" fill-opacity=\"1\" /><path clip-path=\"url(#clip890)\" d=\"M98.2141 744.961 L116.57 744.961 L116.57 748.896 L102.496 748.896 L102.496 757.368 Q103.515 757.021 104.534 756.859 Q105.552 756.674 106.571 756.674 Q112.358 756.674 115.737 759.845 Q119.117 763.016 119.117 768.433 Q119.117 774.012 115.645 777.113 Q112.172 780.192 105.853 780.192 Q103.677 780.192 101.409 779.822 Q99.1632 779.451 96.7558 778.711 L96.7558 774.012 Q98.8391 775.146 101.061 775.701 Q103.284 776.257 105.76 776.257 Q109.765 776.257 112.103 774.15 Q114.441 772.044 114.441 768.433 Q114.441 764.822 112.103 762.715 Q109.765 760.609 105.76 760.609 Q103.885 760.609 102.01 761.025 Q100.159 761.442 98.2141 762.322 L98.2141 744.961 Z\" fill=\"#000000\" fill-rule=\"evenodd\" fill-opacity=\"1\" /><path clip-path=\"url(#clip890)\" d=\"M138.33 748.039 Q134.719 748.039 132.89 751.604 Q131.084 755.146 131.084 762.275 Q131.084 769.382 132.89 772.947 Q134.719 776.488 138.33 776.488 Q141.964 776.488 143.769 772.947 Q145.598 769.382 145.598 762.275 Q145.598 755.146 143.769 751.604 Q141.964 748.039 138.33 748.039 M138.33 744.336 Q144.14 744.336 147.195 748.942 Q150.274 753.526 150.274 762.275 Q150.274 771.002 147.195 775.609 Q144.14 780.192 138.33 780.192 Q132.519 780.192 129.441 775.609 Q126.385 771.002 126.385 762.275 Q126.385 753.526 129.441 748.942 Q132.519 744.336 138.33 744.336 Z\" fill=\"#000000\" fill-rule=\"evenodd\" fill-opacity=\"1\" /><path clip-path=\"url(#clip890)\" d=\"M63.9319 406.302 Q60.3208 406.302 58.4921 409.867 Q56.6865 413.408 56.6865 420.538 Q56.6865 427.644 58.4921 431.209 Q60.3208 434.751 63.9319 434.751 Q67.5661 434.751 69.3717 431.209 Q71.2004 427.644 71.2004 420.538 Q71.2004 413.408 69.3717 409.867 Q67.5661 406.302 63.9319 406.302 M63.9319 402.598 Q69.742 402.598 72.7976 407.205 Q75.8763 411.788 75.8763 420.538 Q75.8763 429.265 72.7976 433.871 Q69.742 438.455 63.9319 438.455 Q58.1217 438.455 55.043 433.871 Q51.9875 429.265 51.9875 420.538 Q51.9875 411.788 55.043 407.205 Q58.1217 402.598 63.9319 402.598 Z\" fill=\"#000000\" fill-rule=\"evenodd\" fill-opacity=\"1\" /><path clip-path=\"url(#clip890)\" d=\"M84.0938 431.904 L88.978 431.904 L88.978 437.783 L84.0938 437.783 L84.0938 431.904 Z\" fill=\"#000000\" fill-rule=\"evenodd\" fill-opacity=\"1\" /><path clip-path=\"url(#clip890)\" d=\"M97.9826 403.223 L120.205 403.223 L120.205 405.214 L107.658 437.783 L102.774 437.783 L114.58 407.158 L97.9826 407.158 L97.9826 403.223 Z\" fill=\"#000000\" fill-rule=\"evenodd\" fill-opacity=\"1\" /><path clip-path=\"url(#clip890)\" d=\"M129.371 403.223 L147.728 403.223 L147.728 407.158 L133.654 407.158 L133.654 415.631 Q134.672 415.283 135.691 415.121 Q136.709 414.936 137.728 414.936 Q143.515 414.936 146.894 418.107 Q150.274 421.279 150.274 426.695 Q150.274 432.274 146.802 435.376 Q143.33 438.455 137.01 438.455 Q134.834 438.455 132.566 438.084 Q130.32 437.714 127.913 436.973 L127.913 432.274 Q129.996 433.408 132.219 433.964 Q134.441 434.519 136.918 434.519 Q140.922 434.519 143.26 432.413 Q145.598 430.306 145.598 426.695 Q145.598 423.084 143.26 420.978 Q140.922 418.871 136.918 418.871 Q135.043 418.871 133.168 419.288 Q131.316 419.705 129.371 420.584 L129.371 403.223 Z\" fill=\"#000000\" fill-rule=\"evenodd\" fill-opacity=\"1\" /><path clip-path=\"url(#clip890)\" d=\"M53.7467 92.1107 L61.3856 92.1107 L61.3856 65.7451 L53.0754 67.4117 L53.0754 63.1525 L61.3393 61.4858 L66.0152 61.4858 L66.0152 92.1107 L73.654 92.1107 L73.654 96.0458 L53.7467 96.0458 L53.7467 92.1107 Z\" fill=\"#000000\" fill-rule=\"evenodd\" fill-opacity=\"1\" /><path clip-path=\"url(#clip890)\" d=\"M83.0984 90.1662 L87.9827 90.1662 L87.9827 96.0458 L83.0984 96.0458 L83.0984 90.1662 Z\" fill=\"#000000\" fill-rule=\"evenodd\" fill-opacity=\"1\" /><path clip-path=\"url(#clip890)\" d=\"M108.168 64.5645 Q104.557 64.5645 102.728 68.1293 Q100.922 71.671 100.922 78.8006 Q100.922 85.907 102.728 89.4718 Q104.557 93.0135 108.168 93.0135 Q111.802 93.0135 113.608 89.4718 Q115.436 85.907 115.436 78.8006 Q115.436 71.671 113.608 68.1293 Q111.802 64.5645 108.168 64.5645 M108.168 60.8608 Q113.978 60.8608 117.033 65.4673 Q120.112 70.0506 120.112 78.8006 Q120.112 87.5274 117.033 92.1338 Q113.978 96.7171 108.168 96.7171 Q102.358 96.7171 99.2789 92.1338 Q96.2234 87.5274 96.2234 78.8006 Q96.2234 70.0506 99.2789 65.4673 Q102.358 60.8608 108.168 60.8608 Z\" fill=\"#000000\" fill-rule=\"evenodd\" fill-opacity=\"1\" /><path clip-path=\"url(#clip890)\" d=\"M138.33 64.5645 Q134.719 64.5645 132.89 68.1293 Q131.084 71.671 131.084 78.8006 Q131.084 85.907 132.89 89.4718 Q134.719 93.0135 138.33 93.0135 Q141.964 93.0135 143.769 89.4718 Q145.598 85.907 145.598 78.8006 Q145.598 71.671 143.769 68.1293 Q141.964 64.5645 138.33 64.5645 M138.33 60.8608 Q144.14 60.8608 147.195 65.4673 Q150.274 70.0506 150.274 78.8006 Q150.274 87.5274 147.195 92.1338 Q144.14 96.7171 138.33 96.7171 Q132.519 96.7171 129.441 92.1338 Q126.385 87.5274 126.385 78.8006 Q126.385 70.0506 129.441 65.4673 Q132.519 60.8608 138.33 60.8608 Z\" fill=\"#000000\" fill-rule=\"evenodd\" fill-opacity=\"1\" /><polyline clip-path=\"url(#clip892)\" style=\"stroke:#009af9; stroke-linecap:butt; stroke-linejoin:round; stroke-width:4; stroke-opacity:1; fill:none\" points=\"\n",
       "  247.59,1445.72 288.467,1315.63 329.344,1197.93 370.221,1091.43 411.098,995.06 451.975,907.863 492.852,828.964 533.729,757.573 574.606,692.976 615.483,634.526 \n",
       "  656.36,581.639 697.237,533.784 738.114,490.483 778.991,451.303 819.868,415.852 860.745,383.774 901.622,354.748 942.499,328.485 983.376,304.721 1024.25,283.219 \n",
       "  1065.13,263.762 1106.01,246.158 1146.88,230.228 1187.76,215.815 1228.64,202.773 1269.51,190.972 1310.39,180.294 1351.27,170.632 1392.15,161.89 1433.02,153.98 \n",
       "  1473.9,146.822 1514.78,140.346 1555.65,134.486 1596.53,129.183 1637.41,124.385 1678.29,120.044 1719.16,116.116 1760.04,112.562 1800.92,109.346 1841.79,106.436 \n",
       "  1882.67,103.802 1923.55,101.42 1964.42,99.264 2005.3,97.3134 2046.18,95.5483 2087.06,93.9513 2127.93,92.5062 2168.81,91.1986 2209.69,90.0155 2250.56,88.9449 \n",
       "  2291.44,87.9763 \n",
       "  \"/>\n",
       "<polyline clip-path=\"url(#clip892)\" style=\"stroke:#e26f46; stroke-linecap:butt; stroke-linejoin:round; stroke-width:4; stroke-opacity:1; fill:none\" points=\"\n",
       "  247.59,1445.72 588.231,676.85 928.873,340.447 1269.51,193.26 1610.16,128.861 1950.8,100.684 2291.44,88.3557 \n",
       "  \"/>\n",
       "<path clip-path=\"url(#clip892)\" d=\"M247.59 1461.72 L236.278 1457.03 L231.59 1445.72 L236.278 1434.4 L247.59 1429.72 L258.902 1434.4 L263.59 1445.72 L258.902 1457.03 Z\" fill=\"#e26f46\" fill-rule=\"evenodd\" fill-opacity=\"1\" stroke=\"#000000\" stroke-opacity=\"1\" stroke-width=\"3.2\"/>\n",
       "<path clip-path=\"url(#clip892)\" d=\"M588.231 692.85 L576.919 688.162 L572.231 676.85 L576.919 665.538 L588.231 660.85 L599.543 665.538 L604.231 676.85 L599.543 688.162 Z\" fill=\"#e26f46\" fill-rule=\"evenodd\" fill-opacity=\"1\" stroke=\"#000000\" stroke-opacity=\"1\" stroke-width=\"3.2\"/>\n",
       "<path clip-path=\"url(#clip892)\" d=\"M928.873 356.447 L917.561 351.759 L912.873 340.447 L917.561 329.135 L928.873 324.447 L940.185 329.135 L944.873 340.447 L940.185 351.759 Z\" fill=\"#e26f46\" fill-rule=\"evenodd\" fill-opacity=\"1\" stroke=\"#000000\" stroke-opacity=\"1\" stroke-width=\"3.2\"/>\n",
       "<path clip-path=\"url(#clip892)\" d=\"M1269.51 209.26 L1258.2 204.572 L1253.51 193.26 L1258.2 181.948 L1269.51 177.26 L1280.83 181.948 L1285.51 193.26 L1280.83 204.572 Z\" fill=\"#e26f46\" fill-rule=\"evenodd\" fill-opacity=\"1\" stroke=\"#000000\" stroke-opacity=\"1\" stroke-width=\"3.2\"/>\n",
       "<path clip-path=\"url(#clip892)\" d=\"M1610.16 144.861 L1598.84 140.173 L1594.16 128.861 L1598.84 117.549 L1610.16 112.861 L1621.47 117.549 L1626.16 128.861 L1621.47 140.173 Z\" fill=\"#e26f46\" fill-rule=\"evenodd\" fill-opacity=\"1\" stroke=\"#000000\" stroke-opacity=\"1\" stroke-width=\"3.2\"/>\n",
       "<path clip-path=\"url(#clip892)\" d=\"M1950.8 116.684 L1939.49 111.996 L1934.8 100.684 L1939.49 89.3719 L1950.8 84.6839 L1962.11 89.3719 L1966.8 100.684 L1962.11 111.996 Z\" fill=\"#e26f46\" fill-rule=\"evenodd\" fill-opacity=\"1\" stroke=\"#000000\" stroke-opacity=\"1\" stroke-width=\"3.2\"/>\n",
       "<path clip-path=\"url(#clip892)\" d=\"M2291.44 104.356 L2280.13 99.6677 L2275.44 88.3557 L2280.13 77.0437 L2291.44 72.3557 L2302.75 77.0437 L2307.44 88.3557 L2302.75 99.6677 Z\" fill=\"#e26f46\" fill-rule=\"evenodd\" fill-opacity=\"1\" stroke=\"#000000\" stroke-opacity=\"1\" stroke-width=\"3.2\"/>\n",
       "<polyline clip-path=\"url(#clip892)\" style=\"stroke:#3da44d; stroke-linecap:butt; stroke-linejoin:round; stroke-width:4; stroke-opacity:1; fill:none\" points=\"\n",
       "  247.59,1445.72 588.231,676.85 928.873,340.447 1269.51,193.26 1610.16,128.861 1950.8,100.684 2291.44,88.3557 \n",
       "  \"/>\n",
       "<path clip-path=\"url(#clip892)\" d=\"M231.59 1429.72 L231.59 1461.72 L263.59 1461.72 L263.59 1429.72 L231.59 1429.72 Z\" fill=\"#3da44d\" fill-rule=\"evenodd\" fill-opacity=\"1\" stroke=\"#000000\" stroke-opacity=\"1\" stroke-width=\"3.2\"/>\n",
       "<path clip-path=\"url(#clip892)\" d=\"M572.231 660.85 L572.231 692.85 L604.231 692.85 L604.231 660.85 L572.231 660.85 Z\" fill=\"#3da44d\" fill-rule=\"evenodd\" fill-opacity=\"1\" stroke=\"#000000\" stroke-opacity=\"1\" stroke-width=\"3.2\"/>\n",
       "<path clip-path=\"url(#clip892)\" d=\"M912.873 324.447 L912.873 356.447 L944.873 356.447 L944.873 324.447 L912.873 324.447 Z\" fill=\"#3da44d\" fill-rule=\"evenodd\" fill-opacity=\"1\" stroke=\"#000000\" stroke-opacity=\"1\" stroke-width=\"3.2\"/>\n",
       "<path clip-path=\"url(#clip892)\" d=\"M1253.51 177.26 L1253.51 209.26 L1285.51 209.26 L1285.51 177.26 L1253.51 177.26 Z\" fill=\"#3da44d\" fill-rule=\"evenodd\" fill-opacity=\"1\" stroke=\"#000000\" stroke-opacity=\"1\" stroke-width=\"3.2\"/>\n",
       "<path clip-path=\"url(#clip892)\" d=\"M1594.16 112.861 L1594.16 144.861 L1626.16 144.861 L1626.16 112.861 L1594.16 112.861 Z\" fill=\"#3da44d\" fill-rule=\"evenodd\" fill-opacity=\"1\" stroke=\"#000000\" stroke-opacity=\"1\" stroke-width=\"3.2\"/>\n",
       "<path clip-path=\"url(#clip892)\" d=\"M1934.8 84.6839 L1934.8 116.684 L1966.8 116.684 L1966.8 84.6839 L1934.8 84.6839 Z\" fill=\"#3da44d\" fill-rule=\"evenodd\" fill-opacity=\"1\" stroke=\"#000000\" stroke-opacity=\"1\" stroke-width=\"3.2\"/>\n",
       "<path clip-path=\"url(#clip892)\" d=\"M2275.44 72.3557 L2275.44 104.356 L2307.44 104.356 L2307.44 72.3557 L2275.44 72.3557 Z\" fill=\"#3da44d\" fill-rule=\"evenodd\" fill-opacity=\"1\" stroke=\"#000000\" stroke-opacity=\"1\" stroke-width=\"3.2\"/>\n",
       "<path clip-path=\"url(#clip890)\" d=\"\n",
       "M1847.32 844.606 L2280.54 844.606 L2280.54 637.246 L1847.32 637.246  Z\n",
       "  \" fill=\"#ffffff\" fill-rule=\"evenodd\" fill-opacity=\"1\"/>\n",
       "<polyline clip-path=\"url(#clip890)\" style=\"stroke:#000000; stroke-linecap:butt; stroke-linejoin:round; stroke-width:4; stroke-opacity:1; fill:none\" points=\"\n",
       "  1847.32,844.606 2280.54,844.606 2280.54,637.246 1847.32,637.246 1847.32,844.606 \n",
       "  \"/>\n",
       "<polyline clip-path=\"url(#clip890)\" style=\"stroke:#009af9; stroke-linecap:butt; stroke-linejoin:round; stroke-width:4; stroke-opacity:1; fill:none\" points=\"\n",
       "  1871.39,689.086 2015.82,689.086 \n",
       "  \"/>\n",
       "<path clip-path=\"url(#clip890)\" d=\"M2063.92 692.338 L2063.92 694.422 L2044.34 694.422 Q2044.62 698.82 2046.98 701.135 Q2049.36 703.426 2053.6 703.426 Q2056.05 703.426 2058.35 702.824 Q2060.66 702.222 2062.93 701.019 L2062.93 705.047 Q2060.64 706.019 2058.23 706.528 Q2055.82 707.037 2053.35 707.037 Q2047.14 707.037 2043.51 703.426 Q2039.9 699.815 2039.9 693.658 Q2039.9 687.292 2043.32 683.565 Q2046.77 679.815 2052.61 679.815 Q2057.84 679.815 2060.87 683.195 Q2063.92 686.551 2063.92 692.338 M2059.67 691.088 Q2059.62 687.593 2057.7 685.51 Q2055.8 683.426 2052.65 683.426 Q2049.09 683.426 2046.93 685.44 Q2044.8 687.454 2044.48 691.111 L2059.67 691.088 Z\" fill=\"#000000\" fill-rule=\"evenodd\" fill-opacity=\"1\" /><path clip-path=\"url(#clip890)\" d=\"M2091.63 680.44 L2082.26 693.056 L2092.12 706.366 L2087.1 706.366 L2079.55 696.181 L2072 706.366 L2066.98 706.366 L2077.05 692.801 L2067.84 680.44 L2072.86 680.44 L2079.73 689.676 L2086.61 680.44 L2091.63 680.44 Z\" fill=\"#000000\" fill-rule=\"evenodd\" fill-opacity=\"1\" /><path clip-path=\"url(#clip890)\" d=\"M2109.92 693.334 Q2104.76 693.334 2102.77 694.514 Q2100.78 695.695 2100.78 698.542 Q2100.78 700.81 2102.26 702.153 Q2103.76 703.472 2106.33 703.472 Q2109.87 703.472 2112 700.972 Q2114.16 698.449 2114.16 694.283 L2114.16 693.334 L2109.92 693.334 M2118.41 691.574 L2118.41 706.366 L2114.16 706.366 L2114.16 702.431 Q2112.7 704.792 2110.52 705.926 Q2108.35 707.037 2105.2 707.037 Q2101.22 707.037 2098.85 704.815 Q2096.52 702.57 2096.52 698.82 Q2096.52 694.445 2099.43 692.223 Q2102.37 690 2108.18 690 L2114.16 690 L2114.16 689.584 Q2114.16 686.644 2112.21 685.047 Q2110.29 683.426 2106.79 683.426 Q2104.57 683.426 2102.47 683.959 Q2100.36 684.491 2098.42 685.556 L2098.42 681.621 Q2100.75 680.718 2102.95 680.278 Q2105.15 679.815 2107.23 679.815 Q2112.86 679.815 2115.64 682.732 Q2118.41 685.649 2118.41 691.574 Z\" fill=\"#000000\" fill-rule=\"evenodd\" fill-opacity=\"1\" /><path clip-path=\"url(#clip890)\" d=\"M2145.85 681.436 L2145.85 685.417 Q2144.04 684.422 2142.21 683.936 Q2140.41 683.426 2138.55 683.426 Q2134.41 683.426 2132.12 686.065 Q2129.83 688.681 2129.83 693.426 Q2129.83 698.172 2132.12 700.81 Q2134.41 703.426 2138.55 703.426 Q2140.41 703.426 2142.21 702.94 Q2144.04 702.431 2145.85 701.435 L2145.85 705.371 Q2144.06 706.204 2142.14 706.621 Q2140.24 707.037 2138.09 707.037 Q2132.23 707.037 2128.79 703.357 Q2125.34 699.676 2125.34 693.426 Q2125.34 687.084 2128.81 683.449 Q2132.3 679.815 2138.37 679.815 Q2140.34 679.815 2142.21 680.232 Q2144.09 680.625 2145.85 681.436 Z\" fill=\"#000000\" fill-rule=\"evenodd\" fill-opacity=\"1\" /><path clip-path=\"url(#clip890)\" d=\"M2157.47 673.079 L2157.47 680.44 L2166.24 680.44 L2166.24 683.75 L2157.47 683.75 L2157.47 697.824 Q2157.47 700.996 2158.32 701.898 Q2159.2 702.801 2161.86 702.801 L2166.24 702.801 L2166.24 706.366 L2161.86 706.366 Q2156.93 706.366 2155.06 704.537 Q2153.18 702.685 2153.18 697.824 L2153.18 683.75 L2150.06 683.75 L2150.06 680.44 L2153.18 680.44 L2153.18 673.079 L2157.47 673.079 Z\" fill=\"#000000\" fill-rule=\"evenodd\" fill-opacity=\"1\" /><polyline clip-path=\"url(#clip890)\" style=\"stroke:#e26f46; stroke-linecap:butt; stroke-linejoin:round; stroke-width:4; stroke-opacity:1; fill:none\" points=\"\n",
       "  1871.39,740.926 2015.82,740.926 \n",
       "  \"/>\n",
       "<path clip-path=\"url(#clip890)\" d=\"M1943.61 766.526 L1925.51 759.025 L1918.01 740.926 L1925.51 722.827 L1943.61 715.326 L1961.71 722.827 L1969.21 740.926 L1961.71 759.025 Z\" fill=\"#e26f46\" fill-rule=\"evenodd\" fill-opacity=\"1\" stroke=\"#000000\" stroke-opacity=\"1\" stroke-width=\"5.12\"/>\n",
       "<path clip-path=\"url(#clip890)\" d=\"M2055.08 736.262 Q2054.36 735.845 2053.51 735.66 Q2052.67 735.451 2051.66 735.451 Q2048.04 735.451 2046.1 737.813 Q2044.18 740.151 2044.18 744.549 L2044.18 758.206 L2039.9 758.206 L2039.9 732.28 L2044.18 732.28 L2044.18 736.308 Q2045.52 733.947 2047.67 732.813 Q2049.83 731.655 2052.91 731.655 Q2053.35 731.655 2053.88 731.725 Q2054.41 731.771 2055.06 731.887 L2055.08 736.262 Z\" fill=\"#000000\" fill-rule=\"evenodd\" fill-opacity=\"1\" /><path clip-path=\"url(#clip890)\" d=\"M2059.39 722.188 L2063.67 722.188 L2063.67 743.461 L2076.38 732.28 L2081.82 732.28 L2068.07 744.41 L2082.4 758.206 L2076.84 758.206 L2063.67 745.544 L2063.67 758.206 L2059.39 758.206 L2059.39 722.188 Z\" fill=\"#000000\" fill-rule=\"evenodd\" fill-opacity=\"1\" /><path clip-path=\"url(#clip890)\" d=\"M2100.45 727.72 L2088.65 746.169 L2100.45 746.169 L2100.45 727.72 M2099.23 723.646 L2105.1 723.646 L2105.1 746.169 L2110.04 746.169 L2110.04 750.058 L2105.1 750.058 L2105.1 758.206 L2100.45 758.206 L2100.45 750.058 L2084.85 750.058 L2084.85 745.544 L2099.23 723.646 Z\" fill=\"#000000\" fill-rule=\"evenodd\" fill-opacity=\"1\" /><path clip-path=\"url(#clip890)\" d=\"M2136.86 766.076 L2136.86 769.386 L2112.23 769.386 L2112.23 766.076 L2136.86 766.076 Z\" fill=\"#000000\" fill-rule=\"evenodd\" fill-opacity=\"1\" /><path clip-path=\"url(#clip890)\" d=\"M2162.42 742.558 L2162.42 758.206 L2158.16 758.206 L2158.16 742.697 Q2158.16 739.016 2156.72 737.188 Q2155.29 735.359 2152.42 735.359 Q2148.97 735.359 2146.98 737.558 Q2144.99 739.757 2144.99 743.553 L2144.99 758.206 L2140.71 758.206 L2140.71 732.28 L2144.99 732.28 L2144.99 736.308 Q2146.52 733.97 2148.58 732.813 Q2150.66 731.655 2153.37 731.655 Q2157.84 731.655 2160.13 734.433 Q2162.42 737.188 2162.42 742.558 Z\" fill=\"#000000\" fill-rule=\"evenodd\" fill-opacity=\"1\" /><path clip-path=\"url(#clip890)\" d=\"M2193.09 744.178 L2193.09 746.262 L2173.51 746.262 Q2173.79 750.66 2176.15 752.975 Q2178.53 755.266 2182.77 755.266 Q2185.22 755.266 2187.51 754.664 Q2189.83 754.062 2192.1 752.859 L2192.1 756.887 Q2189.8 757.859 2187.4 758.368 Q2184.99 758.877 2182.51 758.877 Q2176.31 758.877 2172.67 755.266 Q2169.06 751.655 2169.06 745.498 Q2169.06 739.132 2172.49 735.405 Q2175.94 731.655 2181.77 731.655 Q2187 731.655 2190.03 735.035 Q2193.09 738.391 2193.09 744.178 M2188.83 742.928 Q2188.78 739.433 2186.86 737.35 Q2184.97 735.266 2181.82 735.266 Q2178.25 735.266 2176.1 737.28 Q2173.97 739.294 2173.65 742.951 L2188.83 742.928 Z\" fill=\"#000000\" fill-rule=\"evenodd\" fill-opacity=\"1\" /><path clip-path=\"url(#clip890)\" d=\"M2197.6 732.28 L2201.86 732.28 L2207.19 752.512 L2212.49 732.28 L2217.51 732.28 L2222.84 752.512 L2228.14 732.28 L2232.4 732.28 L2225.61 758.206 L2220.59 758.206 L2215.01 736.956 L2209.41 758.206 L2204.39 758.206 L2197.6 732.28 Z\" fill=\"#000000\" fill-rule=\"evenodd\" fill-opacity=\"1\" /><polyline clip-path=\"url(#clip890)\" style=\"stroke:#3da44d; stroke-linecap:butt; stroke-linejoin:round; stroke-width:4; stroke-opacity:1; fill:none\" points=\"\n",
       "  1871.39,792.766 2015.82,792.766 \n",
       "  \"/>\n",
       "<path clip-path=\"url(#clip890)\" d=\"M1918.01 767.166 L1918.01 818.366 L1969.21 818.366 L1969.21 767.166 L1918.01 767.166 Z\" fill=\"#3da44d\" fill-rule=\"evenodd\" fill-opacity=\"1\" stroke=\"#000000\" stroke-opacity=\"1\" stroke-width=\"5.12\"/>\n",
       "<path clip-path=\"url(#clip890)\" d=\"M2055.08 788.102 Q2054.36 787.685 2053.51 787.5 Q2052.67 787.291 2051.66 787.291 Q2048.04 787.291 2046.1 789.653 Q2044.18 791.991 2044.18 796.389 L2044.18 810.046 L2039.9 810.046 L2039.9 784.12 L2044.18 784.12 L2044.18 788.148 Q2045.52 785.787 2047.67 784.653 Q2049.83 783.495 2052.91 783.495 Q2053.35 783.495 2053.88 783.565 Q2054.41 783.611 2055.06 783.727 L2055.08 788.102 Z\" fill=\"#000000\" fill-rule=\"evenodd\" fill-opacity=\"1\" /><path clip-path=\"url(#clip890)\" d=\"M2059.39 774.028 L2063.67 774.028 L2063.67 795.301 L2076.38 784.12 L2081.82 784.12 L2068.07 796.25 L2082.4 810.046 L2076.84 810.046 L2063.67 797.384 L2063.67 810.046 L2059.39 810.046 L2059.39 774.028 Z\" fill=\"#000000\" fill-rule=\"evenodd\" fill-opacity=\"1\" /><path clip-path=\"url(#clip890)\" d=\"M2100.45 779.56 L2088.65 798.009 L2100.45 798.009 L2100.45 779.56 M2099.23 775.486 L2105.1 775.486 L2105.1 798.009 L2110.04 798.009 L2110.04 801.898 L2105.1 801.898 L2105.1 810.046 L2100.45 810.046 L2100.45 801.898 L2084.85 801.898 L2084.85 797.384 L2099.23 775.486 Z\" fill=\"#000000\" fill-rule=\"evenodd\" fill-opacity=\"1\" /><path clip-path=\"url(#clip890)\" d=\"M2136.86 817.916 L2136.86 821.226 L2112.23 821.226 L2112.23 817.916 L2136.86 817.916 Z\" fill=\"#000000\" fill-rule=\"evenodd\" fill-opacity=\"1\" /><path clip-path=\"url(#clip890)\" d=\"M2155.64 791.412 Q2158.99 792.129 2160.87 794.398 Q2162.77 796.666 2162.77 800 Q2162.77 805.115 2159.25 807.916 Q2155.73 810.717 2149.25 810.717 Q2147.07 810.717 2144.76 810.277 Q2142.47 809.861 2140.01 809.004 L2140.01 804.49 Q2141.96 805.625 2144.27 806.203 Q2146.59 806.782 2149.11 806.782 Q2153.51 806.782 2155.8 805.046 Q2158.11 803.31 2158.11 800 Q2158.11 796.944 2155.96 795.231 Q2153.83 793.495 2150.01 793.495 L2145.98 793.495 L2145.98 789.653 L2150.2 789.653 Q2153.65 789.653 2155.47 788.287 Q2157.3 786.898 2157.3 784.305 Q2157.3 781.643 2155.41 780.231 Q2153.53 778.796 2150.01 778.796 Q2148.09 778.796 2145.89 779.213 Q2143.69 779.629 2141.05 780.509 L2141.05 776.342 Q2143.72 775.602 2146.03 775.231 Q2148.37 774.861 2150.43 774.861 Q2155.75 774.861 2158.85 777.292 Q2161.96 779.699 2161.96 783.819 Q2161.96 786.69 2160.31 788.68 Q2158.67 790.648 2155.64 791.412 Z\" fill=\"#000000\" fill-rule=\"evenodd\" fill-opacity=\"1\" /><path clip-path=\"url(#clip890)\" d=\"M2181.63 793.634 Q2178.3 793.634 2176.38 795.416 Q2174.48 797.199 2174.48 800.324 Q2174.48 803.449 2176.38 805.231 Q2178.3 807.014 2181.63 807.014 Q2184.97 807.014 2186.89 805.231 Q2188.81 803.426 2188.81 800.324 Q2188.81 797.199 2186.89 795.416 Q2184.99 793.634 2181.63 793.634 M2176.96 791.643 Q2173.95 790.903 2172.26 788.842 Q2170.59 786.782 2170.59 783.819 Q2170.59 779.676 2173.53 777.268 Q2176.49 774.861 2181.63 774.861 Q2186.79 774.861 2189.73 777.268 Q2192.67 779.676 2192.67 783.819 Q2192.67 786.782 2190.98 788.842 Q2189.32 790.903 2186.33 791.643 Q2189.71 792.43 2191.59 794.722 Q2193.48 797.014 2193.48 800.324 Q2193.48 805.347 2190.41 808.032 Q2187.35 810.717 2181.63 810.717 Q2175.91 810.717 2172.84 808.032 Q2169.78 805.347 2169.78 800.324 Q2169.78 797.014 2171.68 794.722 Q2173.58 792.43 2176.96 791.643 M2175.24 784.259 Q2175.24 786.944 2176.91 788.449 Q2178.6 789.953 2181.63 789.953 Q2184.64 789.953 2186.33 788.449 Q2188.04 786.944 2188.04 784.259 Q2188.04 781.574 2186.33 780.069 Q2184.64 778.565 2181.63 778.565 Q2178.6 778.565 2176.91 780.069 Q2175.24 781.574 2175.24 784.259 Z\" fill=\"#000000\" fill-rule=\"evenodd\" fill-opacity=\"1\" /></svg>\n"
      ]
     },
     "execution_count": 32,
     "metadata": {},
     "output_type": "execute_result"
    }
   ],
   "source": [
    "b = [1/8, 3/8, 3/8, 1/8]\n",
    "c = [0, 1/3,  2/3, 1]\n",
    "rk4_38 = RungeKutta(a, b, c)\n",
    "plot!(solver(f, rk4_38, t₀, x₀, dt, nsteps), marker = :r,  label=\"rk4_38\")"
   ]
  },
  {
   "cell_type": "markdown",
   "id": "3a98f296",
   "metadata": {},
   "source": [
    "## Metaprogrammation\n",
    "\n",
    "Voyons maintenant comment créer la fonction \"solveur\" en utilisant la métaprogrammation."
   ]
  },
  {
   "cell_type": "code",
   "execution_count": 33,
   "id": "deed455c",
   "metadata": {},
   "outputs": [
    {
     "data": {
      "text/plain": [
       "@addition (macro with 1 method)"
      ]
     },
     "execution_count": 33,
     "metadata": {},
     "output_type": "execute_result"
    }
   ],
   "source": [
    "macro addition(x, y)\n",
    "    return :($x + $y)\n",
    "end"
   ]
  },
  {
   "cell_type": "code",
   "execution_count": 35,
   "id": "bf48b189",
   "metadata": {},
   "outputs": [
    {
     "data": {
      "text/plain": [
       "5"
      ]
     },
     "execution_count": 35,
     "metadata": {},
     "output_type": "execute_result"
    }
   ],
   "source": [
    "@addition 2 3      ## ou @add(2, 3) "
   ]
  },
  {
   "cell_type": "markdown",
   "id": "a83b4700",
   "metadata": {},
   "source": [
    "Cette macro n'est pas une fonction, elle crée une expression en utilisant les deux arguments et place le symbole `+` entre les deux. Créons maintenant une macro pour calculer la valeur absolue."
   ]
  },
  {
   "cell_type": "code",
   "execution_count": 36,
   "id": "7b593bcd",
   "metadata": {},
   "outputs": [
    {
     "data": {
      "text/plain": [
       "(2, 2)"
      ]
     },
     "execution_count": 36,
     "metadata": {},
     "output_type": "execute_result"
    }
   ],
   "source": [
    "macro abs(x)\n",
    "    return :( $x > 0 ? $x : -$x)\n",
    "end\n",
    "@abs(-2), @abs(2)"
   ]
  },
  {
   "cell_type": "markdown",
   "id": "a3a28b62",
   "metadata": {},
   "source": [
    "Pour des expressions plus longues et plus compliquées, on utilisera le mot-clé `quote`. La macro suivante va créer la fonction solveur avec la méthode numérique choisie."
   ]
  },
  {
   "cell_type": "code",
   "execution_count": 38,
   "id": "9a1ba45b",
   "metadata": {},
   "outputs": [
    {
     "data": {
      "text/plain": [
       "@make_method (macro with 1 method)"
      ]
     },
     "execution_count": 38,
     "metadata": {},
     "output_type": "execute_result"
    }
   ],
   "source": [
    "macro make_method( meth)\n",
    "    return quote\n",
    "        function (f::Function, t₀::T, x₀::T, dt::T, nsteps::Int64) where T\n",
    "\n",
    "            t = zeros(T,nsteps)\n",
    "            x = zeros(T,nsteps)\n",
    "\n",
    "            t[1] = t₀\n",
    "            x[1] = x₀\n",
    "\n",
    "            for i in 2:nsteps\n",
    "               t[i], x[i] = $meth(f,t[i-1],x[i-1], dt)\n",
    "            end\n",
    "\n",
    "            return t, x\n",
    "        end\n",
    "    end\n",
    "end"
   ]
  },
  {
   "cell_type": "code",
   "execution_count": 39,
   "id": "5351e39a",
   "metadata": {},
   "outputs": [
    {
     "data": {
      "text/plain": [
       "#5 (generic function with 1 method)"
      ]
     },
     "execution_count": 39,
     "metadata": {},
     "output_type": "execute_result"
    }
   ],
   "source": [
    "rk4_solver = @make_method rk4"
   ]
  },
  {
   "cell_type": "code",
   "execution_count": 40,
   "id": "986d7456",
   "metadata": {},
   "outputs": [
    {
     "data": {
      "image/svg+xml": [
       "<?xml version=\"1.0\" encoding=\"utf-8\"?>\n",
       "<svg xmlns=\"http://www.w3.org/2000/svg\" xmlns:xlink=\"http://www.w3.org/1999/xlink\" width=\"600\" height=\"400\" viewBox=\"0 0 2400 1600\">\n",
       "<defs>\n",
       "  <clipPath id=\"clip930\">\n",
       "    <rect x=\"0\" y=\"0\" width=\"2400\" height=\"1600\"/>\n",
       "  </clipPath>\n",
       "</defs>\n",
       "<path clip-path=\"url(#clip930)\" d=\"\n",
       "M0 1600 L2400 1600 L2400 0 L0 0  Z\n",
       "  \" fill=\"#ffffff\" fill-rule=\"evenodd\" fill-opacity=\"1\"/>\n",
       "<defs>\n",
       "  <clipPath id=\"clip931\">\n",
       "    <rect x=\"480\" y=\"0\" width=\"1681\" height=\"1600\"/>\n",
       "  </clipPath>\n",
       "</defs>\n",
       "<path clip-path=\"url(#clip930)\" d=\"\n",
       "M186.274 1486.45 L2352.76 1486.45 L2352.76 47.2441 L186.274 47.2441  Z\n",
       "  \" fill=\"#ffffff\" fill-rule=\"evenodd\" fill-opacity=\"1\"/>\n",
       "<defs>\n",
       "  <clipPath id=\"clip932\">\n",
       "    <rect x=\"186\" y=\"47\" width=\"2167\" height=\"1440\"/>\n",
       "  </clipPath>\n",
       "</defs>\n",
       "<polyline clip-path=\"url(#clip932)\" style=\"stroke:#000000; stroke-linecap:butt; stroke-linejoin:round; stroke-width:2; stroke-opacity:0.1; fill:none\" points=\"\n",
       "  247.59,1486.45 247.59,47.2441 \n",
       "  \"/>\n",
       "<polyline clip-path=\"url(#clip932)\" style=\"stroke:#000000; stroke-linecap:butt; stroke-linejoin:round; stroke-width:2; stroke-opacity:0.1; fill:none\" points=\"\n",
       "  656.36,1486.45 656.36,47.2441 \n",
       "  \"/>\n",
       "<polyline clip-path=\"url(#clip932)\" style=\"stroke:#000000; stroke-linecap:butt; stroke-linejoin:round; stroke-width:2; stroke-opacity:0.1; fill:none\" points=\"\n",
       "  1065.13,1486.45 1065.13,47.2441 \n",
       "  \"/>\n",
       "<polyline clip-path=\"url(#clip932)\" style=\"stroke:#000000; stroke-linecap:butt; stroke-linejoin:round; stroke-width:2; stroke-opacity:0.1; fill:none\" points=\"\n",
       "  1473.9,1486.45 1473.9,47.2441 \n",
       "  \"/>\n",
       "<polyline clip-path=\"url(#clip932)\" style=\"stroke:#000000; stroke-linecap:butt; stroke-linejoin:round; stroke-width:2; stroke-opacity:0.1; fill:none\" points=\"\n",
       "  1882.67,1486.45 1882.67,47.2441 \n",
       "  \"/>\n",
       "<polyline clip-path=\"url(#clip932)\" style=\"stroke:#000000; stroke-linecap:butt; stroke-linejoin:round; stroke-width:2; stroke-opacity:0.1; fill:none\" points=\"\n",
       "  2291.44,1486.45 2291.44,47.2441 \n",
       "  \"/>\n",
       "<polyline clip-path=\"url(#clip930)\" style=\"stroke:#000000; stroke-linecap:butt; stroke-linejoin:round; stroke-width:4; stroke-opacity:1; fill:none\" points=\"\n",
       "  186.274,1486.45 2352.76,1486.45 \n",
       "  \"/>\n",
       "<polyline clip-path=\"url(#clip930)\" style=\"stroke:#000000; stroke-linecap:butt; stroke-linejoin:round; stroke-width:4; stroke-opacity:1; fill:none\" points=\"\n",
       "  247.59,1486.45 247.59,1467.55 \n",
       "  \"/>\n",
       "<polyline clip-path=\"url(#clip930)\" style=\"stroke:#000000; stroke-linecap:butt; stroke-linejoin:round; stroke-width:4; stroke-opacity:1; fill:none\" points=\"\n",
       "  656.36,1486.45 656.36,1467.55 \n",
       "  \"/>\n",
       "<polyline clip-path=\"url(#clip930)\" style=\"stroke:#000000; stroke-linecap:butt; stroke-linejoin:round; stroke-width:4; stroke-opacity:1; fill:none\" points=\"\n",
       "  1065.13,1486.45 1065.13,1467.55 \n",
       "  \"/>\n",
       "<polyline clip-path=\"url(#clip930)\" style=\"stroke:#000000; stroke-linecap:butt; stroke-linejoin:round; stroke-width:4; stroke-opacity:1; fill:none\" points=\"\n",
       "  1473.9,1486.45 1473.9,1467.55 \n",
       "  \"/>\n",
       "<polyline clip-path=\"url(#clip930)\" style=\"stroke:#000000; stroke-linecap:butt; stroke-linejoin:round; stroke-width:4; stroke-opacity:1; fill:none\" points=\"\n",
       "  1882.67,1486.45 1882.67,1467.55 \n",
       "  \"/>\n",
       "<polyline clip-path=\"url(#clip930)\" style=\"stroke:#000000; stroke-linecap:butt; stroke-linejoin:round; stroke-width:4; stroke-opacity:1; fill:none\" points=\"\n",
       "  2291.44,1486.45 2291.44,1467.55 \n",
       "  \"/>\n",
       "<path clip-path=\"url(#clip930)\" d=\"M247.59 1517.37 Q243.978 1517.37 242.15 1520.93 Q240.344 1524.47 240.344 1531.6 Q240.344 1538.71 242.15 1542.27 Q243.978 1545.82 247.59 1545.82 Q251.224 1545.82 253.029 1542.27 Q254.858 1538.71 254.858 1531.6 Q254.858 1524.47 253.029 1520.93 Q251.224 1517.37 247.59 1517.37 M247.59 1513.66 Q253.4 1513.66 256.455 1518.27 Q259.534 1522.85 259.534 1531.6 Q259.534 1540.33 256.455 1544.94 Q253.4 1549.52 247.59 1549.52 Q241.779 1549.52 238.701 1544.94 Q235.645 1540.33 235.645 1531.6 Q235.645 1522.85 238.701 1518.27 Q241.779 1513.66 247.59 1513.66 Z\" fill=\"#000000\" fill-rule=\"evenodd\" fill-opacity=\"1\" /><path clip-path=\"url(#clip930)\" d=\"M646.742 1544.91 L654.381 1544.91 L654.381 1518.55 L646.07 1520.21 L646.07 1515.95 L654.334 1514.29 L659.01 1514.29 L659.01 1544.91 L666.649 1544.91 L666.649 1548.85 L646.742 1548.85 L646.742 1544.91 Z\" fill=\"#000000\" fill-rule=\"evenodd\" fill-opacity=\"1\" /><path clip-path=\"url(#clip930)\" d=\"M1059.78 1544.91 L1076.1 1544.91 L1076.1 1548.85 L1054.16 1548.85 L1054.16 1544.91 Q1056.82 1542.16 1061.4 1537.53 Q1066.01 1532.88 1067.19 1531.53 Q1069.44 1529.01 1070.32 1527.27 Q1071.22 1525.51 1071.22 1523.82 Q1071.22 1521.07 1069.27 1519.33 Q1067.35 1517.6 1064.25 1517.6 Q1062.05 1517.6 1059.6 1518.36 Q1057.17 1519.13 1054.39 1520.68 L1054.39 1515.95 Q1057.21 1514.82 1059.67 1514.24 Q1062.12 1513.66 1064.16 1513.66 Q1069.53 1513.66 1072.72 1516.35 Q1075.92 1519.03 1075.92 1523.52 Q1075.92 1525.65 1075.11 1527.57 Q1074.32 1529.47 1072.21 1532.07 Q1071.63 1532.74 1068.53 1535.95 Q1065.43 1539.15 1059.78 1544.91 Z\" fill=\"#000000\" fill-rule=\"evenodd\" fill-opacity=\"1\" /><path clip-path=\"url(#clip930)\" d=\"M1478.15 1530.21 Q1481.5 1530.93 1483.38 1533.2 Q1485.28 1535.47 1485.28 1538.8 Q1485.28 1543.92 1481.76 1546.72 Q1478.24 1549.52 1471.76 1549.52 Q1469.58 1549.52 1467.27 1549.08 Q1464.98 1548.66 1462.52 1547.81 L1462.52 1543.29 Q1464.47 1544.43 1466.78 1545.01 Q1469.1 1545.58 1471.62 1545.58 Q1476.02 1545.58 1478.31 1543.85 Q1480.62 1542.11 1480.62 1538.8 Q1480.62 1535.75 1478.47 1534.03 Q1476.34 1532.3 1472.52 1532.3 L1468.49 1532.3 L1468.49 1528.45 L1472.71 1528.45 Q1476.16 1528.45 1477.99 1527.09 Q1479.81 1525.7 1479.81 1523.11 Q1479.81 1520.45 1477.92 1519.03 Q1476.04 1517.6 1472.52 1517.6 Q1470.6 1517.6 1468.4 1518.01 Q1466.2 1518.43 1463.56 1519.31 L1463.56 1515.14 Q1466.23 1514.4 1468.54 1514.03 Q1470.88 1513.66 1472.94 1513.66 Q1478.26 1513.66 1481.37 1516.09 Q1484.47 1518.5 1484.47 1522.62 Q1484.47 1525.49 1482.82 1527.48 Q1481.18 1529.45 1478.15 1530.21 Z\" fill=\"#000000\" fill-rule=\"evenodd\" fill-opacity=\"1\" /><path clip-path=\"url(#clip930)\" d=\"M1885.68 1518.36 L1873.87 1536.81 L1885.68 1536.81 L1885.68 1518.36 M1884.45 1514.29 L1890.33 1514.29 L1890.33 1536.81 L1895.26 1536.81 L1895.26 1540.7 L1890.33 1540.7 L1890.33 1548.85 L1885.68 1548.85 L1885.68 1540.7 L1870.08 1540.7 L1870.08 1536.19 L1884.45 1514.29 Z\" fill=\"#000000\" fill-rule=\"evenodd\" fill-opacity=\"1\" /><path clip-path=\"url(#clip930)\" d=\"M2281.72 1514.29 L2300.07 1514.29 L2300.07 1518.22 L2286 1518.22 L2286 1526.7 Q2287.02 1526.35 2288.04 1526.19 Q2289.06 1526 2290.07 1526 Q2295.86 1526 2299.24 1529.17 Q2302.62 1532.34 2302.62 1537.76 Q2302.62 1543.34 2299.15 1546.44 Q2295.68 1549.52 2289.36 1549.52 Q2287.18 1549.52 2284.91 1549.15 Q2282.67 1548.78 2280.26 1548.04 L2280.26 1543.34 Q2282.34 1544.47 2284.57 1545.03 Q2286.79 1545.58 2289.26 1545.58 Q2293.27 1545.58 2295.61 1543.48 Q2297.94 1541.37 2297.94 1537.76 Q2297.94 1534.15 2295.61 1532.04 Q2293.27 1529.94 2289.26 1529.94 Q2287.39 1529.94 2285.51 1530.35 Q2283.66 1530.77 2281.72 1531.65 L2281.72 1514.29 Z\" fill=\"#000000\" fill-rule=\"evenodd\" fill-opacity=\"1\" /><polyline clip-path=\"url(#clip932)\" style=\"stroke:#000000; stroke-linecap:butt; stroke-linejoin:round; stroke-width:2; stroke-opacity:0.1; fill:none\" points=\"\n",
       "  186.274,1445.72 2352.76,1445.72 \n",
       "  \"/>\n",
       "<polyline clip-path=\"url(#clip932)\" style=\"stroke:#000000; stroke-linecap:butt; stroke-linejoin:round; stroke-width:2; stroke-opacity:0.1; fill:none\" points=\"\n",
       "  186.274,1103.88 2352.76,1103.88 \n",
       "  \"/>\n",
       "<polyline clip-path=\"url(#clip932)\" style=\"stroke:#000000; stroke-linecap:butt; stroke-linejoin:round; stroke-width:2; stroke-opacity:0.1; fill:none\" points=\"\n",
       "  186.274,762.05 2352.76,762.05 \n",
       "  \"/>\n",
       "<polyline clip-path=\"url(#clip932)\" style=\"stroke:#000000; stroke-linecap:butt; stroke-linejoin:round; stroke-width:2; stroke-opacity:0.1; fill:none\" points=\"\n",
       "  186.274,420.217 2352.76,420.217 \n",
       "  \"/>\n",
       "<polyline clip-path=\"url(#clip932)\" style=\"stroke:#000000; stroke-linecap:butt; stroke-linejoin:round; stroke-width:2; stroke-opacity:0.1; fill:none\" points=\"\n",
       "  186.274,78.3837 2352.76,78.3837 \n",
       "  \"/>\n",
       "<polyline clip-path=\"url(#clip930)\" style=\"stroke:#000000; stroke-linecap:butt; stroke-linejoin:round; stroke-width:4; stroke-opacity:1; fill:none\" points=\"\n",
       "  186.274,1486.45 186.274,47.2441 \n",
       "  \"/>\n",
       "<polyline clip-path=\"url(#clip930)\" style=\"stroke:#000000; stroke-linecap:butt; stroke-linejoin:round; stroke-width:4; stroke-opacity:1; fill:none\" points=\"\n",
       "  186.274,1445.72 205.172,1445.72 \n",
       "  \"/>\n",
       "<polyline clip-path=\"url(#clip930)\" style=\"stroke:#000000; stroke-linecap:butt; stroke-linejoin:round; stroke-width:4; stroke-opacity:1; fill:none\" points=\"\n",
       "  186.274,1103.88 205.172,1103.88 \n",
       "  \"/>\n",
       "<polyline clip-path=\"url(#clip930)\" style=\"stroke:#000000; stroke-linecap:butt; stroke-linejoin:round; stroke-width:4; stroke-opacity:1; fill:none\" points=\"\n",
       "  186.274,762.05 205.172,762.05 \n",
       "  \"/>\n",
       "<polyline clip-path=\"url(#clip930)\" style=\"stroke:#000000; stroke-linecap:butt; stroke-linejoin:round; stroke-width:4; stroke-opacity:1; fill:none\" points=\"\n",
       "  186.274,420.217 205.172,420.217 \n",
       "  \"/>\n",
       "<polyline clip-path=\"url(#clip930)\" style=\"stroke:#000000; stroke-linecap:butt; stroke-linejoin:round; stroke-width:4; stroke-opacity:1; fill:none\" points=\"\n",
       "  186.274,78.3837 205.172,78.3837 \n",
       "  \"/>\n",
       "<path clip-path=\"url(#clip930)\" d=\"M62.9365 1431.51 Q59.3254 1431.51 57.4967 1435.08 Q55.6912 1438.62 55.6912 1445.75 Q55.6912 1452.86 57.4967 1456.42 Q59.3254 1459.96 62.9365 1459.96 Q66.5707 1459.96 68.3763 1456.42 Q70.205 1452.86 70.205 1445.75 Q70.205 1438.62 68.3763 1435.08 Q66.5707 1431.51 62.9365 1431.51 M62.9365 1427.81 Q68.7467 1427.81 71.8022 1432.42 Q74.8809 1437 74.8809 1445.75 Q74.8809 1454.48 71.8022 1459.08 Q68.7467 1463.67 62.9365 1463.67 Q57.1264 1463.67 54.0477 1459.08 Q50.9921 1454.48 50.9921 1445.75 Q50.9921 1437 54.0477 1432.42 Q57.1264 1427.81 62.9365 1427.81 Z\" fill=\"#000000\" fill-rule=\"evenodd\" fill-opacity=\"1\" /><path clip-path=\"url(#clip930)\" d=\"M83.0984 1457.12 L87.9827 1457.12 L87.9827 1463 L83.0984 1463 L83.0984 1457.12 Z\" fill=\"#000000\" fill-rule=\"evenodd\" fill-opacity=\"1\" /><path clip-path=\"url(#clip930)\" d=\"M108.168 1431.51 Q104.557 1431.51 102.728 1435.08 Q100.922 1438.62 100.922 1445.75 Q100.922 1452.86 102.728 1456.42 Q104.557 1459.96 108.168 1459.96 Q111.802 1459.96 113.608 1456.42 Q115.436 1452.86 115.436 1445.75 Q115.436 1438.62 113.608 1435.08 Q111.802 1431.51 108.168 1431.51 M108.168 1427.81 Q113.978 1427.81 117.033 1432.42 Q120.112 1437 120.112 1445.75 Q120.112 1454.48 117.033 1459.08 Q113.978 1463.67 108.168 1463.67 Q102.358 1463.67 99.2789 1459.08 Q96.2234 1454.48 96.2234 1445.75 Q96.2234 1437 99.2789 1432.42 Q102.358 1427.81 108.168 1427.81 Z\" fill=\"#000000\" fill-rule=\"evenodd\" fill-opacity=\"1\" /><path clip-path=\"url(#clip930)\" d=\"M138.33 1431.51 Q134.719 1431.51 132.89 1435.08 Q131.084 1438.62 131.084 1445.75 Q131.084 1452.86 132.89 1456.42 Q134.719 1459.96 138.33 1459.96 Q141.964 1459.96 143.769 1456.42 Q145.598 1452.86 145.598 1445.75 Q145.598 1438.62 143.769 1435.08 Q141.964 1431.51 138.33 1431.51 M138.33 1427.81 Q144.14 1427.81 147.195 1432.42 Q150.274 1437 150.274 1445.75 Q150.274 1454.48 147.195 1459.08 Q144.14 1463.67 138.33 1463.67 Q132.519 1463.67 129.441 1459.08 Q126.385 1454.48 126.385 1445.75 Q126.385 1437 129.441 1432.42 Q132.519 1427.81 138.33 1427.81 Z\" fill=\"#000000\" fill-rule=\"evenodd\" fill-opacity=\"1\" /><path clip-path=\"url(#clip930)\" d=\"M63.9319 1089.68 Q60.3208 1089.68 58.4921 1093.25 Q56.6865 1096.79 56.6865 1103.92 Q56.6865 1111.02 58.4921 1114.59 Q60.3208 1118.13 63.9319 1118.13 Q67.5661 1118.13 69.3717 1114.59 Q71.2004 1111.02 71.2004 1103.92 Q71.2004 1096.79 69.3717 1093.25 Q67.5661 1089.68 63.9319 1089.68 M63.9319 1085.98 Q69.742 1085.98 72.7976 1090.58 Q75.8763 1095.17 75.8763 1103.92 Q75.8763 1112.64 72.7976 1117.25 Q69.742 1121.83 63.9319 1121.83 Q58.1217 1121.83 55.043 1117.25 Q51.9875 1112.64 51.9875 1103.92 Q51.9875 1095.17 55.043 1090.58 Q58.1217 1085.98 63.9319 1085.98 Z\" fill=\"#000000\" fill-rule=\"evenodd\" fill-opacity=\"1\" /><path clip-path=\"url(#clip930)\" d=\"M84.0938 1115.28 L88.978 1115.28 L88.978 1121.16 L84.0938 1121.16 L84.0938 1115.28 Z\" fill=\"#000000\" fill-rule=\"evenodd\" fill-opacity=\"1\" /><path clip-path=\"url(#clip930)\" d=\"M103.191 1117.23 L119.51 1117.23 L119.51 1121.16 L97.566 1121.16 L97.566 1117.23 Q100.228 1114.47 104.811 1109.84 Q109.418 1105.19 110.598 1103.85 Q112.844 1101.32 113.723 1099.59 Q114.626 1097.83 114.626 1096.14 Q114.626 1093.39 112.682 1091.65 Q110.76 1089.91 107.658 1089.91 Q105.459 1089.91 103.006 1090.68 Q100.575 1091.44 97.7974 1092.99 L97.7974 1088.27 Q100.621 1087.14 103.075 1086.56 Q105.529 1085.98 107.566 1085.98 Q112.936 1085.98 116.131 1088.66 Q119.325 1091.35 119.325 1095.84 Q119.325 1097.97 118.515 1099.89 Q117.728 1101.79 115.621 1104.38 Q115.043 1105.05 111.941 1108.27 Q108.839 1111.46 103.191 1117.23 Z\" fill=\"#000000\" fill-rule=\"evenodd\" fill-opacity=\"1\" /><path clip-path=\"url(#clip930)\" d=\"M129.371 1086.6 L147.728 1086.6 L147.728 1090.54 L133.654 1090.54 L133.654 1099.01 Q134.672 1098.66 135.691 1098.5 Q136.709 1098.32 137.728 1098.32 Q143.515 1098.32 146.894 1101.49 Q150.274 1104.66 150.274 1110.07 Q150.274 1115.65 146.802 1118.76 Q143.33 1121.83 137.01 1121.83 Q134.834 1121.83 132.566 1121.46 Q130.32 1121.09 127.913 1120.35 L127.913 1115.65 Q129.996 1116.79 132.219 1117.34 Q134.441 1117.9 136.918 1117.9 Q140.922 1117.9 143.26 1115.79 Q145.598 1113.69 145.598 1110.07 Q145.598 1106.46 143.26 1104.36 Q140.922 1102.25 136.918 1102.25 Q135.043 1102.25 133.168 1102.67 Q131.316 1103.08 129.371 1103.96 L129.371 1086.6 Z\" fill=\"#000000\" fill-rule=\"evenodd\" fill-opacity=\"1\" /><path clip-path=\"url(#clip930)\" d=\"M62.9365 747.848 Q59.3254 747.848 57.4967 751.413 Q55.6912 754.955 55.6912 762.084 Q55.6912 769.191 57.4967 772.756 Q59.3254 776.297 62.9365 776.297 Q66.5707 776.297 68.3763 772.756 Q70.205 769.191 70.205 762.084 Q70.205 754.955 68.3763 751.413 Q66.5707 747.848 62.9365 747.848 M62.9365 744.145 Q68.7467 744.145 71.8022 748.751 Q74.8809 753.334 74.8809 762.084 Q74.8809 770.811 71.8022 775.418 Q68.7467 780.001 62.9365 780.001 Q57.1264 780.001 54.0477 775.418 Q50.9921 770.811 50.9921 762.084 Q50.9921 753.334 54.0477 748.751 Q57.1264 744.145 62.9365 744.145 Z\" fill=\"#000000\" fill-rule=\"evenodd\" fill-opacity=\"1\" /><path clip-path=\"url(#clip930)\" d=\"M83.0984 773.45 L87.9827 773.45 L87.9827 779.33 L83.0984 779.33 L83.0984 773.45 Z\" fill=\"#000000\" fill-rule=\"evenodd\" fill-opacity=\"1\" /><path clip-path=\"url(#clip930)\" d=\"M98.2141 744.77 L116.57 744.77 L116.57 748.705 L102.496 748.705 L102.496 757.177 Q103.515 756.83 104.534 756.668 Q105.552 756.483 106.571 756.483 Q112.358 756.483 115.737 759.654 Q119.117 762.825 119.117 768.242 Q119.117 773.82 115.645 776.922 Q112.172 780.001 105.853 780.001 Q103.677 780.001 101.409 779.631 Q99.1632 779.26 96.7558 778.52 L96.7558 773.82 Q98.8391 774.955 101.061 775.51 Q103.284 776.066 105.76 776.066 Q109.765 776.066 112.103 773.959 Q114.441 771.853 114.441 768.242 Q114.441 764.631 112.103 762.524 Q109.765 760.418 105.76 760.418 Q103.885 760.418 102.01 760.834 Q100.159 761.251 98.2141 762.131 L98.2141 744.77 Z\" fill=\"#000000\" fill-rule=\"evenodd\" fill-opacity=\"1\" /><path clip-path=\"url(#clip930)\" d=\"M138.33 747.848 Q134.719 747.848 132.89 751.413 Q131.084 754.955 131.084 762.084 Q131.084 769.191 132.89 772.756 Q134.719 776.297 138.33 776.297 Q141.964 776.297 143.769 772.756 Q145.598 769.191 145.598 762.084 Q145.598 754.955 143.769 751.413 Q141.964 747.848 138.33 747.848 M138.33 744.145 Q144.14 744.145 147.195 748.751 Q150.274 753.334 150.274 762.084 Q150.274 770.811 147.195 775.418 Q144.14 780.001 138.33 780.001 Q132.519 780.001 129.441 775.418 Q126.385 770.811 126.385 762.084 Q126.385 753.334 129.441 748.751 Q132.519 744.145 138.33 744.145 Z\" fill=\"#000000\" fill-rule=\"evenodd\" fill-opacity=\"1\" /><path clip-path=\"url(#clip930)\" d=\"M63.9319 406.015 Q60.3208 406.015 58.4921 409.58 Q56.6865 413.122 56.6865 420.251 Q56.6865 427.358 58.4921 430.923 Q60.3208 434.464 63.9319 434.464 Q67.5661 434.464 69.3717 430.923 Q71.2004 427.358 71.2004 420.251 Q71.2004 413.122 69.3717 409.58 Q67.5661 406.015 63.9319 406.015 M63.9319 402.312 Q69.742 402.312 72.7976 406.918 Q75.8763 411.501 75.8763 420.251 Q75.8763 428.978 72.7976 433.585 Q69.742 438.168 63.9319 438.168 Q58.1217 438.168 55.043 433.585 Q51.9875 428.978 51.9875 420.251 Q51.9875 411.501 55.043 406.918 Q58.1217 402.312 63.9319 402.312 Z\" fill=\"#000000\" fill-rule=\"evenodd\" fill-opacity=\"1\" /><path clip-path=\"url(#clip930)\" d=\"M84.0938 431.617 L88.978 431.617 L88.978 437.497 L84.0938 437.497 L84.0938 431.617 Z\" fill=\"#000000\" fill-rule=\"evenodd\" fill-opacity=\"1\" /><path clip-path=\"url(#clip930)\" d=\"M97.9826 402.937 L120.205 402.937 L120.205 404.927 L107.658 437.497 L102.774 437.497 L114.58 406.872 L97.9826 406.872 L97.9826 402.937 Z\" fill=\"#000000\" fill-rule=\"evenodd\" fill-opacity=\"1\" /><path clip-path=\"url(#clip930)\" d=\"M129.371 402.937 L147.728 402.937 L147.728 406.872 L133.654 406.872 L133.654 415.344 Q134.672 414.997 135.691 414.835 Q136.709 414.65 137.728 414.65 Q143.515 414.65 146.894 417.821 Q150.274 420.992 150.274 426.409 Q150.274 431.987 146.802 435.089 Q143.33 438.168 137.01 438.168 Q134.834 438.168 132.566 437.798 Q130.32 437.427 127.913 436.687 L127.913 431.987 Q129.996 433.122 132.219 433.677 Q134.441 434.233 136.918 434.233 Q140.922 434.233 143.26 432.126 Q145.598 430.02 145.598 426.409 Q145.598 422.798 143.26 420.691 Q140.922 418.585 136.918 418.585 Q135.043 418.585 133.168 419.001 Q131.316 419.418 129.371 420.298 L129.371 402.937 Z\" fill=\"#000000\" fill-rule=\"evenodd\" fill-opacity=\"1\" /><path clip-path=\"url(#clip930)\" d=\"M53.7467 91.7286 L61.3856 91.7286 L61.3856 65.363 L53.0754 67.0296 L53.0754 62.7704 L61.3393 61.1037 L66.0152 61.1037 L66.0152 91.7286 L73.654 91.7286 L73.654 95.6637 L53.7467 95.6637 L53.7467 91.7286 Z\" fill=\"#000000\" fill-rule=\"evenodd\" fill-opacity=\"1\" /><path clip-path=\"url(#clip930)\" d=\"M83.0984 89.7841 L87.9827 89.7841 L87.9827 95.6637 L83.0984 95.6637 L83.0984 89.7841 Z\" fill=\"#000000\" fill-rule=\"evenodd\" fill-opacity=\"1\" /><path clip-path=\"url(#clip930)\" d=\"M108.168 64.1824 Q104.557 64.1824 102.728 67.7472 Q100.922 71.2889 100.922 78.4185 Q100.922 85.5249 102.728 89.0897 Q104.557 92.6313 108.168 92.6313 Q111.802 92.6313 113.608 89.0897 Q115.436 85.5249 115.436 78.4185 Q115.436 71.2889 113.608 67.7472 Q111.802 64.1824 108.168 64.1824 M108.168 60.4787 Q113.978 60.4787 117.033 65.0852 Q120.112 69.6685 120.112 78.4185 Q120.112 87.1453 117.033 91.7517 Q113.978 96.335 108.168 96.335 Q102.358 96.335 99.2789 91.7517 Q96.2234 87.1453 96.2234 78.4185 Q96.2234 69.6685 99.2789 65.0852 Q102.358 60.4787 108.168 60.4787 Z\" fill=\"#000000\" fill-rule=\"evenodd\" fill-opacity=\"1\" /><path clip-path=\"url(#clip930)\" d=\"M138.33 64.1824 Q134.719 64.1824 132.89 67.7472 Q131.084 71.2889 131.084 78.4185 Q131.084 85.5249 132.89 89.0897 Q134.719 92.6313 138.33 92.6313 Q141.964 92.6313 143.769 89.0897 Q145.598 85.5249 145.598 78.4185 Q145.598 71.2889 143.769 67.7472 Q141.964 64.1824 138.33 64.1824 M138.33 60.4787 Q144.14 60.4787 147.195 65.0852 Q150.274 69.6685 150.274 78.4185 Q150.274 87.1453 147.195 91.7517 Q144.14 96.335 138.33 96.335 Q132.519 96.335 129.441 91.7517 Q126.385 87.1453 126.385 78.4185 Q126.385 69.6685 129.441 65.0852 Q132.519 60.4787 138.33 60.4787 Z\" fill=\"#000000\" fill-rule=\"evenodd\" fill-opacity=\"1\" /><polyline clip-path=\"url(#clip932)\" style=\"stroke:#009af9; stroke-linecap:butt; stroke-linejoin:round; stroke-width:4; stroke-opacity:1; fill:none\" points=\"\n",
       "  247.59,1445.72 588.231,676.635 928.873,340.138 1269.51,192.91 1610.16,128.493 1950.8,100.308 2291.44,87.9763 \n",
       "  \"/>\n",
       "<path clip-path=\"url(#clip930)\" d=\"\n",
       "M1987.39 198.898 L2280.54 198.898 L2280.54 95.2176 L1987.39 95.2176  Z\n",
       "  \" fill=\"#ffffff\" fill-rule=\"evenodd\" fill-opacity=\"1\"/>\n",
       "<polyline clip-path=\"url(#clip930)\" style=\"stroke:#000000; stroke-linecap:butt; stroke-linejoin:round; stroke-width:4; stroke-opacity:1; fill:none\" points=\"\n",
       "  1987.39,198.898 2280.54,198.898 2280.54,95.2176 1987.39,95.2176 1987.39,198.898 \n",
       "  \"/>\n",
       "<polyline clip-path=\"url(#clip930)\" style=\"stroke:#009af9; stroke-linecap:butt; stroke-linejoin:round; stroke-width:4; stroke-opacity:1; fill:none\" points=\"\n",
       "  2011.46,147.058 2155.89,147.058 \n",
       "  \"/>\n",
       "<path clip-path=\"url(#clip930)\" d=\"M2193.81 166.745 Q2192 171.375 2190.29 172.787 Q2188.58 174.199 2185.71 174.199 L2182.3 174.199 L2182.3 170.634 L2184.8 170.634 Q2186.56 170.634 2187.53 169.8 Q2188.51 168.967 2189.69 165.865 L2190.45 163.921 L2179.97 138.412 L2184.48 138.412 L2192.58 158.689 L2200.68 138.412 L2205.2 138.412 L2193.81 166.745 Z\" fill=\"#000000\" fill-rule=\"evenodd\" fill-opacity=\"1\" /><path clip-path=\"url(#clip930)\" d=\"M2212.49 160.402 L2220.13 160.402 L2220.13 134.037 L2211.82 135.703 L2211.82 131.444 L2220.08 129.778 L2224.76 129.778 L2224.76 160.402 L2232.4 160.402 L2232.4 164.338 L2212.49 164.338 L2212.49 160.402 Z\" fill=\"#000000\" fill-rule=\"evenodd\" fill-opacity=\"1\" /></svg>\n"
      ]
     },
     "execution_count": 40,
     "metadata": {},
     "output_type": "execute_result"
    }
   ],
   "source": [
    "plot(rk4_solver(f, t₀, x₀, dt, nsteps))"
   ]
  },
  {
   "cell_type": "code",
   "execution_count": null,
   "id": "7b5a7275",
   "metadata": {},
   "outputs": [],
   "source": []
  }
 ],
 "metadata": {
  "jupytext": {
   "cell_metadata_filter": "-all",
   "main_language": "julia",
   "notebook_metadata_filter": "-all"
  },
  "kernelspec": {
   "display_name": "Julia 1.7.2",
   "language": "julia",
   "name": "julia-1.7"
  },
  "language_info": {
   "file_extension": ".jl",
   "mimetype": "application/julia",
   "name": "julia",
   "version": "1.7.2"
  }
 },
 "nbformat": 4,
 "nbformat_minor": 5
}
