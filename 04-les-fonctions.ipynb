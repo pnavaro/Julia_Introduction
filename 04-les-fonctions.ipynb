{
 "cells": [
  {
   "cell_type": "markdown",
   "id": "673a2fdc",
   "metadata": {},
   "source": [
    "# Les fonctions\n",
    "\n",
    "Il est possible de définir une fonction de trois façons différentes :\n",
    "\n",
    "## Définition en ligne"
   ]
  },
  {
   "cell_type": "code",
   "execution_count": 1,
   "id": "f9d69536",
   "metadata": {},
   "outputs": [
    {
     "data": {
      "text/plain": [
       "f (generic function with 1 method)"
      ]
     },
     "execution_count": 1,
     "metadata": {},
     "output_type": "execute_result"
    }
   ],
   "source": [
    "f(x) = 3x + 1"
   ]
  },
  {
   "cell_type": "code",
   "execution_count": 2,
   "id": "e3751ac1",
   "metadata": {},
   "outputs": [
    {
     "data": {
      "text/plain": [
       "7"
      ]
     },
     "execution_count": 2,
     "metadata": {},
     "output_type": "execute_result"
    }
   ],
   "source": [
    "f(2)"
   ]
  },
  {
   "cell_type": "code",
   "execution_count": 3,
   "id": "14d40bad",
   "metadata": {},
   "outputs": [
    {
     "data": {
      "text/plain": [
       "g (generic function with 1 method)"
      ]
     },
     "execution_count": 3,
     "metadata": {},
     "output_type": "execute_result"
    }
   ],
   "source": [
    "g(x,y)=[x*y+1, x-y]"
   ]
  },
  {
   "cell_type": "code",
   "execution_count": 4,
   "id": "829d4274",
   "metadata": {},
   "outputs": [
    {
     "data": {
      "text/plain": [
       "2-element Vector{Int64}:\n",
       "  3\n",
       " -1"
      ]
     },
     "execution_count": 4,
     "metadata": {},
     "output_type": "execute_result"
    }
   ],
   "source": [
    "g(1,2)"
   ]
  },
  {
   "cell_type": "markdown",
   "id": "22e08efc",
   "metadata": {},
   "source": [
    "Il est possible d'utiliser **begin**-**end** ou **( ; )** pour délimiter la fonction la dernière valeur calculée est retournée"
   ]
  },
  {
   "cell_type": "code",
   "execution_count": 5,
   "id": "5a06942a",
   "metadata": {},
   "outputs": [
    {
     "data": {
      "text/plain": [
       "h (generic function with 1 method)"
      ]
     },
     "execution_count": 5,
     "metadata": {},
     "output_type": "execute_result"
    }
   ],
   "source": [
    "h(x) = begin\n",
    "    y = 2\n",
    "    x + y\n",
    "end"
   ]
  },
  {
   "cell_type": "code",
   "execution_count": 6,
   "id": "3826d109",
   "metadata": {},
   "outputs": [
    {
     "data": {
      "text/plain": [
       "5"
      ]
     },
     "execution_count": 6,
     "metadata": {},
     "output_type": "execute_result"
    }
   ],
   "source": [
    "h(3)"
   ]
  },
  {
   "cell_type": "code",
   "execution_count": 7,
   "id": "1127471d",
   "metadata": {},
   "outputs": [
    {
     "data": {
      "text/plain": [
       "h (generic function with 1 method)"
      ]
     },
     "execution_count": 7,
     "metadata": {},
     "output_type": "execute_result"
    }
   ],
   "source": [
    "h(x) = (y=2; x+y) # equivallent à la première écriture"
   ]
  },
  {
   "cell_type": "code",
   "execution_count": 8,
   "id": "78acdd2c",
   "metadata": {},
   "outputs": [
    {
     "data": {
      "text/plain": [
       "5"
      ]
     },
     "execution_count": 8,
     "metadata": {},
     "output_type": "execute_result"
    }
   ],
   "source": [
    "h(3)"
   ]
  },
  {
   "cell_type": "markdown",
   "id": "0211c52c",
   "metadata": {},
   "source": [
    "## Structurée\n",
    "\n",
    "*Julia* possède une structure plus classique à l'aide de **function**-**end** comme précédemment la dernière valeur calculée est par défaut la variable de retour autrement l'utilisation de **return** spécifie la ou les variables de sortie. "
   ]
  },
  {
   "cell_type": "code",
   "execution_count": 10,
   "id": "b1d41e75",
   "metadata": {},
   "outputs": [
    {
     "data": {
      "text/plain": [
       "H (generic function with 1 method)"
      ]
     },
     "execution_count": 10,
     "metadata": {},
     "output_type": "execute_result"
    }
   ],
   "source": [
    "function H(x,y)\n",
    "    z = x+y\n",
    "    return z^2/(abs(x)+1)\n",
    "end"
   ]
  },
  {
   "cell_type": "code",
   "execution_count": 11,
   "id": "d6d6357e",
   "metadata": {},
   "outputs": [
    {
     "data": {
      "text/plain": [
       "4.5"
      ]
     },
     "execution_count": 11,
     "metadata": {},
     "output_type": "execute_result"
    }
   ],
   "source": [
    "H(1,2)"
   ]
  },
  {
   "cell_type": "markdown",
   "id": "da7d470a",
   "metadata": {},
   "source": [
    "L'usage de **return** pour fixer la sortie "
   ]
  },
  {
   "cell_type": "code",
   "execution_count": 12,
   "id": "2be953d0",
   "metadata": {},
   "outputs": [
    {
     "data": {
      "text/plain": [
       "Choix (generic function with 1 method)"
      ]
     },
     "execution_count": 12,
     "metadata": {},
     "output_type": "execute_result"
    }
   ],
   "source": [
    "function Choix(x)\n",
    "    if x>0\n",
    "        return \"Positif\"\n",
    "    else\n",
    "        return \"Négatif\"\n",
    "    end\n",
    "end"
   ]
  },
  {
   "cell_type": "code",
   "execution_count": 13,
   "id": "3cecf261",
   "metadata": {},
   "outputs": [
    {
     "data": {
      "text/plain": [
       "\"Positif\""
      ]
     },
     "execution_count": 13,
     "metadata": {},
     "output_type": "execute_result"
    }
   ],
   "source": [
    "txt=Choix(3)"
   ]
  },
  {
   "cell_type": "markdown",
   "id": "acd2ed7c",
   "metadata": {},
   "source": [
    "## Anonyme\n",
    "\n",
    "Le concept peut paraître abstrait mais on peut définir une fonction sans la nommer puis l'affecter à une variable..."
   ]
  },
  {
   "cell_type": "code",
   "execution_count": 14,
   "id": "e8ddede7",
   "metadata": {},
   "outputs": [
    {
     "data": {
      "text/plain": [
       "#1 (generic function with 1 method)"
      ]
     },
     "execution_count": 14,
     "metadata": {},
     "output_type": "execute_result"
    }
   ],
   "source": [
    "x -> x^2"
   ]
  },
  {
   "cell_type": "code",
   "execution_count": 15,
   "id": "f41c2730",
   "metadata": {},
   "outputs": [
    {
     "data": {
      "text/plain": [
       "#3 (generic function with 1 method)"
      ]
     },
     "execution_count": 15,
     "metadata": {},
     "output_type": "execute_result"
    }
   ],
   "source": [
    "G = x -> sqrt(x)"
   ]
  },
  {
   "cell_type": "code",
   "execution_count": 16,
   "id": "4e4f1fa4",
   "metadata": {},
   "outputs": [
    {
     "data": {
      "text/plain": [
       "1.0"
      ]
     },
     "execution_count": 16,
     "metadata": {},
     "output_type": "execute_result"
    }
   ],
   "source": [
    "G(1)"
   ]
  },
  {
   "cell_type": "code",
   "execution_count": 17,
   "id": "fd163277",
   "metadata": {},
   "outputs": [
    {
     "data": {
      "text/plain": [
       "var\"#3#4\""
      ]
     },
     "execution_count": 17,
     "metadata": {},
     "output_type": "execute_result"
    }
   ],
   "source": [
    "typeof(G)"
   ]
  },
  {
   "cell_type": "markdown",
   "id": "13691513",
   "metadata": {},
   "source": [
    "## Arguments de sortie\n",
    "\n",
    "Pour avoir plusieurs arguments de sortie il faut utiliser un \"tuple\" autrement dit une collection d'éléments"
   ]
  },
  {
   "cell_type": "code",
   "execution_count": 18,
   "id": "7f63ee67",
   "metadata": {},
   "outputs": [
    {
     "data": {
      "text/plain": [
       "multi_output (generic function with 1 method)"
      ]
     },
     "execution_count": 18,
     "metadata": {},
     "output_type": "execute_result"
    }
   ],
   "source": [
    "function multi_output(x,y)\n",
    "    return x+y, x-y\n",
    "end"
   ]
  },
  {
   "cell_type": "code",
   "execution_count": 20,
   "id": "98dc6a91",
   "metadata": {},
   "outputs": [
    {
     "data": {
      "text/plain": [
       "(3, -1)"
      ]
     },
     "execution_count": 20,
     "metadata": {},
     "output_type": "execute_result"
    }
   ],
   "source": [
    "a = multi_output(1,2) # un seul argument de sortie qui contient un tuple"
   ]
  },
  {
   "cell_type": "code",
   "execution_count": 21,
   "id": "5f3bfd4d",
   "metadata": {},
   "outputs": [
    {
     "data": {
      "text/plain": [
       "Tuple{Int64, Int64}"
      ]
     },
     "execution_count": 21,
     "metadata": {},
     "output_type": "execute_result"
    }
   ],
   "source": [
    "typeof(a)"
   ]
  },
  {
   "cell_type": "code",
   "execution_count": 22,
   "id": "7a138281",
   "metadata": {},
   "outputs": [
    {
     "data": {
      "text/plain": [
       "3"
      ]
     },
     "execution_count": 22,
     "metadata": {},
     "output_type": "execute_result"
    }
   ],
   "source": [
    "a[1]"
   ]
  },
  {
   "cell_type": "code",
   "execution_count": 23,
   "id": "4c8bb7a7",
   "metadata": {},
   "outputs": [
    {
     "data": {
      "text/plain": [
       "-1"
      ]
     },
     "execution_count": 23,
     "metadata": {},
     "output_type": "execute_result"
    }
   ],
   "source": [
    "a[2]"
   ]
  },
  {
   "cell_type": "code",
   "execution_count": 25,
   "id": "23e109fd",
   "metadata": {},
   "outputs": [
    {
     "data": {
      "text/plain": [
       "(3, -1)"
      ]
     },
     "execution_count": 25,
     "metadata": {},
     "output_type": "execute_result"
    }
   ],
   "source": [
    "a, b = multi_output(1,2) # assignation aux 2 arguments de sortie"
   ]
  },
  {
   "cell_type": "code",
   "execution_count": 26,
   "id": "6ef7321e",
   "metadata": {},
   "outputs": [
    {
     "data": {
      "text/plain": [
       "3"
      ]
     },
     "execution_count": 26,
     "metadata": {},
     "output_type": "execute_result"
    }
   ],
   "source": [
    "a"
   ]
  },
  {
   "cell_type": "code",
   "execution_count": 27,
   "id": "f431a931",
   "metadata": {},
   "outputs": [
    {
     "data": {
      "text/plain": [
       "-1"
      ]
     },
     "execution_count": 27,
     "metadata": {},
     "output_type": "execute_result"
    }
   ],
   "source": [
    "b"
   ]
  },
  {
   "cell_type": "markdown",
   "id": "085afb09",
   "metadata": {},
   "source": [
    "## Portée des variables \n",
    "\n",
    "Quelle est la portée des variables, autrement dit une variable définie peut elle être accessible, modifiable dans une fonction sans la passer en paramètre ?"
   ]
  },
  {
   "cell_type": "code",
   "execution_count": 39,
   "id": "ba89b39f",
   "metadata": {},
   "outputs": [
    {
     "ename": "LoadError",
     "evalue": "cannot declare a constant; it already has a value",
     "output_type": "error",
     "traceback": [
      "cannot declare a constant; it already has a value",
      "",
      "Stacktrace:",
      " [1] top-level scope",
      "   @ In[39]:1",
      " [2] eval",
      "   @ ./boot.jl:373 [inlined]",
      " [3] include_string(mapexpr::typeof(REPL.softscope), mod::Module, code::String, filename::String)",
      "   @ Base ./loading.jl:1196"
     ]
    }
   ],
   "source": [
    "a = 1\n",
    "f(x) = a + x\n",
    "f(1)"
   ]
  },
  {
   "cell_type": "code",
   "execution_count": 67,
   "id": "ee4a70e4",
   "metadata": {},
   "outputs": [
    {
     "name": "stdout",
     "output_type": "stream",
     "text": [
      "\u001b[90m;  @ In[67]:2 within `ff`\u001b[39m\n",
      "\u001b[95mdefine\u001b[39m \u001b[36mi64\u001b[39m \u001b[93m@julia_ff_2525\u001b[39m\u001b[33m(\u001b[39m\u001b[36mi64\u001b[39m \u001b[95msignext\u001b[39m \u001b[0m%0\u001b[33m)\u001b[39m \u001b[0m#0 \u001b[33m{\u001b[39m\n",
      "\u001b[91mtop:\u001b[39m\n",
      "\u001b[90m;  @ In[67]:3 within `ff`\u001b[39m\n",
      "\u001b[90m; ┌ @ int.jl:87 within `+`\u001b[39m\n",
      "   \u001b[0m%1 \u001b[0m= \u001b[96m\u001b[1madd\u001b[22m\u001b[39m \u001b[36mi64\u001b[39m \u001b[0m%0\u001b[0m, \u001b[33m1\u001b[39m\n",
      "\u001b[90m; └\u001b[39m\n",
      "  \u001b[96m\u001b[1mret\u001b[22m\u001b[39m \u001b[36mi64\u001b[39m \u001b[0m%1\n",
      "\u001b[33m}\u001b[39m\n"
     ]
    }
   ],
   "source": [
    "const α = 1\n",
    "function ff(x)\n",
    "    x + α\n",
    "end\n",
    "\n",
    "@code_llvm ff(1)"
   ]
  },
  {
   "cell_type": "code",
   "execution_count": 56,
   "id": "33818dc4",
   "metadata": {
    "scrolled": true
   },
   "outputs": [
    {
     "data": {
      "text/plain": [
       "ff (generic function with 1 method)"
      ]
     },
     "execution_count": 56,
     "metadata": {},
     "output_type": "execute_result"
    }
   ],
   "source": [
    "a = 1\n",
    "function ff(x)\n",
    "    x + a # on utilise a défini en dehors de la fonction\n",
    "    a = 2 # on tente de changer la valeur de a... error !\n",
    "end\n",
    "#ff(1)"
   ]
  },
  {
   "cell_type": "code",
   "execution_count": 57,
   "id": "01c183d6",
   "metadata": {},
   "outputs": [
    {
     "ename": "LoadError",
     "evalue": "UndefVarError: a not defined",
     "output_type": "error",
     "traceback": [
      "UndefVarError: a not defined",
      "",
      "Stacktrace:",
      " [1] ff(x::Int64)",
      "   @ Main ./In[56]:3",
      " [2] top-level scope",
      "   @ In[57]:1",
      " [3] eval",
      "   @ ./boot.jl:373 [inlined]",
      " [4] include_string(mapexpr::typeof(REPL.softscope), mod::Module, code::String, filename::String)",
      "   @ Base ./loading.jl:1196"
     ]
    }
   ],
   "source": [
    "ff(1)"
   ]
  },
  {
   "cell_type": "code",
   "execution_count": 35,
   "id": "fd6bc8cf",
   "metadata": {},
   "outputs": [
    {
     "data": {
      "text/plain": [
       "3"
      ]
     },
     "execution_count": 35,
     "metadata": {},
     "output_type": "execute_result"
    }
   ],
   "source": [
    "a = 1\n",
    "function ff(x)\n",
    "    a = 2\n",
    "    x + a\n",
    "end\n",
    "ff(1)"
   ]
  },
  {
   "cell_type": "code",
   "execution_count": 37,
   "id": "052348bb",
   "metadata": {},
   "outputs": [
    {
     "data": {
      "text/plain": [
       "CodeInfo(\n",
       "\u001b[90m1 ─\u001b[39m      a = 2\n",
       "\u001b[90m│  \u001b[39m %2 = x + a\n",
       "\u001b[90m└──\u001b[39m      return %2\n",
       ")"
      ]
     },
     "execution_count": 37,
     "metadata": {},
     "output_type": "execute_result"
    }
   ],
   "source": [
    "@code_lowered ff(1)"
   ]
  },
  {
   "cell_type": "code",
   "execution_count": 38,
   "id": "4a5a5cad",
   "metadata": {},
   "outputs": [
    {
     "data": {
      "text/plain": [
       "1"
      ]
     },
     "execution_count": 38,
     "metadata": {},
     "output_type": "execute_result"
    }
   ],
   "source": [
    "a"
   ]
  },
  {
   "cell_type": "markdown",
   "id": "8e9cc8f7",
   "metadata": {},
   "source": [
    "Donc par défaut une variable définie est connue et utilisable par toute fonction appelée (de même à l'intérieur d'une fonction).\n",
    "\n",
    "Si on redéfinit localement dans la fonction la variable alors \"elle écrase localement\" la dite variable et en sortie de fonction rien n'est modifié.\n",
    "\n",
    "Attention à l'utilisation dans la fonction d'une variable extérieure puis d'affecter une valeur à cette variable...\n",
    "\n"
   ]
  },
  {
   "cell_type": "markdown",
   "id": "f0ffc9d1",
   "metadata": {},
   "source": [
    "## Le mapping\n",
    "\n",
    "Souvent on écrit une fonction sous une forme scalaire sans chercher à utiliser les opérations vectorielles pour appliquer cette fonction à un tableau"
   ]
  },
  {
   "cell_type": "code",
   "execution_count": 40,
   "id": "20074cc5",
   "metadata": {},
   "outputs": [
    {
     "ename": "LoadError",
     "evalue": "MethodError: no method matching ^(::UnitRange{Int64}, ::Int64)\n\u001b[0mClosest candidates are:\n\u001b[0m  ^(\u001b[91m::Union{AbstractChar, AbstractString}\u001b[39m, ::Integer) at /Applications/Julia-1.7.app/Contents/Resources/julia/share/julia/base/strings/basic.jl:721\n\u001b[0m  ^(\u001b[91m::Rational\u001b[39m, ::Integer) at /Applications/Julia-1.7.app/Contents/Resources/julia/share/julia/base/rational.jl:475\n\u001b[0m  ^(\u001b[91m::Complex{<:AbstractFloat}\u001b[39m, ::Integer) at /Applications/Julia-1.7.app/Contents/Resources/julia/share/julia/base/complex.jl:839\n\u001b[0m  ...",
     "output_type": "error",
     "traceback": [
      "MethodError: no method matching ^(::UnitRange{Int64}, ::Int64)\n\u001b[0mClosest candidates are:\n\u001b[0m  ^(\u001b[91m::Union{AbstractChar, AbstractString}\u001b[39m, ::Integer) at /Applications/Julia-1.7.app/Contents/Resources/julia/share/julia/base/strings/basic.jl:721\n\u001b[0m  ^(\u001b[91m::Rational\u001b[39m, ::Integer) at /Applications/Julia-1.7.app/Contents/Resources/julia/share/julia/base/rational.jl:475\n\u001b[0m  ^(\u001b[91m::Complex{<:AbstractFloat}\u001b[39m, ::Integer) at /Applications/Julia-1.7.app/Contents/Resources/julia/share/julia/base/complex.jl:839\n\u001b[0m  ...",
      "",
      "Stacktrace:",
      " [1] literal_pow",
      "   @ ./intfuncs.jl:325 [inlined]",
      " [2] f(x::UnitRange{Int64})",
      "   @ Main ./In[40]:1",
      " [3] top-level scope",
      "   @ In[40]:2",
      " [4] eval",
      "   @ ./boot.jl:373 [inlined]",
      " [5] include_string(mapexpr::typeof(REPL.softscope), mod::Module, code::String, filename::String)",
      "   @ Base ./loading.jl:1196"
     ]
    }
   ],
   "source": [
    "f(x) = x^2 + 1\n",
    "f(1:5)  # il aurait fallu définir f(x)=x.^2.+1"
   ]
  },
  {
   "cell_type": "markdown",
   "id": "365bd0a4",
   "metadata": {},
   "source": [
    "La fonction <code>map</code> permet de palier à ce manquement"
   ]
  },
  {
   "cell_type": "code",
   "execution_count": 41,
   "id": "cd117b8d",
   "metadata": {},
   "outputs": [
    {
     "data": {
      "text/plain": [
       "5-element Vector{Int64}:\n",
       "  2\n",
       "  5\n",
       " 10\n",
       " 17\n",
       " 26"
      ]
     },
     "execution_count": 41,
     "metadata": {},
     "output_type": "execute_result"
    }
   ],
   "source": [
    "map(f,1:5)"
   ]
  },
  {
   "cell_type": "code",
   "execution_count": 42,
   "id": "be3d928b",
   "metadata": {},
   "outputs": [
    {
     "data": {
      "text/plain": [
       "5-element Vector{Int64}:\n",
       "  2\n",
       "  5\n",
       " 10\n",
       " 17\n",
       " 26"
      ]
     },
     "execution_count": 42,
     "metadata": {},
     "output_type": "execute_result"
    }
   ],
   "source": [
    "f.(1:5)"
   ]
  },
  {
   "cell_type": "code",
   "execution_count": 43,
   "id": "a2a7bc8c",
   "metadata": {},
   "outputs": [
    {
     "data": {
      "text/plain": [
       "2×2 Matrix{Int64}:\n",
       "  2   5\n",
       " 10  17"
      ]
     },
     "execution_count": 43,
     "metadata": {},
     "output_type": "execute_result"
    }
   ],
   "source": [
    "v = [1 2; 3 4]\n",
    "map(f,v)"
   ]
  },
  {
   "cell_type": "code",
   "execution_count": 44,
   "id": "c12b4cbc",
   "metadata": {},
   "outputs": [
    {
     "data": {
      "text/plain": [
       "10"
      ]
     },
     "execution_count": 44,
     "metadata": {},
     "output_type": "execute_result"
    }
   ],
   "source": [
    "reduce(+, v )"
   ]
  },
  {
   "cell_type": "code",
   "execution_count": 45,
   "id": "b7edb2bf",
   "metadata": {},
   "outputs": [
    {
     "data": {
      "text/plain": [
       "10"
      ]
     },
     "execution_count": 45,
     "metadata": {},
     "output_type": "execute_result"
    }
   ],
   "source": [
    "sum(v)"
   ]
  },
  {
   "cell_type": "code",
   "execution_count": 46,
   "id": "7090f721",
   "metadata": {},
   "outputs": [
    {
     "data": {
      "text/plain": [
       "2×2 Matrix{Int64}:\n",
       "  2   5\n",
       " 10  17"
      ]
     },
     "execution_count": 46,
     "metadata": {},
     "output_type": "execute_result"
    }
   ],
   "source": [
    "f.([1 2; 3 4])"
   ]
  },
  {
   "cell_type": "code",
   "execution_count": 47,
   "id": "dd93f465",
   "metadata": {},
   "outputs": [
    {
     "data": {
      "text/plain": [
       "4-element Vector{Int64}:\n",
       " 1\n",
       " 3\n",
       " 5\n",
       " 7"
      ]
     },
     "execution_count": 47,
     "metadata": {},
     "output_type": "execute_result"
    }
   ],
   "source": [
    "g(x,y)=x+y\n",
    "map(g,0:3,1:4)"
   ]
  },
  {
   "cell_type": "code",
   "execution_count": 48,
   "id": "53c7da38",
   "metadata": {},
   "outputs": [
    {
     "data": {
      "text/plain": [
       "2×2 Matrix{Int64}:\n",
       " 3  5\n",
       " 7  9"
      ]
     },
     "execution_count": 48,
     "metadata": {},
     "output_type": "execute_result"
    }
   ],
   "source": [
    "map(g,[1 2;3 4],[2 3;4 5])"
   ]
  },
  {
   "cell_type": "code",
   "execution_count": 49,
   "id": "913a8c06",
   "metadata": {},
   "outputs": [
    {
     "data": {
      "text/plain": [
       "g (generic function with 1 method)"
      ]
     },
     "execution_count": 49,
     "metadata": {},
     "output_type": "execute_result"
    }
   ],
   "source": [
    "g(f,x)=f(x)+1"
   ]
  },
  {
   "cell_type": "code",
   "execution_count": 50,
   "id": "520b470b",
   "metadata": {},
   "outputs": [
    {
     "data": {
      "text/plain": [
       "1.8414709848078965"
      ]
     },
     "execution_count": 50,
     "metadata": {},
     "output_type": "execute_result"
    }
   ],
   "source": [
    "g(sin,1)"
   ]
  },
  {
   "cell_type": "markdown",
   "id": "0e302387",
   "metadata": {},
   "source": [
    "Il existe également un opérateur pour \"composer\" les fonctions `\\circ`"
   ]
  },
  {
   "cell_type": "code",
   "execution_count": 52,
   "id": "ef6de552",
   "metadata": {},
   "outputs": [
    {
     "data": {
      "text/plain": [
       "-21"
      ]
     },
     "execution_count": 52,
     "metadata": {},
     "output_type": "execute_result"
    }
   ],
   "source": [
    "f1(x) = 2x + 1\n",
    "f2(x) = 1 - 4x\n",
    "(f1 ∘ f2)(3)"
   ]
  },
  {
   "cell_type": "code",
   "execution_count": 53,
   "id": "c50331bc",
   "metadata": {},
   "outputs": [
    {
     "data": {
      "text/plain": [
       "-21"
      ]
     },
     "execution_count": 53,
     "metadata": {},
     "output_type": "execute_result"
    }
   ],
   "source": [
    "f1(f2(3))"
   ]
  },
  {
   "cell_type": "code",
   "execution_count": null,
   "id": "140b250a",
   "metadata": {},
   "outputs": [],
   "source": []
  }
 ],
 "metadata": {
  "jupytext": {
   "cell_metadata_filter": "-all",
   "main_language": "julia",
   "notebook_metadata_filter": "-all"
  },
  "kernelspec": {
   "display_name": "Julia 1.7.2",
   "language": "julia",
   "name": "julia-1.7"
  },
  "language_info": {
   "file_extension": ".jl",
   "mimetype": "application/julia",
   "name": "julia",
   "version": "1.7.3"
  }
 },
 "nbformat": 4,
 "nbformat_minor": 5
}
