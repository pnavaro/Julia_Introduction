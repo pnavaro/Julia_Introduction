{
 "cells": [
  {
   "cell_type": "markdown",
   "id": "9ae7f6fe",
   "metadata": {},
   "source": [
    "# Présentation\n",
    "\n",
    "Hello tout le monde !\n",
    "\n",
    "Je me présente, je suis ingénieur calcul à l'Institut de Recherche\n",
    "Mathématiques de Rennes. J'ai une formation en mécanique des fluides. \n",
    "J'ai écrit beaucoup de codes en Fortran avec MPI et\n",
    "OpenMP. Depuis une dizaine d'années je fais beaucoup de Python.\n",
    "J'ai commencé à apprendre le langage Julia en juillet 2018 mais je\n",
    "surveillais sa progression depuis 2015.  Les supports que je vais\n",
    "utiliser ont été écrits à l'origine par [Thierry Clopeau](https://github.com/clopeau/Julia_Introduction).\n",
    "\n",
    "**Julia** est un langage de programmation de haut niveau dédié au\n",
    "calcul scientifique et calcul haute performance. C'est un logiciel\n",
    "libre sous [licence\n",
    "MIT](https://github.com/JuliaLang/julia/blob/master/LICENSE.md).\n",
    "\n",
    "**Julia** se veut la combinaison de :\n",
    "* la facilité de développement des environnements interprétés comme *R*, *MATLAB* ou *PYTHON+NUMPY* … \n",
    "* la performance d'un langage compilé, permettant une exécution parallèle et/ou distribuée *C/C++* ou *Fortran*...\n",
    "\n",
    "**Julia** est jeune à l'échelle de l'âge des langages. On peut voir\n",
    "son activité de développement [sur GitHub](https://github.com/JuliaLang/julia), avec\n",
    "naissance en aôut 2009. La première version stable 1.0 est sortie en juillet 2018\n",
    "durant la conférence JuliaCon à Londres. Les créateurs sont Jeff Bezanson, Stefan Karpinski, Viral B. Shah et Alan Edelman.\n",
    "\n",
    "Ce langage possède déjà un grand nombre d'atouts :\n",
    "* des fonctions mathématiques de précision numérique étendue (<code>Int128</code>, <code>Float64</code>...).\n",
    "* de nombreuses bibliothèques (ou packages) dont beaucoup sont écrites en Julia http://pkg.julialang.org/.\n",
    "* l'intégration naturelle de très nombreuses bibliothèques en C, Fortran, Python... \n",
    "* Mais surtout l'usage d'un compilateur à la volée (Just In Time) !\n",
    "\n",
    "Les quelques pages qui suivent vont - nous l'espérons - vous guider dans l'usage de **Julia** il est possible également de consulter :\n",
    "* Le site officiel http://julialang.org/ avec une documentation très complète.\n",
    "* http://en.wikibooks.org/wiki/Introducing_Julia excellent et très complet guide de Julia.\n",
    "* https://zestedesavoir.com/articles/141/a-la-decouverte-de-julia/ très bon article à lire absolument !\n",
    "* http://bioinfo-fr.net/julia-le-successeur-de-r un exemple en bioinfo.\n",
    "* https://juliadocs.github.io/Julia-Cheat-Sheet/fr/ Aide-mémoire\n",
    "\n",
    "# Installation et accessibilité\n",
    "\n",
    "## Le terminal \n",
    "\n",
    "Julia est disponible sous tout OS (Mac-linux et Windows) voici la page de téléchargement officielle http://julialang.org/downloads/\n",
    "Vous pouvez utiliser des installations plus spécifiques comme sous linux avec [jill](https://github.com/abelsiqueira/jill) ou MacOS\n",
    "avec [brew](https://formulae.brew.sh/formula/julia#default).\n",
    "\n",
    "Une fois installé une interface _brut de pomme_ apparait, en fait, une simple console ou REPL pour Read/Evaluate/Print/Loop :\n",
    "\n",
    "![julia shell](shell.png)\n",
    "\n",
    "Le prompt <code>julia></code> invitant la commande... \n",
    "\n",
    "Dans la console de *Julia* on retrouve l'usage classique d'un terminal avec \n",
    "* \"flèche vers le haut\" pour rappeler une commande précédente.\n",
    "* \"Tab\" la tabulation qui complète ou propose la fin d'un mot.\n",
    "* Des commandes <code>pwd()</code> (affiche le répertoire courant) <code>cd()</code> (Change directory), <code>homedir()</code> (pointe sur le home directory)...\n",
    "* l'usage de <code>;</code> dans la console fait changer le prompt en ![Prompt](cmd_julia.png)  et donne directement accès aux commande shell (unix...).\n",
    "* L'aide peut être invoquée avec <code>help(\"sin\")</code> ou <code>?sin</code> le prompt se transformant de nouveau ![aide](help_julia.png).\n",
    "\n",
    "## Usage \n",
    "\n",
    "Un programme Julia est un script extension .jl on peut soit l'exécuter en ligne de commande \"julia nomfichier.jl\" ou en l'incluant \n",
    "<!-- #endregion -->"
   ]
  },
  {
   "cell_type": "code",
   "execution_count": null,
   "id": "9c3c9d6d",
   "metadata": {},
   "outputs": [],
   "source": [
    "include(\"monfichier.jl\")"
   ]
  },
  {
   "cell_type": "markdown",
   "id": "84281d55",
   "metadata": {},
   "source": [
    "Toute ligne ou fin de ligne commançant par `#` est en commentaire, une bloc est délimité par `#=` et `=#`:"
   ]
  },
  {
   "cell_type": "code",
   "execution_count": null,
   "id": "ed46fe2a",
   "metadata": {},
   "outputs": [],
   "source": [
    "# commentaire\n",
    "1+2    #commentaire en fin de ligne"
   ]
  },
  {
   "cell_type": "code",
   "execution_count": null,
   "id": "dd6f88fb",
   "metadata": {},
   "outputs": [],
   "source": [
    "#=   un bloc\n",
    "        complet\n",
    "de commentaires  =#        "
   ]
  },
  {
   "cell_type": "markdown",
   "id": "18ae184b",
   "metadata": {},
   "source": [
    "## Editeur à coloration syntaxique\n",
    "\n",
    "Il est parfaitement possible de travailler à l'aide d'un éditeur de texte et de la console en parallèle.\n",
    "\n",
    "Il existe des fichier de configuration pour la coloration syntaxique dans les éditeurs : \n",
    "* Gedit\n",
    "* emacs\n",
    "* Notepadd++ (rechercher \"julia syntaxe highlighting\")\n",
    "* Sublime Text 3\n",
    "* Atom \n",
    "* ...\n",
    "\n",
    "On les retrouve dans l'organisation [JuliaEditorSupport](https://github.com/JuliaEditorSupport). \n",
    "Certains offrent la possibilité de gérer un terminal, les graphiques et un debugger dans la même fenêtre.\n",
    "\n",
    "## Environnement intégré (IDE)\n",
    "\n",
    "Il n'y a plus actuellement d'interface Julia Studio (équivalent de Rstudio)... \n",
    "\n",
    "Néanmoins certains éditeurs offrent des extensions qui \"intègrent\" Julia\n",
    "\n",
    "* Sublime Text 3 et l'extension [Sublime-IJulia](https://github.com/quinnj/Sublime-IJulia)\n",
    "* Atom et l'extension [JunoLab](http://junolab.org/)\n",
    "\n",
    "Depuis 2020 l'IDE préconisé par les développeurs de Julia est [Visual Studio Code](https://www.julia-vscode.org). \n",
    "\n",
    "\n",
    "## Notebook\n",
    "\n",
    "Le notebook est façon de programmer qui permet d'obtenir plus directement un rendu plus web-publiable. La plateforme Jupyter qui héberge les notebooks, offre des possibilités d'interaction supplémentaire avec l'utilisation de widgets... \n",
    "\n",
    "On peut installer sur sa propre machine une instance de [Jupyter](http://jupyter.org/) (ex iPython) permettant de travailler dans son navigateur. Pour cela il faut installer le package [IJulia](https://github.com/JuliaLang/IJulia.jl) dans le terminal (REPL) taper \"]\" :\n",
    "```julia\n",
    "(v1.1) pkg> add IJulia\n",
    "using IJulia\n",
    "notebook()\n",
    "```\n",
    "\n",
    "On peut aussi convertir un fichier notebook (extension `.ipynb`) en fichier `.jl` (ou autre): \n",
    "* Dans l'interface Jupyter faire : `File->Download as`\n",
    "* Dans un terminal : ```ipython nbconvert --to script nomfichier.ipynb```.\n",
    "\n",
    "L'outil [jupytext](https://github.com/mwouts/jupytext) permet de synchroniser un notebook (.ipynb) avec un fichier au format markdown (.md) ou au format script (.jl).\n",
    "Intégré avec Jupyter, il permet d'ouvrir n'importe lequel de ces 3 formats.\n",
    "\n",
    "Le package [Literate.jl](https://github.com/fredrikekre/Literate.jl) est un outil Julia qui permet également de générer des notebooks et des fichiers markdown.\n",
    "\n",
    "Vous pouvez également regarder sur côté de [Pluto.jl](https://github.com/fonsp/Pluto.jl) qui permet de créer des notebooks Julia avec des fonctionalités améliorant l'interactivité."
   ]
  },
  {
   "cell_type": "markdown",
   "id": "5dd45230",
   "metadata": {},
   "source": [
    "# Les Packages\n",
    "\n",
    "Julia possède une communauté très dynamique, à la fois pour développer le coeur du langage mais aussi pour mettre à disposition de nouvelles fonctionnalités qui pour certaines feront partie des prochaines versions de Julia.\n",
    "\n",
    "Un listing complet des packages officiels est disponible sur [juliapackages.com](https://juliapackages.com) et/ou [juliahub.com](https://juliahub.com/ui/Packages). \n",
    "\n",
    "Pour installer un package faire \"]\"\n",
    "\n",
    "(v1.1) pkg> add Plots\n",
    "\n",
    "et il est installé physiquement dans votre espace disque (répertoire .julia/).\n",
    "\n",
    "L'utilisation se fait en début de chaque programme (ou script par \"using\"). L'initialisation peut être assez longue à cause de la compilation. Depuis la version 0.4 les packages sont compilés (ou pré-compilés) à l'installation ou premier usage et stocké en fichier pour être rechargé plus rapidement ultérieurement."
   ]
  },
  {
   "cell_type": "markdown",
   "id": "84ed15ab",
   "metadata": {},
   "source": [
    "```julia\n",
    "using Plots\n",
    "```"
   ]
  },
  {
   "cell_type": "markdown",
   "id": "080c8030",
   "metadata": {},
   "source": [
    "La commande Pkg permet de gérer les actions faire \"]\" \n",
    "\n",
    "(v1.1) pkg> rm NomDuPackage # rm : remove\n",
    "(v1.1) pkg> update # comme dit le nom\n",
    "(v1.1) pkg> precompile # pour forcer la compilation\n",
    "\n",
    "On verra dans les sections suivantes l'utilisation de quelques packages plus prisés et même jusqu'à la création d'un package !"
   ]
  }
 ],
 "metadata": {
  "jupytext": {
   "cell_metadata_filter": "-all",
   "main_language": "julia",
   "notebook_metadata_filter": "-all"
  }
 },
 "nbformat": 4,
 "nbformat_minor": 5
}
