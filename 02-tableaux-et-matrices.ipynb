{
 "cells": [
  {
   "cell_type": "markdown",
   "id": "662f3f32",
   "metadata": {},
   "source": [
    "# Tableaux et matrices\n",
    "\n",
    "La définition de tableaux i.e. vecteurs, matrices, hypermatrices est un élément essentiel de Julia.\n",
    "\n",
    "Julia ne possède qu'un seul type de tableau : **Array** on peut définir son nombre d'entrées (1 entrée= 1 dimension ...) et son contenu de façon assez générale. Un tableau peut contenir des matrices à chaque élément.\n",
    "\n",
    "Une particularité est que les indices de tableaux commencent à 1, et l'accès aux éléments se fera à l'aide de `[` `]` et non `(` `)` qui est réservé aux fonctions.\n",
    "\n",
    "Avant de rentrer dans la construction et manipulation de tableau regardons une autre classe \n",
    "\n",
    "# Iterateur\n",
    "\n",
    "Julia possède un Type particulier fait à l'aide du \":\""
   ]
  },
  {
   "cell_type": "code",
   "execution_count": 1,
   "id": "3e30fa44",
   "metadata": {},
   "outputs": [
    {
     "data": {
      "text/plain": [
       "1:5"
      ]
     },
     "execution_count": 1,
     "metadata": {},
     "output_type": "execute_result"
    }
   ],
   "source": [
    "a = 1:5"
   ]
  },
  {
   "cell_type": "code",
   "execution_count": 2,
   "id": "2892a1c3",
   "metadata": {},
   "outputs": [
    {
     "data": {
      "text/plain": [
       "2:6"
      ]
     },
     "execution_count": 2,
     "metadata": {},
     "output_type": "execute_result"
    }
   ],
   "source": [
    "a .+ 1"
   ]
  },
  {
   "cell_type": "code",
   "execution_count": 3,
   "id": "dbb6f9ad",
   "metadata": {},
   "outputs": [
    {
     "data": {
      "text/plain": [
       "UnitRange{Int64}"
      ]
     },
     "execution_count": 3,
     "metadata": {},
     "output_type": "execute_result"
    }
   ],
   "source": [
    "typeof(a)"
   ]
  },
  {
   "cell_type": "code",
   "execution_count": 4,
   "id": "d413f28e",
   "metadata": {},
   "outputs": [
    {
     "data": {
      "text/plain": [
       "0.0:0.5:2.0"
      ]
     },
     "execution_count": 4,
     "metadata": {},
     "output_type": "execute_result"
    }
   ],
   "source": [
    "b=0:0.5:2"
   ]
  },
  {
   "cell_type": "code",
   "execution_count": 5,
   "id": "f4ee6ce8",
   "metadata": {},
   "outputs": [
    {
     "data": {
      "text/plain": [
       "StepRangeLen{Float64, Base.TwicePrecision{Float64}, Base.TwicePrecision{Float64}, Int64}"
      ]
     },
     "execution_count": 5,
     "metadata": {},
     "output_type": "execute_result"
    }
   ],
   "source": [
    "typeof(b)"
   ]
  },
  {
   "cell_type": "markdown",
   "id": "732cb65d",
   "metadata": {},
   "source": [
    "Ce type \"formel\" permet d'avoir une définition et une méthode associée sans stocker l'ensemble des valeurs. Attention celui-ci peut être vide :"
   ]
  },
  {
   "cell_type": "code",
   "execution_count": 6,
   "id": "e6e9fd13",
   "metadata": {},
   "outputs": [
    {
     "data": {
      "text/plain": [
       "1:0"
      ]
     },
     "execution_count": 6,
     "metadata": {},
     "output_type": "execute_result"
    }
   ],
   "source": [
    "d=1:0 # itérateur formel mais correspond à un ensemble vide de valeurs"
   ]
  },
  {
   "cell_type": "code",
   "execution_count": 9,
   "id": "701a799e",
   "metadata": {},
   "outputs": [
    {
     "data": {
      "text/plain": [
       "10-element Vector{Int64}:\n",
       "  1\n",
       "  2\n",
       "  3\n",
       "  4\n",
       "  5\n",
       "  6\n",
       "  7\n",
       "  8\n",
       "  9\n",
       " 10"
      ]
     },
     "execution_count": 9,
     "metadata": {},
     "output_type": "execute_result"
    }
   ],
   "source": [
    "d  = 1:10  |> collect"
   ]
  },
  {
   "cell_type": "markdown",
   "id": "3086c0b4",
   "metadata": {},
   "source": [
    "# Tableau\n",
    "\n",
    "On vient de voir que l'on peut transformer l'itérateur précédent en tableau à l'aide de la commande \"collect\""
   ]
  },
  {
   "cell_type": "code",
   "execution_count": 15,
   "id": "58c16494",
   "metadata": {},
   "outputs": [
    {
     "data": {
      "text/plain": [
       "5-element Vector{Complex{Int64}}:\n",
       " 1 + 1im\n",
       " 2 + 1im\n",
       " 3 + 1im\n",
       " 4 + 1im\n",
       " 5 + 1im"
      ]
     },
     "execution_count": 15,
     "metadata": {},
     "output_type": "execute_result"
    }
   ],
   "source": [
    "a=1:5\n",
    "aa=collect(complex.(a)) .+ 1im"
   ]
  },
  {
   "cell_type": "code",
   "execution_count": 16,
   "id": "b52e9d5b",
   "metadata": {},
   "outputs": [
    {
     "data": {
      "text/plain": [
       "1×5 Matrix{Complex{Int64}}:\n",
       " 1-1im  2-1im  3-1im  4-1im  5-1im"
      ]
     },
     "execution_count": 16,
     "metadata": {},
     "output_type": "execute_result"
    }
   ],
   "source": [
    "collect(aa')"
   ]
  },
  {
   "cell_type": "code",
   "execution_count": 17,
   "id": "bf1e0f20",
   "metadata": {},
   "outputs": [
    {
     "data": {
      "text/plain": [
       "1×5 transpose(::Vector{Complex{Int64}}) with eltype Complex{Int64}:\n",
       " 1+1im  2+1im  3+1im  4+1im  5+1im"
      ]
     },
     "execution_count": 17,
     "metadata": {},
     "output_type": "execute_result"
    }
   ],
   "source": [
    "transpose(aa)"
   ]
  },
  {
   "cell_type": "code",
   "execution_count": 22,
   "id": "a6ebbb3e",
   "metadata": {},
   "outputs": [
    {
     "data": {
      "text/plain": [
       "5×5 Matrix{Int64}:\n",
       " 1   2   3   4   5\n",
       " 2   4   6   8  10\n",
       " 3   6   9  12  15\n",
       " 4   8  12  16  20\n",
       " 5  10  15  20  25"
      ]
     },
     "execution_count": 22,
     "metadata": {},
     "output_type": "execute_result"
    }
   ],
   "source": [
    "a  .* a'"
   ]
  },
  {
   "cell_type": "code",
   "execution_count": 24,
   "id": "7cfd2f54",
   "metadata": {},
   "outputs": [
    {
     "data": {
      "text/plain": [
       "Vector{Complex{Int64}} (alias for Array{Complex{Int64}, 1})"
      ]
     },
     "execution_count": 24,
     "metadata": {},
     "output_type": "execute_result"
    }
   ],
   "source": [
    "typeof(aa)"
   ]
  },
  {
   "cell_type": "markdown",
   "id": "51269d13",
   "metadata": {},
   "source": [
    "La réponse est de la forme **Array{Type,dim}** un tableau de **Type** à **dim** entrées (1 pour vecteur, 2 pour matrices ...)\n",
    "\n",
    "A remarquer :\n",
    "* l'indexation des tableaux commence à 1.\n",
    "* un tableau à une entrée est vu comme un vecteur colonne par défaut.\n",
    "* le crochet [ ] sert à extraire ou affecter une valeur ou un bloc de valeur. Attention le crochet [ ] sert également de \"concatenateur\" et constructeur de tableau (voir suite)\n",
    "* Il est possible de faire des tableaux de n'importe quoi (fonction, tableau, ...)."
   ]
  },
  {
   "cell_type": "code",
   "execution_count": 25,
   "id": "35dd4c16",
   "metadata": {},
   "outputs": [
    {
     "data": {
      "text/plain": [
       "1 + 1im"
      ]
     },
     "execution_count": 25,
     "metadata": {},
     "output_type": "execute_result"
    }
   ],
   "source": [
    "aa[1]"
   ]
  },
  {
   "cell_type": "code",
   "execution_count": 26,
   "id": "321af89d",
   "metadata": {},
   "outputs": [
    {
     "data": {
      "text/plain": [
       "1 + 1im"
      ]
     },
     "execution_count": 26,
     "metadata": {},
     "output_type": "execute_result"
    }
   ],
   "source": [
    "aa[begin] # pour accèder au premier élément"
   ]
  },
  {
   "cell_type": "code",
   "execution_count": 27,
   "id": "e17b1d3b",
   "metadata": {},
   "outputs": [
    {
     "data": {
      "text/plain": [
       "5 + 1im"
      ]
     },
     "execution_count": 27,
     "metadata": {},
     "output_type": "execute_result"
    }
   ],
   "source": [
    "aa[end] # pour accèder au dernier élément"
   ]
  },
  {
   "cell_type": "code",
   "execution_count": 28,
   "id": "5dfa57cd",
   "metadata": {},
   "outputs": [
    {
     "data": {
      "text/plain": [
       "(1, 5)"
      ]
     },
     "execution_count": 28,
     "metadata": {},
     "output_type": "execute_result"
    }
   ],
   "source": [
    "first(a), last(a)"
   ]
  },
  {
   "cell_type": "code",
   "execution_count": 29,
   "id": "93c04bca",
   "metadata": {},
   "outputs": [
    {
     "name": "stdout",
     "output_type": "stream",
     "text": [
      "Complex{Int64}[1 + 1im, 2 + 1im, 1 + 0im, 1 + 0im, 1 + 0im]\n"
     ]
    }
   ],
   "source": [
    "aa[end-2:end].=1; println(aa)"
   ]
  },
  {
   "cell_type": "markdown",
   "id": "b5539866",
   "metadata": {},
   "source": [
    "Les crochets permettent la construction explicite de tableaux (ou leur concaténation)"
   ]
  },
  {
   "cell_type": "code",
   "execution_count": 30,
   "id": "57b6ef39",
   "metadata": {},
   "outputs": [
    {
     "data": {
      "text/plain": [
       "2×2 Matrix{Int64}:\n",
       " 1  2\n",
       " 3  4"
      ]
     },
     "execution_count": 30,
     "metadata": {},
     "output_type": "execute_result"
    }
   ],
   "source": [
    "A=[1 2 ; 3 4] # {espace} = séparateur de colonne"
   ]
  },
  {
   "cell_type": "code",
   "execution_count": 31,
   "id": "5c38200a",
   "metadata": {},
   "outputs": [
    {
     "data": {
      "text/plain": [
       "2×4 Matrix{Int64}:\n",
       " 1  2  1  2\n",
       " 3  4  3  4"
      ]
     },
     "execution_count": 31,
     "metadata": {},
     "output_type": "execute_result"
    }
   ],
   "source": [
    "AA=[A  A] # concaténation par bloc"
   ]
  },
  {
   "cell_type": "code",
   "execution_count": 32,
   "id": "66e0c879",
   "metadata": {},
   "outputs": [
    {
     "data": {
      "text/plain": [
       "2×4 Matrix{Int64}:\n",
       " 1  2  1  2\n",
       " 3  4  3  4"
      ]
     },
     "execution_count": 32,
     "metadata": {},
     "output_type": "execute_result"
    }
   ],
   "source": [
    "hcat(A,A) # commande équivalent à la précédente [A  A]"
   ]
  },
  {
   "cell_type": "code",
   "execution_count": 33,
   "id": "9fee554b",
   "metadata": {},
   "outputs": [
    {
     "data": {
      "text/plain": [
       "4×2 Matrix{Int64}:\n",
       " 1  2\n",
       " 3  4\n",
       " 1  2\n",
       " 3  4"
      ]
     },
     "execution_count": 33,
     "metadata": {},
     "output_type": "execute_result"
    }
   ],
   "source": [
    "AA=[A ; A]"
   ]
  },
  {
   "cell_type": "code",
   "execution_count": 34,
   "id": "1204d0fe",
   "metadata": {},
   "outputs": [
    {
     "data": {
      "text/plain": [
       "4×2 Matrix{Int64}:\n",
       " 1  2\n",
       " 3  4\n",
       " 1  2\n",
       " 3  4"
      ]
     },
     "execution_count": 34,
     "metadata": {},
     "output_type": "execute_result"
    }
   ],
   "source": [
    "vcat(A,A) # commande équivalent à la précédente [A  ; A]"
   ]
  },
  {
   "cell_type": "markdown",
   "id": "b8c592e4",
   "metadata": {},
   "source": [
    "On peut accéder à tout ou partie d'un tableau à l'aide de 2 indices"
   ]
  },
  {
   "cell_type": "code",
   "execution_count": 35,
   "id": "a43e4ca1",
   "metadata": {},
   "outputs": [
    {
     "data": {
      "text/plain": [
       "3"
      ]
     },
     "execution_count": 35,
     "metadata": {},
     "output_type": "execute_result"
    }
   ],
   "source": [
    "A[2,1]"
   ]
  },
  {
   "cell_type": "code",
   "execution_count": 36,
   "id": "e6f288ef",
   "metadata": {},
   "outputs": [
    {
     "data": {
      "text/plain": [
       "2-element Vector{Int64}:\n",
       " 3\n",
       " 4"
      ]
     },
     "execution_count": 36,
     "metadata": {},
     "output_type": "execute_result"
    }
   ],
   "source": [
    "A[2,:]"
   ]
  },
  {
   "cell_type": "code",
   "execution_count": 37,
   "id": "42602064",
   "metadata": {},
   "outputs": [
    {
     "data": {
      "text/plain": [
       "2-element Vector{Int64}:\n",
       " 2\n",
       " 4"
      ]
     },
     "execution_count": 37,
     "metadata": {},
     "output_type": "execute_result"
    }
   ],
   "source": [
    "A[:,2]"
   ]
  },
  {
   "cell_type": "code",
   "execution_count": 38,
   "id": "91ce5ab6",
   "metadata": {},
   "outputs": [
    {
     "data": {
      "text/plain": [
       "4"
      ]
     },
     "execution_count": 38,
     "metadata": {},
     "output_type": "execute_result"
    }
   ],
   "source": [
    "A[end,end]"
   ]
  },
  {
   "cell_type": "code",
   "execution_count": 39,
   "id": "6699827e",
   "metadata": {},
   "outputs": [
    {
     "data": {
      "text/plain": [
       "1×2 Matrix{Int64}:\n",
       " 8  12"
      ]
     },
     "execution_count": 39,
     "metadata": {},
     "output_type": "execute_result"
    }
   ],
   "source": [
    "sum(AA, dims=1)"
   ]
  },
  {
   "cell_type": "code",
   "execution_count": 40,
   "id": "4a680da3",
   "metadata": {},
   "outputs": [
    {
     "data": {
      "text/plain": [
       "1×4 Matrix{Int64}:\n",
       " 1  2  3  4"
      ]
     },
     "execution_count": 40,
     "metadata": {},
     "output_type": "execute_result"
    }
   ],
   "source": [
    "B=[1 2 3 4]"
   ]
  },
  {
   "cell_type": "code",
   "execution_count": 41,
   "id": "d36d7a72",
   "metadata": {},
   "outputs": [
    {
     "data": {
      "text/plain": [
       "4-element Vector{Int64}:\n",
       " 1\n",
       " 2\n",
       " 3\n",
       " 4"
      ]
     },
     "execution_count": 41,
     "metadata": {},
     "output_type": "execute_result"
    }
   ],
   "source": [
    "B=[1;2;3;4]"
   ]
  },
  {
   "cell_type": "code",
   "execution_count": 47,
   "id": "86268ccd",
   "metadata": {},
   "outputs": [
    {
     "name": "stdout",
     "output_type": "stream",
     "text": [
      "1\n",
      "2\n",
      "3\n",
      "4\n",
      "5\n",
      "6\n",
      "7\n",
      "8\n"
     ]
    }
   ],
   "source": [
    "for i in eachindex(AA)\n",
    "    println(i)\n",
    "end"
   ]
  },
  {
   "cell_type": "code",
   "execution_count": null,
   "id": "b572b13b",
   "metadata": {},
   "outputs": [],
   "source": []
  },
  {
   "cell_type": "code",
   "execution_count": 56,
   "id": "72a75de1",
   "metadata": {},
   "outputs": [
    {
     "name": "stdout",
     "output_type": "stream",
     "text": [
      "1 - 1\n",
      "2 - 3\n",
      "3 - 1\n",
      "4 - 3\n",
      "5 - 2\n",
      "6 - 4\n",
      "7 - 2\n",
      "8 - 4\n"
     ]
    }
   ],
   "source": [
    "for (i,row) ∈ enumerate(AA)\n",
    "    println(\"$i - $row\")\n",
    "end"
   ]
  },
  {
   "cell_type": "markdown",
   "id": "b5fd8084",
   "metadata": {},
   "source": [
    "A noter que l'on peut faire des tableaux de tout type voir de les mélanger (Any)"
   ]
  },
  {
   "cell_type": "code",
   "execution_count": 57,
   "id": "61d8b34c",
   "metadata": {},
   "outputs": [
    {
     "data": {
      "text/plain": [
       "2-element Vector{String}:\n",
       " \"un\"\n",
       " \"deux\""
      ]
     },
     "execution_count": 57,
     "metadata": {},
     "output_type": "execute_result"
    }
   ],
   "source": [
    "a=[\"un\";\"deux\"]"
   ]
  },
  {
   "cell_type": "code",
   "execution_count": 58,
   "id": "391e85db",
   "metadata": {},
   "outputs": [
    {
     "data": {
      "text/plain": [
       "3-element Vector{Bool}:\n",
       " 0\n",
       " 1\n",
       " 0"
      ]
     },
     "execution_count": 58,
     "metadata": {},
     "output_type": "execute_result"
    }
   ],
   "source": [
    "b=[1>2,true,false]"
   ]
  },
  {
   "cell_type": "code",
   "execution_count": 59,
   "id": "117703c4",
   "metadata": {},
   "outputs": [
    {
     "data": {
      "text/plain": [
       "3-element Vector{Any}:\n",
       "     \"un\"\n",
       "    2\n",
       " true"
      ]
     },
     "execution_count": 59,
     "metadata": {},
     "output_type": "execute_result"
    }
   ],
   "source": [
    "c=[\"un\"; 2 ; true]"
   ]
  },
  {
   "cell_type": "markdown",
   "id": "8c00ed69",
   "metadata": {},
   "source": [
    "Le crochet [ ] permet également la construction rapide de matrice ou tableau comme le montre l'exemple ci-dessous pour construire une matrice de VanderMonde\n",
    "\n",
    "$$ V_{i,j}=x_i^{j-1}$$"
   ]
  },
  {
   "cell_type": "code",
   "execution_count": 52,
   "id": "aa1ce89e",
   "metadata": {},
   "outputs": [
    {
     "data": {
      "text/plain": [
       "6×6 Matrix{Float64}:\n",
       " 1.0  0.0  0.0   0.0    0.0     0.0\n",
       " 1.0  0.2  0.04  0.008  0.0016  0.00032\n",
       " 1.0  0.4  0.16  0.064  0.0256  0.01024\n",
       " 1.0  0.6  0.36  0.216  0.1296  0.07776\n",
       " 1.0  0.8  0.64  0.512  0.4096  0.32768\n",
       " 1.0  1.0  1.0   1.0    1.0     1.0"
      ]
     },
     "execution_count": 52,
     "metadata": {},
     "output_type": "execute_result"
    }
   ],
   "source": [
    "x=0:0.2:1;\n",
    "V=[ x[i]^(j-1) for i=1:6, j=1:6] # ligne et colonne"
   ]
  },
  {
   "cell_type": "code",
   "execution_count": 53,
   "id": "535396a7",
   "metadata": {},
   "outputs": [
    {
     "data": {
      "text/plain": [
       "5×7 Matrix{Float64}:\n",
       " 1.0  1.5   2.0  2.5   3.0   3.5    4.0\n",
       " 1.5  2.25  3.0  3.75  4.5   5.25   6.0\n",
       " 2.0  3.0   4.0  5.0   6.0   7.0    8.0\n",
       " 2.5  3.75  5.0  6.25  7.5   8.75  10.0\n",
       " 3.0  4.5   6.0  7.5   9.0  10.5   12.0"
      ]
     },
     "execution_count": 53,
     "metadata": {},
     "output_type": "execute_result"
    }
   ],
   "source": [
    "D=[ u*v for u=1:0.5:3, v=1:0.5:4]"
   ]
  },
  {
   "cell_type": "markdown",
   "id": "0aa3d3f4",
   "metadata": {},
   "source": [
    "On peux évidemment faire des tableaux à 3,4... entrèes.\n",
    "\n",
    "## Manipulation de Tableau\n",
    "\n",
    "### push!\n",
    "\n",
    "Le fonction push permet d'ajouter à un tableau une valeur supplémentaire"
   ]
  },
  {
   "cell_type": "code",
   "execution_count": 60,
   "id": "ef6b899c",
   "metadata": {},
   "outputs": [
    {
     "data": {
      "text/plain": [
       "4-element Vector{Any}:\n",
       " 1\n",
       " 2\n",
       " 4\n",
       " 6"
      ]
     },
     "execution_count": 60,
     "metadata": {},
     "output_type": "execute_result"
    }
   ],
   "source": [
    "a=[]\n",
    "push!(a,1)     # => [1]\n",
    "push!(a,2)     # => [1,2]\n",
    "push!(a,4)     # => [1,2,4]\n",
    "push!(a,6)     # => [1,2,4,6]"
   ]
  },
  {
   "cell_type": "markdown",
   "id": "19bc77cb",
   "metadata": {},
   "source": [
    "### append!\n",
    "\n",
    "Cette fonction permet de mettre bout à bout 2 tableaux"
   ]
  },
  {
   "cell_type": "code",
   "execution_count": 61,
   "id": "277c854c",
   "metadata": {},
   "outputs": [
    {
     "data": {
      "text/plain": [
       "8-element Vector{Any}:\n",
       " 1\n",
       " 2\n",
       " 4\n",
       " 6\n",
       " 1\n",
       " 2\n",
       " 4\n",
       " 6"
      ]
     },
     "execution_count": 61,
     "metadata": {},
     "output_type": "execute_result"
    }
   ],
   "source": [
    "append!(a,a)"
   ]
  },
  {
   "cell_type": "markdown",
   "id": "6c619ee3",
   "metadata": {},
   "source": [
    "A noté le  **Array{Any,1}** !"
   ]
  },
  {
   "cell_type": "code",
   "execution_count": 64,
   "id": "9206872a",
   "metadata": {},
   "outputs": [
    {
     "data": {
      "text/plain": [
       "4-element Vector{ComplexF64}:\n",
       " 1.0 + 0.0im\n",
       " 2.0 + 0.0im\n",
       " 4.0 + 0.0im\n",
       " 6.0 + 0.0im"
      ]
     },
     "execution_count": 64,
     "metadata": {},
     "output_type": "execute_result"
    }
   ],
   "source": [
    "a = ComplexF64[]\n",
    "push!(a,1)     # => [1]\n",
    "push!(a,2)     # => [1,2]\n",
    "push!(a,4)     # => [1,2,4]\n",
    "push!(a,6)  "
   ]
  },
  {
   "cell_type": "code",
   "execution_count": 65,
   "id": "82df6b14",
   "metadata": {},
   "outputs": [
    {
     "data": {
      "text/plain": [
       "Float64[]"
      ]
     },
     "execution_count": 65,
     "metadata": {},
     "output_type": "execute_result"
    }
   ],
   "source": [
    "a = zeros(0)"
   ]
  },
  {
   "cell_type": "code",
   "execution_count": 66,
   "id": "a833db38",
   "metadata": {},
   "outputs": [
    {
     "data": {
      "text/plain": [
       "1-element Vector{Int32}:\n",
       " 0"
      ]
     },
     "execution_count": 66,
     "metadata": {},
     "output_type": "execute_result"
    }
   ],
   "source": [
    "a = zeros(Int32,1)"
   ]
  },
  {
   "cell_type": "code",
   "execution_count": 67,
   "id": "bb8521ef",
   "metadata": {},
   "outputs": [
    {
     "data": {
      "text/plain": [
       "3-element Vector{Float64}:\n",
       " 1.0\n",
       " 1.0\n",
       " 1.0"
      ]
     },
     "execution_count": 67,
     "metadata": {},
     "output_type": "execute_result"
    }
   ],
   "source": [
    "ones(3)"
   ]
  },
  {
   "cell_type": "code",
   "execution_count": 69,
   "id": "37f4c227",
   "metadata": {},
   "outputs": [
    {
     "data": {
      "text/plain": [
       "6-element Vector{Int64}:\n",
       " 5\n",
       " 5\n",
       " 5\n",
       " 5\n",
       " 5\n",
       " 5"
      ]
     },
     "execution_count": 69,
     "metadata": {},
     "output_type": "execute_result"
    }
   ],
   "source": [
    "fill(5, 6)"
   ]
  },
  {
   "cell_type": "markdown",
   "id": "147863dd",
   "metadata": {},
   "source": [
    "### Attention sur la conversion de type !"
   ]
  },
  {
   "cell_type": "code",
   "execution_count": 70,
   "id": "f2e0f4b0",
   "metadata": {},
   "outputs": [
    {
     "data": {
      "text/plain": [
       "5-element Vector{Int64}:\n",
       " 1\n",
       " 2\n",
       " 3\n",
       " 4\n",
       " 5"
      ]
     },
     "execution_count": 70,
     "metadata": {},
     "output_type": "execute_result"
    }
   ],
   "source": [
    "a=collect(1:5)"
   ]
  },
  {
   "cell_type": "code",
   "execution_count": 72,
   "id": "772bc175",
   "metadata": {},
   "outputs": [
    {
     "data": {
      "text/plain": [
       "3×2 Matrix{Float64}:\n",
       " 0.0  0.0\n",
       " 0.0  0.0\n",
       " 0.0  0.0"
      ]
     },
     "execution_count": 72,
     "metadata": {},
     "output_type": "execute_result"
    }
   ],
   "source": [
    "a=fill(0.,3,2)"
   ]
  },
  {
   "cell_type": "code",
   "execution_count": 73,
   "id": "e52df5a1",
   "metadata": {},
   "outputs": [
    {
     "data": {
      "text/plain": [
       "1.4142135623730951"
      ]
     },
     "execution_count": 73,
     "metadata": {},
     "output_type": "execute_result"
    }
   ],
   "source": [
    "a[2]=sqrt(2)"
   ]
  },
  {
   "cell_type": "code",
   "execution_count": 75,
   "id": "024cf693",
   "metadata": {},
   "outputs": [
    {
     "data": {
      "text/plain": [
       "3×2 Matrix{ComplexF64}:\n",
       "     0.0+0.0im  0.0+0.0im\n",
       " 1.41421+0.0im  0.0+0.0im\n",
       "     0.0+0.0im  0.0+0.0im"
      ]
     },
     "execution_count": 75,
     "metadata": {},
     "output_type": "execute_result"
    }
   ],
   "source": [
    "a = map(ComplexF64,a)"
   ]
  },
  {
   "cell_type": "code",
   "execution_count": 78,
   "id": "4a9f6684",
   "metadata": {},
   "outputs": [
    {
     "data": {
      "text/plain": [
       "3×2 Matrix{ComplexF64}:\n",
       "     0.0+0.0im  0.0+0.0im\n",
       " 1.41421+0.0im  0.0+0.0im\n",
       "     0.0+0.0im  0.0+0.0im"
      ]
     },
     "execution_count": 78,
     "metadata": {},
     "output_type": "execute_result"
    }
   ],
   "source": [
    "a=ComplexF64.(a)"
   ]
  },
  {
   "cell_type": "markdown",
   "id": "d2234b5b",
   "metadata": {},
   "source": [
    "## Algèbre linéaire\n",
    "\n",
    "On retrouve beaucoup (toutes) de fonctions usuelles de l'algèbre linéaire"
   ]
  },
  {
   "cell_type": "code",
   "execution_count": 79,
   "id": "5be98aca",
   "metadata": {},
   "outputs": [],
   "source": [
    "using LinearAlgebra"
   ]
  },
  {
   "cell_type": "code",
   "execution_count": 80,
   "id": "c414de71",
   "metadata": {},
   "outputs": [
    {
     "data": {
      "text/plain": [
       "(2, 2)"
      ]
     },
     "execution_count": 80,
     "metadata": {},
     "output_type": "execute_result"
    }
   ],
   "source": [
    "A=[1 2 ; 3 4]\n",
    "size(A)"
   ]
  },
  {
   "cell_type": "code",
   "execution_count": 81,
   "id": "2404da94",
   "metadata": {},
   "outputs": [
    {
     "data": {
      "text/plain": [
       "-2.0"
      ]
     },
     "execution_count": 81,
     "metadata": {},
     "output_type": "execute_result"
    }
   ],
   "source": [
    "det(A)"
   ]
  },
  {
   "cell_type": "code",
   "execution_count": 82,
   "id": "ba0d9c24",
   "metadata": {},
   "outputs": [
    {
     "data": {
      "text/plain": [
       "5"
      ]
     },
     "execution_count": 82,
     "metadata": {},
     "output_type": "execute_result"
    }
   ],
   "source": [
    "tr(A)"
   ]
  },
  {
   "cell_type": "code",
   "execution_count": 83,
   "id": "36b115f8",
   "metadata": {},
   "outputs": [
    {
     "data": {
      "text/plain": [
       "2-element Vector{Float64}:\n",
       " -0.3722813232690143\n",
       "  5.372281323269014"
      ]
     },
     "execution_count": 83,
     "metadata": {},
     "output_type": "execute_result"
    }
   ],
   "source": [
    "eigvals(A)"
   ]
  },
  {
   "cell_type": "code",
   "execution_count": 84,
   "id": "c1b91954",
   "metadata": {},
   "outputs": [
    {
     "data": {
      "text/plain": [
       "2-element Vector{Float64}:\n",
       " -0.9999999999999997\n",
       "  1.4999999999999998"
      ]
     },
     "execution_count": 84,
     "metadata": {},
     "output_type": "execute_result"
    }
   ],
   "source": [
    "A = [1 2; 3 4]\n",
    "b =[2 ; 3]; #résolution du système Ax=b\n",
    "x = A \\ b "
   ]
  },
  {
   "cell_type": "markdown",
   "id": "27d12651",
   "metadata": {},
   "source": [
    "## Fonctions scientifiques et opérations\n",
    "\n",
    "L'usage des fonction scientifiques se fait termes à termes pour l'ensemble des valeurs du tableau (sauf pour les fonctions matricielles comme `exp`, <code>log</code> ...). L'usage des opérations <code>+</code>,<code>-</code>,<code>\\*</code>,<code>^</code>,<code>/</code> et `\\`(résolution) est disponible à condition de respecter les contraintes de dimension (multiplication matricielle par exemple). Sont ajouté des opérations termes à termes <code>.\\*</code>,<code>.^</code>,<code>./</code> et `.` toujours avec une contrainte de dimensions compatibles."
   ]
  },
  {
   "cell_type": "code",
   "execution_count": 85,
   "id": "e9013fad",
   "metadata": {},
   "outputs": [
    {
     "data": {
      "text/plain": [
       "2×2 Matrix{Float64}:\n",
       "  51.969   74.7366\n",
       " 112.105  164.074"
      ]
     },
     "execution_count": 85,
     "metadata": {},
     "output_type": "execute_result"
    }
   ],
   "source": [
    "A=[1 2;3 4]\n",
    "exp(A)"
   ]
  },
  {
   "cell_type": "code",
   "execution_count": 86,
   "id": "a07a3a89",
   "metadata": {},
   "outputs": [
    {
     "data": {
      "text/plain": [
       "2×2 Matrix{Float64}:\n",
       "  2.71828   7.38906\n",
       " 20.0855   54.5982"
      ]
     },
     "execution_count": 86,
     "metadata": {},
     "output_type": "execute_result"
    }
   ],
   "source": [
    "exp.(A) # exponentielle matricielle"
   ]
  },
  {
   "cell_type": "markdown",
   "id": "081b9b17",
   "metadata": {},
   "source": [
    "De plus les tableaux possèdes des opérations de multiplication, division, puissance termes à termes"
   ]
  },
  {
   "cell_type": "code",
   "execution_count": 87,
   "id": "662cbc5e",
   "metadata": {},
   "outputs": [
    {
     "data": {
      "text/plain": [
       "2×2 Matrix{Int64}:\n",
       "  7  10\n",
       " 15  22"
      ]
     },
     "execution_count": 87,
     "metadata": {},
     "output_type": "execute_result"
    }
   ],
   "source": [
    "A^2 #Multiplication Matricielle"
   ]
  },
  {
   "cell_type": "code",
   "execution_count": 88,
   "id": "c2aa105f",
   "metadata": {},
   "outputs": [
    {
     "data": {
      "text/plain": [
       "2×2 Matrix{Int64}:\n",
       " 1   4\n",
       " 9  16"
      ]
     },
     "execution_count": 88,
     "metadata": {},
     "output_type": "execute_result"
    }
   ],
   "source": [
    "A.^2 #Multiplication terme à terme"
   ]
  },
  {
   "cell_type": "code",
   "execution_count": 89,
   "id": "8bcbb304",
   "metadata": {},
   "outputs": [
    {
     "data": {
      "text/plain": [
       "2×2 Matrix{Float64}:\n",
       " 0.5   0.666667\n",
       " 0.75  0.8"
      ]
     },
     "execution_count": 89,
     "metadata": {},
     "output_type": "execute_result"
    }
   ],
   "source": [
    "A./[2 3 ; 4 5] #Division terme à terme "
   ]
  },
  {
   "cell_type": "code",
   "execution_count": 90,
   "id": "8b8cf523",
   "metadata": {},
   "outputs": [
    {
     "data": {
      "text/plain": [
       "2×2 Matrix{Float64}:\n",
       " 0.5  1.0\n",
       " 1.5  2.0"
      ]
     },
     "execution_count": 90,
     "metadata": {},
     "output_type": "execute_result"
    }
   ],
   "source": [
    "A./2"
   ]
  },
  {
   "cell_type": "markdown",
   "id": "00c1fe69",
   "metadata": {},
   "source": [
    "## Opérateurs booléens sur les tableaux"
   ]
  },
  {
   "cell_type": "code",
   "execution_count": 91,
   "id": "dfe9d707",
   "metadata": {},
   "outputs": [
    {
     "ename": "LoadError",
     "evalue": "MethodError: no method matching isless(::Int64, ::Vector{Int64})\n\u001b[0mClosest candidates are:\n\u001b[0m  isless(\u001b[91m::AbstractVector\u001b[39m, ::AbstractVector) at /Applications/Julia-1.7.app/Contents/Resources/julia/share/julia/base/abstractarray.jl:2532\n\u001b[0m  isless(::Real, \u001b[91m::AbstractFloat\u001b[39m) at /Applications/Julia-1.7.app/Contents/Resources/julia/share/julia/base/operators.jl:185\n\u001b[0m  isless(::Real, \u001b[91m::Real\u001b[39m) at /Applications/Julia-1.7.app/Contents/Resources/julia/share/julia/base/operators.jl:430\n\u001b[0m  ...",
     "output_type": "error",
     "traceback": [
      "MethodError: no method matching isless(::Int64, ::Vector{Int64})\n\u001b[0mClosest candidates are:\n\u001b[0m  isless(\u001b[91m::AbstractVector\u001b[39m, ::AbstractVector) at /Applications/Julia-1.7.app/Contents/Resources/julia/share/julia/base/abstractarray.jl:2532\n\u001b[0m  isless(::Real, \u001b[91m::AbstractFloat\u001b[39m) at /Applications/Julia-1.7.app/Contents/Resources/julia/share/julia/base/operators.jl:185\n\u001b[0m  isless(::Real, \u001b[91m::Real\u001b[39m) at /Applications/Julia-1.7.app/Contents/Resources/julia/share/julia/base/operators.jl:430\n\u001b[0m  ...",
      "",
      "Stacktrace:",
      " [1] <(x::Int64, y::Vector{Int64})",
      "   @ Base ./operators.jl:352",
      " [2] >(x::Vector{Int64}, y::Int64)",
      "   @ Base ./operators.jl:378",
      " [3] top-level scope",
      "   @ In[91]:1",
      " [4] eval",
      "   @ ./boot.jl:373 [inlined]",
      " [5] include_string(mapexpr::typeof(REPL.softscope), mod::Module, code::String, filename::String)",
      "   @ Base ./loading.jl:1196"
     ]
    }
   ],
   "source": [
    "collect(1:5)>2"
   ]
  },
  {
   "cell_type": "code",
   "execution_count": 92,
   "id": "4f0349b7",
   "metadata": {},
   "outputs": [
    {
     "data": {
      "text/plain": [
       "5-element BitVector:\n",
       " 0\n",
       " 0\n",
       " 1\n",
       " 1\n",
       " 1"
      ]
     },
     "execution_count": 92,
     "metadata": {},
     "output_type": "execute_result"
    }
   ],
   "source": [
    "collect(1:5).>2"
   ]
  },
  {
   "cell_type": "code",
   "execution_count": 93,
   "id": "a2535370",
   "metadata": {},
   "outputs": [
    {
     "data": {
      "text/plain": [
       "5-element BitVector:\n",
       " 1\n",
       " 0\n",
       " 0\n",
       " 0\n",
       " 0"
      ]
     },
     "execution_count": 93,
     "metadata": {},
     "output_type": "execute_result"
    }
   ],
   "source": [
    "collect(1:5).>[0;2;3;4;5]"
   ]
  },
  {
   "cell_type": "code",
   "execution_count": 94,
   "id": "38370cbe",
   "metadata": {},
   "outputs": [
    {
     "data": {
      "text/plain": [
       "5×5 BitMatrix:\n",
       " 1  0  0  0  0\n",
       " 1  0  0  0  0\n",
       " 1  1  0  0  0\n",
       " 1  1  1  0  0\n",
       " 1  1  1  1  0"
      ]
     },
     "execution_count": 94,
     "metadata": {},
     "output_type": "execute_result"
    }
   ],
   "source": [
    "collect(1:5).>[0 2 3 4 5]"
   ]
  },
  {
   "cell_type": "markdown",
   "id": "68a8b724",
   "metadata": {},
   "source": [
    "## Particularité max, maximum, min, minimum"
   ]
  },
  {
   "cell_type": "code",
   "execution_count": 95,
   "id": "530405bd",
   "metadata": {},
   "outputs": [
    {
     "data": {
      "text/plain": [
       "3"
      ]
     },
     "execution_count": 95,
     "metadata": {},
     "output_type": "execute_result"
    }
   ],
   "source": [
    "max(2,3)"
   ]
  },
  {
   "cell_type": "code",
   "execution_count": 96,
   "id": "a292fe51",
   "metadata": {},
   "outputs": [
    {
     "data": {
      "text/plain": [
       "3"
      ]
     },
     "execution_count": 96,
     "metadata": {},
     "output_type": "execute_result"
    }
   ],
   "source": [
    "max(1,2,3)"
   ]
  },
  {
   "cell_type": "code",
   "execution_count": 97,
   "id": "fd0f0b27",
   "metadata": {},
   "outputs": [
    {
     "ename": "LoadError",
     "evalue": "MethodError: no method matching max(::UnitRange{Int64})\n\u001b[0mClosest candidates are:\n\u001b[0m  max(::Any, \u001b[91m::Missing\u001b[39m) at /Applications/Julia-1.7.app/Contents/Resources/julia/share/julia/base/missing.jl:137\n\u001b[0m  max(::Any, \u001b[91m::Any\u001b[39m) at /Applications/Julia-1.7.app/Contents/Resources/julia/share/julia/base/operators.jl:492\n\u001b[0m  max(::Any, \u001b[91m::Any\u001b[39m, \u001b[91m::Any\u001b[39m, \u001b[91m::Any...\u001b[39m) at /Applications/Julia-1.7.app/Contents/Resources/julia/share/julia/base/operators.jl:655\n\u001b[0m  ...",
     "output_type": "error",
     "traceback": [
      "MethodError: no method matching max(::UnitRange{Int64})\n\u001b[0mClosest candidates are:\n\u001b[0m  max(::Any, \u001b[91m::Missing\u001b[39m) at /Applications/Julia-1.7.app/Contents/Resources/julia/share/julia/base/missing.jl:137\n\u001b[0m  max(::Any, \u001b[91m::Any\u001b[39m) at /Applications/Julia-1.7.app/Contents/Resources/julia/share/julia/base/operators.jl:492\n\u001b[0m  max(::Any, \u001b[91m::Any\u001b[39m, \u001b[91m::Any\u001b[39m, \u001b[91m::Any...\u001b[39m) at /Applications/Julia-1.7.app/Contents/Resources/julia/share/julia/base/operators.jl:655\n\u001b[0m  ...",
      "",
      "Stacktrace:",
      " [1] top-level scope",
      "   @ In[97]:1",
      " [2] eval",
      "   @ ./boot.jl:373 [inlined]",
      " [3] include_string(mapexpr::typeof(REPL.softscope), mod::Module, code::String, filename::String)",
      "   @ Base ./loading.jl:1196"
     ]
    }
   ],
   "source": [
    "max(1:5)"
   ]
  },
  {
   "cell_type": "code",
   "execution_count": 101,
   "id": "4f8a4dbf",
   "metadata": {},
   "outputs": [
    {
     "name": "stdout",
     "output_type": "stream",
     "text": [
      "search: \u001b[0m\u001b[1mm\u001b[22m\u001b[0m\u001b[1ma\u001b[22m\u001b[0m\u001b[1mx\u001b[22m \u001b[0m\u001b[1mm\u001b[22m\u001b[0m\u001b[1ma\u001b[22m\u001b[0m\u001b[1mx\u001b[22mimum \u001b[0m\u001b[1mm\u001b[22m\u001b[0m\u001b[1ma\u001b[22m\u001b[0m\u001b[1mx\u001b[22mimum! \u001b[0m\u001b[1mm\u001b[22m\u001b[0m\u001b[1ma\u001b[22m\u001b[0m\u001b[1mx\u001b[22mintfloat arg\u001b[0m\u001b[1mm\u001b[22m\u001b[0m\u001b[1ma\u001b[22m\u001b[0m\u001b[1mx\u001b[22m eig\u001b[0m\u001b[1mm\u001b[22m\u001b[0m\u001b[1ma\u001b[22m\u001b[0m\u001b[1mx\u001b[22m Row\u001b[0m\u001b[1mM\u001b[22m\u001b[0m\u001b[1ma\u001b[22m\u001b[0m\u001b[1mx\u001b[22mimum type\u001b[0m\u001b[1mm\u001b[22m\u001b[0m\u001b[1ma\u001b[22m\u001b[0m\u001b[1mx\u001b[22m\n",
      "\n"
     ]
    },
    {
     "data": {
      "text/latex": [
       "\\begin{verbatim}\n",
       "max(x, y, ...)\n",
       "\\end{verbatim}\n",
       "Return the maximum of the arguments (with respect to \\href{@ref}{\\texttt{isless}}). See also the \\href{@ref}{\\texttt{maximum}} function to take the maximum element from a collection.\n",
       "\n",
       "\\section{Examples}\n",
       "\\begin{verbatim}\n",
       "julia> max(2, 5, 1)\n",
       "5\n",
       "\\end{verbatim}\n"
      ],
      "text/markdown": [
       "```\n",
       "max(x, y, ...)\n",
       "```\n",
       "\n",
       "Return the maximum of the arguments (with respect to [`isless`](@ref)). See also the [`maximum`](@ref) function to take the maximum element from a collection.\n",
       "\n",
       "# Examples\n",
       "\n",
       "```jldoctest\n",
       "julia> max(2, 5, 1)\n",
       "5\n",
       "```\n"
      ],
      "text/plain": [
       "\u001b[36m  max(x, y, ...)\u001b[39m\n",
       "\n",
       "  Return the maximum of the arguments (with respect to \u001b[36misless\u001b[39m). See also the\n",
       "  \u001b[36mmaximum\u001b[39m function to take the maximum element from a collection.\n",
       "\n",
       "\u001b[1m  Examples\u001b[22m\n",
       "\u001b[1m  ≡≡≡≡≡≡≡≡≡≡\u001b[22m\n",
       "\n",
       "\u001b[36m  julia> max(2, 5, 1)\u001b[39m\n",
       "\u001b[36m  5\u001b[39m"
      ]
     },
     "execution_count": 101,
     "metadata": {},
     "output_type": "execute_result"
    }
   ],
   "source": [
    "?max"
   ]
  },
  {
   "cell_type": "code",
   "execution_count": 99,
   "id": "5f0f379f",
   "metadata": {},
   "outputs": [
    {
     "data": {
      "text/plain": [
       "5-element Vector{Int64}:\n",
       " 2\n",
       " 3\n",
       " 4\n",
       " 5\n",
       " 6"
      ]
     },
     "execution_count": 99,
     "metadata": {},
     "output_type": "execute_result"
    }
   ],
   "source": [
    "max.(1:5,2:6)"
   ]
  },
  {
   "cell_type": "markdown",
   "id": "366399c6",
   "metadata": {},
   "source": [
    "## Constructeurs\n",
    "\n",
    "Enfin il est possible de construire rapidement certaines matrices"
   ]
  },
  {
   "cell_type": "code",
   "execution_count": 102,
   "id": "82c9fadb",
   "metadata": {},
   "outputs": [
    {
     "data": {
      "text/plain": [
       "2×3 Matrix{Float64}:\n",
       " 0.0  0.0  0.0\n",
       " 0.0  0.0  0.0"
      ]
     },
     "execution_count": 102,
     "metadata": {},
     "output_type": "execute_result"
    }
   ],
   "source": [
    "a=fill(0.,2,3) "
   ]
  },
  {
   "cell_type": "code",
   "execution_count": 103,
   "id": "2aae0c96",
   "metadata": {},
   "outputs": [
    {
     "data": {
      "text/plain": [
       "2-element Vector{Int64}:\n",
       " 2\n",
       " 2"
      ]
     },
     "execution_count": 103,
     "metadata": {},
     "output_type": "execute_result"
    }
   ],
   "source": [
    "a=fill(2,2)"
   ]
  },
  {
   "cell_type": "code",
   "execution_count": 104,
   "id": "2de9efd4",
   "metadata": {},
   "outputs": [
    {
     "data": {
      "text/plain": [
       "0.0:0.6981317007977318:6.283185307179586"
      ]
     },
     "execution_count": 104,
     "metadata": {},
     "output_type": "execute_result"
    }
   ],
   "source": [
    "b=range(0,stop=2*pi,length=10)"
   ]
  },
  {
   "cell_type": "code",
   "execution_count": 106,
   "id": "5bcd48e3",
   "metadata": {},
   "outputs": [
    {
     "name": "stdout",
     "output_type": "stream",
     "text": [
      "search: \u001b[0m\u001b[1mr\u001b[22m\u001b[0m\u001b[1ma\u001b[22m\u001b[0m\u001b[1mn\u001b[22m\u001b[0m\u001b[1mg\u001b[22m\u001b[0m\u001b[1me\u001b[22m Lin\u001b[0m\u001b[1mR\u001b[22m\u001b[0m\u001b[1ma\u001b[22m\u001b[0m\u001b[1mn\u001b[22m\u001b[0m\u001b[1mg\u001b[22m\u001b[0m\u001b[1me\u001b[22m Unit\u001b[0m\u001b[1mR\u001b[22m\u001b[0m\u001b[1ma\u001b[22m\u001b[0m\u001b[1mn\u001b[22m\u001b[0m\u001b[1mg\u001b[22m\u001b[0m\u001b[1me\u001b[22m Step\u001b[0m\u001b[1mR\u001b[22m\u001b[0m\u001b[1ma\u001b[22m\u001b[0m\u001b[1mn\u001b[22m\u001b[0m\u001b[1mg\u001b[22m\u001b[0m\u001b[1me\u001b[22m Step\u001b[0m\u001b[1mR\u001b[22m\u001b[0m\u001b[1ma\u001b[22m\u001b[0m\u001b[1mn\u001b[22m\u001b[0m\u001b[1mg\u001b[22m\u001b[0m\u001b[1me\u001b[22mLen t\u001b[0m\u001b[1mr\u001b[22m\u001b[0m\u001b[1ma\u001b[22mili\u001b[0m\u001b[1mn\u001b[22m\u001b[0m\u001b[1mg\u001b[22m_z\u001b[0m\u001b[1me\u001b[22mros\n",
      "\n"
     ]
    },
    {
     "data": {
      "text/latex": [
       "\\begin{verbatim}\n",
       "range(start, stop, length)\n",
       "range(start, stop; length, step)\n",
       "range(start; length, stop, step)\n",
       "range(;start, length, stop, step)\n",
       "\\end{verbatim}\n",
       "Construct a specialized array with evenly spaced elements and optimized storage (an \\href{@ref}{\\texttt{AbstractRange}}) from the arguments. Mathematically a range is uniquely determined by any three of \\texttt{start}, \\texttt{step}, \\texttt{stop} and \\texttt{length}. Valid invocations of range are:\n",
       "\n",
       "\\begin{itemize}\n",
       "\\item Call \\texttt{range} with any three of \\texttt{start}, \\texttt{step}, \\texttt{stop}, \\texttt{length}.\n",
       "\n",
       "\n",
       "\\item Call \\texttt{range} with two of \\texttt{start}, \\texttt{stop}, \\texttt{length}. In this case \\texttt{step} will be assumed\n",
       "\n",
       "\\end{itemize}\n",
       "to be one. If both arguments are Integers, a \\href{@ref}{\\texttt{UnitRange}} will be returned.\n",
       "\n",
       "\\section{Examples}\n",
       "\\begin{verbatim}\n",
       "julia> range(1, length=100)\n",
       "1:100\n",
       "\n",
       "julia> range(1, stop=100)\n",
       "1:100\n",
       "\n",
       "julia> range(1, step=5, length=100)\n",
       "1:5:496\n",
       "\n",
       "julia> range(1, step=5, stop=100)\n",
       "1:5:96\n",
       "\n",
       "julia> range(1, 10, length=101)\n",
       "1.0:0.09:10.0\n",
       "\n",
       "julia> range(1, 100, step=5)\n",
       "1:5:96\n",
       "\n",
       "julia> range(stop=10, length=5)\n",
       "6:10\n",
       "\n",
       "julia> range(stop=10, step=1, length=5)\n",
       "6:1:10\n",
       "\n",
       "julia> range(start=1, step=1, stop=10)\n",
       "1:1:10\n",
       "\\end{verbatim}\n",
       "If \\texttt{length} is not specified and \\texttt{stop - start} is not an integer multiple of \\texttt{step}, a range that ends before \\texttt{stop} will be produced.\n",
       "\n",
       "\\begin{verbatim}\n",
       "julia> range(1, 3.5, step=2)\n",
       "1.0:2.0:3.0\n",
       "\\end{verbatim}\n",
       "Special care is taken to ensure intermediate values are computed rationally. To avoid this induced overhead, see the \\href{@ref}{\\texttt{LinRange}} constructor.\n",
       "\n",
       "\\begin{quote}\n",
       "\\textbf{compat}\n",
       "\n",
       "Julia 1.1\n",
       "\n",
       "\\texttt{stop} as a positional argument requires at least Julia 1.1.\n",
       "\n",
       "\\end{quote}\n",
       "\\begin{quote}\n",
       "\\textbf{compat}\n",
       "\n",
       "Julia 1.7\n",
       "\n",
       "The versions without keyword arguments and \\texttt{start} as a keyword argument require at least Julia 1.7.\n",
       "\n",
       "\\end{quote}\n"
      ],
      "text/markdown": [
       "```\n",
       "range(start, stop, length)\n",
       "range(start, stop; length, step)\n",
       "range(start; length, stop, step)\n",
       "range(;start, length, stop, step)\n",
       "```\n",
       "\n",
       "Construct a specialized array with evenly spaced elements and optimized storage (an [`AbstractRange`](@ref)) from the arguments. Mathematically a range is uniquely determined by any three of `start`, `step`, `stop` and `length`. Valid invocations of range are:\n",
       "\n",
       "  * Call `range` with any three of `start`, `step`, `stop`, `length`.\n",
       "  * Call `range` with two of `start`, `stop`, `length`. In this case `step` will be assumed\n",
       "\n",
       "to be one. If both arguments are Integers, a [`UnitRange`](@ref) will be returned.\n",
       "\n",
       "# Examples\n",
       "\n",
       "```jldoctest\n",
       "julia> range(1, length=100)\n",
       "1:100\n",
       "\n",
       "julia> range(1, stop=100)\n",
       "1:100\n",
       "\n",
       "julia> range(1, step=5, length=100)\n",
       "1:5:496\n",
       "\n",
       "julia> range(1, step=5, stop=100)\n",
       "1:5:96\n",
       "\n",
       "julia> range(1, 10, length=101)\n",
       "1.0:0.09:10.0\n",
       "\n",
       "julia> range(1, 100, step=5)\n",
       "1:5:96\n",
       "\n",
       "julia> range(stop=10, length=5)\n",
       "6:10\n",
       "\n",
       "julia> range(stop=10, step=1, length=5)\n",
       "6:1:10\n",
       "\n",
       "julia> range(start=1, step=1, stop=10)\n",
       "1:1:10\n",
       "```\n",
       "\n",
       "If `length` is not specified and `stop - start` is not an integer multiple of `step`, a range that ends before `stop` will be produced.\n",
       "\n",
       "```jldoctest\n",
       "julia> range(1, 3.5, step=2)\n",
       "1.0:2.0:3.0\n",
       "```\n",
       "\n",
       "Special care is taken to ensure intermediate values are computed rationally. To avoid this induced overhead, see the [`LinRange`](@ref) constructor.\n",
       "\n",
       "!!! compat \"Julia 1.1\"\n",
       "    `stop` as a positional argument requires at least Julia 1.1.\n",
       "\n",
       "\n",
       "!!! compat \"Julia 1.7\"\n",
       "    The versions without keyword arguments and `start` as a keyword argument require at least Julia 1.7.\n",
       "\n"
      ],
      "text/plain": [
       "\u001b[36m  range(start, stop, length)\u001b[39m\n",
       "\u001b[36m  range(start, stop; length, step)\u001b[39m\n",
       "\u001b[36m  range(start; length, stop, step)\u001b[39m\n",
       "\u001b[36m  range(;start, length, stop, step)\u001b[39m\n",
       "\n",
       "  Construct a specialized array with evenly spaced elements and optimized\n",
       "  storage (an \u001b[36mAbstractRange\u001b[39m) from the arguments. Mathematically a range is\n",
       "  uniquely determined by any three of \u001b[36mstart\u001b[39m, \u001b[36mstep\u001b[39m, \u001b[36mstop\u001b[39m and \u001b[36mlength\u001b[39m. Valid\n",
       "  invocations of range are:\n",
       "\n",
       "    •  Call \u001b[36mrange\u001b[39m with any three of \u001b[36mstart\u001b[39m, \u001b[36mstep\u001b[39m, \u001b[36mstop\u001b[39m, \u001b[36mlength\u001b[39m.\n",
       "\n",
       "    •  Call \u001b[36mrange\u001b[39m with two of \u001b[36mstart\u001b[39m, \u001b[36mstop\u001b[39m, \u001b[36mlength\u001b[39m. In this case \u001b[36mstep\u001b[39m will\n",
       "       be assumed\n",
       "\n",
       "  to be one. If both arguments are Integers, a \u001b[36mUnitRange\u001b[39m will be returned.\n",
       "\n",
       "\u001b[1m  Examples\u001b[22m\n",
       "\u001b[1m  ≡≡≡≡≡≡≡≡≡≡\u001b[22m\n",
       "\n",
       "\u001b[36m  julia> range(1, length=100)\u001b[39m\n",
       "\u001b[36m  1:100\u001b[39m\n",
       "\u001b[36m  \u001b[39m\n",
       "\u001b[36m  julia> range(1, stop=100)\u001b[39m\n",
       "\u001b[36m  1:100\u001b[39m\n",
       "\u001b[36m  \u001b[39m\n",
       "\u001b[36m  julia> range(1, step=5, length=100)\u001b[39m\n",
       "\u001b[36m  1:5:496\u001b[39m\n",
       "\u001b[36m  \u001b[39m\n",
       "\u001b[36m  julia> range(1, step=5, stop=100)\u001b[39m\n",
       "\u001b[36m  1:5:96\u001b[39m\n",
       "\u001b[36m  \u001b[39m\n",
       "\u001b[36m  julia> range(1, 10, length=101)\u001b[39m\n",
       "\u001b[36m  1.0:0.09:10.0\u001b[39m\n",
       "\u001b[36m  \u001b[39m\n",
       "\u001b[36m  julia> range(1, 100, step=5)\u001b[39m\n",
       "\u001b[36m  1:5:96\u001b[39m\n",
       "\u001b[36m  \u001b[39m\n",
       "\u001b[36m  julia> range(stop=10, length=5)\u001b[39m\n",
       "\u001b[36m  6:10\u001b[39m\n",
       "\u001b[36m  \u001b[39m\n",
       "\u001b[36m  julia> range(stop=10, step=1, length=5)\u001b[39m\n",
       "\u001b[36m  6:1:10\u001b[39m\n",
       "\u001b[36m  \u001b[39m\n",
       "\u001b[36m  julia> range(start=1, step=1, stop=10)\u001b[39m\n",
       "\u001b[36m  1:1:10\u001b[39m\n",
       "\n",
       "  If \u001b[36mlength\u001b[39m is not specified and \u001b[36mstop - start\u001b[39m is not an integer multiple of\n",
       "  \u001b[36mstep\u001b[39m, a range that ends before \u001b[36mstop\u001b[39m will be produced.\n",
       "\n",
       "\u001b[36m  julia> range(1, 3.5, step=2)\u001b[39m\n",
       "\u001b[36m  1.0:2.0:3.0\u001b[39m\n",
       "\n",
       "  Special care is taken to ensure intermediate values are computed rationally.\n",
       "  To avoid this induced overhead, see the \u001b[36mLinRange\u001b[39m constructor.\n",
       "\n",
       "\u001b[39m\u001b[1m  │ \u001b[22m\u001b[39m\u001b[1mJulia 1.1\u001b[22m\n",
       "\u001b[39m\u001b[1m  │\u001b[22m\n",
       "\u001b[39m\u001b[1m  │\u001b[22m  \u001b[36mstop\u001b[39m as a positional argument requires at least Julia 1.1.\n",
       "\n",
       "\u001b[39m\u001b[1m  │ \u001b[22m\u001b[39m\u001b[1mJulia 1.7\u001b[22m\n",
       "\u001b[39m\u001b[1m  │\u001b[22m\n",
       "\u001b[39m\u001b[1m  │\u001b[22m  The versions without keyword arguments and \u001b[36mstart\u001b[39m as a keyword\n",
       "\u001b[39m\u001b[1m  │\u001b[22m  argument require at least Julia 1.7."
      ]
     },
     "execution_count": 106,
     "metadata": {},
     "output_type": "execute_result"
    }
   ],
   "source": [
    "?range"
   ]
  },
  {
   "cell_type": "code",
   "execution_count": 107,
   "id": "76c8882a",
   "metadata": {},
   "outputs": [
    {
     "data": {
      "text/plain": [
       "10-element LinRange{Float64, Int64}:\n",
       " 0.0,0.698132,1.39626,2.0944,2.79253,3.49066,4.18879,4.88692,5.58505,6.28319"
      ]
     },
     "execution_count": 107,
     "metadata": {},
     "output_type": "execute_result"
    }
   ],
   "source": [
    "c = LinRange(0, 2π, 10)"
   ]
  },
  {
   "cell_type": "code",
   "execution_count": 108,
   "id": "5d63fecf",
   "metadata": {},
   "outputs": [
    {
     "name": "stdout",
     "output_type": "stream",
     "text": [
      "search: \u001b[0m\u001b[1mL\u001b[22m\u001b[0m\u001b[1mi\u001b[22m\u001b[0m\u001b[1mn\u001b[22m\u001b[0m\u001b[1mR\u001b[22m\u001b[0m\u001b[1ma\u001b[22m\u001b[0m\u001b[1mn\u001b[22m\u001b[0m\u001b[1mg\u001b[22m\u001b[0m\u001b[1me\u001b[22m\n",
      "\n"
     ]
    },
    {
     "data": {
      "text/latex": [
       "\\begin{verbatim}\n",
       "LinRange{T,L}\n",
       "\\end{verbatim}\n",
       "A range with \\texttt{len} linearly spaced elements between its \\texttt{start} and \\texttt{stop}. The size of the spacing is controlled by \\texttt{len}, which must be an \\texttt{Integer}.\n",
       "\n",
       "\\section{Examples}\n",
       "\\begin{verbatim}\n",
       "julia> LinRange(1.5, 5.5, 9)\n",
       "9-element LinRange{Float64, Int64}:\n",
       " 1.5,2.0,2.5,3.0,3.5,4.0,4.5,5.0,5.5\n",
       "\\end{verbatim}\n",
       "Compared to using \\href{@ref}{\\texttt{range}}, directly constructing a \\texttt{LinRange} should have less overhead but won't try to correct for floating point errors:\n",
       "\n",
       "\\begin{verbatim}\n",
       "julia> collect(range(-0.1, 0.3, length=5))\n",
       "5-element Array{Float64,1}:\n",
       " -0.1\n",
       "  0.0\n",
       "  0.1\n",
       "  0.2\n",
       "  0.3\n",
       "\n",
       "julia> collect(LinRange(-0.1, 0.3, 5))\n",
       "5-element Array{Float64,1}:\n",
       " -0.1\n",
       " -1.3877787807814457e-17\n",
       "  0.09999999999999999\n",
       "  0.19999999999999998\n",
       "  0.3\n",
       "\\end{verbatim}\n"
      ],
      "text/markdown": [
       "```\n",
       "LinRange{T,L}\n",
       "```\n",
       "\n",
       "A range with `len` linearly spaced elements between its `start` and `stop`. The size of the spacing is controlled by `len`, which must be an `Integer`.\n",
       "\n",
       "# Examples\n",
       "\n",
       "```jldoctest\n",
       "julia> LinRange(1.5, 5.5, 9)\n",
       "9-element LinRange{Float64, Int64}:\n",
       " 1.5,2.0,2.5,3.0,3.5,4.0,4.5,5.0,5.5\n",
       "```\n",
       "\n",
       "Compared to using [`range`](@ref), directly constructing a `LinRange` should have less overhead but won't try to correct for floating point errors:\n",
       "\n",
       "```julia\n",
       "julia> collect(range(-0.1, 0.3, length=5))\n",
       "5-element Array{Float64,1}:\n",
       " -0.1\n",
       "  0.0\n",
       "  0.1\n",
       "  0.2\n",
       "  0.3\n",
       "\n",
       "julia> collect(LinRange(-0.1, 0.3, 5))\n",
       "5-element Array{Float64,1}:\n",
       " -0.1\n",
       " -1.3877787807814457e-17\n",
       "  0.09999999999999999\n",
       "  0.19999999999999998\n",
       "  0.3\n",
       "```\n"
      ],
      "text/plain": [
       "\u001b[36m  LinRange{T,L}\u001b[39m\n",
       "\n",
       "  A range with \u001b[36mlen\u001b[39m linearly spaced elements between its \u001b[36mstart\u001b[39m and \u001b[36mstop\u001b[39m. The\n",
       "  size of the spacing is controlled by \u001b[36mlen\u001b[39m, which must be an \u001b[36mInteger\u001b[39m.\n",
       "\n",
       "\u001b[1m  Examples\u001b[22m\n",
       "\u001b[1m  ≡≡≡≡≡≡≡≡≡≡\u001b[22m\n",
       "\n",
       "\u001b[36m  julia> LinRange(1.5, 5.5, 9)\u001b[39m\n",
       "\u001b[36m  9-element LinRange{Float64, Int64}:\u001b[39m\n",
       "\u001b[36m   1.5,2.0,2.5,3.0,3.5,4.0,4.5,5.0,5.5\u001b[39m\n",
       "\n",
       "  Compared to using \u001b[36mrange\u001b[39m, directly constructing a \u001b[36mLinRange\u001b[39m should have less\n",
       "  overhead but won't try to correct for floating point errors:\n",
       "\n",
       "\u001b[36m  julia> collect(range(-0.1, 0.3, length=5))\u001b[39m\n",
       "\u001b[36m  5-element Array{Float64,1}:\u001b[39m\n",
       "\u001b[36m   -0.1\u001b[39m\n",
       "\u001b[36m    0.0\u001b[39m\n",
       "\u001b[36m    0.1\u001b[39m\n",
       "\u001b[36m    0.2\u001b[39m\n",
       "\u001b[36m    0.3\u001b[39m\n",
       "\u001b[36m  \u001b[39m\n",
       "\u001b[36m  julia> collect(LinRange(-0.1, 0.3, 5))\u001b[39m\n",
       "\u001b[36m  5-element Array{Float64,1}:\u001b[39m\n",
       "\u001b[36m   -0.1\u001b[39m\n",
       "\u001b[36m   -1.3877787807814457e-17\u001b[39m\n",
       "\u001b[36m    0.09999999999999999\u001b[39m\n",
       "\u001b[36m    0.19999999999999998\u001b[39m\n",
       "\u001b[36m    0.3\u001b[39m"
      ]
     },
     "execution_count": 108,
     "metadata": {},
     "output_type": "execute_result"
    }
   ],
   "source": [
    "?LinRange"
   ]
  },
  {
   "cell_type": "code",
   "execution_count": 109,
   "id": "c0634f1c",
   "metadata": {},
   "outputs": [
    {
     "data": {
      "text/plain": [
       "10-element Vector{Float64}:\n",
       " 0.0\n",
       " 0.6981317007977318\n",
       " 1.3962634015954636\n",
       " 2.0943951023931953\n",
       " 2.792526803190927\n",
       " 3.490658503988659\n",
       " 4.1887902047863905\n",
       " 4.886921905584122\n",
       " 5.585053606381854\n",
       " 6.283185307179586"
      ]
     },
     "execution_count": 109,
     "metadata": {},
     "output_type": "execute_result"
    }
   ],
   "source": [
    "collect(b)"
   ]
  },
  {
   "cell_type": "code",
   "execution_count": 110,
   "id": "65e30d52",
   "metadata": {},
   "outputs": [
    {
     "data": {
      "text/plain": [
       "3-element Vector{Float64}:\n",
       " 1.0\n",
       " 1.0\n",
       " 1.0"
      ]
     },
     "execution_count": 110,
     "metadata": {},
     "output_type": "execute_result"
    }
   ],
   "source": [
    "A=ones(3)"
   ]
  },
  {
   "cell_type": "code",
   "execution_count": 111,
   "id": "e7214c5e",
   "metadata": {},
   "outputs": [
    {
     "data": {
      "text/plain": [
       "3-element Vector{Float64}:\n",
       " 0.0\n",
       " 0.0\n",
       " 0.0"
      ]
     },
     "execution_count": 111,
     "metadata": {},
     "output_type": "execute_result"
    }
   ],
   "source": [
    "A=zeros(3)"
   ]
  },
  {
   "cell_type": "code",
   "execution_count": 115,
   "id": "50c5873b",
   "metadata": {},
   "outputs": [
    {
     "data": {
      "text/plain": [
       "5-element Vector{Float64}:\n",
       " 0.3903857587906403\n",
       " 0.4853575063504947\n",
       " 0.5192651920426572\n",
       " 0.0579310229221599\n",
       " 0.8452934490343489"
      ]
     },
     "execution_count": 115,
     "metadata": {},
     "output_type": "execute_result"
    }
   ],
   "source": [
    "using Random\n",
    "\n",
    "rng = MersenneTwister(111)\n",
    "\n",
    "B=randn(rng, 5) # loi normale centrée de variance 1"
   ]
  },
  {
   "cell_type": "code",
   "execution_count": 116,
   "id": "dea00805",
   "metadata": {},
   "outputs": [
    {
     "data": {
      "text/plain": [
       "3×4 Matrix{Float64}:\n",
       " 1.0  1.0  0.0  0.0\n",
       " 1.0  1.0  0.0  0.0\n",
       " 1.0  1.0  0.0  0.0"
      ]
     },
     "execution_count": 116,
     "metadata": {},
     "output_type": "execute_result"
    }
   ],
   "source": [
    "B=[ones(3,2) zeros(3,2)] # concaténation de tableaux"
   ]
  },
  {
   "cell_type": "code",
   "execution_count": 117,
   "id": "ee03f9c0",
   "metadata": {},
   "outputs": [
    {
     "data": {
      "text/plain": [
       "6×2 Matrix{Float64}:\n",
       " 1.0  1.0\n",
       " 1.0  1.0\n",
       " 1.0  1.0\n",
       " 0.0  0.0\n",
       " 0.0  0.0\n",
       " 0.0  0.0"
      ]
     },
     "execution_count": 117,
     "metadata": {},
     "output_type": "execute_result"
    }
   ],
   "source": [
    "B=[ones(3,2); zeros(3,2)] # , ou ; jouent le rôle de retour à la ligne"
   ]
  },
  {
   "cell_type": "code",
   "execution_count": 118,
   "id": "78e4f20b",
   "metadata": {},
   "outputs": [
    {
     "data": {
      "text/plain": [
       "3×3 Diagonal{Float64, Vector{Float64}}:\n",
       " 1.0   ⋅    ⋅ \n",
       "  ⋅   1.0   ⋅ \n",
       "  ⋅    ⋅   1.0"
      ]
     },
     "execution_count": 118,
     "metadata": {},
     "output_type": "execute_result"
    }
   ],
   "source": [
    "C = Diagonal(ones(3,3))"
   ]
  },
  {
   "cell_type": "code",
   "execution_count": 119,
   "id": "023277b3",
   "metadata": {},
   "outputs": [
    {
     "data": {
      "text/plain": [
       "3-element Vector{Float64}:\n",
       " 1.0\n",
       " 1.0\n",
       " 1.0"
      ]
     },
     "execution_count": 119,
     "metadata": {},
     "output_type": "execute_result"
    }
   ],
   "source": [
    "diag(C) # extraction d'une diagonale"
   ]
  },
  {
   "cell_type": "code",
   "execution_count": 120,
   "id": "ec909b38",
   "metadata": {},
   "outputs": [
    {
     "data": {
      "text/plain": [
       "3×3 Matrix{Float64}:\n",
       " 1.0  0.0  0.0\n",
       " 0.0  1.0  0.0\n",
       " 0.0  0.0  1.0"
      ]
     },
     "execution_count": 120,
     "metadata": {},
     "output_type": "execute_result"
    }
   ],
   "source": [
    "diagm(ones(3))"
   ]
  },
  {
   "cell_type": "code",
   "execution_count": 121,
   "id": "7e1c28ba",
   "metadata": {},
   "outputs": [
    {
     "data": {
      "text/plain": [
       "3×3 Matrix{Bool}:\n",
       " 1  0  0\n",
       " 0  1  0\n",
       " 0  0  1"
      ]
     },
     "execution_count": 121,
     "metadata": {},
     "output_type": "execute_result"
    }
   ],
   "source": [
    "Matrix(I, 3, 3)"
   ]
  },
  {
   "cell_type": "markdown",
   "id": "55cc408a",
   "metadata": {},
   "source": [
    "## type sparse\n",
    "\n",
    "Julia possède un type sparse i.e. des matrices creuses, ces dernières ayant un comportement identique aux matrices elles ne diffèrent que dans leur définition (et leur stockage)."
   ]
  },
  {
   "cell_type": "code",
   "execution_count": 122,
   "id": "b4e593ec",
   "metadata": {},
   "outputs": [],
   "source": [
    "using SparseArrays"
   ]
  },
  {
   "cell_type": "code",
   "execution_count": 123,
   "id": "861c4f33",
   "metadata": {},
   "outputs": [
    {
     "data": {
      "text/plain": [
       "3×3 SparseMatrixCSC{Float64, Int64} with 0 stored entries:\n",
       "  ⋅    ⋅    ⋅ \n",
       "  ⋅    ⋅    ⋅ \n",
       "  ⋅    ⋅    ⋅ "
      ]
     },
     "execution_count": 123,
     "metadata": {},
     "output_type": "execute_result"
    }
   ],
   "source": [
    "A=spzeros(3,3)"
   ]
  },
  {
   "cell_type": "code",
   "execution_count": 124,
   "id": "e98f74f5",
   "metadata": {},
   "outputs": [
    {
     "data": {
      "text/plain": [
       "3×3 SparseMatrixCSC{Int64, Int64} with 3 stored entries:\n",
       " 1  ⋅  ⋅\n",
       " ⋅  2  ⋅\n",
       " ⋅  ⋅  3"
      ]
     },
     "execution_count": 124,
     "metadata": {},
     "output_type": "execute_result"
    }
   ],
   "source": [
    "A=spdiagm(0 => 1:3)"
   ]
  },
  {
   "cell_type": "code",
   "execution_count": 125,
   "id": "2b402e15",
   "metadata": {},
   "outputs": [
    {
     "data": {
      "text/plain": [
       "3×3 SparseMatrixCSC{Int64, Int64} with 5 stored entries:\n",
       " 1  1  ⋅\n",
       " ⋅  2  2\n",
       " ⋅  ⋅  3"
      ]
     },
     "execution_count": 125,
     "metadata": {},
     "output_type": "execute_result"
    }
   ],
   "source": [
    "A=A+spdiagm(1 => 1:2)"
   ]
  },
  {
   "cell_type": "code",
   "execution_count": 126,
   "id": "5841d55e",
   "metadata": {},
   "outputs": [
    {
     "data": {
      "text/plain": [
       "2×3 SparseMatrixCSC{Int64, Int64} with 3 stored entries:\n",
       " ⋅  1  2\n",
       " 2  ⋅  ⋅"
      ]
     },
     "execution_count": 126,
     "metadata": {},
     "output_type": "execute_result"
    }
   ],
   "source": [
    "sparse([0 1 2; 2 0 0]) # pour rendre sparse une matrice \"full\""
   ]
  },
  {
   "cell_type": "code",
   "execution_count": 127,
   "id": "05cf6f70",
   "metadata": {},
   "outputs": [
    {
     "data": {
      "text/plain": [
       "6.0"
      ]
     },
     "execution_count": 127,
     "metadata": {},
     "output_type": "execute_result"
    }
   ],
   "source": [
    "det(A)"
   ]
  },
  {
   "cell_type": "markdown",
   "id": "f589f179",
   "metadata": {},
   "source": [
    "## Affectation et copie\n",
    "\n",
    "Attention julia à un mode de passage de valeur qui fonctionne différemment suivant une variable type ou un tableau.\n",
    "\n",
    "Pour une variable scalaire"
   ]
  },
  {
   "cell_type": "code",
   "execution_count": 128,
   "id": "4d918255",
   "metadata": {},
   "outputs": [
    {
     "data": {
      "text/plain": [
       "2"
      ]
     },
     "execution_count": 128,
     "metadata": {},
     "output_type": "execute_result"
    }
   ],
   "source": [
    "a = 1\n",
    "b = a\n",
    "b += 1"
   ]
  },
  {
   "cell_type": "code",
   "execution_count": 129,
   "id": "a8ef00a9",
   "metadata": {},
   "outputs": [
    {
     "data": {
      "text/plain": [
       "1"
      ]
     },
     "execution_count": 129,
     "metadata": {},
     "output_type": "execute_result"
    }
   ],
   "source": [
    "a"
   ]
  },
  {
   "cell_type": "code",
   "execution_count": 131,
   "id": "4e79f3db",
   "metadata": {},
   "outputs": [
    {
     "data": {
      "text/plain": [
       "2"
      ]
     },
     "execution_count": 131,
     "metadata": {},
     "output_type": "execute_result"
    }
   ],
   "source": [
    "b"
   ]
  },
  {
   "cell_type": "code",
   "execution_count": 132,
   "id": "b7d56fcb",
   "metadata": {},
   "outputs": [
    {
     "data": {
      "text/plain": [
       "1"
      ]
     },
     "execution_count": 132,
     "metadata": {},
     "output_type": "execute_result"
    }
   ],
   "source": [
    "a"
   ]
  },
  {
   "cell_type": "code",
   "execution_count": null,
   "id": "e91c27fa",
   "metadata": {},
   "outputs": [],
   "source": []
  },
  {
   "cell_type": "markdown",
   "id": "0be776ed",
   "metadata": {},
   "source": [
    "Par contre maintenant si la variable est un tableau"
   ]
  },
  {
   "cell_type": "code",
   "execution_count": 133,
   "id": "603c565e",
   "metadata": {},
   "outputs": [
    {
     "data": {
      "text/plain": [
       "5-element Vector{Int64}:\n",
       " 2\n",
       " 3\n",
       " 4\n",
       " 5\n",
       " 6"
      ]
     },
     "execution_count": 133,
     "metadata": {},
     "output_type": "execute_result"
    }
   ],
   "source": [
    "A = collect(1:5)\n",
    "B = A\n",
    "B .+= 1"
   ]
  },
  {
   "cell_type": "code",
   "execution_count": 134,
   "id": "a47a290c",
   "metadata": {},
   "outputs": [
    {
     "data": {
      "text/plain": [
       "5-element Vector{Int64}:\n",
       " 2\n",
       " 3\n",
       " 4\n",
       " 5\n",
       " 6"
      ]
     },
     "execution_count": 134,
     "metadata": {},
     "output_type": "execute_result"
    }
   ],
   "source": [
    "A"
   ]
  },
  {
   "cell_type": "code",
   "execution_count": 135,
   "id": "837b008c",
   "metadata": {},
   "outputs": [
    {
     "data": {
      "text/plain": [
       "5-element Vector{Int64}:\n",
       " 2\n",
       " 3\n",
       " 4\n",
       " 5\n",
       " 6"
      ]
     },
     "execution_count": 135,
     "metadata": {},
     "output_type": "execute_result"
    }
   ],
   "source": [
    "B"
   ]
  },
  {
   "cell_type": "markdown",
   "id": "41dad1b2",
   "metadata": {},
   "source": [
    "Pour avoir un comportement il faut copier le tableau A "
   ]
  },
  {
   "cell_type": "code",
   "execution_count": 139,
   "id": "0a607127",
   "metadata": {},
   "outputs": [
    {
     "data": {
      "text/plain": [
       "5-element Vector{Int64}:\n",
       " 2\n",
       " 3\n",
       " 4\n",
       " 5\n",
       " 6"
      ]
     },
     "execution_count": 139,
     "metadata": {},
     "output_type": "execute_result"
    }
   ],
   "source": [
    "A = collect(1:5)\n",
    "B = copy(A)\n",
    "@. B = B + 1"
   ]
  },
  {
   "cell_type": "code",
   "execution_count": 140,
   "id": "359350bc",
   "metadata": {},
   "outputs": [
    {
     "data": {
      "text/plain": [
       "5-element Vector{Int64}:\n",
       " 1\n",
       " 2\n",
       " 3\n",
       " 4\n",
       " 5"
      ]
     },
     "execution_count": 140,
     "metadata": {},
     "output_type": "execute_result"
    }
   ],
   "source": [
    "A"
   ]
  },
  {
   "cell_type": "code",
   "execution_count": 141,
   "id": "0377fbae",
   "metadata": {},
   "outputs": [
    {
     "data": {
      "text/plain": [
       "5-element Vector{Int64}:\n",
       " 2\n",
       " 3\n",
       " 4\n",
       " 5\n",
       " 6"
      ]
     },
     "execution_count": 141,
     "metadata": {},
     "output_type": "execute_result"
    }
   ],
   "source": [
    "B"
   ]
  },
  {
   "cell_type": "markdown",
   "id": "787f4039",
   "metadata": {},
   "source": [
    "# Dictionnaire"
   ]
  },
  {
   "cell_type": "code",
   "execution_count": 142,
   "id": "dd9bcf08",
   "metadata": {},
   "outputs": [
    {
     "data": {
      "text/plain": [
       "Dict{Symbol, String} with 2 entries:\n",
       "  :key2 => \"val2\"\n",
       "  :key1 => \"val1\""
      ]
     },
     "execution_count": 142,
     "metadata": {},
     "output_type": "execute_result"
    }
   ],
   "source": [
    "d = Dict(:key1 => \"val1\", :key2 => \"val2\")"
   ]
  },
  {
   "cell_type": "code",
   "execution_count": 143,
   "id": "d65f4547",
   "metadata": {},
   "outputs": [
    {
     "data": {
      "text/plain": [
       "KeySet for a Dict{Symbol, String} with 2 entries. Keys:\n",
       "  :key2\n",
       "  :key1"
      ]
     },
     "execution_count": 143,
     "metadata": {},
     "output_type": "execute_result"
    }
   ],
   "source": [
    "keys(d) # Toutes clés (itérateur)"
   ]
  },
  {
   "cell_type": "code",
   "execution_count": 144,
   "id": "9fcc2ec2",
   "metadata": {},
   "outputs": [
    {
     "data": {
      "text/plain": [
       "ValueIterator for a Dict{Symbol, String} with 2 entries. Values:\n",
       "  \"val2\"\n",
       "  \"val1\""
      ]
     },
     "execution_count": 144,
     "metadata": {},
     "output_type": "execute_result"
    }
   ],
   "source": [
    "values(d) # Toutes valeurs (itérateur)"
   ]
  },
  {
   "cell_type": "code",
   "execution_count": 145,
   "id": "db65242b",
   "metadata": {},
   "outputs": [
    {
     "name": "stdout",
     "output_type": "stream",
     "text": [
      "key: key2, value: val2\n",
      "key: key1, value: val1\n"
     ]
    }
   ],
   "source": [
    "for (k,v) in d # Itérer par paire clé-valeur\n",
    "    println(\"key: $k, value: $v\")\n",
    "end"
   ]
  },
  {
   "cell_type": "code",
   "execution_count": 146,
   "id": "b87b7a90",
   "metadata": {},
   "outputs": [
    {
     "data": {
      "text/plain": [
       "false"
      ]
     },
     "execution_count": 146,
     "metadata": {},
     "output_type": "execute_result"
    }
   ],
   "source": [
    "haskey(d, :k) # Vérifier la présence de la clé :k"
   ]
  },
  {
   "cell_type": "markdown",
   "id": "728dd33b",
   "metadata": {},
   "source": [
    "Les dictionnaires sont muables; quand des symboles sont utilisés comme clés, les clés sont immuables."
   ]
  }
 ],
 "metadata": {
  "jupytext": {
   "cell_metadata_filter": "-all",
   "main_language": "julia",
   "notebook_metadata_filter": "-all"
  },
  "kernelspec": {
   "display_name": "Julia 1.7.2",
   "language": "julia",
   "name": "julia-1.7"
  },
  "language_info": {
   "file_extension": ".jl",
   "mimetype": "application/julia",
   "name": "julia",
   "version": "1.7.2"
  }
 },
 "nbformat": 4,
 "nbformat_minor": 5
}
