{
 "cells": [
  {
   "cell_type": "markdown",
   "id": "662f3f32",
   "metadata": {},
   "source": [
    "# Tableaux et matrices\n",
    "\n",
    "La définition de tableaux i.e. vecteurs, matrices, hypermatrices est un élément essentiel de Julia.\n",
    "\n",
    "Julia ne possède qu'un seul type de tableau : **Array** on peut définir son nombre d'entrées (1 entrée= 1 dimension ...) et son contenu de façon assez générale. Un tableau peut contenir des matrices à chaque élément.\n",
    "\n",
    "Une particularité est que les indices de tableaux commencent à 1, et l'accès aux éléments se fera à l'aide de `[` `]` et non `(` `)` qui est réservé aux fonctions.\n",
    "\n",
    "Avant de rentrer dans la construction et manipulation de tableau regardons une autre classe \n",
    "\n",
    "# Iterateur\n",
    "\n",
    "Julia possède un Type particulier fait à l'aide du \":\""
   ]
  },
  {
   "cell_type": "code",
   "execution_count": 1,
   "id": "3e30fa44",
   "metadata": {},
   "outputs": [
    {
     "data": {
      "text/plain": [
       "1:5"
      ]
     },
     "execution_count": 1,
     "metadata": {},
     "output_type": "execute_result"
    }
   ],
   "source": [
    "a = 1:5"
   ]
  },
  {
   "cell_type": "code",
   "execution_count": 2,
   "id": "2892a1c3",
   "metadata": {},
   "outputs": [
    {
     "data": {
      "text/plain": [
       "2:6"
      ]
     },
     "execution_count": 2,
     "metadata": {},
     "output_type": "execute_result"
    }
   ],
   "source": [
    "a .+ 1"
   ]
  },
  {
   "cell_type": "code",
   "execution_count": 3,
   "id": "dbb6f9ad",
   "metadata": {},
   "outputs": [
    {
     "data": {
      "text/plain": [
       "UnitRange{Int64}"
      ]
     },
     "execution_count": 3,
     "metadata": {},
     "output_type": "execute_result"
    }
   ],
   "source": [
    "typeof(a)"
   ]
  },
  {
   "cell_type": "code",
   "execution_count": 4,
   "id": "d413f28e",
   "metadata": {},
   "outputs": [
    {
     "data": {
      "text/plain": [
       "0.0:0.5:2.0"
      ]
     },
     "execution_count": 4,
     "metadata": {},
     "output_type": "execute_result"
    }
   ],
   "source": [
    "b = 0:0.5:2"
   ]
  },
  {
   "cell_type": "code",
   "execution_count": 5,
   "id": "f4ee6ce8",
   "metadata": {},
   "outputs": [
    {
     "data": {
      "text/plain": [
       "StepRangeLen{Float64, Base.TwicePrecision{Float64}, Base.TwicePrecision{Float64}, Int64}"
      ]
     },
     "execution_count": 5,
     "metadata": {},
     "output_type": "execute_result"
    }
   ],
   "source": [
    "typeof(b)"
   ]
  },
  {
   "cell_type": "markdown",
   "id": "732cb65d",
   "metadata": {},
   "source": [
    "Ce type \"formel\" permet d'avoir une définition et une méthode associée sans stocker l'ensemble des valeurs. Attention celui-ci peut être vide :"
   ]
  },
  {
   "cell_type": "code",
   "execution_count": 6,
   "id": "e6e9fd13",
   "metadata": {},
   "outputs": [
    {
     "data": {
      "text/plain": [
       "1:0"
      ]
     },
     "execution_count": 6,
     "metadata": {},
     "output_type": "execute_result"
    }
   ],
   "source": [
    "d=1:0 # itérateur formel mais correspond à un ensemble vide de valeurs"
   ]
  },
  {
   "cell_type": "code",
   "execution_count": 7,
   "id": "9f17ad55",
   "metadata": {},
   "outputs": [
    {
     "data": {
      "text/plain": [
       "10-element Vector{Int64}:\n",
       "  1\n",
       "  2\n",
       "  3\n",
       "  4\n",
       "  5\n",
       "  6\n",
       "  7\n",
       "  8\n",
       "  9\n",
       " 10"
      ]
     },
     "execution_count": 7,
     "metadata": {},
     "output_type": "execute_result"
    }
   ],
   "source": [
    "collect(1:10)"
   ]
  },
  {
   "cell_type": "code",
   "execution_count": 8,
   "id": "701a799e",
   "metadata": {
    "scrolled": true
   },
   "outputs": [
    {
     "data": {
      "text/plain": [
       "55"
      ]
     },
     "execution_count": 8,
     "metadata": {},
     "output_type": "execute_result"
    }
   ],
   "source": [
    "d  = 1:10  |> collect |> sum"
   ]
  },
  {
   "cell_type": "markdown",
   "id": "3086c0b4",
   "metadata": {},
   "source": [
    "# Tableau\n",
    "\n",
    "On vient de voir que l'on peut transformer l'itérateur précédent en tableau à l'aide de la commande \"collect\""
   ]
  },
  {
   "cell_type": "code",
   "execution_count": 9,
   "id": "58c16494",
   "metadata": {},
   "outputs": [
    {
     "data": {
      "text/plain": [
       "5-element Vector{Complex{Int64}}:\n",
       " 1 + 1im\n",
       " 2 + 1im\n",
       " 3 + 1im\n",
       " 4 + 1im\n",
       " 5 + 1im"
      ]
     },
     "execution_count": 9,
     "metadata": {},
     "output_type": "execute_result"
    }
   ],
   "source": [
    "a = 1:5\n",
    "aa = collect(complex.(a)) .+ 1im"
   ]
  },
  {
   "cell_type": "code",
   "execution_count": 10,
   "id": "b52e9d5b",
   "metadata": {},
   "outputs": [
    {
     "data": {
      "text/plain": [
       "1×5 Matrix{Complex{Int64}}:\n",
       " 1-1im  2-1im  3-1im  4-1im  5-1im"
      ]
     },
     "execution_count": 10,
     "metadata": {},
     "output_type": "execute_result"
    }
   ],
   "source": [
    "collect(aa')"
   ]
  },
  {
   "cell_type": "code",
   "execution_count": 11,
   "id": "bf1e0f20",
   "metadata": {},
   "outputs": [
    {
     "data": {
      "text/plain": [
       "1×5 transpose(::Vector{Complex{Int64}}) with eltype Complex{Int64}:\n",
       " 1+1im  2+1im  3+1im  4+1im  5+1im"
      ]
     },
     "execution_count": 11,
     "metadata": {},
     "output_type": "execute_result"
    }
   ],
   "source": [
    "transpose(aa)"
   ]
  },
  {
   "cell_type": "code",
   "execution_count": 12,
   "id": "214d1882",
   "metadata": {},
   "outputs": [
    {
     "data": {
      "text/plain": [
       "5-element Vector{Int64}:\n",
       " 1\n",
       " 2\n",
       " 3\n",
       " 4\n",
       " 5"
      ]
     },
     "execution_count": 12,
     "metadata": {},
     "output_type": "execute_result"
    }
   ],
   "source": [
    "a = collect(1:5)"
   ]
  },
  {
   "cell_type": "code",
   "execution_count": 13,
   "id": "a6ebbb3e",
   "metadata": {},
   "outputs": [
    {
     "data": {
      "text/plain": [
       "55"
      ]
     },
     "execution_count": 13,
     "metadata": {},
     "output_type": "execute_result"
    }
   ],
   "source": [
    "a' * a"
   ]
  },
  {
   "cell_type": "code",
   "execution_count": 14,
   "id": "7cfd2f54",
   "metadata": {},
   "outputs": [
    {
     "data": {
      "text/plain": [
       "Vector{Complex{Int64}}\u001b[90m (alias for \u001b[39m\u001b[90mArray{Complex{Int64}, 1}\u001b[39m\u001b[90m)\u001b[39m"
      ]
     },
     "execution_count": 14,
     "metadata": {},
     "output_type": "execute_result"
    }
   ],
   "source": [
    "typeof(aa)"
   ]
  },
  {
   "cell_type": "markdown",
   "id": "51269d13",
   "metadata": {},
   "source": [
    "La réponse est de la forme **Array{Type,dim}** un tableau de **Type** à **dim** entrées (1 pour vecteur, 2 pour matrices ...)\n",
    "\n",
    "A remarquer :\n",
    "* l'indexation des tableaux commence à 1.\n",
    "* un tableau à une entrée est vu comme un vecteur colonne par défaut.\n",
    "* le crochet [ ] sert à extraire ou affecter une valeur ou un bloc de valeur. Attention le crochet [ ] sert également de \"concatenateur\" et constructeur de tableau (voir suite)\n",
    "* Il est possible de faire des tableaux de n'importe quoi (fonction, tableau, ...)."
   ]
  },
  {
   "cell_type": "code",
   "execution_count": 15,
   "id": "35dd4c16",
   "metadata": {},
   "outputs": [
    {
     "data": {
      "text/plain": [
       "1 + 1im"
      ]
     },
     "execution_count": 15,
     "metadata": {},
     "output_type": "execute_result"
    }
   ],
   "source": [
    "aa[1]"
   ]
  },
  {
   "cell_type": "code",
   "execution_count": 16,
   "id": "321af89d",
   "metadata": {},
   "outputs": [
    {
     "data": {
      "text/plain": [
       "1 + 1im"
      ]
     },
     "execution_count": 16,
     "metadata": {},
     "output_type": "execute_result"
    }
   ],
   "source": [
    "aa[begin] # pour accèder au premier élément"
   ]
  },
  {
   "cell_type": "code",
   "execution_count": 17,
   "id": "e17b1d3b",
   "metadata": {},
   "outputs": [
    {
     "data": {
      "text/plain": [
       "5 + 1im"
      ]
     },
     "execution_count": 17,
     "metadata": {},
     "output_type": "execute_result"
    }
   ],
   "source": [
    "aa[end] # pour accèder au dernier élément"
   ]
  },
  {
   "cell_type": "code",
   "execution_count": 18,
   "id": "5dfa57cd",
   "metadata": {},
   "outputs": [
    {
     "data": {
      "text/plain": [
       "(1, 5)"
      ]
     },
     "execution_count": 18,
     "metadata": {},
     "output_type": "execute_result"
    }
   ],
   "source": [
    "first(a), last(a)"
   ]
  },
  {
   "cell_type": "code",
   "execution_count": 19,
   "id": "93c04bca",
   "metadata": {},
   "outputs": [
    {
     "name": "stdout",
     "output_type": "stream",
     "text": [
      "Complex{Int64}[1 + 1im, 2 + 1im, 1 + 0im, 1 + 0im, 1 + 0im]\n"
     ]
    }
   ],
   "source": [
    "aa[end-2:end] .= 1 ; println(aa)"
   ]
  },
  {
   "cell_type": "markdown",
   "id": "b5539866",
   "metadata": {},
   "source": [
    "Les crochets permettent la construction explicite de tableaux (ou leur concaténation)"
   ]
  },
  {
   "cell_type": "code",
   "execution_count": 20,
   "id": "57b6ef39",
   "metadata": {},
   "outputs": [
    {
     "data": {
      "text/plain": [
       "2×2 Matrix{Int64}:\n",
       " 1  2\n",
       " 3  4"
      ]
     },
     "execution_count": 20,
     "metadata": {},
     "output_type": "execute_result"
    }
   ],
   "source": [
    "A = [1 2 ; 3 4] # {espace} = séparateur de colonne"
   ]
  },
  {
   "cell_type": "code",
   "execution_count": 21,
   "id": "5c38200a",
   "metadata": {},
   "outputs": [
    {
     "data": {
      "text/plain": [
       "2×4 Matrix{Int64}:\n",
       " 1  2  1  2\n",
       " 3  4  3  4"
      ]
     },
     "execution_count": 21,
     "metadata": {},
     "output_type": "execute_result"
    }
   ],
   "source": [
    "AA=[A  A] # concaténation par bloc"
   ]
  },
  {
   "cell_type": "code",
   "execution_count": 22,
   "id": "66e0c879",
   "metadata": {},
   "outputs": [
    {
     "data": {
      "text/plain": [
       "2×4 Matrix{Int64}:\n",
       " 1  2  1  2\n",
       " 3  4  3  4"
      ]
     },
     "execution_count": 22,
     "metadata": {},
     "output_type": "execute_result"
    }
   ],
   "source": [
    "hcat(A, A) # commande équivalent à la précédente [A  A]"
   ]
  },
  {
   "cell_type": "code",
   "execution_count": 23,
   "id": "9fee554b",
   "metadata": {},
   "outputs": [
    {
     "data": {
      "text/plain": [
       "4×2 Matrix{Int64}:\n",
       " 1  2\n",
       " 3  4\n",
       " 1  2\n",
       " 3  4"
      ]
     },
     "execution_count": 23,
     "metadata": {},
     "output_type": "execute_result"
    }
   ],
   "source": [
    "AA = [A ; A]"
   ]
  },
  {
   "cell_type": "code",
   "execution_count": 24,
   "id": "1204d0fe",
   "metadata": {},
   "outputs": [
    {
     "data": {
      "text/plain": [
       "4×2 Matrix{Int64}:\n",
       " 1  2\n",
       " 3  4\n",
       " 1  2\n",
       " 3  4"
      ]
     },
     "execution_count": 24,
     "metadata": {},
     "output_type": "execute_result"
    }
   ],
   "source": [
    "vcat(A,A) # commande équivalent à la précédente [A  ; A]"
   ]
  },
  {
   "cell_type": "markdown",
   "id": "b8c592e4",
   "metadata": {},
   "source": [
    "On peut accéder à tout ou partie d'un tableau à l'aide de 2 indices"
   ]
  },
  {
   "cell_type": "code",
   "execution_count": 25,
   "id": "a43e4ca1",
   "metadata": {},
   "outputs": [
    {
     "data": {
      "text/plain": [
       "3"
      ]
     },
     "execution_count": 25,
     "metadata": {},
     "output_type": "execute_result"
    }
   ],
   "source": [
    "A[2,1]"
   ]
  },
  {
   "cell_type": "code",
   "execution_count": 26,
   "id": "e6f288ef",
   "metadata": {},
   "outputs": [
    {
     "data": {
      "text/plain": [
       "2-element Vector{Int64}:\n",
       " 3\n",
       " 4"
      ]
     },
     "execution_count": 26,
     "metadata": {},
     "output_type": "execute_result"
    }
   ],
   "source": [
    "A[2,:]"
   ]
  },
  {
   "cell_type": "code",
   "execution_count": 27,
   "id": "42602064",
   "metadata": {},
   "outputs": [
    {
     "data": {
      "text/plain": [
       "2-element Vector{Int64}:\n",
       " 2\n",
       " 4"
      ]
     },
     "execution_count": 27,
     "metadata": {},
     "output_type": "execute_result"
    }
   ],
   "source": [
    "A[:,2]"
   ]
  },
  {
   "cell_type": "code",
   "execution_count": 28,
   "id": "91ce5ab6",
   "metadata": {},
   "outputs": [
    {
     "data": {
      "text/plain": [
       "4"
      ]
     },
     "execution_count": 28,
     "metadata": {},
     "output_type": "execute_result"
    }
   ],
   "source": [
    "A[end,end]"
   ]
  },
  {
   "cell_type": "code",
   "execution_count": 29,
   "id": "d3fc95cf",
   "metadata": {},
   "outputs": [
    {
     "data": {
      "text/plain": [
       "4×2 Matrix{Int64}:\n",
       " 1  2\n",
       " 3  4\n",
       " 1  2\n",
       " 3  4"
      ]
     },
     "execution_count": 29,
     "metadata": {},
     "output_type": "execute_result"
    }
   ],
   "source": [
    "AA"
   ]
  },
  {
   "cell_type": "code",
   "execution_count": 30,
   "id": "6699827e",
   "metadata": {},
   "outputs": [
    {
     "data": {
      "text/plain": [
       "4×1 Matrix{Int64}:\n",
       " 3\n",
       " 7\n",
       " 3\n",
       " 7"
      ]
     },
     "execution_count": 30,
     "metadata": {},
     "output_type": "execute_result"
    }
   ],
   "source": [
    "sum(AA, dims=2)"
   ]
  },
  {
   "cell_type": "code",
   "execution_count": 31,
   "id": "4a680da3",
   "metadata": {},
   "outputs": [
    {
     "data": {
      "text/plain": [
       "1×4 Matrix{Int64}:\n",
       " 1  2  3  4"
      ]
     },
     "execution_count": 31,
     "metadata": {},
     "output_type": "execute_result"
    }
   ],
   "source": [
    "B = [1 2 3 4]"
   ]
  },
  {
   "cell_type": "code",
   "execution_count": 32,
   "id": "d36d7a72",
   "metadata": {},
   "outputs": [
    {
     "data": {
      "text/plain": [
       "4-element Vector{Int64}:\n",
       " 1\n",
       " 2\n",
       " 3\n",
       " 4"
      ]
     },
     "execution_count": 32,
     "metadata": {},
     "output_type": "execute_result"
    }
   ],
   "source": [
    "B = [1;2;3;4]"
   ]
  },
  {
   "cell_type": "code",
   "execution_count": 33,
   "id": "86268ccd",
   "metadata": {},
   "outputs": [
    {
     "name": "stdout",
     "output_type": "stream",
     "text": [
      "1\n",
      "2\n",
      "3\n",
      "4\n",
      "5\n",
      "6\n",
      "7\n",
      "8\n"
     ]
    }
   ],
   "source": [
    "for i in eachindex(AA)\n",
    "    println(i)\n",
    "end"
   ]
  },
  {
   "cell_type": "code",
   "execution_count": 34,
   "id": "72a75de1",
   "metadata": {},
   "outputs": [
    {
     "name": "stdout",
     "output_type": "stream",
     "text": [
      "[1, 2]\n",
      "[3, 4]\n",
      "[1, 2]\n",
      "[3, 4]\n"
     ]
    }
   ],
   "source": [
    "for row ∈ eachrow(AA)\n",
    "    println(\"$row\")\n",
    "end"
   ]
  },
  {
   "cell_type": "markdown",
   "id": "b5fd8084",
   "metadata": {},
   "source": [
    "A noter que l'on peut faire des tableaux de tout type voir de les mélanger (Any)"
   ]
  },
  {
   "cell_type": "code",
   "execution_count": 35,
   "id": "61d8b34c",
   "metadata": {},
   "outputs": [
    {
     "data": {
      "text/plain": [
       "2-element Vector{String}:\n",
       " \"un\"\n",
       " \"deux\""
      ]
     },
     "execution_count": 35,
     "metadata": {},
     "output_type": "execute_result"
    }
   ],
   "source": [
    "a=[\"un\";\"deux\"]"
   ]
  },
  {
   "cell_type": "code",
   "execution_count": 36,
   "id": "391e85db",
   "metadata": {},
   "outputs": [
    {
     "data": {
      "text/plain": [
       "3-element Vector{Bool}:\n",
       " 0\n",
       " 1\n",
       " 0"
      ]
     },
     "execution_count": 36,
     "metadata": {},
     "output_type": "execute_result"
    }
   ],
   "source": [
    "b=[1>2,true,false]"
   ]
  },
  {
   "cell_type": "code",
   "execution_count": 37,
   "id": "117703c4",
   "metadata": {},
   "outputs": [
    {
     "data": {
      "text/plain": [
       "3-element Vector{Any}:\n",
       "     \"un\"\n",
       "    2\n",
       " true"
      ]
     },
     "execution_count": 37,
     "metadata": {},
     "output_type": "execute_result"
    }
   ],
   "source": [
    "c=[\"un\"; 2 ; true]"
   ]
  },
  {
   "cell_type": "markdown",
   "id": "8c00ed69",
   "metadata": {},
   "source": [
    "Le crochet [ ] permet également la construction rapide de matrice ou tableau comme le montre l'exemple ci-dessous pour construire une matrice de VanderMonde\n",
    "\n",
    "$$ V_{i,j}=x_i^{j-1}$$"
   ]
  },
  {
   "cell_type": "code",
   "execution_count": 38,
   "id": "aa1ce89e",
   "metadata": {},
   "outputs": [
    {
     "data": {
      "text/plain": [
       "6×6 Matrix{Float64}:\n",
       " 1.0  0.0  0.0   0.0    0.0     0.0\n",
       " 1.0  0.2  0.04  0.008  0.0016  0.00032\n",
       " 1.0  0.4  0.16  0.064  0.0256  0.01024\n",
       " 1.0  0.6  0.36  0.216  0.1296  0.07776\n",
       " 1.0  0.8  0.64  0.512  0.4096  0.32768\n",
       " 1.0  1.0  1.0   1.0    1.0     1.0"
      ]
     },
     "execution_count": 38,
     "metadata": {},
     "output_type": "execute_result"
    }
   ],
   "source": [
    "x = 0:0.2:1\n",
    "V = [ x[i]^(j-1) for i=1:6, j=1:6] # ligne et colonne"
   ]
  },
  {
   "cell_type": "code",
   "execution_count": 39,
   "id": "9a24051e",
   "metadata": {},
   "outputs": [
    {
     "data": {
      "text/plain": [
       "6×6 Matrix{Float64}:\n",
       " 1.0  0.0  0.0   0.0    0.0     0.0\n",
       " 1.0  0.2  0.04  0.008  0.0016  0.00032\n",
       " 1.0  0.4  0.16  0.064  0.0256  0.01024\n",
       " 1.0  0.6  0.36  0.216  0.1296  0.07776\n",
       " 1.0  0.8  0.64  0.512  0.4096  0.32768\n",
       " 1.0  1.0  1.0   1.0    1.0     1.0"
      ]
     },
     "execution_count": 39,
     "metadata": {},
     "output_type": "execute_result"
    }
   ],
   "source": [
    "V = zeros(Float64, 6,6)\n",
    "for j in 1:6, i in 1:6\n",
    "    V[i,j] = x[i]^(j-1)\n",
    "end\n",
    "V"
   ]
  },
  {
   "cell_type": "code",
   "execution_count": 40,
   "id": "535396a7",
   "metadata": {},
   "outputs": [
    {
     "data": {
      "text/plain": [
       "5×7 Matrix{Float64}:\n",
       " 1.0  1.5   2.0  2.5   3.0   3.5    4.0\n",
       " 1.5  2.25  3.0  3.75  4.5   5.25   6.0\n",
       " 2.0  3.0   4.0  5.0   6.0   7.0    8.0\n",
       " 2.5  3.75  5.0  6.25  7.5   8.75  10.0\n",
       " 3.0  4.5   6.0  7.5   9.0  10.5   12.0"
      ]
     },
     "execution_count": 40,
     "metadata": {},
     "output_type": "execute_result"
    }
   ],
   "source": [
    "D=[ u*v for u=1:0.5:3, v=1:0.5:4]"
   ]
  },
  {
   "cell_type": "markdown",
   "id": "0aa3d3f4",
   "metadata": {},
   "source": [
    "On peux évidemment faire des tableaux à 3,4... entrèes.\n",
    "\n",
    "## Manipulation de Tableau\n",
    "\n",
    "### push!\n",
    "\n",
    "Le fonction push permet d'ajouter à un tableau une valeur supplémentaire"
   ]
  },
  {
   "cell_type": "code",
   "execution_count": 41,
   "id": "ef6b899c",
   "metadata": {},
   "outputs": [
    {
     "data": {
      "text/plain": [
       "4-element Vector{Int64}:\n",
       " 1\n",
       " 2\n",
       " 4\n",
       " 6"
      ]
     },
     "execution_count": 41,
     "metadata": {},
     "output_type": "execute_result"
    }
   ],
   "source": [
    "a = Int[]\n",
    "push!(a,1)     # => [1]\n",
    "push!(a,2)     # => [1,2]\n",
    "push!(a,4)     # => [1,2,4]\n",
    "push!(a,6)     # => [1,2,4,6]"
   ]
  },
  {
   "cell_type": "markdown",
   "id": "19bc77cb",
   "metadata": {},
   "source": [
    "### append!\n",
    "\n",
    "Cette fonction permet de mettre bout à bout 2 tableaux"
   ]
  },
  {
   "cell_type": "code",
   "execution_count": 42,
   "id": "277c854c",
   "metadata": {},
   "outputs": [
    {
     "data": {
      "text/plain": [
       "8-element Vector{Int64}:\n",
       " 1\n",
       " 2\n",
       " 4\n",
       " 6\n",
       " 1\n",
       " 2\n",
       " 4\n",
       " 6"
      ]
     },
     "execution_count": 42,
     "metadata": {},
     "output_type": "execute_result"
    }
   ],
   "source": [
    "append!(a,a)"
   ]
  },
  {
   "cell_type": "markdown",
   "id": "6c619ee3",
   "metadata": {},
   "source": [
    "A noté le  **Array{Any,1}** !"
   ]
  },
  {
   "cell_type": "code",
   "execution_count": 43,
   "id": "9206872a",
   "metadata": {},
   "outputs": [
    {
     "data": {
      "text/plain": [
       "4-element Vector{ComplexF64}:\n",
       " 1.0 + 0.0im\n",
       " 2.0 + 0.0im\n",
       " 4.0 + 0.0im\n",
       " 6.0 + 0.0im"
      ]
     },
     "execution_count": 43,
     "metadata": {},
     "output_type": "execute_result"
    }
   ],
   "source": [
    "a = ComplexF64[]\n",
    "push!(a,1)     # => [1]\n",
    "push!(a,2)     # => [1,2]\n",
    "push!(a,4)     # => [1,2,4]\n",
    "push!(a,6)  "
   ]
  },
  {
   "cell_type": "code",
   "execution_count": 44,
   "id": "82df6b14",
   "metadata": {},
   "outputs": [
    {
     "data": {
      "text/plain": [
       "Float64[]"
      ]
     },
     "execution_count": 44,
     "metadata": {},
     "output_type": "execute_result"
    }
   ],
   "source": [
    "a = zeros(0)"
   ]
  },
  {
   "cell_type": "code",
   "execution_count": 45,
   "id": "a833db38",
   "metadata": {},
   "outputs": [
    {
     "data": {
      "text/plain": [
       "1-element Vector{Int32}:\n",
       " 0"
      ]
     },
     "execution_count": 45,
     "metadata": {},
     "output_type": "execute_result"
    }
   ],
   "source": [
    "a = zeros(Int32,1)"
   ]
  },
  {
   "cell_type": "code",
   "execution_count": 46,
   "id": "bb8521ef",
   "metadata": {},
   "outputs": [
    {
     "data": {
      "text/plain": [
       "3-element Vector{Float64}:\n",
       " 1.0\n",
       " 1.0\n",
       " 1.0"
      ]
     },
     "execution_count": 46,
     "metadata": {},
     "output_type": "execute_result"
    }
   ],
   "source": [
    "ones(3)"
   ]
  },
  {
   "cell_type": "code",
   "execution_count": 47,
   "id": "37f4c227",
   "metadata": {},
   "outputs": [
    {
     "data": {
      "text/plain": [
       "6×6 Matrix{Int64}:\n",
       " 5  5  5  5  5  5\n",
       " 5  5  5  5  5  5\n",
       " 5  5  5  5  5  5\n",
       " 5  5  5  5  5  5\n",
       " 5  5  5  5  5  5\n",
       " 5  5  5  5  5  5"
      ]
     },
     "execution_count": 47,
     "metadata": {},
     "output_type": "execute_result"
    }
   ],
   "source": [
    "fill(5, (6,6))"
   ]
  },
  {
   "cell_type": "markdown",
   "id": "147863dd",
   "metadata": {},
   "source": [
    "### Attention sur la conversion de type !"
   ]
  },
  {
   "cell_type": "code",
   "execution_count": 48,
   "id": "f2e0f4b0",
   "metadata": {},
   "outputs": [
    {
     "data": {
      "text/plain": [
       "5-element Vector{Int64}:\n",
       " 1\n",
       " 2\n",
       " 3\n",
       " 4\n",
       " 5"
      ]
     },
     "execution_count": 48,
     "metadata": {},
     "output_type": "execute_result"
    }
   ],
   "source": [
    "a = collect(1:5)"
   ]
  },
  {
   "cell_type": "code",
   "execution_count": 49,
   "id": "772bc175",
   "metadata": {},
   "outputs": [
    {
     "data": {
      "text/plain": [
       "3×2 Matrix{Float64}:\n",
       " 0.0  0.0\n",
       " 0.0  0.0\n",
       " 0.0  0.0"
      ]
     },
     "execution_count": 49,
     "metadata": {},
     "output_type": "execute_result"
    }
   ],
   "source": [
    "a = fill(0.,3,2)"
   ]
  },
  {
   "cell_type": "code",
   "execution_count": 50,
   "id": "e52df5a1",
   "metadata": {},
   "outputs": [
    {
     "data": {
      "text/plain": [
       "1.4142135623730951"
      ]
     },
     "execution_count": 50,
     "metadata": {},
     "output_type": "execute_result"
    }
   ],
   "source": [
    "a[2] = sqrt(2)"
   ]
  },
  {
   "cell_type": "code",
   "execution_count": 51,
   "id": "024cf693",
   "metadata": {},
   "outputs": [
    {
     "data": {
      "text/plain": [
       "3×2 Matrix{Float64}:\n",
       " 1.0      1.0\n",
       " 3.82843  1.0\n",
       " 1.0      1.0"
      ]
     },
     "execution_count": 51,
     "metadata": {},
     "output_type": "execute_result"
    }
   ],
   "source": [
    "a = map( x -> 2x+1 , a )"
   ]
  },
  {
   "cell_type": "code",
   "execution_count": 52,
   "id": "4a9f6684",
   "metadata": {},
   "outputs": [
    {
     "data": {
      "text/plain": [
       "3×2 Matrix{ComplexF64}:\n",
       "     1.0+0.0im  1.0+0.0im\n",
       " 3.82843+0.0im  1.0+0.0im\n",
       "     1.0+0.0im  1.0+0.0im"
      ]
     },
     "execution_count": 52,
     "metadata": {},
     "output_type": "execute_result"
    }
   ],
   "source": [
    "a = ComplexF64.(a)"
   ]
  },
  {
   "cell_type": "markdown",
   "id": "d2234b5b",
   "metadata": {},
   "source": [
    "## Algèbre linéaire\n",
    "\n",
    "On retrouve beaucoup (toutes) de fonctions usuelles de l'algèbre linéaire"
   ]
  },
  {
   "cell_type": "code",
   "execution_count": 53,
   "id": "5be98aca",
   "metadata": {},
   "outputs": [],
   "source": [
    "using LinearAlgebra"
   ]
  },
  {
   "cell_type": "code",
   "execution_count": 54,
   "id": "05e5ccfd",
   "metadata": {},
   "outputs": [
    {
     "data": {
      "text/plain": [
       "5×5 SymTridiagonal{Float64, Vector{Float64}}:\n",
       " 0.847034  0.307827    ⋅          ⋅         ⋅ \n",
       " 0.307827  0.898      0.0554185   ⋅         ⋅ \n",
       "  ⋅        0.0554185  0.825485   0.063353   ⋅ \n",
       "  ⋅         ⋅         0.063353   0.763637  0.134202\n",
       "  ⋅         ⋅          ⋅         0.134202  0.927218"
      ]
     },
     "execution_count": 54,
     "metadata": {},
     "output_type": "execute_result"
    }
   ],
   "source": [
    "A = SymTridiagonal(rand(5), rand(4))"
   ]
  },
  {
   "cell_type": "code",
   "execution_count": 55,
   "id": "2404da94",
   "metadata": {},
   "outputs": [
    {
     "data": {
      "text/plain": [
       "0.3750274106551066"
      ]
     },
     "execution_count": 55,
     "metadata": {},
     "output_type": "execute_result"
    }
   ],
   "source": [
    "det(A)"
   ]
  },
  {
   "cell_type": "code",
   "execution_count": 56,
   "id": "ba0d9c24",
   "metadata": {},
   "outputs": [
    {
     "data": {
      "text/plain": [
       "4.261373765642171"
      ]
     },
     "execution_count": 56,
     "metadata": {},
     "output_type": "execute_result"
    }
   ],
   "source": [
    "tr(A)"
   ]
  },
  {
   "cell_type": "code",
   "execution_count": 57,
   "id": "36b115f8",
   "metadata": {},
   "outputs": [
    {
     "data": {
      "text/plain": [
       "5-element Vector{Float64}:\n",
       " 0.5577547428227645\n",
       " 0.6695570133399208\n",
       " 0.839919198728379\n",
       " 1.007956036262465\n",
       " 1.1861867744886425"
      ]
     },
     "execution_count": 57,
     "metadata": {},
     "output_type": "execute_result"
    }
   ],
   "source": [
    "eigvals(A)"
   ]
  },
  {
   "cell_type": "code",
   "execution_count": 58,
   "id": "c1b91954",
   "metadata": {},
   "outputs": [
    {
     "data": {
      "text/plain": [
       "5-element Vector{Float64}:\n",
       " 0.5058104234190263\n",
       " 1.8567601832194116\n",
       " 3.1925664157211275\n",
       " 4.130619194095755\n",
       " 4.794623364454379"
      ]
     },
     "execution_count": 58,
     "metadata": {},
     "output_type": "execute_result"
    }
   ],
   "source": [
    "b = collect(1:5); #résolution du système Ax=b\n",
    "x = A \\ b "
   ]
  },
  {
   "cell_type": "markdown",
   "id": "27d12651",
   "metadata": {},
   "source": [
    "## Fonctions scientifiques et opérations\n",
    "\n",
    "L'usage des fonction scientifiques se fait termes à termes pour l'ensemble des valeurs du tableau (sauf pour les fonctions matricielles comme `exp`, <code>log</code> ...). L'usage des opérations <code>+</code>,<code>-</code>,<code>\\*</code>,<code>^</code>,<code>/</code> et `\\`(résolution) est disponible à condition de respecter les contraintes de dimension (multiplication matricielle par exemple). Sont ajouté des opérations termes à termes <code>.\\*</code>,<code>.^</code>,<code>./</code> et `.` toujours avec une contrainte de dimensions compatibles."
   ]
  },
  {
   "cell_type": "code",
   "execution_count": 59,
   "id": "e9013fad",
   "metadata": {},
   "outputs": [
    {
     "data": {
      "text/plain": [
       "2×2 Matrix{Float64}:\n",
       "  51.969   74.7366\n",
       " 112.105  164.074"
      ]
     },
     "execution_count": 59,
     "metadata": {},
     "output_type": "execute_result"
    }
   ],
   "source": [
    "A=[1 2;3 4]\n",
    "exp(A)"
   ]
  },
  {
   "cell_type": "code",
   "execution_count": 60,
   "id": "a07a3a89",
   "metadata": {},
   "outputs": [
    {
     "data": {
      "text/plain": [
       "2×2 Matrix{Float64}:\n",
       "  2.71828   7.38906\n",
       " 20.0855   54.5982"
      ]
     },
     "execution_count": 60,
     "metadata": {},
     "output_type": "execute_result"
    }
   ],
   "source": [
    "exp.(A) # exponentielle matricielle"
   ]
  },
  {
   "cell_type": "markdown",
   "id": "081b9b17",
   "metadata": {},
   "source": [
    "De plus les tableaux possèdes des opérations de multiplication, division, puissance termes à termes"
   ]
  },
  {
   "cell_type": "code",
   "execution_count": 61,
   "id": "662cbc5e",
   "metadata": {},
   "outputs": [
    {
     "data": {
      "text/plain": [
       "2×2 Matrix{Int64}:\n",
       "  7  10\n",
       " 15  22"
      ]
     },
     "execution_count": 61,
     "metadata": {},
     "output_type": "execute_result"
    }
   ],
   "source": [
    "A^2 #Multiplication Matricielle"
   ]
  },
  {
   "cell_type": "code",
   "execution_count": 62,
   "id": "c2aa105f",
   "metadata": {},
   "outputs": [
    {
     "data": {
      "text/plain": [
       "2×2 Matrix{Int64}:\n",
       " 1   4\n",
       " 9  16"
      ]
     },
     "execution_count": 62,
     "metadata": {},
     "output_type": "execute_result"
    }
   ],
   "source": [
    "A.^2 #Multiplication terme à terme"
   ]
  },
  {
   "cell_type": "code",
   "execution_count": 63,
   "id": "8bcbb304",
   "metadata": {},
   "outputs": [
    {
     "data": {
      "text/plain": [
       "2×2 Matrix{Float64}:\n",
       " 0.5   0.666667\n",
       " 0.75  0.8"
      ]
     },
     "execution_count": 63,
     "metadata": {},
     "output_type": "execute_result"
    }
   ],
   "source": [
    "A ./ [2 3 ; 4 5] #Division terme à terme "
   ]
  },
  {
   "cell_type": "code",
   "execution_count": 64,
   "id": "8b8cf523",
   "metadata": {},
   "outputs": [
    {
     "data": {
      "text/plain": [
       "2×2 Matrix{Float64}:\n",
       " 0.5  1.0\n",
       " 1.5  2.0"
      ]
     },
     "execution_count": 64,
     "metadata": {},
     "output_type": "execute_result"
    }
   ],
   "source": [
    "A./2"
   ]
  },
  {
   "cell_type": "markdown",
   "id": "00c1fe69",
   "metadata": {},
   "source": [
    "## Opérateurs booléens sur les tableaux"
   ]
  },
  {
   "cell_type": "code",
   "execution_count": 65,
   "id": "4f0349b7",
   "metadata": {},
   "outputs": [
    {
     "data": {
      "text/plain": [
       "5-element BitVector:\n",
       " 0\n",
       " 0\n",
       " 1\n",
       " 1\n",
       " 1"
      ]
     },
     "execution_count": 65,
     "metadata": {},
     "output_type": "execute_result"
    }
   ],
   "source": [
    "A = collect(1:5)\n",
    "A .> 2"
   ]
  },
  {
   "cell_type": "code",
   "execution_count": 66,
   "id": "a2535370",
   "metadata": {},
   "outputs": [
    {
     "data": {
      "text/plain": [
       "5-element BitVector:\n",
       " 1\n",
       " 0\n",
       " 0\n",
       " 0\n",
       " 0"
      ]
     },
     "execution_count": 66,
     "metadata": {},
     "output_type": "execute_result"
    }
   ],
   "source": [
    "collect(1:5) .> [0;2;3;4;5]"
   ]
  },
  {
   "cell_type": "code",
   "execution_count": 67,
   "id": "38370cbe",
   "metadata": {},
   "outputs": [
    {
     "data": {
      "text/plain": [
       "5×5 BitMatrix:\n",
       " 1  0  0  0  0\n",
       " 1  0  0  0  0\n",
       " 1  1  0  0  0\n",
       " 1  1  1  0  0\n",
       " 1  1  1  1  0"
      ]
     },
     "execution_count": 67,
     "metadata": {},
     "output_type": "execute_result"
    }
   ],
   "source": [
    "collect(1:5).>[0 2 3 4 5]"
   ]
  },
  {
   "cell_type": "markdown",
   "id": "68a8b724",
   "metadata": {},
   "source": [
    "## Particularité max, maximum, min, minimum"
   ]
  },
  {
   "cell_type": "code",
   "execution_count": 68,
   "id": "530405bd",
   "metadata": {},
   "outputs": [
    {
     "data": {
      "text/plain": [
       "3"
      ]
     },
     "execution_count": 68,
     "metadata": {},
     "output_type": "execute_result"
    }
   ],
   "source": [
    "max(2,3)"
   ]
  },
  {
   "cell_type": "code",
   "execution_count": 69,
   "id": "a292fe51",
   "metadata": {},
   "outputs": [
    {
     "data": {
      "text/plain": [
       "3"
      ]
     },
     "execution_count": 69,
     "metadata": {},
     "output_type": "execute_result"
    }
   ],
   "source": [
    "max(1,2,3)"
   ]
  },
  {
   "cell_type": "code",
   "execution_count": 70,
   "id": "fd0f0b27",
   "metadata": {},
   "outputs": [
    {
     "data": {
      "text/plain": [
       "5"
      ]
     },
     "execution_count": 70,
     "metadata": {},
     "output_type": "execute_result"
    }
   ],
   "source": [
    "max(1:5...)"
   ]
  },
  {
   "cell_type": "code",
   "execution_count": 71,
   "id": "4f8a4dbf",
   "metadata": {},
   "outputs": [
    {
     "name": "stdout",
     "output_type": "stream",
     "text": [
      "search: \u001b[0m\u001b[1mm\u001b[22m\u001b[0m\u001b[1ma\u001b[22m\u001b[0m\u001b[1mx\u001b[22m \u001b[0m\u001b[1mm\u001b[22m\u001b[0m\u001b[1ma\u001b[22m\u001b[0m\u001b[1mx\u001b[22mimum \u001b[0m\u001b[1mm\u001b[22m\u001b[0m\u001b[1ma\u001b[22m\u001b[0m\u001b[1mx\u001b[22mimum! \u001b[0m\u001b[1mm\u001b[22m\u001b[0m\u001b[1ma\u001b[22m\u001b[0m\u001b[1mx\u001b[22mintfloat arg\u001b[0m\u001b[1mm\u001b[22m\u001b[0m\u001b[1ma\u001b[22m\u001b[0m\u001b[1mx\u001b[22m eig\u001b[0m\u001b[1mm\u001b[22m\u001b[0m\u001b[1ma\u001b[22m\u001b[0m\u001b[1mx\u001b[22m Row\u001b[0m\u001b[1mM\u001b[22m\u001b[0m\u001b[1ma\u001b[22m\u001b[0m\u001b[1mx\u001b[22mimum type\u001b[0m\u001b[1mm\u001b[22m\u001b[0m\u001b[1ma\u001b[22m\u001b[0m\u001b[1mx\u001b[22m\n",
      "\n"
     ]
    },
    {
     "data": {
      "text/latex": [
       "\\begin{verbatim}\n",
       "max(x, y, ...)\n",
       "\\end{verbatim}\n",
       "Return the maximum of the arguments (with respect to \\href{@ref}{\\texttt{isless}}). See also the \\href{@ref}{\\texttt{maximum}} function to take the maximum element from a collection.\n",
       "\n",
       "\\section{Examples}\n",
       "\\begin{verbatim}\n",
       "julia> max(2, 5, 1)\n",
       "5\n",
       "\\end{verbatim}\n"
      ],
      "text/markdown": [
       "```\n",
       "max(x, y, ...)\n",
       "```\n",
       "\n",
       "Return the maximum of the arguments (with respect to [`isless`](@ref)). See also the [`maximum`](@ref) function to take the maximum element from a collection.\n",
       "\n",
       "# Examples\n",
       "\n",
       "```jldoctest\n",
       "julia> max(2, 5, 1)\n",
       "5\n",
       "```\n"
      ],
      "text/plain": [
       "\u001b[36m  max(x, y, ...)\u001b[39m\n",
       "\n",
       "  Return the maximum of the arguments (with respect to \u001b[36misless\u001b[39m). See also the\n",
       "  \u001b[36mmaximum\u001b[39m function to take the maximum element from a collection.\n",
       "\n",
       "\u001b[1m  Examples\u001b[22m\n",
       "\u001b[1m  ≡≡≡≡≡≡≡≡\u001b[22m\n",
       "\n",
       "\u001b[36m  julia> max(2, 5, 1)\u001b[39m\n",
       "\u001b[36m  5\u001b[39m"
      ]
     },
     "execution_count": 71,
     "metadata": {},
     "output_type": "execute_result"
    }
   ],
   "source": [
    "?max"
   ]
  },
  {
   "cell_type": "code",
   "execution_count": 72,
   "id": "5f0f379f",
   "metadata": {},
   "outputs": [
    {
     "data": {
      "text/plain": [
       "5-element Vector{Int64}:\n",
       " 2\n",
       " 3\n",
       " 4\n",
       " 5\n",
       " 6"
      ]
     },
     "execution_count": 72,
     "metadata": {},
     "output_type": "execute_result"
    }
   ],
   "source": [
    "max.(1:5,2:6)"
   ]
  },
  {
   "cell_type": "markdown",
   "id": "366399c6",
   "metadata": {},
   "source": [
    "## Constructeurs\n",
    "\n",
    "Enfin il est possible de construire rapidement certaines matrices"
   ]
  },
  {
   "cell_type": "code",
   "execution_count": 73,
   "id": "82c9fadb",
   "metadata": {},
   "outputs": [
    {
     "data": {
      "text/plain": [
       "2×3 Matrix{Float64}:\n",
       " 0.0  0.0  0.0\n",
       " 0.0  0.0  0.0"
      ]
     },
     "execution_count": 73,
     "metadata": {},
     "output_type": "execute_result"
    }
   ],
   "source": [
    "a = fill(0.,2,3) "
   ]
  },
  {
   "cell_type": "code",
   "execution_count": 74,
   "id": "2aae0c96",
   "metadata": {},
   "outputs": [
    {
     "data": {
      "text/plain": [
       "2-element Vector{Int64}:\n",
       " 2\n",
       " 2"
      ]
     },
     "execution_count": 74,
     "metadata": {},
     "output_type": "execute_result"
    }
   ],
   "source": [
    "a=fill(2,2)"
   ]
  },
  {
   "cell_type": "code",
   "execution_count": 75,
   "id": "2de9efd4",
   "metadata": {},
   "outputs": [
    {
     "data": {
      "text/plain": [
       "0.0:0.6981317007977318:6.283185307179586"
      ]
     },
     "execution_count": 75,
     "metadata": {},
     "output_type": "execute_result"
    }
   ],
   "source": [
    "b = range(0, stop=2pi, length=10)"
   ]
  },
  {
   "cell_type": "code",
   "execution_count": 76,
   "id": "76c8882a",
   "metadata": {},
   "outputs": [
    {
     "data": {
      "text/plain": [
       "10-element LinRange{Float64, Int64}:\n",
       " 0.0, 0.698132, 1.39626, 2.0944, …, 4.18879, 4.88692, 5.58505, 6.28319"
      ]
     },
     "execution_count": 76,
     "metadata": {},
     "output_type": "execute_result"
    }
   ],
   "source": [
    "c = LinRange(0, 2π, 10)"
   ]
  },
  {
   "cell_type": "code",
   "execution_count": 77,
   "id": "c0634f1c",
   "metadata": {},
   "outputs": [
    {
     "data": {
      "text/plain": [
       "10-element Vector{Float64}:\n",
       " 0.0\n",
       " 0.6981317007977318\n",
       " 1.3962634015954636\n",
       " 2.0943951023931953\n",
       " 2.792526803190927\n",
       " 3.490658503988659\n",
       " 4.1887902047863905\n",
       " 4.886921905584122\n",
       " 5.585053606381854\n",
       " 6.283185307179586"
      ]
     },
     "execution_count": 77,
     "metadata": {},
     "output_type": "execute_result"
    }
   ],
   "source": [
    "collect(b)"
   ]
  },
  {
   "cell_type": "code",
   "execution_count": 78,
   "id": "65e30d52",
   "metadata": {},
   "outputs": [
    {
     "data": {
      "text/plain": [
       "3-element Vector{Float64}:\n",
       " 1.0\n",
       " 1.0\n",
       " 1.0"
      ]
     },
     "execution_count": 78,
     "metadata": {},
     "output_type": "execute_result"
    }
   ],
   "source": [
    "A=ones(3)"
   ]
  },
  {
   "cell_type": "code",
   "execution_count": 79,
   "id": "e7214c5e",
   "metadata": {},
   "outputs": [
    {
     "data": {
      "text/plain": [
       "3-element Vector{Float64}:\n",
       " 0.0\n",
       " 0.0\n",
       " 0.0"
      ]
     },
     "execution_count": 79,
     "metadata": {},
     "output_type": "execute_result"
    }
   ],
   "source": [
    "A=zeros(3)"
   ]
  },
  {
   "cell_type": "code",
   "execution_count": 80,
   "id": "50c5873b",
   "metadata": {},
   "outputs": [
    {
     "data": {
      "text/plain": [
       "5-element Vector{Float64}:\n",
       " -1.2141570148792402\n",
       "  0.8728141561713048\n",
       " -0.4473225480452905\n",
       "  0.14532188192398446\n",
       " -0.8369753246696554"
      ]
     },
     "execution_count": 80,
     "metadata": {},
     "output_type": "execute_result"
    }
   ],
   "source": [
    "using Random\n",
    "\n",
    "rng = Xoshiro(111)\n",
    "\n",
    "B = randn(rng, 5) # loi normale centrée de variance 1"
   ]
  },
  {
   "cell_type": "code",
   "execution_count": 81,
   "id": "3d42031b",
   "metadata": {},
   "outputs": [
    {
     "data": {
      "text/plain": [
       "(-1.2141570148792402, 0.8728141561713048)"
      ]
     },
     "execution_count": 81,
     "metadata": {},
     "output_type": "execute_result"
    }
   ],
   "source": [
    "minimum(B), maximum(B)"
   ]
  },
  {
   "cell_type": "code",
   "execution_count": 82,
   "id": "5b6a41f5",
   "metadata": {},
   "outputs": [
    {
     "data": {
      "text/plain": [
       "(-1.2141570148792402, 0.8728141561713048)"
      ]
     },
     "execution_count": 82,
     "metadata": {},
     "output_type": "execute_result"
    }
   ],
   "source": [
    "extrema(B)"
   ]
  },
  {
   "cell_type": "code",
   "execution_count": 83,
   "id": "dea00805",
   "metadata": {},
   "outputs": [
    {
     "data": {
      "text/plain": [
       "3×4 Matrix{Float64}:\n",
       " 1.0  1.0  0.0  0.0\n",
       " 1.0  1.0  0.0  0.0\n",
       " 1.0  1.0  0.0  0.0"
      ]
     },
     "execution_count": 83,
     "metadata": {},
     "output_type": "execute_result"
    }
   ],
   "source": [
    "B = [ones(3,2) zeros(3,2)] # concaténation de tableaux"
   ]
  },
  {
   "cell_type": "code",
   "execution_count": 84,
   "id": "197361b8",
   "metadata": {},
   "outputs": [
    {
     "data": {
      "text/plain": [
       "3×4 Matrix{Float64}:\n",
       " 1.0  1.0  0.0  0.0\n",
       " 1.0  1.0  0.0  0.0\n",
       " 1.0  1.0  0.0  0.0"
      ]
     },
     "execution_count": 84,
     "metadata": {},
     "output_type": "execute_result"
    }
   ],
   "source": [
    "hcat(ones(3,2), zeros(3,2))"
   ]
  },
  {
   "cell_type": "code",
   "execution_count": 85,
   "id": "ee03f9c0",
   "metadata": {},
   "outputs": [
    {
     "data": {
      "text/plain": [
       "6×2 Matrix{Float64}:\n",
       " 1.0  1.0\n",
       " 1.0  1.0\n",
       " 1.0  1.0\n",
       " 0.0  0.0\n",
       " 0.0  0.0\n",
       " 0.0  0.0"
      ]
     },
     "execution_count": 85,
     "metadata": {},
     "output_type": "execute_result"
    }
   ],
   "source": [
    "B=[ones(3,2); zeros(3,2)] # , ou ; jouent le rôle de retour à la ligne"
   ]
  },
  {
   "cell_type": "code",
   "execution_count": 86,
   "id": "037ce48e",
   "metadata": {},
   "outputs": [
    {
     "data": {
      "text/plain": [
       "6×2 Matrix{Float64}:\n",
       " 1.0  1.0\n",
       " 1.0  1.0\n",
       " 1.0  1.0\n",
       " 0.0  0.0\n",
       " 0.0  0.0\n",
       " 0.0  0.0"
      ]
     },
     "execution_count": 86,
     "metadata": {},
     "output_type": "execute_result"
    }
   ],
   "source": [
    "vcat(ones(3,2), zeros(3,2))"
   ]
  },
  {
   "cell_type": "code",
   "execution_count": 87,
   "id": "78e4f20b",
   "metadata": {},
   "outputs": [
    {
     "data": {
      "text/plain": [
       "3×3 Diagonal{Float64, Vector{Float64}}:\n",
       " 1.0   ⋅    ⋅ \n",
       "  ⋅   1.0   ⋅ \n",
       "  ⋅    ⋅   1.0"
      ]
     },
     "execution_count": 87,
     "metadata": {},
     "output_type": "execute_result"
    }
   ],
   "source": [
    "C = Diagonal(ones(3,3))"
   ]
  },
  {
   "cell_type": "code",
   "execution_count": 88,
   "id": "5917a80b",
   "metadata": {},
   "outputs": [
    {
     "data": {
      "text/plain": [
       "SVD{Float64, Float64, Matrix{Float64}, Vector{Float64}}\n",
       "U factor:\n",
       "5×5 Matrix{Float64}:\n",
       " -0.463543  -0.293881   0.0810887   0.470752   -0.685987\n",
       " -0.37719   -0.31532    0.0182981  -0.849448   -0.190799\n",
       " -0.46022   -0.101653  -0.792201    0.144199    0.359845\n",
       " -0.463886   0.869596   0.0914905  -0.0901132  -0.110102\n",
       " -0.46461   -0.218351   0.597609    0.167082    0.592795\n",
       "singular values:\n",
       "5-element Vector{Float64}:\n",
       " 5.039741452325593\n",
       " 0.95604231508676\n",
       " 0.47342133951040216\n",
       " 0.09810077368527008\n",
       " 0.01592566168359706\n",
       "Vt factor:\n",
       "5×5 Matrix{Float64}:\n",
       " -0.463543   -0.37719    -0.46022   -0.463886   -0.46461\n",
       " -0.293881   -0.31532    -0.101653   0.869596   -0.218351\n",
       "  0.0810887   0.0182981  -0.792201   0.0914905   0.597609\n",
       "  0.470752   -0.849448    0.144199  -0.0901132   0.167082\n",
       " -0.685987   -0.190799    0.359845  -0.110102    0.592795"
      ]
     },
     "execution_count": 88,
     "metadata": {},
     "output_type": "execute_result"
    }
   ],
   "source": [
    "A = rand(5,5)\n",
    "\n",
    "U, D, Vt = svd(A'A)"
   ]
  },
  {
   "cell_type": "code",
   "execution_count": 89,
   "id": "a3f544ea",
   "metadata": {},
   "outputs": [
    {
     "data": {
      "text/plain": [
       "5×5 Matrix{Float64}:\n",
       " 1.19782   0.933319  1.07601   0.839931  1.17092\n",
       " 0.933319  0.883594  0.885522  0.628307  0.938472\n",
       " 1.07601   0.885522  1.37852   0.955203  0.880463\n",
       " 0.839931  0.628307  0.955203  1.81241   0.928034\n",
       " 1.17092   0.938472  0.880463  0.928034  1.31089"
      ]
     },
     "execution_count": 89,
     "metadata": {},
     "output_type": "execute_result"
    }
   ],
   "source": [
    "A'A"
   ]
  },
  {
   "cell_type": "code",
   "execution_count": 90,
   "id": "57db17a8",
   "metadata": {},
   "outputs": [
    {
     "data": {
      "text/plain": [
       "5×5 Matrix{Float64}:\n",
       " 1.15486  0.813783  -0.227291  -0.86153   1.65842\n",
       " 1.03096  0.581025  -0.175963  -0.630546  1.37203\n",
       " 1.27517  0.761444   0.111975  -1.0637    1.4765\n",
       " 0.7551   0.4132    -0.210532  -1.80001   1.46064\n",
       " 1.02194  0.737384  -0.410679  -0.884052  1.75168"
      ]
     },
     "execution_count": 90,
     "metadata": {},
     "output_type": "execute_result"
    }
   ],
   "source": [
    "U * Diagonal(D) * Vt "
   ]
  },
  {
   "cell_type": "code",
   "execution_count": 91,
   "id": "023277b3",
   "metadata": {},
   "outputs": [
    {
     "data": {
      "text/plain": [
       "3-element Vector{Float64}:\n",
       " 1.0\n",
       " 1.0\n",
       " 1.0"
      ]
     },
     "execution_count": 91,
     "metadata": {},
     "output_type": "execute_result"
    }
   ],
   "source": [
    "diag(C) # extraction d'une diagonale"
   ]
  },
  {
   "cell_type": "code",
   "execution_count": 92,
   "id": "ec909b38",
   "metadata": {},
   "outputs": [
    {
     "data": {
      "text/plain": [
       "3×3 Matrix{Float64}:\n",
       " 1.0  0.0  0.0\n",
       " 0.0  1.0  0.0\n",
       " 0.0  0.0  1.0"
      ]
     },
     "execution_count": 92,
     "metadata": {},
     "output_type": "execute_result"
    }
   ],
   "source": [
    "diagm(ones(3))"
   ]
  },
  {
   "cell_type": "code",
   "execution_count": 93,
   "id": "7e1c28ba",
   "metadata": {},
   "outputs": [
    {
     "data": {
      "text/plain": [
       "3×3 Matrix{Bool}:\n",
       " 1  0  0\n",
       " 0  1  0\n",
       " 0  0  1"
      ]
     },
     "execution_count": 93,
     "metadata": {},
     "output_type": "execute_result"
    }
   ],
   "source": [
    "Matrix(I, 3, 3)"
   ]
  },
  {
   "cell_type": "markdown",
   "id": "55cc408a",
   "metadata": {},
   "source": [
    "## type sparse\n",
    "\n",
    "Julia possède un type sparse i.e. des matrices creuses, ces dernières ayant un comportement identique aux matrices elles ne diffèrent que dans leur définition (et leur stockage)."
   ]
  },
  {
   "cell_type": "code",
   "execution_count": 94,
   "id": "b4e593ec",
   "metadata": {},
   "outputs": [],
   "source": [
    "using SparseArrays"
   ]
  },
  {
   "cell_type": "code",
   "execution_count": 95,
   "id": "861c4f33",
   "metadata": {},
   "outputs": [
    {
     "data": {
      "text/plain": [
       "3×3 SparseMatrixCSC{Float64, Int64} with 0 stored entries:\n",
       "  ⋅    ⋅    ⋅ \n",
       "  ⋅    ⋅    ⋅ \n",
       "  ⋅    ⋅    ⋅ "
      ]
     },
     "execution_count": 95,
     "metadata": {},
     "output_type": "execute_result"
    }
   ],
   "source": [
    "A = spzeros(3,3)"
   ]
  },
  {
   "cell_type": "code",
   "execution_count": 96,
   "id": "e98f74f5",
   "metadata": {},
   "outputs": [
    {
     "data": {
      "text/plain": [
       "3×3 SparseMatrixCSC{Int64, Int64} with 3 stored entries:\n",
       " 1  ⋅  ⋅\n",
       " ⋅  2  ⋅\n",
       " ⋅  ⋅  3"
      ]
     },
     "execution_count": 96,
     "metadata": {},
     "output_type": "execute_result"
    }
   ],
   "source": [
    "A = spdiagm(0 => 1:3)"
   ]
  },
  {
   "cell_type": "code",
   "execution_count": 97,
   "id": "2b402e15",
   "metadata": {},
   "outputs": [
    {
     "data": {
      "text/plain": [
       "3×3 SparseMatrixCSC{Int64, Int64} with 5 stored entries:\n",
       " 1  1  ⋅\n",
       " ⋅  2  2\n",
       " ⋅  ⋅  3"
      ]
     },
     "execution_count": 97,
     "metadata": {},
     "output_type": "execute_result"
    }
   ],
   "source": [
    "A = A + spdiagm(1 => 1:2)"
   ]
  },
  {
   "cell_type": "code",
   "execution_count": 98,
   "id": "da479995",
   "metadata": {},
   "outputs": [
    {
     "data": {
      "text/plain": [
       "([1, 1, 2, 2, 3], 5)"
      ]
     },
     "execution_count": 98,
     "metadata": {},
     "output_type": "execute_result"
    }
   ],
   "source": [
    "nonzeros(A), nnz(A)"
   ]
  },
  {
   "cell_type": "code",
   "execution_count": 99,
   "id": "5841d55e",
   "metadata": {},
   "outputs": [
    {
     "data": {
      "text/plain": [
       "2×3 SparseMatrixCSC{Int64, Int64} with 3 stored entries:\n",
       " ⋅  1  2\n",
       " 2  ⋅  ⋅"
      ]
     },
     "execution_count": 99,
     "metadata": {},
     "output_type": "execute_result"
    }
   ],
   "source": [
    "sparse([0 1 2; 2 0 0]) # pour rendre sparse une matrice \"full\""
   ]
  },
  {
   "cell_type": "code",
   "execution_count": 100,
   "id": "05cf6f70",
   "metadata": {},
   "outputs": [
    {
     "data": {
      "text/plain": [
       "6.0"
      ]
     },
     "execution_count": 100,
     "metadata": {},
     "output_type": "execute_result"
    }
   ],
   "source": [
    "det(A)"
   ]
  },
  {
   "cell_type": "markdown",
   "id": "f589f179",
   "metadata": {},
   "source": [
    "## Affectation et copie\n",
    "\n",
    "Attention julia à un mode de passage de valeur qui fonctionne différemment suivant une variable type ou un tableau.\n",
    "\n",
    "Pour une variable scalaire"
   ]
  },
  {
   "cell_type": "code",
   "execution_count": 101,
   "id": "4d918255",
   "metadata": {},
   "outputs": [
    {
     "data": {
      "text/plain": [
       "2"
      ]
     },
     "execution_count": 101,
     "metadata": {},
     "output_type": "execute_result"
    }
   ],
   "source": [
    "a = 1\n",
    "b = a\n",
    "b += 1"
   ]
  },
  {
   "cell_type": "code",
   "execution_count": 102,
   "id": "a8ef00a9",
   "metadata": {},
   "outputs": [
    {
     "data": {
      "text/plain": [
       "1"
      ]
     },
     "execution_count": 102,
     "metadata": {},
     "output_type": "execute_result"
    }
   ],
   "source": [
    "a"
   ]
  },
  {
   "cell_type": "code",
   "execution_count": 103,
   "id": "4e79f3db",
   "metadata": {},
   "outputs": [
    {
     "data": {
      "text/plain": [
       "2"
      ]
     },
     "execution_count": 103,
     "metadata": {},
     "output_type": "execute_result"
    }
   ],
   "source": [
    "b"
   ]
  },
  {
   "cell_type": "code",
   "execution_count": 104,
   "id": "b7d56fcb",
   "metadata": {},
   "outputs": [
    {
     "data": {
      "text/plain": [
       "1"
      ]
     },
     "execution_count": 104,
     "metadata": {},
     "output_type": "execute_result"
    }
   ],
   "source": [
    "a"
   ]
  },
  {
   "cell_type": "markdown",
   "id": "0be776ed",
   "metadata": {},
   "source": [
    "Par contre maintenant si la variable est un tableau"
   ]
  },
  {
   "cell_type": "code",
   "execution_count": 105,
   "id": "603c565e",
   "metadata": {},
   "outputs": [
    {
     "data": {
      "text/plain": [
       "5-element Vector{Int64}:\n",
       " 2\n",
       " 3\n",
       " 4\n",
       " 5\n",
       " 6"
      ]
     },
     "execution_count": 105,
     "metadata": {},
     "output_type": "execute_result"
    }
   ],
   "source": [
    "A = collect(1:5)\n",
    "B = A\n",
    "B .+= 1"
   ]
  },
  {
   "cell_type": "code",
   "execution_count": 106,
   "id": "a47a290c",
   "metadata": {},
   "outputs": [
    {
     "data": {
      "text/plain": [
       "5-element Vector{Int64}:\n",
       " 2\n",
       " 3\n",
       " 4\n",
       " 5\n",
       " 6"
      ]
     },
     "execution_count": 106,
     "metadata": {},
     "output_type": "execute_result"
    }
   ],
   "source": [
    "A"
   ]
  },
  {
   "cell_type": "code",
   "execution_count": 107,
   "id": "837b008c",
   "metadata": {},
   "outputs": [
    {
     "data": {
      "text/plain": [
       "5-element Vector{Int64}:\n",
       " 2\n",
       " 3\n",
       " 4\n",
       " 5\n",
       " 6"
      ]
     },
     "execution_count": 107,
     "metadata": {},
     "output_type": "execute_result"
    }
   ],
   "source": [
    "B"
   ]
  },
  {
   "cell_type": "markdown",
   "id": "41dad1b2",
   "metadata": {},
   "source": [
    "Pour avoir un comportement il faut copier le tableau A "
   ]
  },
  {
   "cell_type": "code",
   "execution_count": 108,
   "id": "0a607127",
   "metadata": {},
   "outputs": [
    {
     "data": {
      "text/plain": [
       "5-element Vector{Int64}:\n",
       " 2\n",
       " 3\n",
       " 4\n",
       " 5\n",
       " 6"
      ]
     },
     "execution_count": 108,
     "metadata": {},
     "output_type": "execute_result"
    }
   ],
   "source": [
    "A = collect(1:5)\n",
    "B = copy(A)\n",
    "B .= B .+ 1"
   ]
  },
  {
   "cell_type": "code",
   "execution_count": 109,
   "id": "359350bc",
   "metadata": {},
   "outputs": [
    {
     "data": {
      "text/plain": [
       "5-element Vector{Int64}:\n",
       " 1\n",
       " 2\n",
       " 3\n",
       " 4\n",
       " 5"
      ]
     },
     "execution_count": 109,
     "metadata": {},
     "output_type": "execute_result"
    }
   ],
   "source": [
    "A"
   ]
  },
  {
   "cell_type": "code",
   "execution_count": 110,
   "id": "0377fbae",
   "metadata": {},
   "outputs": [
    {
     "data": {
      "text/plain": [
       "5-element Vector{Int64}:\n",
       " 2\n",
       " 3\n",
       " 4\n",
       " 5\n",
       " 6"
      ]
     },
     "execution_count": 110,
     "metadata": {},
     "output_type": "execute_result"
    }
   ],
   "source": [
    "B"
   ]
  },
  {
   "cell_type": "markdown",
   "id": "306f04fe",
   "metadata": {},
   "source": [
    "Il faut faire attention à ce comportement lorsque l'on utilise des vecteurs de vecteurs"
   ]
  },
  {
   "cell_type": "code",
   "execution_count": 111,
   "id": "d756de8b",
   "metadata": {},
   "outputs": [
    {
     "data": {
      "text/plain": [
       "3-element Vector{Vector{Int64}}:\n",
       " [1, 2, 3, 4, 5]\n",
       " [1, 2, 3, 4, 5]\n",
       " [1, 2, 3, 4, 5]"
      ]
     },
     "execution_count": 111,
     "metadata": {},
     "output_type": "execute_result"
    }
   ],
   "source": [
    "vecs = [A for i in 1:3]\n"
   ]
  },
  {
   "cell_type": "code",
   "execution_count": 112,
   "id": "1309639e",
   "metadata": {},
   "outputs": [
    {
     "data": {
      "text/plain": [
       "3-element Vector{Vector{Int64}}:\n",
       " [2, 3, 4, 5, 6]\n",
       " [2, 3, 4, 5, 6]\n",
       " [2, 3, 4, 5, 6]"
      ]
     },
     "execution_count": 112,
     "metadata": {},
     "output_type": "execute_result"
    }
   ],
   "source": [
    "A .+= 1\n",
    "vecs"
   ]
  },
  {
   "cell_type": "markdown",
   "id": "787f4039",
   "metadata": {},
   "source": [
    "# Dictionnaire"
   ]
  },
  {
   "cell_type": "code",
   "execution_count": 113,
   "id": "dd9bcf08",
   "metadata": {},
   "outputs": [
    {
     "data": {
      "text/plain": [
       "Dict{Symbol, String} with 2 entries:\n",
       "  :key2 => \"val2\"\n",
       "  :key1 => \"val1\""
      ]
     },
     "execution_count": 113,
     "metadata": {},
     "output_type": "execute_result"
    }
   ],
   "source": [
    "d = Dict(:key1 => \"val1\", :key2 => \"val2\")"
   ]
  },
  {
   "cell_type": "code",
   "execution_count": 114,
   "id": "d65f4547",
   "metadata": {},
   "outputs": [
    {
     "data": {
      "text/plain": [
       "KeySet for a Dict{Symbol, String} with 2 entries. Keys:\n",
       "  :key2\n",
       "  :key1"
      ]
     },
     "execution_count": 114,
     "metadata": {},
     "output_type": "execute_result"
    }
   ],
   "source": [
    "keys(d) # Toutes clés (itérateur)"
   ]
  },
  {
   "cell_type": "code",
   "execution_count": 115,
   "id": "9fcc2ec2",
   "metadata": {},
   "outputs": [
    {
     "data": {
      "text/plain": [
       "ValueIterator for a Dict{Symbol, String} with 2 entries. Values:\n",
       "  \"val2\"\n",
       "  \"val1\""
      ]
     },
     "execution_count": 115,
     "metadata": {},
     "output_type": "execute_result"
    }
   ],
   "source": [
    "values(d) # Toutes valeurs (itérateur)"
   ]
  },
  {
   "cell_type": "code",
   "execution_count": 116,
   "id": "db65242b",
   "metadata": {},
   "outputs": [
    {
     "name": "stdout",
     "output_type": "stream",
     "text": [
      "key: key2, value: val2\n",
      "key: key1, value: val1\n"
     ]
    }
   ],
   "source": [
    "for (k,v) in d # Itérer par paire clé-valeur\n",
    "    println(\"key: $k, value: $v\")\n",
    "end"
   ]
  },
  {
   "cell_type": "code",
   "execution_count": 117,
   "id": "b87b7a90",
   "metadata": {},
   "outputs": [
    {
     "data": {
      "text/plain": [
       "false"
      ]
     },
     "execution_count": 117,
     "metadata": {},
     "output_type": "execute_result"
    }
   ],
   "source": [
    "haskey(d, :k) # Vérifier la présence de la clé :k"
   ]
  },
  {
   "cell_type": "markdown",
   "id": "728dd33b",
   "metadata": {},
   "source": [
    "Les dictionnaires sont muables; quand des symboles sont utilisés comme clés, les clés sont immuables."
   ]
  }
 ],
 "metadata": {
  "jupytext": {
   "cell_metadata_filter": "-all",
   "main_language": "julia",
   "notebook_metadata_filter": "-all"
  },
  "kernelspec": {
   "display_name": "Julia 1.10.0",
   "language": "julia",
   "name": "julia-1.10"
  },
  "language_info": {
   "file_extension": ".jl",
   "mimetype": "application/julia",
   "name": "julia",
   "version": "1.10.0"
  }
 },
 "nbformat": 4,
 "nbformat_minor": 5
}
