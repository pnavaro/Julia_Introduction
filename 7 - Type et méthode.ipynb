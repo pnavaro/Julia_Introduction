{
 "cells": [
  {
   "cell_type": "markdown",
   "metadata": {},
   "source": [
    "# Type et méthodes\n",
    "\n",
    "JULIA possède un système de type et de méthode qui lui confère une approche objet.\n",
    "La fonction typeof() renvoie le type d'une variable de base Int32, Float64... JULIA est conçu pour permettre facilement d'étendre l'environnement à de nouveaux type de variable.\n",
    "\n",
    "Le types sont organisés suivant un hiérarchie comme on peut le voir sur l'arborescence partielle ci-dessous\n",
    "\n",
    "(arborescence générée à l'aide de https://github.com/tanmaykm/julia_types/blob/master/julia_types.jl)"
   ]
  },
  {
   "cell_type": "raw",
   "metadata": {},
   "source": [
    "+- Any << abstract immutable size:0 >>\n",
    ".  +- Number << abstract immutable size:0 >>\n",
    ".  .  +- Complex128 = Complex{Float64} << concrete immutable pointerfree size:16 >>\n",
    ".  .  +- Complex = Complex{Float32} << concrete immutable pointerfree size:8 >>\n",
    ".  .  +- Complex64 = Complex{Float32} << concrete immutable pointerfree size:8 >>\n",
    ".  .  +- Complex32 = Complex{Float16} << concrete immutable pointerfree size:4 >>\n",
    ".  .  +- Real << abstract immutable size:0 >>\n",
    ".  .  .  +- Rational = Rational{T<:Integer} << concrete immutable size:16 >>\n",
    ".  .  .  +- FloatingPoint << abstract immutable size:0 >>\n",
    ".  .  .  .  +- Float32 << concrete immutable pointerfree size:4 >>\n",
    ".  .  .  .  +- BigFloat << concrete mutable pointerfree size:32 >>\n",
    ".  .  .  .  +- Float64 << concrete immutable pointerfree size:8 >>\n",
    ".  .  .  .  +- Float16 << concrete immutable pointerfree size:2 >>\n",
    ".  .  .  +- Integer << abstract immutable size:0 >>\n",
    ".  .  .  .  +- Signed << abstract immutable size:0 >>\n",
    ".  .  .  .  .  +- Int8 << concrete immutable pointerfree size:1 >>\n",
    ".  .  .  .  .  +- Int16 << concrete immutable pointerfree size:2 >>\n",
    ".  .  .  .  .  +- Int128 << concrete immutable pointerfree size:16 >>\n",
    ".  .  .  .  .  +- Int64 << concrete immutable pointerfree size:8 >>\n",
    ".  .  .  .  .  +- Int = Int64 << concrete immutable pointerfree size:8 >>\n",
    ".  .  .  .  .  +- Int32 << concrete immutable pointerfree size:4 >>\n",
    ".  .  .  .  +- BigInt << concrete mutable pointerfree size:16 >>\n",
    ".  .  .  .  +- Unsigned << abstract immutable size:0 >>\n",
    ".  .  .  .  .  +- Uint = Uint64 << concrete immutable pointerfree size:8 >>\n",
    ".  .  .  .  .  +- Uint8 << concrete immutable pointerfree size:1 >>\n",
    ".  .  .  .  .  +- Uint32 << concrete immutable pointerfree size:4 >>\n",
    ".  .  .  .  .  +- Uint16 << concrete immutable pointerfree size:2 >>\n",
    ".  .  .  .  .  +- Uint128 << concrete immutable pointerfree size:16 >>\n",
    ".  .  .  .  .  +- Uint64 << concrete immutable pointerfree size:8 >>\n"
   ]
  },
  {
   "cell_type": "markdown",
   "metadata": {},
   "source": [
    "Remarquez \"abstract\" et \"concrete\" dans cette arborescence.\n",
    "\n",
    "# Méthodes\n",
    "\n",
    "A chaque fonction est associée une méthode dépendante du type d'entrée comme dans ce qui suit suivant que l'entrée soit un entier ou pas."
   ]
  },
  {
   "cell_type": "code",
   "execution_count": 30,
   "metadata": {},
   "outputs": [
    {
     "data": {
      "text/plain": [
       "f (generic function with 2 methods)"
      ]
     },
     "execution_count": 30,
     "metadata": {},
     "output_type": "execute_result"
    }
   ],
   "source": [
    "function f(x::Any)\n",
    "    sin(x+1)\n",
    "end"
   ]
  },
  {
   "cell_type": "code",
   "execution_count": 31,
   "metadata": {},
   "outputs": [
    {
     "data": {
      "text/plain": [
       "f (generic function with 2 methods)"
      ]
     },
     "execution_count": 31,
     "metadata": {},
     "output_type": "execute_result"
    }
   ],
   "source": [
    "function f(n::Integer)\n",
    "    n\n",
    "end"
   ]
  },
  {
   "cell_type": "code",
   "execution_count": 32,
   "metadata": {},
   "outputs": [
    {
     "data": {
      "text/plain": [
       "-0.7568024953079282"
      ]
     },
     "execution_count": 32,
     "metadata": {},
     "output_type": "execute_result"
    }
   ],
   "source": [
    "f(3.0)"
   ]
  },
  {
   "cell_type": "code",
   "execution_count": 33,
   "metadata": {},
   "outputs": [
    {
     "data": {
      "text/plain": [
       "3"
      ]
     },
     "execution_count": 33,
     "metadata": {},
     "output_type": "execute_result"
    }
   ],
   "source": [
    "f(3)"
   ]
  },
  {
   "cell_type": "code",
   "execution_count": 34,
   "metadata": {},
   "outputs": [
    {
     "data": {
      "text/plain": [
       "1.2984575814159773 + 0.6349639147847361im"
      ]
     },
     "execution_count": 34,
     "metadata": {},
     "output_type": "execute_result"
    }
   ],
   "source": [
    "f(im)"
   ]
  },
  {
   "cell_type": "code",
   "execution_count": 35,
   "metadata": {},
   "outputs": [
    {
     "data": {
      "text/plain": [
       "-2"
      ]
     },
     "execution_count": 35,
     "metadata": {},
     "output_type": "execute_result"
    }
   ],
   "source": [
    "f(-2)"
   ]
  },
  {
   "cell_type": "code",
   "execution_count": 37,
   "metadata": {},
   "outputs": [
    {
     "data": {
      "text/plain": [
       "+ (generic function with 163 methods)"
      ]
     },
     "execution_count": 37,
     "metadata": {},
     "output_type": "execute_result"
    }
   ],
   "source": [
    "+"
   ]
  },
  {
   "cell_type": "code",
   "execution_count": 38,
   "metadata": {},
   "outputs": [
    {
     "data": {
      "text/plain": [
       "3"
      ]
     },
     "execution_count": 38,
     "metadata": {},
     "output_type": "execute_result"
    }
   ],
   "source": [
    "+(1,2)"
   ]
  },
  {
   "cell_type": "code",
   "execution_count": 15,
   "metadata": {},
   "outputs": [
    {
     "ename": "UndefVarError",
     "evalue": "UndefVarError: gamma not defined",
     "output_type": "error",
     "traceback": [
      "UndefVarError: gamma not defined",
      "",
      "Stacktrace:",
      " [1] f(::Float64) at ./In[7]:2",
      " [2] top-level scope at In[15]:1"
     ]
    }
   ],
   "source": [
    "f(sqrt(2))"
   ]
  },
  {
   "cell_type": "markdown",
   "metadata": {},
   "source": [
    "# Construction d'un nouveau Type de variable\n",
    "\n",
    "En premier lieu il faut définir un type abstrait puis une instance sous-hiérarchiquement concrète :"
   ]
  },
  {
   "cell_type": "code",
   "execution_count": 58,
   "metadata": {},
   "outputs": [
    {
     "ename": "ErrorException",
     "evalue": "invalid redefinition of constant Grid1d",
     "output_type": "error",
     "traceback": [
      "invalid redefinition of constant Grid1d",
      "",
      "Stacktrace:",
      " [1] top-level scope at none:0"
     ]
    }
   ],
   "source": [
    "abstract type Grid end # juste en dessous de Any\n",
    "mutable struct Grid1d <: Grid\n",
    "    debut::Float64\n",
    "    fin::Float64\n",
    "    n::Int32\n",
    "end"
   ]
  },
  {
   "cell_type": "code",
   "execution_count": 40,
   "metadata": {},
   "outputs": [
    {
     "data": {
      "text/plain": [
       "Grid1d(0.0, 1.0, 2)"
      ]
     },
     "execution_count": 40,
     "metadata": {},
     "output_type": "execute_result"
    }
   ],
   "source": [
    "a=Grid1d(0,1,2)"
   ]
  },
  {
   "cell_type": "code",
   "execution_count": 41,
   "metadata": {},
   "outputs": [
    {
     "data": {
      "text/plain": [
       "0.0"
      ]
     },
     "execution_count": 41,
     "metadata": {},
     "output_type": "execute_result"
    }
   ],
   "source": [
    "a.debut"
   ]
  },
  {
   "cell_type": "code",
   "execution_count": 42,
   "metadata": {},
   "outputs": [
    {
     "data": {
      "text/plain": [
       "1.0"
      ]
     },
     "execution_count": 42,
     "metadata": {},
     "output_type": "execute_result"
    }
   ],
   "source": [
    "a.fin"
   ]
  },
  {
   "cell_type": "code",
   "execution_count": 43,
   "metadata": {},
   "outputs": [
    {
     "data": {
      "text/plain": [
       "2"
      ]
     },
     "execution_count": 43,
     "metadata": {},
     "output_type": "execute_result"
    }
   ],
   "source": [
    "a.n"
   ]
  },
  {
   "cell_type": "markdown",
   "metadata": {},
   "source": [
    "# Surcharge des opérateurs\n",
    "\n",
    "La surcharge des opérations usuelles se fait en définissant une nouvelle méthode associé au nouveau type pour chaque opérateur, commençons par surcharger l'affichage à l'écran de notre nouveau type. Pour cela on va ajouter une méthode à la fonction \"show\""
   ]
  },
  {
   "cell_type": "code",
   "execution_count": 44,
   "metadata": {},
   "outputs": [],
   "source": [
    "function Base.show(io::IO,g::Grid1d)\n",
    "    print(io, \"Grid 1d : début $(g.debut) , fin $(g.fin) , $(g.n) éléments\\n\")\n",
    "end"
   ]
  },
  {
   "cell_type": "code",
   "execution_count": 45,
   "metadata": {},
   "outputs": [
    {
     "name": "stdout",
     "output_type": "stream",
     "text": [
      "Grid 1d : début 0.0 , fin 1.0 , 2 éléments\n"
     ]
    }
   ],
   "source": [
    "Base.show(a)"
   ]
  },
  {
   "cell_type": "code",
   "execution_count": 47,
   "metadata": {},
   "outputs": [
    {
     "name": "stdout",
     "output_type": "stream",
     "text": [
      "Grid 1d : début 0.0 , fin 1.0 , 2 éléments\n",
      "\n"
     ]
    }
   ],
   "source": [
    "println(a)"
   ]
  },
  {
   "cell_type": "code",
   "execution_count": 48,
   "metadata": {},
   "outputs": [
    {
     "data": {
      "text/plain": [
       "Grid 1d : début 0.0 , fin 1.0 , 2 éléments\n"
      ]
     },
     "execution_count": 48,
     "metadata": {},
     "output_type": "execute_result"
    }
   ],
   "source": [
    "a"
   ]
  },
  {
   "cell_type": "markdown",
   "metadata": {},
   "source": [
    "## Addition, soustraction ...\n",
    "\n",
    "Ces fonctions sont de la forme +(), -() c'est à dire"
   ]
  },
  {
   "cell_type": "code",
   "execution_count": 55,
   "metadata": {},
   "outputs": [
    {
     "data": {
      "text/plain": [
       "+ (generic function with 164 methods)"
      ]
     },
     "execution_count": 55,
     "metadata": {},
     "output_type": "execute_result"
    }
   ],
   "source": [
    "import Base:+\n",
    "function +(g::Grid1d,n::Integer)\n",
    "    g.n +=n\n",
    "    return g\n",
    "end"
   ]
  },
  {
   "cell_type": "code",
   "execution_count": 56,
   "metadata": {},
   "outputs": [
    {
     "data": {
      "text/plain": [
       "Grid 1d : début 0.0 , fin 1.0 , 2 éléments\n"
      ]
     },
     "execution_count": 56,
     "metadata": {},
     "output_type": "execute_result"
    }
   ],
   "source": [
    "a=Grid1d(0,1,2)"
   ]
  },
  {
   "cell_type": "code",
   "execution_count": 57,
   "metadata": {},
   "outputs": [
    {
     "data": {
      "text/plain": [
       "Grid 1d : début 0.0 , fin 1.0 , 4 éléments\n"
      ]
     },
     "execution_count": 57,
     "metadata": {},
     "output_type": "execute_result"
    }
   ],
   "source": [
    "a+2"
   ]
  },
  {
   "cell_type": "code",
   "execution_count": 60,
   "metadata": {},
   "outputs": [
    {
     "data": {
      "text/plain": [
       "Grid 1d : début 0.0 , fin 1.0 , 5 éléments\n"
      ]
     },
     "execution_count": 60,
     "metadata": {},
     "output_type": "execute_result"
    }
   ],
   "source": [
    "a+=1"
   ]
  },
  {
   "cell_type": "markdown",
   "metadata": {},
   "source": [
    "Attention l'addition n'est pas forcément commutative !"
   ]
  },
  {
   "cell_type": "code",
   "execution_count": 61,
   "metadata": {},
   "outputs": [
    {
     "ename": "MethodError",
     "evalue": "MethodError: no method matching +(::Int64, ::Grid1d)\nClosest candidates are:\n  +(::Any, ::Any, !Matched::Any, !Matched::Any...) at operators.jl:502\n  +(::T<:Union{Int128, Int16, Int32, Int64, Int8, UInt128, UInt16, UInt32, UInt64, UInt8}, !Matched::T<:Union{Int128, Int16, Int32, Int64, Int8, UInt128, UInt16, UInt32, UInt64, UInt8}) where T<:Union{Int128, Int16, Int32, Int64, Int8, UInt128, UInt16, UInt32, UInt64, UInt8} at int.jl:53\n  +(::Union{Int16, Int32, Int64, Int8}, !Matched::BigInt) at gmp.jl:447\n  ...",
     "output_type": "error",
     "traceback": [
      "MethodError: no method matching +(::Int64, ::Grid1d)\nClosest candidates are:\n  +(::Any, ::Any, !Matched::Any, !Matched::Any...) at operators.jl:502\n  +(::T<:Union{Int128, Int16, Int32, Int64, Int8, UInt128, UInt16, UInt32, UInt64, UInt8}, !Matched::T<:Union{Int128, Int16, Int32, Int64, Int8, UInt128, UInt16, UInt32, UInt64, UInt8}) where T<:Union{Int128, Int16, Int32, Int64, Int8, UInt128, UInt16, UInt32, UInt64, UInt8} at int.jl:53\n  +(::Union{Int16, Int32, Int64, Int8}, !Matched::BigInt) at gmp.jl:447\n  ...",
      "",
      "Stacktrace:",
      " [1] top-level scope at In[61]:1"
     ]
    }
   ],
   "source": [
    "2+a"
   ]
  },
  {
   "cell_type": "markdown",
   "metadata": {},
   "source": [
    "ni unaire !"
   ]
  },
  {
   "cell_type": "code",
   "execution_count": 63,
   "metadata": {},
   "outputs": [
    {
     "ename": "MethodError",
     "evalue": "MethodError: no method matching -(::Grid1d)\nClosest candidates are:\n  -(!Matched::Bool, !Matched::Complex{Bool}) at complex.jl:279\n  -(!Matched::Bool, !Matched::Bool) at bool.jl:105\n  -(!Matched::Bool) at bool.jl:102\n  ...",
     "output_type": "error",
     "traceback": [
      "MethodError: no method matching -(::Grid1d)\nClosest candidates are:\n  -(!Matched::Bool, !Matched::Complex{Bool}) at complex.jl:279\n  -(!Matched::Bool, !Matched::Bool) at bool.jl:105\n  -(!Matched::Bool) at bool.jl:102\n  ...",
      "",
      "Stacktrace:",
      " [1] top-level scope at In[63]:1"
     ]
    }
   ],
   "source": [
    "-a"
   ]
  },
  {
   "cell_type": "markdown",
   "metadata": {},
   "source": [
    "Notez le message d'erreur qui est très claire !"
   ]
  },
  {
   "cell_type": "code",
   "execution_count": 64,
   "metadata": {},
   "outputs": [
    {
     "ename": "MethodError",
     "evalue": "MethodError: no method matching +(::Grid1d, ::Array{Int64,1})\nClosest candidates are:\n  +(::Any, ::Any, !Matched::Any, !Matched::Any...) at operators.jl:502\n  +(::Grid1d, !Matched::Integer) at In[55]:3\n  +(!Matched::Array, ::Array...) at arraymath.jl:44\n  ...",
     "output_type": "error",
     "traceback": [
      "MethodError: no method matching +(::Grid1d, ::Array{Int64,1})\nClosest candidates are:\n  +(::Any, ::Any, !Matched::Any, !Matched::Any...) at operators.jl:502\n  +(::Grid1d, !Matched::Integer) at In[55]:3\n  +(!Matched::Array, ::Array...) at arraymath.jl:44\n  ...",
      "",
      "Stacktrace:",
      " [1] top-level scope at In[64]:1"
     ]
    }
   ],
   "source": [
    "a+[1,2]"
   ]
  },
  {
   "cell_type": "markdown",
   "metadata": {},
   "source": [
    "## Autres surcharges\n",
    "\n",
    "Toutes les fonctions usuelles sont surchargeable sans limite : size(); det() ..."
   ]
  },
  {
   "cell_type": "code",
   "execution_count": 65,
   "metadata": {},
   "outputs": [],
   "source": [
    "function Base.size(g::Grid)\n",
    "    return g.n\n",
    "end"
   ]
  },
  {
   "cell_type": "code",
   "execution_count": 66,
   "metadata": {},
   "outputs": [
    {
     "data": {
      "text/plain": [
       "5"
      ]
     },
     "execution_count": 66,
     "metadata": {},
     "output_type": "execute_result"
    }
   ],
   "source": [
    "size(a)"
   ]
  },
  {
   "cell_type": "code",
   "execution_count": 67,
   "metadata": {},
   "outputs": [
    {
     "ename": "UndefVarError",
     "evalue": "UndefVarError: det not defined",
     "output_type": "error",
     "traceback": [
      "UndefVarError: det not defined",
      "",
      "Stacktrace:",
      " [1] getproperty(::Module, ::Symbol) at ./sysimg.jl:13",
      " [2] top-level scope at In[67]:1"
     ]
    }
   ],
   "source": [
    "function Base.det(g::Grid1d)\n",
    "    g.fin-g.debut\n",
    "end "
   ]
  },
  {
   "cell_type": "code",
   "execution_count": 27,
   "metadata": {},
   "outputs": [
    {
     "data": {
      "text/plain": [
       "1.0"
      ]
     },
     "execution_count": 27,
     "metadata": {},
     "output_type": "execute_result"
    }
   ],
   "source": [
    "det(a)"
   ]
  },
  {
   "cell_type": "markdown",
   "metadata": {},
   "source": [
    "# Type et constructeurs\n",
    "\n",
    "Chaque langage \"objet\" définit un constructeur pour ces objets. Nous avons déjà utiliser un constructeur générique qui rempli chaque champ du nouveau type. Il est possible de faire une variante suivant le nombre d'arguments d'entrée et de leur type "
   ]
  },
  {
   "cell_type": "code",
   "execution_count": 28,
   "metadata": {},
   "outputs": [
    {
     "name": "stderr",
     "output_type": "stream",
     "text": [
      "\n",
      "WARNING: deprecated syntax \"abstract Grid\" at In[28]:2.\n",
      "Use \"abstract type Grid end\" instead.\n"
     ]
    }
   ],
   "source": [
    "abstract Grid # juste en dessous de Any\n",
    "type Grid1d <: Grid\n",
    "    debut::Float64\n",
    "    fin::Float64\n",
    "    n::Int32\n",
    "    \n",
    "    # constructeurs par défaut sans argument\n",
    "    function Grid1d()\n",
    "        new(0,0,0)\n",
    "    end\n",
    "    \n",
    "    # constructeurs par défaut avec argument\n",
    "    function Grid1d(a,b,c)\n",
    "        if c<=0\n",
    "            error(\"pas possible\")\n",
    "        else\n",
    "            new(a,b,c)\n",
    "        end\n",
    "    end\n",
    "end"
   ]
  },
  {
   "cell_type": "code",
   "execution_count": 29,
   "metadata": {},
   "outputs": [
    {
     "ename": "LoadError",
     "evalue": "\u001b[91mpas possible\u001b[39m",
     "output_type": "error",
     "traceback": [
      "\u001b[91mpas possible\u001b[39m",
      "",
      "Stacktrace:",
      " [1] \u001b[1mGrid1d\u001b[22m\u001b[22m\u001b[1m(\u001b[22m\u001b[22m::Int64, ::Int64, ::Int64\u001b[1m)\u001b[22m\u001b[22m at \u001b[1m./In[28]:15\u001b[22m\u001b[22m",
      " [2] \u001b[1minclude_string\u001b[22m\u001b[22m\u001b[1m(\u001b[22m\u001b[22m::String, ::String\u001b[1m)\u001b[22m\u001b[22m at \u001b[1m./loading.jl:515\u001b[22m\u001b[22m"
     ]
    }
   ],
   "source": [
    "b=Grid1d(0,1,-1)"
   ]
  },
  {
   "cell_type": "markdown",
   "metadata": {
    "collapsed": true
   },
   "source": [
    "Il devient possible de déterminer un constructeurs pour différentes entrées.\n",
    "\n",
    "Il faut au préalable bien penser sa hiérarchie de type et écrire autant de fonctions constructeurs que de cas d'initialisation du nouveau type."
   ]
  },
  {
   "cell_type": "markdown",
   "metadata": {},
   "source": [
    "# Les Itérateurs\n",
    "\n",
    "Il est possible sur un type nouveau de définir un itérateur, comme ici de parcourrir les points de la grille, définissons (surchargeons) de nouvelles fonctions ou plutôt méthodes : "
   ]
  },
  {
   "cell_type": "code",
   "execution_count": 68,
   "metadata": {},
   "outputs": [
    {
     "ename": "UndefVarError",
     "evalue": "UndefVarError: start not defined",
     "output_type": "error",
     "traceback": [
      "UndefVarError: start not defined",
      "",
      "Stacktrace:",
      " [1] getproperty(::Module, ::Symbol) at ./sysimg.jl:13",
      " [2] top-level scope at In[68]:1"
     ]
    }
   ],
   "source": [
    "Base.start(a::Grid1d) = 1\n",
    "\n",
    "function Base.next(a::Grid1d, state)\n",
    "    if state == 1\n",
    "        return (a.debut,2)\n",
    "    else\n",
    "        return (a.debut+(a.fin-a.debut)*(state-1)/a.n , state+1)\n",
    "    end\n",
    "end\n",
    "\n",
    "Base.done(a::Grid1d, state) = state > a.n +1\n",
    "\n"
   ]
  },
  {
   "cell_type": "code",
   "execution_count": 31,
   "metadata": {},
   "outputs": [
    {
     "data": {
      "text/plain": [
       "Grid 1d : début 0.0 , fin 1.0 , 10 éléments\n"
      ]
     },
     "execution_count": 31,
     "metadata": {},
     "output_type": "execute_result"
    }
   ],
   "source": [
    "a=Grid1d(0,1,10)"
   ]
  },
  {
   "cell_type": "code",
   "execution_count": 32,
   "metadata": {},
   "outputs": [
    {
     "data": {
      "text/plain": [
       "1"
      ]
     },
     "execution_count": 32,
     "metadata": {},
     "output_type": "execute_result"
    }
   ],
   "source": [
    "start(a)"
   ]
  },
  {
   "cell_type": "code",
   "execution_count": 33,
   "metadata": {},
   "outputs": [
    {
     "data": {
      "text/plain": [
       "(-0.1, 1)"
      ]
     },
     "execution_count": 33,
     "metadata": {},
     "output_type": "execute_result"
    }
   ],
   "source": [
    "next(a,0)"
   ]
  },
  {
   "cell_type": "code",
   "execution_count": 34,
   "metadata": {},
   "outputs": [
    {
     "name": "stdout",
     "output_type": "stream",
     "text": [
      "0.0\n",
      "0.1\n",
      "0.2\n",
      "0.3\n",
      "0.4\n",
      "0.5\n",
      "0.6\n",
      "0.7\n",
      "0.8\n",
      "0.9\n",
      "1.0\n"
     ]
    }
   ],
   "source": [
    "for i in a\n",
    "    println(i)\n",
    "end"
   ]
  },
  {
   "cell_type": "markdown",
   "metadata": {},
   "source": [
    "Il devient possible de construire des itérateurs sur une grille 2d, 3d renvoyant les coordonnées des points de la grille... Mais on peut imaginer sur une triangulation etc... "
   ]
  }
 ],
 "metadata": {
  "jupytext": {
   "formats": "ipynb,jl:light"
  },
  "kernelspec": {
   "display_name": "Julia 1.1.0",
   "language": "julia",
   "name": "julia-1.1"
  },
  "language_info": {
   "file_extension": ".jl",
   "mimetype": "application/julia",
   "name": "julia",
   "version": "1.1.0"
  }
 },
 "nbformat": 4,
 "nbformat_minor": 1
}
