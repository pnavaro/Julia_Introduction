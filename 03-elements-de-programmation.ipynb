{
 "cells": [
  {
   "cell_type": "markdown",
   "id": "bff0cb64",
   "metadata": {},
   "source": [
    "# Eléments de programmation\n",
    "\n",
    "Pour mener à bien un calcul algorithmique le nombre d'éléments de langage n'est pas très important et peut se résumer aux 3 syntaxes suivantes\n",
    "\n",
    "* Le choix conditionnel **if**-**elseif**-**else**-**end**.\n",
    "* La boucle **for**-**end**.\n",
    "* La boucle **while**-**end**"
   ]
  },
  {
   "cell_type": "markdown",
   "id": "7c262cd5",
   "metadata": {},
   "source": [
    "# if ... elseif ... else ... end\n",
    "\n",
    "Un choix simple si le test est vrai (k==1) alors le bloc d'instruction est évalué\n",
    "<!-- #endregion -->"
   ]
  },
  {
   "cell_type": "code",
   "execution_count": 1,
   "id": "112e7468",
   "metadata": {},
   "outputs": [
    {
     "name": "stdout",
     "output_type": "stream",
     "text": [
      "k=1\n"
     ]
    }
   ],
   "source": [
    "k = 1\n",
    "if k == 1\n",
    "    println(\"k=1\")\n",
    "end"
   ]
  },
  {
   "cell_type": "markdown",
   "id": "d23fb504",
   "metadata": {},
   "source": [
    "en Julia une autre syntaxe est possible avec"
   ]
  },
  {
   "cell_type": "code",
   "execution_count": 2,
   "id": "76e678c6",
   "metadata": {},
   "outputs": [
    {
     "name": "stdout",
     "output_type": "stream",
     "text": [
      "k=1\n"
     ]
    }
   ],
   "source": [
    "k == 1 && println(\"k=1\")"
   ]
  },
  {
   "cell_type": "markdown",
   "id": "a0bd27da",
   "metadata": {},
   "source": [
    "Le **else** permet de donner un résultat par défaut..."
   ]
  },
  {
   "cell_type": "code",
   "execution_count": 3,
   "id": "3d32cd25",
   "metadata": {},
   "outputs": [
    {
     "name": "stdout",
     "output_type": "stream",
     "text": [
      "k ≠ 1\n"
     ]
    }
   ],
   "source": [
    "using Random\n",
    "k = rand(1:2)\n",
    "if k != 1\n",
    "    println(\"k ≠ 1\")\n",
    "else\n",
    "    println(\"k=1\")\n",
    "end"
   ]
  },
  {
   "cell_type": "markdown",
   "id": "c733da49",
   "metadata": {},
   "source": [
    "Une succession de **elseif** permet de choisir parmi plusieurs critères, dans la succession des blocs de **if** et **elseif** le premier qui est \"vrai\" est évaluer et l'instruction s'arrète."
   ]
  },
  {
   "cell_type": "code",
   "execution_count": 4,
   "id": "c01e9390",
   "metadata": {},
   "outputs": [
    {
     "name": "stdout",
     "output_type": "stream",
     "text": [
      "k = rand(1:3) = 2\n",
      "k>1\n"
     ]
    }
   ],
   "source": [
    "@show k = rand(1:3)\n",
    "if k==1\n",
    "    println(\"k=1\")\n",
    "elseif k>1\n",
    "    println(\"k>1\")\n",
    "else \n",
    "    println(\"k<1\")\n",
    "end"
   ]
  },
  {
   "cell_type": "markdown",
   "id": "dd9ff957",
   "metadata": {},
   "source": [
    "# La boucle for\n",
    "\n",
    "Elle peut se définir à l'aide d'itérateurs ou de tableaux de valeurs les syntaxes \"=\" , \"in\" ou \"$\\in$\" sont équivalentes"
   ]
  },
  {
   "cell_type": "code",
   "execution_count": 5,
   "id": "8b37833c",
   "metadata": {},
   "outputs": [
    {
     "name": "stdout",
     "output_type": "stream",
     "text": [
      "1\n",
      "2\n",
      "3\n",
      "4\n",
      "5\n",
      "6\n",
      "7\n",
      "8\n",
      "9\n",
      "10\n"
     ]
    }
   ],
   "source": [
    "for i = 1:10\n",
    "    println(i)\n",
    "end"
   ]
  },
  {
   "cell_type": "code",
   "execution_count": 6,
   "id": "28ffd672",
   "metadata": {},
   "outputs": [
    {
     "name": "stdout",
     "output_type": "stream",
     "text": [
      "String\n",
      "Int64\n",
      "Complex{Bool}\n"
     ]
    }
   ],
   "source": [
    "for i in [\"un\" 2 im]\n",
    "    println(typeof(i))\n",
    "end"
   ]
  },
  {
   "cell_type": "code",
   "execution_count": 7,
   "id": "1e8c8f0c",
   "metadata": {},
   "outputs": [
    {
     "data": {
      "text/plain": [
       "3-element Vector{DataType}:\n",
       " String\n",
       " Int64\n",
       " Complex{Bool}"
      ]
     },
     "execution_count": 7,
     "metadata": {},
     "output_type": "execute_result"
    }
   ],
   "source": [
    "typeof.([\"un\", 2, im])"
   ]
  },
  {
   "cell_type": "code",
   "execution_count": 8,
   "id": "16ca7141",
   "metadata": {},
   "outputs": [
    {
     "data": {
      "text/plain": [
       "Any"
      ]
     },
     "execution_count": 8,
     "metadata": {},
     "output_type": "execute_result"
    }
   ],
   "source": [
    "eltype([\"un\" 2 im])"
   ]
  },
  {
   "cell_type": "markdown",
   "id": "39e235a2",
   "metadata": {},
   "source": [
    "La commande **break** permet de sortir d'une boucle à tout moment"
   ]
  },
  {
   "cell_type": "code",
   "execution_count": 9,
   "id": "f73e70ba",
   "metadata": {},
   "outputs": [
    {
     "name": "stdout",
     "output_type": "stream",
     "text": [
      "1\n",
      "2\n",
      "3\n",
      "4\n",
      "5\n"
     ]
    }
   ],
   "source": [
    "for i = 1:1000\n",
    "    println(i)\n",
    "    if i >= 5\n",
    "       break\n",
    "    end\n",
    "end"
   ]
  },
  {
   "cell_type": "markdown",
   "id": "ca2c26fd",
   "metadata": {},
   "source": [
    "La commande **continue** permet elle de courtcircuiter la boucle en court et de passer à la valeur suivante"
   ]
  },
  {
   "cell_type": "code",
   "execution_count": 10,
   "id": "35393c05",
   "metadata": {},
   "outputs": [
    {
     "name": "stdout",
     "output_type": "stream",
     "text": [
      "3\n",
      "6\n",
      "9\n"
     ]
    }
   ],
   "source": [
    "for i = 1:10\n",
    "    if i % 3 != 0 # i modulo 3 different de 0\n",
    "        continue\n",
    "    end\n",
    "    println(i)\n",
    "end"
   ]
  },
  {
   "cell_type": "markdown",
   "id": "f0a9d986",
   "metadata": {},
   "source": [
    "# La boucle while\n",
    "\n",
    "Tant que le test est \"vrai\" le bloc est évalué, le test se faisant en entrée de bloc"
   ]
  },
  {
   "cell_type": "code",
   "execution_count": 11,
   "id": "56b0bbb3",
   "metadata": {},
   "outputs": [
    {
     "name": "stdout",
     "output_type": "stream",
     "text": [
      "1\n",
      "2\n",
      "3\n",
      "4\n",
      "5\n",
      "6\n",
      "7\n",
      "8\n",
      "9\n",
      "10\n"
     ]
    }
   ],
   "source": [
    "k = 0\n",
    "while k<10\n",
    "    k += 1  # k=k+1\n",
    "    println(k)\n",
    "end"
   ]
  },
  {
   "cell_type": "markdown",
   "id": "54313197",
   "metadata": {},
   "source": [
    "De même que la boucle **for** les commandes **break** et **continue** sont valables ..."
   ]
  },
  {
   "cell_type": "code",
   "execution_count": 12,
   "id": "d4d1a52a",
   "metadata": {},
   "outputs": [
    {
     "name": "stdout",
     "output_type": "stream",
     "text": [
      "5\n",
      "10\n",
      "15\n",
      "20\n",
      "25\n",
      "30\n",
      "35\n"
     ]
    }
   ],
   "source": [
    "k=0\n",
    "while k < 1000\n",
    "    k += 1  # k=k+1\n",
    "    if k % 5 != 0 # k modulo 5 diffèrent de 0\n",
    "        continue # retour en début de boucle avec de nouveau un test sur k\n",
    "    end\n",
    "    println(k)\n",
    "    if k > 30\n",
    "        break\n",
    "    end\n",
    "end"
   ]
  },
  {
   "cell_type": "code",
   "execution_count": 13,
   "id": "f811277f",
   "metadata": {},
   "outputs": [
    {
     "data": {
      "text/plain": [
       "124"
      ]
     },
     "execution_count": 13,
     "metadata": {},
     "output_type": "execute_result"
    }
   ],
   "source": [
    "function syracuse(n)\n",
    "    k = 0\n",
    "    while n > 1\n",
    "        if n % 2 == 0\n",
    "            n = n ÷ 2\n",
    "        else\n",
    "            n = 3n+1\n",
    "        end\n",
    "        k += 1\n",
    "    end\n",
    "    return k\n",
    "end\n",
    "\n",
    "syracuse(10000000000)"
   ]
  },
  {
   "cell_type": "markdown",
   "id": "3618ff89",
   "metadata": {},
   "source": [
    "# Un peu d'optimisation\n",
    "\n",
    "*Julia* est dit un langage performant, regardons rapidement quelques exemples à faire ou ne pas faire.\n",
    "\n",
    "## Exemple de préallocation et utilisation de push!"
   ]
  },
  {
   "cell_type": "code",
   "execution_count": 14,
   "id": "8fa4e967",
   "metadata": {},
   "outputs": [
    {
     "name": "stdout",
     "output_type": "stream",
     "text": [
      "[99991.0, 99992.0, 99993.0, 99994.0, 99995.0, 99996.0, 99997.0, 99998.0, 99999.0, 100000.0]\n",
      " 19.149154 seconds (2.38 M allocations: 37.313 GiB, 16.20% gc time, 1.61% compilation time)\n"
     ]
    }
   ],
   "source": [
    "@time let n = 100000\n",
    "    A = zeros(0) # Tableau vide qui contiendra des Float64\n",
    "    for i = 1:n\n",
    "        A = [A; i]   # a chaque itération on change la taille de A\n",
    "    end\n",
    "    println(last(A,10))\n",
    "end"
   ]
  },
  {
   "cell_type": "markdown",
   "id": "c00bec88",
   "metadata": {},
   "source": [
    "Cet exemple montre le coût prohibitif d'une réallocation dynamique qui impose une recopie totale de A à chaque itération. Il faut donc récrire notre code différemment pour réduire cet utilisation excessive du ramasse miettes.\n",
    "Heureusement plusieurs solutions s'offrent à vous\n",
    "\n",
    " - Utiliser la fonction `push!`\n",
    " - Allouer le tableau `A` avant la boucle si on cannait sa taille\n",
    " - Utiliser un itérateur avec la fonction `collect` forsque c'est possible\n",
    " - Utiliser la comprehension "
   ]
  },
  {
   "cell_type": "code",
   "execution_count": 15,
   "id": "4db39784",
   "metadata": {},
   "outputs": [
    {
     "name": "stdout",
     "output_type": "stream",
     "text": [
      "[99991.0, 99992.0, 99993.0, 99994.0, 99995.0, 99996.0, 99997.0, 99998.0, 99999.0, 100000.0]\n",
      "  0.001691 seconds (363 allocations: 1.839 MiB)\n"
     ]
    }
   ],
   "source": [
    "@time let n = 100000\n",
    "    A = zeros(0)\n",
    "    for i = 1:n\n",
    "        push!(A,i)   # a chaque itération on change la taille de A\n",
    "    end\n",
    "    println(last(A,10))\n",
    "end"
   ]
  },
  {
   "cell_type": "code",
   "execution_count": 18,
   "id": "54c04477",
   "metadata": {},
   "outputs": [
    {
     "name": "stdout",
     "output_type": "stream",
     "text": [
      "[99991, 99992, 99993, 99994, 99995, 99996, 99997, 99998, 99999, 100000]\n",
      "  0.001620 seconds (327 allocations: 789.047 KiB)\n"
     ]
    }
   ],
   "source": [
    "@time let n = 100000\n",
    "    A = zeros(Int64,n)\n",
    "    for i in eachindex(A)\n",
    "        A[i] = i\n",
    "    end\n",
    "    println(last(A,10))\n",
    "end"
   ]
  },
  {
   "cell_type": "code",
   "execution_count": 19,
   "id": "3e8d36f6",
   "metadata": {},
   "outputs": [
    {
     "name": "stdout",
     "output_type": "stream",
     "text": [
      "[99991, 99992, 99993, 99994, 99995, 99996, 99997, 99998, 99999, 100000]\n",
      "  0.001031 seconds (325 allocations: 787.453 KiB)\n"
     ]
    }
   ],
   "source": [
    "@time let n = 100000\n",
    "    A = collect(1:n)\n",
    "    println(last(A,10))\n",
    "end"
   ]
  },
  {
   "cell_type": "code",
   "execution_count": 20,
   "id": "41af9d37",
   "metadata": {},
   "outputs": [
    {
     "name": "stdout",
     "output_type": "stream",
     "text": [
      "[99991, 99992, 99993, 99994, 99995, 99996, 99997, 99998, 99999, 100000]\n",
      "  0.000976 seconds (327 allocations: 789.047 KiB)\n"
     ]
    }
   ],
   "source": [
    "@time let n = 100000\n",
    "    A = [i for i=1:n]\n",
    "    println(last(A,10))\n",
    "end"
   ]
  },
  {
   "cell_type": "markdown",
   "id": "0722579d",
   "metadata": {},
   "source": [
    "## Exemple de vectorisation\n",
    "\n",
    "Regardons la vectorisation sous *Julia* à l'aide de la construction d'une matrice de Vandermonde"
   ]
  },
  {
   "cell_type": "code",
   "execution_count": 26,
   "id": "d4cdd4c3",
   "metadata": {},
   "outputs": [
    {
     "name": "stdout",
     "output_type": "stream",
     "text": [
      "  0.465299 seconds (3 allocations: 68.665 MiB, 13.01% gc time)\n"
     ]
    }
   ],
   "source": [
    "@time let n = 3000\n",
    "    x = LinRange(0, 1, n)\n",
    "    V = zeros(n,n)\n",
    "    for i = axes(V,1)\n",
    "        V[:,i] .= x.^(i-1) # calcul vectorisé\n",
    "    end\n",
    "end"
   ]
  },
  {
   "cell_type": "code",
   "execution_count": 45,
   "id": "29f9be14",
   "metadata": {},
   "outputs": [
    {
     "name": "stdout",
     "output_type": "stream",
     "text": [
      "  1.329071 seconds (3 allocations: 190.735 MiB, 4.76% gc time)\n"
     ]
    }
   ],
   "source": [
    "@time let n = 5000\n",
    "    x = LinRange(0, 1, n)\n",
    "    V = zeros(n,n)\n",
    "    for i = axes(V,1)\n",
    "        V[i,:] .= x.^(i-1) # calcul vectorisé\n",
    "    end\n",
    "end"
   ]
  },
  {
   "cell_type": "code",
   "execution_count": 46,
   "id": "fb20a18d",
   "metadata": {},
   "outputs": [
    {
     "name": "stdout",
     "output_type": "stream",
     "text": [
      "  1.240383 seconds (3 allocations: 190.735 MiB, 1.09% gc time)\n"
     ]
    }
   ],
   "source": [
    "@time let n = 5000\n",
    "    x = LinRange(0, 1, n)\n",
    "    V = zeros(n,n)\n",
    "    for j=axes(V,2)\n",
    "        for i=axes(V,1)\n",
    "            V[i,j] = x[i]^(j-1) # calcul dévectorisé\n",
    "        end\n",
    "    end\n",
    "end"
   ]
  },
  {
   "cell_type": "code",
   "execution_count": 47,
   "id": "a3b2a18d",
   "metadata": {},
   "outputs": [
    {
     "name": "stdout",
     "output_type": "stream",
     "text": [
      "  1.737419 seconds (3 allocations: 190.735 MiB, 0.70% gc time)\n"
     ]
    }
   ],
   "source": [
    "@time let n = 5000\n",
    "    x = LinRange(0, 1, n)\n",
    "    V = zeros(n,n)\n",
    "    for i=axes(V,1)\n",
    "        for j=axes(V,2)\n",
    "           V[i,j] = x[i]^(j-1) # calcul dévectorisé\n",
    "        end\n",
    "    end\n",
    "end"
   ]
  },
  {
   "cell_type": "code",
   "execution_count": 39,
   "id": "48a3748f",
   "metadata": {},
   "outputs": [
    {
     "name": "stdout",
     "output_type": "stream",
     "text": [
      "  0.658236 seconds (110.93 k allocations: 76.306 MiB, 10.54% compilation time)\n"
     ]
    },
    {
     "data": {
      "text/plain": [
       "3000×3000 Matrix{Float64}:\n",
       " 1.0  1.0          1.0          …  1.0        1.0       1.0       1.0\n",
       " 0.0  0.000333444  0.000666889     0.999      0.999333  0.999667  1.0\n",
       " 0.0  1.11185e-7   4.44741e-7      0.998      0.998667  0.999333  1.0\n",
       " 0.0  3.70741e-11  2.96593e-10     0.997002   0.998001  0.999     1.0\n",
       " 0.0  1.23622e-14  1.97794e-13     0.996005   0.997335  0.998667  1.0\n",
       " 0.0  4.12209e-18  1.31907e-16  …  0.995008   0.99667   0.998334  1.0\n",
       " 0.0  1.37449e-21  8.79673e-20     0.994013   0.996005  0.998001  1.0\n",
       " 0.0  4.58316e-25  5.86644e-23     0.993019   0.995341  0.997668  1.0\n",
       " 0.0  1.52823e-28  3.91226e-26     0.992025   0.994677  0.997336  1.0\n",
       " 0.0  5.09579e-32  2.60905e-29     0.991033   0.994014  0.997003  1.0\n",
       " 0.0  1.69916e-35  1.73994e-32  …  0.990042   0.993351  0.996671  1.0\n",
       " 0.0  5.66577e-39  1.16035e-35     0.989051   0.992689  0.996338  1.0\n",
       " 0.0  1.88922e-42  7.73824e-39     0.988062   0.992027  0.996006  1.0\n",
       " ⋮                              ⋱                                 \n",
       " 0.0  0.0          0.0             0.0502627  0.136241  0.36917   1.0\n",
       " 0.0  0.0          0.0             0.0502124  0.13615   0.369047  1.0\n",
       " 0.0  0.0          0.0          …  0.0501622  0.136059  0.368924  1.0\n",
       " 0.0  0.0          0.0             0.050112   0.135969  0.368801  1.0\n",
       " 0.0  0.0          0.0             0.0500619  0.135878  0.368678  1.0\n",
       " 0.0  0.0          0.0             0.0500118  0.135787  0.368555  1.0\n",
       " 0.0  0.0          0.0             0.0499618  0.135697  0.368432  1.0\n",
       " 0.0  0.0          0.0          …  0.0499118  0.135606  0.368309  1.0\n",
       " 0.0  0.0          0.0             0.0498619  0.135516  0.368186  1.0\n",
       " 0.0  0.0          0.0             0.049812   0.135426  0.368064  1.0\n",
       " 0.0  0.0          0.0             0.0497621  0.135335  0.367941  1.0\n",
       " 0.0  0.0          0.0             0.0497124  0.135245  0.367818  1.0"
      ]
     },
     "execution_count": 39,
     "metadata": {},
     "output_type": "execute_result"
    }
   ],
   "source": [
    "@time let n = 3000\n",
    "    x = LinRange(0, 1, n)\n",
    "    W = [x[i]^(j-1) for j=1:n, i=1:n]\n",
    "end"
   ]
  },
  {
   "cell_type": "markdown",
   "id": "1963ca5b",
   "metadata": {},
   "source": [
    "Pour obtenir de meilleures performances il faut le plus souvent possible écrire des fonctions."
   ]
  },
  {
   "cell_type": "code",
   "execution_count": 42,
   "id": "af70fa23",
   "metadata": {},
   "outputs": [
    {
     "name": "stdout",
     "output_type": "stream",
     "text": [
      "  369.993 ms (2 allocations: 68.66 MiB)\n"
     ]
    },
    {
     "data": {
      "text/plain": [
       "3000×3000 Matrix{Float64}:\n",
       " 1.0  0.0          0.0         0.0          …  0.0          0.0\n",
       " 1.0  0.000333444  1.11185e-7  3.70741e-11     0.0          0.0\n",
       " 1.0  0.000666889  4.44741e-7  2.96593e-10     0.0          0.0\n",
       " 1.0  0.00100033   1.00067e-6  1.001e-9        0.0          0.0\n",
       " 1.0  0.00133378   1.77896e-6  2.37274e-9      0.0          0.0\n",
       " 1.0  0.00166722   2.77963e-6  4.63426e-9   …  0.0          0.0\n",
       " 1.0  0.00200067   4.00267e-6  8.00801e-9      0.0          0.0\n",
       " 1.0  0.00233411   5.44808e-6  1.27164e-8      0.0          0.0\n",
       " 1.0  0.00266756   7.11585e-6  1.89819e-8      0.0          0.0\n",
       " 1.0  0.003001     9.006e-6    2.7027e-8       0.0          0.0\n",
       " 1.0  0.00333444   1.11185e-5  3.70741e-8   …  0.0          0.0\n",
       " 1.0  0.00366789   1.34534e-5  4.93456e-8      0.0          0.0\n",
       " 1.0  0.00400133   1.60107e-5  6.4064e-8       0.0          0.0\n",
       " ⋮                                          ⋱               \n",
       " 1.0  0.996332     0.992678    0.989037        1.64276e-5   1.63673e-5\n",
       " 1.0  0.996666     0.993342    0.99003         4.4797e-5    4.46476e-5\n",
       " 1.0  0.996999     0.994007    0.991024     …  0.000122118  0.000121751\n",
       " 1.0  0.997332     0.994672    0.992019        0.000332784  0.000331896\n",
       " 1.0  0.997666     0.995337    0.993014        0.000906567  0.000904451\n",
       " 1.0  0.997999     0.996003    0.99401         0.00246884   0.0024639\n",
       " 1.0  0.998333     0.996668    0.995007        0.0067211    0.00670989\n",
       " 1.0  0.998666     0.997334    0.996004     …  0.0182912    0.0182668\n",
       " 1.0  0.999        0.998       0.997002        0.0497621    0.0497124\n",
       " 1.0  0.999333     0.998667    0.998001        0.135335     0.135245\n",
       " 1.0  0.999667     0.999333    0.999           0.367941     0.367818\n",
       " 1.0  1.0          1.0         1.0             1.0          1.0"
      ]
     },
     "execution_count": 42,
     "metadata": {},
     "output_type": "execute_result"
    }
   ],
   "source": [
    "using BenchmarkTools\n",
    "\n",
    "function Vander1(n)\n",
    "    x = LinRange(0, 1, n)\n",
    "    V = zeros(n, n)\n",
    "    for i=1:n\n",
    "        V[:,i] .= x.^(i-1)\n",
    "    end\n",
    "    return V\n",
    "end\n",
    "@btime Z = Vander1(3000)"
   ]
  },
  {
   "cell_type": "code",
   "execution_count": 43,
   "id": "90e16ed1",
   "metadata": {},
   "outputs": [
    {
     "data": {
      "text/plain": [
       "BenchmarkTools.Trial: 14 samples with 1 evaluation.\n",
       " Range \u001b[90m(\u001b[39m\u001b[36m\u001b[1mmin\u001b[22m\u001b[39m … \u001b[35mmax\u001b[39m\u001b[90m):  \u001b[39m\u001b[36m\u001b[1m352.713 ms\u001b[22m\u001b[39m … \u001b[35m411.177 ms\u001b[39m  \u001b[90m┊\u001b[39m GC \u001b[90m(\u001b[39mmin … max\u001b[90m): \u001b[39m1.19% … 3.98%\n",
       " Time  \u001b[90m(\u001b[39m\u001b[34m\u001b[1mmedian\u001b[22m\u001b[39m\u001b[90m):     \u001b[39m\u001b[34m\u001b[1m367.749 ms               \u001b[22m\u001b[39m\u001b[90m┊\u001b[39m GC \u001b[90m(\u001b[39mmedian\u001b[90m):    \u001b[39m0.00%\n",
       " Time  \u001b[90m(\u001b[39m\u001b[32m\u001b[1mmean\u001b[22m\u001b[39m ± \u001b[32mσ\u001b[39m\u001b[90m):   \u001b[39m\u001b[32m\u001b[1m373.594 ms\u001b[22m\u001b[39m ± \u001b[32m 18.128 ms\u001b[39m  \u001b[90m┊\u001b[39m GC \u001b[90m(\u001b[39mmean ± σ\u001b[90m):  \u001b[39m0.91% ± 1.60%\n",
       "\n",
       "  \u001b[39m▁\u001b[39m \u001b[39m \u001b[39m▁\u001b[39m▁\u001b[39m \u001b[39m \u001b[39m \u001b[39m \u001b[39m▁\u001b[39m \u001b[39m \u001b[39m█\u001b[39m \u001b[39m \u001b[39m█\u001b[34m \u001b[39m\u001b[39m \u001b[39m \u001b[39m \u001b[39m▁\u001b[39m \u001b[32m▁\u001b[39m\u001b[39m \u001b[39m \u001b[39m \u001b[39m \u001b[39m▁\u001b[39m \u001b[39m \u001b[39m \u001b[39m \u001b[39m \u001b[39m \u001b[39m \u001b[39m \u001b[39m \u001b[39m \u001b[39m \u001b[39m \u001b[39m \u001b[39m \u001b[39m \u001b[39m \u001b[39m▁\u001b[39m \u001b[39m \u001b[39m \u001b[39m \u001b[39m \u001b[39m \u001b[39m \u001b[39m \u001b[39m \u001b[39m▁\u001b[39m \u001b[39m \u001b[39m \u001b[39m \u001b[39m \u001b[39m▁\u001b[39m \u001b[39m \n",
       "  \u001b[39m█\u001b[39m▁\u001b[39m▁\u001b[39m█\u001b[39m█\u001b[39m▁\u001b[39m▁\u001b[39m▁\u001b[39m▁\u001b[39m█\u001b[39m▁\u001b[39m▁\u001b[39m█\u001b[39m▁\u001b[39m▁\u001b[39m█\u001b[34m▁\u001b[39m\u001b[39m▁\u001b[39m▁\u001b[39m▁\u001b[39m█\u001b[39m▁\u001b[32m█\u001b[39m\u001b[39m▁\u001b[39m▁\u001b[39m▁\u001b[39m▁\u001b[39m█\u001b[39m▁\u001b[39m▁\u001b[39m▁\u001b[39m▁\u001b[39m▁\u001b[39m▁\u001b[39m▁\u001b[39m▁\u001b[39m▁\u001b[39m▁\u001b[39m▁\u001b[39m▁\u001b[39m▁\u001b[39m▁\u001b[39m▁\u001b[39m▁\u001b[39m█\u001b[39m▁\u001b[39m▁\u001b[39m▁\u001b[39m▁\u001b[39m▁\u001b[39m▁\u001b[39m▁\u001b[39m▁\u001b[39m▁\u001b[39m█\u001b[39m▁\u001b[39m▁\u001b[39m▁\u001b[39m▁\u001b[39m▁\u001b[39m█\u001b[39m \u001b[39m▁\n",
       "  353 ms\u001b[90m           Histogram: frequency by time\u001b[39m          411 ms \u001b[0m\u001b[1m<\u001b[22m\n",
       "\n",
       " Memory estimate\u001b[90m: \u001b[39m\u001b[33m68.66 MiB\u001b[39m, allocs estimate\u001b[90m: \u001b[39m\u001b[33m2\u001b[39m."
      ]
     },
     "execution_count": 43,
     "metadata": {},
     "output_type": "execute_result"
    }
   ],
   "source": [
    "@benchmark Z = Vander1(3000)"
   ]
  },
  {
   "cell_type": "code",
   "execution_count": 44,
   "id": "b1e5b1d7",
   "metadata": {},
   "outputs": [
    {
     "name": "stdout",
     "output_type": "stream",
     "text": [
      "  344.251 ms (2 allocations: 68.66 MiB)\n"
     ]
    },
    {
     "data": {
      "text/plain": [
       "3000×3000 Matrix{Float64}:\n",
       " 1.0  0.0          0.0         0.0          …  0.0          0.0\n",
       " 1.0  0.000333444  1.11185e-7  3.70741e-11     0.0          0.0\n",
       " 1.0  0.000666889  4.44741e-7  2.96593e-10     0.0          0.0\n",
       " 1.0  0.00100033   1.00067e-6  1.001e-9        0.0          0.0\n",
       " 1.0  0.00133378   1.77896e-6  2.37274e-9      0.0          0.0\n",
       " 1.0  0.00166722   2.77963e-6  4.63426e-9   …  0.0          0.0\n",
       " 1.0  0.00200067   4.00267e-6  8.00801e-9      0.0          0.0\n",
       " 1.0  0.00233411   5.44808e-6  1.27164e-8      0.0          0.0\n",
       " 1.0  0.00266756   7.11585e-6  1.89819e-8      0.0          0.0\n",
       " 1.0  0.003001     9.006e-6    2.7027e-8       0.0          0.0\n",
       " 1.0  0.00333444   1.11185e-5  3.70741e-8   …  0.0          0.0\n",
       " 1.0  0.00366789   1.34534e-5  4.93456e-8      0.0          0.0\n",
       " 1.0  0.00400133   1.60107e-5  6.4064e-8       0.0          0.0\n",
       " ⋮                                          ⋱               \n",
       " 1.0  0.996332     0.992678    0.989037        1.64276e-5   1.63673e-5\n",
       " 1.0  0.996666     0.993342    0.99003         4.4797e-5    4.46476e-5\n",
       " 1.0  0.996999     0.994007    0.991024     …  0.000122118  0.000121751\n",
       " 1.0  0.997332     0.994672    0.992019        0.000332784  0.000331896\n",
       " 1.0  0.997666     0.995337    0.993014        0.000906567  0.000904451\n",
       " 1.0  0.997999     0.996003    0.99401         0.00246884   0.0024639\n",
       " 1.0  0.998333     0.996668    0.995007        0.0067211    0.00670989\n",
       " 1.0  0.998666     0.997334    0.996004     …  0.0182912    0.0182668\n",
       " 1.0  0.999        0.998       0.997002        0.0497621    0.0497124\n",
       " 1.0  0.999333     0.998667    0.998001        0.135335     0.135245\n",
       " 1.0  0.999667     0.999333    0.999           0.367941     0.367818\n",
       " 1.0  1.0          1.0         1.0             1.0          1.0"
      ]
     },
     "execution_count": 44,
     "metadata": {},
     "output_type": "execute_result"
    }
   ],
   "source": [
    "function Vander2(n)\n",
    "    x = LinRange(0, 1, n)\n",
    "    V = zeros(n, n)\n",
    "    for j=1:n, i=1:n\n",
    "        V[i,j]=x[i]^(j-1) # calcul dévectorisé\n",
    "    end\n",
    "    return V\n",
    "end\n",
    "@btime Z = Vander2(3000)"
   ]
  },
  {
   "cell_type": "code",
   "execution_count": 45,
   "id": "888ac5cc",
   "metadata": {},
   "outputs": [
    {
     "name": "stdout",
     "output_type": "stream",
     "text": [
      "  453.929 ms (2 allocations: 68.66 MiB)\n"
     ]
    },
    {
     "data": {
      "text/plain": [
       "3000×3000 Matrix{Float64}:\n",
       " 1.0  0.0          0.0         0.0          …  0.0          0.0\n",
       " 1.0  0.000333444  1.11185e-7  3.70741e-11     0.0          0.0\n",
       " 1.0  0.000666889  4.44741e-7  2.96593e-10     0.0          0.0\n",
       " 1.0  0.00100033   1.00067e-6  1.001e-9        0.0          0.0\n",
       " 1.0  0.00133378   1.77896e-6  2.37274e-9      0.0          0.0\n",
       " 1.0  0.00166722   2.77963e-6  4.63426e-9   …  0.0          0.0\n",
       " 1.0  0.00200067   4.00267e-6  8.00801e-9      0.0          0.0\n",
       " 1.0  0.00233411   5.44808e-6  1.27164e-8      0.0          0.0\n",
       " 1.0  0.00266756   7.11585e-6  1.89819e-8      0.0          0.0\n",
       " 1.0  0.003001     9.006e-6    2.7027e-8       0.0          0.0\n",
       " 1.0  0.00333444   1.11185e-5  3.70741e-8   …  0.0          0.0\n",
       " 1.0  0.00366789   1.34534e-5  4.93456e-8      0.0          0.0\n",
       " 1.0  0.00400133   1.60107e-5  6.4064e-8       0.0          0.0\n",
       " ⋮                                          ⋱               \n",
       " 1.0  0.996332     0.992678    0.989037        1.64276e-5   1.63673e-5\n",
       " 1.0  0.996666     0.993342    0.99003         4.4797e-5    4.46476e-5\n",
       " 1.0  0.996999     0.994007    0.991024     …  0.000122118  0.000121751\n",
       " 1.0  0.997332     0.994672    0.992019        0.000332784  0.000331896\n",
       " 1.0  0.997666     0.995337    0.993014        0.000906567  0.000904451\n",
       " 1.0  0.997999     0.996003    0.99401         0.00246884   0.0024639\n",
       " 1.0  0.998333     0.996668    0.995007        0.0067211    0.00670989\n",
       " 1.0  0.998666     0.997334    0.996004     …  0.0182912    0.0182668\n",
       " 1.0  0.999        0.998       0.997002        0.0497621    0.0497124\n",
       " 1.0  0.999333     0.998667    0.998001        0.135335     0.135245\n",
       " 1.0  0.999667     0.999333    0.999           0.367941     0.367818\n",
       " 1.0  1.0          1.0         1.0             1.0          1.0"
      ]
     },
     "execution_count": 45,
     "metadata": {},
     "output_type": "execute_result"
    }
   ],
   "source": [
    "function Vander3(n)\n",
    "    x = LinRange(0, 1, n)\n",
    "    return [x[i]^(j-1) for i=1:n, j=1:n]\n",
    "end\n",
    "@btime Z=Vander3(3000)"
   ]
  },
  {
   "cell_type": "markdown",
   "id": "6b15c99f",
   "metadata": {},
   "source": [
    "La conclusion n'est pas toujours évidente a priori... Néanmoins on\n",
    "peut voir que le fait de mettre le code dans une fonction impose\n",
    "une optimisation à la compilation et une contextualisation du type\n",
    "et que l'écriture explicite des boucles donne un meilleur résultat."
   ]
  },
  {
   "cell_type": "code",
   "execution_count": null,
   "id": "5a472c9f",
   "metadata": {},
   "outputs": [],
   "source": []
  }
 ],
 "metadata": {
  "jupytext": {
   "cell_metadata_filter": "-all",
   "main_language": "julia",
   "notebook_metadata_filter": "-all"
  },
  "kernelspec": {
   "display_name": "Julia 1.11.1",
   "language": "julia",
   "name": "julia-1.11"
  },
  "language_info": {
   "file_extension": ".jl",
   "mimetype": "application/julia",
   "name": "julia",
   "version": "1.11.4"
  }
 },
 "nbformat": 4,
 "nbformat_minor": 5
}
