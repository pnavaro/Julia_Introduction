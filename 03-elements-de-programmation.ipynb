{
 "cells": [
  {
   "cell_type": "markdown",
   "id": "bff0cb64",
   "metadata": {},
   "source": [
    "# Eléments de programmation\n",
    "\n",
    "Pour mener à bien un calcul algorithmique le nombre d'éléments de langage n'est pas très important et peut se résumer aux 3 syntaxes suivantes\n",
    "\n",
    "* Le choix conditionnel **if**-**elseif**-**else**-**end**.\n",
    "* La boucle **for**-**end**.\n",
    "* La boucle **while**-**end**"
   ]
  },
  {
   "cell_type": "markdown",
   "id": "7c262cd5",
   "metadata": {},
   "source": [
    "# if ... elseif ... else ... end\n",
    "\n",
    "Un choix simple si le test est vrai (k==1) alors le bloc d'instruction est évalué\n",
    "<!-- #endregion -->"
   ]
  },
  {
   "cell_type": "code",
   "execution_count": null,
   "id": "112e7468",
   "metadata": {},
   "outputs": [],
   "source": [
    "k=1\n",
    "if k==1\n",
    "    println(\"k=1\")\n",
    "end"
   ]
  },
  {
   "cell_type": "markdown",
   "id": "a0bd27da",
   "metadata": {},
   "source": [
    "Le **else** permet de donner un résultat par défaut..."
   ]
  },
  {
   "cell_type": "code",
   "execution_count": null,
   "id": "3d32cd25",
   "metadata": {},
   "outputs": [],
   "source": [
    "k=1\n",
    "if k!=1\n",
    "    println(\"k<>1\")\n",
    "else\n",
    "    println(\"k=1\")\n",
    "end"
   ]
  },
  {
   "cell_type": "markdown",
   "id": "c733da49",
   "metadata": {},
   "source": [
    "Une succession de **elseif** permet de choisir parmi plusieurs critères, dans la succession des blocs de **if** et **elseif** le premier qui est \"vrai\" est évaluer et l'instruction s'arrète."
   ]
  },
  {
   "cell_type": "code",
   "execution_count": null,
   "id": "c01e9390",
   "metadata": {},
   "outputs": [],
   "source": [
    "k=2\n",
    "if k==1\n",
    "    println(\"k=1\")\n",
    "elseif k>1\n",
    "    println(\"k>1\")\n",
    "else \n",
    "    println(\"k<1\")\n",
    "end"
   ]
  },
  {
   "cell_type": "markdown",
   "id": "dd9ff957",
   "metadata": {},
   "source": [
    "# La boucle for\n",
    "\n",
    "Elle peut se définir à l'aide d'itérateurs ou de tableaux de valeurs les syntaxes \"=\" , \"in\" ou \"$\\in$\" sont équivalentes"
   ]
  },
  {
   "cell_type": "code",
   "execution_count": null,
   "id": "8b37833c",
   "metadata": {},
   "outputs": [],
   "source": [
    "for i=1:10\n",
    "    println(i)\n",
    "end"
   ]
  },
  {
   "cell_type": "code",
   "execution_count": null,
   "id": "28ffd672",
   "metadata": {},
   "outputs": [],
   "source": [
    "for i in [\"un\" 2 im]\n",
    "    println(typeof(i))\n",
    "end"
   ]
  },
  {
   "cell_type": "markdown",
   "id": "39e235a2",
   "metadata": {},
   "source": [
    "La commande **break** permet de sortir d'une boucle à tout moment"
   ]
  },
  {
   "cell_type": "code",
   "execution_count": null,
   "id": "f73e70ba",
   "metadata": {},
   "outputs": [],
   "source": [
    "for i = 1:1000\n",
    "    println(i)\n",
    "    if i >= 5\n",
    "       break\n",
    "    end\n",
    "end"
   ]
  },
  {
   "cell_type": "markdown",
   "id": "ca2c26fd",
   "metadata": {},
   "source": [
    "La commande **continue** permet elle de courtcircuiter la boucle en court et de passer à la valeur suivante"
   ]
  },
  {
   "cell_type": "code",
   "execution_count": null,
   "id": "35393c05",
   "metadata": {},
   "outputs": [],
   "source": [
    "for i = 1:10\n",
    "    if i % 3 != 0 # i modulo 3 different de 0\n",
    "        continue\n",
    "    end\n",
    "    println(i)\n",
    "end"
   ]
  },
  {
   "cell_type": "markdown",
   "id": "f0a9d986",
   "metadata": {},
   "source": [
    "# La boucle while\n",
    "\n",
    "Tant que le test est \"vrai\" le bloc est évalué, le test se faisant en entrée de bloc"
   ]
  },
  {
   "cell_type": "code",
   "execution_count": null,
   "id": "56b0bbb3",
   "metadata": {},
   "outputs": [],
   "source": [
    "k=0\n",
    "while k<10\n",
    "    k+=1  # k=k+1\n",
    "    println(k)\n",
    "end"
   ]
  },
  {
   "cell_type": "markdown",
   "id": "54313197",
   "metadata": {},
   "source": [
    "De même que la boucle **for** les commandes **break** et **continue** sont valables ..."
   ]
  },
  {
   "cell_type": "code",
   "execution_count": null,
   "id": "d4d1a52a",
   "metadata": {},
   "outputs": [],
   "source": [
    "k=0\n",
    "while k<1000\n",
    "    k+=1  # k=k+1\n",
    "    if k % 5 != 0 # k modulo 5 diffèrent de 0\n",
    "        continue # retour en début de boucle avec de nouveau un test sur k\n",
    "    end\n",
    "    println(k)\n",
    "    if k>30\n",
    "        break\n",
    "    end\n",
    "end"
   ]
  },
  {
   "cell_type": "markdown",
   "id": "3618ff89",
   "metadata": {},
   "source": [
    "# Un peu d'optimisation\n",
    "\n",
    "*Julia* est dit un langage performant, regardons rapidement quelques exemples à faire ou ne pas faire.\n",
    "\n",
    "## Exemple de préallocation et utilisation de push!"
   ]
  },
  {
   "cell_type": "code",
   "execution_count": null,
   "id": "8fa4e967",
   "metadata": {},
   "outputs": [],
   "source": [
    "n = 100000\n",
    "@time begin\n",
    "    A = zeros(0) # Tableau vide qui contiendra des Float64\n",
    "    for i=1:n\n",
    "        A=[A;i]   # a chaque itération on change la taille de A\n",
    "    end\n",
    "end"
   ]
  },
  {
   "cell_type": "code",
   "execution_count": null,
   "id": "de08f94d",
   "metadata": {},
   "outputs": [],
   "source": [
    "typeof(A)"
   ]
  },
  {
   "cell_type": "code",
   "execution_count": null,
   "id": "a4fa3c01",
   "metadata": {},
   "outputs": [],
   "source": [
    "A"
   ]
  },
  {
   "cell_type": "code",
   "execution_count": null,
   "id": "4db39784",
   "metadata": {},
   "outputs": [],
   "source": [
    "@time begin\n",
    "    A=zeros(0);\n",
    "    for i=1:n\n",
    "        push!(A,i)   # a chaque itération on change la taille de A\n",
    "    end\n",
    "end"
   ]
  },
  {
   "cell_type": "code",
   "execution_count": null,
   "id": "164f2530",
   "metadata": {},
   "outputs": [],
   "source": [
    "A"
   ]
  },
  {
   "cell_type": "code",
   "execution_count": null,
   "id": "54c04477",
   "metadata": {},
   "outputs": [],
   "source": [
    "@time begin\n",
    "    A=zeros(Int64,n)\n",
    "    for i=1:n\n",
    "        A[i]=i\n",
    "    end\n",
    "end"
   ]
  },
  {
   "cell_type": "code",
   "execution_count": null,
   "id": "41af9d37",
   "metadata": {},
   "outputs": [],
   "source": [
    "@time begin\n",
    "    A=[i for i=1:n]\n",
    "end"
   ]
  },
  {
   "cell_type": "code",
   "execution_count": null,
   "id": "fc6e3343",
   "metadata": {},
   "outputs": [],
   "source": [
    "typeof(A)"
   ]
  },
  {
   "cell_type": "markdown",
   "id": "0722579d",
   "metadata": {},
   "source": [
    "Cet exemple montre le coût prohibitif d'une réallocation dynamique qui impose une recopie totale de A à chaque itération.\n",
    "\n",
    "## Exemple de vectorisation\n",
    "\n",
    "Regardons la vectorisation sous *Julia* à l'aide de la construction d'une matrice de Vandermonde\n"
   ]
  },
  {
   "cell_type": "code",
   "execution_count": null,
   "id": "d4cdd4c3",
   "metadata": {},
   "outputs": [],
   "source": [
    "@elapsed begin\n",
    "    n = 3000\n",
    "    x = LinRange(0, 1, n)\n",
    "    V = zeros(n,n)\n",
    "    for i=1:n\n",
    "        V[:,i]=x.^(i-1) # calcul vectorisé\n",
    "    end\n",
    "end"
   ]
  },
  {
   "cell_type": "code",
   "execution_count": null,
   "id": "f015f2bd",
   "metadata": {},
   "outputs": [],
   "source": [
    "A=rand(3,3)\n",
    "A[:,1].=1\n",
    "A"
   ]
  },
  {
   "cell_type": "code",
   "execution_count": null,
   "id": "fb20a18d",
   "metadata": {},
   "outputs": [],
   "source": [
    "@elapsed begin\n",
    "    n = 3000\n",
    "    x = LinRange(0, 1, n)\n",
    "    X = zeros(n,n)\n",
    "    for i=1:n\n",
    "        for j=1:n\n",
    "            X[i,j]=x[i]^(j-1) # calcul dévectorisé\n",
    "        end\n",
    "    end\n",
    "end"
   ]
  },
  {
   "cell_type": "code",
   "execution_count": null,
   "id": "90027031",
   "metadata": {},
   "outputs": [],
   "source": [
    "typeof(X)"
   ]
  },
  {
   "cell_type": "code",
   "execution_count": null,
   "id": "48a3748f",
   "metadata": {},
   "outputs": [],
   "source": [
    "@elapsed begin \n",
    "    n = 3000\n",
    "    x = LinRange(0, 1, n)\n",
    "    W = [x[i]^(j-1) for i=1:n, j=1:n]\n",
    "end"
   ]
  },
  {
   "cell_type": "code",
   "execution_count": null,
   "id": "07bbb062",
   "metadata": {},
   "outputs": [],
   "source": [
    "typeof(W)"
   ]
  },
  {
   "cell_type": "code",
   "execution_count": null,
   "id": "af70fa23",
   "metadata": {},
   "outputs": [],
   "source": [
    "function Vander(n)\n",
    "    x = LinRange(0, 1, n)\n",
    "    V = zeros(n, n)\n",
    "    for i=1:n\n",
    "        #V[:,i]=x.^(i-1)\n",
    "        for j=1:n\n",
    "            V[i,j]=x[i]^(j-1) # calcul dévectorisé\n",
    "        end\n",
    "    end\n",
    "    return V\n",
    "end\n",
    "@elapsed Z = Vander(3000)"
   ]
  },
  {
   "cell_type": "code",
   "execution_count": null,
   "id": "745dc4d8",
   "metadata": {},
   "outputs": [],
   "source": [
    "@elapsed Z=Vander(3000)"
   ]
  },
  {
   "cell_type": "code",
   "execution_count": null,
   "id": "e8561f6d",
   "metadata": {},
   "outputs": [],
   "source": [
    "@elapsed Z=Vander(3000) "
   ]
  },
  {
   "cell_type": "code",
   "execution_count": null,
   "id": "888ac5cc",
   "metadata": {},
   "outputs": [],
   "source": [
    "function Vander2(n)\n",
    "    x = LinRange(0, 1, n)\n",
    "    [x[i]^(j-1) for i=1:n, j=1:n]\n",
    "end\n",
    "@elapsed Z2=Vander2(3000)"
   ]
  },
  {
   "cell_type": "code",
   "execution_count": null,
   "id": "44ddd890",
   "metadata": {},
   "outputs": [],
   "source": [
    "@elapsed Z2=Vander2(3000)"
   ]
  },
  {
   "cell_type": "code",
   "execution_count": null,
   "id": "ad2d7293",
   "metadata": {},
   "outputs": [],
   "source": [
    "typeof(Z2)"
   ]
  },
  {
   "cell_type": "markdown",
   "id": "6b15c99f",
   "metadata": {},
   "source": [
    "La conclusion n'est pas toujours évidente a priori... Néanmoins on\n",
    "peut voir que le fait de mettre le code dans une fonction impose\n",
    "une optimisation à la compilation et une contextualisation du type\n",
    "et que l'écriture explicite des boucles donne un meilleur résultat."
   ]
  }
 ],
 "metadata": {
  "jupytext": {
   "cell_metadata_filter": "-all",
   "main_language": "julia",
   "notebook_metadata_filter": "-all"
  }
 },
 "nbformat": 4,
 "nbformat_minor": 5
}
