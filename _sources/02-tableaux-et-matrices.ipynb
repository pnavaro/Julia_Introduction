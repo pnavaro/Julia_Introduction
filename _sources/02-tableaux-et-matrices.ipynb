{
 "cells": [
  {
   "cell_type": "markdown",
   "id": "662f3f32",
   "metadata": {},
   "source": [
    "# Tableaux et matrices\n",
    "\n",
    "La définition de tableaux i.e. vecteurs, matrices, hypermatrices est un élément essentiel de Julia.\n",
    "\n",
    "Julia ne possède qu'un seul type de tableau : **Array** on peut définir son nombre d'entrées (1 entrée= 1 dimension ...) et son contenu de façon assez générale (Un tableau peut contenir des matrices à chaque élément...\n",
    "\n",
    "Une particularité est que les indices de tableaux commencent à 1, et l'accès aux éléments se fera à l'aide de '[' ’]' et non '(' ')' qui est réservé aux fonctions.\n",
    "\n",
    "Avant de rentrer dans la construction et manipulation de tableau regardons une autre classe \n",
    "\n",
    "# Iterateur\n",
    "\n",
    "Julia possède un Type particulier fait à l'aide du \":\""
   ]
  },
  {
   "cell_type": "code",
   "execution_count": null,
   "id": "3e30fa44",
   "metadata": {},
   "outputs": [],
   "source": [
    "a = 1:5"
   ]
  },
  {
   "cell_type": "code",
   "execution_count": null,
   "id": "2892a1c3",
   "metadata": {},
   "outputs": [],
   "source": [
    "a .+ 1"
   ]
  },
  {
   "cell_type": "code",
   "execution_count": null,
   "id": "dbb6f9ad",
   "metadata": {},
   "outputs": [],
   "source": [
    "typeof(a)"
   ]
  },
  {
   "cell_type": "code",
   "execution_count": null,
   "id": "d413f28e",
   "metadata": {},
   "outputs": [],
   "source": [
    "b=0:0.5:2"
   ]
  },
  {
   "cell_type": "code",
   "execution_count": null,
   "id": "f4ee6ce8",
   "metadata": {},
   "outputs": [],
   "source": [
    "typeof(b)"
   ]
  },
  {
   "cell_type": "markdown",
   "id": "732cb65d",
   "metadata": {},
   "source": [
    "Ce type \"formel\" permet d'avoir une définition et une méthode associée sans stocker l'ensemble des valeurs. Attention celui-ci peut être vide :"
   ]
  },
  {
   "cell_type": "code",
   "execution_count": null,
   "id": "e6e9fd13",
   "metadata": {},
   "outputs": [],
   "source": [
    "d=1:0 # itérateur formel mais correspond à un ensemble vide de valeurs"
   ]
  },
  {
   "cell_type": "code",
   "execution_count": null,
   "id": "701a799e",
   "metadata": {},
   "outputs": [],
   "source": [
    "d=collect(d)"
   ]
  },
  {
   "cell_type": "markdown",
   "id": "3086c0b4",
   "metadata": {},
   "source": [
    "# Tableau\n",
    "\n",
    "On vient de voir que l'on peut transformer l'itérateur précédent en tableau à l'aide de la commande \"collect\""
   ]
  },
  {
   "cell_type": "code",
   "execution_count": null,
   "id": "58c16494",
   "metadata": {},
   "outputs": [],
   "source": [
    "a=1:5\n",
    "aa=collect(a)"
   ]
  },
  {
   "cell_type": "code",
   "execution_count": null,
   "id": "b52e9d5b",
   "metadata": {},
   "outputs": [],
   "source": [
    "collect(a')"
   ]
  },
  {
   "cell_type": "code",
   "execution_count": null,
   "id": "a6ebbb3e",
   "metadata": {},
   "outputs": [],
   "source": [
    "a  .+ a'"
   ]
  },
  {
   "cell_type": "code",
   "execution_count": null,
   "id": "7cfd2f54",
   "metadata": {},
   "outputs": [],
   "source": [
    "typeof(aa)"
   ]
  },
  {
   "cell_type": "markdown",
   "id": "51269d13",
   "metadata": {},
   "source": [
    "La réponse est de la forme **Array{Type,dim}** un tableau de **Type** à **dim** entrées (1 pour vecteur, 2 pour matrices ...)\n",
    "\n",
    "A remarquer :\n",
    "* l'indexation des tableaux commence à 1.\n",
    "* un tableau à une entrée est vu comme un vecteur colonne par défaut.\n",
    "* le crochet [ ] sert à extraire ou affecter une valeur ou un bloc de valeur. Attention le crochet [ ] sert également de \"concatenateur\" et constructeur de tableau (voir suite)\n",
    "* Il est possible de faire des tableaux de n'importe quoi (fonction, tableau, ...)."
   ]
  },
  {
   "cell_type": "code",
   "execution_count": null,
   "id": "35dd4c16",
   "metadata": {},
   "outputs": [],
   "source": [
    "aa[1]"
   ]
  },
  {
   "cell_type": "code",
   "execution_count": null,
   "id": "e17b1d3b",
   "metadata": {},
   "outputs": [],
   "source": [
    "aa[end] # pour accèder au dernier élément"
   ]
  },
  {
   "cell_type": "code",
   "execution_count": null,
   "id": "93c04bca",
   "metadata": {},
   "outputs": [],
   "source": [
    "aa[end-2:end].=1; println(aa)"
   ]
  },
  {
   "cell_type": "markdown",
   "id": "b5539866",
   "metadata": {},
   "source": [
    "Les crochets permettent la construction explicite de tableaux (ou leur concaténation)"
   ]
  },
  {
   "cell_type": "code",
   "execution_count": null,
   "id": "57b6ef39",
   "metadata": {},
   "outputs": [],
   "source": [
    "A=[1 2 ; 3 4] # {espace} = séparateur de colonne"
   ]
  },
  {
   "cell_type": "code",
   "execution_count": null,
   "id": "5c38200a",
   "metadata": {},
   "outputs": [],
   "source": [
    "AA=[A  A] # concaténation par bloc"
   ]
  },
  {
   "cell_type": "code",
   "execution_count": null,
   "id": "66e0c879",
   "metadata": {},
   "outputs": [],
   "source": [
    "hcat(A,A) # commande équivalent à la précédente [A  A]"
   ]
  },
  {
   "cell_type": "code",
   "execution_count": null,
   "id": "9fee554b",
   "metadata": {},
   "outputs": [],
   "source": [
    "AA=[A ; A]"
   ]
  },
  {
   "cell_type": "code",
   "execution_count": null,
   "id": "1204d0fe",
   "metadata": {},
   "outputs": [],
   "source": [
    "vcat(A,A) # commande équivalent à la précédente [A  ; A]"
   ]
  },
  {
   "cell_type": "markdown",
   "id": "b8c592e4",
   "metadata": {},
   "source": [
    "On peut accéder à tout ou partie d'un tableau à l'aide de 2 indices"
   ]
  },
  {
   "cell_type": "code",
   "execution_count": null,
   "id": "a43e4ca1",
   "metadata": {},
   "outputs": [],
   "source": [
    "A[2,1]"
   ]
  },
  {
   "cell_type": "code",
   "execution_count": null,
   "id": "e6f288ef",
   "metadata": {},
   "outputs": [],
   "source": [
    "A[2,:]"
   ]
  },
  {
   "cell_type": "code",
   "execution_count": null,
   "id": "42602064",
   "metadata": {},
   "outputs": [],
   "source": [
    "A[:,2]"
   ]
  },
  {
   "cell_type": "code",
   "execution_count": null,
   "id": "91ce5ab6",
   "metadata": {},
   "outputs": [],
   "source": [
    "A[end,end]"
   ]
  },
  {
   "cell_type": "code",
   "execution_count": null,
   "id": "6699827e",
   "metadata": {},
   "outputs": [],
   "source": [
    "sum(AA, dims=1)"
   ]
  },
  {
   "cell_type": "code",
   "execution_count": null,
   "id": "4a680da3",
   "metadata": {},
   "outputs": [],
   "source": [
    "B=[1 2 3 4]"
   ]
  },
  {
   "cell_type": "code",
   "execution_count": null,
   "id": "d36d7a72",
   "metadata": {},
   "outputs": [],
   "source": [
    "B=[1;2;3;4]"
   ]
  },
  {
   "cell_type": "code",
   "execution_count": null,
   "id": "86268ccd",
   "metadata": {},
   "outputs": [],
   "source": [
    "for i in eachindex(AA)\n",
    "    println(i)\n",
    "end"
   ]
  },
  {
   "cell_type": "code",
   "execution_count": null,
   "id": "72a75de1",
   "metadata": {},
   "outputs": [],
   "source": [
    "for row in eachrow(AA)\n",
    "    println(row)\n",
    "end"
   ]
  },
  {
   "cell_type": "markdown",
   "id": "b5fd8084",
   "metadata": {},
   "source": [
    "A noter que l'on peut faire des tableaux de tout type voir de les mélanger (Any)"
   ]
  },
  {
   "cell_type": "code",
   "execution_count": null,
   "id": "61d8b34c",
   "metadata": {},
   "outputs": [],
   "source": [
    "a=[\"un\";\"deux\"]"
   ]
  },
  {
   "cell_type": "code",
   "execution_count": null,
   "id": "391e85db",
   "metadata": {},
   "outputs": [],
   "source": [
    "b=[1>2,true,false]"
   ]
  },
  {
   "cell_type": "code",
   "execution_count": null,
   "id": "117703c4",
   "metadata": {},
   "outputs": [],
   "source": [
    "c=[\"un\"; 2 ; true]"
   ]
  },
  {
   "cell_type": "markdown",
   "id": "8c00ed69",
   "metadata": {},
   "source": [
    "Le crochet [ ] permet également la construction rapide de matrice ou tableau comme le montre l'exemple ci-dessous pour construire une matrice de VanderMonde\n",
    "\n",
    "$$ V_{i,j}=x_i^{j-1}$$"
   ]
  },
  {
   "cell_type": "code",
   "execution_count": null,
   "id": "aa1ce89e",
   "metadata": {},
   "outputs": [],
   "source": [
    "x=0:0.2:1;\n",
    "V=[ x[i]^(j-1) for i=1:6, j=1:6] # ligne et colonne"
   ]
  },
  {
   "cell_type": "code",
   "execution_count": null,
   "id": "535396a7",
   "metadata": {},
   "outputs": [],
   "source": [
    "D=[ u*v for u=1:0.5:3, v=1:0.5:4]"
   ]
  },
  {
   "cell_type": "markdown",
   "id": "0aa3d3f4",
   "metadata": {},
   "source": [
    "On peux évidemment faire des tableaux à 3,4... entrèes.\n",
    "\n",
    "## Manipulation de Tableau\n",
    "\n",
    "### push!\n",
    "\n",
    "Le fonction push permet d'ajouter à un tableau une valeur supplémentaire"
   ]
  },
  {
   "cell_type": "code",
   "execution_count": null,
   "id": "ef6b899c",
   "metadata": {},
   "outputs": [],
   "source": [
    "a=[]\n",
    "push!(a,1)     # => [1]\n",
    "push!(a,2)     # => [1,2]\n",
    "push!(a,4)     # => [1,2,4]\n",
    "push!(a,6)     # => [1,2,4,6]"
   ]
  },
  {
   "cell_type": "markdown",
   "id": "19bc77cb",
   "metadata": {},
   "source": [
    "### append!\n",
    "\n",
    "Cette fonction permet de mettre bout à bout 2 tableaux"
   ]
  },
  {
   "cell_type": "code",
   "execution_count": null,
   "id": "277c854c",
   "metadata": {},
   "outputs": [],
   "source": [
    "append!(a,a)"
   ]
  },
  {
   "cell_type": "markdown",
   "id": "6c619ee3",
   "metadata": {},
   "source": [
    "A noté le  **Array{Any,1}** !"
   ]
  },
  {
   "cell_type": "code",
   "execution_count": null,
   "id": "9206872a",
   "metadata": {},
   "outputs": [],
   "source": [
    "a=zeros(Int32,1)\n",
    "push!(a,1)     # => [1]\n",
    "push!(a,2)     # => [1,2]\n",
    "push!(a,4)     # => [1,2,4]\n",
    "push!(a,6)  "
   ]
  },
  {
   "cell_type": "code",
   "execution_count": null,
   "id": "82df6b14",
   "metadata": {},
   "outputs": [],
   "source": [
    "a=zeros(0)"
   ]
  },
  {
   "cell_type": "code",
   "execution_count": null,
   "id": "a833db38",
   "metadata": {},
   "outputs": [],
   "source": [
    "a=zeros(Int32,1)"
   ]
  },
  {
   "cell_type": "markdown",
   "id": "147863dd",
   "metadata": {},
   "source": [
    "### Attention sur la conversion de type !"
   ]
  },
  {
   "cell_type": "code",
   "execution_count": null,
   "id": "f2e0f4b0",
   "metadata": {},
   "outputs": [],
   "source": [
    "a=collect(1:5)"
   ]
  },
  {
   "cell_type": "code",
   "execution_count": null,
   "id": "772bc175",
   "metadata": {},
   "outputs": [],
   "source": [
    "a=fill(0.,3,2)"
   ]
  },
  {
   "cell_type": "code",
   "execution_count": null,
   "id": "e52df5a1",
   "metadata": {},
   "outputs": [],
   "source": [
    "a[2]=sqrt(2)"
   ]
  },
  {
   "cell_type": "code",
   "execution_count": null,
   "id": "024cf693",
   "metadata": {},
   "outputs": [],
   "source": [
    "a=map(Float64,a)"
   ]
  },
  {
   "cell_type": "code",
   "execution_count": null,
   "id": "4a9f6684",
   "metadata": {},
   "outputs": [],
   "source": [
    "a=Float64.(a)"
   ]
  },
  {
   "cell_type": "markdown",
   "id": "d2234b5b",
   "metadata": {},
   "source": [
    "## Algèbre linéaire\n",
    "\n",
    "On retrouve beaucoup (toutes) de fonctions usuelles de l'algèbre linéaire"
   ]
  },
  {
   "cell_type": "code",
   "execution_count": null,
   "id": "5be98aca",
   "metadata": {},
   "outputs": [],
   "source": [
    "using LinearAlgebra"
   ]
  },
  {
   "cell_type": "code",
   "execution_count": null,
   "id": "c414de71",
   "metadata": {},
   "outputs": [],
   "source": [
    "A=[1 2 ; 3 4]\n",
    "size(A)"
   ]
  },
  {
   "cell_type": "code",
   "execution_count": null,
   "id": "2404da94",
   "metadata": {},
   "outputs": [],
   "source": [
    "det(A)"
   ]
  },
  {
   "cell_type": "code",
   "execution_count": null,
   "id": "ba0d9c24",
   "metadata": {},
   "outputs": [],
   "source": [
    "tr(A)"
   ]
  },
  {
   "cell_type": "code",
   "execution_count": null,
   "id": "36b115f8",
   "metadata": {},
   "outputs": [],
   "source": [
    "eigvals(A)"
   ]
  },
  {
   "cell_type": "code",
   "execution_count": null,
   "id": "c1b91954",
   "metadata": {},
   "outputs": [],
   "source": [
    "A=[1 2;3 4];b=[2 ; 3]; #résolution du système Ax=b\n",
    "x=A\\b "
   ]
  },
  {
   "cell_type": "markdown",
   "id": "27d12651",
   "metadata": {},
   "source": [
    "## Fonctions scientifiques et opérations\n",
    "\n",
    "L'usage des fonction scientifiques se fait termes à termes pour l'ensemble des valeurs du tableau (sauf pour les fonctions matricielles comme <code>exp</code>, <code>log</code> ...). L'usage des opérations <code>+</code>,<code>-</code>,<code>\\*</code>,<code>^</code>,<code>/</code> et `\\`(résolution) est disponible à condition de respecter les contraintes de dimension (multiplication matricielle par exemple). Sont ajouté des opérations termes à termes <code>.\\*</code>,<code>.^</code>,<code>./</code> et <code>.\\</code> toujours avec une contrainte de dimensions compatibles."
   ]
  },
  {
   "cell_type": "code",
   "execution_count": null,
   "id": "e9013fad",
   "metadata": {},
   "outputs": [],
   "source": [
    "A=[1 2;3 4]\n",
    "exp(A)"
   ]
  },
  {
   "cell_type": "code",
   "execution_count": null,
   "id": "a07a3a89",
   "metadata": {},
   "outputs": [],
   "source": [
    "exp.(A) # exponentielle matricielle"
   ]
  },
  {
   "cell_type": "markdown",
   "id": "081b9b17",
   "metadata": {},
   "source": [
    "De plus les tableaux possèdes des opérations de multiplication, division, puissance termes à termes"
   ]
  },
  {
   "cell_type": "code",
   "execution_count": null,
   "id": "662cbc5e",
   "metadata": {},
   "outputs": [],
   "source": [
    "A^2 #Multiplication Matricielle"
   ]
  },
  {
   "cell_type": "code",
   "execution_count": null,
   "id": "c2aa105f",
   "metadata": {},
   "outputs": [],
   "source": [
    "A.^2 #Multiplication terme à terme"
   ]
  },
  {
   "cell_type": "code",
   "execution_count": null,
   "id": "8bcbb304",
   "metadata": {},
   "outputs": [],
   "source": [
    "A./[2 3 ; 4 5] #Division terme à terme "
   ]
  },
  {
   "cell_type": "code",
   "execution_count": null,
   "id": "8b8cf523",
   "metadata": {},
   "outputs": [],
   "source": [
    "A./2"
   ]
  },
  {
   "cell_type": "markdown",
   "id": "00c1fe69",
   "metadata": {},
   "source": [
    "## Opérateurs booléens sur les tableaux"
   ]
  },
  {
   "cell_type": "code",
   "execution_count": null,
   "id": "dfe9d707",
   "metadata": {},
   "outputs": [],
   "source": [
    "collect(1:5)>2"
   ]
  },
  {
   "cell_type": "code",
   "execution_count": null,
   "id": "4f0349b7",
   "metadata": {},
   "outputs": [],
   "source": [
    "collect(1:5).>2"
   ]
  },
  {
   "cell_type": "code",
   "execution_count": null,
   "id": "a2535370",
   "metadata": {},
   "outputs": [],
   "source": [
    "collect(1:5).>[0;2;3;4;5]"
   ]
  },
  {
   "cell_type": "code",
   "execution_count": null,
   "id": "38370cbe",
   "metadata": {},
   "outputs": [],
   "source": [
    "collect(1:5).>[0 2 3 4 5]"
   ]
  },
  {
   "cell_type": "markdown",
   "id": "68a8b724",
   "metadata": {},
   "source": [
    "## Particularité max, maximum, min, minimum"
   ]
  },
  {
   "cell_type": "code",
   "execution_count": null,
   "id": "530405bd",
   "metadata": {},
   "outputs": [],
   "source": [
    "max(2,3)"
   ]
  },
  {
   "cell_type": "code",
   "execution_count": null,
   "id": "a292fe51",
   "metadata": {},
   "outputs": [],
   "source": [
    "max(1,2,3)"
   ]
  },
  {
   "cell_type": "code",
   "execution_count": null,
   "id": "fd0f0b27",
   "metadata": {},
   "outputs": [],
   "source": [
    "max(1:5)"
   ]
  },
  {
   "cell_type": "code",
   "execution_count": null,
   "id": "4f8a4dbf",
   "metadata": {},
   "outputs": [],
   "source": [
    "maximum(1:5)"
   ]
  },
  {
   "cell_type": "code",
   "execution_count": null,
   "id": "5f0f379f",
   "metadata": {},
   "outputs": [],
   "source": [
    "max.(1:5,2:6)"
   ]
  },
  {
   "cell_type": "markdown",
   "id": "366399c6",
   "metadata": {},
   "source": [
    "## Constructeurs\n",
    "\n",
    "Enfin il est possible de construire rapidement certaines matrices"
   ]
  },
  {
   "cell_type": "code",
   "execution_count": null,
   "id": "82c9fadb",
   "metadata": {},
   "outputs": [],
   "source": [
    "a=fill(0.,2,3) "
   ]
  },
  {
   "cell_type": "code",
   "execution_count": null,
   "id": "2aae0c96",
   "metadata": {},
   "outputs": [],
   "source": [
    "a=fill(2,2)"
   ]
  },
  {
   "cell_type": "code",
   "execution_count": null,
   "id": "2de9efd4",
   "metadata": {},
   "outputs": [],
   "source": [
    "b=range(0,stop=2*pi,length=10)"
   ]
  },
  {
   "cell_type": "code",
   "execution_count": null,
   "id": "76c8882a",
   "metadata": {},
   "outputs": [],
   "source": [
    "c = LinRange(0, 2π, 10)"
   ]
  },
  {
   "cell_type": "code",
   "execution_count": null,
   "id": "c0634f1c",
   "metadata": {},
   "outputs": [],
   "source": [
    "collect(b)"
   ]
  },
  {
   "cell_type": "code",
   "execution_count": null,
   "id": "65e30d52",
   "metadata": {},
   "outputs": [],
   "source": [
    "A=ones(3)"
   ]
  },
  {
   "cell_type": "code",
   "execution_count": null,
   "id": "e7214c5e",
   "metadata": {},
   "outputs": [],
   "source": [
    "A=zeros(3)"
   ]
  },
  {
   "cell_type": "code",
   "execution_count": null,
   "id": "50c5873b",
   "metadata": {},
   "outputs": [],
   "source": [
    "B=randn(5) # loi normale centrée de variance 1"
   ]
  },
  {
   "cell_type": "code",
   "execution_count": null,
   "id": "dea00805",
   "metadata": {},
   "outputs": [],
   "source": [
    "B=[ones(3,2) zeros(3,2)] # concaténation de tableaux"
   ]
  },
  {
   "cell_type": "code",
   "execution_count": null,
   "id": "ee03f9c0",
   "metadata": {},
   "outputs": [],
   "source": [
    "B=[ones(3,2); zeros(3,2)] # , ou ; jouent le rôle de retour à la ligne"
   ]
  },
  {
   "cell_type": "code",
   "execution_count": null,
   "id": "78e4f20b",
   "metadata": {},
   "outputs": [],
   "source": [
    "C=Diagonal(ones(3,3))"
   ]
  },
  {
   "cell_type": "code",
   "execution_count": null,
   "id": "023277b3",
   "metadata": {},
   "outputs": [],
   "source": [
    "diag(C) # extraction d'une diagonale"
   ]
  },
  {
   "cell_type": "code",
   "execution_count": null,
   "id": "ec909b38",
   "metadata": {},
   "outputs": [],
   "source": [
    "diagm(ones(3))"
   ]
  },
  {
   "cell_type": "code",
   "execution_count": null,
   "id": "7e1c28ba",
   "metadata": {},
   "outputs": [],
   "source": [
    "Matrix(I, 3, 3)"
   ]
  },
  {
   "cell_type": "markdown",
   "id": "55cc408a",
   "metadata": {},
   "source": [
    "## type sparse\n",
    "\n",
    "Julia possède un type sparse i.e. des matrices creuses, ces dernières ayant un comportement identique aux matrices elles ne diffèrent que dans leur définition (et leur stockage)."
   ]
  },
  {
   "cell_type": "code",
   "execution_count": null,
   "id": "b4e593ec",
   "metadata": {},
   "outputs": [],
   "source": [
    "using SparseArrays"
   ]
  },
  {
   "cell_type": "code",
   "execution_count": null,
   "id": "861c4f33",
   "metadata": {},
   "outputs": [],
   "source": [
    "A=spzeros(3,3)"
   ]
  },
  {
   "cell_type": "code",
   "execution_count": null,
   "id": "e98f74f5",
   "metadata": {},
   "outputs": [],
   "source": [
    "A=spdiagm(0 => 1:3)"
   ]
  },
  {
   "cell_type": "code",
   "execution_count": null,
   "id": "2b402e15",
   "metadata": {},
   "outputs": [],
   "source": [
    "A=A+spdiagm(1 => 1:2)"
   ]
  },
  {
   "cell_type": "code",
   "execution_count": null,
   "id": "5841d55e",
   "metadata": {},
   "outputs": [],
   "source": [
    "sparse([0 1 2; 2 0 0]) # pour rendre sparse une matrice \"full\""
   ]
  },
  {
   "cell_type": "code",
   "execution_count": null,
   "id": "05cf6f70",
   "metadata": {},
   "outputs": [],
   "source": [
    "det(A)"
   ]
  },
  {
   "cell_type": "markdown",
   "id": "f589f179",
   "metadata": {},
   "source": [
    "## Affectation et copie\n",
    "\n",
    "Attention julia à un mode de passage de valeur qui fonctionne différemment suivant une variable type ou un tableau.\n",
    "\n",
    "Pour une variable scalaire"
   ]
  },
  {
   "cell_type": "code",
   "execution_count": null,
   "id": "4d918255",
   "metadata": {},
   "outputs": [],
   "source": [
    "a=1\n",
    "b=a\n",
    "b+=1"
   ]
  },
  {
   "cell_type": "code",
   "execution_count": null,
   "id": "a8ef00a9",
   "metadata": {},
   "outputs": [],
   "source": [
    "a"
   ]
  },
  {
   "cell_type": "code",
   "execution_count": null,
   "id": "4e79f3db",
   "metadata": {},
   "outputs": [],
   "source": [
    "b"
   ]
  },
  {
   "cell_type": "markdown",
   "id": "0be776ed",
   "metadata": {},
   "source": [
    "Par contre maintenant si la variable est un tableau"
   ]
  },
  {
   "cell_type": "code",
   "execution_count": null,
   "id": "603c565e",
   "metadata": {},
   "outputs": [],
   "source": [
    "A=collect(1:5)\n",
    "B=A\n",
    "B.+=1"
   ]
  },
  {
   "cell_type": "code",
   "execution_count": null,
   "id": "a47a290c",
   "metadata": {},
   "outputs": [],
   "source": [
    "A"
   ]
  },
  {
   "cell_type": "code",
   "execution_count": null,
   "id": "837b008c",
   "metadata": {},
   "outputs": [],
   "source": [
    "B"
   ]
  },
  {
   "cell_type": "markdown",
   "id": "41dad1b2",
   "metadata": {},
   "source": [
    "Pour avoir un comportement il faut copier le tableau A "
   ]
  },
  {
   "cell_type": "code",
   "execution_count": null,
   "id": "0a607127",
   "metadata": {},
   "outputs": [],
   "source": [
    "A=collect(1:5)\n",
    "B=copy(A)\n",
    "B.+=1"
   ]
  },
  {
   "cell_type": "code",
   "execution_count": null,
   "id": "359350bc",
   "metadata": {},
   "outputs": [],
   "source": [
    "A"
   ]
  },
  {
   "cell_type": "code",
   "execution_count": null,
   "id": "0377fbae",
   "metadata": {},
   "outputs": [],
   "source": [
    "B"
   ]
  },
  {
   "cell_type": "markdown",
   "id": "787f4039",
   "metadata": {},
   "source": [
    "# Dictionnaire"
   ]
  },
  {
   "cell_type": "code",
   "execution_count": null,
   "id": "dd9bcf08",
   "metadata": {},
   "outputs": [],
   "source": [
    "d = Dict(:key1 => \"val1\", :key2 => \"val2\")"
   ]
  },
  {
   "cell_type": "code",
   "execution_count": null,
   "id": "d65f4547",
   "metadata": {},
   "outputs": [],
   "source": [
    "keys(d) # Toutes clés (itérateur)"
   ]
  },
  {
   "cell_type": "code",
   "execution_count": null,
   "id": "9fcc2ec2",
   "metadata": {},
   "outputs": [],
   "source": [
    "values(d) # Toutes valeurs (itérateur)"
   ]
  },
  {
   "cell_type": "code",
   "execution_count": null,
   "id": "db65242b",
   "metadata": {},
   "outputs": [],
   "source": [
    "for (k,v) in d # Itérer par paire clé-valeur\n",
    "    println(\"key: $k, value: $v\")\n",
    "end"
   ]
  },
  {
   "cell_type": "code",
   "execution_count": null,
   "id": "b87b7a90",
   "metadata": {},
   "outputs": [],
   "source": [
    "haskey(d, :k) # Vérifier la présence de la clé :k"
   ]
  },
  {
   "cell_type": "markdown",
   "id": "728dd33b",
   "metadata": {},
   "source": [
    "Les dictionnaires sont muables; quand des symboles sont utilisés comme clés, les clés sont immuables."
   ]
  }
 ],
 "metadata": {
  "jupytext": {
   "cell_metadata_filter": "-all",
   "main_language": "julia",
   "notebook_metadata_filter": "-all"
  }
 },
 "nbformat": 4,
 "nbformat_minor": 5
}
