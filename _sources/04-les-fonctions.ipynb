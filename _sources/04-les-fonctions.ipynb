{
 "cells": [
  {
   "cell_type": "markdown",
   "id": "673a2fdc",
   "metadata": {},
   "source": [
    "# Les fonctions\n",
    "\n",
    "Il est possible de définir une fonction de trois façons différentes :\n",
    "\n",
    "## Définition en ligne"
   ]
  },
  {
   "cell_type": "code",
   "execution_count": null,
   "id": "f9d69536",
   "metadata": {},
   "outputs": [],
   "source": [
    "f(x)=x+1"
   ]
  },
  {
   "cell_type": "code",
   "execution_count": null,
   "id": "e3751ac1",
   "metadata": {},
   "outputs": [],
   "source": [
    "f(2)"
   ]
  },
  {
   "cell_type": "code",
   "execution_count": null,
   "id": "14d40bad",
   "metadata": {},
   "outputs": [],
   "source": [
    "g(x,y)=[x*y+1, x-y]"
   ]
  },
  {
   "cell_type": "code",
   "execution_count": null,
   "id": "829d4274",
   "metadata": {},
   "outputs": [],
   "source": [
    "g(1,2)"
   ]
  },
  {
   "cell_type": "markdown",
   "id": "22e08efc",
   "metadata": {},
   "source": [
    "Il est possible d'utiliser **begin**-**end** ou **( ; )** pour délimiter la fonction la dernière valeur calculée est retournée"
   ]
  },
  {
   "cell_type": "code",
   "execution_count": null,
   "id": "5a06942a",
   "metadata": {},
   "outputs": [],
   "source": [
    "h(x)=begin\n",
    "    y=2\n",
    "    x+y\n",
    "end"
   ]
  },
  {
   "cell_type": "code",
   "execution_count": null,
   "id": "3826d109",
   "metadata": {},
   "outputs": [],
   "source": [
    "h(3)"
   ]
  },
  {
   "cell_type": "code",
   "execution_count": null,
   "id": "1127471d",
   "metadata": {},
   "outputs": [],
   "source": [
    "h(x)=(y=2;x+y) # equivallent à la première écriture"
   ]
  },
  {
   "cell_type": "code",
   "execution_count": null,
   "id": "78acdd2c",
   "metadata": {},
   "outputs": [],
   "source": [
    "h(3)"
   ]
  },
  {
   "cell_type": "markdown",
   "id": "0211c52c",
   "metadata": {},
   "source": [
    "## Structurée\n",
    "\n",
    "*Julia* possède une structure plus classique à l'aide de **function**-**end** comme précédemment la dernière valeur calculée est par défaut la variable de retour autrement l'utilisation de **return** spécifie la ou les variables de sortie. "
   ]
  },
  {
   "cell_type": "code",
   "execution_count": null,
   "id": "b1d41e75",
   "metadata": {},
   "outputs": [],
   "source": [
    "function H(x,y)\n",
    "    z=x+y\n",
    "    z^2/(abs(x)+1)\n",
    "end"
   ]
  },
  {
   "cell_type": "code",
   "execution_count": null,
   "id": "d6d6357e",
   "metadata": {},
   "outputs": [],
   "source": [
    "H(1,2)"
   ]
  },
  {
   "cell_type": "markdown",
   "id": "da7d470a",
   "metadata": {},
   "source": [
    "L'usage de **return** pour fixer la sortie "
   ]
  },
  {
   "cell_type": "code",
   "execution_count": null,
   "id": "2be953d0",
   "metadata": {},
   "outputs": [],
   "source": [
    "function Choix(x)\n",
    "    if x>0\n",
    "        return \"Positif\"\n",
    "    else\n",
    "        return \"Négatif\"\n",
    "    end\n",
    "end"
   ]
  },
  {
   "cell_type": "code",
   "execution_count": null,
   "id": "3cecf261",
   "metadata": {},
   "outputs": [],
   "source": [
    "txt=Choix(3)"
   ]
  },
  {
   "cell_type": "markdown",
   "id": "acd2ed7c",
   "metadata": {},
   "source": [
    "## Anonyme\n",
    "\n",
    "Le concept peut paraître abstrait mais on peut définir une fonction sans la nommer puis l'affecter à une variable..."
   ]
  },
  {
   "cell_type": "code",
   "execution_count": null,
   "id": "e8ddede7",
   "metadata": {},
   "outputs": [],
   "source": [
    "x->x^2"
   ]
  },
  {
   "cell_type": "code",
   "execution_count": null,
   "id": "f41c2730",
   "metadata": {},
   "outputs": [],
   "source": [
    "G=x->sqrt(x)"
   ]
  },
  {
   "cell_type": "code",
   "execution_count": null,
   "id": "4e4f1fa4",
   "metadata": {},
   "outputs": [],
   "source": [
    "G(1)"
   ]
  },
  {
   "cell_type": "code",
   "execution_count": null,
   "id": "fd163277",
   "metadata": {},
   "outputs": [],
   "source": [
    "typeof(G)"
   ]
  },
  {
   "cell_type": "markdown",
   "id": "13691513",
   "metadata": {},
   "source": [
    "## Arguments de sortie\n",
    "\n",
    "Pour avoir plusieurs arguments de sortie il faut utiliser un \"tuple\" autrement dit une collection d'éléments"
   ]
  },
  {
   "cell_type": "code",
   "execution_count": null,
   "id": "7f63ee67",
   "metadata": {},
   "outputs": [],
   "source": [
    "function multi_output(x,y)\n",
    "    return x+y, x-y\n",
    "end"
   ]
  },
  {
   "cell_type": "code",
   "execution_count": null,
   "id": "98dc6a91",
   "metadata": {},
   "outputs": [],
   "source": [
    "a=multi_output(1,2) # un seul argument de sortie qui contient un tuple"
   ]
  },
  {
   "cell_type": "code",
   "execution_count": null,
   "id": "5f3bfd4d",
   "metadata": {},
   "outputs": [],
   "source": [
    "typeof(a)"
   ]
  },
  {
   "cell_type": "code",
   "execution_count": null,
   "id": "7a138281",
   "metadata": {},
   "outputs": [],
   "source": [
    "a[1]"
   ]
  },
  {
   "cell_type": "code",
   "execution_count": null,
   "id": "4c8bb7a7",
   "metadata": {},
   "outputs": [],
   "source": [
    "a[2]"
   ]
  },
  {
   "cell_type": "code",
   "execution_count": null,
   "id": "23e109fd",
   "metadata": {},
   "outputs": [],
   "source": [
    "a , b =multi_output(1,2) # assignation aux 2 arguments de sortie"
   ]
  },
  {
   "cell_type": "code",
   "execution_count": null,
   "id": "6ef7321e",
   "metadata": {},
   "outputs": [],
   "source": [
    "a"
   ]
  },
  {
   "cell_type": "code",
   "execution_count": null,
   "id": "f431a931",
   "metadata": {},
   "outputs": [],
   "source": [
    "b"
   ]
  },
  {
   "cell_type": "markdown",
   "id": "085afb09",
   "metadata": {},
   "source": [
    "## Portée des variables \n",
    "\n",
    "Quelle est la portée des variables, autrement dit une variable définie peut elle être accessible, modifiable dans une fonction sans la passer en paramètre ?"
   ]
  },
  {
   "cell_type": "code",
   "execution_count": null,
   "id": "ba89b39f",
   "metadata": {},
   "outputs": [],
   "source": [
    "a=1\n",
    "f(x)=a+x\n",
    "f(1)"
   ]
  },
  {
   "cell_type": "code",
   "execution_count": null,
   "id": "ee4a70e4",
   "metadata": {},
   "outputs": [],
   "source": [
    "a=1\n",
    "function ff(x)\n",
    "    x+a\n",
    "end\n",
    "ff(1)"
   ]
  },
  {
   "cell_type": "code",
   "execution_count": null,
   "id": "33818dc4",
   "metadata": {},
   "outputs": [],
   "source": [
    "a=1\n",
    "function ff(x)\n",
    "    x+a # on utilise a défini en dehors de la fonction\n",
    "    a=2 # on tente de changer la valeur de a... error !\n",
    "end\n",
    "ff(1)"
   ]
  },
  {
   "cell_type": "code",
   "execution_count": null,
   "id": "fd6bc8cf",
   "metadata": {},
   "outputs": [],
   "source": [
    "a=1\n",
    "function ff(x)\n",
    "    a=2\n",
    "    x+a\n",
    "end\n",
    "ff(1)"
   ]
  },
  {
   "cell_type": "code",
   "execution_count": null,
   "id": "4a5a5cad",
   "metadata": {},
   "outputs": [],
   "source": [
    "a"
   ]
  },
  {
   "cell_type": "markdown",
   "id": "8e9cc8f7",
   "metadata": {},
   "source": [
    "Donc par défaut une variable définie est connue et utilisable par toute fonction appelée (de même à l'intérieur d'une fonction).\n",
    "\n",
    "Si on redéfinit localement dans la fonction la variable alors \"elle écrase localement\" la dite variable et en sortie de fonction rien n'est modifié.\n",
    "\n",
    "Attention à l'utilisation dans la fonction d'une variable extérieure puis d'affecter une valeur à cette variable...\n",
    "\n"
   ]
  },
  {
   "cell_type": "markdown",
   "id": "f0ffc9d1",
   "metadata": {},
   "source": [
    "## Le mapping\n",
    "\n",
    "Souvent on écrit une fonction sous une forme scalaire sans chercher à utiliser les opérations vectorielles pour appliquer cette fonction à un tableau"
   ]
  },
  {
   "cell_type": "code",
   "execution_count": null,
   "id": "20074cc5",
   "metadata": {},
   "outputs": [],
   "source": [
    "f(x)=x^2 +1\n",
    "f(1:5)  # il aurait fallu définir f(x)=x.^2.+1"
   ]
  },
  {
   "cell_type": "markdown",
   "id": "365bd0a4",
   "metadata": {},
   "source": [
    "La fonction <code>map</code> permet de palier à ce manquement"
   ]
  },
  {
   "cell_type": "code",
   "execution_count": null,
   "id": "cd117b8d",
   "metadata": {},
   "outputs": [],
   "source": [
    "map(f,1:5)"
   ]
  },
  {
   "cell_type": "code",
   "execution_count": null,
   "id": "be3d928b",
   "metadata": {},
   "outputs": [],
   "source": [
    "f.(1:5)"
   ]
  },
  {
   "cell_type": "code",
   "execution_count": null,
   "id": "a2a7bc8c",
   "metadata": {},
   "outputs": [],
   "source": [
    "v = [1 2; 3 4]\n",
    "map(f,v)"
   ]
  },
  {
   "cell_type": "code",
   "execution_count": null,
   "id": "c12b4cbc",
   "metadata": {},
   "outputs": [],
   "source": [
    "reduce(+, v )"
   ]
  },
  {
   "cell_type": "code",
   "execution_count": null,
   "id": "b7edb2bf",
   "metadata": {},
   "outputs": [],
   "source": [
    "sum(v)"
   ]
  },
  {
   "cell_type": "code",
   "execution_count": null,
   "id": "7090f721",
   "metadata": {},
   "outputs": [],
   "source": [
    "f.([1 2; 3 4])"
   ]
  },
  {
   "cell_type": "code",
   "execution_count": null,
   "id": "dd93f465",
   "metadata": {},
   "outputs": [],
   "source": [
    "g(x,y)=x+y\n",
    "map(g,0:3,1:4)"
   ]
  },
  {
   "cell_type": "code",
   "execution_count": null,
   "id": "53c7da38",
   "metadata": {},
   "outputs": [],
   "source": [
    "map(g,[1 2;3 4],[2 3;4 5])"
   ]
  },
  {
   "cell_type": "code",
   "execution_count": null,
   "id": "913a8c06",
   "metadata": {},
   "outputs": [],
   "source": [
    "g(f,x)=f(x)+1"
   ]
  },
  {
   "cell_type": "code",
   "execution_count": null,
   "id": "520b470b",
   "metadata": {},
   "outputs": [],
   "source": [
    "g(sin,1)"
   ]
  },
  {
   "cell_type": "markdown",
   "id": "0e302387",
   "metadata": {},
   "source": [
    "Il existe également un opérateur pour \"composer\" les fonctions `\\circ`"
   ]
  },
  {
   "cell_type": "code",
   "execution_count": null,
   "id": "ef6de552",
   "metadata": {},
   "outputs": [],
   "source": [
    "f1(x) = 2x + 1\n",
    "f2(x) = 1 - 4x\n",
    "(f1 ∘ f2)(3)"
   ]
  },
  {
   "cell_type": "code",
   "execution_count": null,
   "id": "c50331bc",
   "metadata": {},
   "outputs": [],
   "source": [
    "f1(f2(3))"
   ]
  },
  {
   "cell_type": "code",
   "execution_count": null,
   "id": "140b250a",
   "metadata": {},
   "outputs": [],
   "source": []
  }
 ],
 "metadata": {
  "jupytext": {
   "cell_metadata_filter": "-all",
   "main_language": "julia",
   "notebook_metadata_filter": "-all"
  }
 },
 "nbformat": 4,
 "nbformat_minor": 5
}
