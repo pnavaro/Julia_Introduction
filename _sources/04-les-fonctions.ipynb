{
 "cells": [
  {
   "cell_type": "markdown",
   "id": "673a2fdc",
   "metadata": {},
   "source": [
    "# Les fonctions\n",
    "\n",
    "Il est possible de définir une fonction de trois façons différentes :\n",
    "\n",
    "## Définition en ligne"
   ]
  },
  {
   "cell_type": "code",
   "execution_count": 1,
   "id": "f9d69536",
   "metadata": {},
   "outputs": [
    {
     "data": {
      "text/plain": [
       "f (generic function with 1 method)"
      ]
     },
     "execution_count": 1,
     "metadata": {},
     "output_type": "execute_result"
    }
   ],
   "source": [
    "f(x) = 3x + 1"
   ]
  },
  {
   "cell_type": "code",
   "execution_count": 2,
   "id": "e3751ac1",
   "metadata": {},
   "outputs": [
    {
     "data": {
      "text/plain": [
       "7"
      ]
     },
     "execution_count": 2,
     "metadata": {},
     "output_type": "execute_result"
    }
   ],
   "source": [
    "f(2)"
   ]
  },
  {
   "cell_type": "code",
   "execution_count": 3,
   "id": "14d40bad",
   "metadata": {},
   "outputs": [
    {
     "data": {
      "text/plain": [
       "g (generic function with 1 method)"
      ]
     },
     "execution_count": 3,
     "metadata": {},
     "output_type": "execute_result"
    }
   ],
   "source": [
    "g(x,y)=[x*y+1, x-y]"
   ]
  },
  {
   "cell_type": "code",
   "execution_count": 4,
   "id": "829d4274",
   "metadata": {},
   "outputs": [
    {
     "data": {
      "text/plain": [
       "2-element Vector{Int64}:\n",
       "  3\n",
       " -1"
      ]
     },
     "execution_count": 4,
     "metadata": {},
     "output_type": "execute_result"
    }
   ],
   "source": [
    "g(1,2)"
   ]
  },
  {
   "cell_type": "markdown",
   "id": "22e08efc",
   "metadata": {},
   "source": [
    "Il est possible d'utiliser **begin**-**end** ou **( ; )** pour délimiter la fonction la dernière valeur calculée est retournée"
   ]
  },
  {
   "cell_type": "code",
   "execution_count": 5,
   "id": "5a06942a",
   "metadata": {},
   "outputs": [
    {
     "data": {
      "text/plain": [
       "h (generic function with 1 method)"
      ]
     },
     "execution_count": 5,
     "metadata": {},
     "output_type": "execute_result"
    }
   ],
   "source": [
    "h(x) = begin\n",
    "    y = 2\n",
    "    x + y\n",
    "end"
   ]
  },
  {
   "cell_type": "code",
   "execution_count": 6,
   "id": "3826d109",
   "metadata": {},
   "outputs": [
    {
     "data": {
      "text/plain": [
       "5"
      ]
     },
     "execution_count": 6,
     "metadata": {},
     "output_type": "execute_result"
    }
   ],
   "source": [
    "h(3)"
   ]
  },
  {
   "cell_type": "code",
   "execution_count": 7,
   "id": "1127471d",
   "metadata": {},
   "outputs": [
    {
     "data": {
      "text/plain": [
       "h (generic function with 1 method)"
      ]
     },
     "execution_count": 7,
     "metadata": {},
     "output_type": "execute_result"
    }
   ],
   "source": [
    "h(x) = (y=2; x+y) # equivalent à la première écriture"
   ]
  },
  {
   "cell_type": "code",
   "execution_count": 8,
   "id": "78acdd2c",
   "metadata": {},
   "outputs": [
    {
     "data": {
      "text/plain": [
       "5"
      ]
     },
     "execution_count": 8,
     "metadata": {},
     "output_type": "execute_result"
    }
   ],
   "source": [
    "h(3)"
   ]
  },
  {
   "cell_type": "markdown",
   "id": "0211c52c",
   "metadata": {},
   "source": [
    "## Structurée\n",
    "\n",
    "*Julia* possède une structure plus classique à l'aide de **function**-**end** comme précédemment la dernière valeur calculée est par défaut la variable de retour autrement l'utilisation de **return** spécifie la ou les variables de sortie. "
   ]
  },
  {
   "cell_type": "code",
   "execution_count": 9,
   "id": "b1d41e75",
   "metadata": {},
   "outputs": [
    {
     "data": {
      "text/plain": [
       "h (generic function with 2 methods)"
      ]
     },
     "execution_count": 9,
     "metadata": {},
     "output_type": "execute_result"
    }
   ],
   "source": [
    "function h(x,y)\n",
    "    z = x+y\n",
    "    return z^2/(abs(x)+1)\n",
    "end"
   ]
  },
  {
   "cell_type": "code",
   "execution_count": 10,
   "id": "d6d6357e",
   "metadata": {},
   "outputs": [
    {
     "data": {
      "text/plain": [
       "4.5"
      ]
     },
     "execution_count": 10,
     "metadata": {},
     "output_type": "execute_result"
    }
   ],
   "source": [
    "h(1,2)"
   ]
  },
  {
   "cell_type": "markdown",
   "id": "da7d470a",
   "metadata": {},
   "source": [
    "L'usage de **return** pour fixer la sortie "
   ]
  },
  {
   "cell_type": "code",
   "execution_count": 11,
   "id": "2be953d0",
   "metadata": {},
   "outputs": [
    {
     "data": {
      "text/plain": [
       "choix (generic function with 1 method)"
      ]
     },
     "execution_count": 11,
     "metadata": {},
     "output_type": "execute_result"
    }
   ],
   "source": [
    "function choix(x)\n",
    "    if x>0\n",
    "        return \"Positif\"\n",
    "    else\n",
    "        return \"Négatif\"\n",
    "    end\n",
    "end"
   ]
  },
  {
   "cell_type": "code",
   "execution_count": 12,
   "id": "3cecf261",
   "metadata": {},
   "outputs": [
    {
     "data": {
      "text/plain": [
       "\"Positif\""
      ]
     },
     "execution_count": 12,
     "metadata": {},
     "output_type": "execute_result"
    }
   ],
   "source": [
    "txt=choix(3)"
   ]
  },
  {
   "cell_type": "code",
   "execution_count": 13,
   "id": "9adc8ce5",
   "metadata": {},
   "outputs": [
    {
     "data": {
      "text/plain": [
       "choix (generic function with 1 method)"
      ]
     },
     "execution_count": 13,
     "metadata": {},
     "output_type": "execute_result"
    }
   ],
   "source": [
    "choix(x) = x > 0 ? \"Positif\" : \"Négatif\""
   ]
  },
  {
   "cell_type": "markdown",
   "id": "acd2ed7c",
   "metadata": {},
   "source": [
    "## Anonyme\n",
    "\n",
    "Le concept peut paraître abstrait mais on peut définir une fonction sans la nommer puis l'affecter à une variable..."
   ]
  },
  {
   "cell_type": "code",
   "execution_count": 14,
   "id": "e8ddede7",
   "metadata": {},
   "outputs": [
    {
     "data": {
      "text/plain": [
       "#1 (generic function with 1 method)"
      ]
     },
     "execution_count": 14,
     "metadata": {},
     "output_type": "execute_result"
    }
   ],
   "source": [
    "x -> x^2"
   ]
  },
  {
   "cell_type": "code",
   "execution_count": 15,
   "id": "f41c2730",
   "metadata": {},
   "outputs": [
    {
     "data": {
      "text/plain": [
       "#3 (generic function with 1 method)"
      ]
     },
     "execution_count": 15,
     "metadata": {},
     "output_type": "execute_result"
    }
   ],
   "source": [
    "λ = x -> sqrt(x)"
   ]
  },
  {
   "cell_type": "code",
   "execution_count": 16,
   "id": "4e4f1fa4",
   "metadata": {},
   "outputs": [
    {
     "data": {
      "text/plain": [
       "1.0"
      ]
     },
     "execution_count": 16,
     "metadata": {},
     "output_type": "execute_result"
    }
   ],
   "source": [
    "λ(1)"
   ]
  },
  {
   "cell_type": "code",
   "execution_count": 17,
   "id": "fd163277",
   "metadata": {},
   "outputs": [
    {
     "data": {
      "text/plain": [
       "var\"#3#4\""
      ]
     },
     "execution_count": 17,
     "metadata": {},
     "output_type": "execute_result"
    }
   ],
   "source": [
    "typeof(λ)"
   ]
  },
  {
   "cell_type": "markdown",
   "id": "13691513",
   "metadata": {},
   "source": [
    "## Arguments de sortie\n",
    "\n",
    "Pour avoir plusieurs arguments de sortie il faut utiliser un \"tuple\" autrement dit une collection d'éléments"
   ]
  },
  {
   "cell_type": "code",
   "execution_count": 18,
   "id": "7f63ee67",
   "metadata": {},
   "outputs": [
    {
     "data": {
      "text/plain": [
       "multi_output (generic function with 1 method)"
      ]
     },
     "execution_count": 18,
     "metadata": {},
     "output_type": "execute_result"
    }
   ],
   "source": [
    "function multi_output(x,y)\n",
    "    return x+y, x-y\n",
    "end"
   ]
  },
  {
   "cell_type": "code",
   "execution_count": 19,
   "id": "98dc6a91",
   "metadata": {},
   "outputs": [
    {
     "data": {
      "text/plain": [
       "(3, -1)"
      ]
     },
     "execution_count": 19,
     "metadata": {},
     "output_type": "execute_result"
    }
   ],
   "source": [
    "a = multi_output(1,2) # un seul argument de sortie qui contient un tuple"
   ]
  },
  {
   "cell_type": "code",
   "execution_count": 20,
   "id": "7d17d5d2",
   "metadata": {},
   "outputs": [
    {
     "data": {
      "text/plain": [
       "(4, 5, 6)"
      ]
     },
     "execution_count": 20,
     "metadata": {},
     "output_type": "execute_result"
    }
   ],
   "source": [
    "t = (4,5,6)"
   ]
  },
  {
   "cell_type": "code",
   "execution_count": 21,
   "id": "3bcb3951",
   "metadata": {},
   "outputs": [
    {
     "data": {
      "text/plain": [
       "Tuple{Int64, Int64, Int64}"
      ]
     },
     "execution_count": 21,
     "metadata": {},
     "output_type": "execute_result"
    }
   ],
   "source": [
    "typeof(t)"
   ]
  },
  {
   "cell_type": "code",
   "execution_count": 22,
   "id": "5f3bfd4d",
   "metadata": {},
   "outputs": [
    {
     "data": {
      "text/plain": [
       "Tuple{Int64, Int64}"
      ]
     },
     "execution_count": 22,
     "metadata": {},
     "output_type": "execute_result"
    }
   ],
   "source": [
    "typeof(a)"
   ]
  },
  {
   "cell_type": "code",
   "execution_count": 23,
   "id": "7a138281",
   "metadata": {},
   "outputs": [
    {
     "data": {
      "text/plain": [
       "3"
      ]
     },
     "execution_count": 23,
     "metadata": {},
     "output_type": "execute_result"
    }
   ],
   "source": [
    "a[1]"
   ]
  },
  {
   "cell_type": "code",
   "execution_count": 24,
   "id": "4c8bb7a7",
   "metadata": {},
   "outputs": [
    {
     "data": {
      "text/plain": [
       "-1"
      ]
     },
     "execution_count": 24,
     "metadata": {},
     "output_type": "execute_result"
    }
   ],
   "source": [
    "a[2]"
   ]
  },
  {
   "cell_type": "code",
   "execution_count": 25,
   "id": "23e109fd",
   "metadata": {},
   "outputs": [
    {
     "data": {
      "text/plain": [
       "(3, -1)"
      ]
     },
     "execution_count": 25,
     "metadata": {},
     "output_type": "execute_result"
    }
   ],
   "source": [
    "a, b = multi_output(1,2) # assignation aux 2 arguments de sortie"
   ]
  },
  {
   "cell_type": "code",
   "execution_count": 26,
   "id": "6ef7321e",
   "metadata": {},
   "outputs": [
    {
     "data": {
      "text/plain": [
       "3"
      ]
     },
     "execution_count": 26,
     "metadata": {},
     "output_type": "execute_result"
    }
   ],
   "source": [
    "a"
   ]
  },
  {
   "cell_type": "code",
   "execution_count": 27,
   "id": "f431a931",
   "metadata": {},
   "outputs": [
    {
     "data": {
      "text/plain": [
       "-1"
      ]
     },
     "execution_count": 27,
     "metadata": {},
     "output_type": "execute_result"
    }
   ],
   "source": [
    "b"
   ]
  },
  {
   "cell_type": "markdown",
   "id": "085afb09",
   "metadata": {},
   "source": [
    "## Portée des variables \n",
    "\n",
    "Quelle est la portée des variables, autrement dit une variable définie peut elle être accessible, modifiable dans une fonction sans la passer en paramètre ?"
   ]
  },
  {
   "cell_type": "code",
   "execution_count": 28,
   "id": "ba89b39f",
   "metadata": {},
   "outputs": [
    {
     "data": {
      "text/plain": [
       "2"
      ]
     },
     "execution_count": 28,
     "metadata": {},
     "output_type": "execute_result"
    }
   ],
   "source": [
    "a = 1\n",
    "f(x) = a + x\n",
    "f(1)"
   ]
  },
  {
   "cell_type": "markdown",
   "id": "46851a48",
   "metadata": {},
   "source": [
    "Attention, lorsque l'on utilise des variables globales à l'intérieur d'une fonction. La compilation est plus difficile car\n",
    "la fonction doit prendre en compte les modifications éventuelles de la variable `a`"
   ]
  },
  {
   "cell_type": "code",
   "execution_count": 29,
   "id": "45e6aacf",
   "metadata": {},
   "outputs": [
    {
     "name": "stdout",
     "output_type": "stream",
     "text": [
      "\u001b[90m; Function Signature: ff1(Int64)\u001b[39m\n",
      "\u001b[90m;  @ In[29]:1 within `ff1`\u001b[39m\n",
      "\u001b[95mdefine\u001b[39m \u001b[95mnonnull\u001b[39m \u001b[95mptr\u001b[39m \u001b[93m@julia_ff1_9215\u001b[39m\u001b[33m(\u001b[39m\u001b[36mi64\u001b[39m \u001b[95msignext\u001b[39m \u001b[0m%\"x::Int64\"\u001b[33m)\u001b[39m \u001b[0m#0 \u001b[33m{\u001b[39m\n",
      "\u001b[91mtop:\u001b[39m\n",
      "  \u001b[0m%jlcallframe1 \u001b[0m= \u001b[96m\u001b[1malloca\u001b[22m\u001b[39m \u001b[33m[\u001b[39m\u001b[33m2\u001b[39m \u001b[0mx \u001b[95mptr\u001b[39m\u001b[33m]\u001b[39m\u001b[0m, \u001b[95malign\u001b[39m \u001b[33m8\u001b[39m\n",
      "  \u001b[0m%gcframe2 \u001b[0m= \u001b[96m\u001b[1malloca\u001b[22m\u001b[39m \u001b[33m[\u001b[39m\u001b[33m4\u001b[39m \u001b[0mx \u001b[95mptr\u001b[39m\u001b[33m]\u001b[39m\u001b[0m, \u001b[95malign\u001b[39m \u001b[33m16\u001b[39m\n",
      "  \u001b[96m\u001b[1mcall\u001b[22m\u001b[39m \u001b[36mvoid\u001b[39m \u001b[93m@llvm.memset.p0.i64\u001b[39m\u001b[33m(\u001b[39m\u001b[95mptr\u001b[39m \u001b[95malign\u001b[39m \u001b[33m16\u001b[39m \u001b[0m%gcframe2\u001b[0m, \u001b[36mi8\u001b[39m \u001b[33m0\u001b[39m\u001b[0m, \u001b[36mi64\u001b[39m \u001b[33m32\u001b[39m\u001b[0m, \u001b[36mi1\u001b[39m \u001b[95mtrue\u001b[39m\u001b[33m)\u001b[39m\n",
      "  \u001b[0m%pgcstack \u001b[0m= \u001b[96m\u001b[1mcall\u001b[22m\u001b[39m \u001b[95mptr\u001b[39m \u001b[95minttoptr\u001b[39m \u001b[33m(\u001b[39m\u001b[36mi64\u001b[39m \u001b[33m140703173070805\u001b[39m \u001b[95mto\u001b[39m \u001b[95mptr\u001b[39m\u001b[33m)\u001b[39m\u001b[33m(\u001b[39m\u001b[36mi64\u001b[39m \u001b[33m261\u001b[39m\u001b[33m)\u001b[39m \u001b[0m#9\n",
      "  \u001b[96m\u001b[1mstore\u001b[22m\u001b[39m \u001b[36mi64\u001b[39m \u001b[33m8\u001b[39m\u001b[0m, \u001b[95mptr\u001b[39m \u001b[0m%gcframe2\u001b[0m, \u001b[95malign\u001b[39m \u001b[33m16\u001b[39m\n",
      "  \u001b[0m%task.gcstack \u001b[0m= \u001b[96m\u001b[1mload\u001b[22m\u001b[39m \u001b[95mptr\u001b[39m\u001b[0m, \u001b[95mptr\u001b[39m \u001b[0m%pgcstack\u001b[0m, \u001b[95malign\u001b[39m \u001b[33m8\u001b[39m\n",
      "  \u001b[0m%frame.prev \u001b[0m= \u001b[96m\u001b[1mgetelementptr\u001b[22m\u001b[39m \u001b[95minbounds\u001b[39m \u001b[95mptr\u001b[39m\u001b[0m, \u001b[95mptr\u001b[39m \u001b[0m%gcframe2\u001b[0m, \u001b[36mi64\u001b[39m \u001b[33m1\u001b[39m\n",
      "  \u001b[96m\u001b[1mstore\u001b[22m\u001b[39m \u001b[95mptr\u001b[39m \u001b[0m%task.gcstack\u001b[0m, \u001b[95mptr\u001b[39m \u001b[0m%frame.prev\u001b[0m, \u001b[95malign\u001b[39m \u001b[33m8\u001b[39m\n",
      "  \u001b[96m\u001b[1mstore\u001b[22m\u001b[39m \u001b[95mptr\u001b[39m \u001b[0m%gcframe2\u001b[0m, \u001b[95mptr\u001b[39m \u001b[0m%pgcstack\u001b[0m, \u001b[95malign\u001b[39m \u001b[33m8\u001b[39m\n",
      "\u001b[90m;  @ In[29]:2 within `ff1`\u001b[39m\n",
      "  \u001b[0m%a.checked \u001b[0m= \u001b[96m\u001b[1mload\u001b[22m\u001b[39m \u001b[95matomic\u001b[39m \u001b[95mptr\u001b[39m\u001b[0m, \u001b[95mptr\u001b[39m \u001b[93m@\"\u001b[39m\u001b[0m*\u001b[0mMain.a#9217.jit\" \u001b[95munordered\u001b[39m\u001b[0m, \u001b[95malign\u001b[39m \u001b[33m16\u001b[39m\n",
      "  \u001b[0m%.not \u001b[0m= \u001b[96m\u001b[1micmp\u001b[22m\u001b[39m \u001b[96m\u001b[1meq\u001b[22m\u001b[39m \u001b[95mptr\u001b[39m \u001b[0m%a.checked\u001b[0m, \u001b[95mnull\u001b[39m\n",
      "  \u001b[96m\u001b[1mbr\u001b[22m\u001b[39m \u001b[36mi1\u001b[39m \u001b[0m%.not\u001b[0m, \u001b[36mlabel\u001b[39m \u001b[91m%err\u001b[39m\u001b[0m, \u001b[36mlabel\u001b[39m \u001b[91m%ok\u001b[39m\n",
      "\n",
      "\u001b[91merr:\u001b[39m                                              \u001b[90m; preds = %top\u001b[39m\n",
      "  \u001b[96m\u001b[1mcall\u001b[22m\u001b[39m \u001b[36mvoid\u001b[39m \u001b[93m@ijl_undefined_var_error\u001b[39m\u001b[33m(\u001b[39m\u001b[95mptr\u001b[39m \u001b[95mnonnull\u001b[39m \u001b[93m@\"jl_sym#a#9218.jit\"\u001b[39m\u001b[0m, \u001b[95mptr\u001b[39m \u001b[95mnonnull\u001b[39m \u001b[93m@\"jl_global#9219.jit\"\u001b[39m\u001b[33m)\u001b[39m\n",
      "  \u001b[96m\u001b[1munreachable\u001b[22m\u001b[39m\n",
      "\n",
      "\u001b[91mok:\u001b[39m                                               \u001b[90m; preds = %top\u001b[39m\n",
      "  \u001b[0m%gc_slot_addr_1 \u001b[0m= \u001b[96m\u001b[1mgetelementptr\u001b[22m\u001b[39m \u001b[95minbounds\u001b[39m \u001b[95mptr\u001b[39m\u001b[0m, \u001b[95mptr\u001b[39m \u001b[0m%gcframe2\u001b[0m, \u001b[36mi64\u001b[39m \u001b[33m3\u001b[39m\n",
      "  \u001b[96m\u001b[1mstore\u001b[22m\u001b[39m \u001b[95mptr\u001b[39m \u001b[0m%a.checked\u001b[0m, \u001b[95mptr\u001b[39m \u001b[0m%gc_slot_addr_1\u001b[0m, \u001b[95malign\u001b[39m \u001b[33m8\u001b[39m\n",
      "  \u001b[0m%box_Int64 \u001b[0m= \u001b[96m\u001b[1mcall\u001b[22m\u001b[39m \u001b[95mnonnull\u001b[39m \u001b[95malign\u001b[39m \u001b[33m8\u001b[39m \u001b[95mdereferenceable\u001b[39m\u001b[33m(\u001b[39m\u001b[33m8\u001b[39m\u001b[33m)\u001b[39m \u001b[95mptr\u001b[39m \u001b[93m@ijl_box_int64\u001b[39m\u001b[33m(\u001b[39m\u001b[36mi64\u001b[39m \u001b[95msignext\u001b[39m \u001b[0m%\"x::Int64\"\u001b[33m)\u001b[39m \u001b[0m#3\n",
      "  \u001b[0m%gc_slot_addr_0 \u001b[0m= \u001b[96m\u001b[1mgetelementptr\u001b[22m\u001b[39m \u001b[95minbounds\u001b[39m \u001b[95mptr\u001b[39m\u001b[0m, \u001b[95mptr\u001b[39m \u001b[0m%gcframe2\u001b[0m, \u001b[36mi64\u001b[39m \u001b[33m2\u001b[39m\n",
      "  \u001b[96m\u001b[1mstore\u001b[22m\u001b[39m \u001b[95mptr\u001b[39m \u001b[0m%box_Int64\u001b[0m, \u001b[95mptr\u001b[39m \u001b[0m%gc_slot_addr_0\u001b[0m, \u001b[95malign\u001b[39m \u001b[33m16\u001b[39m\n",
      "  \u001b[96m\u001b[1mstore\u001b[22m\u001b[39m \u001b[95mptr\u001b[39m \u001b[0m%box_Int64\u001b[0m, \u001b[95mptr\u001b[39m \u001b[0m%jlcallframe1\u001b[0m, \u001b[95malign\u001b[39m \u001b[33m8\u001b[39m\n",
      "  \u001b[0m%0 \u001b[0m= \u001b[96m\u001b[1mgetelementptr\u001b[22m\u001b[39m \u001b[95minbounds\u001b[39m \u001b[95mptr\u001b[39m\u001b[0m, \u001b[95mptr\u001b[39m \u001b[0m%jlcallframe1\u001b[0m, \u001b[36mi64\u001b[39m \u001b[33m1\u001b[39m\n",
      "  \u001b[96m\u001b[1mstore\u001b[22m\u001b[39m \u001b[95mptr\u001b[39m \u001b[0m%a.checked\u001b[0m, \u001b[95mptr\u001b[39m \u001b[0m%0\u001b[0m, \u001b[95malign\u001b[39m \u001b[33m8\u001b[39m\n",
      "  \u001b[0m%1 \u001b[0m= \u001b[96m\u001b[1mcall\u001b[22m\u001b[39m \u001b[95mnonnull\u001b[39m \u001b[95mptr\u001b[39m \u001b[93m@ijl_apply_generic\u001b[39m\u001b[33m(\u001b[39m\u001b[95mptr\u001b[39m \u001b[95mnonnull\u001b[39m \u001b[93m@\"jl_global#9221.jit\"\u001b[39m\u001b[0m, \u001b[95mptr\u001b[39m \u001b[95mnonnull\u001b[39m \u001b[0m%jlcallframe1\u001b[0m, \u001b[36mi32\u001b[39m \u001b[33m2\u001b[39m\u001b[33m)\u001b[39m\n",
      "  \u001b[0m%frame.prev6 \u001b[0m= \u001b[96m\u001b[1mload\u001b[22m\u001b[39m \u001b[95mptr\u001b[39m\u001b[0m, \u001b[95mptr\u001b[39m \u001b[0m%frame.prev\u001b[0m, \u001b[95malign\u001b[39m \u001b[33m8\u001b[39m\n",
      "  \u001b[96m\u001b[1mstore\u001b[22m\u001b[39m \u001b[95mptr\u001b[39m \u001b[0m%frame.prev6\u001b[0m, \u001b[95mptr\u001b[39m \u001b[0m%pgcstack\u001b[0m, \u001b[95malign\u001b[39m \u001b[33m8\u001b[39m\n",
      "  \u001b[96m\u001b[1mret\u001b[22m\u001b[39m \u001b[95mptr\u001b[39m \u001b[0m%1\n",
      "\u001b[33m}\u001b[39m\n"
     ]
    }
   ],
   "source": [
    "function ff1(x)\n",
    "    x + a\n",
    "end\n",
    "\n",
    "@code_llvm ff1(1)"
   ]
  },
  {
   "cell_type": "markdown",
   "id": "3d13cab3",
   "metadata": {},
   "source": [
    "Lorsqu'une variable est globale il est conseillé de lui donner un caractère constant. Le compilateur vous remerciera dans ce cas."
   ]
  },
  {
   "cell_type": "code",
   "execution_count": 30,
   "id": "ee4a70e4",
   "metadata": {},
   "outputs": [
    {
     "name": "stdout",
     "output_type": "stream",
     "text": [
      "\u001b[90m; Function Signature: ff2(Int64)\u001b[39m\n",
      "\u001b[90m;  @ In[30]:2 within `ff2`\u001b[39m\n",
      "\u001b[95mdefine\u001b[39m \u001b[36mi64\u001b[39m \u001b[93m@julia_ff2_9327\u001b[39m\u001b[33m(\u001b[39m\u001b[36mi64\u001b[39m \u001b[95msignext\u001b[39m \u001b[0m%\"x::Int64\"\u001b[33m)\u001b[39m \u001b[0m#0 \u001b[33m{\u001b[39m\n",
      "\u001b[91mtop:\u001b[39m\n",
      "\u001b[90m;  @ In[30]:3 within `ff2`\u001b[39m\n",
      "\u001b[90m; ┌ @ int.jl:87 within `+`\u001b[39m\n",
      "   \u001b[0m%0 \u001b[0m= \u001b[96m\u001b[1madd\u001b[22m\u001b[39m \u001b[36mi64\u001b[39m \u001b[0m%\"x::Int64\"\u001b[0m, \u001b[33m1\u001b[39m\n",
      "   \u001b[96m\u001b[1mret\u001b[22m\u001b[39m \u001b[36mi64\u001b[39m \u001b[0m%0\n",
      "\u001b[90m; └\u001b[39m\n",
      "\u001b[33m}\u001b[39m\n"
     ]
    }
   ],
   "source": [
    "const α = 1\n",
    "function ff2(x)\n",
    "    x + α\n",
    "end\n",
    "\n",
    "@code_llvm ff2(1)"
   ]
  },
  {
   "cell_type": "code",
   "execution_count": 31,
   "id": "052348bb",
   "metadata": {},
   "outputs": [
    {
     "data": {
      "text/plain": [
       "CodeInfo(\n",
       "\u001b[90m1 ─\u001b[39m %1 = x + Main.α\n",
       "\u001b[90m└──\u001b[39m      return %1\n",
       ")"
      ]
     },
     "execution_count": 31,
     "metadata": {},
     "output_type": "execute_result"
    }
   ],
   "source": [
    "@code_lowered ff2(1)"
   ]
  },
  {
   "cell_type": "markdown",
   "id": "8e9cc8f7",
   "metadata": {},
   "source": [
    "Donc par défaut une variable définie est connue et utilisable par toute fonction appelée (de même à l'intérieur d'une fonction).\n",
    "\n",
    "Si on redéfinit localement dans la fonction la variable alors \"elle écrase localement\" la dite variable et en sortie de fonction rien n'est modifié.\n",
    "\n",
    "Attention à l'utilisation dans la fonction d'une variable extérieure puis d'affecter une valeur à cette variable...\n",
    "\n"
   ]
  },
  {
   "cell_type": "markdown",
   "id": "f0ffc9d1",
   "metadata": {},
   "source": [
    "## Le mapping\n",
    "\n",
    "Souvent on écrit une fonction sous une forme scalaire sans chercher à utiliser les opérations vectorielles pour appliquer cette fonction à un tableau"
   ]
  },
  {
   "cell_type": "code",
   "execution_count": 32,
   "id": "20074cc5",
   "metadata": {},
   "outputs": [
    {
     "ename": "LoadError",
     "evalue": "MethodError: no method matching ^(::UnitRange{Int64}, ::Int64)\nThe function `^` exists, but no method is defined for this combination of argument types.\n\n\u001b[0mClosest candidates are:\n\u001b[0m  ^(\u001b[91m::Regex\u001b[39m, ::Integer)\n\u001b[0m\u001b[90m   @\u001b[39m \u001b[90mBase\u001b[39m \u001b[90m\u001b[4mregex.jl:895\u001b[24m\u001b[39m\n\u001b[0m  ^(\u001b[91m::Missing\u001b[39m, ::Integer)\n\u001b[0m\u001b[90m   @\u001b[39m \u001b[90mBase\u001b[39m \u001b[90m\u001b[4mmissing.jl:155\u001b[24m\u001b[39m\n\u001b[0m  ^(\u001b[91m::Missing\u001b[39m, ::Number)\n\u001b[0m\u001b[90m   @\u001b[39m \u001b[90mBase\u001b[39m \u001b[90m\u001b[4mmissing.jl:123\u001b[24m\u001b[39m\n\u001b[0m  ...\n",
     "output_type": "error",
     "traceback": [
      "MethodError: no method matching ^(::UnitRange{Int64}, ::Int64)\nThe function `^` exists, but no method is defined for this combination of argument types.\n\n\u001b[0mClosest candidates are:\n\u001b[0m  ^(\u001b[91m::Regex\u001b[39m, ::Integer)\n\u001b[0m\u001b[90m   @\u001b[39m \u001b[90mBase\u001b[39m \u001b[90m\u001b[4mregex.jl:895\u001b[24m\u001b[39m\n\u001b[0m  ^(\u001b[91m::Missing\u001b[39m, ::Integer)\n\u001b[0m\u001b[90m   @\u001b[39m \u001b[90mBase\u001b[39m \u001b[90m\u001b[4mmissing.jl:155\u001b[24m\u001b[39m\n\u001b[0m  ^(\u001b[91m::Missing\u001b[39m, ::Number)\n\u001b[0m\u001b[90m   @\u001b[39m \u001b[90mBase\u001b[39m \u001b[90m\u001b[4mmissing.jl:123\u001b[24m\u001b[39m\n\u001b[0m  ...\n",
      "",
      "Stacktrace:",
      " [1] literal_pow",
      "   @ ./intfuncs.jl:389 [inlined]",
      " [2] f(x::UnitRange{Int64})",
      "   @ Main ./In[32]:1",
      " [3] top-level scope",
      "   @ In[32]:2"
     ]
    }
   ],
   "source": [
    "f(x) = x^2 + 1\n",
    "f(1:5)  # il aurait fallu définir f(x)=x.^2.+1"
   ]
  },
  {
   "cell_type": "markdown",
   "id": "365bd0a4",
   "metadata": {},
   "source": [
    "La fonction <code>map</code> permet de palier à ce manquement"
   ]
  },
  {
   "cell_type": "code",
   "execution_count": 33,
   "id": "cd117b8d",
   "metadata": {},
   "outputs": [
    {
     "data": {
      "text/plain": [
       "5-element Vector{Int64}:\n",
       "  2\n",
       "  5\n",
       " 10\n",
       " 17\n",
       " 26"
      ]
     },
     "execution_count": 33,
     "metadata": {},
     "output_type": "execute_result"
    }
   ],
   "source": [
    "map(f,1:5)"
   ]
  },
  {
   "cell_type": "code",
   "execution_count": 34,
   "id": "be3d928b",
   "metadata": {},
   "outputs": [
    {
     "data": {
      "text/plain": [
       "5-element Vector{Int64}:\n",
       "  2\n",
       "  5\n",
       " 10\n",
       " 17\n",
       " 26"
      ]
     },
     "execution_count": 34,
     "metadata": {},
     "output_type": "execute_result"
    }
   ],
   "source": [
    "f.(1:5)"
   ]
  },
  {
   "cell_type": "code",
   "execution_count": 35,
   "id": "a2a7bc8c",
   "metadata": {},
   "outputs": [
    {
     "data": {
      "text/plain": [
       "2×2 Matrix{Int64}:\n",
       "  2   5\n",
       " 10  17"
      ]
     },
     "execution_count": 35,
     "metadata": {},
     "output_type": "execute_result"
    }
   ],
   "source": [
    "v = [1 2; 3 4]\n",
    "map(f,v)"
   ]
  },
  {
   "cell_type": "code",
   "execution_count": 36,
   "id": "c12b4cbc",
   "metadata": {},
   "outputs": [
    {
     "data": {
      "text/plain": [
       "10"
      ]
     },
     "execution_count": 36,
     "metadata": {},
     "output_type": "execute_result"
    }
   ],
   "source": [
    "reduce(+, v )"
   ]
  },
  {
   "cell_type": "code",
   "execution_count": 37,
   "id": "b7edb2bf",
   "metadata": {},
   "outputs": [
    {
     "data": {
      "text/plain": [
       "10"
      ]
     },
     "execution_count": 37,
     "metadata": {},
     "output_type": "execute_result"
    }
   ],
   "source": [
    "sum(v)"
   ]
  },
  {
   "cell_type": "code",
   "execution_count": 38,
   "id": "7090f721",
   "metadata": {},
   "outputs": [
    {
     "data": {
      "text/plain": [
       "2×2 Matrix{Int64}:\n",
       "  2   5\n",
       " 10  17"
      ]
     },
     "execution_count": 38,
     "metadata": {},
     "output_type": "execute_result"
    }
   ],
   "source": [
    "f.([1 2; 3 4])"
   ]
  },
  {
   "cell_type": "code",
   "execution_count": 39,
   "id": "dd93f465",
   "metadata": {},
   "outputs": [
    {
     "data": {
      "text/plain": [
       "4-element Vector{Int64}:\n",
       " 1\n",
       " 3\n",
       " 5\n",
       " 7"
      ]
     },
     "execution_count": 39,
     "metadata": {},
     "output_type": "execute_result"
    }
   ],
   "source": [
    "g(x,y)=x+y\n",
    "map(g,0:3,1:4)"
   ]
  },
  {
   "cell_type": "code",
   "execution_count": 40,
   "id": "53c7da38",
   "metadata": {},
   "outputs": [
    {
     "data": {
      "text/plain": [
       "2×2 Matrix{Int64}:\n",
       " 3  5\n",
       " 7  9"
      ]
     },
     "execution_count": 40,
     "metadata": {},
     "output_type": "execute_result"
    }
   ],
   "source": [
    "map(g,[1 2;3 4],[2 3;4 5])"
   ]
  },
  {
   "cell_type": "code",
   "execution_count": 41,
   "id": "913a8c06",
   "metadata": {},
   "outputs": [
    {
     "data": {
      "text/plain": [
       "g (generic function with 1 method)"
      ]
     },
     "execution_count": 41,
     "metadata": {},
     "output_type": "execute_result"
    }
   ],
   "source": [
    "g(f,x)=f(x)+1"
   ]
  },
  {
   "cell_type": "code",
   "execution_count": 42,
   "id": "520b470b",
   "metadata": {},
   "outputs": [
    {
     "data": {
      "text/plain": [
       "1.8414709848078965"
      ]
     },
     "execution_count": 42,
     "metadata": {},
     "output_type": "execute_result"
    }
   ],
   "source": [
    "g(sin,1)"
   ]
  },
  {
   "cell_type": "markdown",
   "id": "0e302387",
   "metadata": {},
   "source": [
    "Il existe également un opérateur pour \"composer\" les fonctions `\\circ`"
   ]
  },
  {
   "cell_type": "code",
   "execution_count": 43,
   "id": "ef6de552",
   "metadata": {},
   "outputs": [
    {
     "data": {
      "text/plain": [
       "-21"
      ]
     },
     "execution_count": 43,
     "metadata": {},
     "output_type": "execute_result"
    }
   ],
   "source": [
    "f1(x) = 2x + 1\n",
    "f2(x) = 1 - 4x\n",
    "(f1 ∘ f2)(3)"
   ]
  },
  {
   "cell_type": "code",
   "execution_count": 44,
   "id": "c50331bc",
   "metadata": {},
   "outputs": [
    {
     "data": {
      "text/plain": [
       "-21"
      ]
     },
     "execution_count": 44,
     "metadata": {},
     "output_type": "execute_result"
    }
   ],
   "source": [
    "f1(f2(3))"
   ]
  },
  {
   "cell_type": "code",
   "execution_count": 45,
   "id": "a26a25e4",
   "metadata": {},
   "outputs": [
    {
     "name": "stdout",
     "output_type": "stream",
     "text": [
      "z = collect(1:5) = [1, 2, 3, 4, 5]\n"
     ]
    },
    {
     "data": {
      "text/plain": [
       "2-element view(::Vector{Int64}, 1:2) with eltype Int64:\n",
       " 9\n",
       " 9"
      ]
     },
     "execution_count": 45,
     "metadata": {},
     "output_type": "execute_result"
    }
   ],
   "source": [
    "function f4!(y,  x; a = 1, b = 2)\n",
    "    z = x + a * b\n",
    "    y .= z\n",
    "end\n",
    "\n",
    "@show z = collect(1:5)\n",
    "\n",
    "f4!(view(z, 1:2), 7)"
   ]
  }
 ],
 "metadata": {
  "jupytext": {
   "cell_metadata_filter": "-all",
   "main_language": "julia",
   "notebook_metadata_filter": "-all"
  },
  "kernelspec": {
   "display_name": "Julia 1.11.1",
   "language": "julia",
   "name": "julia-1.11"
  },
  "language_info": {
   "file_extension": ".jl",
   "mimetype": "application/julia",
   "name": "julia",
   "version": "1.11.4"
  }
 },
 "nbformat": 4,
 "nbformat_minor": 5
}
