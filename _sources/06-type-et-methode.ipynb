{
 "cells": [
  {
   "cell_type": "markdown",
   "id": "1c8d4fbf",
   "metadata": {},
   "source": [
    "# Type et méthodes\n",
    "\n",
    "*Julia* possède un système de type et de méthode qui lui confère une approche objet.\n",
    "La fonction `typeof()` renvoie le type d'une variable de base `Int32`, `Float64`... *Julia* est conçu pour permettre facilement d'étendre l'environnement à de nouveau type de variable.\n",
    "\n",
    "Le types sont organisés suivant un hiérarchie comme on peut le voir sur l'arborescence partielle ci-dessous\n"
   ]
  },
  {
   "cell_type": "code",
   "execution_count": 3,
   "id": "7e4d541a",
   "metadata": {
    "title": "- Any << abstract immutable size:0 >>"
   },
   "outputs": [
    {
     "name": "stdout",
     "output_type": "stream",
     "text": [
      "AbstractArray\n",
      "├─ AbstractRange\n",
      "│  ├─ LinRange\n",
      "│  ├─ OrdinalRange\n",
      "│  │  ├─ AbstractUnitRange\n",
      "│  │  │  ├─ IdentityUnitRange\n",
      "│  │  │  ├─ OneTo\n",
      "│  │  │  ├─ Slice\n",
      "│  │  │  └─ UnitRange\n",
      "│  │  └─ StepRange\n",
      "│  └─ StepRangeLen\n",
      "├─ AbstractSlices\n",
      "│  └─ Slices\n",
      "├─ ExceptionStack\n",
      "├─ LogRange\n",
      "├─ LogicalIndex\n",
      "├─ MethodList\n",
      "├─ ReinterpretArray\n",
      "├─ ReshapedArray\n",
      "├─ SCartesianIndices2\n",
      "├─ WithoutMissingVector\n",
      "├─ BitArray\n",
      "├─ CartesianIndices\n",
      "├─ AbstractRange\n",
      "├─ LinRange\n",
      "│  ├─ OrdinalRange\n",
      "│  │  ├─ AbstractUnitRange\n",
      "│  │  │  ├─ IdentityUnitRange\n",
      "│  │  │  ├─ OneTo\n",
      "│  │  │  ├─ Slice\n",
      "│  │  │  ├─ StmtRange\n",
      "│  │  │  └─ UnitRange\n",
      "│  │  └─ StepRange\n",
      "│  └─ StepRangeLen\n",
      "├─ BitArray\n",
      "├─ ExceptionStack\n",
      "├─ LinearIndices\n",
      "├─ LogRange\n",
      "├─ MethodList\n",
      "├─ TwoPhaseDefUseMap\n",
      "├─ TwoPhaseVectorView\n",
      "├─ DenseArray\n",
      "│  ├─ Array\n",
      "│  ├─ CodeUnits\n",
      "│  ├─ Const\n",
      "│  ├─ GenericMemory\n",
      "│  └─ UnsafeView\n",
      "├─ AbstractTriangular\n",
      "│  ├─ LowerTriangular\n",
      "│  ├─ UnitLowerTriangular\n",
      "│  ├─ UnitUpperTriangular\n",
      "│  └─ UpperTriangular\n",
      "├─ Adjoint\n",
      "├─ Bidiagonal\n",
      "├─ Diagonal\n",
      "├─ Hermitian\n",
      "├─ SymTridiagonal\n",
      "├─ Symmetric\n",
      "├─ Transpose\n",
      "├─ Tridiagonal\n",
      "├─ UpperHessenberg\n",
      "├─ LinearIndices\n",
      "├─ PermutedDimsArray\n",
      "├─ SubArray\n",
      "└─ Message\n"
     ]
    }
   ],
   "source": [
    "using AbstractTrees\n",
    "\n",
    "AbstractTrees.children(x::Type) = subtypes(x)\n",
    "\n",
    "print_tree(AbstractArray)"
   ]
  },
  {
   "cell_type": "markdown",
   "id": "83db2130",
   "metadata": {},
   "source": [
    "Dans cette arborescence, certains types sont \"abstraits\" et d'autres \"concrets\"."
   ]
  },
  {
   "cell_type": "code",
   "execution_count": 4,
   "id": "f8e76d5f",
   "metadata": {},
   "outputs": [
    {
     "data": {
      "text/plain": [
       "(true, true)"
      ]
     },
     "execution_count": 4,
     "metadata": {},
     "output_type": "execute_result"
    }
   ],
   "source": [
    "isconcretetype(Rational{Int32}), isconcretetype(Float64)"
   ]
  },
  {
   "cell_type": "markdown",
   "id": "95b36a72",
   "metadata": {},
   "source": [
    "Un réel sera forcemment de type concret `Float64` ou `Float32` par exemple, et pourra être utilisé comme argument par toutes les fonctions acceptant le type abstrait `AbstractFloat`"
   ]
  },
  {
   "cell_type": "code",
   "execution_count": 5,
   "id": "497bc474",
   "metadata": {},
   "outputs": [
    {
     "data": {
      "text/plain": [
       "false"
      ]
     },
     "execution_count": 5,
     "metadata": {},
     "output_type": "execute_result"
    }
   ],
   "source": [
    "Int32 <: Complex"
   ]
  },
  {
   "cell_type": "markdown",
   "id": "e1243793",
   "metadata": {},
   "source": [
    "# Méthodes\n",
    "\n",
    "A chaque fonction est associée une méthode dépendante du type d'entrée comme dans ce qui suit suivant que l'entrée soit un entier ou pas."
   ]
  },
  {
   "cell_type": "code",
   "execution_count": 6,
   "id": "a3b0f9e8",
   "metadata": {},
   "outputs": [
    {
     "data": {
      "text/plain": [
       "f (generic function with 1 method)"
      ]
     },
     "execution_count": 6,
     "metadata": {},
     "output_type": "execute_result"
    }
   ],
   "source": [
    "function f(x::Any) \n",
    "    sin(x+1)\n",
    "end"
   ]
  },
  {
   "cell_type": "code",
   "execution_count": 7,
   "id": "beaf23ae",
   "metadata": {},
   "outputs": [
    {
     "data": {
      "text/plain": [
       "f (generic function with 2 methods)"
      ]
     },
     "execution_count": 7,
     "metadata": {},
     "output_type": "execute_result"
    }
   ],
   "source": [
    "function f(n::Integer)\n",
    "    n\n",
    "end"
   ]
  },
  {
   "cell_type": "code",
   "execution_count": 8,
   "id": "adefdd79",
   "metadata": {},
   "outputs": [
    {
     "data": {
      "text/plain": [
       "-0.7568024953079282"
      ]
     },
     "execution_count": 8,
     "metadata": {},
     "output_type": "execute_result"
    }
   ],
   "source": [
    "f(3.0)"
   ]
  },
  {
   "cell_type": "code",
   "execution_count": 9,
   "id": "641be9a2",
   "metadata": {},
   "outputs": [
    {
     "data": {
      "text/plain": [
       "3"
      ]
     },
     "execution_count": 9,
     "metadata": {},
     "output_type": "execute_result"
    }
   ],
   "source": [
    "f(3)"
   ]
  },
  {
   "cell_type": "code",
   "execution_count": 10,
   "id": "515379ac",
   "metadata": {},
   "outputs": [
    {
     "data": {
      "text/html": [
       "# 2 methods for generic function <b>f</b> from \u001b[35mMain\u001b[39m:<ul><li> f(n::<b>Integer</b>) in Main at In[7]:1</li> <li> f(x) in Main at In[6]:1</li> </ul>"
      ],
      "text/plain": [
       "# 2 methods for generic function \"f\" from \u001b[35mMain\u001b[39m:\n",
       " [1] f(\u001b[90mn\u001b[39m::\u001b[1mInteger\u001b[22m)\n",
       "\u001b[90m     @\u001b[39m \u001b[90m\u001b[4mIn[7]:1\u001b[24m\u001b[39m\n",
       " [2] f(\u001b[90mx\u001b[39m)\n",
       "\u001b[90m     @\u001b[39m \u001b[90m\u001b[4mIn[6]:1\u001b[24m\u001b[39m"
      ]
     },
     "execution_count": 10,
     "metadata": {},
     "output_type": "execute_result"
    }
   ],
   "source": [
    "methods(f)"
   ]
  },
  {
   "cell_type": "code",
   "execution_count": 11,
   "id": "1fcfc530",
   "metadata": {},
   "outputs": [
    {
     "data": {
      "text/plain": [
       "3"
      ]
     },
     "execution_count": 11,
     "metadata": {},
     "output_type": "execute_result"
    }
   ],
   "source": [
    "f(3)"
   ]
  },
  {
   "cell_type": "code",
   "execution_count": 12,
   "id": "2ba92d70",
   "metadata": {},
   "outputs": [
    {
     "data": {
      "text/plain": [
       "1.2984575814159773 + 0.6349639147847361im"
      ]
     },
     "execution_count": 12,
     "metadata": {},
     "output_type": "execute_result"
    }
   ],
   "source": [
    "f(im)"
   ]
  },
  {
   "cell_type": "code",
   "execution_count": 13,
   "id": "38cf1220",
   "metadata": {},
   "outputs": [
    {
     "data": {
      "text/plain": [
       "-2"
      ]
     },
     "execution_count": 13,
     "metadata": {},
     "output_type": "execute_result"
    }
   ],
   "source": [
    "f(-2)"
   ]
  },
  {
   "cell_type": "code",
   "execution_count": 14,
   "id": "a3685d8b",
   "metadata": {},
   "outputs": [
    {
     "data": {
      "text/plain": [
       "+ (generic function with 198 methods)"
      ]
     },
     "execution_count": 14,
     "metadata": {},
     "output_type": "execute_result"
    }
   ],
   "source": [
    "+"
   ]
  },
  {
   "cell_type": "code",
   "execution_count": 15,
   "id": "02db68f4",
   "metadata": {},
   "outputs": [
    {
     "data": {
      "text/plain": [
       "6"
      ]
     },
     "execution_count": 15,
     "metadata": {},
     "output_type": "execute_result"
    }
   ],
   "source": [
    "*(3,2)"
   ]
  },
  {
   "cell_type": "code",
   "execution_count": 16,
   "id": "5a6c41ef",
   "metadata": {},
   "outputs": [
    {
     "data": {
      "text/plain": [
       "0.6649143126867011"
      ]
     },
     "execution_count": 16,
     "metadata": {},
     "output_type": "execute_result"
    }
   ],
   "source": [
    "f(sqrt(2))"
   ]
  },
  {
   "cell_type": "markdown",
   "id": "2c6dc403",
   "metadata": {},
   "source": [
    "# Construction d'un nouveau Type de variable\n",
    "\n",
    "En premier lieu il faut définir un type abstrait puis une instance sous-hiérarchiquement concrète :"
   ]
  },
  {
   "cell_type": "code",
   "execution_count": 17,
   "id": "1551cc55",
   "metadata": {},
   "outputs": [],
   "source": [
    "struct Grid1 \n",
    "    debut::Float64\n",
    "    fin::Float64\n",
    "    n::Int32\n",
    "end"
   ]
  },
  {
   "cell_type": "code",
   "execution_count": 18,
   "id": "c4fbc88a",
   "metadata": {},
   "outputs": [
    {
     "name": "stdout",
     "output_type": "stream",
     "text": [
      "a = Grid1(0, 1, 2) = Grid1(0.0, 1.0, 2)\n"
     ]
    },
    {
     "data": {
      "text/plain": [
       "Grid1(0.0, 1.0, 2)"
      ]
     },
     "execution_count": 18,
     "metadata": {},
     "output_type": "execute_result"
    }
   ],
   "source": [
    "@show a = Grid1(0, 1, 2)"
   ]
  },
  {
   "cell_type": "code",
   "execution_count": 19,
   "id": "684f777a",
   "metadata": {},
   "outputs": [
    {
     "data": {
      "text/plain": [
       "0.0"
      ]
     },
     "execution_count": 19,
     "metadata": {},
     "output_type": "execute_result"
    }
   ],
   "source": [
    "a.debut"
   ]
  },
  {
   "cell_type": "code",
   "execution_count": 20,
   "id": "a2ca2cf9",
   "metadata": {},
   "outputs": [
    {
     "data": {
      "text/plain": [
       "1.0"
      ]
     },
     "execution_count": 20,
     "metadata": {},
     "output_type": "execute_result"
    }
   ],
   "source": [
    "a.fin"
   ]
  },
  {
   "cell_type": "code",
   "execution_count": 21,
   "id": "af4110fc",
   "metadata": {},
   "outputs": [
    {
     "data": {
      "text/plain": [
       "2"
      ]
     },
     "execution_count": 21,
     "metadata": {},
     "output_type": "execute_result"
    }
   ],
   "source": [
    "a.n"
   ]
  },
  {
   "cell_type": "code",
   "execution_count": 22,
   "id": "cf109017",
   "metadata": {},
   "outputs": [
    {
     "ename": "LoadError",
     "evalue": "setfield!: immutable struct of type Grid1 cannot be changed",
     "output_type": "error",
     "traceback": [
      "setfield!: immutable struct of type Grid1 cannot be changed",
      "",
      "Stacktrace:",
      " [1] setproperty!(x::Grid1, f::Symbol, v::Int64)",
      "   @ Base ./Base.jl:53",
      " [2] top-level scope",
      "   @ In[22]:1"
     ]
    }
   ],
   "source": [
    "a.n = 10"
   ]
  },
  {
   "cell_type": "code",
   "execution_count": 23,
   "id": "30cf9d1e",
   "metadata": {},
   "outputs": [
    {
     "data": {
      "text/plain": [
       "Grid1(0.0, 1.0, 2)"
      ]
     },
     "execution_count": 23,
     "metadata": {},
     "output_type": "execute_result"
    }
   ],
   "source": [
    "a"
   ]
  },
  {
   "cell_type": "markdown",
   "id": "1d186efb",
   "metadata": {},
   "source": [
    "# Surcharge des opérateurs\n",
    "\n",
    "La surcharge des opérations usuelles se fait en définissant une nouvelle méthode associé au nouveau type pour chaque opérateur, commençons par surcharger l'affichage à l'écran de notre nouveau type. Pour cela on va ajouter une méthode à la fonction \"show\""
   ]
  },
  {
   "cell_type": "code",
   "execution_count": 24,
   "id": "dd681d32",
   "metadata": {},
   "outputs": [],
   "source": [
    "function Base.show(io::IO,g::Grid1)\n",
    "    print(io, \"Grid 1d : début $(g.debut) , fin $(g.fin) , $(g.n) éléments\\n\")\n",
    "end"
   ]
  },
  {
   "cell_type": "code",
   "execution_count": 25,
   "id": "00ab6952",
   "metadata": {},
   "outputs": [
    {
     "name": "stdout",
     "output_type": "stream",
     "text": [
      "Grid 1d : début 0.0 , fin 1.0 , 2 éléments\n"
     ]
    }
   ],
   "source": [
    "Base.show(a)"
   ]
  },
  {
   "cell_type": "code",
   "execution_count": 26,
   "id": "b50cd78c",
   "metadata": {},
   "outputs": [
    {
     "name": "stdout",
     "output_type": "stream",
     "text": [
      "Grid 1d : début 0.0 , fin 1.0 , 2 éléments\n",
      "\n"
     ]
    }
   ],
   "source": [
    "println(a)"
   ]
  },
  {
   "cell_type": "code",
   "execution_count": 27,
   "id": "d3f483a0",
   "metadata": {},
   "outputs": [
    {
     "data": {
      "text/plain": [
       "Grid 1d : début 0.0 , fin 1.0 , 2 éléments\n"
      ]
     },
     "execution_count": 27,
     "metadata": {},
     "output_type": "execute_result"
    }
   ],
   "source": [
    "a"
   ]
  },
  {
   "cell_type": "code",
   "execution_count": 28,
   "id": "d0e8ecc1",
   "metadata": {},
   "outputs": [
    {
     "name": "stdout",
     "output_type": "stream",
     "text": [
      "a = Grid 1d : début 0.0 , fin 1.0 , 2 éléments\n",
      "\n"
     ]
    },
    {
     "data": {
      "text/plain": [
       "Grid 1d : début 0.0 , fin 1.0 , 2 éléments\n"
      ]
     },
     "execution_count": 28,
     "metadata": {},
     "output_type": "execute_result"
    }
   ],
   "source": [
    "@show a"
   ]
  },
  {
   "cell_type": "markdown",
   "id": "eb6ce277",
   "metadata": {},
   "source": [
    "## Addition, soustraction ...\n",
    "\n",
    "Ces fonctions sont de la forme +(), -() c'est à dire"
   ]
  },
  {
   "cell_type": "code",
   "execution_count": 29,
   "id": "8b2ee690",
   "metadata": {},
   "outputs": [
    {
     "data": {
      "text/plain": [
       "+ (generic function with 199 methods)"
      ]
     },
     "execution_count": 29,
     "metadata": {},
     "output_type": "execute_result"
    }
   ],
   "source": [
    "import Base:+\n",
    "\n",
    "function +(g::Grid1, n::Int)\n",
    "    g.n += n\n",
    "    return g\n",
    "end"
   ]
  },
  {
   "cell_type": "code",
   "execution_count": 30,
   "id": "b5dca75d",
   "metadata": {},
   "outputs": [
    {
     "data": {
      "text/plain": [
       "Grid 1d : début 0.0 , fin 1.0 , 2 éléments\n"
      ]
     },
     "execution_count": 30,
     "metadata": {},
     "output_type": "execute_result"
    }
   ],
   "source": [
    "a = Grid1(0,1,2)"
   ]
  },
  {
   "cell_type": "code",
   "execution_count": 31,
   "id": "1afce0bb",
   "metadata": {},
   "outputs": [
    {
     "ename": "LoadError",
     "evalue": "setfield!: immutable struct of type Grid1 cannot be changed",
     "output_type": "error",
     "traceback": [
      "setfield!: immutable struct of type Grid1 cannot be changed",
      "",
      "Stacktrace:",
      " [1] setproperty!(x::Grid1, f::Symbol, v::Int64)",
      "   @ Base ./Base.jl:53",
      " [2] +(g::Grid1, n::Int64)",
      "   @ Main ./In[29]:4",
      " [3] top-level scope",
      "   @ In[31]:1"
     ]
    }
   ],
   "source": [
    "a+2"
   ]
  },
  {
   "cell_type": "code",
   "execution_count": 32,
   "id": "99806167",
   "metadata": {},
   "outputs": [
    {
     "ename": "LoadError",
     "evalue": "setfield!: immutable struct of type Grid1 cannot be changed",
     "output_type": "error",
     "traceback": [
      "setfield!: immutable struct of type Grid1 cannot be changed",
      "",
      "Stacktrace:",
      " [1] setproperty!(x::Grid1, f::Symbol, v::Int64)",
      "   @ Base ./Base.jl:53",
      " [2] +(g::Grid1, n::Int64)",
      "   @ Main ./In[29]:4",
      " [3] top-level scope",
      "   @ In[32]:1"
     ]
    }
   ],
   "source": [
    "a += 1"
   ]
  },
  {
   "cell_type": "markdown",
   "id": "ae9e1f27",
   "metadata": {},
   "source": [
    "Attention l'addition n'est pas forcément commutative !"
   ]
  },
  {
   "cell_type": "code",
   "execution_count": 33,
   "id": "918170a1",
   "metadata": {},
   "outputs": [
    {
     "name": "stdout",
     "output_type": "stream",
     "text": [
      "MethodError: no method matching +(::Int64, ::Grid1)\n",
      "The function `+` exists, but no method is defined for this combination of argument types.\n",
      "\n",
      "\u001b[0mClosest candidates are:\n",
      "\u001b[0m  +(::Any, ::Any, \u001b[91m::Any\u001b[39m, \u001b[91m::Any...\u001b[39m)\n",
      "\u001b[0m\u001b[90m   @\u001b[39m \u001b[90mBase\u001b[39m \u001b[90m\u001b[4moperators.jl:596\u001b[24m\u001b[39m\n",
      "\u001b[0m  +(::Real, \u001b[91m::Complex{Bool}\u001b[39m)\n",
      "\u001b[0m\u001b[90m   @\u001b[39m \u001b[90mBase\u001b[39m \u001b[90m\u001b[4mcomplex.jl:322\u001b[24m\u001b[39m\n",
      "\u001b[0m  +(::Integer, \u001b[91m::AbstractChar\u001b[39m)\n",
      "\u001b[0m\u001b[90m   @\u001b[39m \u001b[90mBase\u001b[39m \u001b[90m\u001b[4mchar.jl:247\u001b[24m\u001b[39m\n",
      "\u001b[0m  ...\n"
     ]
    }
   ],
   "source": [
    "try \n",
    "    2 + a\n",
    "catch e\n",
    "    showerror(stdout, e)\n",
    "end"
   ]
  },
  {
   "cell_type": "markdown",
   "id": "19a26f0f",
   "metadata": {},
   "source": [
    "ni unaire !"
   ]
  },
  {
   "cell_type": "code",
   "execution_count": 34,
   "id": "2b52f298",
   "metadata": {},
   "outputs": [
    {
     "name": "stdout",
     "output_type": "stream",
     "text": [
      "MethodError: no method matching -(::Grid1)\n",
      "The function `-` exists, but no method is defined for this combination of argument types.\n",
      "\n",
      "\u001b[0mClosest candidates are:\n",
      "\u001b[0m  -(\u001b[91m::Bool\u001b[39m, \u001b[91m::Complex{Bool}\u001b[39m)\n",
      "\u001b[0m\u001b[90m   @\u001b[39m \u001b[90mBase\u001b[39m \u001b[90m\u001b[4mcomplex.jl:310\u001b[24m\u001b[39m\n",
      "\u001b[0m  -(\u001b[91m::Bool\u001b[39m, \u001b[91m::Bool\u001b[39m)\n",
      "\u001b[0m\u001b[90m   @\u001b[39m \u001b[90mBase\u001b[39m \u001b[90m\u001b[4mbool.jl:167\u001b[24m\u001b[39m\n",
      "\u001b[0m  -(\u001b[91m::Bool\u001b[39m)\n",
      "\u001b[0m\u001b[90m   @\u001b[39m \u001b[90mBase\u001b[39m \u001b[90m\u001b[4mbool.jl:164\u001b[24m\u001b[39m\n",
      "\u001b[0m  ...\n"
     ]
    }
   ],
   "source": [
    "try \n",
    "    -a\n",
    "catch e\n",
    "    showerror(stdout, e)\n",
    "end "
   ]
  },
  {
   "cell_type": "markdown",
   "id": "91612a32",
   "metadata": {},
   "source": [
    "Notez le message d'erreur qui est très claire !"
   ]
  },
  {
   "cell_type": "code",
   "execution_count": 35,
   "id": "3bfa8122",
   "metadata": {},
   "outputs": [
    {
     "name": "stdout",
     "output_type": "stream",
     "text": [
      "MethodError: no method matching +(::Grid1, ::Vector{Int64})\n",
      "The function `+` exists, but no method is defined for this combination of argument types.\n",
      "\n",
      "\u001b[0mClosest candidates are:\n",
      "\u001b[0m  +(::Any, ::Any, \u001b[91m::Any\u001b[39m, \u001b[91m::Any...\u001b[39m)\n",
      "\u001b[0m\u001b[90m   @\u001b[39m \u001b[90mBase\u001b[39m \u001b[90m\u001b[4moperators.jl:596\u001b[24m\u001b[39m\n",
      "\u001b[0m  +(::Grid1, \u001b[91m::Int64\u001b[39m)\n",
      "\u001b[0m\u001b[90m   @\u001b[39m \u001b[35mMain\u001b[39m \u001b[90m\u001b[4mIn[29]:3\u001b[24m\u001b[39m\n",
      "\u001b[0m  +(\u001b[91m::Array\u001b[39m, ::Array...)\n",
      "\u001b[0m\u001b[90m   @\u001b[39m \u001b[90mBase\u001b[39m \u001b[90m\u001b[4marraymath.jl:12\u001b[24m\u001b[39m\n",
      "\u001b[0m  ...\n"
     ]
    }
   ],
   "source": [
    "try\n",
    "    a+[1,2]\n",
    "catch e\n",
    "    showerror(stdout, e)\n",
    "end "
   ]
  },
  {
   "cell_type": "markdown",
   "id": "6e5aa97d",
   "metadata": {},
   "source": [
    "## Autres surcharges\n",
    "\n",
    "Toutes les fonctions usuelles sont surchargeable sans limite : size(); det() ..."
   ]
  },
  {
   "cell_type": "code",
   "execution_count": 36,
   "id": "403f577c",
   "metadata": {},
   "outputs": [
    {
     "ename": "LoadError",
     "evalue": "UndefVarError: `AbstractGrid` not defined in `Main`\nSuggestion: check for spelling errors or missing imports.",
     "output_type": "error",
     "traceback": [
      "UndefVarError: `AbstractGrid` not defined in `Main`\nSuggestion: check for spelling errors or missing imports.",
      "",
      "Stacktrace:",
      " [1] top-level scope",
      "   @ In[36]:1"
     ]
    }
   ],
   "source": [
    "function Base.size(g::AbstractGrid)\n",
    "    return g.n\n",
    "end"
   ]
  },
  {
   "cell_type": "code",
   "execution_count": 37,
   "id": "c991ca07",
   "metadata": {},
   "outputs": [
    {
     "ename": "LoadError",
     "evalue": "MethodError: no method matching size(::Grid1)\nThe function `size` exists, but no method is defined for this combination of argument types.\n\n\u001b[0mClosest candidates are:\n\u001b[0m  size(\u001b[91m::ZMQ.Message\u001b[39m)\n\u001b[0m\u001b[90m   @\u001b[39m \u001b[35mZMQ\u001b[39m \u001b[90m~/.julia/packages/ZMQ/Lz9O7/src/\u001b[39m\u001b[90m\u001b[4mmessage.jl:164\u001b[24m\u001b[39m\n\u001b[0m  size(\u001b[91m::Base.MethodList\u001b[39m)\n\u001b[0m\u001b[90m   @\u001b[39m \u001b[90mBase\u001b[39m \u001b[90m\u001b[4mreflection.jl:1193\u001b[24m\u001b[39m\n\u001b[0m  size(\u001b[91m::Base.ExceptionStack\u001b[39m)\n\u001b[0m\u001b[90m   @\u001b[39m \u001b[90mBase\u001b[39m \u001b[90m\u001b[4merrorshow.jl:1066\u001b[24m\u001b[39m\n\u001b[0m  ...\n",
     "output_type": "error",
     "traceback": [
      "MethodError: no method matching size(::Grid1)\nThe function `size` exists, but no method is defined for this combination of argument types.\n\n\u001b[0mClosest candidates are:\n\u001b[0m  size(\u001b[91m::ZMQ.Message\u001b[39m)\n\u001b[0m\u001b[90m   @\u001b[39m \u001b[35mZMQ\u001b[39m \u001b[90m~/.julia/packages/ZMQ/Lz9O7/src/\u001b[39m\u001b[90m\u001b[4mmessage.jl:164\u001b[24m\u001b[39m\n\u001b[0m  size(\u001b[91m::Base.MethodList\u001b[39m)\n\u001b[0m\u001b[90m   @\u001b[39m \u001b[90mBase\u001b[39m \u001b[90m\u001b[4mreflection.jl:1193\u001b[24m\u001b[39m\n\u001b[0m  size(\u001b[91m::Base.ExceptionStack\u001b[39m)\n\u001b[0m\u001b[90m   @\u001b[39m \u001b[90mBase\u001b[39m \u001b[90m\u001b[4merrorshow.jl:1066\u001b[24m\u001b[39m\n\u001b[0m  ...\n",
      "",
      "Stacktrace:",
      " [1] top-level scope",
      "   @ In[37]:1"
     ]
    }
   ],
   "source": [
    "size(a)"
   ]
  },
  {
   "cell_type": "code",
   "execution_count": 38,
   "id": "2ee2d22e",
   "metadata": {},
   "outputs": [],
   "source": [
    "using LinearAlgebra\n",
    "\n",
    "function LinearAlgebra.det(g::Grid1)\n",
    "    g.fin-g.debut\n",
    "end "
   ]
  },
  {
   "cell_type": "code",
   "execution_count": 39,
   "id": "e216976d",
   "metadata": {},
   "outputs": [
    {
     "data": {
      "text/plain": [
       "1.0"
      ]
     },
     "execution_count": 39,
     "metadata": {},
     "output_type": "execute_result"
    }
   ],
   "source": [
    "det(a)"
   ]
  },
  {
   "cell_type": "markdown",
   "id": "f3242f19",
   "metadata": {},
   "source": [
    "# Type et constructeurs\n",
    "\n",
    "Chaque langage \"objet\" définit un constructeur pour ces objets. Nous avons déjà utilisé un constructeur générique qui rempli chaque champ du nouveau type. Il est possible de faire une variante suivant le nombre d'arguments d'entrée et de leur type "
   ]
  },
  {
   "cell_type": "code",
   "execution_count": 40,
   "id": "4d2a7bf3",
   "metadata": {},
   "outputs": [],
   "source": [
    "abstract type AbstractGrid end # juste en dessous de Any\n",
    "\n",
    "struct Grid1D <: AbstractGrid\n",
    "    debut::Float64\n",
    "    fin::Float64\n",
    "    n::Int32\n",
    "    \n",
    "    # constructeurs par défaut sans argument\n",
    "    function Grid1D()\n",
    "        new(0,0,0)\n",
    "    end\n",
    "    \n",
    "    # constructeurs par défaut avec argument\n",
    "    function Grid1D(a,b,c)\n",
    "        @assert c > 0 \"Attention la taille de la grille est négative ou nulle\"\n",
    "        new(a,b,c)\n",
    "    end\n",
    "end"
   ]
  },
  {
   "cell_type": "code",
   "execution_count": 41,
   "id": "38f88513",
   "metadata": {},
   "outputs": [
    {
     "ename": "LoadError",
     "evalue": "AssertionError: Attention la taille de la grille est négative ou nulle",
     "output_type": "error",
     "traceback": [
      "AssertionError: Attention la taille de la grille est négative ou nulle",
      "",
      "Stacktrace:",
      " [1] Grid1D(a::Int64, b::Int64, c::Int64)",
      "   @ Main ./In[40]:15",
      " [2] top-level scope",
      "   @ In[41]:1"
     ]
    }
   ],
   "source": [
    "b = Grid1D(0, 1, -1)"
   ]
  },
  {
   "cell_type": "markdown",
   "id": "6cd65e88",
   "metadata": {},
   "source": [
    "Il devient possible de déterminer un constructeurs pour différentes entrées.\n",
    "\n",
    "Il faut au préalable bien penser sa hiérarchie de type et écrire autant de fonctions constructeurs que de cas d'initialisation du nouveau type."
   ]
  },
  {
   "cell_type": "markdown",
   "id": "aa38b59a",
   "metadata": {},
   "source": [
    "# Les Itérateurs\n",
    "\n",
    "Il est possible sur un type nouveau de définir un itérateur, comme ici de parcourir les points de la grille, définissons (surchargeons) de nouvelles fonctions ou plutôt méthodes : "
   ]
  },
  {
   "cell_type": "code",
   "execution_count": 42,
   "id": "255a9cf7",
   "metadata": {},
   "outputs": [],
   "source": [
    "Base.iterate(g::Grid1D, state=g.debut) = begin\n",
    "   state > g.fin ? nothing : (state, state+(g.fin-g.debut)/g.n)\n",
    "end"
   ]
  },
  {
   "cell_type": "code",
   "execution_count": 43,
   "id": "5c8b8793",
   "metadata": {},
   "outputs": [
    {
     "data": {
      "text/plain": [
       "Grid1D(0.0, 2.0, 10)"
      ]
     },
     "execution_count": 43,
     "metadata": {},
     "output_type": "execute_result"
    }
   ],
   "source": [
    "grid = Grid1D(0, 2 , 10)"
   ]
  },
  {
   "cell_type": "code",
   "execution_count": 44,
   "id": "aea3d1ee",
   "metadata": {},
   "outputs": [
    {
     "name": "stdout",
     "output_type": "stream",
     "text": [
      "0.0\n",
      "0.2\n",
      "0.4\n",
      "0.6000000000000001\n",
      "0.8\n",
      "1.0\n",
      "1.2\n",
      "1.4\n",
      "1.5999999999999999\n",
      "1.7999999999999998\n",
      "1.9999999999999998\n"
     ]
    }
   ],
   "source": [
    "for x in grid\n",
    "    println(x)\n",
    "end"
   ]
  },
  {
   "cell_type": "markdown",
   "id": "f771b42c",
   "metadata": {},
   "source": [
    "Il devient possible de construire des itérateurs sur une grille 2d, 3d renvoyant les coordonnées des points de la grille... Mais on peut imaginer sur une triangulation etc... "
   ]
  }
 ],
 "metadata": {
  "jupytext": {
   "cell_metadata_filter": "title,-all",
   "main_language": "julia",
   "notebook_metadata_filter": "-all"
  },
  "kernelspec": {
   "display_name": "Julia 1.11.1",
   "language": "julia",
   "name": "julia-1.11"
  },
  "language_info": {
   "file_extension": ".jl",
   "mimetype": "application/julia",
   "name": "julia",
   "version": "1.11.4"
  }
 },
 "nbformat": 4,
 "nbformat_minor": 5
}
