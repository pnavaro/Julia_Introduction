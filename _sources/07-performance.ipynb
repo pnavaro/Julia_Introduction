{
 "cells": [
  {
   "cell_type": "markdown",
   "id": "60e0536a",
   "metadata": {},
   "source": [
    "# Performance\n",
    "\n",
    "*Julia* avec la compilation *Just-In-Time* est un langage naturellement performant. Il n'est pas allergique aux boucles comme le sont les langages Python et R. Les opérations vectorisées fonctionnent également très bien à condition d'être attentifs aux allocations mémoire et aux vues explicites."
   ]
  },
  {
   "cell_type": "markdown",
   "id": "1298796e",
   "metadata": {},
   "source": [
    "## Allocations"
   ]
  },
  {
   "cell_type": "code",
   "execution_count": 1,
   "id": "9d7c4e3e",
   "metadata": {},
   "outputs": [
    {
     "name": "stdout",
     "output_type": "stream",
     "text": [
      "  5.443 ms (6 allocations: 16.00 MiB)\n"
     ]
    }
   ],
   "source": [
    "using Random, LinearAlgebra, BenchmarkTools\n",
    "\n",
    "function test(A, B, C)\n",
    "    C = C - A * B\n",
    "    return C\n",
    "end\n",
    "\n",
    "A = rand(1024, 256); B = rand(256, 1024); C = rand(1024, 1024)\n",
    "\n",
    "@btime test($A, $B, $C);"
   ]
  },
  {
   "cell_type": "markdown",
   "id": "78e32eb5",
   "metadata": {},
   "source": [
    "Dans l'appel de la macro `@benchmark` on interpole les arguments avec le signe `$` pour être sur que les fonctions\n",
    "    `rand` aient déjà été evaluées avant l'appel de la fonction `test`. La matrice `C` est modifiée dans la fonction suivante donc par convention on ajoute un `!` au nom de la fonction. Par convention également, l'argument modifié se placera en premier. Comme dans la fonction `push!` par exemple."
   ]
  },
  {
   "cell_type": "code",
   "execution_count": 6,
   "id": "0584472c",
   "metadata": {},
   "outputs": [
    {
     "name": "stdout",
     "output_type": "stream",
     "text": [
      "  4.884 ms (3 allocations: 8.00 MiB)\n"
     ]
    }
   ],
   "source": [
    "function test!(C, A, B)\n",
    "    C .= C .- A * B\n",
    "    return C\n",
    "end\n",
    "\n",
    "@btime test!( $C, $A, $B);"
   ]
  },
  {
   "cell_type": "markdown",
   "id": "b058bdbd",
   "metadata": {},
   "source": [
    "En effectuant une opération \"en place\", on supprime une allocation mais celle pour effectuer l'opération `A * B` est toujours nécessaire. On peut supprimer cette allocation en utilisant la bibliothèque `BLAS`, cependant le code perd en lisibilité ce qu'il a gagné en performance."
   ]
  },
  {
   "cell_type": "code",
   "execution_count": 8,
   "id": "c0e29ff5",
   "metadata": {},
   "outputs": [
    {
     "name": "stdout",
     "output_type": "stream",
     "text": [
      "  3.276 ms (0 allocations: 0 bytes)\n"
     ]
    }
   ],
   "source": [
    "function test_opt!(C, A, B)\n",
    "    BLAS.gemm!('N','N', -1., A, B, 1., C)\n",
    "    return C\n",
    "end\n",
    "\n",
    "@btime test_opt!($C, $A, $B);"
   ]
  },
  {
   "cell_type": "code",
   "execution_count": 9,
   "id": "f944a3da",
   "metadata": {},
   "outputs": [
    {
     "name": "stdout",
     "output_type": "stream",
     "text": [
      "  3.353 ms (0 allocations: 0 bytes)\n"
     ]
    }
   ],
   "source": [
    "function test_opt_mul!(C, A, B)\n",
    "    mul!(C, A, B, -1, 1) # mul!(C, A, B, α, β) -> ABα + Cβ\n",
    "    return C\n",
    "end\n",
    "\n",
    "@btime test_opt_mul!($C, $A, $B);"
   ]
  },
  {
   "cell_type": "markdown",
   "id": "ab7bace7",
   "metadata": {},
   "source": [
    "## Alignement de la mémoire\n",
    "\n",
    "Les opérations le long des premiers indices seront plus rapides."
   ]
  },
  {
   "cell_type": "code",
   "execution_count": 10,
   "id": "64134a0d",
   "metadata": {},
   "outputs": [
    {
     "name": "stdout",
     "output_type": "stream",
     "text": [
      "  8.142 ms (11 allocations: 32.00 MiB)\n"
     ]
    }
   ],
   "source": [
    "using FFTW\n",
    "\n",
    "T = randn(1024, 1024)\n",
    "\n",
    "@btime fft($T, 1);"
   ]
  },
  {
   "cell_type": "code",
   "execution_count": 11,
   "id": "cc456b94",
   "metadata": {},
   "outputs": [
    {
     "name": "stdout",
     "output_type": "stream",
     "text": [
      "  27.778 ms (11 allocations: 32.00 MiB)\n"
     ]
    }
   ],
   "source": [
    "@btime fft($T, 2);"
   ]
  },
  {
   "cell_type": "markdown",
   "id": "d0cc89a3",
   "metadata": {},
   "source": [
    "Voici un autre exemple ou on calcule la dérivée de la quantité $f$ suivant la coordonnée $y$ en passant par l'espace de Fourier"
   ]
  },
  {
   "cell_type": "code",
   "execution_count": 12,
   "id": "a54485a0",
   "metadata": {},
   "outputs": [
    {
     "name": "stdout",
     "output_type": "stream",
     "text": [
      "  57.281 ms (22 allocations: 64.00 MiB)\n"
     ]
    }
   ],
   "source": [
    "using FFTW\n",
    "\n",
    "xmin, xmax, nx = 0, 4π, 1024\n",
    "ymin, ymax, ny = 0, 4π, 1024\n",
    "x = LinRange(xmin, xmax, nx+1)[1:end-1]\n",
    "y = LinRange(ymin, ymax, ny+1)[1:end-1]\n",
    "ky  = 2π ./ (ymax-ymin) .* [0:ny÷2-1;ny÷2-ny:-1]\n",
    "exky = exp.( 1im .* ky' .* x)\n",
    "function df_dy( f, exky )\n",
    "    ifft(exky .* fft(f, 2), 2)\n",
    "end\n",
    "f = sin.(x) .* cos.(y') # f is a 2d array created by broadcasting\n",
    "@btime df_dy($f, $exky);"
   ]
  },
  {
   "cell_type": "markdown",
   "id": "146585e0",
   "metadata": {},
   "source": [
    "En utilisant les \"plans\" de FFTW qui permettent de pré-allouer la mémoire nécessaire et le calcul \"en place\". On peut améliorer les performances. On réutilise le même tableau pour la valeur de $f$ et sa transformée de Fourier. On prend soin également de respecter l'alignement de la mémoire en transposant le tableau contenant $f$ pour calculer la FFT. On utilise plus de mémoire, on fait plus de calcul en ajoutant les transpositions mais finalement le calcul va 3 fois plus vite car on évite les allocations et on limite les accès mémoire."
   ]
  },
  {
   "cell_type": "code",
   "execution_count": 13,
   "id": "3c6f847b",
   "metadata": {},
   "outputs": [
    {
     "name": "stdout",
     "output_type": "stream",
     "text": [
      "  17.955 ms (2 allocations: 64 bytes)\n"
     ]
    }
   ],
   "source": [
    "f  = zeros(ComplexF64, (nx,ny))\n",
    "fᵗ = zeros(ComplexF64, reverse(size(f)))\n",
    "f̂ᵗ = zeros(ComplexF64, reverse(size(f)))\n",
    "f .= sin.(x) .* cos.(y')\n",
    "fft_plan = plan_fft(fᵗ, 1, flags=FFTW.PATIENT)\n",
    "function df_dy!( f, fᵗ, f̂ᵗ, exky )\n",
    "    transpose!(fᵗ,f)\n",
    "    mul!(f̂ᵗ,  fft_plan, fᵗ)\n",
    "    f̂ᵗ .= f̂ᵗ .* exky\n",
    "    ldiv!(fᵗ, fft_plan, f̂ᵗ)\n",
    "    transpose!(f, fᵗ)\n",
    "end\n",
    "@btime df_dy!($f, $fᵗ, $f̂ᵗ, $exky );"
   ]
  },
  {
   "cell_type": "markdown",
   "id": "c3b8a7b3",
   "metadata": {},
   "source": [
    "## Vues explicites"
   ]
  },
  {
   "cell_type": "code",
   "execution_count": 14,
   "id": "a6480eaf",
   "metadata": {},
   "outputs": [
    {
     "name": "stdout",
     "output_type": "stream",
     "text": [
      "  963.840 ns (5 allocations: 8.09 KiB)\n"
     ]
    },
    {
     "data": {
      "text/plain": [
       "-42.08322017066688"
      ]
     },
     "execution_count": 14,
     "metadata": {},
     "output_type": "execute_result"
    }
   ],
   "source": [
    "@btime sum(T[:,1]) # Somme de la première colonne"
   ]
  },
  {
   "cell_type": "code",
   "execution_count": 15,
   "id": "ba8e1a35",
   "metadata": {},
   "outputs": [
    {
     "name": "stdout",
     "output_type": "stream",
     "text": [
      "  274.426 ns (3 allocations: 80 bytes)\n"
     ]
    },
    {
     "data": {
      "text/plain": [
       "-42.08322017066688"
      ]
     },
     "execution_count": 15,
     "metadata": {},
     "output_type": "execute_result"
    }
   ],
   "source": [
    "@btime sum(view(T,:,1))  "
   ]
  },
  {
   "cell_type": "markdown",
   "id": "775dbeb8",
   "metadata": {},
   "source": [
    "## Eviter les calculs dans l'environnement global."
   ]
  },
  {
   "cell_type": "code",
   "execution_count": 16,
   "id": "db2a0a00",
   "metadata": {},
   "outputs": [
    {
     "name": "stdout",
     "output_type": "stream",
     "text": [
      "  97.145 μs (3978 allocations: 77.77 KiB)\n"
     ]
    },
    {
     "data": {
      "text/plain": [
       "490.3821622748302"
      ]
     },
     "execution_count": 16,
     "metadata": {},
     "output_type": "execute_result"
    }
   ],
   "source": [
    "v = rand(1000)\n",
    "\n",
    "function somme()\n",
    "    acc = 0\n",
    "    for i in eachindex(v) \n",
    "        acc += v[i]\n",
    "    end\n",
    "    acc\n",
    "end\n",
    "\n",
    "@btime somme()\n"
   ]
  },
  {
   "cell_type": "code",
   "execution_count": 17,
   "id": "cdb5ddbc",
   "metadata": {},
   "outputs": [
    {
     "data": {
      "text/plain": [
       "CodeInfo(\n",
       "\u001b[90m1 ─\u001b[39m       acc = 0\n",
       "\u001b[90m│  \u001b[39m %2  = Main.eachindex\n",
       "\u001b[90m│  \u001b[39m %3  = (%2)(Main.v)\n",
       "\u001b[90m│  \u001b[39m       @_2 = Base.iterate(%3)\n",
       "\u001b[90m│  \u001b[39m %5  = @_2\n",
       "\u001b[90m│  \u001b[39m %6  = %5 === nothing\n",
       "\u001b[90m│  \u001b[39m %7  = Base.not_int(%6)\n",
       "\u001b[90m└──\u001b[39m       goto #4 if not %7\n",
       "\u001b[90m2 ┄\u001b[39m %9  = @_2\n",
       "\u001b[90m│  \u001b[39m       i = Core.getfield(%9, 1)\n",
       "\u001b[90m│  \u001b[39m %11 = Core.getfield(%9, 2)\n",
       "\u001b[90m│  \u001b[39m %12 = Main.:+\n",
       "\u001b[90m│  \u001b[39m %13 = acc\n",
       "\u001b[90m│  \u001b[39m %14 = i\n",
       "\u001b[90m│  \u001b[39m %15 = Base.getindex(Main.v, %14)\n",
       "\u001b[90m│  \u001b[39m       acc = (%12)(%13, %15)\n",
       "\u001b[90m│  \u001b[39m       @_2 = Base.iterate(%3, %11)\n",
       "\u001b[90m│  \u001b[39m %18 = @_2\n",
       "\u001b[90m│  \u001b[39m %19 = %18 === nothing\n",
       "\u001b[90m│  \u001b[39m %20 = Base.not_int(%19)\n",
       "\u001b[90m└──\u001b[39m       goto #4 if not %20\n",
       "\u001b[90m3 ─\u001b[39m       goto #2\n",
       "\u001b[90m4 ┄\u001b[39m %23 = acc\n",
       "\u001b[90m└──\u001b[39m       return %23\n",
       ")"
      ]
     },
     "execution_count": 17,
     "metadata": {},
     "output_type": "execute_result"
    }
   ],
   "source": [
    "@code_lowered somme()"
   ]
  },
  {
   "cell_type": "markdown",
   "id": "848cae30",
   "metadata": {},
   "source": [
    "Il faut écrire des fonctions avec les variables utilisées en argument"
   ]
  },
  {
   "cell_type": "code",
   "execution_count": 18,
   "id": "c9755115",
   "metadata": {},
   "outputs": [
    {
     "name": "stdout",
     "output_type": "stream",
     "text": [
      "  1.163 μs (1 allocation: 16 bytes)\n"
     ]
    },
    {
     "data": {
      "text/plain": [
       "490.3821622748302"
      ]
     },
     "execution_count": 18,
     "metadata": {},
     "output_type": "execute_result"
    }
   ],
   "source": [
    "function somme( x )\n",
    "    acc = 0\n",
    "    for i in eachindex(x) \n",
    "        acc += x[i]\n",
    "    end\n",
    "    acc\n",
    "end\n",
    "\n",
    "@btime somme( v )\n",
    "    "
   ]
  },
  {
   "cell_type": "code",
   "execution_count": 19,
   "id": "d8417607",
   "metadata": {},
   "outputs": [
    {
     "data": {
      "text/plain": [
       "Vector{Float64}\u001b[90m (alias for \u001b[39m\u001b[90mArray{Float64, 1}\u001b[39m\u001b[90m)\u001b[39m"
      ]
     },
     "execution_count": 19,
     "metadata": {},
     "output_type": "execute_result"
    }
   ],
   "source": [
    "typeof(v)"
   ]
  },
  {
   "cell_type": "code",
   "execution_count": 20,
   "id": "08de1e7b",
   "metadata": {},
   "outputs": [
    {
     "data": {
      "text/plain": [
       "CodeInfo(\n",
       "\u001b[90m1 ─\u001b[39m       acc = 0\n",
       "\u001b[90m│  \u001b[39m %2  = Main.eachindex(x)\n",
       "\u001b[90m│  \u001b[39m       @_3 = Base.iterate(%2)\n",
       "\u001b[90m│  \u001b[39m %4  = @_3\n",
       "\u001b[90m│  \u001b[39m %5  = %4 === nothing\n",
       "\u001b[90m│  \u001b[39m %6  = Base.not_int(%5)\n",
       "\u001b[90m└──\u001b[39m       goto #4 if not %6\n",
       "\u001b[90m2 ┄\u001b[39m %8  = @_3\n",
       "\u001b[90m│  \u001b[39m       i = Core.getfield(%8, 1)\n",
       "\u001b[90m│  \u001b[39m %10 = Core.getfield(%8, 2)\n",
       "\u001b[90m│  \u001b[39m %11 = Main.:+\n",
       "\u001b[90m│  \u001b[39m %12 = acc\n",
       "\u001b[90m│  \u001b[39m %13 = i\n",
       "\u001b[90m│  \u001b[39m %14 = Base.getindex(x, %13)\n",
       "\u001b[90m│  \u001b[39m       acc = (%11)(%12, %14)\n",
       "\u001b[90m│  \u001b[39m       @_3 = Base.iterate(%2, %10)\n",
       "\u001b[90m│  \u001b[39m %17 = @_3\n",
       "\u001b[90m│  \u001b[39m %18 = %17 === nothing\n",
       "\u001b[90m│  \u001b[39m %19 = Base.not_int(%18)\n",
       "\u001b[90m└──\u001b[39m       goto #4 if not %19\n",
       "\u001b[90m3 ─\u001b[39m       goto #2\n",
       "\u001b[90m4 ┄\u001b[39m %22 = acc\n",
       "\u001b[90m└──\u001b[39m       return %22\n",
       ")"
      ]
     },
     "execution_count": 20,
     "metadata": {},
     "output_type": "execute_result"
    }
   ],
   "source": [
    "@code_lowered somme(v)"
   ]
  },
  {
   "cell_type": "markdown",
   "id": "89a8b11d",
   "metadata": {},
   "source": [
    "Pour comprendre pourquoi l'utilisation de variable global influence les performances, prenons un exemple simple d'une fonction additionnant deux nombres:"
   ]
  },
  {
   "cell_type": "code",
   "execution_count": 21,
   "id": "a4f9b893",
   "metadata": {},
   "outputs": [
    {
     "name": "stdout",
     "output_type": "stream",
     "text": [
      "  21.508 ns (0 allocations: 0 bytes)\n"
     ]
    },
    {
     "data": {
      "text/plain": [
       "20"
      ]
     },
     "execution_count": 21,
     "metadata": {},
     "output_type": "execute_result"
    }
   ],
   "source": [
    "variable = 10\n",
    "\n",
    "function addition_variable_globale(x)\n",
    "    x + variable\n",
    "end\n",
    "\n",
    "@btime addition_variable_globale(10)"
   ]
  },
  {
   "cell_type": "markdown",
   "id": "099736b8",
   "metadata": {},
   "source": [
    "Comparons la performance avec cette fonction qui retourne la somme de ses deux arguments"
   ]
  },
  {
   "cell_type": "code",
   "execution_count": 22,
   "id": "f85b9a54",
   "metadata": {},
   "outputs": [
    {
     "name": "stdout",
     "output_type": "stream",
     "text": [
      "  1.661 ns (0 allocations: 0 bytes)\n"
     ]
    },
    {
     "data": {
      "text/plain": [
       "20"
      ]
     },
     "execution_count": 22,
     "metadata": {},
     "output_type": "execute_result"
    }
   ],
   "source": [
    "function addition_deux_arguments(x, y)\n",
    "    x + y\n",
    "end\n",
    "\n",
    "@btime addition_deux_arguments(10, 10)"
   ]
  },
  {
   "cell_type": "markdown",
   "id": "e2769b84",
   "metadata": {},
   "source": [
    "On remarque que la deuxième fonction est 300 fois plus rapide que la première. Pour comprendre pourquoi elle est plus rapide, on peut regarder le code généré avant la compilation. On s'appercoit que le code est relativement simple avec une utilisation unique de l'instruction `add`."
   ]
  },
  {
   "cell_type": "code",
   "execution_count": 23,
   "id": "b1f16cd9",
   "metadata": {},
   "outputs": [
    {
     "name": "stdout",
     "output_type": "stream",
     "text": [
      "\u001b[90m; Function Signature: addition_deux_arguments(Int64, Int64)\u001b[39m\n",
      "\u001b[90m;  @ In[22]:1 within `addition_deux_arguments`\u001b[39m\n",
      "\u001b[95mdefine\u001b[39m \u001b[36mi64\u001b[39m \u001b[93m@julia_addition_deux_arguments_12926\u001b[39m\u001b[33m(\u001b[39m\u001b[36mi64\u001b[39m \u001b[95msignext\u001b[39m \u001b[0m%\"x::Int64\"\u001b[0m, \u001b[36mi64\u001b[39m \u001b[95msignext\u001b[39m \u001b[0m%\"y::Int64\"\u001b[33m)\u001b[39m \u001b[0m#0 \u001b[33m{\u001b[39m\n",
      "\u001b[91mtop:\u001b[39m\n",
      "\u001b[90m;  @ In[22]:2 within `addition_deux_arguments`\u001b[39m\n",
      "\u001b[90m; ┌ @ int.jl:87 within `+`\u001b[39m\n",
      "   \u001b[0m%0 \u001b[0m= \u001b[96m\u001b[1madd\u001b[22m\u001b[39m \u001b[36mi64\u001b[39m \u001b[0m%\"y::Int64\"\u001b[0m, \u001b[0m%\"x::Int64\"\n",
      "   \u001b[96m\u001b[1mret\u001b[22m\u001b[39m \u001b[36mi64\u001b[39m \u001b[0m%0\n",
      "\u001b[90m; └\u001b[39m\n",
      "\u001b[33m}\u001b[39m\n"
     ]
    }
   ],
   "source": [
    "@code_llvm addition_deux_arguments(10, 10)"
   ]
  },
  {
   "cell_type": "markdown",
   "id": "0f3f1e9a",
   "metadata": {},
   "source": [
    "Si on regarde le code généré utilisant la variable globale, on comprend rapidement pourquoi c'est plus long. Pourquoi le code est-il si compliqué ? Ici le langage ne connait pas le type de `variable`, il doit donc prendre en compte le fait que ce type puisse être modifié à tout moment. Comme tous les cas sont envisagés, cela provoque un surcoût important."
   ]
  },
  {
   "cell_type": "code",
   "execution_count": 24,
   "id": "44c9ab63",
   "metadata": {},
   "outputs": [
    {
     "name": "stdout",
     "output_type": "stream",
     "text": [
      "\u001b[90m; Function Signature: addition_variable_globale(Int64)\u001b[39m\n",
      "\u001b[90m;  @ In[21]:3 within `addition_variable_globale`\u001b[39m\n",
      "\u001b[95mdefine\u001b[39m \u001b[95mnonnull\u001b[39m \u001b[95mptr\u001b[39m \u001b[93m@julia_addition_variable_globale_13008\u001b[39m\u001b[33m(\u001b[39m\u001b[36mi64\u001b[39m \u001b[95msignext\u001b[39m \u001b[0m%\"x::Int64\"\u001b[33m)\u001b[39m \u001b[0m#0 \u001b[33m{\u001b[39m\n",
      "\u001b[91mtop:\u001b[39m\n",
      "  \u001b[0m%jlcallframe1 \u001b[0m= \u001b[96m\u001b[1malloca\u001b[22m\u001b[39m \u001b[33m[\u001b[39m\u001b[33m2\u001b[39m \u001b[0mx \u001b[95mptr\u001b[39m\u001b[33m]\u001b[39m\u001b[0m, \u001b[95malign\u001b[39m \u001b[33m8\u001b[39m\n",
      "  \u001b[0m%gcframe2 \u001b[0m= \u001b[96m\u001b[1malloca\u001b[22m\u001b[39m \u001b[33m[\u001b[39m\u001b[33m4\u001b[39m \u001b[0mx \u001b[95mptr\u001b[39m\u001b[33m]\u001b[39m\u001b[0m, \u001b[95malign\u001b[39m \u001b[33m16\u001b[39m\n",
      "  \u001b[96m\u001b[1mcall\u001b[22m\u001b[39m \u001b[36mvoid\u001b[39m \u001b[93m@llvm.memset.p0.i64\u001b[39m\u001b[33m(\u001b[39m\u001b[95mptr\u001b[39m \u001b[95malign\u001b[39m \u001b[33m16\u001b[39m \u001b[0m%gcframe2\u001b[0m, \u001b[36mi8\u001b[39m \u001b[33m0\u001b[39m\u001b[0m, \u001b[36mi64\u001b[39m \u001b[33m32\u001b[39m\u001b[0m, \u001b[36mi1\u001b[39m \u001b[95mtrue\u001b[39m\u001b[33m)\u001b[39m\n",
      "  \u001b[0m%pgcstack \u001b[0m= \u001b[96m\u001b[1mcall\u001b[22m\u001b[39m \u001b[95mptr\u001b[39m \u001b[95minttoptr\u001b[39m \u001b[33m(\u001b[39m\u001b[36mi64\u001b[39m \u001b[33m140703173070805\u001b[39m \u001b[95mto\u001b[39m \u001b[95mptr\u001b[39m\u001b[33m)\u001b[39m\u001b[33m(\u001b[39m\u001b[36mi64\u001b[39m \u001b[33m261\u001b[39m\u001b[33m)\u001b[39m \u001b[0m#9\n",
      "  \u001b[96m\u001b[1mstore\u001b[22m\u001b[39m \u001b[36mi64\u001b[39m \u001b[33m8\u001b[39m\u001b[0m, \u001b[95mptr\u001b[39m \u001b[0m%gcframe2\u001b[0m, \u001b[95malign\u001b[39m \u001b[33m16\u001b[39m\n",
      "  \u001b[0m%task.gcstack \u001b[0m= \u001b[96m\u001b[1mload\u001b[22m\u001b[39m \u001b[95mptr\u001b[39m\u001b[0m, \u001b[95mptr\u001b[39m \u001b[0m%pgcstack\u001b[0m, \u001b[95malign\u001b[39m \u001b[33m8\u001b[39m\n",
      "  \u001b[0m%frame.prev \u001b[0m= \u001b[96m\u001b[1mgetelementptr\u001b[22m\u001b[39m \u001b[95minbounds\u001b[39m \u001b[95mptr\u001b[39m\u001b[0m, \u001b[95mptr\u001b[39m \u001b[0m%gcframe2\u001b[0m, \u001b[36mi64\u001b[39m \u001b[33m1\u001b[39m\n",
      "  \u001b[96m\u001b[1mstore\u001b[22m\u001b[39m \u001b[95mptr\u001b[39m \u001b[0m%task.gcstack\u001b[0m, \u001b[95mptr\u001b[39m \u001b[0m%frame.prev\u001b[0m, \u001b[95malign\u001b[39m \u001b[33m8\u001b[39m\n",
      "  \u001b[96m\u001b[1mstore\u001b[22m\u001b[39m \u001b[95mptr\u001b[39m \u001b[0m%gcframe2\u001b[0m, \u001b[95mptr\u001b[39m \u001b[0m%pgcstack\u001b[0m, \u001b[95malign\u001b[39m \u001b[33m8\u001b[39m\n",
      "\u001b[90m;  @ In[21]:4 within `addition_variable_globale`\u001b[39m\n",
      "  \u001b[0m%variable.checked \u001b[0m= \u001b[96m\u001b[1mload\u001b[22m\u001b[39m \u001b[95matomic\u001b[39m \u001b[95mptr\u001b[39m\u001b[0m, \u001b[95mptr\u001b[39m \u001b[93m@\"\u001b[39m\u001b[0m*\u001b[0mMain.variable#13010.jit\" \u001b[95munordered\u001b[39m\u001b[0m, \u001b[95malign\u001b[39m \u001b[33m64\u001b[39m\n",
      "  \u001b[0m%.not \u001b[0m= \u001b[96m\u001b[1micmp\u001b[22m\u001b[39m \u001b[96m\u001b[1meq\u001b[22m\u001b[39m \u001b[95mptr\u001b[39m \u001b[0m%variable.checked\u001b[0m, \u001b[95mnull\u001b[39m\n",
      "  \u001b[96m\u001b[1mbr\u001b[22m\u001b[39m \u001b[36mi1\u001b[39m \u001b[0m%.not\u001b[0m, \u001b[36mlabel\u001b[39m \u001b[91m%err\u001b[39m\u001b[0m, \u001b[36mlabel\u001b[39m \u001b[91m%ok\u001b[39m\n",
      "\n",
      "\u001b[91merr:\u001b[39m                                              \u001b[90m; preds = %top\u001b[39m\n",
      "  \u001b[96m\u001b[1mcall\u001b[22m\u001b[39m \u001b[36mvoid\u001b[39m \u001b[93m@ijl_undefined_var_error\u001b[39m\u001b[33m(\u001b[39m\u001b[95mptr\u001b[39m \u001b[95mnonnull\u001b[39m \u001b[93m@\"jl_sym#variable#13011.jit\"\u001b[39m\u001b[0m, \u001b[95mptr\u001b[39m \u001b[95mnonnull\u001b[39m \u001b[93m@\"jl_global#13012.jit\"\u001b[39m\u001b[33m)\u001b[39m\n",
      "  \u001b[96m\u001b[1munreachable\u001b[22m\u001b[39m\n",
      "\n",
      "\u001b[91mok:\u001b[39m                                               \u001b[90m; preds = %top\u001b[39m\n",
      "  \u001b[0m%gc_slot_addr_1 \u001b[0m= \u001b[96m\u001b[1mgetelementptr\u001b[22m\u001b[39m \u001b[95minbounds\u001b[39m \u001b[95mptr\u001b[39m\u001b[0m, \u001b[95mptr\u001b[39m \u001b[0m%gcframe2\u001b[0m, \u001b[36mi64\u001b[39m \u001b[33m3\u001b[39m\n",
      "  \u001b[96m\u001b[1mstore\u001b[22m\u001b[39m \u001b[95mptr\u001b[39m \u001b[0m%variable.checked\u001b[0m, \u001b[95mptr\u001b[39m \u001b[0m%gc_slot_addr_1\u001b[0m, \u001b[95malign\u001b[39m \u001b[33m8\u001b[39m\n",
      "  \u001b[0m%box_Int64 \u001b[0m= \u001b[96m\u001b[1mcall\u001b[22m\u001b[39m \u001b[95mnonnull\u001b[39m \u001b[95malign\u001b[39m \u001b[33m8\u001b[39m \u001b[95mdereferenceable\u001b[39m\u001b[33m(\u001b[39m\u001b[33m8\u001b[39m\u001b[33m)\u001b[39m \u001b[95mptr\u001b[39m \u001b[93m@ijl_box_int64\u001b[39m\u001b[33m(\u001b[39m\u001b[36mi64\u001b[39m \u001b[95msignext\u001b[39m \u001b[0m%\"x::Int64\"\u001b[33m)\u001b[39m \u001b[0m#3\n",
      "  \u001b[0m%gc_slot_addr_0 \u001b[0m= \u001b[96m\u001b[1mgetelementptr\u001b[22m\u001b[39m \u001b[95minbounds\u001b[39m \u001b[95mptr\u001b[39m\u001b[0m, \u001b[95mptr\u001b[39m \u001b[0m%gcframe2\u001b[0m, \u001b[36mi64\u001b[39m \u001b[33m2\u001b[39m\n",
      "  \u001b[96m\u001b[1mstore\u001b[22m\u001b[39m \u001b[95mptr\u001b[39m \u001b[0m%box_Int64\u001b[0m, \u001b[95mptr\u001b[39m \u001b[0m%gc_slot_addr_0\u001b[0m, \u001b[95malign\u001b[39m \u001b[33m16\u001b[39m\n",
      "  \u001b[96m\u001b[1mstore\u001b[22m\u001b[39m \u001b[95mptr\u001b[39m \u001b[0m%box_Int64\u001b[0m, \u001b[95mptr\u001b[39m \u001b[0m%jlcallframe1\u001b[0m, \u001b[95malign\u001b[39m \u001b[33m8\u001b[39m\n",
      "  \u001b[0m%0 \u001b[0m= \u001b[96m\u001b[1mgetelementptr\u001b[22m\u001b[39m \u001b[95minbounds\u001b[39m \u001b[95mptr\u001b[39m\u001b[0m, \u001b[95mptr\u001b[39m \u001b[0m%jlcallframe1\u001b[0m, \u001b[36mi64\u001b[39m \u001b[33m1\u001b[39m\n",
      "  \u001b[96m\u001b[1mstore\u001b[22m\u001b[39m \u001b[95mptr\u001b[39m \u001b[0m%variable.checked\u001b[0m, \u001b[95mptr\u001b[39m \u001b[0m%0\u001b[0m, \u001b[95malign\u001b[39m \u001b[33m8\u001b[39m\n",
      "  \u001b[0m%1 \u001b[0m= \u001b[96m\u001b[1mcall\u001b[22m\u001b[39m \u001b[95mnonnull\u001b[39m \u001b[95mptr\u001b[39m \u001b[93m@ijl_apply_generic\u001b[39m\u001b[33m(\u001b[39m\u001b[95mptr\u001b[39m \u001b[95mnonnull\u001b[39m \u001b[93m@\"jl_global#13014.jit\"\u001b[39m\u001b[0m, \u001b[95mptr\u001b[39m \u001b[95mnonnull\u001b[39m \u001b[0m%jlcallframe1\u001b[0m, \u001b[36mi32\u001b[39m \u001b[33m2\u001b[39m\u001b[33m)\u001b[39m\n",
      "  \u001b[0m%frame.prev6 \u001b[0m= \u001b[96m\u001b[1mload\u001b[22m\u001b[39m \u001b[95mptr\u001b[39m\u001b[0m, \u001b[95mptr\u001b[39m \u001b[0m%frame.prev\u001b[0m, \u001b[95malign\u001b[39m \u001b[33m8\u001b[39m\n",
      "  \u001b[96m\u001b[1mstore\u001b[22m\u001b[39m \u001b[95mptr\u001b[39m \u001b[0m%frame.prev6\u001b[0m, \u001b[95mptr\u001b[39m \u001b[0m%pgcstack\u001b[0m, \u001b[95malign\u001b[39m \u001b[33m8\u001b[39m\n",
      "  \u001b[96m\u001b[1mret\u001b[22m\u001b[39m \u001b[95mptr\u001b[39m \u001b[0m%1\n",
      "\u001b[33m}\u001b[39m\n"
     ]
    }
   ],
   "source": [
    "@code_llvm addition_variable_globale(10)"
   ]
  },
  {
   "cell_type": "markdown",
   "id": "0280aba5",
   "metadata": {},
   "source": [
    "Il est donc possible d'améliorer la performance en fixant la valeur de la variable globale avec l'instruction `const`."
   ]
  },
  {
   "cell_type": "code",
   "execution_count": 25,
   "id": "06925d7f",
   "metadata": {},
   "outputs": [
    {
     "name": "stdout",
     "output_type": "stream",
     "text": [
      "  1.610 ns (0 allocations: 0 bytes)\n"
     ]
    },
    {
     "data": {
      "text/plain": [
       "20"
      ]
     },
     "execution_count": 25,
     "metadata": {},
     "output_type": "execute_result"
    }
   ],
   "source": [
    "const constante = 10\n",
    "\n",
    "function addition_variable_constante(x)\n",
    "    x + constante\n",
    "end\n",
    "\n",
    "@btime addition_variable_constante(10)"
   ]
  },
  {
   "cell_type": "markdown",
   "id": "c0ce77d0",
   "metadata": {},
   "source": [
    "On peut également fixer le type de cette variable. C'est mieux mais cela reste éloigné, en terme de performance, du résultat précedent."
   ]
  },
  {
   "cell_type": "code",
   "execution_count": 26,
   "id": "3ff88260",
   "metadata": {},
   "outputs": [
    {
     "name": "stdout",
     "output_type": "stream",
     "text": [
      "  3.195 ns (0 allocations: 0 bytes)\n"
     ]
    },
    {
     "data": {
      "text/plain": [
       "20"
      ]
     },
     "execution_count": 26,
     "metadata": {},
     "output_type": "execute_result"
    }
   ],
   "source": [
    "function addition_variable_typee(x)\n",
    "    x + variable::Int\n",
    "end\n",
    "\n",
    "@btime addition_variable_typee(10)"
   ]
  },
  {
   "cell_type": "markdown",
   "id": "5bd24745",
   "metadata": {},
   "source": [
    "Pour régler notre problème de performance avec une variable globale, il faut la passer en argument dans la fonction."
   ]
  },
  {
   "cell_type": "code",
   "execution_count": 27,
   "id": "f2a754aa",
   "metadata": {},
   "outputs": [
    {
     "data": {
      "text/plain": [
       "addition_variable_globale_en_argument (generic function with 1 method)"
      ]
     },
     "execution_count": 27,
     "metadata": {},
     "output_type": "execute_result"
    }
   ],
   "source": [
    "function addition_variable_globale_en_argument(x, v)\n",
    "    x + v\n",
    "end"
   ]
  },
  {
   "cell_type": "code",
   "execution_count": 28,
   "id": "0b9ebcdd",
   "metadata": {
    "lines_to_next_cell": 2
   },
   "outputs": [
    {
     "name": "stdout",
     "output_type": "stream",
     "text": [
      "  2.901 ns (0 allocations: 0 bytes)\n"
     ]
    },
    {
     "data": {
      "text/plain": [
       "20"
      ]
     },
     "execution_count": 28,
     "metadata": {},
     "output_type": "execute_result"
    }
   ],
   "source": [
    "@btime addition_variable_globale_en_argument(10, $variable)"
   ]
  },
  {
   "cell_type": "markdown",
   "id": "e87af8f2",
   "metadata": {},
   "source": [
    "## Instabilité de type\n",
    "\n",
    "Une fonction est de type stable lorsque vous pouvez déduire ce que doit être la sortie de la fonction. L'exemple ci-dessous rendra les choses plus claires. En règle générale, les fonctions de type stable sont plus rapides.\n"
   ]
  },
  {
   "cell_type": "code",
   "execution_count": 29,
   "id": "74ebc790",
   "metadata": {},
   "outputs": [
    {
     "data": {
      "text/plain": [
       "carre_plus_un (generic function with 1 method)"
      ]
     },
     "execution_count": 29,
     "metadata": {},
     "output_type": "execute_result"
    }
   ],
   "source": [
    "function carre_plus_un(v::T) where T <:Number\n",
    "    g = v * v\n",
    "    return g+1\n",
    "end"
   ]
  },
  {
   "cell_type": "code",
   "execution_count": 30,
   "id": "4edca01f",
   "metadata": {},
   "outputs": [
    {
     "data": {
      "text/plain": [
       "0.3933831280400072"
      ]
     },
     "execution_count": 30,
     "metadata": {},
     "output_type": "execute_result"
    }
   ],
   "source": [
    "v = rand()"
   ]
  },
  {
   "cell_type": "code",
   "execution_count": 31,
   "id": "99485981",
   "metadata": {},
   "outputs": [
    {
     "name": "stdout",
     "output_type": "stream",
     "text": [
      "MethodInstance for carre_plus_un(::Float64)\n",
      "\u001b[90m @\u001b[39m \u001b[90mMain\u001b[39m \u001b[90m\u001b[4mIn[29]:1\u001b[24m\u001b[39mNumber\n",
      "Static Parameters\n",
      "  T = \u001b[36mFloat64\u001b[39m\n",
      "Arguments\n",
      "  #self#\u001b[36m::Core.Const(Main.carre_plus_un)\u001b[39m\n",
      "  v\u001b[36m::Float64\u001b[39m\n",
      "Locals\n",
      "  g\u001b[36m::Float64\u001b[39m\n",
      "Body\u001b[36m::Float64\u001b[39m\n",
      "      (g = v * v)\n",
      "\u001b[90m│  \u001b[39m %2 = g\u001b[36m::Float64\u001b[39m\n",
      "\u001b[90m│  \u001b[39m %3 = (%2 + 1)\u001b[36m::Float64\u001b[39m\n",
      "\u001b[90m└──\u001b[39m      return %3\n",
      "\n"
     ]
    }
   ],
   "source": [
    "@code_warntype carre_plus_un(v)"
   ]
  },
  {
   "cell_type": "code",
   "execution_count": 32,
   "id": "9dca48e3",
   "metadata": {},
   "outputs": [
    {
     "data": {
      "text/plain": [
       "5"
      ]
     },
     "execution_count": 32,
     "metadata": {},
     "output_type": "execute_result"
    }
   ],
   "source": [
    "w = 5"
   ]
  },
  {
   "cell_type": "code",
   "execution_count": 33,
   "id": "a28229a7",
   "metadata": {},
   "outputs": [
    {
     "name": "stdout",
     "output_type": "stream",
     "text": [
      "MethodInstance for carre_plus_un(::Int64)\n",
      "  from carre_plus_un(\u001b[90mv\u001b[39m::\u001b[1mT\u001b[22m) where T<:Number\u001b[90m @\u001b[39m \u001b[90mMain\u001b[39m \u001b[90m\u001b[4mIn[29]:1\u001b[24m\u001b[39m\n",
      "Static Parameters\n",
      "  T = \u001b[36mInt64\u001b[39m\n",
      "Arguments\n",
      "  #self#\u001b[36m::Core.Const(Main.carre_plus_un)\u001b[39m\n",
      "  v\u001b[36m::Int64\u001b[39m\n",
      "Locals\n",
      "  g\u001b[36m::Int64\u001b[39m\n",
      "Body\u001b[36m::Int64\u001b[39m\n",
      "\u001b[90m1 ─\u001b[39m      (g = v * v)\n",
      "\u001b[90m│  \u001b[39m %2 = g\u001b[36m::Int64\u001b[39m\n",
      "\u001b[90m│  \u001b[39m %3 = (%2 + 1)\u001b[36m::Int64\u001b[39m\n",
      "\u001b[90m└──\u001b[39m      return %3\n",
      "\n"
     ]
    }
   ],
   "source": [
    "@code_warntype carre_plus_un(w)"
   ]
  },
  {
   "cell_type": "markdown",
   "id": "ceafe1d0",
   "metadata": {},
   "source": [
    "Sur les deux exemples précedents on peut déduire le type de sortie de la fonction.\n",
    "```\n",
    "function carre_plus_un(v::T) where T <:Number\n",
    "    g = v*v         # Type(T * T) ==> T\n",
    "    return g+1      # Type(T + Int)) ==> \"max\" (T,Int)\n",
    "end\n",
    "\n",
    "```\n",
    "Le type de la valeur de retour peut être différent: `Float64` ou `Int64`. Mais la fonction est toujours stable.\n",
    "\n",
    "Créons maintenant un nouveau type:"
   ]
  },
  {
   "cell_type": "code",
   "execution_count": 34,
   "id": "150f60c8",
   "metadata": {},
   "outputs": [],
   "source": [
    "mutable struct Cube\n",
    "    length\n",
    "    width\n",
    "    height\n",
    "end"
   ]
  },
  {
   "cell_type": "code",
   "execution_count": 35,
   "id": "9785378b",
   "metadata": {},
   "outputs": [
    {
     "data": {
      "text/plain": [
       "volume (generic function with 1 method)"
      ]
     },
     "execution_count": 35,
     "metadata": {},
     "output_type": "execute_result"
    }
   ],
   "source": [
    "volume(c::Cube) = c.length*c.width*c.height"
   ]
  },
  {
   "cell_type": "code",
   "execution_count": 36,
   "id": "ad094daf",
   "metadata": {},
   "outputs": [
    {
     "data": {
      "text/plain": [
       "volume (generic function with 2 methods)"
      ]
     },
     "execution_count": 36,
     "metadata": {},
     "output_type": "execute_result"
    }
   ],
   "source": [
    "mutable struct Cube_typed\n",
    "    length::Float64\n",
    "    width::Float64\n",
    "    height::Float64\n",
    "end\n",
    "volume(c::Cube_typed) = c.length*c.width*c.height"
   ]
  },
  {
   "cell_type": "code",
   "execution_count": 37,
   "id": "532f1944",
   "metadata": {},
   "outputs": [
    {
     "data": {
      "text/plain": [
       "volume (generic function with 3 methods)"
      ]
     },
     "execution_count": 37,
     "metadata": {},
     "output_type": "execute_result"
    }
   ],
   "source": [
    "mutable struct Cube_parametric_typed{T <: Real}\n",
    "    length :: T\n",
    "    width :: T\n",
    "    height :: T\n",
    "end\n",
    "volume(c::Cube_parametric_typed) = c.length*c.width*c.height"
   ]
  },
  {
   "cell_type": "code",
   "execution_count": 38,
   "id": "513032b3",
   "metadata": {},
   "outputs": [
    {
     "name": "stdout",
     "output_type": "stream",
     "text": [
      "volume(c1) == volume(c2) == volume(c3) = true\n"
     ]
    },
    {
     "data": {
      "text/plain": [
       "true"
      ]
     },
     "execution_count": 38,
     "metadata": {},
     "output_type": "execute_result"
    }
   ],
   "source": [
    "c1 = Cube(1.1,1.2,1.3)\n",
    "c2 = Cube_typed(1.1,1.2,1.3)\n",
    "c3 = Cube_parametric_typed(1.1,1.2,1.3)\n",
    "@show volume(c1) == volume(c2) == volume(c3)"
   ]
  },
  {
   "cell_type": "code",
   "execution_count": 39,
   "id": "559b8262",
   "metadata": {},
   "outputs": [
    {
     "name": "stdout",
     "output_type": "stream",
     "text": [
      "  24.748 ns (1 allocation: 16 bytes)\n",
      " (0 allocations: 0 bytes)\n",
      " (0 allocations: 0 bytes)\n"
     ]
    },
    {
     "data": {
      "text/plain": [
       "1.7160000000000002"
      ]
     },
     "execution_count": 39,
     "metadata": {},
     "output_type": "execute_result"
    }
   ],
   "source": [
    "using BenchmarkTools\n",
    "@btime volume($c1) # not typed\n",
    "@btime volume($c2) # typed float\n",
    "@btime volume($c3) # typed parametric"
   ]
  },
  {
   "cell_type": "code",
   "execution_count": 40,
   "id": "38218767",
   "metadata": {},
   "outputs": [
    {
     "name": "stdout",
     "output_type": "stream",
     "text": [
      "  2.617 ns (0 allocations: 0 bytes)\n"
     ]
    },
    {
     "data": {
      "text/plain": [
       "1.7160000000000002"
      ]
     },
     "execution_count": 40,
     "metadata": {},
     "output_type": "execute_result"
    }
   ],
   "source": [
    "c4 = Cube_parametric_typed{Float64}(1.1,1.2,1.3)\n",
    "@btime volume($c4) "
   ]
  },
  {
   "cell_type": "markdown",
   "id": "406b45da",
   "metadata": {},
   "source": [
    "The second and the third function calls are faster! Let's call `@code_warntype` and check type stability"
   ]
  },
  {
   "cell_type": "code",
   "execution_count": 59,
   "id": "f6050993",
   "metadata": {},
   "outputs": [
    {
     "name": "stdout",
     "output_type": "stream",
     "text": [
      "MethodInstance for volume(::Cube)\n",
      "  from volume(\u001b[90mc\u001b[39m::\u001b[1mCube\u001b[22m)\u001b[90m @\u001b[39m \u001b[90mMain\u001b[39m \u001b[90m\u001b[4mIn[44]:1\u001b[24m\u001b[39m\n",
      "Arguments\n",
      "  #self#\u001b[36m::Core.Const(volume)\u001b[39m\n",
      "  c\u001b[36m::Cube\u001b[39m\n",
      "Body\u001b[91m\u001b[1m::Any\u001b[22m\u001b[39m\n",
      "\u001b[90m1 ─\u001b[39m %1 = Base.getproperty(c, :length)\u001b[91m\u001b[1m::Any\u001b[22m\u001b[39m\n",
      "\u001b[90m│  \u001b[39m %2 = Base.getproperty(c, :width)\u001b[91m\u001b[1m::Any\u001b[22m\u001b[39m\n",
      "\u001b[90m│  \u001b[39m %3 = Base.getproperty(c, :height)\u001b[91m\u001b[1m::Any\u001b[22m\u001b[39m\n",
      "\u001b[90m│  \u001b[39m %4 = (%1 * %2 * %3)\u001b[91m\u001b[1m::Any\u001b[22m\u001b[39m\n",
      "\u001b[90m└──\u001b[39m      return %4\n",
      "\n"
     ]
    }
   ],
   "source": [
    "@code_warntype volume(c1)"
   ]
  },
  {
   "cell_type": "code",
   "execution_count": 60,
   "id": "632e6673",
   "metadata": {},
   "outputs": [
    {
     "name": "stdout",
     "output_type": "stream",
     "text": [
      "MethodInstance for volume(::Cube_typed)\n",
      "  from volume(\u001b[90mc\u001b[39m::\u001b[1mCube_typed\u001b[22m)\u001b[90m @\u001b[39m \u001b[90mMain\u001b[39m \u001b[90m\u001b[4mIn[45]:6\u001b[24m\u001b[39m\n",
      "Arguments\n",
      "  #self#\u001b[36m::Core.Const(volume)\u001b[39m\n",
      "  c\u001b[36m::Cube_typed\u001b[39m\n",
      "Body\u001b[36m::Float64\u001b[39m\n",
      "\u001b[90m1 ─\u001b[39m %1 = Base.getproperty(c, :length)\u001b[36m::Float64\u001b[39m\n",
      "\u001b[90m│  \u001b[39m %2 = Base.getproperty(c, :width)\u001b[36m::Float64\u001b[39m\n",
      "\u001b[90m│  \u001b[39m %3 = Base.getproperty(c, :height)\u001b[36m::Float64\u001b[39m\n",
      "\u001b[90m│  \u001b[39m %4 = (%1 * %2 * %3)\u001b[36m::Float64\u001b[39m\n",
      "\u001b[90m└──\u001b[39m      return %4\n",
      "\n"
     ]
    }
   ],
   "source": [
    "@code_warntype volume(c2)"
   ]
  },
  {
   "cell_type": "code",
   "execution_count": 61,
   "id": "acdc75fe",
   "metadata": {},
   "outputs": [
    {
     "name": "stdout",
     "output_type": "stream",
     "text": [
      "MethodInstance for volume(::Cube_parametric_typed{Float64})\n",
      "  from volume(\u001b[90mc\u001b[39m::\u001b[1mCube_parametric_typed\u001b[22m)\u001b[90m @\u001b[39m \u001b[90mMain\u001b[39m \u001b[90m\u001b[4mIn[46]:6\u001b[24m\u001b[39m\n",
      "Arguments\n",
      "  #self#\u001b[36m::Core.Const(volume)\u001b[39m\n",
      "  c\u001b[36m::Cube_parametric_typed{Float64}\u001b[39m\n",
      "Body\u001b[36m::Float64\u001b[39m\n",
      "\u001b[90m1 ─\u001b[39m %1 = Base.getproperty(c, :length)\u001b[36m::Float64\u001b[39m\n",
      "\u001b[90m│  \u001b[39m %2 = Base.getproperty(c, :width)\u001b[36m::Float64\u001b[39m\n",
      "\u001b[90m│  \u001b[39m %3 = Base.getproperty(c, :height)\u001b[36m::Float64\u001b[39m\n",
      "\u001b[90m│  \u001b[39m %4 = (%1 * %2 * %3)\u001b[36m::Float64\u001b[39m\n",
      "\u001b[90m└──\u001b[39m      return %4\n",
      "\n"
     ]
    }
   ],
   "source": [
    "@code_warntype volume(c3)"
   ]
  },
  {
   "cell_type": "markdown",
   "id": "29c00202",
   "metadata": {},
   "source": [
    "**Conclusion**: Les types en Julia sont importants donc si vous les connaissez, ajoutez-les, cela peut améliorer les performances."
   ]
  },
  {
   "cell_type": "code",
   "execution_count": 62,
   "id": "025e22a3",
   "metadata": {},
   "outputs": [
    {
     "name": "stdout",
     "output_type": "stream",
     "text": [
      "MethodInstance for zero_or_val(::Float64)\n",
      "  from zero_or_val(\u001b[90mx\u001b[39m::\u001b[1mReal\u001b[22m)\u001b[90m @\u001b[39m \u001b[90mMain\u001b[39m \u001b[90m\u001b[4mIn[62]:1\u001b[24m\u001b[39m\n",
      "Arguments\n",
      "  #self#\u001b[36m::Core.Const(zero_or_val)\u001b[39m\n",
      "  x\u001b[36m::Float64\u001b[39m\n",
      "Body\u001b[33m\u001b[1m::Union{Float64, Int64}\u001b[22m\u001b[39m\n",
      "\u001b[90m1 ─\u001b[39m %1 = (x >= 0)\u001b[36m::Bool\u001b[39m\n",
      "\u001b[90m└──\u001b[39m      goto #3 if not %1\n",
      "\u001b[90m2 ─\u001b[39m      return x\n",
      "\u001b[90m3 ─\u001b[39m      return 0\n",
      "\n"
     ]
    }
   ],
   "source": [
    "function zero_or_val(x::Real)\n",
    "    if x >= 0\n",
    "        return x\n",
    "    else\n",
    "        return 0\n",
    "    end\n",
    "end\n",
    "@code_warntype zero_or_val(0.2)"
   ]
  },
  {
   "cell_type": "code",
   "execution_count": 65,
   "id": "945d0a4c",
   "metadata": {},
   "outputs": [
    {
     "name": "stdout",
     "output_type": "stream",
     "text": [
      "MethodInstance for zero_or_val_stable(::Float64)\n",
      "  from zero_or_val_stable(\u001b[90mx\u001b[39m::\u001b[1mReal\u001b[22m)\u001b[90m @\u001b[39m \u001b[90mMain\u001b[39m \u001b[90m\u001b[4mIn[65]:1\u001b[24m\u001b[39m\n",
      "Arguments\n",
      "  #self#\u001b[36m::Core.Const(zero_or_val_stable)\u001b[39m\n",
      "  x\u001b[36m::Float64\u001b[39m\n",
      "Locals\n",
      "  y\u001b[36m::Float64\u001b[39m\n",
      "  T\u001b[36m::Type{Float64}\u001b[39m\n",
      "Body\u001b[36m::Float64\u001b[39m\n",
      "\u001b[90m1 ─\u001b[39m      Core.NewvarNode(:(y))\n",
      "\u001b[90m│  \u001b[39m      (T = Main.typeof(x))\n",
      "\u001b[90m│  \u001b[39m %3 = (x >= 0)\u001b[36m::Bool\u001b[39m\n",
      "\u001b[90m└──\u001b[39m      goto #3 if not %3\n",
      "\u001b[90m2 ─\u001b[39m      (y = x)\n",
      "\u001b[90m└──\u001b[39m      goto #4\n",
      "\u001b[90m3 ─\u001b[39m      (y = Main.zero(T::Core.Const(Float64)))\n",
      "\u001b[90m4 ┄\u001b[39m      return y\n",
      "\n"
     ]
    }
   ],
   "source": [
    "function zero_or_val_stable(x::Real)\n",
    "    T = typeof(x)\n",
    "    if x >= 0\n",
    "        y = x\n",
    "    else\n",
    "        y = zero(T)\n",
    "    end\n",
    "    \n",
    "    return y\n",
    "end\n",
    "@code_warntype zero_or_val_stable(0.2)"
   ]
  },
  {
   "cell_type": "markdown",
   "id": "ba524ebf",
   "metadata": {},
   "source": [
    "**Conclusion**: `promote_type` peut vous permettre de supprimer une instabilité de type en utilisant la réprésentation la plus haute dans l'abre des types."
   ]
  },
  {
   "cell_type": "markdown",
   "id": "f386a835",
   "metadata": {},
   "source": [
    "Je vous propose le jeu suivant: Soit un vecteur de nombres. Calculons la somme comme suit. \n",
    "Pour chaque nombre du vecteur, on lance une pièce de monnaie (`rand()`), si c'est face (`>=0.5`), vous ajoutez `1`. Sinon, vous ajoutez le nombre lui-même.\n"
   ]
  },
  {
   "cell_type": "code",
   "execution_count": 66,
   "id": "01422850",
   "metadata": {},
   "outputs": [
    {
     "name": "stdout",
     "output_type": "stream",
     "text": [
      "flipcoin_then_add(myvec) == flipcoin_then_add_typed(myvec) = true\n"
     ]
    },
    {
     "data": {
      "text/plain": [
       "true"
      ]
     },
     "execution_count": 66,
     "metadata": {},
     "output_type": "execute_result"
    }
   ],
   "source": [
    "function flipcoin_then_add(v::Vector{T}) where T <: Real\n",
    "    s = 0\n",
    "    for vi in v\n",
    "        r = rand()\n",
    "        if r >=0.5\n",
    "            s += 1\n",
    "        else\n",
    "            s += vi\n",
    "        end\n",
    "    end\n",
    "end\n",
    "\n",
    "function flipcoin_then_add_typed(v::Vector{T}) where T <: Real\n",
    "    s = zero(T)\n",
    "    for vi in v\n",
    "        r = rand()\n",
    "        if r >=0.5\n",
    "            s += one(T)\n",
    "        else\n",
    "            s += vi\n",
    "        end\n",
    "    end\n",
    "end\n",
    "myvec = rand(1000)\n",
    "@show flipcoin_then_add(myvec) == flipcoin_then_add_typed(myvec)"
   ]
  },
  {
   "cell_type": "code",
   "execution_count": 68,
   "id": "f5806fa6",
   "metadata": {},
   "outputs": [
    {
     "name": "stdout",
     "output_type": "stream",
     "text": [
      "  5.391 μs (0 allocations: 0 bytes)\n",
      "  764.425 ns (0 allocations: 0 bytes)\n"
     ]
    }
   ],
   "source": [
    "x = rand(1000)\n",
    "@btime flipcoin_then_add($x)\n",
    "@btime flipcoin_then_add_typed($x)"
   ]
  },
  {
   "cell_type": "markdown",
   "id": "90bdf79b",
   "metadata": {},
   "source": [
    "**Conclusion**: Think about the variables you are declaring. Do you know their types? If so, specify the type somehow."
   ]
  },
  {
   "cell_type": "markdown",
   "id": "eb833422",
   "metadata": {},
   "source": [
    "### @code_XXX\n",
    "\n",
    "Nous avons vu durant ce chapitre que regarder le code généré peut nous aider à améliorer les performances. Voici toutes les macros à votre disposition:"
   ]
  },
  {
   "cell_type": "code",
   "execution_count": 69,
   "id": "e454b4c2",
   "metadata": {},
   "outputs": [
    {
     "data": {
      "text/plain": [
       "flipcoin (generic function with 1 method)"
      ]
     },
     "execution_count": 69,
     "metadata": {},
     "output_type": "execute_result"
    }
   ],
   "source": [
    "# @code_llvm \n",
    "# @code_lowered \n",
    "# @code_native \n",
    "# @code_typed \n",
    "# @code_warntype\n",
    "\n",
    "function flipcoin(randval::Float64)\n",
    "    if randval<0.5\n",
    "        return \"H\"\n",
    "    else\n",
    "        return \"T\"\n",
    "    end\n",
    "end"
   ]
  },
  {
   "cell_type": "code",
   "execution_count": 70,
   "id": "6ca27001",
   "metadata": {},
   "outputs": [
    {
     "data": {
      "text/plain": [
       "CodeInfo(\n",
       "\u001b[90m1 ─\u001b[39m %1 = randval < 0.5\n",
       "\u001b[90m└──\u001b[39m      goto #3 if not %1\n",
       "\u001b[90m2 ─\u001b[39m      return \"H\"\n",
       "\u001b[90m3 ─\u001b[39m      return \"T\"\n",
       ")"
      ]
     },
     "execution_count": 70,
     "metadata": {},
     "output_type": "execute_result"
    }
   ],
   "source": [
    "@code_lowered flipcoin(rand()) # syntax tree"
   ]
  },
  {
   "cell_type": "code",
   "execution_count": 71,
   "id": "fb492e2e",
   "metadata": {},
   "outputs": [
    {
     "name": "stdout",
     "output_type": "stream",
     "text": [
      "MethodInstance for flipcoin(::Float64)\n",
      "  from flipcoin(\u001b[90mrandval\u001b[39m::\u001b[1mFloat64\u001b[22m)\u001b[90m @\u001b[39m \u001b[90mMain\u001b[39m \u001b[90m\u001b[4mIn[69]:7\u001b[24m\u001b[39m\n",
      "Arguments\n",
      "  #self#\u001b[36m::Core.Const(flipcoin)\u001b[39m\n",
      "  randval\u001b[36m::Float64\u001b[39m\n",
      "Body\u001b[36m::String\u001b[39m\n",
      "\u001b[90m1 ─\u001b[39m %1 = (randval < 0.5)\u001b[36m::Bool\u001b[39m\n",
      "\u001b[90m└──\u001b[39m      goto #3 if not %1\n",
      "\u001b[90m2 ─\u001b[39m      return \"H\"\n",
      "\u001b[90m3 ─\u001b[39m      return \"T\"\n",
      "\n"
     ]
    }
   ],
   "source": [
    "@code_warntype flipcoin(rand()) # try @code_typed"
   ]
  },
  {
   "cell_type": "code",
   "execution_count": 72,
   "id": "db32862e",
   "metadata": {},
   "outputs": [
    {
     "name": "stdout",
     "output_type": "stream",
     "text": [
      "\u001b[90m;  @ In[69]:7 within `flipcoin`\u001b[39m\n",
      "\u001b[95mdefine\u001b[39m \u001b[95mnonnull\u001b[39m \u001b[33m{\u001b[39m\u001b[33m}\u001b[39m\u001b[0m* \u001b[93m@julia_flipcoin_2741\u001b[39m\u001b[33m(\u001b[39m\u001b[36mdouble\u001b[39m \u001b[0m%0\u001b[33m)\u001b[39m \u001b[0m#0 \u001b[33m{\u001b[39m\n",
      "\u001b[91mtop:\u001b[39m\n",
      "\u001b[90m;  @ In[69]:8 within `flipcoin`\u001b[39m\n",
      "\u001b[90m; ┌ @ float.jl:536 within `<`\u001b[39m\n",
      "   \u001b[0m%1 \u001b[0m= \u001b[96m\u001b[1mfcmp\u001b[22m\u001b[39m \u001b[96m\u001b[1muge\u001b[22m\u001b[39m \u001b[36mdouble\u001b[39m \u001b[0m%0\u001b[0m, \u001b[33m5.000000e-01\u001b[39m\n",
      "   \u001b[0m%. \u001b[0m= \u001b[96m\u001b[1mselect\u001b[22m\u001b[39m \u001b[36mi1\u001b[39m \u001b[0m%1\u001b[0m, \u001b[33m{\u001b[39m\u001b[33m}\u001b[39m\u001b[0m* \u001b[95minttoptr\u001b[39m \u001b[33m(\u001b[39m\u001b[36mi64\u001b[39m \u001b[33m5478482832\u001b[39m \u001b[95mto\u001b[39m \u001b[33m{\u001b[39m\u001b[33m}\u001b[39m\u001b[0m*\u001b[33m)\u001b[39m\u001b[0m, \u001b[33m{\u001b[39m\u001b[33m}\u001b[39m\u001b[0m* \u001b[95minttoptr\u001b[39m \u001b[33m(\u001b[39m\u001b[36mi64\u001b[39m \u001b[33m5478482776\u001b[39m \u001b[95mto\u001b[39m \u001b[33m{\u001b[39m\u001b[33m}\u001b[39m\u001b[0m*\u001b[33m)\u001b[39m\n",
      "\u001b[90m; └\u001b[39m\n",
      "\u001b[90m;  @ In[69] within `flipcoin`\u001b[39m\n",
      "  \u001b[96m\u001b[1mret\u001b[22m\u001b[39m \u001b[33m{\u001b[39m\u001b[33m}\u001b[39m\u001b[0m* \u001b[0m%.\n",
      "\u001b[33m}\u001b[39m\n"
     ]
    }
   ],
   "source": [
    "@code_llvm flipcoin(rand()) # this and code_warntype are probably the most relevant"
   ]
  },
  {
   "cell_type": "code",
   "execution_count": 73,
   "id": "e06ed5f5",
   "metadata": {},
   "outputs": [
    {
     "name": "stdout",
     "output_type": "stream",
     "text": [
      "\t\u001b[0m.section\t\u001b[0m__TEXT\u001b[0m,\u001b[0m__text\u001b[0m,\u001b[0mregular\u001b[0m,\u001b[0mpure_instructions\n",
      "\t\u001b[0m.build_version \u001b[0mmacos\u001b[0m, \u001b[33m12\u001b[39m\u001b[0m, \u001b[33m0\u001b[39m\n",
      "\t\u001b[0m.section\t\u001b[0m__TEXT\u001b[0m,\u001b[0m__literal8\u001b[0m,\u001b[0m8byte_literals\n",
      "\t\u001b[0m.p2align\t\u001b[33m3\u001b[39m                               \u001b[0m## \u001b[0m-- \u001b[0mBegin \u001b[0mfunction \u001b[0mjulia_flipcoin_2757\n",
      "\u001b[91mLCPI0_0:\u001b[39m\n",
      "\t\u001b[0m.quad\t\u001b[33m0x3fe0000000000000\u001b[39m              \u001b[0m## \u001b[0mdouble \u001b[33m0.5\u001b[39m\n",
      "\t\u001b[0m.section\t\u001b[0m__TEXT\u001b[0m,\u001b[0m__text\u001b[0m,\u001b[0mregular\u001b[0m,\u001b[0mpure_instructions\n",
      "\t\u001b[0m.globl\t\u001b[0m_julia_flipcoin_2757\n",
      "\t\u001b[0m.p2align\t\u001b[33m4\u001b[39m\u001b[0m, \u001b[33m0x90\u001b[39m\n",
      "\u001b[91m_julia_flipcoin_2757:\u001b[39m                   \u001b[0m## \u001b[0m@julia_flipcoin_2757\n",
      "\u001b[90m; ┌ @ In[69]:7 within `flipcoin`\u001b[39m\n",
      "\u001b[0m## \u001b[0m%bb.0\u001b[0m:                               \u001b[0m## \u001b[0m%top\n",
      "\t\u001b[96m\u001b[1mmovabs\u001b[22m\u001b[39m\t\u001b[0mrax\u001b[0m, \u001b[95moffset\u001b[39m \u001b[91mLCPI0_0\u001b[39m\n",
      "\t\u001b[96m\u001b[1mvmovsd\u001b[22m\u001b[39m\t\u001b[0mxmm1\u001b[0m, \u001b[95mqword\u001b[39m \u001b[95mptr\u001b[39m \u001b[33m[\u001b[39m\u001b[0mrax\u001b[33m]\u001b[39m           \u001b[0m## \u001b[0mxmm1 \u001b[0m= \u001b[0mmem\u001b[33m[\u001b[39m\u001b[33m0\u001b[39m\u001b[33m]\u001b[39m\u001b[0m,\u001b[0mzero\n",
      "\u001b[90m; │ @ In[69]:8 within `flipcoin`\u001b[39m\n",
      "\u001b[90m; │┌ @ float.jl:536 within `<`\u001b[39m\n",
      "\t\u001b[96m\u001b[1mvucomisd\u001b[22m\u001b[39m\t\u001b[0mxmm1\u001b[0m, \u001b[0mxmm0\n",
      "\t\u001b[96m\u001b[1mmovabs\u001b[22m\u001b[39m\t\u001b[0mrcx\u001b[0m, \u001b[33m5478482832\u001b[39m\n",
      "\t\u001b[96m\u001b[1mmovabs\u001b[22m\u001b[39m\t\u001b[0mrax\u001b[0m, \u001b[33m5478482776\u001b[39m\n",
      "\t\u001b[96m\u001b[1mcmovbe\u001b[22m\u001b[39m\t\u001b[0mrax\u001b[0m, \u001b[0mrcx\n",
      "\u001b[90m; │└\u001b[39m\n",
      "\u001b[90m; │ @ In[69] within `flipcoin`\u001b[39m\n",
      "\t\u001b[96m\u001b[1mret\u001b[22m\u001b[39m\n",
      "\u001b[90m; └\u001b[39m\n",
      "                                        \u001b[0m## \u001b[0m-- \u001b[0mEnd \u001b[0mfunction\n",
      "\u001b[0m.subsections_via_symbols\n"
     ]
    }
   ],
   "source": [
    "@code_native flipcoin(rand())"
   ]
  },
  {
   "cell_type": "code",
   "execution_count": null,
   "id": "4a6e1085",
   "metadata": {},
   "outputs": [],
   "source": []
  }
 ],
 "metadata": {
  "jupytext": {
   "cell_metadata_filter": "-all",
   "main_language": "julia",
   "notebook_metadata_filter": "-all"
  },
  "kernelspec": {
   "display_name": "Julia 1.11.1",
   "language": "julia",
   "name": "julia-1.11"
  },
  "language_info": {
   "file_extension": ".jl",
   "mimetype": "application/julia",
   "name": "julia",
   "version": "1.11.4"
  }
 },
 "nbformat": 4,
 "nbformat_minor": 5
}
