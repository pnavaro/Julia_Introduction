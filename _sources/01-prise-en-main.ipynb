{
 "cells": [
  {
   "cell_type": "markdown",
   "id": "e1f571d0",
   "metadata": {},
   "source": [
    "# Prise en main\n",
    "\n",
    "Pour un apprentissage rapide je recommande cette lecture (tout est dans le titre) http://learnxinyminutes.com/docs/julia/\n",
    "\n",
    "## Fonctions scientifiques\n",
    "\n",
    "Regardons les possibilités de calcul offert par cet environnement ! \n",
    "\n",
    "On est devant une superbe calculatrice comme dans la console de Matlab/Scilab ou R. On a donc l'utilisation des opérateurs classique <code>+-*/\\^</code> ainsi que toutes les fonctions scientifiques <code>sin</code>, <code>cos</code> <code>exp</code> <code>log</code> (attention ici logarithme népérien)....\n",
    "\n",
    "voir https://docs.julialang.org/en/v1/manual/mathematical-operations/\n",
    "\n",
    "A remarquer l'utilisation de la fonction <code>log</code> comme le logarithme naturel (Népérien)."
   ]
  },
  {
   "cell_type": "code",
   "execution_count": null,
   "id": "05caf606",
   "metadata": {},
   "outputs": [],
   "source": [
    "log(100)"
   ]
  },
  {
   "cell_type": "code",
   "execution_count": null,
   "id": "731beea2",
   "metadata": {},
   "outputs": [],
   "source": [
    "log10(100)"
   ]
  },
  {
   "cell_type": "markdown",
   "id": "38317d71",
   "metadata": {},
   "source": [
    "| **Fonctions usuelles**|\n",
    "|-|\n",
    "|exp, log, log10, abs, sqrt, cbrt, sign|\n",
    "\n",
    "| **Fonctions trigonométriques usuelles**|\n",
    "|-|\n",
    "| sin, cos, tan, cot, sec, csc, sinh, cosh, tanh, coth, sech, csch, asin, acos, atan  |\n",
    "| acot, asec, acsc, asinh, acosh, atanh, acoth, asech, acsch, sinc, cosc, atan2|\n",
    "\n",
    "\n",
    "Il est possible d'utiliser les notations scientifiques <code>1e2</code> pour 100, ainsi que quelques nombre prédéfinis <code>pi</code>, <code>e</code>, <code>im</code> ..."
   ]
  },
  {
   "cell_type": "code",
   "execution_count": null,
   "id": "410535ef",
   "metadata": {},
   "outputs": [],
   "source": [
    "1e-2"
   ]
  },
  {
   "cell_type": "code",
   "execution_count": null,
   "id": "ea1c79f5",
   "metadata": {},
   "outputs": [],
   "source": [
    "2*pi"
   ]
  },
  {
   "cell_type": "code",
   "execution_count": null,
   "id": "31520451",
   "metadata": {},
   "outputs": [],
   "source": [
    "im^2"
   ]
  },
  {
   "cell_type": "markdown",
   "id": "05410070",
   "metadata": {},
   "source": [
    "Certaines fonctions possèdent un domaine de définition comme <code>sqrt</code>, <code>log</code>... sur $I\\!\\!R$ extensible aux nombres complexes :"
   ]
  },
  {
   "cell_type": "code",
   "execution_count": null,
   "id": "857e696a",
   "metadata": {},
   "outputs": [],
   "source": [
    "sqrt(-1)"
   ]
  },
  {
   "cell_type": "code",
   "execution_count": null,
   "id": "813f4cbe",
   "metadata": {},
   "outputs": [],
   "source": [
    "sqrt(complex(-1))"
   ]
  },
  {
   "cell_type": "markdown",
   "id": "a4ff1a8b",
   "metadata": {},
   "source": [
    "L'ensemble des fonctions scientifique est étendu au calcul complexe !"
   ]
  },
  {
   "cell_type": "code",
   "execution_count": null,
   "id": "7851f4f9",
   "metadata": {},
   "outputs": [],
   "source": [
    "sin(1+im)"
   ]
  },
  {
   "cell_type": "markdown",
   "id": "3a577a5f",
   "metadata": {},
   "source": [
    "| **Fonctions d'arrondi**|\n",
    "|-|\n",
    "|round, floor, ceil, trunc|\n",
    "\n",
    "*Julia* possède une algèbre étendue avec la possibilité de divisé par 0"
   ]
  },
  {
   "cell_type": "code",
   "execution_count": null,
   "id": "9516503f",
   "metadata": {},
   "outputs": [],
   "source": [
    "1/0"
   ]
  },
  {
   "cell_type": "code",
   "execution_count": null,
   "id": "224de459",
   "metadata": {},
   "outputs": [],
   "source": [
    "1/Inf"
   ]
  },
  {
   "cell_type": "code",
   "execution_count": null,
   "id": "4467c855",
   "metadata": {},
   "outputs": [],
   "source": [
    "Inf+1"
   ]
  },
  {
   "cell_type": "code",
   "execution_count": null,
   "id": "a8e4593c",
   "metadata": {},
   "outputs": [],
   "source": [
    "Inf/Inf"
   ]
  },
  {
   "cell_type": "code",
   "execution_count": null,
   "id": "7315a957",
   "metadata": {},
   "outputs": [],
   "source": [
    "Inf-Inf"
   ]
  },
  {
   "cell_type": "code",
   "execution_count": null,
   "id": "5301c67c",
   "metadata": {},
   "outputs": [],
   "source": [
    "0*Inf"
   ]
  },
  {
   "cell_type": "code",
   "execution_count": null,
   "id": "8bb588ab",
   "metadata": {},
   "outputs": [],
   "source": [
    "NaN+1"
   ]
  },
  {
   "cell_type": "markdown",
   "id": "600aed37",
   "metadata": {},
   "source": [
    "<code>Inf</code> et <code>NaN</code> représentant l'infini et Not A Number. Toutes les formes indéterminées donnant <code>NaN</code> et toute combinaison avec <code>NaN</code> renvoie également <code>NaN</code>. `missing` existe également avec un comportement similaire pour gérer les données manquantes mais attention, cela change le type de vos variables."
   ]
  },
  {
   "cell_type": "code",
   "execution_count": null,
   "id": "2157abac",
   "metadata": {},
   "outputs": [],
   "source": [
    "typeof(NaN)"
   ]
  },
  {
   "cell_type": "code",
   "execution_count": null,
   "id": "46e2c2a3",
   "metadata": {},
   "outputs": [],
   "source": [
    "typeof(missing)"
   ]
  },
  {
   "cell_type": "markdown",
   "id": "8e67d495",
   "metadata": {},
   "source": [
    "## Variables \n",
    "\n",
    "L'utilisation de variable est très intuitive sans déclaration préalable de type (entier, réel, imaginaire, fraction rationnelle...). Le nom de la variable doit commencer par une lettre entre a-z ou A-Z mais aussi par un underscore ('_') ou encore un caractère Unicode (voir dernier exemple pour comprendre)"
   ]
  },
  {
   "cell_type": "code",
   "execution_count": null,
   "id": "e068bb34",
   "metadata": {},
   "outputs": [],
   "source": [
    "a = 1"
   ]
  },
  {
   "cell_type": "code",
   "execution_count": null,
   "id": "a9167645",
   "metadata": {},
   "outputs": [],
   "source": [
    "typeof(a)"
   ]
  },
  {
   "cell_type": "code",
   "execution_count": null,
   "id": "0e770158",
   "metadata": {},
   "outputs": [],
   "source": [
    "b=sqrt(2)"
   ]
  },
  {
   "cell_type": "code",
   "execution_count": null,
   "id": "f865e734",
   "metadata": {},
   "outputs": [],
   "source": [
    "typeof(b)"
   ]
  },
  {
   "cell_type": "code",
   "execution_count": null,
   "id": "ed344cbf",
   "metadata": {},
   "outputs": [],
   "source": [
    "c=9//12"
   ]
  },
  {
   "cell_type": "code",
   "execution_count": null,
   "id": "dbf6a4d4",
   "metadata": {},
   "outputs": [],
   "source": [
    "typeof(c)"
   ]
  },
  {
   "cell_type": "code",
   "execution_count": null,
   "id": "ef8b5748",
   "metadata": {},
   "outputs": [],
   "source": [
    "c=a+b;\n",
    "typeof(c)"
   ]
  },
  {
   "cell_type": "markdown",
   "id": "95da87c0",
   "metadata": {},
   "source": [
    "On voit dans ce qui précède que les variables sont typées, mais un mécanisme automatique de changement de type (comme <code>Int64</code> $ \\rightarrow$ <code>Float64</code>) permet la somme d'un entier et d'un réel. On peut demander à *Julia* d'identifier un entier comme un réel (Float) avec l'ajout d'un <code>.</code> exemple <code>a=1.</code>.\n",
    "\n",
    "Une particularité est de ne pas avoir la possibilité de supprimer une variable ! Il est juste possible de récupérer l'espace mémoire en faisant <code>a=[]</code>."
   ]
  },
  {
   "cell_type": "code",
   "execution_count": null,
   "id": "8e969553",
   "metadata": {},
   "outputs": [],
   "source": [
    "a=[]"
   ]
  },
  {
   "cell_type": "markdown",
   "id": "c9891db1",
   "metadata": {},
   "source": [
    "Toujours dans la rubrique particularité on verra que les fonctions sont aussi des variables, il sera donc possible de les passer en argument, de les affecter etc..."
   ]
  },
  {
   "cell_type": "code",
   "execution_count": null,
   "id": "8473eb34",
   "metadata": {},
   "outputs": [],
   "source": [
    "ρ¹=1"
   ]
  },
  {
   "cell_type": "markdown",
   "id": "ae38a934",
   "metadata": {},
   "source": [
    "L'utilisation de caractères spéciaux comme les lettres grecques se font par utilisation d'une syntaxe de type $\\LaTeX$. Dans la plupart des éditeurs il faut commencer par <code>\\rho</code> puis la touche TAB fait afficher le caractère "
   ]
  },
  {
   "cell_type": "markdown",
   "id": "0c9d8778",
   "metadata": {},
   "source": [
    "### Convention et style\n",
    "\n",
    "Julia impose quelques restrictions de nom de variable, de plus les conventions suivantes sont d'usage :\n",
    "\n",
    "* Les noms des variables sont en minuscule.\n",
    "* La séparation des mots dans une variable se fait à l'aide d'un underscore ('_') mais cette pratique n'est pas recommandé pour une question de lisibilité des noms de variable.\n",
    "* Les noms de Type ou de Modules commencent par une lettre majuscule, les majuscules séparant les différents mots du nom de la variable (exemple \"MonModule\")\n",
    "* Les noms des fonctions et macros sont en minuscule sans underscores.\n",
    "* Les fonctions qui modifient en sortie leurs arguments d'entrée s'écrivent avec ! en fin."
   ]
  },
  {
   "cell_type": "markdown",
   "id": "955e4638",
   "metadata": {},
   "source": [
    "## Types de variable\n",
    "\n",
    "Julia n'est pas à proprement parler un \"langage objet\" néanmoins c'est ce que l'on peut appeler un \"langage typé\". En effet ce langage possède un certain nombre de types prédéfinis et permet d'en ajouter à volonté. Les nouveaux types faisant office de structure tel un objet (C++/Java...) permettant la surcharge des opérateurs standards *, /, + ....\n",
    "\n",
    "### Les nombres scalaires\n",
    "\n",
    "On a vu précédemment que *Julia* est assez flexible sur l'utilisation et l'affectation des variables et est capable de rendre compatible l'addition d'entier, réel (float)...\n",
    "\n",
    "De manière naturel on trouve les types :\n",
    "* <code>Int8</code>, <code>UInt8</code>, <code>Int16</code>, <code>UInt16</code>,<code>Int32</code>, <code>UInt32</code>, <code>Int64</code>, <code>UInt64</code>,<code>Int128</code>, <code>UInt128</code>.\n",
    "* <code>Float16</code> (simple précision i.e 8 chiffres significatifs), <code>Float32</code> (double précision, 16 chiffres significatifs), <code>Float64</code> (32 chiffres significatifs)\n",
    "* <code>ComplexF32</code>, <code>ComplexF64</code>."
   ]
  },
  {
   "cell_type": "code",
   "execution_count": null,
   "id": "ae986dee",
   "metadata": {},
   "outputs": [],
   "source": [
    "a=1000000000000; typeof(a)"
   ]
  },
  {
   "cell_type": "code",
   "execution_count": null,
   "id": "fecb7eb4",
   "metadata": {},
   "outputs": [],
   "source": [
    "a=10000000000000000000; typeof(a)"
   ]
  },
  {
   "cell_type": "code",
   "execution_count": null,
   "id": "938ebb36",
   "metadata": {},
   "outputs": [],
   "source": [
    "b=10;\n",
    "println(typeof(b))\n",
    "b=Int32(b)\n",
    "println(typeof(b))"
   ]
  },
  {
   "cell_type": "code",
   "execution_count": null,
   "id": "8f611000",
   "metadata": {},
   "outputs": [],
   "source": [
    "convert(Float64,b)\n",
    "Float64(b)"
   ]
  },
  {
   "cell_type": "code",
   "execution_count": null,
   "id": "64710fc6",
   "metadata": {},
   "outputs": [],
   "source": [
    "c=1.0\n",
    "println(typeof(c))"
   ]
  },
  {
   "cell_type": "markdown",
   "id": "bdd80671",
   "metadata": {},
   "source": [
    "Il est possible de forcer le type d'une variable à l'aide des commandes <code>Int8()</code>, <code>Int16()</code>...<code>Float32()</code>..."
   ]
  },
  {
   "cell_type": "markdown",
   "id": "8e07981f",
   "metadata": {},
   "source": [
    "Remarque : Opérations type unaire sur une variable \n",
    "\n",
    "`+=`,  `-=`, `*=`,  `/=`, `\\=` "
   ]
  },
  {
   "cell_type": "code",
   "execution_count": null,
   "id": "68a34da9",
   "metadata": {},
   "outputs": [],
   "source": [
    "a=1\n",
    "a+=1"
   ]
  },
  {
   "cell_type": "code",
   "execution_count": null,
   "id": "df84e05c",
   "metadata": {},
   "outputs": [],
   "source": [
    "a*=3"
   ]
  },
  {
   "cell_type": "markdown",
   "id": "185789b0",
   "metadata": {},
   "source": [
    "### Les booléens\n",
    "\n",
    "Les variables booléennes (1bit) sont naturellement définies dans *Julia* à l'aide des opérateurs de comparaison \n",
    "\n",
    "| opération |égalité|différent| supérieur | supérieur ou égal | inférieur | inférieur ou égal|\n",
    "|------|------||------|------|------|------|\n",
    "| syntaxe | a==b | a!=b| a>b | a>=b | a<b | a<=b |"
   ]
  },
  {
   "cell_type": "code",
   "execution_count": null,
   "id": "f373beab",
   "metadata": {},
   "outputs": [],
   "source": [
    "a = 1>0  ;println(a)  ;typeof(a)"
   ]
  },
  {
   "cell_type": "markdown",
   "id": "ab58ac70",
   "metadata": {},
   "source": [
    "Avec les opérateurs de conjonctions\n",
    "\n",
    "| et | ou | not |\n",
    "|-|-|-|\n",
    "| & | &#124; | !|"
   ]
  },
  {
   "cell_type": "code",
   "execution_count": null,
   "id": "06a07f5c",
   "metadata": {},
   "outputs": [],
   "source": [
    "!((a&true) & (a|false)) "
   ]
  },
  {
   "cell_type": "code",
   "execution_count": null,
   "id": "f50a3a25",
   "metadata": {},
   "outputs": [],
   "source": [
    "2>1 & 0>-1  "
   ]
  },
  {
   "cell_type": "markdown",
   "id": "cc70b9b3",
   "metadata": {},
   "source": [
    "### Les chaines de caractère\n",
    "\n",
    "*Julia* possède un type **Char** (Charactere) il s'agit d'une lettre délimité par '' à ne pas confondre avec la chaine de caractère."
   ]
  },
  {
   "cell_type": "code",
   "execution_count": null,
   "id": "a20e8bc9",
   "metadata": {},
   "outputs": [],
   "source": [
    "z='a'"
   ]
  },
  {
   "cell_type": "code",
   "execution_count": null,
   "id": "979f7ed6",
   "metadata": {},
   "outputs": [],
   "source": [
    "z=z+1 # en ajoutant 1 on passe aux charactère suivant dans la table "
   ]
  },
  {
   "cell_type": "markdown",
   "id": "e74c228c",
   "metadata": {},
   "source": [
    "La chaine de caractère est délimitée par \"\" et définit unt type **ASCIIString** ou **UTF8String**"
   ]
  },
  {
   "cell_type": "code",
   "execution_count": null,
   "id": "a123b6ea",
   "metadata": {},
   "outputs": [],
   "source": [
    "a=\"Une chaine de caractère \\n\"  # \\n est le retour à la ligne"
   ]
  },
  {
   "cell_type": "code",
   "execution_count": null,
   "id": "17983581",
   "metadata": {},
   "outputs": [],
   "source": [
    "typeof(a)"
   ]
  },
  {
   "cell_type": "markdown",
   "id": "c3239763",
   "metadata": {},
   "source": [
    "La concaténation de chaîne se fait par l'utilisation de * (multiplication)"
   ]
  },
  {
   "cell_type": "code",
   "execution_count": null,
   "id": "bd8d2364",
   "metadata": {},
   "outputs": [],
   "source": [
    "b= a * \"puis une autre...\" "
   ]
  },
  {
   "cell_type": "code",
   "execution_count": null,
   "id": "d91f0785",
   "metadata": {},
   "outputs": [],
   "source": [
    "println(b)  # \\n renvoie à la ligne"
   ]
  },
  {
   "cell_type": "code",
   "execution_count": null,
   "id": "2340f08b",
   "metadata": {},
   "outputs": [],
   "source": [
    "b *= \"puis une autre...\"^2 # la puissance permet de répéter la chaine"
   ]
  },
  {
   "cell_type": "markdown",
   "id": "1fd7a555",
   "metadata": {},
   "source": [
    "On peut extraire ou affecter une partie de cette chaîne considérée comme un tableau"
   ]
  },
  {
   "cell_type": "code",
   "execution_count": null,
   "id": "95e8972e",
   "metadata": {},
   "outputs": [],
   "source": [
    "a[1:10]"
   ]
  },
  {
   "cell_type": "markdown",
   "id": "dd7db039",
   "metadata": {},
   "source": [
    "#### ATTENTION "
   ]
  },
  {
   "cell_type": "code",
   "execution_count": null,
   "id": "4eb36cf4",
   "metadata": {},
   "outputs": [],
   "source": [
    "a[1] # le résultat est de type Char"
   ]
  },
  {
   "cell_type": "code",
   "execution_count": null,
   "id": "276e21b5",
   "metadata": {},
   "outputs": [],
   "source": [
    "a[1:1]"
   ]
  },
  {
   "cell_type": "code",
   "execution_count": null,
   "id": "500c4523",
   "metadata": {},
   "outputs": [],
   "source": [
    "println(string(typeof(a[1]))*\"\\n\")\n",
    "println(string(typeof(a[1:1])))"
   ]
  },
  {
   "cell_type": "markdown",
   "id": "f9ab3d3d",
   "metadata": {},
   "source": [
    "L'usage de $ permet comme en php de convertir et d'inclure une variable dans une chaîne de caractères (interpolation)"
   ]
  },
  {
   "cell_type": "code",
   "execution_count": null,
   "id": "8e491d4d",
   "metadata": {},
   "outputs": [],
   "source": [
    "m=11;\n",
    "a=\"le mois de novembre est le $m ième mois \""
   ]
  },
  {
   "cell_type": "code",
   "execution_count": null,
   "id": "7a40b206",
   "metadata": {},
   "outputs": [],
   "source": [
    "b=\"racine de 2 : $(sqrt(2))\""
   ]
  },
  {
   "cell_type": "markdown",
   "id": "451b2077",
   "metadata": {},
   "source": [
    "Pour encore plus de possibilités avec les chaînes de caractère : https://docs.julialang.org/en/v1/manual/strings/#man-strings-1"
   ]
  }
 ],
 "metadata": {
  "jupytext": {
   "cell_metadata_filter": "-all",
   "main_language": "julia",
   "notebook_metadata_filter": "-all"
  }
 },
 "nbformat": 4,
 "nbformat_minor": 5
}
