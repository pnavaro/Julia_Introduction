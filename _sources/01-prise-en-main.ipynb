{
 "cells": [
  {
   "cell_type": "markdown",
   "id": "e1f571d0",
   "metadata": {},
   "source": [
    "# Prise en main\n",
    "\n",
    "Pour un apprentissage rapide je recommande cette lecture (tout est dans le titre) http://learnxinyminutes.com/docs/julia/\n",
    "\n",
    "## Fonctions scientifiques\n",
    "\n",
    "Regardons les possibilités de calcul offert par cet environnement ! \n",
    "\n",
    "On est devant une superbe calculatrice comme dans la console de\n",
    "Matlab/Scilab ou R. On a donc l'utilisation des opérateurs classiques\n",
    "`+-*/\\^` ainsi que toutes les fonctions scientifiques\n",
    "`sin`, `cos` `exp` `log`\n",
    "\n",
    "voir [Mathematical Operations and Elementary Functions](https://docs.julialang.org/en/v1/manual/mathematical-operations/)\n",
    "\n",
    "A remarquer l'utilisation de la fonction `log` comme le logarithme naturel (Népérien)."
   ]
  },
  {
   "cell_type": "code",
   "execution_count": 1,
   "id": "05caf606",
   "metadata": {},
   "outputs": [
    {
     "data": {
      "text/plain": [
       "4.605170185988092"
      ]
     },
     "execution_count": 1,
     "metadata": {},
     "output_type": "execute_result"
    }
   ],
   "source": [
    "log(100)"
   ]
  },
  {
   "cell_type": "code",
   "execution_count": 2,
   "id": "731beea2",
   "metadata": {},
   "outputs": [
    {
     "data": {
      "text/plain": [
       "2.0"
      ]
     },
     "execution_count": 2,
     "metadata": {},
     "output_type": "execute_result"
    }
   ],
   "source": [
    "log10(100)"
   ]
  },
  {
   "cell_type": "markdown",
   "id": "38317d71",
   "metadata": {},
   "source": [
    "| **Fonctions usuelles**|\n",
    "|-|\n",
    "|exp, log, log10, abs, sqrt, cbrt, sign|\n",
    "\n",
    "| **Fonctions trigonométriques usuelles**|\n",
    "|-|\n",
    "| sin, cos, tan, cot, sec, csc, sinh, cosh, tanh, coth, sech, csch, asin, acos, atan  |\n",
    "| acot, asec, acsc, asinh, acosh, atanh, acoth, asech, acsch, sinc, cosc, atan2|\n",
    "\n",
    "Il est possible d'utiliser les notations scientifiques `1e2` pour 100, ainsi que quelques nombre prédéfinis `pi`, `im` ..."
   ]
  },
  {
   "cell_type": "code",
   "execution_count": 3,
   "id": "410535ef",
   "metadata": {},
   "outputs": [
    {
     "data": {
      "text/plain": [
       "0.01"
      ]
     },
     "execution_count": 3,
     "metadata": {},
     "output_type": "execute_result"
    }
   ],
   "source": [
    "1e-2"
   ]
  },
  {
   "cell_type": "code",
   "execution_count": 4,
   "id": "ea1c79f5",
   "metadata": {},
   "outputs": [
    {
     "data": {
      "text/plain": [
       "19.739208802178716"
      ]
     },
     "execution_count": 4,
     "metadata": {},
     "output_type": "execute_result"
    }
   ],
   "source": [
    "2pi^2"
   ]
  },
  {
   "cell_type": "code",
   "execution_count": 5,
   "id": "31520451",
   "metadata": {},
   "outputs": [
    {
     "data": {
      "text/plain": [
       "-1 + 0im"
      ]
     },
     "execution_count": 5,
     "metadata": {},
     "output_type": "execute_result"
    }
   ],
   "source": [
    "1im^2"
   ]
  },
  {
   "cell_type": "markdown",
   "id": "05410070",
   "metadata": {},
   "source": [
    "Certaines fonctions possèdent un domaine de définition comme <code>sqrt</code>, <code>log</code>... sur $I\\!\\!R$ extensible aux nombres complexes :"
   ]
  },
  {
   "cell_type": "code",
   "execution_count": 6,
   "id": "813f4cbe",
   "metadata": {},
   "outputs": [
    {
     "data": {
      "text/plain": [
       "0.0 + 1.0im"
      ]
     },
     "execution_count": 6,
     "metadata": {},
     "output_type": "execute_result"
    }
   ],
   "source": [
    "sqrt(complex(-1))"
   ]
  },
  {
   "cell_type": "markdown",
   "id": "a4ff1a8b",
   "metadata": {},
   "source": [
    "L'ensemble des fonctions scientifiques est étendu au calcul complexe !"
   ]
  },
  {
   "cell_type": "code",
   "execution_count": 7,
   "id": "7851f4f9",
   "metadata": {},
   "outputs": [
    {
     "data": {
      "text/plain": [
       "1.2984575814159773 + 0.6349639147847361im"
      ]
     },
     "execution_count": 7,
     "metadata": {},
     "output_type": "execute_result"
    }
   ],
   "source": [
    "sin(1+im)"
   ]
  },
  {
   "cell_type": "markdown",
   "id": "3a577a5f",
   "metadata": {},
   "source": [
    "| **Fonctions d'arrondi**|\n",
    "|-|\n",
    "|round, floor, ceil, trunc|\n",
    "\n",
    "*Julia* possède une algèbre étendue avec la possibilité de divisé par 0"
   ]
  },
  {
   "cell_type": "code",
   "execution_count": 8,
   "id": "9516503f",
   "metadata": {},
   "outputs": [
    {
     "data": {
      "text/plain": [
       "Inf"
      ]
     },
     "execution_count": 8,
     "metadata": {},
     "output_type": "execute_result"
    }
   ],
   "source": [
    "1/0"
   ]
  },
  {
   "cell_type": "code",
   "execution_count": 9,
   "id": "224de459",
   "metadata": {},
   "outputs": [
    {
     "data": {
      "text/plain": [
       "0.0"
      ]
     },
     "execution_count": 9,
     "metadata": {},
     "output_type": "execute_result"
    }
   ],
   "source": [
    "1/Inf"
   ]
  },
  {
   "cell_type": "code",
   "execution_count": 10,
   "id": "4467c855",
   "metadata": {},
   "outputs": [
    {
     "data": {
      "text/plain": [
       "Inf"
      ]
     },
     "execution_count": 10,
     "metadata": {},
     "output_type": "execute_result"
    }
   ],
   "source": [
    "Inf+1"
   ]
  },
  {
   "cell_type": "code",
   "execution_count": 11,
   "id": "a8e4593c",
   "metadata": {},
   "outputs": [
    {
     "data": {
      "text/plain": [
       "NaN"
      ]
     },
     "execution_count": 11,
     "metadata": {},
     "output_type": "execute_result"
    }
   ],
   "source": [
    "Inf/Inf"
   ]
  },
  {
   "cell_type": "code",
   "execution_count": 12,
   "id": "7315a957",
   "metadata": {},
   "outputs": [
    {
     "data": {
      "text/plain": [
       "NaN"
      ]
     },
     "execution_count": 12,
     "metadata": {},
     "output_type": "execute_result"
    }
   ],
   "source": [
    "Inf-Inf"
   ]
  },
  {
   "cell_type": "code",
   "execution_count": 13,
   "id": "5301c67c",
   "metadata": {},
   "outputs": [
    {
     "data": {
      "text/plain": [
       "NaN"
      ]
     },
     "execution_count": 13,
     "metadata": {},
     "output_type": "execute_result"
    }
   ],
   "source": [
    "0*Inf"
   ]
  },
  {
   "cell_type": "code",
   "execution_count": 14,
   "id": "8bb588ab",
   "metadata": {},
   "outputs": [
    {
     "data": {
      "text/plain": [
       "NaN"
      ]
     },
     "execution_count": 14,
     "metadata": {},
     "output_type": "execute_result"
    }
   ],
   "source": [
    "NaN+1"
   ]
  },
  {
   "cell_type": "markdown",
   "id": "600aed37",
   "metadata": {},
   "source": [
    "<code>Inf</code> et <code>NaN</code> représentant l'infini et Not A Number. Toutes les formes indéterminées donnant <code>NaN</code> et toute combinaison avec <code>NaN</code> renvoie également <code>NaN</code>. `missing` existe également avec un comportement similaire pour gérer les données manquantes mais attention, cela change le type de vos variables."
   ]
  },
  {
   "cell_type": "code",
   "execution_count": 15,
   "id": "2157abac",
   "metadata": {},
   "outputs": [
    {
     "data": {
      "text/plain": [
       "Float64"
      ]
     },
     "execution_count": 15,
     "metadata": {},
     "output_type": "execute_result"
    }
   ],
   "source": [
    "typeof(NaN)"
   ]
  },
  {
   "cell_type": "code",
   "execution_count": 16,
   "id": "46e2c2a3",
   "metadata": {},
   "outputs": [
    {
     "data": {
      "text/plain": [
       "Missing"
      ]
     },
     "execution_count": 16,
     "metadata": {},
     "output_type": "execute_result"
    }
   ],
   "source": [
    "typeof(missing)"
   ]
  },
  {
   "cell_type": "markdown",
   "id": "8e67d495",
   "metadata": {},
   "source": [
    "## Variables \n",
    "\n",
    "L'utilisation de variable est très intuitive sans déclaration préalable de type (entier, réel, imaginaire, fraction rationnelle...). Le nom de la variable doit commencer par une lettre entre a-z ou A-Z mais aussi par un underscore ('_') ou encore un caractère Unicode (voir dernier exemple pour comprendre)"
   ]
  },
  {
   "cell_type": "code",
   "execution_count": 17,
   "id": "e068bb34",
   "metadata": {},
   "outputs": [
    {
     "data": {
      "text/plain": [
       "1"
      ]
     },
     "execution_count": 17,
     "metadata": {},
     "output_type": "execute_result"
    }
   ],
   "source": [
    "a = 1"
   ]
  },
  {
   "cell_type": "code",
   "execution_count": 18,
   "id": "a9167645",
   "metadata": {},
   "outputs": [
    {
     "data": {
      "text/plain": [
       "Int64"
      ]
     },
     "execution_count": 18,
     "metadata": {},
     "output_type": "execute_result"
    }
   ],
   "source": [
    "typeof(a)"
   ]
  },
  {
   "cell_type": "code",
   "execution_count": 19,
   "id": "0e770158",
   "metadata": {},
   "outputs": [
    {
     "data": {
      "text/plain": [
       "1.4142135623730951"
      ]
     },
     "execution_count": 19,
     "metadata": {},
     "output_type": "execute_result"
    }
   ],
   "source": [
    "b = sqrt(2)"
   ]
  },
  {
   "cell_type": "code",
   "execution_count": 20,
   "id": "f865e734",
   "metadata": {},
   "outputs": [
    {
     "data": {
      "text/plain": [
       "Float64"
      ]
     },
     "execution_count": 20,
     "metadata": {},
     "output_type": "execute_result"
    }
   ],
   "source": [
    "typeof(b)"
   ]
  },
  {
   "cell_type": "code",
   "execution_count": 21,
   "id": "ed344cbf",
   "metadata": {},
   "outputs": [
    {
     "data": {
      "text/plain": [
       "37//28"
      ]
     },
     "execution_count": 21,
     "metadata": {},
     "output_type": "execute_result"
    }
   ],
   "source": [
    "c = 9//12 + 4//7"
   ]
  },
  {
   "cell_type": "code",
   "execution_count": 22,
   "id": "dbf6a4d4",
   "metadata": {},
   "outputs": [
    {
     "data": {
      "text/plain": [
       "Rational{Int64}"
      ]
     },
     "execution_count": 22,
     "metadata": {},
     "output_type": "execute_result"
    }
   ],
   "source": [
    "typeof(c)"
   ]
  },
  {
   "cell_type": "code",
   "execution_count": 23,
   "id": "ef8b5748",
   "metadata": {},
   "outputs": [
    {
     "data": {
      "text/plain": [
       "Float64"
      ]
     },
     "execution_count": 23,
     "metadata": {},
     "output_type": "execute_result"
    }
   ],
   "source": [
    "c = a + b\n",
    "typeof(c)"
   ]
  },
  {
   "cell_type": "markdown",
   "id": "95da87c0",
   "metadata": {},
   "source": [
    "On voit dans ce qui précède que les variables sont typées, mais un mécanisme automatique de changement de type (comme <code>Int64</code> $ \\rightarrow$ <code>Float64</code>) permet la somme d'un entier et d'un réel. On peut demander à *Julia* d'identifier un entier comme un réel (Float) avec l'ajout d'un <code>.</code> exemple <code>a=1.</code>.\n",
    "\n",
    "Une particularité est de ne pas avoir la possibilité de supprimer une variable ! Il est juste possible de récupérer l'espace mémoire en faisant <code>a=[]</code>."
   ]
  },
  {
   "cell_type": "code",
   "execution_count": 24,
   "id": "265dd113",
   "metadata": {},
   "outputs": [
    {
     "data": {
      "text/plain": [
       "true"
      ]
     },
     "execution_count": 24,
     "metadata": {},
     "output_type": "execute_result"
    }
   ],
   "source": [
    " Float64 <: Real"
   ]
  },
  {
   "cell_type": "code",
   "execution_count": 25,
   "id": "8e969553",
   "metadata": {},
   "outputs": [
    {
     "data": {
      "text/plain": [
       "Any[]"
      ]
     },
     "execution_count": 25,
     "metadata": {},
     "output_type": "execute_result"
    }
   ],
   "source": [
    "a = []"
   ]
  },
  {
   "cell_type": "markdown",
   "id": "c9891db1",
   "metadata": {},
   "source": [
    "Toujours dans la rubrique particularité on verra que les fonctions sont aussi des variables, il sera donc possible de les passer en argument, de les affecter etc..."
   ]
  },
  {
   "cell_type": "code",
   "execution_count": 26,
   "id": "ba8eb289",
   "metadata": {},
   "outputs": [
    {
     "data": {
      "text/plain": [
       "∑ (generic function with 1 method)"
      ]
     },
     "execution_count": 26,
     "metadata": {},
     "output_type": "execute_result"
    }
   ],
   "source": [
    "∑(x) = sum(x)"
   ]
  },
  {
   "cell_type": "code",
   "execution_count": 27,
   "id": "8473eb34",
   "metadata": {},
   "outputs": [
    {
     "data": {
      "text/plain": [
       "1"
      ]
     },
     "execution_count": 27,
     "metadata": {},
     "output_type": "execute_result"
    }
   ],
   "source": [
    "ρ¹=1"
   ]
  },
  {
   "cell_type": "code",
   "execution_count": 28,
   "id": "e0e434ee",
   "metadata": {},
   "outputs": [
    {
     "data": {
      "text/plain": [
       "3"
      ]
     },
     "execution_count": 28,
     "metadata": {},
     "output_type": "execute_result"
    }
   ],
   "source": [
    "α = 2\n",
    "β = 3"
   ]
  },
  {
   "cell_type": "code",
   "execution_count": 29,
   "id": "32bfdc02",
   "metadata": {},
   "outputs": [
    {
     "data": {
      "text/plain": [
       "42"
      ]
     },
     "execution_count": 29,
     "metadata": {},
     "output_type": "execute_result"
    }
   ],
   "source": [
    "λ₁ = 42"
   ]
  },
  {
   "cell_type": "markdown",
   "id": "ae38a934",
   "metadata": {},
   "source": [
    "L'utilisation de caractères spéciaux comme les lettres grecques se font par utilisation d'une syntaxe de type $\\LaTeX$. Pour écrire $\\rho$ par exemple, dans la plupart des éditeurs il faut commencer par <code>\\rho</code> puis la touche TAB fait afficher le caractère "
   ]
  },
  {
   "cell_type": "code",
   "execution_count": 30,
   "id": "d3012b88",
   "metadata": {},
   "outputs": [
    {
     "data": {
      "text/plain": [
       "6.283185307179586"
      ]
     },
     "execution_count": 30,
     "metadata": {},
     "output_type": "execute_result"
    }
   ],
   "source": [
    "2π"
   ]
  },
  {
   "cell_type": "code",
   "execution_count": 31,
   "id": "ae8ddccc",
   "metadata": {
    "lines_to_next_cell": 2
   },
   "outputs": [
    {
     "data": {
      "text/plain": [
       "ℯ = 2.7182818284590..."
      ]
     },
     "execution_count": 31,
     "metadata": {},
     "output_type": "execute_result"
    }
   ],
   "source": [
    "ℯ     # \\euler"
   ]
  },
  {
   "cell_type": "code",
   "execution_count": 32,
   "id": "10a6fa8c",
   "metadata": {},
   "outputs": [
    {
     "data": {
      "text/plain": [
       "1.4142135623730951"
      ]
     },
     "execution_count": 32,
     "metadata": {},
     "output_type": "execute_result"
    }
   ],
   "source": [
    "√2"
   ]
  },
  {
   "cell_type": "markdown",
   "id": "0c9d8778",
   "metadata": {},
   "source": [
    "### Convention et style\n",
    "\n",
    "Julia impose quelques restrictions de nom de variable, de plus les conventions suivantes sont d'usage :\n",
    "\n",
    "* Les noms des variables sont en minuscule.\n",
    "* La séparation des mots dans une variable se fait à l'aide d'un underscore ('_') mais cette pratique n'est pas recommandé pour une question de lisibilité des noms de variable.\n",
    "* Les noms de Type ou de Modules commencent par une lettre majuscule, les majuscules séparant les différents mots du nom de la variable (exemple \"MonModule\")\n",
    "* Les noms des fonctions et macros sont en minuscule sans underscores.\n",
    "* Les fonctions qui modifient en sortie leurs arguments d'entrée s'écrivent avec `!` à la fin.\n",
    "\n",
    "Il existe différents styles possibles que vous pouvez retrouver dans la documentation de [JuliaFormatter](https://domluna.github.io/JuliaFormatter.jl/dev/)"
   ]
  },
  {
   "cell_type": "markdown",
   "id": "955e4638",
   "metadata": {},
   "source": [
    "## Types de variable\n",
    "\n",
    "Julia n'est pas à proprement parler un \"langage objet\" néanmoins c'est ce que l'on peut appeler un \"langage typé\". En effet ce langage possède un certain nombre de types prédéfinis et permet d'en ajouter à volonté. Les nouveaux types faisant office de structure tel un objet (C++/Java...) permettant la surcharge des opérateurs standards `*, /, +,...`.\n",
    "\n",
    "### Les nombres scalaires\n",
    "\n",
    "On a vu précédemment que *Julia* est assez flexible sur l'utilisation et l'affectation des variables et est capable de rendre compatible l'addition d'entier, réel (float)...\n",
    "\n",
    "De manière naturelle on trouve les types :\n",
    "* <code>Int8</code>, <code>UInt8</code>, <code>Int16</code>, <code>UInt16</code>,<code>Int32</code>, <code>UInt32</code>, <code>Int64</code>, <code>UInt64</code>,<code>Int128</code>, <code>UInt128</code>.\n",
    "* <code>Float16</code> (simple précision i.e 8 chiffres significatifs), <code>Float32</code> (double précision, 16 chiffres significatifs), <code>Float64</code> (32 chiffres significatifs)\n",
    "* <code>ComplexF32</code>, <code>ComplexF64</code>."
   ]
  },
  {
   "cell_type": "code",
   "execution_count": 33,
   "id": "ae986dee",
   "metadata": {},
   "outputs": [
    {
     "data": {
      "text/plain": [
       "Int64"
      ]
     },
     "execution_count": 33,
     "metadata": {},
     "output_type": "execute_result"
    }
   ],
   "source": [
    "a=1000000000000; typeof(a)"
   ]
  },
  {
   "cell_type": "code",
   "execution_count": 34,
   "id": "fecb7eb4",
   "metadata": {},
   "outputs": [
    {
     "data": {
      "text/plain": [
       "Int128"
      ]
     },
     "execution_count": 34,
     "metadata": {},
     "output_type": "execute_result"
    }
   ],
   "source": [
    "a=10000000000000000000; typeof(a)"
   ]
  },
  {
   "cell_type": "code",
   "execution_count": 35,
   "id": "938ebb36",
   "metadata": {},
   "outputs": [
    {
     "name": "stdout",
     "output_type": "stream",
     "text": [
      "Int64\n",
      "Int32\n"
     ]
    }
   ],
   "source": [
    "b=10;\n",
    "println(typeof(b))\n",
    "b=Int32(b)\n",
    "println(typeof(b))"
   ]
  },
  {
   "cell_type": "code",
   "execution_count": 36,
   "id": "8f611000",
   "metadata": {},
   "outputs": [
    {
     "data": {
      "text/plain": [
       "10.0"
      ]
     },
     "execution_count": 36,
     "metadata": {},
     "output_type": "execute_result"
    }
   ],
   "source": [
    "convert(Float64,b)\n",
    "Float64(b)"
   ]
  },
  {
   "cell_type": "code",
   "execution_count": 37,
   "id": "64710fc6",
   "metadata": {},
   "outputs": [
    {
     "name": "stdout",
     "output_type": "stream",
     "text": [
      "Float64\n"
     ]
    }
   ],
   "source": [
    "c=1.0\n",
    "println(typeof(c))"
   ]
  },
  {
   "cell_type": "markdown",
   "id": "bdd80671",
   "metadata": {},
   "source": [
    "Il est possible de forcer le type d'une variable à l'aide des commandes <code>Int8()</code>, <code>Int16()</code>...<code>Float32()</code>..."
   ]
  },
  {
   "cell_type": "markdown",
   "id": "8e07981f",
   "metadata": {},
   "source": [
    "Remarque : Opérations type unaire sur une variable \n",
    "\n",
    "`+=`,  `-=`, `*=`,  `/=`, `\\=` "
   ]
  },
  {
   "cell_type": "code",
   "execution_count": 38,
   "id": "68a34da9",
   "metadata": {},
   "outputs": [
    {
     "data": {
      "text/plain": [
       "2"
      ]
     },
     "execution_count": 38,
     "metadata": {},
     "output_type": "execute_result"
    }
   ],
   "source": [
    "a = 1\n",
    "a += 1"
   ]
  },
  {
   "cell_type": "code",
   "execution_count": 39,
   "id": "df84e05c",
   "metadata": {},
   "outputs": [
    {
     "data": {
      "text/plain": [
       "6"
      ]
     },
     "execution_count": 39,
     "metadata": {},
     "output_type": "execute_result"
    }
   ],
   "source": [
    "a *= 3"
   ]
  },
  {
   "cell_type": "markdown",
   "id": "185789b0",
   "metadata": {},
   "source": [
    "### Les booléens\n",
    "\n",
    "Les variables booléennes (1bit) sont naturellement définies dans *Julia* à l'aide des opérateurs de comparaison \n",
    "\n",
    "| opération | égalité | différent | supérieur | supérieur ou égal | inférieur | inférieur ou égal |\n",
    "|------|------|------|------|------|------|------|\n",
    "| syntaxe | `a==b` | `a!=b` | `a>b` | `a>=b` | `a<b` | `a<=b` |"
   ]
  },
  {
   "cell_type": "code",
   "execution_count": 40,
   "id": "f373beab",
   "metadata": {},
   "outputs": [
    {
     "name": "stdout",
     "output_type": "stream",
     "text": [
      "true\n"
     ]
    },
    {
     "data": {
      "text/plain": [
       "Bool"
      ]
     },
     "execution_count": 40,
     "metadata": {},
     "output_type": "execute_result"
    }
   ],
   "source": [
    "a = 1>0  ;println(a)  ;typeof(a)"
   ]
  },
  {
   "cell_type": "markdown",
   "id": "ab58ac70",
   "metadata": {},
   "source": [
    "Avec les opérateurs de conjonctions\n",
    "\n",
    "| et | ou | not |\n",
    "|-|-|-|\n",
    "| & | &#124; | !|"
   ]
  },
  {
   "cell_type": "code",
   "execution_count": 41,
   "id": "06a07f5c",
   "metadata": {},
   "outputs": [
    {
     "data": {
      "text/plain": [
       "false"
      ]
     },
     "execution_count": 41,
     "metadata": {},
     "output_type": "execute_result"
    }
   ],
   "source": [
    "!((a && true) && (a || false)) "
   ]
  },
  {
   "cell_type": "code",
   "execution_count": 42,
   "id": "f50a3a25",
   "metadata": {},
   "outputs": [
    {
     "data": {
      "text/plain": [
       "true"
      ]
     },
     "execution_count": 42,
     "metadata": {},
     "output_type": "execute_result"
    }
   ],
   "source": [
    "2>1 && 0>-1  "
   ]
  },
  {
   "cell_type": "markdown",
   "id": "cc70b9b3",
   "metadata": {},
   "source": [
    "### Les chaines de caractère\n",
    "\n",
    "*Julia* possède un type **Char** (Charactere) il s'agit d'une lettre délimité par '' à ne pas confondre avec la chaine de caractère."
   ]
  },
  {
   "cell_type": "code",
   "execution_count": 43,
   "id": "a20e8bc9",
   "metadata": {},
   "outputs": [
    {
     "data": {
      "text/plain": [
       "'a': ASCII/Unicode U+0061 (category Ll: Letter, lowercase)"
      ]
     },
     "execution_count": 43,
     "metadata": {},
     "output_type": "execute_result"
    }
   ],
   "source": [
    "z = 'a'"
   ]
  },
  {
   "cell_type": "code",
   "execution_count": 44,
   "id": "979f7ed6",
   "metadata": {},
   "outputs": [
    {
     "data": {
      "text/plain": [
       "'b': ASCII/Unicode U+0062 (category Ll: Letter, lowercase)"
      ]
     },
     "execution_count": 44,
     "metadata": {},
     "output_type": "execute_result"
    }
   ],
   "source": [
    "z = z+1 # en ajoutant 1 on passe aux charactère suivant dans la table "
   ]
  },
  {
   "cell_type": "markdown",
   "id": "e74c228c",
   "metadata": {},
   "source": [
    "La chaine de caractère est délimitée par \"\" et définit un type **ASCIIString** ou **UTF8String**"
   ]
  },
  {
   "cell_type": "code",
   "execution_count": 45,
   "id": "a123b6ea",
   "metadata": {},
   "outputs": [
    {
     "data": {
      "text/plain": [
       "\"Une chaine de caractère \\n\""
      ]
     },
     "execution_count": 45,
     "metadata": {},
     "output_type": "execute_result"
    }
   ],
   "source": [
    "a = \"Une chaine de caractère \\n\"  # \\n est le retour à la ligne"
   ]
  },
  {
   "cell_type": "code",
   "execution_count": 46,
   "id": "17983581",
   "metadata": {},
   "outputs": [
    {
     "data": {
      "text/plain": [
       "String"
      ]
     },
     "execution_count": 46,
     "metadata": {},
     "output_type": "execute_result"
    }
   ],
   "source": [
    "typeof(a)"
   ]
  },
  {
   "cell_type": "markdown",
   "id": "c3239763",
   "metadata": {},
   "source": [
    "La concaténation de chaîne se fait par l'utilisation de * (multiplication)"
   ]
  },
  {
   "cell_type": "code",
   "execution_count": 47,
   "id": "bd8d2364",
   "metadata": {},
   "outputs": [
    {
     "data": {
      "text/plain": [
       "\"Une chaine de caractère \\npuis une autre...\""
      ]
     },
     "execution_count": 47,
     "metadata": {},
     "output_type": "execute_result"
    }
   ],
   "source": [
    "b = a * \"puis une autre...\" "
   ]
  },
  {
   "cell_type": "code",
   "execution_count": 48,
   "id": "d91f0785",
   "metadata": {},
   "outputs": [
    {
     "name": "stdout",
     "output_type": "stream",
     "text": [
      "Une chaine de caractère \n",
      "puis une autre...\n"
     ]
    }
   ],
   "source": [
    "println(b)  # \\n renvoie à la ligne"
   ]
  },
  {
   "cell_type": "code",
   "execution_count": 49,
   "id": "2340f08b",
   "metadata": {},
   "outputs": [
    {
     "data": {
      "text/plain": [
       "\"Une chaine de caractère \\npuis une autre...puis une autre...puis une autre...\""
      ]
     },
     "execution_count": 49,
     "metadata": {},
     "output_type": "execute_result"
    }
   ],
   "source": [
    "b *= \"puis une autre...\"^2 # la puissance permet de répéter la chaine"
   ]
  },
  {
   "cell_type": "markdown",
   "id": "78df2549",
   "metadata": {},
   "source": [
    "Vous pouvez également utiliser la fonction `string`"
   ]
  },
  {
   "cell_type": "code",
   "execution_count": 50,
   "id": "240280ea",
   "metadata": {},
   "outputs": [
    {
     "data": {
      "text/plain": [
       "\"HelloWorld\""
      ]
     },
     "execution_count": 50,
     "metadata": {},
     "output_type": "execute_result"
    }
   ],
   "source": [
    "string(\"Hello\", \"World\")"
   ]
  },
  {
   "cell_type": "markdown",
   "id": "1fd7a555",
   "metadata": {},
   "source": [
    "On peut extraire ou affecter une partie de cette chaîne considérée comme un tableau"
   ]
  },
  {
   "cell_type": "code",
   "execution_count": 51,
   "id": "95e8972e",
   "metadata": {},
   "outputs": [
    {
     "data": {
      "text/plain": [
       "\"Une chaine\""
      ]
     },
     "execution_count": 51,
     "metadata": {},
     "output_type": "execute_result"
    }
   ],
   "source": [
    "a[1:10]"
   ]
  },
  {
   "cell_type": "markdown",
   "id": "dd7db039",
   "metadata": {},
   "source": [
    "```{warning}\n",
    "\n",
    "`a[1]` est de type Char\n",
    "\n",
    "```"
   ]
  },
  {
   "cell_type": "code",
   "execution_count": 52,
   "id": "75c7436b",
   "metadata": {},
   "outputs": [
    {
     "data": {
      "text/plain": [
       "'U': ASCII/Unicode U+0055 (category Lu: Letter, uppercase)"
      ]
     },
     "execution_count": 52,
     "metadata": {},
     "output_type": "execute_result"
    }
   ],
   "source": [
    "a[1]"
   ]
  },
  {
   "cell_type": "code",
   "execution_count": 53,
   "id": "500c4523",
   "metadata": {},
   "outputs": [
    {
     "name": "stdout",
     "output_type": "stream",
     "text": [
      "Char\n",
      "\n",
      "String\n"
     ]
    }
   ],
   "source": [
    "println(string(typeof(a[1]))*\"\\n\")\n",
    "println(string(typeof(a[1:1])))"
   ]
  },
  {
   "cell_type": "markdown",
   "id": "f9ab3d3d",
   "metadata": {},
   "source": [
    "L'usage de $ permet comme en php de convertir et d'inclure une variable dans une chaîne de caractères (interpolation)"
   ]
  },
  {
   "cell_type": "code",
   "execution_count": 54,
   "id": "8e491d4d",
   "metadata": {},
   "outputs": [
    {
     "data": {
      "text/plain": [
       "\"le mois de novembre est le 11 ième mois \""
      ]
     },
     "execution_count": 54,
     "metadata": {},
     "output_type": "execute_result"
    }
   ],
   "source": [
    "m = 11\n",
    "a = \"le mois de novembre est le $m ième mois \""
   ]
  },
  {
   "cell_type": "code",
   "execution_count": 55,
   "id": "7a40b206",
   "metadata": {},
   "outputs": [
    {
     "data": {
      "text/plain": [
       "\"racine de 2 : 1.4142135623730951\""
      ]
     },
     "execution_count": 55,
     "metadata": {},
     "output_type": "execute_result"
    }
   ],
   "source": [
    "b = \"racine de 2 : $(sqrt(2))\""
   ]
  },
  {
   "cell_type": "code",
   "execution_count": 56,
   "id": "88429ce0",
   "metadata": {},
   "outputs": [],
   "source": [
    "using Printf"
   ]
  },
  {
   "cell_type": "code",
   "execution_count": 59,
   "id": "fc59978c",
   "metadata": {},
   "outputs": [
    {
     "name": "stdout",
     "output_type": "stream",
     "text": [
      "La valeur de π est    3.1415926536"
     ]
    }
   ],
   "source": [
    "@printf \"La valeur de π est %15.10f\" π"
   ]
  },
  {
   "cell_type": "markdown",
   "id": "451b2077",
   "metadata": {},
   "source": [
    "Pour encore plus de possibilités avec les chaînes de caractère : https://docs.julialang.org/en/v1/manual/strings/#man-strings-1\n",
    "et sur [Printf](https://docs.julialang.org/en/v1/stdlib/Printf/)"
   ]
  },
  {
   "cell_type": "code",
   "execution_count": null,
   "id": "13877d14",
   "metadata": {},
   "outputs": [],
   "source": []
  }
 ],
 "metadata": {
  "jupytext": {
   "cell_metadata_filter": "-all",
   "main_language": "julia",
   "notebook_metadata_filter": "-all"
  },
  "kernelspec": {
   "display_name": "Julia 1.10.0",
   "language": "julia",
   "name": "julia-1.10"
  },
  "language_info": {
   "file_extension": ".jl",
   "mimetype": "application/julia",
   "name": "julia",
   "version": "1.10.0"
  }
 },
 "nbformat": 4,
 "nbformat_minor": 5
}
