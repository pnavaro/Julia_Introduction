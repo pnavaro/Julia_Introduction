{
 "cells": [
  {
   "cell_type": "markdown",
   "id": "bff0cb64",
   "metadata": {},
   "source": [
    "# Eléments de programmation\n",
    "\n",
    "Pour mener à bien un calcul algorithmique le nombre d'éléments de langage n'est pas très important et peut se résumer aux 3 syntaxes suivantes\n",
    "\n",
    "* Le choix conditionnel **if**-**elseif**-**else**-**end**.\n",
    "* La boucle **for**-**end**.\n",
    "* La boucle **while**-**end**"
   ]
  },
  {
   "cell_type": "markdown",
   "id": "7c262cd5",
   "metadata": {},
   "source": [
    "# if ... elseif ... else ... end\n",
    "\n",
    "Un choix simple si le test est vrai (k==1) alors le bloc d'instruction est évalué\n",
    "<!-- #endregion -->"
   ]
  },
  {
   "cell_type": "code",
   "execution_count": 2,
   "id": "112e7468",
   "metadata": {},
   "outputs": [
    {
     "name": "stdout",
     "output_type": "stream",
     "text": [
      "k=1\n"
     ]
    }
   ],
   "source": [
    "k = 1\n",
    "if k == 1\n",
    "    println(\"k=1\")\n",
    "end"
   ]
  },
  {
   "cell_type": "markdown",
   "id": "a0bd27da",
   "metadata": {},
   "source": [
    "Le **else** permet de donner un résultat par défaut..."
   ]
  },
  {
   "cell_type": "code",
   "execution_count": 4,
   "id": "3d32cd25",
   "metadata": {},
   "outputs": [
    {
     "name": "stdout",
     "output_type": "stream",
     "text": [
      "k=1\n"
     ]
    }
   ],
   "source": [
    "k = 1\n",
    "if k != 1\n",
    "    println(\"k<>1\")\n",
    "else\n",
    "    println(\"k=1\")\n",
    "end"
   ]
  },
  {
   "cell_type": "markdown",
   "id": "c733da49",
   "metadata": {},
   "source": [
    "Une succession de **elseif** permet de choisir parmi plusieurs critères, dans la succession des blocs de **if** et **elseif** le premier qui est \"vrai\" est évaluer et l'instruction s'arrète."
   ]
  },
  {
   "cell_type": "code",
   "execution_count": 6,
   "id": "c01e9390",
   "metadata": {},
   "outputs": [
    {
     "name": "stdout",
     "output_type": "stream",
     "text": [
      "k>1\n"
     ]
    }
   ],
   "source": [
    "k=2\n",
    "if k==1\n",
    "    println(\"k=1\")\n",
    "elseif k>1\n",
    "    println(\"k>1\")\n",
    "else \n",
    "    println(\"k<1\")\n",
    "end"
   ]
  },
  {
   "cell_type": "markdown",
   "id": "dd9ff957",
   "metadata": {},
   "source": [
    "# La boucle for\n",
    "\n",
    "Elle peut se définir à l'aide d'itérateurs ou de tableaux de valeurs les syntaxes \"=\" , \"in\" ou \"$\\in$\" sont équivalentes"
   ]
  },
  {
   "cell_type": "code",
   "execution_count": 7,
   "id": "8b37833c",
   "metadata": {},
   "outputs": [
    {
     "name": "stdout",
     "output_type": "stream",
     "text": [
      "1\n",
      "2\n",
      "3\n",
      "4\n",
      "5\n",
      "6\n",
      "7\n",
      "8\n",
      "9\n",
      "10\n"
     ]
    }
   ],
   "source": [
    "for i = 1:10\n",
    "    println(i)\n",
    "end"
   ]
  },
  {
   "cell_type": "code",
   "execution_count": 11,
   "id": "28ffd672",
   "metadata": {},
   "outputs": [
    {
     "name": "stdout",
     "output_type": "stream",
     "text": [
      "String\n",
      "Int64\n",
      "Complex{Bool}\n"
     ]
    }
   ],
   "source": [
    "for i in [\"un\" 2 im]\n",
    "    println(typeof(i))\n",
    "end"
   ]
  },
  {
   "cell_type": "code",
   "execution_count": 18,
   "id": "1e8c8f0c",
   "metadata": {},
   "outputs": [
    {
     "data": {
      "text/plain": [
       "3-element Vector{DataType}:\n",
       " String\n",
       " Int64\n",
       " Complex{Bool}"
      ]
     },
     "execution_count": 18,
     "metadata": {},
     "output_type": "execute_result"
    }
   ],
   "source": [
    "typeof.([\"un\", 2, im])"
   ]
  },
  {
   "cell_type": "code",
   "execution_count": 19,
   "id": "16ca7141",
   "metadata": {},
   "outputs": [
    {
     "data": {
      "text/plain": [
       "Any"
      ]
     },
     "execution_count": 19,
     "metadata": {},
     "output_type": "execute_result"
    }
   ],
   "source": [
    "eltype([\"un\" 2 im])"
   ]
  },
  {
   "cell_type": "markdown",
   "id": "39e235a2",
   "metadata": {},
   "source": [
    "La commande **break** permet de sortir d'une boucle à tout moment"
   ]
  },
  {
   "cell_type": "code",
   "execution_count": 20,
   "id": "f73e70ba",
   "metadata": {},
   "outputs": [
    {
     "name": "stdout",
     "output_type": "stream",
     "text": [
      "1\n",
      "2\n",
      "3\n",
      "4\n",
      "5\n"
     ]
    }
   ],
   "source": [
    "for i = 1:1000\n",
    "    println(i)\n",
    "    if i >= 5\n",
    "       break\n",
    "    end\n",
    "end"
   ]
  },
  {
   "cell_type": "markdown",
   "id": "ca2c26fd",
   "metadata": {},
   "source": [
    "La commande **continue** permet elle de courtcircuiter la boucle en court et de passer à la valeur suivante"
   ]
  },
  {
   "cell_type": "code",
   "execution_count": 21,
   "id": "35393c05",
   "metadata": {},
   "outputs": [
    {
     "name": "stdout",
     "output_type": "stream",
     "text": [
      "3\n",
      "6\n",
      "9\n"
     ]
    }
   ],
   "source": [
    "for i = 1:10\n",
    "    if i % 3 != 0 # i modulo 3 different de 0\n",
    "        continue\n",
    "    end\n",
    "    println(i)\n",
    "end"
   ]
  },
  {
   "cell_type": "markdown",
   "id": "f0a9d986",
   "metadata": {},
   "source": [
    "# La boucle while\n",
    "\n",
    "Tant que le test est \"vrai\" le bloc est évalué, le test se faisant en entrée de bloc"
   ]
  },
  {
   "cell_type": "code",
   "execution_count": 22,
   "id": "56b0bbb3",
   "metadata": {},
   "outputs": [
    {
     "name": "stdout",
     "output_type": "stream",
     "text": [
      "1\n",
      "2\n",
      "3\n",
      "4\n",
      "5\n",
      "6\n",
      "7\n",
      "8\n",
      "9\n",
      "10\n"
     ]
    }
   ],
   "source": [
    "k = 0\n",
    "while k<10\n",
    "    k += 1  # k=k+1\n",
    "    println(k)\n",
    "end"
   ]
  },
  {
   "cell_type": "markdown",
   "id": "54313197",
   "metadata": {},
   "source": [
    "De même que la boucle **for** les commandes **break** et **continue** sont valables ..."
   ]
  },
  {
   "cell_type": "code",
   "execution_count": 23,
   "id": "d4d1a52a",
   "metadata": {},
   "outputs": [
    {
     "name": "stdout",
     "output_type": "stream",
     "text": [
      "5\n",
      "10\n",
      "15\n",
      "20\n",
      "25\n",
      "30\n",
      "35\n"
     ]
    }
   ],
   "source": [
    "k=0\n",
    "while k < 1000\n",
    "    k += 1  # k=k+1\n",
    "    if k % 5 != 0 # k modulo 5 diffèrent de 0\n",
    "        continue # retour en début de boucle avec de nouveau un test sur k\n",
    "    end\n",
    "    println(k)\n",
    "    if k > 30\n",
    "        break\n",
    "    end\n",
    "end"
   ]
  },
  {
   "cell_type": "code",
   "execution_count": 34,
   "id": "f811277f",
   "metadata": {},
   "outputs": [
    {
     "name": "stdout",
     "output_type": "stream",
     "text": [
      "1\n",
      "k \t = \t 145\n"
     ]
    }
   ],
   "source": [
    "let \n",
    "    n = 10000000\n",
    "    k = 0\n",
    "    while n > 1\n",
    "        if n % 2 == 0\n",
    "            n = n ÷ 2\n",
    "        else\n",
    "            n = 3n+1\n",
    "        end\n",
    "        k += 1\n",
    "    end\n",
    "    println(n)\n",
    "    println(\"k \\t = \\t $k\")\n",
    "end"
   ]
  },
  {
   "cell_type": "markdown",
   "id": "3618ff89",
   "metadata": {},
   "source": [
    "# Un peu d'optimisation\n",
    "\n",
    "*Julia* est dit un langage performant, regardons rapidement quelques exemples à faire ou ne pas faire.\n",
    "\n",
    "## Exemple de préallocation et utilisation de push!"
   ]
  },
  {
   "cell_type": "code",
   "execution_count": 36,
   "id": "8fa4e967",
   "metadata": {},
   "outputs": [
    {
     "name": "stdout",
     "output_type": "stream",
     "text": [
      " 24.233625 seconds (496.93 k allocations: 37.266 GiB, 17.33% gc time)\n"
     ]
    }
   ],
   "source": [
    "n = 100000\n",
    "@time begin\n",
    "    A = zeros(0) # Tableau vide qui contiendra des Float64\n",
    "    for i = 1:n\n",
    "        A = [A; i]   # a chaque itération on change la taille de A\n",
    "    end\n",
    "end"
   ]
  },
  {
   "cell_type": "code",
   "execution_count": 37,
   "id": "de08f94d",
   "metadata": {},
   "outputs": [
    {
     "data": {
      "text/plain": [
       "Vector{Float64} (alias for Array{Float64, 1})"
      ]
     },
     "execution_count": 37,
     "metadata": {},
     "output_type": "execute_result"
    }
   ],
   "source": [
    "typeof(A)"
   ]
  },
  {
   "cell_type": "code",
   "execution_count": 38,
   "id": "a4fa3c01",
   "metadata": {},
   "outputs": [
    {
     "data": {
      "text/plain": [
       "100000-element Vector{Float64}:\n",
       "      1.0\n",
       "      2.0\n",
       "      3.0\n",
       "      4.0\n",
       "      5.0\n",
       "      6.0\n",
       "      7.0\n",
       "      8.0\n",
       "      9.0\n",
       "     10.0\n",
       "     11.0\n",
       "     12.0\n",
       "     13.0\n",
       "      ⋮\n",
       "  99989.0\n",
       "  99990.0\n",
       "  99991.0\n",
       "  99992.0\n",
       "  99993.0\n",
       "  99994.0\n",
       "  99995.0\n",
       "  99996.0\n",
       "  99997.0\n",
       "  99998.0\n",
       "  99999.0\n",
       " 100000.0"
      ]
     },
     "execution_count": 38,
     "metadata": {},
     "output_type": "execute_result"
    }
   ],
   "source": [
    "A"
   ]
  },
  {
   "cell_type": "code",
   "execution_count": 41,
   "id": "4db39784",
   "metadata": {},
   "outputs": [
    {
     "name": "stdout",
     "output_type": "stream",
     "text": [
      "  0.017135 seconds (298.99 k allocations: 7.916 MiB)\n"
     ]
    }
   ],
   "source": [
    "@time begin\n",
    "    A = zeros(0)\n",
    "    for i = 1:n\n",
    "        push!(A,i)   # a chaque itération on change la taille de A\n",
    "    end\n",
    "end"
   ]
  },
  {
   "cell_type": "code",
   "execution_count": 42,
   "id": "164f2530",
   "metadata": {},
   "outputs": [
    {
     "data": {
      "text/plain": [
       "100000-element Vector{Float64}:\n",
       "      1.0\n",
       "      2.0\n",
       "      3.0\n",
       "      4.0\n",
       "      5.0\n",
       "      6.0\n",
       "      7.0\n",
       "      8.0\n",
       "      9.0\n",
       "     10.0\n",
       "     11.0\n",
       "     12.0\n",
       "     13.0\n",
       "      ⋮\n",
       "  99989.0\n",
       "  99990.0\n",
       "  99991.0\n",
       "  99992.0\n",
       "  99993.0\n",
       "  99994.0\n",
       "  99995.0\n",
       "  99996.0\n",
       "  99997.0\n",
       "  99998.0\n",
       "  99999.0\n",
       " 100000.0"
      ]
     },
     "execution_count": 42,
     "metadata": {},
     "output_type": "execute_result"
    }
   ],
   "source": [
    "A"
   ]
  },
  {
   "cell_type": "code",
   "execution_count": 44,
   "id": "54c04477",
   "metadata": {},
   "outputs": [
    {
     "name": "stdout",
     "output_type": "stream",
     "text": [
      "  0.010592 seconds (298.98 k allocations: 6.851 MiB)\n"
     ]
    }
   ],
   "source": [
    "@time begin\n",
    "    A = zeros(Int64,n)\n",
    "    for i in eachindex(A)\n",
    "        A[i] = i\n",
    "    end\n",
    "end"
   ]
  },
  {
   "cell_type": "code",
   "execution_count": 47,
   "id": "3e8d36f6",
   "metadata": {},
   "outputs": [
    {
     "name": "stdout",
     "output_type": "stream",
     "text": [
      "  0.000141 seconds (2 allocations: 781.297 KiB)\n"
     ]
    },
    {
     "data": {
      "text/plain": [
       "100000-element Vector{Int64}:\n",
       " 1\n",
       " 1\n",
       " 1\n",
       " 1\n",
       " 1\n",
       " 1\n",
       " 1\n",
       " 1\n",
       " 1\n",
       " 1\n",
       " 1\n",
       " 1\n",
       " 1\n",
       " ⋮\n",
       " 1\n",
       " 1\n",
       " 1\n",
       " 1\n",
       " 1\n",
       " 1\n",
       " 1\n",
       " 1\n",
       " 1\n",
       " 1\n",
       " 1\n",
       " 1"
      ]
     },
     "execution_count": 47,
     "metadata": {},
     "output_type": "execute_result"
    }
   ],
   "source": [
    "@time begin\n",
    "    A = zeros(Int64,n)\n",
    "    fill!(A, 1)\n",
    "end"
   ]
  },
  {
   "cell_type": "code",
   "execution_count": 49,
   "id": "41af9d37",
   "metadata": {},
   "outputs": [
    {
     "name": "stdout",
     "output_type": "stream",
     "text": [
      "  0.000121 seconds (4 allocations: 781.359 KiB)\n"
     ]
    },
    {
     "data": {
      "text/plain": [
       "100000-element Vector{Int64}:\n",
       "      1\n",
       "      2\n",
       "      3\n",
       "      4\n",
       "      5\n",
       "      6\n",
       "      7\n",
       "      8\n",
       "      9\n",
       "     10\n",
       "     11\n",
       "     12\n",
       "     13\n",
       "      ⋮\n",
       "  99989\n",
       "  99990\n",
       "  99991\n",
       "  99992\n",
       "  99993\n",
       "  99994\n",
       "  99995\n",
       "  99996\n",
       "  99997\n",
       "  99998\n",
       "  99999\n",
       " 100000"
      ]
     },
     "execution_count": 49,
     "metadata": {},
     "output_type": "execute_result"
    }
   ],
   "source": [
    "@time begin\n",
    "    A = [i for i=1:n]\n",
    "end"
   ]
  },
  {
   "cell_type": "code",
   "execution_count": 50,
   "id": "fc6e3343",
   "metadata": {},
   "outputs": [
    {
     "data": {
      "text/plain": [
       "Vector{Int64} (alias for Array{Int64, 1})"
      ]
     },
     "execution_count": 50,
     "metadata": {},
     "output_type": "execute_result"
    }
   ],
   "source": [
    "typeof(A)"
   ]
  },
  {
   "cell_type": "markdown",
   "id": "0722579d",
   "metadata": {},
   "source": [
    "Cet exemple montre le coût prohibitif d'une réallocation dynamique qui impose une recopie totale de A à chaque itération.\n",
    "\n",
    "## Exemple de vectorisation\n",
    "\n",
    "Regardons la vectorisation sous *Julia* à l'aide de la construction d'une matrice de Vandermonde\n"
   ]
  },
  {
   "cell_type": "code",
   "execution_count": 64,
   "id": "d4cdd4c3",
   "metadata": {},
   "outputs": [
    {
     "name": "stdout",
     "output_type": "stream",
     "text": [
      "  0.339490 seconds (35.94 k allocations: 69.671 MiB, 8.98% gc time)\n"
     ]
    }
   ],
   "source": [
    "@time begin\n",
    "    n = 3000\n",
    "    x = LinRange(0, 1, n)\n",
    "    V = zeros(n,n)\n",
    "    for i = 1:n\n",
    "        V[:,i] .= x.^(i-1) # calcul vectorisé\n",
    "    end\n",
    "end"
   ]
  },
  {
   "cell_type": "code",
   "execution_count": 71,
   "id": "fb20a18d",
   "metadata": {},
   "outputs": [
    {
     "name": "stdout",
     "output_type": "stream",
     "text": [
      "  1.886602 seconds (49.41 M allocations: 960.007 MiB, 7.45% gc time)\n"
     ]
    }
   ],
   "source": [
    "@time begin\n",
    "    n = 3000\n",
    "    x = LinRange(0, 1, n)\n",
    "    V = zeros(n,n)\n",
    "    for j=1:n\n",
    "        for i=1:n\n",
    "            V[i,j] = x[i]^(j-1) # calcul dévectorisé\n",
    "        end\n",
    "    end\n",
    "end"
   ]
  },
  {
   "cell_type": "code",
   "execution_count": 61,
   "id": "90027031",
   "metadata": {},
   "outputs": [
    {
     "data": {
      "text/plain": [
       "Matrix{Float64} (alias for Array{Float64, 2})"
      ]
     },
     "execution_count": 61,
     "metadata": {},
     "output_type": "execute_result"
    }
   ],
   "source": [
    "typeof(X)"
   ]
  },
  {
   "cell_type": "code",
   "execution_count": 75,
   "id": "48a3748f",
   "metadata": {},
   "outputs": [
    {
     "name": "stdout",
     "output_type": "stream",
     "text": [
      "  0.989547 seconds (33.01 M allocations: 575.400 MiB, 7.31% gc time, 6.61% compilation time)\n"
     ]
    },
    {
     "data": {
      "text/plain": [
       "3000×3000 Matrix{Float64}:\n",
       " 1.0  1.0          1.0          …  1.0        1.0       1.0       1.0\n",
       " 0.0  0.000333444  0.000666889     0.999      0.999333  0.999667  1.0\n",
       " 0.0  1.11185e-7   4.44741e-7      0.998      0.998667  0.999333  1.0\n",
       " 0.0  3.70741e-11  2.96593e-10     0.997002   0.998001  0.999     1.0\n",
       " 0.0  1.23622e-14  1.97794e-13     0.996005   0.997335  0.998667  1.0\n",
       " 0.0  4.12209e-18  1.31907e-16  …  0.995008   0.99667   0.998334  1.0\n",
       " 0.0  1.37449e-21  8.79673e-20     0.994013   0.996005  0.998001  1.0\n",
       " 0.0  4.58316e-25  5.86644e-23     0.993019   0.995341  0.997668  1.0\n",
       " 0.0  1.52823e-28  3.91226e-26     0.992025   0.994677  0.997336  1.0\n",
       " 0.0  5.09579e-32  2.60905e-29     0.991033   0.994014  0.997003  1.0\n",
       " 0.0  1.69916e-35  1.73994e-32  …  0.990042   0.993351  0.996671  1.0\n",
       " 0.0  5.66577e-39  1.16035e-35     0.989051   0.992689  0.996338  1.0\n",
       " 0.0  1.88922e-42  7.73824e-39     0.988062   0.992027  0.996006  1.0\n",
       " ⋮                              ⋱                                 \n",
       " 0.0  0.0          0.0             0.0502627  0.136241  0.36917   1.0\n",
       " 0.0  0.0          0.0             0.0502124  0.13615   0.369047  1.0\n",
       " 0.0  0.0          0.0          …  0.0501622  0.136059  0.368924  1.0\n",
       " 0.0  0.0          0.0             0.050112   0.135969  0.368801  1.0\n",
       " 0.0  0.0          0.0             0.0500619  0.135878  0.368678  1.0\n",
       " 0.0  0.0          0.0             0.0500118  0.135787  0.368555  1.0\n",
       " 0.0  0.0          0.0             0.0499618  0.135697  0.368432  1.0\n",
       " 0.0  0.0          0.0          …  0.0499118  0.135606  0.368309  1.0\n",
       " 0.0  0.0          0.0             0.0498619  0.135516  0.368186  1.0\n",
       " 0.0  0.0          0.0             0.049812   0.135426  0.368064  1.0\n",
       " 0.0  0.0          0.0             0.0497621  0.135335  0.367941  1.0\n",
       " 0.0  0.0          0.0             0.0497124  0.135245  0.367818  1.0"
      ]
     },
     "execution_count": 75,
     "metadata": {},
     "output_type": "execute_result"
    }
   ],
   "source": [
    "@time begin \n",
    "    n = 3000\n",
    "    x = LinRange(0, 1, n)\n",
    "    W = [x[i]^(j-1) for j=1:n, i=1:n]\n",
    "end"
   ]
  },
  {
   "cell_type": "code",
   "execution_count": 57,
   "id": "07bbb062",
   "metadata": {},
   "outputs": [
    {
     "data": {
      "text/plain": [
       "Matrix{Float64} (alias for Array{Float64, 2})"
      ]
     },
     "execution_count": 57,
     "metadata": {},
     "output_type": "execute_result"
    }
   ],
   "source": [
    "typeof(W)"
   ]
  },
  {
   "cell_type": "code",
   "execution_count": 58,
   "id": "af70fa23",
   "metadata": {},
   "outputs": [
    {
     "data": {
      "text/plain": [
       "0.184000873"
      ]
     },
     "execution_count": 58,
     "metadata": {},
     "output_type": "execute_result"
    }
   ],
   "source": [
    "function Vander(n)\n",
    "    x = LinRange(0, 1, n)\n",
    "    V = zeros(n, n)\n",
    "    for i=1:n\n",
    "        #V[:,i]=x.^(i-1)\n",
    "        for j=1:n\n",
    "            V[i,j]=x[i]^(j-1) # calcul dévectorisé\n",
    "        end\n",
    "    end\n",
    "    return V\n",
    "end\n",
    "@elapsed Z = Vander(3000)"
   ]
  },
  {
   "cell_type": "code",
   "execution_count": 59,
   "id": "745dc4d8",
   "metadata": {},
   "outputs": [
    {
     "data": {
      "text/plain": [
       "0.206228317"
      ]
     },
     "execution_count": 59,
     "metadata": {},
     "output_type": "execute_result"
    }
   ],
   "source": [
    "@elapsed Z = Vander(3000)"
   ]
  },
  {
   "cell_type": "code",
   "execution_count": 60,
   "id": "e8561f6d",
   "metadata": {},
   "outputs": [
    {
     "data": {
      "text/plain": [
       "0.179519609"
      ]
     },
     "execution_count": 60,
     "metadata": {},
     "output_type": "execute_result"
    }
   ],
   "source": [
    "@elapsed Z = Vander(3000) "
   ]
  },
  {
   "cell_type": "code",
   "execution_count": 64,
   "id": "888ac5cc",
   "metadata": {},
   "outputs": [
    {
     "data": {
      "text/plain": [
       "0.314779955"
      ]
     },
     "execution_count": 64,
     "metadata": {},
     "output_type": "execute_result"
    }
   ],
   "source": [
    "function Vander2(n)\n",
    "    x = LinRange(0, 1, n)\n",
    "    return [x[i]^(j-1) for i=1:n, j=1:n]\n",
    "end\n",
    "@elapsed Z2=Vander2(3000)"
   ]
  },
  {
   "cell_type": "code",
   "execution_count": 66,
   "id": "44ddd890",
   "metadata": {},
   "outputs": [
    {
     "data": {
      "text/plain": [
       "0.293058917"
      ]
     },
     "execution_count": 66,
     "metadata": {},
     "output_type": "execute_result"
    }
   ],
   "source": [
    "@elapsed Z2=Vander2(3000)"
   ]
  },
  {
   "cell_type": "code",
   "execution_count": 67,
   "id": "ad2d7293",
   "metadata": {},
   "outputs": [
    {
     "data": {
      "text/plain": [
       "Matrix{Float64} (alias for Array{Float64, 2})"
      ]
     },
     "execution_count": 67,
     "metadata": {},
     "output_type": "execute_result"
    }
   ],
   "source": [
    "typeof(Z2)"
   ]
  },
  {
   "cell_type": "markdown",
   "id": "6b15c99f",
   "metadata": {},
   "source": [
    "La conclusion n'est pas toujours évidente a priori... Néanmoins on\n",
    "peut voir que le fait de mettre le code dans une fonction impose\n",
    "une optimisation à la compilation et une contextualisation du type\n",
    "et que l'écriture explicite des boucles donne un meilleur résultat."
   ]
  }
 ],
 "metadata": {
  "jupytext": {
   "cell_metadata_filter": "-all",
   "main_language": "julia",
   "notebook_metadata_filter": "-all"
  },
  "kernelspec": {
   "display_name": "Julia 1.7.2",
   "language": "julia",
   "name": "julia-1.7"
  },
  "language_info": {
   "file_extension": ".jl",
   "mimetype": "application/julia",
   "name": "julia",
   "version": "1.7.3"
  }
 },
 "nbformat": 4,
 "nbformat_minor": 5
}
