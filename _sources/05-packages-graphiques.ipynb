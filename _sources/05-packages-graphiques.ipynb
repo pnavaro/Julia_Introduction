{
 "cells": [
  {
   "cell_type": "markdown",
   "id": "2b3545e1",
   "metadata": {},
   "source": [
    "# Packages graphiques\n",
    "\n",
    "Comme vu dans l'introduction *Julia* possède une bibliothèque de packages assez grande dont il n'est pas forcément aisé d'en faire le tri...\n",
    "\n",
    "Je vous propose ici la description et utilisation de quelques classiques\n",
    "\n",
    "En premier lieu un packages graphiques :\n",
    "* **Plots**\n",
    "* avec des backend **Gr**, **PyPlot**, **Plotly**\n",
    "\n",
    "et deux packages plus \"statistiques\" : \n",
    "\n",
    "* **DataFrames**\n",
    "* **RDatasets**\n",
    "\n",
    "La gestion graphique ne fait pas partie intégrante de *Julia* il faut faire appel à des packages extérieurs et plusieurs choix sont possibles. En voici quelques uns\n",
    "\n",
    "## Plots\n",
    "\n",
    "Plots est basé sur une bibliothèque éprouvée MatPlotLib (en Python). Sa syntaxe est identique à celle de MATLAB "
   ]
  },
  {
   "cell_type": "markdown",
   "id": "f7d68437",
   "metadata": {},
   "source": [
    "```julia\n",
    "(v1.1) pkg> add Plots\n",
    "(v1.1) pkg> add PlotlyJS\n",
    "(v1.1) pkg> add PyPlot\n",
    "```"
   ]
  },
  {
   "cell_type": "code",
   "execution_count": null,
   "id": "1adad542",
   "metadata": {},
   "outputs": [],
   "source": [
    "using Plots "
   ]
  },
  {
   "cell_type": "code",
   "execution_count": null,
   "id": "03c8e156",
   "metadata": {},
   "outputs": [],
   "source": [
    "x= LinRange(0, 1, 100)\n",
    "plot(x,sin.(10*x))"
   ]
  },
  {
   "cell_type": "code",
   "execution_count": null,
   "id": "551bc9fa",
   "metadata": {
    "lines_to_next_cell": 2
   },
   "outputs": [],
   "source": [
    "x= LinRange(0, 1, 100)\n",
    "plot(x,sin.(10*x))\n",
    "plot!(x,cos.(10*x))"
   ]
  },
  {
   "cell_type": "code",
   "execution_count": null,
   "id": "ad7a4dbe",
   "metadata": {},
   "outputs": [],
   "source": [
    "p = plot(layout=(2,1))\n",
    "plot!(p[1,1], x,sin.(x), lc= :green,linewidth=2.0)\n",
    "plot!(p[2,1], x,x, lc= :red)\n",
    "title!(p[2,1], \"tracé 2\")"
   ]
  },
  {
   "cell_type": "code",
   "execution_count": null,
   "id": "9a5fea6e",
   "metadata": {},
   "outputs": [],
   "source": [
    "import PyPlot\n",
    "PyPlot.subplot(2,1,1)\n",
    "PyPlot.plot(x,sin.(x),\"g\",linewidth=2.0)\n",
    "PyPlot.subplot(2,1,2)\n",
    "PyPlot.plot(x,x,\"r\")\n",
    "PyPlot.grid(true)\n",
    "PyPlot.title(\"tracé 2\")"
   ]
  },
  {
   "cell_type": "code",
   "execution_count": null,
   "id": "9dae7f59",
   "metadata": {},
   "outputs": [],
   "source": [
    "n = 1024\n",
    "X = randn(n)\n",
    "Y = randn(n)\n",
    "scatter(X, Y, exp.(-(X.^2+Y.^2)))"
   ]
  },
  {
   "cell_type": "code",
   "execution_count": null,
   "id": "e8275511",
   "metadata": {},
   "outputs": [],
   "source": [
    "X = rand(5)\n",
    "Y =-rand(5)\n",
    "bar(1:5,X,facecolor=\"#9999ff\", edgecolor=\"white\")\n",
    "bar(1:5,Y,facecolor=\"#ff9999\", edgecolor=\"white\")\n",
    "for i=1:5\n",
    "    txt=string(X[i])\n",
    "    text(i+0.1,X[i]+0.01,txt[1:7])\n",
    "    txt=string(Y[i])\n",
    "    text(i+0.1,Y[i]-0.08,txt[1:7])\n",
    "end\n",
    "ylims!(-1.2,1.2)"
   ]
  },
  {
   "cell_type": "code",
   "execution_count": null,
   "id": "50dad625",
   "metadata": {},
   "outputs": [],
   "source": [
    "z=rand(20)\n",
    "pie(z)"
   ]
  },
  {
   "cell_type": "code",
   "execution_count": null,
   "id": "d03044b8",
   "metadata": {},
   "outputs": [],
   "source": [
    "contour(rand(50,50), colobar = true, aspect_ratio = :equal, size = (300,300))"
   ]
  },
  {
   "cell_type": "code",
   "execution_count": null,
   "id": "4eaba969",
   "metadata": {},
   "outputs": [],
   "source": [
    "palette(:rainbow)"
   ]
  },
  {
   "cell_type": "code",
   "execution_count": null,
   "id": "0bf01370",
   "metadata": {},
   "outputs": [],
   "source": [
    "surface(rand(50,50), palette = :rainbow)"
   ]
  },
  {
   "cell_type": "code",
   "execution_count": null,
   "id": "3a15fd74",
   "metadata": {},
   "outputs": [],
   "source": [
    "x = LinRange(-2, 2, 21)\n",
    "y = x\n",
    "z = exp.(-x.^2 .- y'.^2)\n",
    "contour(x, y, z, aspect_ratio = :equal)\n",
    "\n",
    "v(x, y) = 0.1 .* [-y, x]\n",
    "\n",
    "xs = [px for px in x for py in y]\n",
    "ys = [py for px in x for py in y]\n",
    "\n",
    "quiver!(xs, ys, quiver=v)"
   ]
  },
  {
   "cell_type": "markdown",
   "id": "70f4e12d",
   "metadata": {},
   "source": [
    "D'autres packages sont disponibles :\n",
    "- Gadfly \n",
    "- UnicodePlots \n",
    "- Makie\n",
    "voir [JuliaPlots](https://github.com/JuliaPlots) et [JuliaGraphics](https://github.com/JuliaGraphics)\n",
    "\n",
    "## DataFrames\n",
    "\n",
    "But : travailler avec des tables de données.\n",
    "Ce sont des tables dont les colonnes sont des DataArray. Voici deux façons de construire des DataFrames :"
   ]
  },
  {
   "cell_type": "code",
   "execution_count": null,
   "id": "60bb9d83",
   "metadata": {},
   "outputs": [],
   "source": [
    "using DataFrames"
   ]
  },
  {
   "cell_type": "code",
   "execution_count": null,
   "id": "3283f2c4",
   "metadata": {},
   "outputs": [],
   "source": [
    "df = DataFrame(A = 1:4, B = [\"M\", \"F\", \"F\", \"M\"])"
   ]
  },
  {
   "cell_type": "code",
   "execution_count": null,
   "id": "a7351ee1",
   "metadata": {},
   "outputs": [],
   "source": [
    "df = DataFrame()\n",
    "df[!,:A] = 1:8\n",
    "df[!,:B] = [\"M\", \"F\", \"F\", \"M\", \"F\", \"M\", \"M\", \"F\"]\n",
    "df"
   ]
  },
  {
   "cell_type": "code",
   "execution_count": null,
   "id": "94bb68ea",
   "metadata": {},
   "outputs": [],
   "source": [
    "nrows = size(df, 1) # nombre de ligne\n",
    "ncols = size(df, 2) # nombre de colonne"
   ]
  },
  {
   "cell_type": "code",
   "execution_count": null,
   "id": "c69f41e6",
   "metadata": {},
   "outputs": [],
   "source": [
    "first(df)#Voir le début du tableau"
   ]
  },
  {
   "cell_type": "code",
   "execution_count": null,
   "id": "50323ad1",
   "metadata": {},
   "outputs": [],
   "source": [
    "last(df) #Voir la fin du tableau"
   ]
  },
  {
   "cell_type": "code",
   "execution_count": null,
   "id": "4d3524fe",
   "metadata": {},
   "outputs": [],
   "source": [
    "df[1:3, :] #Voir les lignes 1,2,3 du tableau"
   ]
  },
  {
   "cell_type": "markdown",
   "id": "43d6dd11",
   "metadata": {},
   "source": [
    "Nous avons l'analogie avec summarize du logiciel R :"
   ]
  },
  {
   "cell_type": "code",
   "execution_count": null,
   "id": "07109d2b",
   "metadata": {},
   "outputs": [],
   "source": [
    "describe(df)"
   ]
  },
  {
   "cell_type": "markdown",
   "id": "e7d45cae",
   "metadata": {},
   "source": [
    "Pour aller plus loin dans le travail statistique sur les Dataframes il nous faut le package RDatasets qui va fournir nombres exemples et on va y retrouver beaucoup de fonctionnalités communes au logiciel R."
   ]
  },
  {
   "cell_type": "code",
   "execution_count": null,
   "id": "8f3c010b",
   "metadata": {},
   "outputs": [],
   "source": [
    "using RDatasets"
   ]
  },
  {
   "cell_type": "code",
   "execution_count": null,
   "id": "50b1a629",
   "metadata": {},
   "outputs": [],
   "source": [
    "iris = dataset(\"datasets\", \"iris\")"
   ]
  }
 ],
 "metadata": {
  "jupytext": {
   "cell_metadata_filter": "-all",
   "main_language": "julia",
   "notebook_metadata_filter": "-all"
  }
 },
 "nbformat": 4,
 "nbformat_minor": 5
}
