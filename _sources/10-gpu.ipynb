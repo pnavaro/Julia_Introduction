{
 "cells": [
  {
   "cell_type": "markdown",
   "id": "f5f17f58",
   "metadata": {},
   "source": [
    "# GPU\n",
    "\n",
    "Le calcul sur GPU permet de calculer plus rapidement certaines opérations mathématiques.\n",
    "Il est particulièrement bien adapté pour les opérations simples entre tableaux de grandes\n",
    "dimensions. Il consiste à déporter les calculs sur la carte graphique puis récupérer les résultats.\n",
    "Ces transferts de données ont un coût qu'il faudra prendre en compte lors de l'utilisation\n",
    "de ces co-processeurs.\n",
    "\n",
    "On importe quelques packages pour nos exemples"
   ]
  },
  {
   "cell_type": "code",
   "execution_count": 27,
   "id": "c47a1699",
   "metadata": {
    "ExecuteTime": {
     "end_time": "2022-06-22T09:34:00.970000Z",
     "start_time": "2022-06-22T09:34:00.782Z"
    }
   },
   "outputs": [],
   "source": [
    "using BenchmarkTools\n",
    "using Random\n",
    "using Test\n",
    "using LinearAlgebra\n",
    "using ForwardDiff\n",
    "using ProgressMeter\n",
    "using Plots"
   ]
  },
  {
   "cell_type": "markdown",
   "id": "d5a3623b",
   "metadata": {},
   "source": [
    "Le package principal qui permet d'utiliser est `CUDA.jl`, il permet d'utiliser les cartes \n",
    "graphiques de la marque NVIDIA."
   ]
  },
  {
   "cell_type": "code",
   "execution_count": 28,
   "id": "df3800a0",
   "metadata": {
    "ExecuteTime": {
     "end_time": "2022-06-22T09:34:01.420000Z",
     "start_time": "2022-06-22T09:34:01.234Z"
    }
   },
   "outputs": [
    {
     "data": {
      "text/plain": [
       "v\"11.6.0\""
      ]
     },
     "execution_count": 28,
     "metadata": {},
     "output_type": "execute_result"
    }
   ],
   "source": [
    "using CUDA\n",
    "\n",
    "CUDA.version()"
   ]
  },
  {
   "cell_type": "markdown",
   "id": "2d9909ef",
   "metadata": {},
   "source": [
    "Lorsque vous installez `CUDA.jl`, une version du compilateur de NVIDIA sera également téléchargé\n",
    "sur votre poste. Il est possible d'utiliser une installation existante, c'est expliqué dans la \n",
    "documentation.\n",
    "\n",
    "Cette première fonction permet de vérifier que le package est correctement installé et que vous disposez\n",
    "de la carte graphique adéquate."
   ]
  },
  {
   "cell_type": "code",
   "execution_count": 29,
   "id": "630c2b3f",
   "metadata": {
    "ExecuteTime": {
     "end_time": "2022-06-22T09:34:01.983000Z",
     "start_time": "2022-06-22T09:34:01.799Z"
    }
   },
   "outputs": [
    {
     "data": {
      "text/plain": [
       "true"
      ]
     },
     "execution_count": 29,
     "metadata": {},
     "output_type": "execute_result"
    }
   ],
   "source": [
    "CUDA.functional()"
   ]
  },
  {
   "cell_type": "markdown",
   "id": "aacf7b7d",
   "metadata": {},
   "source": [
    "Vous pouvez également lister les matériels à votre disposition."
   ]
  },
  {
   "cell_type": "code",
   "execution_count": 30,
   "id": "895369d4",
   "metadata": {
    "ExecuteTime": {
     "end_time": "2022-06-22T09:34:02.406000Z",
     "start_time": "2022-06-22T09:34:02.201Z"
    }
   },
   "outputs": [
    {
     "name": "stdout",
     "output_type": "stream",
     "text": [
      "capability(device) = v\"8.0.0\"\n",
      "name(device) = \"NVIDIA A100-PCIE-40GB MIG 1g.5gb\"\n"
     ]
    }
   ],
   "source": [
    "for device in CUDA.devices()\n",
    "    @show capability(device)\n",
    "    @show name(device)\n",
    "end"
   ]
  },
  {
   "cell_type": "markdown",
   "id": "a5e200c1",
   "metadata": {},
   "source": [
    "Pour tester votre installation vous pouvez également regarder le package [GPUInspector.jl](https://pc2.github.io/GPUInspector.jl/dev/)\n",
    "\n",
    "## Création de tableaux pour le GPU"
   ]
  },
  {
   "cell_type": "markdown",
   "id": "66c184cb",
   "metadata": {},
   "source": [
    "### Allocations sur la carte graphique"
   ]
  },
  {
   "cell_type": "code",
   "execution_count": 31,
   "id": "6540eef6",
   "metadata": {
    "ExecuteTime": {
     "end_time": "2022-06-22T09:34:03.086000Z",
     "start_time": "2022-06-22T09:34:02.900Z"
    }
   },
   "outputs": [
    {
     "data": {
      "text/plain": [
       "2×2 CuArray{Float32, 2, CUDA.Mem.DeviceBuffer}:\n",
       " 0.0      0.0\n",
       " 3.39453  3.14453"
      ]
     },
     "execution_count": 31,
     "metadata": {},
     "output_type": "execute_result"
    }
   ],
   "source": [
    "a = CuArray{Float32,2}(undef, 2, 2)"
   ]
  },
  {
   "cell_type": "code",
   "execution_count": 32,
   "id": "b664912a",
   "metadata": {
    "ExecuteTime": {
     "end_time": "2022-06-22T09:34:04.953000Z",
     "start_time": "2022-06-22T09:34:04.767Z"
    }
   },
   "outputs": [
    {
     "data": {
      "text/plain": [
       "2×2 CuArray{Float32, 2, CUDA.Mem.DeviceBuffer}:\n",
       " 0.0      0.0\n",
       " 3.39453  3.14453"
      ]
     },
     "execution_count": 32,
     "metadata": {},
     "output_type": "execute_result"
    }
   ],
   "source": [
    "similar(a)"
   ]
  },
  {
   "cell_type": "code",
   "execution_count": 33,
   "id": "c56aaf99",
   "metadata": {
    "ExecuteTime": {
     "end_time": "2022-06-22T09:34:05.602000Z",
     "start_time": "2022-06-22T09:34:05.417Z"
    }
   },
   "outputs": [
    {
     "data": {
      "text/plain": [
       "3-element CuArray{Int64, 1, CUDA.Mem.DeviceBuffer}:\n",
       " 1\n",
       " 2\n",
       " 3"
      ]
     },
     "execution_count": 33,
     "metadata": {},
     "output_type": "execute_result"
    }
   ],
   "source": [
    "a = CuArray([1,2,3])"
   ]
  },
  {
   "cell_type": "markdown",
   "id": "eec0ec99",
   "metadata": {},
   "source": [
    "## Transfert vers le CPU\n",
    "\n",
    "`b` est alloué sur le CPU, et un transfert de données est effectué."
   ]
  },
  {
   "cell_type": "code",
   "execution_count": 34,
   "id": "e6764d2a",
   "metadata": {
    "ExecuteTime": {
     "end_time": "2022-06-22T09:34:06.552000Z",
     "start_time": "2022-06-22T09:34:06.367Z"
    }
   },
   "outputs": [
    {
     "data": {
      "text/plain": [
       "3-element Vector{Int64}:\n",
       " 1\n",
       " 2\n",
       " 3"
      ]
     },
     "execution_count": 34,
     "metadata": {},
     "output_type": "execute_result"
    }
   ],
   "source": [
    "b = Array(a)"
   ]
  },
  {
   "cell_type": "code",
   "execution_count": 35,
   "id": "b99753f6",
   "metadata": {
    "ExecuteTime": {
     "end_time": "2022-06-22T09:34:06.854000Z",
     "start_time": "2022-06-22T09:34:06.670Z"
    }
   },
   "outputs": [
    {
     "data": {
      "text/plain": [
       "3-element Vector{Int64}:\n",
       " 1\n",
       " 2\n",
       " 3"
      ]
     },
     "execution_count": 35,
     "metadata": {},
     "output_type": "execute_result"
    }
   ],
   "source": [
    "collect(a)"
   ]
  },
  {
   "cell_type": "markdown",
   "id": "119a24ff",
   "metadata": {},
   "source": [
    "### Compatibilité avec les tableaux Julia"
   ]
  },
  {
   "cell_type": "code",
   "execution_count": 36,
   "id": "ca12bf5c",
   "metadata": {
    "ExecuteTime": {
     "end_time": "2022-06-22T09:34:07.419000Z",
     "start_time": "2022-06-22T09:34:07.232Z"
    }
   },
   "outputs": [
    {
     "data": {
      "text/plain": [
       "2-element CuArray{Float32, 1, CUDA.Mem.DeviceBuffer}:\n",
       " 1.0\n",
       " 1.0"
      ]
     },
     "execution_count": 36,
     "metadata": {},
     "output_type": "execute_result"
    }
   ],
   "source": [
    "CUDA.ones(2)"
   ]
  },
  {
   "cell_type": "code",
   "execution_count": 37,
   "id": "06c41c67",
   "metadata": {
    "ExecuteTime": {
     "end_time": "2022-06-22T09:34:07.709000Z",
     "start_time": "2022-06-22T09:34:07.501Z"
    }
   },
   "outputs": [
    {
     "data": {
      "text/plain": [
       "2-element CuArray{Float32, 1, CUDA.Mem.DeviceBuffer}:\n",
       " 0.0\n",
       " 0.0"
      ]
     },
     "execution_count": 37,
     "metadata": {},
     "output_type": "execute_result"
    }
   ],
   "source": [
    "a = CUDA.zeros(Float32, 2)"
   ]
  },
  {
   "cell_type": "code",
   "execution_count": 38,
   "id": "cb0f7f2c",
   "metadata": {
    "ExecuteTime": {
     "end_time": "2022-06-22T09:34:08.101000Z",
     "start_time": "2022-06-22T09:34:07.918Z"
    }
   },
   "outputs": [
    {
     "data": {
      "text/plain": [
       "true"
      ]
     },
     "execution_count": 38,
     "metadata": {},
     "output_type": "execute_result"
    }
   ],
   "source": [
    "a isa AbstractArray"
   ]
  },
  {
   "cell_type": "code",
   "execution_count": 39,
   "id": "c84c1a57",
   "metadata": {
    "ExecuteTime": {
     "end_time": "2022-06-22T09:34:08.738000Z",
     "start_time": "2022-06-22T09:34:08.550Z"
    }
   },
   "outputs": [
    {
     "data": {
      "text/plain": [
       "3×4 CuArray{Int64, 2, CUDA.Mem.DeviceBuffer}:\n",
       " 42  42  42  42\n",
       " 42  42  42  42\n",
       " 42  42  42  42"
      ]
     },
     "execution_count": 39,
     "metadata": {},
     "output_type": "execute_result"
    }
   ],
   "source": [
    "CUDA.fill(42, (3,4))"
   ]
  },
  {
   "cell_type": "markdown",
   "id": "a438753e",
   "metadata": {},
   "source": [
    "## Tirages aléatoires"
   ]
  },
  {
   "cell_type": "code",
   "execution_count": 40,
   "id": "6bbeb443",
   "metadata": {
    "ExecuteTime": {
     "end_time": "2022-06-22T09:34:09.871000Z",
     "start_time": "2022-06-22T09:34:09.683Z"
    }
   },
   "outputs": [
    {
     "data": {
      "text/plain": [
       "2×2 CuArray{Float32, 2, CUDA.Mem.DeviceBuffer}:\n",
       " 0.673934  0.313029\n",
       " 0.820146  0.345648"
      ]
     },
     "execution_count": 40,
     "metadata": {},
     "output_type": "execute_result"
    }
   ],
   "source": [
    "CUDA.rand(2, 2)"
   ]
  },
  {
   "cell_type": "code",
   "execution_count": 41,
   "id": "8df509f7",
   "metadata": {
    "ExecuteTime": {
     "end_time": "2022-06-22T09:34:10.292000Z",
     "start_time": "2022-06-22T09:34:10.034Z"
    }
   },
   "outputs": [
    {
     "data": {
      "text/plain": [
       "2×1 CuArray{Float32, 2, CUDA.Mem.DeviceBuffer}:\n",
       " -0.14675647\n",
       "  1.3968824"
      ]
     },
     "execution_count": 41,
     "metadata": {},
     "output_type": "execute_result"
    }
   ],
   "source": [
    "CUDA.randn(2, 1)"
   ]
  },
  {
   "cell_type": "code",
   "execution_count": 42,
   "id": "1605816c",
   "metadata": {
    "ExecuteTime": {
     "end_time": "2022-06-22T09:34:10.885000Z",
     "start_time": "2022-06-22T09:34:10.336Z"
    }
   },
   "outputs": [
    {
     "data": {
      "image/svg+xml": [
       "<?xml version=\"1.0\" encoding=\"utf-8\"?>\n",
       "<svg xmlns=\"http://www.w3.org/2000/svg\" xmlns:xlink=\"http://www.w3.org/1999/xlink\" width=\"600\" height=\"400\" viewBox=\"0 0 2400 1600\">\n",
       "<defs>\n",
       "  <clipPath id=\"clip800\">\n",
       "    <rect x=\"0\" y=\"0\" width=\"2400\" height=\"1600\"/>\n",
       "  </clipPath>\n",
       "</defs>\n",
       "<path clip-path=\"url(#clip800)\" d=\"\n",
       "M0 1600 L2400 1600 L2400 0 L0 0  Z\n",
       "  \" fill=\"#ffffff\" fill-rule=\"evenodd\" fill-opacity=\"1\"/>\n",
       "<defs>\n",
       "  <clipPath id=\"clip801\">\n",
       "    <rect x=\"480\" y=\"0\" width=\"1681\" height=\"1600\"/>\n",
       "  </clipPath>\n",
       "</defs>\n",
       "<path clip-path=\"url(#clip800)\" d=\"\n",
       "M156.598 1486.45 L2352.76 1486.45 L2352.76 47.2441 L156.598 47.2441  Z\n",
       "  \" fill=\"#ffffff\" fill-rule=\"evenodd\" fill-opacity=\"1\"/>\n",
       "<defs>\n",
       "  <clipPath id=\"clip802\">\n",
       "    <rect x=\"156\" y=\"47\" width=\"2197\" height=\"1440\"/>\n",
       "  </clipPath>\n",
       "</defs>\n",
       "<polyline clip-path=\"url(#clip802)\" style=\"stroke:#000000; stroke-linecap:butt; stroke-linejoin:round; stroke-width:2; stroke-opacity:0.1; fill:none\" points=\"\n",
       "  156.598,1486.45 156.598,47.2441 \n",
       "  \"/>\n",
       "<polyline clip-path=\"url(#clip802)\" style=\"stroke:#000000; stroke-linecap:butt; stroke-linejoin:round; stroke-width:2; stroke-opacity:0.1; fill:none\" points=\"\n",
       "  595.83,1486.45 595.83,47.2441 \n",
       "  \"/>\n",
       "<polyline clip-path=\"url(#clip802)\" style=\"stroke:#000000; stroke-linecap:butt; stroke-linejoin:round; stroke-width:2; stroke-opacity:0.1; fill:none\" points=\"\n",
       "  1035.06,1486.45 1035.06,47.2441 \n",
       "  \"/>\n",
       "<polyline clip-path=\"url(#clip802)\" style=\"stroke:#000000; stroke-linecap:butt; stroke-linejoin:round; stroke-width:2; stroke-opacity:0.1; fill:none\" points=\"\n",
       "  1474.29,1486.45 1474.29,47.2441 \n",
       "  \"/>\n",
       "<polyline clip-path=\"url(#clip802)\" style=\"stroke:#000000; stroke-linecap:butt; stroke-linejoin:round; stroke-width:2; stroke-opacity:0.1; fill:none\" points=\"\n",
       "  1913.52,1486.45 1913.52,47.2441 \n",
       "  \"/>\n",
       "<polyline clip-path=\"url(#clip802)\" style=\"stroke:#000000; stroke-linecap:butt; stroke-linejoin:round; stroke-width:2; stroke-opacity:0.1; fill:none\" points=\"\n",
       "  2352.76,1486.45 2352.76,47.2441 \n",
       "  \"/>\n",
       "<polyline clip-path=\"url(#clip800)\" style=\"stroke:#000000; stroke-linecap:butt; stroke-linejoin:round; stroke-width:4; stroke-opacity:1; fill:none\" points=\"\n",
       "  156.598,1486.45 2352.76,1486.45 \n",
       "  \"/>\n",
       "<polyline clip-path=\"url(#clip800)\" style=\"stroke:#000000; stroke-linecap:butt; stroke-linejoin:round; stroke-width:4; stroke-opacity:1; fill:none\" points=\"\n",
       "  156.598,1486.45 156.598,1467.55 \n",
       "  \"/>\n",
       "<polyline clip-path=\"url(#clip800)\" style=\"stroke:#000000; stroke-linecap:butt; stroke-linejoin:round; stroke-width:4; stroke-opacity:1; fill:none\" points=\"\n",
       "  595.83,1486.45 595.83,1467.55 \n",
       "  \"/>\n",
       "<polyline clip-path=\"url(#clip800)\" style=\"stroke:#000000; stroke-linecap:butt; stroke-linejoin:round; stroke-width:4; stroke-opacity:1; fill:none\" points=\"\n",
       "  1035.06,1486.45 1035.06,1467.55 \n",
       "  \"/>\n",
       "<polyline clip-path=\"url(#clip800)\" style=\"stroke:#000000; stroke-linecap:butt; stroke-linejoin:round; stroke-width:4; stroke-opacity:1; fill:none\" points=\"\n",
       "  1474.29,1486.45 1474.29,1467.55 \n",
       "  \"/>\n",
       "<polyline clip-path=\"url(#clip800)\" style=\"stroke:#000000; stroke-linecap:butt; stroke-linejoin:round; stroke-width:4; stroke-opacity:1; fill:none\" points=\"\n",
       "  1913.52,1486.45 1913.52,1467.55 \n",
       "  \"/>\n",
       "<polyline clip-path=\"url(#clip800)\" style=\"stroke:#000000; stroke-linecap:butt; stroke-linejoin:round; stroke-width:4; stroke-opacity:1; fill:none\" points=\"\n",
       "  2352.76,1486.45 2352.76,1467.55 \n",
       "  \"/>\n",
       "<path clip-path=\"url(#clip800)\" d=\"M133.983 1517.37 Q130.372 1517.37 128.543 1520.93 Q126.737 1524.47 126.737 1531.6 Q126.737 1538.71 128.543 1542.27 Q130.372 1545.82 133.983 1545.82 Q137.617 1545.82 139.422 1542.27 Q141.251 1538.71 141.251 1531.6 Q141.251 1524.47 139.422 1520.93 Q137.617 1517.37 133.983 1517.37 M133.983 1513.66 Q139.793 1513.66 142.848 1518.27 Q145.927 1522.85 145.927 1531.6 Q145.927 1540.33 142.848 1544.94 Q139.793 1549.52 133.983 1549.52 Q128.172 1549.52 125.094 1544.94 Q122.038 1540.33 122.038 1531.6 Q122.038 1522.85 125.094 1518.27 Q128.172 1513.66 133.983 1513.66 Z\" fill=\"#000000\" fill-rule=\"evenodd\" fill-opacity=\"1\" /><path clip-path=\"url(#clip800)\" d=\"M154.145 1542.97 L159.029 1542.97 L159.029 1548.85 L154.145 1548.85 L154.145 1542.97 Z\" fill=\"#000000\" fill-rule=\"evenodd\" fill-opacity=\"1\" /><path clip-path=\"url(#clip800)\" d=\"M179.214 1517.37 Q175.603 1517.37 173.774 1520.93 Q171.969 1524.47 171.969 1531.6 Q171.969 1538.71 173.774 1542.27 Q175.603 1545.82 179.214 1545.82 Q182.848 1545.82 184.654 1542.27 Q186.482 1538.71 186.482 1531.6 Q186.482 1524.47 184.654 1520.93 Q182.848 1517.37 179.214 1517.37 M179.214 1513.66 Q185.024 1513.66 188.08 1518.27 Q191.158 1522.85 191.158 1531.6 Q191.158 1540.33 188.08 1544.94 Q185.024 1549.52 179.214 1549.52 Q173.404 1549.52 170.325 1544.94 Q167.269 1540.33 167.269 1531.6 Q167.269 1522.85 170.325 1518.27 Q173.404 1513.66 179.214 1513.66 Z\" fill=\"#000000\" fill-rule=\"evenodd\" fill-opacity=\"1\" /><path clip-path=\"url(#clip800)\" d=\"M574.013 1517.37 Q570.402 1517.37 568.573 1520.93 Q566.767 1524.47 566.767 1531.6 Q566.767 1538.71 568.573 1542.27 Q570.402 1545.82 574.013 1545.82 Q577.647 1545.82 579.453 1542.27 Q581.281 1538.71 581.281 1531.6 Q581.281 1524.47 579.453 1520.93 Q577.647 1517.37 574.013 1517.37 M574.013 1513.66 Q579.823 1513.66 582.878 1518.27 Q585.957 1522.85 585.957 1531.6 Q585.957 1540.33 582.878 1544.94 Q579.823 1549.52 574.013 1549.52 Q568.203 1549.52 565.124 1544.94 Q562.068 1540.33 562.068 1531.6 Q562.068 1522.85 565.124 1518.27 Q568.203 1513.66 574.013 1513.66 Z\" fill=\"#000000\" fill-rule=\"evenodd\" fill-opacity=\"1\" /><path clip-path=\"url(#clip800)\" d=\"M594.175 1542.97 L599.059 1542.97 L599.059 1548.85 L594.175 1548.85 L594.175 1542.97 Z\" fill=\"#000000\" fill-rule=\"evenodd\" fill-opacity=\"1\" /><path clip-path=\"url(#clip800)\" d=\"M613.272 1544.91 L629.591 1544.91 L629.591 1548.85 L607.647 1548.85 L607.647 1544.91 Q610.309 1542.16 614.892 1537.53 Q619.499 1532.88 620.679 1531.53 Q622.925 1529.01 623.804 1527.27 Q624.707 1525.51 624.707 1523.82 Q624.707 1521.07 622.762 1519.33 Q620.841 1517.6 617.739 1517.6 Q615.54 1517.6 613.087 1518.36 Q610.656 1519.13 607.878 1520.68 L607.878 1515.95 Q610.702 1514.82 613.156 1514.24 Q615.61 1513.66 617.647 1513.66 Q623.017 1513.66 626.212 1516.35 Q629.406 1519.03 629.406 1523.52 Q629.406 1525.65 628.596 1527.57 Q627.809 1529.47 625.702 1532.07 Q625.124 1532.74 622.022 1535.95 Q618.92 1539.15 613.272 1544.91 Z\" fill=\"#000000\" fill-rule=\"evenodd\" fill-opacity=\"1\" /><path clip-path=\"url(#clip800)\" d=\"M1012.2 1517.37 Q1008.59 1517.37 1006.76 1520.93 Q1004.96 1524.47 1004.96 1531.6 Q1004.96 1538.71 1006.76 1542.27 Q1008.59 1545.82 1012.2 1545.82 Q1015.84 1545.82 1017.64 1542.27 Q1019.47 1538.71 1019.47 1531.6 Q1019.47 1524.47 1017.64 1520.93 Q1015.84 1517.37 1012.2 1517.37 M1012.2 1513.66 Q1018.01 1513.66 1021.07 1518.27 Q1024.15 1522.85 1024.15 1531.6 Q1024.15 1540.33 1021.07 1544.94 Q1018.01 1549.52 1012.2 1549.52 Q1006.39 1549.52 1003.31 1544.94 Q1000.26 1540.33 1000.26 1531.6 Q1000.26 1522.85 1003.31 1518.27 Q1006.39 1513.66 1012.2 1513.66 Z\" fill=\"#000000\" fill-rule=\"evenodd\" fill-opacity=\"1\" /><path clip-path=\"url(#clip800)\" d=\"M1032.36 1542.97 L1037.25 1542.97 L1037.25 1548.85 L1032.36 1548.85 L1032.36 1542.97 Z\" fill=\"#000000\" fill-rule=\"evenodd\" fill-opacity=\"1\" /><path clip-path=\"url(#clip800)\" d=\"M1060.28 1518.36 L1048.48 1536.81 L1060.28 1536.81 L1060.28 1518.36 M1059.05 1514.29 L1064.93 1514.29 L1064.93 1536.81 L1069.86 1536.81 L1069.86 1540.7 L1064.93 1540.7 L1064.93 1548.85 L1060.28 1548.85 L1060.28 1540.7 L1044.68 1540.7 L1044.68 1536.19 L1059.05 1514.29 Z\" fill=\"#000000\" fill-rule=\"evenodd\" fill-opacity=\"1\" /><path clip-path=\"url(#clip800)\" d=\"M1451.6 1517.37 Q1447.99 1517.37 1446.16 1520.93 Q1444.35 1524.47 1444.35 1531.6 Q1444.35 1538.71 1446.16 1542.27 Q1447.99 1545.82 1451.6 1545.82 Q1455.23 1545.82 1457.04 1542.27 Q1458.86 1538.71 1458.86 1531.6 Q1458.86 1524.47 1457.04 1520.93 Q1455.23 1517.37 1451.6 1517.37 M1451.6 1513.66 Q1457.41 1513.66 1460.46 1518.27 Q1463.54 1522.85 1463.54 1531.6 Q1463.54 1540.33 1460.46 1544.94 Q1457.41 1549.52 1451.6 1549.52 Q1445.79 1549.52 1442.71 1544.94 Q1439.65 1540.33 1439.65 1531.6 Q1439.65 1522.85 1442.71 1518.27 Q1445.79 1513.66 1451.6 1513.66 Z\" fill=\"#000000\" fill-rule=\"evenodd\" fill-opacity=\"1\" /><path clip-path=\"url(#clip800)\" d=\"M1471.76 1542.97 L1476.64 1542.97 L1476.64 1548.85 L1471.76 1548.85 L1471.76 1542.97 Z\" fill=\"#000000\" fill-rule=\"evenodd\" fill-opacity=\"1\" /><path clip-path=\"url(#clip800)\" d=\"M1497.41 1529.7 Q1494.26 1529.7 1492.41 1531.86 Q1490.58 1534.01 1490.58 1537.76 Q1490.58 1541.49 1492.41 1543.66 Q1494.26 1545.82 1497.41 1545.82 Q1500.55 1545.82 1502.38 1543.66 Q1504.23 1541.49 1504.23 1537.76 Q1504.23 1534.01 1502.38 1531.86 Q1500.55 1529.7 1497.41 1529.7 M1506.69 1515.05 L1506.69 1519.31 Q1504.93 1518.48 1503.12 1518.04 Q1501.34 1517.6 1499.58 1517.6 Q1494.95 1517.6 1492.5 1520.72 Q1490.07 1523.85 1489.72 1530.17 Q1491.09 1528.15 1493.15 1527.09 Q1495.21 1526 1497.68 1526 Q1502.89 1526 1505.9 1529.17 Q1508.93 1532.32 1508.93 1537.76 Q1508.93 1543.08 1505.79 1546.3 Q1502.64 1549.52 1497.41 1549.52 Q1491.41 1549.52 1488.24 1544.94 Q1485.07 1540.33 1485.07 1531.6 Q1485.07 1523.41 1488.96 1518.55 Q1492.85 1513.66 1499.4 1513.66 Q1501.16 1513.66 1502.94 1514.01 Q1504.74 1514.36 1506.69 1515.05 Z\" fill=\"#000000\" fill-rule=\"evenodd\" fill-opacity=\"1\" /><path clip-path=\"url(#clip800)\" d=\"M1890.96 1517.37 Q1887.34 1517.37 1885.52 1520.93 Q1883.71 1524.47 1883.71 1531.6 Q1883.71 1538.71 1885.52 1542.27 Q1887.34 1545.82 1890.96 1545.82 Q1894.59 1545.82 1896.39 1542.27 Q1898.22 1538.71 1898.22 1531.6 Q1898.22 1524.47 1896.39 1520.93 Q1894.59 1517.37 1890.96 1517.37 M1890.96 1513.66 Q1896.77 1513.66 1899.82 1518.27 Q1902.9 1522.85 1902.9 1531.6 Q1902.9 1540.33 1899.82 1544.94 Q1896.77 1549.52 1890.96 1549.52 Q1885.14 1549.52 1882.07 1544.94 Q1879.01 1540.33 1879.01 1531.6 Q1879.01 1522.85 1882.07 1518.27 Q1885.14 1513.66 1890.96 1513.66 Z\" fill=\"#000000\" fill-rule=\"evenodd\" fill-opacity=\"1\" /><path clip-path=\"url(#clip800)\" d=\"M1911.12 1542.97 L1916 1542.97 L1916 1548.85 L1911.12 1548.85 L1911.12 1542.97 Z\" fill=\"#000000\" fill-rule=\"evenodd\" fill-opacity=\"1\" /><path clip-path=\"url(#clip800)\" d=\"M1936.19 1532.44 Q1932.85 1532.44 1930.93 1534.22 Q1929.03 1536 1929.03 1539.13 Q1929.03 1542.25 1930.93 1544.03 Q1932.85 1545.82 1936.19 1545.82 Q1939.52 1545.82 1941.44 1544.03 Q1943.36 1542.23 1943.36 1539.13 Q1943.36 1536 1941.44 1534.22 Q1939.54 1532.44 1936.19 1532.44 M1931.51 1530.45 Q1928.5 1529.7 1926.81 1527.64 Q1925.14 1525.58 1925.14 1522.62 Q1925.14 1518.48 1928.08 1516.07 Q1931.05 1513.66 1936.19 1513.66 Q1941.35 1513.66 1944.29 1516.07 Q1947.23 1518.48 1947.23 1522.62 Q1947.23 1525.58 1945.54 1527.64 Q1943.87 1529.7 1940.89 1530.45 Q1944.26 1531.23 1946.14 1533.52 Q1948.04 1535.82 1948.04 1539.13 Q1948.04 1544.15 1944.96 1546.83 Q1941.9 1549.52 1936.19 1549.52 Q1930.47 1549.52 1927.39 1546.83 Q1924.33 1544.15 1924.33 1539.13 Q1924.33 1535.82 1926.23 1533.52 Q1928.13 1531.23 1931.51 1530.45 M1929.8 1523.06 Q1929.8 1525.75 1931.46 1527.25 Q1933.15 1528.76 1936.19 1528.76 Q1939.2 1528.76 1940.89 1527.25 Q1942.6 1525.75 1942.6 1523.06 Q1942.6 1520.38 1940.89 1518.87 Q1939.2 1517.37 1936.19 1517.37 Q1933.15 1517.37 1931.46 1518.87 Q1929.8 1520.38 1929.8 1523.06 Z\" fill=\"#000000\" fill-rule=\"evenodd\" fill-opacity=\"1\" /><path clip-path=\"url(#clip800)\" d=\"M2319.91 1544.91 L2327.55 1544.91 L2327.55 1518.55 L2319.24 1520.21 L2319.24 1515.95 L2327.5 1514.29 L2332.18 1514.29 L2332.18 1544.91 L2339.82 1544.91 L2339.82 1548.85 L2319.91 1548.85 L2319.91 1544.91 Z\" fill=\"#000000\" fill-rule=\"evenodd\" fill-opacity=\"1\" /><path clip-path=\"url(#clip800)\" d=\"M2349.26 1542.97 L2354.14 1542.97 L2354.14 1548.85 L2349.26 1548.85 L2349.26 1542.97 Z\" fill=\"#000000\" fill-rule=\"evenodd\" fill-opacity=\"1\" /><path clip-path=\"url(#clip800)\" d=\"M2374.33 1517.37 Q2370.72 1517.37 2368.89 1520.93 Q2367.08 1524.47 2367.08 1531.6 Q2367.08 1538.71 2368.89 1542.27 Q2370.72 1545.82 2374.33 1545.82 Q2377.96 1545.82 2379.77 1542.27 Q2381.6 1538.71 2381.6 1531.6 Q2381.6 1524.47 2379.77 1520.93 Q2377.96 1517.37 2374.33 1517.37 M2374.33 1513.66 Q2380.14 1513.66 2383.2 1518.27 Q2386.27 1522.85 2386.27 1531.6 Q2386.27 1540.33 2383.2 1544.94 Q2380.14 1549.52 2374.33 1549.52 Q2368.52 1549.52 2365.44 1544.94 Q2362.39 1540.33 2362.39 1531.6 Q2362.39 1522.85 2365.44 1518.27 Q2368.52 1513.66 2374.33 1513.66 Z\" fill=\"#000000\" fill-rule=\"evenodd\" fill-opacity=\"1\" /><polyline clip-path=\"url(#clip802)\" style=\"stroke:#000000; stroke-linecap:butt; stroke-linejoin:round; stroke-width:2; stroke-opacity:0.1; fill:none\" points=\"\n",
       "  156.598,1486.45 2352.76,1486.45 \n",
       "  \"/>\n",
       "<polyline clip-path=\"url(#clip802)\" style=\"stroke:#000000; stroke-linecap:butt; stroke-linejoin:round; stroke-width:2; stroke-opacity:0.1; fill:none\" points=\"\n",
       "  156.598,1198.61 2352.76,1198.61 \n",
       "  \"/>\n",
       "<polyline clip-path=\"url(#clip802)\" style=\"stroke:#000000; stroke-linecap:butt; stroke-linejoin:round; stroke-width:2; stroke-opacity:0.1; fill:none\" points=\"\n",
       "  156.598,910.766 2352.76,910.766 \n",
       "  \"/>\n",
       "<polyline clip-path=\"url(#clip802)\" style=\"stroke:#000000; stroke-linecap:butt; stroke-linejoin:round; stroke-width:2; stroke-opacity:0.1; fill:none\" points=\"\n",
       "  156.598,622.926 2352.76,622.926 \n",
       "  \"/>\n",
       "<polyline clip-path=\"url(#clip802)\" style=\"stroke:#000000; stroke-linecap:butt; stroke-linejoin:round; stroke-width:2; stroke-opacity:0.1; fill:none\" points=\"\n",
       "  156.598,335.085 2352.76,335.085 \n",
       "  \"/>\n",
       "<polyline clip-path=\"url(#clip802)\" style=\"stroke:#000000; stroke-linecap:butt; stroke-linejoin:round; stroke-width:2; stroke-opacity:0.1; fill:none\" points=\"\n",
       "  156.598,47.2441 2352.76,47.2441 \n",
       "  \"/>\n",
       "<polyline clip-path=\"url(#clip800)\" style=\"stroke:#000000; stroke-linecap:butt; stroke-linejoin:round; stroke-width:4; stroke-opacity:1; fill:none\" points=\"\n",
       "  156.598,1486.45 156.598,47.2441 \n",
       "  \"/>\n",
       "<polyline clip-path=\"url(#clip800)\" style=\"stroke:#000000; stroke-linecap:butt; stroke-linejoin:round; stroke-width:4; stroke-opacity:1; fill:none\" points=\"\n",
       "  156.598,1486.45 175.496,1486.45 \n",
       "  \"/>\n",
       "<polyline clip-path=\"url(#clip800)\" style=\"stroke:#000000; stroke-linecap:butt; stroke-linejoin:round; stroke-width:4; stroke-opacity:1; fill:none\" points=\"\n",
       "  156.598,1198.61 175.496,1198.61 \n",
       "  \"/>\n",
       "<polyline clip-path=\"url(#clip800)\" style=\"stroke:#000000; stroke-linecap:butt; stroke-linejoin:round; stroke-width:4; stroke-opacity:1; fill:none\" points=\"\n",
       "  156.598,910.766 175.496,910.766 \n",
       "  \"/>\n",
       "<polyline clip-path=\"url(#clip800)\" style=\"stroke:#000000; stroke-linecap:butt; stroke-linejoin:round; stroke-width:4; stroke-opacity:1; fill:none\" points=\"\n",
       "  156.598,622.926 175.496,622.926 \n",
       "  \"/>\n",
       "<polyline clip-path=\"url(#clip800)\" style=\"stroke:#000000; stroke-linecap:butt; stroke-linejoin:round; stroke-width:4; stroke-opacity:1; fill:none\" points=\"\n",
       "  156.598,335.085 175.496,335.085 \n",
       "  \"/>\n",
       "<polyline clip-path=\"url(#clip800)\" style=\"stroke:#000000; stroke-linecap:butt; stroke-linejoin:round; stroke-width:4; stroke-opacity:1; fill:none\" points=\"\n",
       "  156.598,47.2441 175.496,47.2441 \n",
       "  \"/>\n",
       "<path clip-path=\"url(#clip800)\" d=\"M63.4226 1472.25 Q59.8115 1472.25 57.9828 1475.81 Q56.1773 1479.35 56.1773 1486.48 Q56.1773 1493.59 57.9828 1497.15 Q59.8115 1500.7 63.4226 1500.7 Q67.0569 1500.7 68.8624 1497.15 Q70.6911 1493.59 70.6911 1486.48 Q70.6911 1479.35 68.8624 1475.81 Q67.0569 1472.25 63.4226 1472.25 M63.4226 1468.54 Q69.2328 1468.54 72.2883 1473.15 Q75.367 1477.73 75.367 1486.48 Q75.367 1495.21 72.2883 1499.82 Q69.2328 1504.4 63.4226 1504.4 Q57.6125 1504.4 54.5338 1499.82 Q51.4782 1495.21 51.4782 1486.48 Q51.4782 1477.73 54.5338 1473.15 Q57.6125 1468.54 63.4226 1468.54 Z\" fill=\"#000000\" fill-rule=\"evenodd\" fill-opacity=\"1\" /><path clip-path=\"url(#clip800)\" d=\"M83.5845 1497.85 L88.4688 1497.85 L88.4688 1503.73 L83.5845 1503.73 L83.5845 1497.85 Z\" fill=\"#000000\" fill-rule=\"evenodd\" fill-opacity=\"1\" /><path clip-path=\"url(#clip800)\" d=\"M108.654 1472.25 Q105.043 1472.25 103.214 1475.81 Q101.409 1479.35 101.409 1486.48 Q101.409 1493.59 103.214 1497.15 Q105.043 1500.7 108.654 1500.7 Q112.288 1500.7 114.094 1497.15 Q115.922 1493.59 115.922 1486.48 Q115.922 1479.35 114.094 1475.81 Q112.288 1472.25 108.654 1472.25 M108.654 1468.54 Q114.464 1468.54 117.52 1473.15 Q120.598 1477.73 120.598 1486.48 Q120.598 1495.21 117.52 1499.82 Q114.464 1504.4 108.654 1504.4 Q102.844 1504.4 99.765 1499.82 Q96.7095 1495.21 96.7095 1486.48 Q96.7095 1477.73 99.765 1473.15 Q102.844 1468.54 108.654 1468.54 Z\" fill=\"#000000\" fill-rule=\"evenodd\" fill-opacity=\"1\" /><path clip-path=\"url(#clip800)\" d=\"M65.0198 1184.41 Q61.4087 1184.41 59.58 1187.97 Q57.7745 1191.51 57.7745 1198.64 Q57.7745 1205.75 59.58 1209.31 Q61.4087 1212.85 65.0198 1212.85 Q68.6541 1212.85 70.4596 1209.31 Q72.2883 1205.75 72.2883 1198.64 Q72.2883 1191.51 70.4596 1187.97 Q68.6541 1184.41 65.0198 1184.41 M65.0198 1180.7 Q70.83 1180.7 73.8855 1185.31 Q76.9642 1189.89 76.9642 1198.64 Q76.9642 1207.37 73.8855 1211.98 Q70.83 1216.56 65.0198 1216.56 Q59.2097 1216.56 56.131 1211.98 Q53.0754 1207.37 53.0754 1198.64 Q53.0754 1189.89 56.131 1185.31 Q59.2097 1180.7 65.0198 1180.7 Z\" fill=\"#000000\" fill-rule=\"evenodd\" fill-opacity=\"1\" /><path clip-path=\"url(#clip800)\" d=\"M85.1818 1210.01 L90.066 1210.01 L90.066 1215.89 L85.1818 1215.89 L85.1818 1210.01 Z\" fill=\"#000000\" fill-rule=\"evenodd\" fill-opacity=\"1\" /><path clip-path=\"url(#clip800)\" d=\"M104.279 1211.95 L120.598 1211.95 L120.598 1215.89 L98.6539 1215.89 L98.6539 1211.95 Q101.316 1209.2 105.899 1204.57 Q110.506 1199.91 111.686 1198.57 Q113.932 1196.05 114.811 1194.31 Q115.714 1192.55 115.714 1190.86 Q115.714 1188.11 113.77 1186.37 Q111.848 1184.64 108.746 1184.64 Q106.547 1184.64 104.094 1185.4 Q101.663 1186.17 98.8854 1187.72 L98.8854 1182.99 Q101.709 1181.86 104.163 1181.28 Q106.617 1180.7 108.654 1180.7 Q114.024 1180.7 117.219 1183.39 Q120.413 1186.07 120.413 1190.56 Q120.413 1192.69 119.603 1194.61 Q118.816 1196.51 116.709 1199.1 Q116.131 1199.78 113.029 1202.99 Q109.927 1206.19 104.279 1211.95 Z\" fill=\"#000000\" fill-rule=\"evenodd\" fill-opacity=\"1\" /><path clip-path=\"url(#clip800)\" d=\"M62.9365 896.565 Q59.3254 896.565 57.4967 900.13 Q55.6912 903.671 55.6912 910.801 Q55.6912 917.908 57.4967 921.472 Q59.3254 925.014 62.9365 925.014 Q66.5707 925.014 68.3763 921.472 Q70.205 917.908 70.205 910.801 Q70.205 903.671 68.3763 900.13 Q66.5707 896.565 62.9365 896.565 M62.9365 892.861 Q68.7467 892.861 71.8022 897.468 Q74.8809 902.051 74.8809 910.801 Q74.8809 919.528 71.8022 924.134 Q68.7467 928.718 62.9365 928.718 Q57.1264 928.718 54.0477 924.134 Q50.9921 919.528 50.9921 910.801 Q50.9921 902.051 54.0477 897.468 Q57.1264 892.861 62.9365 892.861 Z\" fill=\"#000000\" fill-rule=\"evenodd\" fill-opacity=\"1\" /><path clip-path=\"url(#clip800)\" d=\"M83.0984 922.167 L87.9827 922.167 L87.9827 928.046 L83.0984 928.046 L83.0984 922.167 Z\" fill=\"#000000\" fill-rule=\"evenodd\" fill-opacity=\"1\" /><path clip-path=\"url(#clip800)\" d=\"M111.015 897.56 L99.2095 916.009 L111.015 916.009 L111.015 897.56 M109.788 893.486 L115.668 893.486 L115.668 916.009 L120.598 916.009 L120.598 919.898 L115.668 919.898 L115.668 928.046 L111.015 928.046 L111.015 919.898 L95.4132 919.898 L95.4132 915.384 L109.788 893.486 Z\" fill=\"#000000\" fill-rule=\"evenodd\" fill-opacity=\"1\" /><path clip-path=\"url(#clip800)\" d=\"M63.2606 608.724 Q59.6495 608.724 57.8208 612.289 Q56.0152 615.831 56.0152 622.96 Q56.0152 630.067 57.8208 633.632 Q59.6495 637.173 63.2606 637.173 Q66.8948 637.173 68.7004 633.632 Q70.5291 630.067 70.5291 622.96 Q70.5291 615.831 68.7004 612.289 Q66.8948 608.724 63.2606 608.724 M63.2606 605.021 Q69.0707 605.021 72.1263 609.627 Q75.205 614.21 75.205 622.96 Q75.205 631.687 72.1263 636.294 Q69.0707 640.877 63.2606 640.877 Q57.4504 640.877 54.3717 636.294 Q51.3162 631.687 51.3162 622.96 Q51.3162 614.21 54.3717 609.627 Q57.4504 605.021 63.2606 605.021 Z\" fill=\"#000000\" fill-rule=\"evenodd\" fill-opacity=\"1\" /><path clip-path=\"url(#clip800)\" d=\"M83.4225 634.326 L88.3067 634.326 L88.3067 640.206 L83.4225 640.206 L83.4225 634.326 Z\" fill=\"#000000\" fill-rule=\"evenodd\" fill-opacity=\"1\" /><path clip-path=\"url(#clip800)\" d=\"M109.071 621.062 Q105.922 621.062 104.071 623.215 Q102.242 625.368 102.242 629.118 Q102.242 632.845 104.071 635.02 Q105.922 637.173 109.071 637.173 Q112.219 637.173 114.047 635.02 Q115.899 632.845 115.899 629.118 Q115.899 625.368 114.047 623.215 Q112.219 621.062 109.071 621.062 M118.353 606.409 L118.353 610.669 Q116.594 609.835 114.788 609.396 Q113.006 608.956 111.246 608.956 Q106.617 608.956 104.163 612.081 Q101.733 615.206 101.385 621.525 Q102.751 619.511 104.811 618.446 Q106.871 617.359 109.348 617.359 Q114.557 617.359 117.566 620.53 Q120.598 623.678 120.598 629.118 Q120.598 634.442 117.45 637.659 Q114.302 640.877 109.071 640.877 Q103.075 640.877 99.9039 636.294 Q96.7326 631.687 96.7326 622.96 Q96.7326 614.766 100.621 609.905 Q104.51 605.021 111.061 605.021 Q112.82 605.021 114.603 605.368 Q116.408 605.715 118.353 606.409 Z\" fill=\"#000000\" fill-rule=\"evenodd\" fill-opacity=\"1\" /><path clip-path=\"url(#clip800)\" d=\"M63.5152 320.884 Q59.9041 320.884 58.0754 324.448 Q56.2699 327.99 56.2699 335.12 Q56.2699 342.226 58.0754 345.791 Q59.9041 349.332 63.5152 349.332 Q67.1494 349.332 68.955 345.791 Q70.7837 342.226 70.7837 335.12 Q70.7837 327.99 68.955 324.448 Q67.1494 320.884 63.5152 320.884 M63.5152 317.18 Q69.3254 317.18 72.3809 321.786 Q75.4596 326.37 75.4596 335.12 Q75.4596 343.846 72.3809 348.453 Q69.3254 353.036 63.5152 353.036 Q57.7051 353.036 54.6264 348.453 Q51.5708 343.846 51.5708 335.12 Q51.5708 326.37 54.6264 321.786 Q57.7051 317.18 63.5152 317.18 Z\" fill=\"#000000\" fill-rule=\"evenodd\" fill-opacity=\"1\" /><path clip-path=\"url(#clip800)\" d=\"M83.6771 346.485 L88.5614 346.485 L88.5614 352.365 L83.6771 352.365 L83.6771 346.485 Z\" fill=\"#000000\" fill-rule=\"evenodd\" fill-opacity=\"1\" /><path clip-path=\"url(#clip800)\" d=\"M108.746 335.953 Q105.413 335.953 103.492 337.735 Q101.594 339.518 101.594 342.643 Q101.594 345.768 103.492 347.55 Q105.413 349.332 108.746 349.332 Q112.08 349.332 114.001 347.55 Q115.922 345.745 115.922 342.643 Q115.922 339.518 114.001 337.735 Q112.103 335.953 108.746 335.953 M104.071 333.962 Q101.061 333.221 99.3715 331.161 Q97.7048 329.101 97.7048 326.138 Q97.7048 321.995 100.645 319.587 Q103.608 317.18 108.746 317.18 Q113.908 317.18 116.848 319.587 Q119.788 321.995 119.788 326.138 Q119.788 329.101 118.098 331.161 Q116.432 333.221 113.445 333.962 Q116.825 334.749 118.7 337.041 Q120.598 339.333 120.598 342.643 Q120.598 347.666 117.52 350.351 Q114.464 353.036 108.746 353.036 Q103.029 353.036 99.9502 350.351 Q96.8947 347.666 96.8947 342.643 Q96.8947 339.333 98.7928 337.041 Q100.691 334.749 104.071 333.962 M102.358 326.578 Q102.358 329.263 104.024 330.768 Q105.714 332.272 108.746 332.272 Q111.756 332.272 113.445 330.768 Q115.158 329.263 115.158 326.578 Q115.158 323.893 113.445 322.388 Q111.756 320.884 108.746 320.884 Q105.714 320.884 104.024 322.388 Q102.358 323.893 102.358 326.578 Z\" fill=\"#000000\" fill-rule=\"evenodd\" fill-opacity=\"1\" /><path clip-path=\"url(#clip800)\" d=\"M54.2328 60.5889 L61.8717 60.5889 L61.8717 34.2233 L53.5616 35.89 L53.5616 31.6308 L61.8254 29.9641 L66.5013 29.9641 L66.5013 60.5889 L74.1402 60.5889 L74.1402 64.5241 L54.2328 64.5241 L54.2328 60.5889 Z\" fill=\"#000000\" fill-rule=\"evenodd\" fill-opacity=\"1\" /><path clip-path=\"url(#clip800)\" d=\"M83.5845 58.6445 L88.4688 58.6445 L88.4688 64.5241 L83.5845 64.5241 L83.5845 58.6445 Z\" fill=\"#000000\" fill-rule=\"evenodd\" fill-opacity=\"1\" /><path clip-path=\"url(#clip800)\" d=\"M108.654 33.0428 Q105.043 33.0428 103.214 36.6076 Q101.409 40.1492 101.409 47.2788 Q101.409 54.3853 103.214 57.9501 Q105.043 61.4917 108.654 61.4917 Q112.288 61.4917 114.094 57.9501 Q115.922 54.3853 115.922 47.2788 Q115.922 40.1492 114.094 36.6076 Q112.288 33.0428 108.654 33.0428 M108.654 29.3391 Q114.464 29.3391 117.52 33.9456 Q120.598 38.5289 120.598 47.2788 Q120.598 56.0056 117.52 60.6121 Q114.464 65.1954 108.654 65.1954 Q102.844 65.1954 99.765 60.6121 Q96.7095 56.0056 96.7095 47.2788 Q96.7095 38.5289 99.765 33.9456 Q102.844 29.3391 108.654 29.3391 Z\" fill=\"#000000\" fill-rule=\"evenodd\" fill-opacity=\"1\" /><circle clip-path=\"url(#clip802)\" cx=\"178.56\" cy=\"1101.3\" r=\"14\" fill=\"#009af9\" fill-rule=\"evenodd\" fill-opacity=\"1\" stroke=\"#000000\" stroke-opacity=\"1\" stroke-width=\"3.2\"/>\n",
       "<circle clip-path=\"url(#clip802)\" cx=\"200.521\" cy=\"1412.35\" r=\"14\" fill=\"#009af9\" fill-rule=\"evenodd\" fill-opacity=\"1\" stroke=\"#000000\" stroke-opacity=\"1\" stroke-width=\"3.2\"/>\n",
       "<circle clip-path=\"url(#clip802)\" cx=\"222.483\" cy=\"976.968\" r=\"14\" fill=\"#009af9\" fill-rule=\"evenodd\" fill-opacity=\"1\" stroke=\"#000000\" stroke-opacity=\"1\" stroke-width=\"3.2\"/>\n",
       "<circle clip-path=\"url(#clip802)\" cx=\"244.445\" cy=\"1123.47\" r=\"14\" fill=\"#009af9\" fill-rule=\"evenodd\" fill-opacity=\"1\" stroke=\"#000000\" stroke-opacity=\"1\" stroke-width=\"3.2\"/>\n",
       "<circle clip-path=\"url(#clip802)\" cx=\"266.406\" cy=\"979.481\" r=\"14\" fill=\"#009af9\" fill-rule=\"evenodd\" fill-opacity=\"1\" stroke=\"#000000\" stroke-opacity=\"1\" stroke-width=\"3.2\"/>\n",
       "<circle clip-path=\"url(#clip802)\" cx=\"288.368\" cy=\"1083.76\" r=\"14\" fill=\"#009af9\" fill-rule=\"evenodd\" fill-opacity=\"1\" stroke=\"#000000\" stroke-opacity=\"1\" stroke-width=\"3.2\"/>\n",
       "<circle clip-path=\"url(#clip802)\" cx=\"310.329\" cy=\"1159.12\" r=\"14\" fill=\"#009af9\" fill-rule=\"evenodd\" fill-opacity=\"1\" stroke=\"#000000\" stroke-opacity=\"1\" stroke-width=\"3.2\"/>\n",
       "<circle clip-path=\"url(#clip802)\" cx=\"332.291\" cy=\"885.699\" r=\"14\" fill=\"#009af9\" fill-rule=\"evenodd\" fill-opacity=\"1\" stroke=\"#000000\" stroke-opacity=\"1\" stroke-width=\"3.2\"/>\n",
       "<circle clip-path=\"url(#clip802)\" cx=\"354.252\" cy=\"1339.98\" r=\"14\" fill=\"#009af9\" fill-rule=\"evenodd\" fill-opacity=\"1\" stroke=\"#000000\" stroke-opacity=\"1\" stroke-width=\"3.2\"/>\n",
       "<circle clip-path=\"url(#clip802)\" cx=\"376.214\" cy=\"1129.12\" r=\"14\" fill=\"#009af9\" fill-rule=\"evenodd\" fill-opacity=\"1\" stroke=\"#000000\" stroke-opacity=\"1\" stroke-width=\"3.2\"/>\n",
       "<circle clip-path=\"url(#clip802)\" cx=\"398.176\" cy=\"1135.56\" r=\"14\" fill=\"#009af9\" fill-rule=\"evenodd\" fill-opacity=\"1\" stroke=\"#000000\" stroke-opacity=\"1\" stroke-width=\"3.2\"/>\n",
       "<circle clip-path=\"url(#clip802)\" cx=\"420.137\" cy=\"873.648\" r=\"14\" fill=\"#009af9\" fill-rule=\"evenodd\" fill-opacity=\"1\" stroke=\"#000000\" stroke-opacity=\"1\" stroke-width=\"3.2\"/>\n",
       "<circle clip-path=\"url(#clip802)\" cx=\"442.099\" cy=\"1050.31\" r=\"14\" fill=\"#009af9\" fill-rule=\"evenodd\" fill-opacity=\"1\" stroke=\"#000000\" stroke-opacity=\"1\" stroke-width=\"3.2\"/>\n",
       "<circle clip-path=\"url(#clip802)\" cx=\"464.06\" cy=\"907.796\" r=\"14\" fill=\"#009af9\" fill-rule=\"evenodd\" fill-opacity=\"1\" stroke=\"#000000\" stroke-opacity=\"1\" stroke-width=\"3.2\"/>\n",
       "<circle clip-path=\"url(#clip802)\" cx=\"486.022\" cy=\"1062.6\" r=\"14\" fill=\"#009af9\" fill-rule=\"evenodd\" fill-opacity=\"1\" stroke=\"#000000\" stroke-opacity=\"1\" stroke-width=\"3.2\"/>\n",
       "<circle clip-path=\"url(#clip802)\" cx=\"507.983\" cy=\"1209.7\" r=\"14\" fill=\"#009af9\" fill-rule=\"evenodd\" fill-opacity=\"1\" stroke=\"#000000\" stroke-opacity=\"1\" stroke-width=\"3.2\"/>\n",
       "<circle clip-path=\"url(#clip802)\" cx=\"529.945\" cy=\"1012.54\" r=\"14\" fill=\"#009af9\" fill-rule=\"evenodd\" fill-opacity=\"1\" stroke=\"#000000\" stroke-opacity=\"1\" stroke-width=\"3.2\"/>\n",
       "<circle clip-path=\"url(#clip802)\" cx=\"551.907\" cy=\"1150.15\" r=\"14\" fill=\"#009af9\" fill-rule=\"evenodd\" fill-opacity=\"1\" stroke=\"#000000\" stroke-opacity=\"1\" stroke-width=\"3.2\"/>\n",
       "<circle clip-path=\"url(#clip802)\" cx=\"573.868\" cy=\"783.797\" r=\"14\" fill=\"#009af9\" fill-rule=\"evenodd\" fill-opacity=\"1\" stroke=\"#000000\" stroke-opacity=\"1\" stroke-width=\"3.2\"/>\n",
       "<circle clip-path=\"url(#clip802)\" cx=\"595.83\" cy=\"1038.38\" r=\"14\" fill=\"#009af9\" fill-rule=\"evenodd\" fill-opacity=\"1\" stroke=\"#000000\" stroke-opacity=\"1\" stroke-width=\"3.2\"/>\n",
       "<circle clip-path=\"url(#clip802)\" cx=\"617.791\" cy=\"1249.27\" r=\"14\" fill=\"#009af9\" fill-rule=\"evenodd\" fill-opacity=\"1\" stroke=\"#000000\" stroke-opacity=\"1\" stroke-width=\"3.2\"/>\n",
       "<circle clip-path=\"url(#clip802)\" cx=\"639.753\" cy=\"838.845\" r=\"14\" fill=\"#009af9\" fill-rule=\"evenodd\" fill-opacity=\"1\" stroke=\"#000000\" stroke-opacity=\"1\" stroke-width=\"3.2\"/>\n",
       "<circle clip-path=\"url(#clip802)\" cx=\"661.714\" cy=\"952.699\" r=\"14\" fill=\"#009af9\" fill-rule=\"evenodd\" fill-opacity=\"1\" stroke=\"#000000\" stroke-opacity=\"1\" stroke-width=\"3.2\"/>\n",
       "<circle clip-path=\"url(#clip802)\" cx=\"683.676\" cy=\"1065.39\" r=\"14\" fill=\"#009af9\" fill-rule=\"evenodd\" fill-opacity=\"1\" stroke=\"#000000\" stroke-opacity=\"1\" stroke-width=\"3.2\"/>\n",
       "<circle clip-path=\"url(#clip802)\" cx=\"705.638\" cy=\"943.326\" r=\"14\" fill=\"#009af9\" fill-rule=\"evenodd\" fill-opacity=\"1\" stroke=\"#000000\" stroke-opacity=\"1\" stroke-width=\"3.2\"/>\n",
       "<circle clip-path=\"url(#clip802)\" cx=\"727.599\" cy=\"1046.18\" r=\"14\" fill=\"#009af9\" fill-rule=\"evenodd\" fill-opacity=\"1\" stroke=\"#000000\" stroke-opacity=\"1\" stroke-width=\"3.2\"/>\n",
       "<circle clip-path=\"url(#clip802)\" cx=\"749.561\" cy=\"1346.01\" r=\"14\" fill=\"#009af9\" fill-rule=\"evenodd\" fill-opacity=\"1\" stroke=\"#000000\" stroke-opacity=\"1\" stroke-width=\"3.2\"/>\n",
       "<circle clip-path=\"url(#clip802)\" cx=\"771.522\" cy=\"910.979\" r=\"14\" fill=\"#009af9\" fill-rule=\"evenodd\" fill-opacity=\"1\" stroke=\"#000000\" stroke-opacity=\"1\" stroke-width=\"3.2\"/>\n",
       "<circle clip-path=\"url(#clip802)\" cx=\"793.484\" cy=\"1112.62\" r=\"14\" fill=\"#009af9\" fill-rule=\"evenodd\" fill-opacity=\"1\" stroke=\"#000000\" stroke-opacity=\"1\" stroke-width=\"3.2\"/>\n",
       "<circle clip-path=\"url(#clip802)\" cx=\"815.446\" cy=\"822.94\" r=\"14\" fill=\"#009af9\" fill-rule=\"evenodd\" fill-opacity=\"1\" stroke=\"#000000\" stroke-opacity=\"1\" stroke-width=\"3.2\"/>\n",
       "<circle clip-path=\"url(#clip802)\" cx=\"837.407\" cy=\"924.863\" r=\"14\" fill=\"#009af9\" fill-rule=\"evenodd\" fill-opacity=\"1\" stroke=\"#000000\" stroke-opacity=\"1\" stroke-width=\"3.2\"/>\n",
       "<circle clip-path=\"url(#clip802)\" cx=\"859.369\" cy=\"770.455\" r=\"14\" fill=\"#009af9\" fill-rule=\"evenodd\" fill-opacity=\"1\" stroke=\"#000000\" stroke-opacity=\"1\" stroke-width=\"3.2\"/>\n",
       "<circle clip-path=\"url(#clip802)\" cx=\"881.33\" cy=\"1150.56\" r=\"14\" fill=\"#009af9\" fill-rule=\"evenodd\" fill-opacity=\"1\" stroke=\"#000000\" stroke-opacity=\"1\" stroke-width=\"3.2\"/>\n",
       "<circle clip-path=\"url(#clip802)\" cx=\"903.292\" cy=\"942.856\" r=\"14\" fill=\"#009af9\" fill-rule=\"evenodd\" fill-opacity=\"1\" stroke=\"#000000\" stroke-opacity=\"1\" stroke-width=\"3.2\"/>\n",
       "<circle clip-path=\"url(#clip802)\" cx=\"925.253\" cy=\"852.166\" r=\"14\" fill=\"#009af9\" fill-rule=\"evenodd\" fill-opacity=\"1\" stroke=\"#000000\" stroke-opacity=\"1\" stroke-width=\"3.2\"/>\n",
       "<circle clip-path=\"url(#clip802)\" cx=\"947.215\" cy=\"573.004\" r=\"14\" fill=\"#009af9\" fill-rule=\"evenodd\" fill-opacity=\"1\" stroke=\"#000000\" stroke-opacity=\"1\" stroke-width=\"3.2\"/>\n",
       "<circle clip-path=\"url(#clip802)\" cx=\"969.177\" cy=\"828.536\" r=\"14\" fill=\"#009af9\" fill-rule=\"evenodd\" fill-opacity=\"1\" stroke=\"#000000\" stroke-opacity=\"1\" stroke-width=\"3.2\"/>\n",
       "<circle clip-path=\"url(#clip802)\" cx=\"991.138\" cy=\"928.313\" r=\"14\" fill=\"#009af9\" fill-rule=\"evenodd\" fill-opacity=\"1\" stroke=\"#000000\" stroke-opacity=\"1\" stroke-width=\"3.2\"/>\n",
       "<circle clip-path=\"url(#clip802)\" cx=\"1013.1\" cy=\"1064.07\" r=\"14\" fill=\"#009af9\" fill-rule=\"evenodd\" fill-opacity=\"1\" stroke=\"#000000\" stroke-opacity=\"1\" stroke-width=\"3.2\"/>\n",
       "<circle clip-path=\"url(#clip802)\" cx=\"1035.06\" cy=\"843.732\" r=\"14\" fill=\"#009af9\" fill-rule=\"evenodd\" fill-opacity=\"1\" stroke=\"#000000\" stroke-opacity=\"1\" stroke-width=\"3.2\"/>\n",
       "<circle clip-path=\"url(#clip802)\" cx=\"1057.02\" cy=\"708.125\" r=\"14\" fill=\"#009af9\" fill-rule=\"evenodd\" fill-opacity=\"1\" stroke=\"#000000\" stroke-opacity=\"1\" stroke-width=\"3.2\"/>\n",
       "<circle clip-path=\"url(#clip802)\" cx=\"1078.98\" cy=\"873.641\" r=\"14\" fill=\"#009af9\" fill-rule=\"evenodd\" fill-opacity=\"1\" stroke=\"#000000\" stroke-opacity=\"1\" stroke-width=\"3.2\"/>\n",
       "<circle clip-path=\"url(#clip802)\" cx=\"1100.95\" cy=\"842.621\" r=\"14\" fill=\"#009af9\" fill-rule=\"evenodd\" fill-opacity=\"1\" stroke=\"#000000\" stroke-opacity=\"1\" stroke-width=\"3.2\"/>\n",
       "<circle clip-path=\"url(#clip802)\" cx=\"1122.91\" cy=\"817.309\" r=\"14\" fill=\"#009af9\" fill-rule=\"evenodd\" fill-opacity=\"1\" stroke=\"#000000\" stroke-opacity=\"1\" stroke-width=\"3.2\"/>\n",
       "<circle clip-path=\"url(#clip802)\" cx=\"1144.87\" cy=\"729.109\" r=\"14\" fill=\"#009af9\" fill-rule=\"evenodd\" fill-opacity=\"1\" stroke=\"#000000\" stroke-opacity=\"1\" stroke-width=\"3.2\"/>\n",
       "<circle clip-path=\"url(#clip802)\" cx=\"1166.83\" cy=\"1061.83\" r=\"14\" fill=\"#009af9\" fill-rule=\"evenodd\" fill-opacity=\"1\" stroke=\"#000000\" stroke-opacity=\"1\" stroke-width=\"3.2\"/>\n",
       "<circle clip-path=\"url(#clip802)\" cx=\"1188.79\" cy=\"663.508\" r=\"14\" fill=\"#009af9\" fill-rule=\"evenodd\" fill-opacity=\"1\" stroke=\"#000000\" stroke-opacity=\"1\" stroke-width=\"3.2\"/>\n",
       "<circle clip-path=\"url(#clip802)\" cx=\"1210.75\" cy=\"820.83\" r=\"14\" fill=\"#009af9\" fill-rule=\"evenodd\" fill-opacity=\"1\" stroke=\"#000000\" stroke-opacity=\"1\" stroke-width=\"3.2\"/>\n",
       "<circle clip-path=\"url(#clip802)\" cx=\"1232.72\" cy=\"903.429\" r=\"14\" fill=\"#009af9\" fill-rule=\"evenodd\" fill-opacity=\"1\" stroke=\"#000000\" stroke-opacity=\"1\" stroke-width=\"3.2\"/>\n",
       "<circle clip-path=\"url(#clip802)\" cx=\"1254.68\" cy=\"986.709\" r=\"14\" fill=\"#009af9\" fill-rule=\"evenodd\" fill-opacity=\"1\" stroke=\"#000000\" stroke-opacity=\"1\" stroke-width=\"3.2\"/>\n",
       "<circle clip-path=\"url(#clip802)\" cx=\"1276.64\" cy=\"1028.71\" r=\"14\" fill=\"#009af9\" fill-rule=\"evenodd\" fill-opacity=\"1\" stroke=\"#000000\" stroke-opacity=\"1\" stroke-width=\"3.2\"/>\n",
       "<circle clip-path=\"url(#clip802)\" cx=\"1298.6\" cy=\"680.453\" r=\"14\" fill=\"#009af9\" fill-rule=\"evenodd\" fill-opacity=\"1\" stroke=\"#000000\" stroke-opacity=\"1\" stroke-width=\"3.2\"/>\n",
       "<circle clip-path=\"url(#clip802)\" cx=\"1320.56\" cy=\"986.482\" r=\"14\" fill=\"#009af9\" fill-rule=\"evenodd\" fill-opacity=\"1\" stroke=\"#000000\" stroke-opacity=\"1\" stroke-width=\"3.2\"/>\n",
       "<circle clip-path=\"url(#clip802)\" cx=\"1342.52\" cy=\"870.707\" r=\"14\" fill=\"#009af9\" fill-rule=\"evenodd\" fill-opacity=\"1\" stroke=\"#000000\" stroke-opacity=\"1\" stroke-width=\"3.2\"/>\n",
       "<circle clip-path=\"url(#clip802)\" cx=\"1364.48\" cy=\"811.447\" r=\"14\" fill=\"#009af9\" fill-rule=\"evenodd\" fill-opacity=\"1\" stroke=\"#000000\" stroke-opacity=\"1\" stroke-width=\"3.2\"/>\n",
       "<circle clip-path=\"url(#clip802)\" cx=\"1386.45\" cy=\"974.306\" r=\"14\" fill=\"#009af9\" fill-rule=\"evenodd\" fill-opacity=\"1\" stroke=\"#000000\" stroke-opacity=\"1\" stroke-width=\"3.2\"/>\n",
       "<circle clip-path=\"url(#clip802)\" cx=\"1408.41\" cy=\"830.999\" r=\"14\" fill=\"#009af9\" fill-rule=\"evenodd\" fill-opacity=\"1\" stroke=\"#000000\" stroke-opacity=\"1\" stroke-width=\"3.2\"/>\n",
       "<circle clip-path=\"url(#clip802)\" cx=\"1430.37\" cy=\"709.488\" r=\"14\" fill=\"#009af9\" fill-rule=\"evenodd\" fill-opacity=\"1\" stroke=\"#000000\" stroke-opacity=\"1\" stroke-width=\"3.2\"/>\n",
       "<circle clip-path=\"url(#clip802)\" cx=\"1452.33\" cy=\"882.822\" r=\"14\" fill=\"#009af9\" fill-rule=\"evenodd\" fill-opacity=\"1\" stroke=\"#000000\" stroke-opacity=\"1\" stroke-width=\"3.2\"/>\n",
       "<circle clip-path=\"url(#clip802)\" cx=\"1474.29\" cy=\"526.718\" r=\"14\" fill=\"#009af9\" fill-rule=\"evenodd\" fill-opacity=\"1\" stroke=\"#000000\" stroke-opacity=\"1\" stroke-width=\"3.2\"/>\n",
       "<circle clip-path=\"url(#clip802)\" cx=\"1496.25\" cy=\"790.739\" r=\"14\" fill=\"#009af9\" fill-rule=\"evenodd\" fill-opacity=\"1\" stroke=\"#000000\" stroke-opacity=\"1\" stroke-width=\"3.2\"/>\n",
       "<circle clip-path=\"url(#clip802)\" cx=\"1518.22\" cy=\"646.636\" r=\"14\" fill=\"#009af9\" fill-rule=\"evenodd\" fill-opacity=\"1\" stroke=\"#000000\" stroke-opacity=\"1\" stroke-width=\"3.2\"/>\n",
       "<circle clip-path=\"url(#clip802)\" cx=\"1540.18\" cy=\"689.422\" r=\"14\" fill=\"#009af9\" fill-rule=\"evenodd\" fill-opacity=\"1\" stroke=\"#000000\" stroke-opacity=\"1\" stroke-width=\"3.2\"/>\n",
       "<circle clip-path=\"url(#clip802)\" cx=\"1562.14\" cy=\"572.216\" r=\"14\" fill=\"#009af9\" fill-rule=\"evenodd\" fill-opacity=\"1\" stroke=\"#000000\" stroke-opacity=\"1\" stroke-width=\"3.2\"/>\n",
       "<circle clip-path=\"url(#clip802)\" cx=\"1584.1\" cy=\"871.072\" r=\"14\" fill=\"#009af9\" fill-rule=\"evenodd\" fill-opacity=\"1\" stroke=\"#000000\" stroke-opacity=\"1\" stroke-width=\"3.2\"/>\n",
       "<circle clip-path=\"url(#clip802)\" cx=\"1606.06\" cy=\"936.789\" r=\"14\" fill=\"#009af9\" fill-rule=\"evenodd\" fill-opacity=\"1\" stroke=\"#000000\" stroke-opacity=\"1\" stroke-width=\"3.2\"/>\n",
       "<circle clip-path=\"url(#clip802)\" cx=\"1628.02\" cy=\"700.582\" r=\"14\" fill=\"#009af9\" fill-rule=\"evenodd\" fill-opacity=\"1\" stroke=\"#000000\" stroke-opacity=\"1\" stroke-width=\"3.2\"/>\n",
       "<circle clip-path=\"url(#clip802)\" cx=\"1649.99\" cy=\"408.942\" r=\"14\" fill=\"#009af9\" fill-rule=\"evenodd\" fill-opacity=\"1\" stroke=\"#000000\" stroke-opacity=\"1\" stroke-width=\"3.2\"/>\n",
       "<circle clip-path=\"url(#clip802)\" cx=\"1671.95\" cy=\"598.379\" r=\"14\" fill=\"#009af9\" fill-rule=\"evenodd\" fill-opacity=\"1\" stroke=\"#000000\" stroke-opacity=\"1\" stroke-width=\"3.2\"/>\n",
       "<circle clip-path=\"url(#clip802)\" cx=\"1693.91\" cy=\"1096.88\" r=\"14\" fill=\"#009af9\" fill-rule=\"evenodd\" fill-opacity=\"1\" stroke=\"#000000\" stroke-opacity=\"1\" stroke-width=\"3.2\"/>\n",
       "<circle clip-path=\"url(#clip802)\" cx=\"1715.87\" cy=\"604.851\" r=\"14\" fill=\"#009af9\" fill-rule=\"evenodd\" fill-opacity=\"1\" stroke=\"#000000\" stroke-opacity=\"1\" stroke-width=\"3.2\"/>\n",
       "<circle clip-path=\"url(#clip802)\" cx=\"1737.83\" cy=\"807.956\" r=\"14\" fill=\"#009af9\" fill-rule=\"evenodd\" fill-opacity=\"1\" stroke=\"#000000\" stroke-opacity=\"1\" stroke-width=\"3.2\"/>\n",
       "<circle clip-path=\"url(#clip802)\" cx=\"1759.79\" cy=\"791.815\" r=\"14\" fill=\"#009af9\" fill-rule=\"evenodd\" fill-opacity=\"1\" stroke=\"#000000\" stroke-opacity=\"1\" stroke-width=\"3.2\"/>\n",
       "<circle clip-path=\"url(#clip802)\" cx=\"1781.75\" cy=\"818.661\" r=\"14\" fill=\"#009af9\" fill-rule=\"evenodd\" fill-opacity=\"1\" stroke=\"#000000\" stroke-opacity=\"1\" stroke-width=\"3.2\"/>\n",
       "<circle clip-path=\"url(#clip802)\" cx=\"1803.72\" cy=\"984.943\" r=\"14\" fill=\"#009af9\" fill-rule=\"evenodd\" fill-opacity=\"1\" stroke=\"#000000\" stroke-opacity=\"1\" stroke-width=\"3.2\"/>\n",
       "<circle clip-path=\"url(#clip802)\" cx=\"1825.68\" cy=\"351.732\" r=\"14\" fill=\"#009af9\" fill-rule=\"evenodd\" fill-opacity=\"1\" stroke=\"#000000\" stroke-opacity=\"1\" stroke-width=\"3.2\"/>\n",
       "<circle clip-path=\"url(#clip802)\" cx=\"1847.64\" cy=\"425.213\" r=\"14\" fill=\"#009af9\" fill-rule=\"evenodd\" fill-opacity=\"1\" stroke=\"#000000\" stroke-opacity=\"1\" stroke-width=\"3.2\"/>\n",
       "<circle clip-path=\"url(#clip802)\" cx=\"1869.6\" cy=\"643.623\" r=\"14\" fill=\"#009af9\" fill-rule=\"evenodd\" fill-opacity=\"1\" stroke=\"#000000\" stroke-opacity=\"1\" stroke-width=\"3.2\"/>\n",
       "<circle clip-path=\"url(#clip802)\" cx=\"1891.56\" cy=\"598.026\" r=\"14\" fill=\"#009af9\" fill-rule=\"evenodd\" fill-opacity=\"1\" stroke=\"#000000\" stroke-opacity=\"1\" stroke-width=\"3.2\"/>\n",
       "<circle clip-path=\"url(#clip802)\" cx=\"1913.52\" cy=\"707.62\" r=\"14\" fill=\"#009af9\" fill-rule=\"evenodd\" fill-opacity=\"1\" stroke=\"#000000\" stroke-opacity=\"1\" stroke-width=\"3.2\"/>\n",
       "<circle clip-path=\"url(#clip802)\" cx=\"1935.49\" cy=\"623.559\" r=\"14\" fill=\"#009af9\" fill-rule=\"evenodd\" fill-opacity=\"1\" stroke=\"#000000\" stroke-opacity=\"1\" stroke-width=\"3.2\"/>\n",
       "<circle clip-path=\"url(#clip802)\" cx=\"1957.45\" cy=\"638.777\" r=\"14\" fill=\"#009af9\" fill-rule=\"evenodd\" fill-opacity=\"1\" stroke=\"#000000\" stroke-opacity=\"1\" stroke-width=\"3.2\"/>\n",
       "<circle clip-path=\"url(#clip802)\" cx=\"1979.41\" cy=\"401.453\" r=\"14\" fill=\"#009af9\" fill-rule=\"evenodd\" fill-opacity=\"1\" stroke=\"#000000\" stroke-opacity=\"1\" stroke-width=\"3.2\"/>\n",
       "<circle clip-path=\"url(#clip802)\" cx=\"2001.37\" cy=\"847.064\" r=\"14\" fill=\"#009af9\" fill-rule=\"evenodd\" fill-opacity=\"1\" stroke=\"#000000\" stroke-opacity=\"1\" stroke-width=\"3.2\"/>\n",
       "<circle clip-path=\"url(#clip802)\" cx=\"2023.33\" cy=\"448.28\" r=\"14\" fill=\"#009af9\" fill-rule=\"evenodd\" fill-opacity=\"1\" stroke=\"#000000\" stroke-opacity=\"1\" stroke-width=\"3.2\"/>\n",
       "<circle clip-path=\"url(#clip802)\" cx=\"2045.29\" cy=\"488.204\" r=\"14\" fill=\"#009af9\" fill-rule=\"evenodd\" fill-opacity=\"1\" stroke=\"#000000\" stroke-opacity=\"1\" stroke-width=\"3.2\"/>\n",
       "<circle clip-path=\"url(#clip802)\" cx=\"2067.26\" cy=\"441.873\" r=\"14\" fill=\"#009af9\" fill-rule=\"evenodd\" fill-opacity=\"1\" stroke=\"#000000\" stroke-opacity=\"1\" stroke-width=\"3.2\"/>\n",
       "<circle clip-path=\"url(#clip802)\" cx=\"2089.22\" cy=\"479.85\" r=\"14\" fill=\"#009af9\" fill-rule=\"evenodd\" fill-opacity=\"1\" stroke=\"#000000\" stroke-opacity=\"1\" stroke-width=\"3.2\"/>\n",
       "<circle clip-path=\"url(#clip802)\" cx=\"2111.18\" cy=\"235.963\" r=\"14\" fill=\"#009af9\" fill-rule=\"evenodd\" fill-opacity=\"1\" stroke=\"#000000\" stroke-opacity=\"1\" stroke-width=\"3.2\"/>\n",
       "<circle clip-path=\"url(#clip802)\" cx=\"2133.14\" cy=\"483.466\" r=\"14\" fill=\"#009af9\" fill-rule=\"evenodd\" fill-opacity=\"1\" stroke=\"#000000\" stroke-opacity=\"1\" stroke-width=\"3.2\"/>\n",
       "<circle clip-path=\"url(#clip802)\" cx=\"2155.1\" cy=\"557.098\" r=\"14\" fill=\"#009af9\" fill-rule=\"evenodd\" fill-opacity=\"1\" stroke=\"#000000\" stroke-opacity=\"1\" stroke-width=\"3.2\"/>\n",
       "<circle clip-path=\"url(#clip802)\" cx=\"2177.06\" cy=\"582.188\" r=\"14\" fill=\"#009af9\" fill-rule=\"evenodd\" fill-opacity=\"1\" stroke=\"#000000\" stroke-opacity=\"1\" stroke-width=\"3.2\"/>\n",
       "<circle clip-path=\"url(#clip802)\" cx=\"2199.02\" cy=\"505.633\" r=\"14\" fill=\"#009af9\" fill-rule=\"evenodd\" fill-opacity=\"1\" stroke=\"#000000\" stroke-opacity=\"1\" stroke-width=\"3.2\"/>\n",
       "<circle clip-path=\"url(#clip802)\" cx=\"2220.99\" cy=\"694.446\" r=\"14\" fill=\"#009af9\" fill-rule=\"evenodd\" fill-opacity=\"1\" stroke=\"#000000\" stroke-opacity=\"1\" stroke-width=\"3.2\"/>\n",
       "<circle clip-path=\"url(#clip802)\" cx=\"2242.95\" cy=\"576.758\" r=\"14\" fill=\"#009af9\" fill-rule=\"evenodd\" fill-opacity=\"1\" stroke=\"#000000\" stroke-opacity=\"1\" stroke-width=\"3.2\"/>\n",
       "<circle clip-path=\"url(#clip802)\" cx=\"2264.91\" cy=\"555.108\" r=\"14\" fill=\"#009af9\" fill-rule=\"evenodd\" fill-opacity=\"1\" stroke=\"#000000\" stroke-opacity=\"1\" stroke-width=\"3.2\"/>\n",
       "<circle clip-path=\"url(#clip802)\" cx=\"2286.87\" cy=\"587.417\" r=\"14\" fill=\"#009af9\" fill-rule=\"evenodd\" fill-opacity=\"1\" stroke=\"#000000\" stroke-opacity=\"1\" stroke-width=\"3.2\"/>\n",
       "<circle clip-path=\"url(#clip802)\" cx=\"2308.83\" cy=\"246.814\" r=\"14\" fill=\"#009af9\" fill-rule=\"evenodd\" fill-opacity=\"1\" stroke=\"#000000\" stroke-opacity=\"1\" stroke-width=\"3.2\"/>\n",
       "<circle clip-path=\"url(#clip802)\" cx=\"2330.79\" cy=\"563.826\" r=\"14\" fill=\"#009af9\" fill-rule=\"evenodd\" fill-opacity=\"1\" stroke=\"#000000\" stroke-opacity=\"1\" stroke-width=\"3.2\"/>\n",
       "<circle clip-path=\"url(#clip802)\" cx=\"2352.76\" cy=\"486.471\" r=\"14\" fill=\"#009af9\" fill-rule=\"evenodd\" fill-opacity=\"1\" stroke=\"#000000\" stroke-opacity=\"1\" stroke-width=\"3.2\"/>\n",
       "<polyline clip-path=\"url(#clip802)\" style=\"stroke:#e26f46; stroke-linecap:butt; stroke-linejoin:round; stroke-width:4; stroke-opacity:1; fill:none\" points=\"\n",
       "  156.598,1198.61 170.896,1193.92 303.104,1150.6 382.555,1124.57 449.73,1102.56 522.701,1078.65 589.973,1056.61 662.097,1032.97 745.659,1005.59 819.919,981.261 \n",
       "  885.038,959.924 956.035,936.66 1027.45,913.259 1106.42,887.385 1181.55,862.767 1259.67,837.17 1325.43,815.623 1405.72,789.316 1479.26,765.218 1547.19,742.961 \n",
       "  1615.99,720.415 1693.11,695.148 1762.98,672.252 1842.99,646.037 1917.07,621.765 1990.1,597.835 2061,574.602 2133.69,550.784 2213.33,524.689 2329.02,486.782 \n",
       "  2352.76,479.005 \n",
       "  \"/>\n",
       "<path clip-path=\"url(#clip800)\" d=\"\n",
       "M1983.1 250.738 L2279.55 250.738 L2279.55 95.2176 L1983.1 95.2176  Z\n",
       "  \" fill=\"#ffffff\" fill-rule=\"evenodd\" fill-opacity=\"1\"/>\n",
       "<polyline clip-path=\"url(#clip800)\" style=\"stroke:#000000; stroke-linecap:butt; stroke-linejoin:round; stroke-width:4; stroke-opacity:1; fill:none\" points=\"\n",
       "  1983.1,250.738 2279.55,250.738 2279.55,95.2176 1983.1,95.2176 1983.1,250.738 \n",
       "  \"/>\n",
       "<circle clip-path=\"url(#clip800)\" cx=\"2080.71\" cy=\"147.058\" r=\"23\" fill=\"#009af9\" fill-rule=\"evenodd\" fill-opacity=\"1\" stroke=\"#000000\" stroke-opacity=\"1\" stroke-width=\"5.12\"/>\n",
       "<path clip-path=\"url(#clip800)\" d=\"M2192.16 166.745 Q2190.35 171.375 2188.64 172.787 Q2186.93 174.199 2184.06 174.199 L2180.65 174.199 L2180.65 170.634 L2183.15 170.634 Q2184.91 170.634 2185.89 169.8 Q2186.86 168.967 2188.04 165.865 L2188.8 163.921 L2178.32 138.412 L2182.83 138.412 L2190.93 158.689 L2199.03 138.412 L2203.55 138.412 L2192.16 166.745 Z\" fill=\"#000000\" fill-rule=\"evenodd\" fill-opacity=\"1\" /><path clip-path=\"url(#clip800)\" d=\"M2210.84 160.402 L2218.48 160.402 L2218.48 134.037 L2210.17 135.703 L2210.17 131.444 L2218.43 129.778 L2223.11 129.778 L2223.11 160.402 L2230.75 160.402 L2230.75 164.338 L2210.84 164.338 L2210.84 160.402 Z\" fill=\"#000000\" fill-rule=\"evenodd\" fill-opacity=\"1\" /><polyline clip-path=\"url(#clip800)\" style=\"stroke:#e26f46; stroke-linecap:butt; stroke-linejoin:round; stroke-width:4; stroke-opacity:1; fill:none\" points=\"\n",
       "  2007.5,198.898 2153.92,198.898 \n",
       "  \"/>\n",
       "<path clip-path=\"url(#clip800)\" d=\"M2192.16 218.585 Q2190.35 223.215 2188.64 224.627 Q2186.93 226.039 2184.06 226.039 L2180.65 226.039 L2180.65 222.474 L2183.15 222.474 Q2184.91 222.474 2185.89 221.64 Q2186.86 220.807 2188.04 217.705 L2188.8 215.761 L2178.32 190.252 L2182.83 190.252 L2190.93 210.529 L2199.03 190.252 L2203.55 190.252 L2192.16 218.585 Z\" fill=\"#000000\" fill-rule=\"evenodd\" fill-opacity=\"1\" /><path clip-path=\"url(#clip800)\" d=\"M2214.06 212.242 L2230.38 212.242 L2230.38 216.178 L2208.43 216.178 L2208.43 212.242 Q2211.09 209.488 2215.68 204.858 Q2220.28 200.205 2221.46 198.863 Q2223.71 196.34 2224.59 194.604 Q2225.49 192.844 2225.49 191.155 Q2225.49 188.4 2223.55 186.664 Q2221.63 184.928 2218.52 184.928 Q2216.33 184.928 2213.87 185.692 Q2211.44 186.455 2208.66 188.006 L2208.66 183.284 Q2211.49 182.15 2213.94 181.571 Q2216.4 180.993 2218.43 180.993 Q2223.8 180.993 2227 183.678 Q2230.19 186.363 2230.19 190.854 Q2230.19 192.983 2229.38 194.905 Q2228.59 196.803 2226.49 199.395 Q2225.91 200.067 2222.81 203.284 Q2219.71 206.479 2214.06 212.242 Z\" fill=\"#000000\" fill-rule=\"evenodd\" fill-opacity=\"1\" /></svg>\n"
      ]
     },
     "execution_count": 42,
     "metadata": {},
     "output_type": "execute_result"
    }
   ],
   "source": [
    "x = CUDA.CuArray(0:0.01:1.0)\n",
    "nt = length(x)\n",
    "y = 0.2 .+ 0.5 .* x + 0.1 .* CUDA.randn(nt);\n",
    "scatter( Array(x), Array(y))\n",
    "plot!( x -> 0.2 + 0.5x)\n",
    "xlims!(0,1)\n",
    "ylims!(0,1)"
   ]
  },
  {
   "cell_type": "code",
   "execution_count": 43,
   "id": "f9211a7a",
   "metadata": {
    "ExecuteTime": {
     "end_time": "2022-06-22T09:34:12.102000Z",
     "start_time": "2022-06-22T09:34:11.916Z"
    }
   },
   "outputs": [],
   "source": [
    "X = hcat(CUDA.ones(nt), x);"
   ]
  },
  {
   "cell_type": "code",
   "execution_count": 68,
   "id": "987cb248",
   "metadata": {
    "ExecuteTime": {
     "end_time": "2022-06-22T09:47:03.956000Z",
     "start_time": "2022-06-22T09:47:03.786Z"
    }
   },
   "outputs": [
    {
     "data": {
      "text/plain": [
       "2×1 CuArray{Float64, 2, CUDA.Mem.DeviceBuffer}:\n",
       " 0.21738964109890363\n",
       " 0.48434929788746206"
      ]
     },
     "execution_count": 68,
     "metadata": {},
     "output_type": "execute_result"
    }
   ],
   "source": [
    "β = X'X \\ reshape(X'y, 2, 1) # reshape à cause d'un bug cuda 11.6 corrigé \n",
    "# dans la version 11.7"
   ]
  },
  {
   "cell_type": "code",
   "execution_count": 46,
   "id": "ca469664",
   "metadata": {
    "ExecuteTime": {
     "end_time": "2022-06-22T09:34:27.325000Z",
     "start_time": "2022-06-22T09:34:27.050Z"
    }
   },
   "outputs": [
    {
     "data": {
      "text/plain": [
       "1×3 CuArray{Int64, 2, CUDA.Mem.DeviceBuffer}:\n",
       " 1  2  3"
      ]
     },
     "execution_count": 46,
     "metadata": {},
     "output_type": "execute_result"
    }
   ],
   "source": [
    "a = CuArray([1 2 3])"
   ]
  },
  {
   "cell_type": "code",
   "execution_count": 47,
   "id": "877a8c37",
   "metadata": {
    "ExecuteTime": {
     "end_time": "2022-06-22T09:34:28.126000Z",
     "start_time": "2022-06-22T09:34:27.887Z"
    }
   },
   "outputs": [
    {
     "data": {
      "text/plain": [
       "2-element CuArray{Int64, 1, CUDA.Mem.DeviceBuffer}:\n",
       " 2\n",
       " 3"
      ]
     },
     "execution_count": 47,
     "metadata": {},
     "output_type": "execute_result"
    }
   ],
   "source": [
    "view(a, 2:3)"
   ]
  },
  {
   "cell_type": "code",
   "execution_count": 48,
   "id": "9ee662b6",
   "metadata": {
    "ExecuteTime": {
     "end_time": "2022-06-22T09:34:29.757000Z",
     "start_time": "2022-06-22T09:34:28.434Z"
    },
    "lines_to_next_cell": 2
   },
   "outputs": [
    {
     "data": {
      "text/plain": [
       "1×3 CuArray{Float64, 2, CUDA.Mem.DeviceBuffer}:\n",
       " 2.0  3.0  4.0"
      ]
     },
     "execution_count": 48,
     "metadata": {},
     "output_type": "execute_result"
    }
   ],
   "source": [
    "a = CuArray{Float64}([1 2 3])\n",
    "b = CuArray{Float64}([4 5 6])\n",
    "\n",
    "map(a) do x\n",
    "    x + 1\n",
    "end"
   ]
  },
  {
   "cell_type": "code",
   "execution_count": 49,
   "id": "7184a4b3",
   "metadata": {
    "ExecuteTime": {
     "end_time": "2022-06-22T09:34:33.595000Z",
     "start_time": "2022-06-22T09:34:29.332Z"
    },
    "lines_to_next_cell": 2
   },
   "outputs": [
    {
     "data": {
      "text/plain": [
       "6.0"
      ]
     },
     "execution_count": 49,
     "metadata": {},
     "output_type": "execute_result"
    }
   ],
   "source": [
    "reduce(+, a)"
   ]
  },
  {
   "cell_type": "code",
   "execution_count": 50,
   "id": "2de5bdfb",
   "metadata": {
    "ExecuteTime": {
     "end_time": "2022-06-22T09:34:37.122000Z",
     "start_time": "2022-06-22T09:34:30.521Z"
    },
    "lines_to_next_cell": 2
   },
   "outputs": [
    {
     "data": {
      "text/plain": [
       "1×3 CuArray{Float64, 2, CUDA.Mem.DeviceBuffer}:\n",
       " 4.0  9.0  15.0"
      ]
     },
     "execution_count": 50,
     "metadata": {},
     "output_type": "execute_result"
    }
   ],
   "source": [
    "accumulate(+, b; dims=2)"
   ]
  },
  {
   "cell_type": "code",
   "execution_count": 51,
   "id": "52cf4b60",
   "metadata": {
    "ExecuteTime": {
     "end_time": "2022-06-22T09:34:41.036000Z",
     "start_time": "2022-06-22T09:34:31.283Z"
    },
    "lines_to_next_cell": 2
   },
   "outputs": [
    {
     "data": {
      "text/plain": [
       "CartesianIndex(1, 2)"
      ]
     },
     "execution_count": 51,
     "metadata": {},
     "output_type": "execute_result"
    }
   ],
   "source": [
    "findfirst(isequal(2), a)"
   ]
  },
  {
   "cell_type": "code",
   "execution_count": 52,
   "id": "0d578784",
   "metadata": {
    "ExecuteTime": {
     "end_time": "2022-06-22T09:34:49.045000Z",
     "start_time": "2022-06-22T09:34:32.200Z"
    },
    "lines_to_next_cell": 2
   },
   "outputs": [
    {
     "data": {
      "text/plain": [
       "CartesianIndex(1, 2)"
      ]
     },
     "execution_count": 52,
     "metadata": {},
     "output_type": "execute_result"
    }
   ],
   "source": [
    "a = CuArray([1 2 3])\n",
    "b = CuArray([4 5 6])\n",
    "\n",
    "map(a) do x\n",
    "    x + 1\n",
    "end\n",
    "\n",
    "a .+ 2b\n",
    "\n",
    "reduce(+, a)\n",
    "\n",
    "accumulate(+, b; dims=2)\n",
    "\n",
    "findfirst(isequal(2), a)"
   ]
  },
  {
   "cell_type": "markdown",
   "id": "8b2cbd01",
   "metadata": {},
   "source": [
    "# CURAND"
   ]
  },
  {
   "cell_type": "code",
   "execution_count": 53,
   "id": "961b4e03",
   "metadata": {
    "ExecuteTime": {
     "end_time": "2022-06-22T09:34:56.389000Z",
     "start_time": "2022-06-22T09:34:53.249Z"
    }
   },
   "outputs": [
    {
     "data": {
      "text/plain": [
       "1×3 CuArray{Int64, 2, CUDA.Mem.DeviceBuffer}:\n",
       " -3999151767418411585  4177302447084939813  -486514589279279442"
      ]
     },
     "execution_count": 53,
     "metadata": {},
     "output_type": "execute_result"
    }
   ],
   "source": [
    "CUDA.rand!(a)"
   ]
  },
  {
   "cell_type": "markdown",
   "id": "4a721c09",
   "metadata": {},
   "source": [
    "# CUBLAS\n",
    "\n",
    "Les opérations entre tableaux alloués sur le GPU sont effectués sur le co-processeur."
   ]
  },
  {
   "cell_type": "code",
   "execution_count": 54,
   "id": "18fd216d",
   "metadata": {
    "ExecuteTime": {
     "end_time": "2022-06-22T09:34:57.782000Z",
     "start_time": "2022-06-22T09:34:55.014Z"
    }
   },
   "outputs": [
    {
     "data": {
      "text/plain": [
       "1×1 CuArray{Int64, 2, CUDA.Mem.DeviceBuffer}:\n",
       " 1970817630075376073"
      ]
     },
     "execution_count": 54,
     "metadata": {},
     "output_type": "execute_result"
    }
   ],
   "source": [
    "a * b'"
   ]
  },
  {
   "cell_type": "markdown",
   "id": "dd80f704",
   "metadata": {},
   "source": [
    "# CUSOLVER\n",
    "\n",
    "Certaines fonctions d'algèbre linéaire de LAPACK sont disponibles:"
   ]
  },
  {
   "cell_type": "code",
   "execution_count": 66,
   "id": "f6a2ac86",
   "metadata": {
    "ExecuteTime": {
     "end_time": "2022-06-22T09:45:46.943000Z",
     "start_time": "2022-06-22T09:45:46.771Z"
    }
   },
   "outputs": [
    {
     "data": {
      "text/plain": [
       "4×2 CuArray{Float32, 2, CUDA.Mem.DeviceBuffer}:\n",
       "  9.52   18.47\n",
       " 24.35    2.25\n",
       "  0.77  -13.28\n",
       " -6.22   -6.21"
      ]
     },
     "execution_count": 66,
     "metadata": {},
     "output_type": "execute_result"
    }
   ],
   "source": [
    "A =  cu([1.80   2.88   2.05  -0.89;\n",
    "  5.25  -2.95  -0.95  -3.80;\n",
    "  1.58  -2.69  -2.90  -1.04;\n",
    " -1.11  -0.66  -0.59   0.80])\n",
    "\n",
    "B = cu([9.52  18.47;\n",
    " 24.35   2.25;\n",
    "  0.77 -13.28;\n",
    " -6.22  -6.21   ])"
   ]
  },
  {
   "cell_type": "code",
   "execution_count": 69,
   "id": "b42ce435",
   "metadata": {
    "ExecuteTime": {
     "end_time": "2022-06-22T09:47:18.581000Z",
     "start_time": "2022-06-22T09:47:18.404Z"
    }
   },
   "outputs": [
    {
     "data": {
      "text/plain": [
       "4×2 CuArray{Float32, 2, CUDA.Mem.DeviceBuffer}:\n",
       " -16.4208   8.83055\n",
       "  13.6253  -3.34543\n",
       " -15.2035   2.73165\n",
       " -29.7264  13.3248"
      ]
     },
     "execution_count": 69,
     "metadata": {},
     "output_type": "execute_result"
    }
   ],
   "source": [
    "L, ipiv = CUDA.CUSOLVER.getrf!(A)\n",
    "CUDA.CUSOLVER.getrs!('N', L, ipiv, B)"
   ]
  },
  {
   "cell_type": "markdown",
   "id": "8d967f18",
   "metadata": {},
   "source": [
    "# CUFFT\n",
    "\n",
    "Pour faire des FFTs sur le GPU, il est nécessaire d'utiliser les `plans` pour allouer l'espace nécessaire sur la carte graphique."
   ]
  },
  {
   "cell_type": "code",
   "execution_count": 70,
   "id": "aa27aa88",
   "metadata": {
    "ExecuteTime": {
     "end_time": "2022-06-22T09:47:23.838000Z",
     "start_time": "2022-06-22T09:47:19.969Z"
    }
   },
   "outputs": [
    {
     "data": {
      "text/plain": [
       "1×3 CuArray{ComplexF64, 2, CUDA.Mem.DeviceBuffer}:\n",
       " -3.08364e17+0.0im  -5.84455e18-4.03898e18im  -5.84455e18+4.03898e18im"
      ]
     },
     "execution_count": 70,
     "metadata": {},
     "output_type": "execute_result"
    }
   ],
   "source": [
    "fft = CUFFT.plan_fft(a) \n",
    "fft * a"
   ]
  },
  {
   "cell_type": "code",
   "execution_count": 71,
   "id": "27e725ea",
   "metadata": {
    "ExecuteTime": {
     "end_time": "2022-06-22T09:47:26.236000Z",
     "start_time": "2022-06-22T09:47:24.936Z"
    }
   },
   "outputs": [
    {
     "data": {
      "text/plain": [
       "1×3 CuArray{Float64, 2, CUDA.Mem.DeviceBuffer}:\n",
       " -3.99915e18  4.1773e18  -4.86515e17"
      ]
     },
     "execution_count": 71,
     "metadata": {},
     "output_type": "execute_result"
    }
   ],
   "source": [
    "ifft = CUFFT.plan_ifft(a)\n",
    "real(ifft * (fft * a))"
   ]
  },
  {
   "cell_type": "markdown",
   "id": "d3edf831",
   "metadata": {},
   "source": [
    "# CUSPARSE\n",
    "\n",
    "Les formats destinés aux matrices creuses sont aussi disponibles."
   ]
  },
  {
   "cell_type": "code",
   "execution_count": 94,
   "id": "5c25c898",
   "metadata": {
    "ExecuteTime": {
     "end_time": "2022-06-22T10:05:31.122000Z",
     "start_time": "2022-06-22T10:05:30.968Z"
    }
   },
   "outputs": [
    {
     "data": {
      "text/plain": [
       "5×5 SymTridiagonal{Float64, Vector{Float64}}:\n",
       "  4.0  -2.0    ⋅     ⋅    ⋅ \n",
       " -2.0  10.0  -6.0    ⋅    ⋅ \n",
       "   ⋅   -6.0  29.0  15.0   ⋅ \n",
       "   ⋅     ⋅   15.0  25.0  8.0\n",
       "   ⋅     ⋅     ⋅    8.0  5.0"
      ]
     },
     "execution_count": 94,
     "metadata": {},
     "output_type": "execute_result"
    }
   ],
   "source": [
    "A = SymTridiagonal(\n",
    "                [ 4.0,  10.0,  29.0,  25.0 ,  5.0], [-2.0,  -6.0,  15.0 ,  8.0])"
   ]
  },
  {
   "cell_type": "code",
   "execution_count": 96,
   "id": "e7d5a54f",
   "metadata": {
    "ExecuteTime": {
     "end_time": "2022-06-22T10:05:37.931000Z",
     "start_time": "2022-06-22T10:05:37.775Z"
    }
   },
   "outputs": [
    {
     "data": {
      "text/plain": [
       "5×5 CuSparseMatrixCSR{Float64, Int32} with 13 stored entries:\n",
       "  4.0  -2.0    ⋅     ⋅    ⋅ \n",
       " -2.0  10.0  -6.0    ⋅    ⋅ \n",
       "   ⋅   -6.0  29.0  15.0   ⋅ \n",
       "   ⋅     ⋅   15.0  25.0  8.0\n",
       "   ⋅     ⋅     ⋅    8.0  5.0"
      ]
     },
     "execution_count": 96,
     "metadata": {},
     "output_type": "execute_result"
    }
   ],
   "source": [
    "using SparseArrays\n",
    "\n",
    "A = CUDA.CUSPARSE.CuSparseMatrixCSR(sparse(A))"
   ]
  },
  {
   "cell_type": "markdown",
   "id": "6e9a330a",
   "metadata": {},
   "source": [
    "## Les étapes pour porter votre code sur GPU\n",
    "\n",
    "1. Développez votre application sur votre CPU avec les tabeaux de type `Array`\n",
    "2. Portez votre application sur GPU en utilisant le type `CuArray`\n",
    "3. Desactivez \"scalar indexing\" pour trouver les opérations incompatibles.\n",
    "4. Ecrivez vos propres kernels CUDA pour remplacer ces opérations."
   ]
  },
  {
   "cell_type": "markdown",
   "id": "32bb3b51",
   "metadata": {},
   "source": [
    "## Exemple avec une regression linéaire"
   ]
  },
  {
   "cell_type": "code",
   "execution_count": 97,
   "id": "69c1e219",
   "metadata": {
    "ExecuteTime": {
     "end_time": "2022-06-22T10:05:47.909000Z",
     "start_time": "2022-06-22T10:05:47.501Z"
    }
   },
   "outputs": [
    {
     "data": {
      "text/plain": [
       "lossdb (generic function with 1 method)"
      ]
     },
     "execution_count": 97,
     "metadata": {},
     "output_type": "execute_result"
    }
   ],
   "source": [
    "# squared error loss function\n",
    "loss(w, b, x, y) = sum(abs2, y - (w*x .+ b)) / size(y, 2)\n",
    "# get gradient w.r.t to `w`\n",
    "loss∇w(w, b, x, y) = ForwardDiff.gradient(w -> loss(w, b, x, y), w)\n",
    "# get derivative w.r.t to `b` (`ForwardDiff.derivative` is\n",
    "# used instead of `ForwardDiff.gradient` because `b` is\n",
    "# a scalar instead of an array)\n",
    "lossdb(w, b, x, y) = ForwardDiff.derivative(b -> loss(w, b, x, y), b)"
   ]
  },
  {
   "cell_type": "code",
   "execution_count": 98,
   "id": "ce2b37b8",
   "metadata": {
    "ExecuteTime": {
     "end_time": "2022-06-22T10:05:49.094000Z",
     "start_time": "2022-06-22T10:05:48.816Z"
    }
   },
   "outputs": [
    {
     "data": {
      "text/plain": [
       "train (generic function with 1 method)"
      ]
     },
     "execution_count": 98,
     "metadata": {},
     "output_type": "execute_result"
    }
   ],
   "source": [
    "# proximal gradient descent function\n",
    "function train(w, b, x, y; lr=0.1)\n",
    "    w -= lmul!(lr, loss∇w(w, b, x, y))\n",
    "    b -= lr * lossdb(w, b, x, y)\n",
    "    return w, b\n",
    "end"
   ]
  },
  {
   "cell_type": "markdown",
   "id": "095ea6f6",
   "metadata": {},
   "source": [
    "Version CPU"
   ]
  },
  {
   "cell_type": "code",
   "execution_count": 99,
   "id": "60945c12",
   "metadata": {
    "ExecuteTime": {
     "end_time": "2022-06-22T10:05:50.828000Z",
     "start_time": "2022-06-22T10:05:50.584Z"
    }
   },
   "outputs": [
    {
     "data": {
      "text/plain": [
       "cpu_test (generic function with 4 methods)"
      ]
     },
     "execution_count": 99,
     "metadata": {},
     "output_type": "execute_result"
    }
   ],
   "source": [
    "function cpu_test(n = 1000, p = 100, iter = 100)\n",
    "    x = randn(n, p)'\n",
    "    y = sum(x[1:5,:]; dims=1) .+ randn(n)' * 0.1\n",
    "    w = 0.0001 * randn(1, p)\n",
    "    b = 0.0\n",
    "    for i = 1:iter\n",
    "       w, b = train(w, b, x, y)\n",
    "    end\n",
    "    return loss(w,b,x,y)\n",
    "end"
   ]
  },
  {
   "cell_type": "code",
   "execution_count": 100,
   "id": "cba4650c",
   "metadata": {
    "ExecuteTime": {
     "end_time": "2022-06-22T10:05:57.001000Z",
     "start_time": "2022-06-22T10:05:51.467Z"
    }
   },
   "outputs": [
    {
     "name": "stdout",
     "output_type": "stream",
     "text": [
      "  3.689814 seconds (9.96 M allocations: 792.290 MiB, 6.31% gc time, 88.52% compilation time)\n"
     ]
    },
    {
     "data": {
      "text/plain": [
       "0.008917112031392097"
      ]
     },
     "execution_count": 100,
     "metadata": {},
     "output_type": "execute_result"
    }
   ],
   "source": [
    "@time cpu_test()"
   ]
  },
  {
   "cell_type": "markdown",
   "id": "932fb58f",
   "metadata": {},
   "source": [
    "### Version GPU"
   ]
  },
  {
   "cell_type": "code",
   "execution_count": 101,
   "id": "5b5f6f51",
   "metadata": {
    "ExecuteTime": {
     "end_time": "2022-06-22T10:05:57.092000Z",
     "start_time": "2022-06-22T10:05:52.918Z"
    }
   },
   "outputs": [
    {
     "data": {
      "text/plain": [
       "gpu_test (generic function with 4 methods)"
      ]
     },
     "execution_count": 101,
     "metadata": {},
     "output_type": "execute_result"
    }
   ],
   "source": [
    "function gpu_test( n = 1000, p = 100, iter = 100)\n",
    "    x = randn(n, p)'\n",
    "    y = sum(x[1:5,:]; dims=1) .+ randn(n)' * 0.1\n",
    "    w = 0.0001 * randn(1, p)\n",
    "    b = 0.0\n",
    "    x = CuArray(x)\n",
    "    y = CuArray(y)\n",
    "    w = CuArray(w)\n",
    "    \n",
    "    for i = 1:iter\n",
    "       w, b = train(w, b, x, y)\n",
    "       \n",
    "    end\n",
    "    return loss(w,b,x,y)\n",
    "end"
   ]
  },
  {
   "cell_type": "code",
   "execution_count": 102,
   "id": "355b1d12",
   "metadata": {
    "ExecuteTime": {
     "end_time": "2022-06-22T10:06:18Z",
     "start_time": "2022-06-22T10:05:56.118Z"
    }
   },
   "outputs": [
    {
     "name": "stdout",
     "output_type": "stream",
     "text": [
      " 20.653892 seconds (52.87 M allocations: 2.721 GiB, 5.82% gc time, 87.69% compilation time)\n"
     ]
    },
    {
     "data": {
      "text/plain": [
       "0.010232953359950435"
      ]
     },
     "execution_count": 102,
     "metadata": {},
     "output_type": "execute_result"
    }
   ],
   "source": [
    "@time gpu_test()"
   ]
  },
  {
   "cell_type": "code",
   "execution_count": 103,
   "id": "a76173cc",
   "metadata": {
    "ExecuteTime": {
     "end_time": "2022-06-22T10:06:52.161000Z",
     "start_time": "2022-06-22T10:05:57.067Z"
    }
   },
   "outputs": [
    {
     "name": "stdout",
     "output_type": "stream",
     "text": [
      "  4.277 s (17322 allocations: 2.68 GiB)\n"
     ]
    },
    {
     "data": {
      "text/plain": [
       "0.009700305378332084"
      ]
     },
     "execution_count": 103,
     "metadata": {},
     "output_type": "execute_result"
    }
   ],
   "source": [
    "@btime cpu_test( 10000, 100, 100)"
   ]
  },
  {
   "cell_type": "code",
   "execution_count": 104,
   "id": "7a636f0a",
   "metadata": {
    "ExecuteTime": {
     "end_time": "2022-06-22T10:07:07.204000Z",
     "start_time": "2022-06-22T10:05:58.768Z"
    }
   },
   "outputs": [
    {
     "name": "stdout",
     "output_type": "stream",
     "text": [
      "  381.641 ms (282513 allocations: 47.61 MiB)\n"
     ]
    }
   ],
   "source": [
    "@btime gpu_test( 10000, 100, 100);"
   ]
  },
  {
   "cell_type": "markdown",
   "id": "1d539f48",
   "metadata": {},
   "source": [
    "# Noyaux CUDA\n",
    "\n",
    "L'écriture directe de noyaux CUDA est possible, cependant:\n",
    "- les allocations sont interdites,\n",
    "- pas d'entrées-sorties donc pas d'affichage,\n",
    "- si votre code n'est pas typé correctement, le code compilé sera peu performant.\n",
    "\n",
    "Programmer vos noyaux de manière incrémentale, en les gardant le plus simple possible et en vérifiant\n",
    "soigneusement que le résultat escompté est correct."
   ]
  },
  {
   "cell_type": "code",
   "execution_count": 105,
   "id": "d31173b9",
   "metadata": {
    "ExecuteTime": {
     "end_time": "2022-06-22T10:07:09.311000Z",
     "start_time": "2022-06-22T10:06:04.584Z"
    }
   },
   "outputs": [
    {
     "data": {
      "text/plain": [
       "CUDA.HostKernel{typeof(kernel), Tuple{CuDeviceVector{Float32, 1}}}(kernel, CuContext(0x0000000003d646d0, instance ab6ddf66a1b5235), CuModule(Ptr{Nothing} @0x0000000051ef91e0, CuContext(0x0000000003d646d0, instance ab6ddf66a1b5235)), CuFunction(Ptr{Nothing} @0x000000005212d900, CuModule(Ptr{Nothing} @0x0000000051ef91e0, CuContext(0x0000000003d646d0, instance ab6ddf66a1b5235))), CUDA.KernelState(Ptr{Nothing} @0x00007f5220c00000))"
      ]
     },
     "execution_count": 105,
     "metadata": {},
     "output_type": "execute_result"
    }
   ],
   "source": [
    "a = CUDA.zeros(1024)\n",
    "\n",
    "function kernel(a)\n",
    "    i = threadIdx().x\n",
    "    a[i] += 1\n",
    "    return\n",
    "end\n",
    "\n",
    "@cuda threads=length(a) kernel(a)"
   ]
  },
  {
   "cell_type": "code",
   "execution_count": 106,
   "id": "07718344",
   "metadata": {
    "ExecuteTime": {
     "end_time": "2022-06-22T10:07:10.157000Z",
     "start_time": "2022-06-22T10:06:05.451Z"
    }
   },
   "outputs": [
    {
     "data": {
      "text/plain": [
       "1000-element CuArray{Int64, 1, CUDA.Mem.DeviceBuffer}:\n",
       "  5837161489375825610\n",
       "  3249834628757770091\n",
       " -5445612182052022760\n",
       " -3923169803801740765\n",
       "   733695658409288933\n",
       "  4087743593613329616\n",
       " -8043406591028943260\n",
       " -1679676387806972955\n",
       "  5868368425283356571\n",
       " -8870067186870587342\n",
       " -8806292451624114506\n",
       "  2667895617132920446\n",
       "  5755721119752581421\n",
       "                    ⋮\n",
       " -3147517702367032313\n",
       "  8824339326254996660\n",
       "  5417925738279581962\n",
       " -7419932983391578861\n",
       " -2735502713972005690\n",
       " -5042777480891349324\n",
       "  6873199818063300975\n",
       "  7116077105598374239\n",
       "  7953475190154515888\n",
       "  6044645330568083067\n",
       "  1660400826189220102\n",
       "   380899770619687558"
      ]
     },
     "execution_count": 106,
     "metadata": {},
     "output_type": "execute_result"
    }
   ],
   "source": [
    "a = CUDA.rand(Int, 1000)"
   ]
  },
  {
   "cell_type": "code",
   "execution_count": 107,
   "id": "0206c18a",
   "metadata": {
    "ExecuteTime": {
     "end_time": "2022-06-22T10:07:18.280000Z",
     "start_time": "2022-06-22T10:06:05.952Z"
    }
   },
   "outputs": [
    {
     "data": {
      "text/plain": [
       "1.684001235807264e20"
      ]
     },
     "execution_count": 107,
     "metadata": {},
     "output_type": "execute_result"
    }
   ],
   "source": [
    "norm(a)"
   ]
  },
  {
   "cell_type": "code",
   "execution_count": 108,
   "id": "1c979d58",
   "metadata": {
    "ExecuteTime": {
     "end_time": "2022-06-22T10:12:07.307000Z",
     "start_time": "2022-06-22T10:11:59.468Z"
    },
    "lines_to_next_cell": 2
   },
   "outputs": [
    {
     "name": "stdout",
     "output_type": "stream",
     "text": [
      "  51.287 μs (88 allocations: 4.53 KiB)\n"
     ]
    },
    {
     "data": {
      "text/plain": [
       "1.684001235807264e20"
      ]
     },
     "execution_count": 108,
     "metadata": {},
     "output_type": "execute_result"
    }
   ],
   "source": [
    "@btime norm($a)"
   ]
  },
  {
   "cell_type": "code",
   "execution_count": 109,
   "id": "bffb93f8",
   "metadata": {
    "ExecuteTime": {
     "end_time": "2022-06-22T10:12:10.487000Z",
     "start_time": "2022-06-22T10:12:01.900Z"
    }
   },
   "outputs": [
    {
     "name": "stdout",
     "output_type": "stream",
     "text": [
      "  1.671 μs (0 allocations: 0 bytes)\n"
     ]
    },
    {
     "data": {
      "text/plain": [
       "1.6840012358072638e20"
      ]
     },
     "execution_count": 109,
     "metadata": {},
     "output_type": "execute_result"
    }
   ],
   "source": [
    "@btime norm($(Array(a)))"
   ]
  },
  {
   "cell_type": "markdown",
   "id": "1d946298",
   "metadata": {},
   "source": [
    "La fonction `norm` est bien plus rapide exécutée sur le CPU"
   ]
  },
  {
   "cell_type": "code",
   "execution_count": 110,
   "id": "43276e78",
   "metadata": {
    "ExecuteTime": {
     "end_time": "2022-06-22T10:12:10.499000Z",
     "start_time": "2022-06-22T10:12:06.617Z"
    }
   },
   "outputs": [],
   "source": [
    "CUDA.allowscalar(false)"
   ]
  },
  {
   "cell_type": "code",
   "execution_count": 111,
   "id": "2d7334c0",
   "metadata": {
    "ExecuteTime": {
     "end_time": "2022-06-22T10:12:10.567000Z",
     "start_time": "2022-06-22T10:12:07.050Z"
    }
   },
   "outputs": [],
   "source": [
    "a = CuArray(1:9_999_999);"
   ]
  },
  {
   "cell_type": "code",
   "execution_count": 112,
   "id": "4d066758",
   "metadata": {
    "ExecuteTime": {
     "end_time": "2022-06-22T10:12:12.584000Z",
     "start_time": "2022-06-22T10:12:07.585Z"
    }
   },
   "outputs": [
    {
     "name": "stdout",
     "output_type": "stream",
     "text": [
      "  1.998018 seconds (5.09 M allocations: 272.327 MiB, 3.43% gc time, 83.51% compilation time)\n"
     ]
    }
   ],
   "source": [
    "@time a .+ reverse(a);"
   ]
  },
  {
   "cell_type": "markdown",
   "id": "bccd9767",
   "metadata": {},
   "source": [
    "Pour effectuer cette dernière instruction, vous avez besoin de\n",
    "programmer deux noyaux.  La macro `@time` n'est pas adéquate pour\n",
    "évaluer la performance car on a affaire à une opération de type\n",
    "\"lazy\". C'est à dire que l'expression est programmée sur le GPU\n",
    "mais pas exécutée. Elle le sera lorsque vous transférerez le résultat\n",
    "vers le CPU. Vous pouvez utiliser `@sync` ou `@time` du package\n",
    "`CUDA`."
   ]
  },
  {
   "cell_type": "code",
   "execution_count": 113,
   "id": "75dc713a",
   "metadata": {
    "ExecuteTime": {
     "end_time": "2022-06-22T10:12:12.687000Z",
     "start_time": "2022-06-22T10:12:08.934Z"
    }
   },
   "outputs": [
    {
     "name": "stdout",
     "output_type": "stream",
     "text": [
      "  0.002643 seconds (112 allocations: 6.453 KiB)\n"
     ]
    }
   ],
   "source": [
    "@time CUDA.@sync a .+ reverse(a);"
   ]
  },
  {
   "cell_type": "code",
   "execution_count": 114,
   "id": "809dcfb5",
   "metadata": {
    "ExecuteTime": {
     "end_time": "2022-06-22T10:12:13.136000Z",
     "start_time": "2022-06-22T10:12:09.383Z"
    }
   },
   "outputs": [
    {
     "name": "stdout",
     "output_type": "stream",
     "text": [
      "  0.002548 seconds (112 CPU allocations: 6.453 KiB) (2 GPU allocations: 152.588 MiB, 0.79% memmgmt time)\n"
     ]
    }
   ],
   "source": [
    "CUDA.@time a .+ reverse(a);"
   ]
  },
  {
   "cell_type": "code",
   "execution_count": 115,
   "id": "ca379bb4",
   "metadata": {
    "ExecuteTime": {
     "end_time": "2022-06-22T10:12:25.337000Z",
     "start_time": "2022-06-22T10:12:10.333Z"
    }
   },
   "outputs": [
    {
     "name": "stdout",
     "output_type": "stream",
     "text": [
      "  2.365 ms (110 allocations: 6.39 KiB)\n"
     ]
    }
   ],
   "source": [
    "@btime CUDA.@sync $a .+ reverse($a);"
   ]
  },
  {
   "cell_type": "code",
   "execution_count": 116,
   "id": "cd2910b6",
   "metadata": {
    "ExecuteTime": {
     "end_time": "2022-06-22T10:12:38.022000Z",
     "start_time": "2022-06-22T10:12:10.934Z"
    }
   },
   "outputs": [
    {
     "name": "stdout",
     "output_type": "stream",
     "text": [
      "  56.495 ms (4 allocations: 152.59 MiB)\n"
     ]
    }
   ],
   "source": [
    "@btime CUDA.@sync $(Array(a)) .+ reverse($(Array(a)));"
   ]
  },
  {
   "cell_type": "markdown",
   "id": "b03a7cb1",
   "metadata": {},
   "source": [
    "## Aide au développement\n",
    "\n",
    "Vous avez quelques macros disponibles pour vous aidez à implémenter vos noyaux:"
   ]
  },
  {
   "cell_type": "code",
   "execution_count": 117,
   "id": "961f473a",
   "metadata": {
    "ExecuteTime": {
     "end_time": "2022-06-22T10:12:38.196000Z",
     "start_time": "2022-06-22T10:12:12.016Z"
    }
   },
   "outputs": [
    {
     "data": {
      "text/plain": [
       "kernel (generic function with 2 methods)"
      ]
     },
     "execution_count": 117,
     "metadata": {},
     "output_type": "execute_result"
    }
   ],
   "source": [
    "kernel() = (@cuprintln(\"foo\"); return)"
   ]
  },
  {
   "cell_type": "code",
   "execution_count": 118,
   "id": "4e767fb5",
   "metadata": {
    "ExecuteTime": {
     "end_time": "2022-06-22T10:12:39.441000Z",
     "start_time": "2022-06-22T10:12:12.736Z"
    }
   },
   "outputs": [
    {
     "data": {
      "text/plain": [
       "CUDA.HostKernel{typeof(kernel), Tuple{}}(kernel, CuContext(0x0000000003d646d0, instance ab6ddf66a1b5235), CuModule(Ptr{Nothing} @0x0000000041610b80, CuContext(0x0000000003d646d0, instance ab6ddf66a1b5235)), CuFunction(Ptr{Nothing} @0x000000005443dc60, CuModule(Ptr{Nothing} @0x0000000041610b80, CuContext(0x0000000003d646d0, instance ab6ddf66a1b5235))), CUDA.KernelState(Ptr{Nothing} @0x00007f5220c00000))"
      ]
     },
     "execution_count": 118,
     "metadata": {},
     "output_type": "execute_result"
    },
    {
     "name": "stdout",
     "output_type": "stream",
     "text": [
      "foo\n"
     ]
    }
   ],
   "source": [
    "@cuda kernel()"
   ]
  },
  {
   "cell_type": "code",
   "execution_count": 119,
   "id": "0957c49d",
   "metadata": {
    "ExecuteTime": {
     "end_time": "2022-06-22T10:12:39.596000Z",
     "start_time": "2022-06-22T10:12:17.951Z"
    }
   },
   "outputs": [
    {
     "data": {
      "text/plain": [
       "kernel (generic function with 2 methods)"
      ]
     },
     "execution_count": 119,
     "metadata": {},
     "output_type": "execute_result"
    }
   ],
   "source": [
    "kernel() = (@cuprintln(\"bar\"); return)"
   ]
  },
  {
   "cell_type": "code",
   "execution_count": 120,
   "id": "c408066e",
   "metadata": {
    "ExecuteTime": {
     "end_time": "2022-06-22T10:12:39.649000Z",
     "start_time": "2022-06-22T10:12:18.600Z"
    }
   },
   "outputs": [
    {
     "data": {
      "text/plain": [
       "CUDA.HostKernel{typeof(kernel), Tuple{}}(kernel, CuContext(0x0000000003d646d0, instance ab6ddf66a1b5235), CuModule(Ptr{Nothing} @0x00000000528086e0, CuContext(0x0000000003d646d0, instance ab6ddf66a1b5235)), CuFunction(Ptr{Nothing} @0x00000000527b2e90, CuModule(Ptr{Nothing} @0x00000000528086e0, CuContext(0x0000000003d646d0, instance ab6ddf66a1b5235))), CUDA.KernelState(Ptr{Nothing} @0x00007f5220c00000))"
      ]
     },
     "execution_count": 120,
     "metadata": {},
     "output_type": "execute_result"
    }
   ],
   "source": [
    "@cuda kernel()"
   ]
  },
  {
   "cell_type": "markdown",
   "id": "c6b1f169",
   "metadata": {},
   "source": [
    "Attention, exécuter plusieurs noyaux CUDA à la suite prend du temps\n",
    "car il y a un temps de lattence plus important que sur CPU."
   ]
  },
  {
   "cell_type": "code",
   "execution_count": 121,
   "id": "9491f377",
   "metadata": {
    "ExecuteTime": {
     "end_time": "2022-06-22T10:12:39.761000Z",
     "start_time": "2022-06-22T10:12:19.250Z"
    }
   },
   "outputs": [
    {
     "name": "stdout",
     "output_type": "stream",
     "text": [
      "bar\n"
     ]
    }
   ],
   "source": [
    "a = CuArray(1:9_999_999)\n",
    "c = similar(a)\n",
    "c .= a .+ reverse(a);"
   ]
  },
  {
   "cell_type": "code",
   "execution_count": 122,
   "id": "04ebbad8",
   "metadata": {
    "ExecuteTime": {
     "end_time": "2022-06-22T10:12:39.847000Z",
     "start_time": "2022-06-22T10:12:20.300Z"
    }
   },
   "outputs": [
    {
     "data": {
      "text/plain": [
       "vadd_reverse (generic function with 1 method)"
      ]
     },
     "execution_count": 122,
     "metadata": {},
     "output_type": "execute_result"
    }
   ],
   "source": [
    "function vadd_reverse(c, a, b)\n",
    "    i = threadIdx().x\n",
    "    if i <= length(c)\n",
    "        @inbounds c[i] = a[i] + reverse(b)[i]\n",
    "    end\n",
    "    return\n",
    "end"
   ]
  },
  {
   "cell_type": "markdown",
   "id": "4a08405a",
   "metadata": {},
   "source": [
    "Essayons de remplacer la fonction `reverse`"
   ]
  },
  {
   "cell_type": "code",
   "execution_count": 123,
   "id": "f3c0069a",
   "metadata": {
    "ExecuteTime": {
     "end_time": "2022-06-22T10:12:39.849000Z",
     "start_time": "2022-06-22T10:12:21.750Z"
    }
   },
   "outputs": [
    {
     "data": {
      "text/plain": [
       "vadd_reverse (generic function with 1 method)"
      ]
     },
     "execution_count": 123,
     "metadata": {},
     "output_type": "execute_result"
    }
   ],
   "source": [
    "function vadd_reverse(c, a, b)\n",
    "    \n",
    "    i = threadIdx().x\n",
    "    if i <= length(c)\n",
    "        @inbounds c[i] = a[i] + b[end - i + 1]\n",
    "    end\n",
    "    return\n",
    "end"
   ]
  },
  {
   "cell_type": "markdown",
   "id": "3696772a",
   "metadata": {},
   "source": [
    "Cela ne fonctionne pas car on n'itère pas sur un tableau alloué sur\n",
    "un GPU de la même manière qu'un tableau alloué sur CPU."
   ]
  },
  {
   "cell_type": "code",
   "execution_count": 124,
   "id": "4750f3de",
   "metadata": {
    "ExecuteTime": {
     "end_time": "2022-06-22T10:12:41.106000Z",
     "start_time": "2022-06-22T10:12:22.567Z"
    }
   },
   "outputs": [
    {
     "ename": "LoadError",
     "evalue": "CUDA error: invalid argument (code 1, ERROR_INVALID_VALUE)",
     "output_type": "error",
     "traceback": [
      "CUDA error: invalid argument (code 1, ERROR_INVALID_VALUE)",
      "",
      "Stacktrace:",
      "  [1] throw_api_error(res::CUDA.cudaError_enum)",
      "    @ CUDA /opt/app-root/share/julia/packages/CUDA/Uurn4/lib/cudadrv/error.jl:91",
      "  [2] macro expansion",
      "    @ /opt/app-root/share/julia/packages/CUDA/Uurn4/lib/cudadrv/error.jl:101 [inlined]",
      "  [3] cuLaunchKernel(f::CuFunction, gridDimX::UInt32, gridDimY::UInt32, gridDimZ::UInt32, blockDimX::UInt32, blockDimY::UInt32, blockDimZ::UInt32, sharedMemBytes::Int64, hStream::CuStream, kernelParams::Vector{Ptr{Nothing}}, extra::Ptr{Nothing})",
      "    @ CUDA /opt/app-root/share/julia/packages/CUDA/Uurn4/lib/utils/call.jl:26",
      "  [4] #39",
      "    @ /opt/app-root/share/julia/packages/CUDA/Uurn4/lib/cudadrv/execution.jl:69 [inlined]",
      "  [5] macro expansion",
      "    @ /opt/app-root/share/julia/packages/CUDA/Uurn4/lib/cudadrv/execution.jl:33 [inlined]",
      "  [6] macro expansion",
      "    @ ./none:0 [inlined]",
      "  [7] pack_arguments(::CUDA.var\"#39#40\"{Bool, Int64, CuStream, CuFunction, CuDim3, CuDim3}, ::CUDA.KernelState, ::CuDeviceVector{Int64, 1}, ::CuDeviceVector{Int64, 1}, ::CuDeviceVector{Int64, 1})",
      "    @ CUDA ./none:0",
      "  [8] #launch#38",
      "    @ /opt/app-root/share/julia/packages/CUDA/Uurn4/lib/cudadrv/execution.jl:62 [inlined]",
      "  [9] #44",
      "    @ /opt/app-root/share/julia/packages/CUDA/Uurn4/lib/cudadrv/execution.jl:136 [inlined]",
      " [10] macro expansion",
      "    @ /opt/app-root/share/julia/packages/CUDA/Uurn4/lib/cudadrv/execution.jl:95 [inlined]",
      " [11] macro expansion",
      "    @ ./none:0 [inlined]",
      " [12] convert_arguments",
      "    @ ./none:0 [inlined]",
      " [13] #cudacall#43",
      "    @ /opt/app-root/share/julia/packages/CUDA/Uurn4/lib/cudadrv/execution.jl:135 [inlined]",
      " [14] macro expansion",
      "    @ /opt/app-root/share/julia/packages/CUDA/Uurn4/src/compiler/execution.jl:204 [inlined]",
      " [15] macro expansion",
      "    @ ./none:0 [inlined]",
      " [16] call(::CUDA.HostKernel{typeof(vadd_reverse), Tuple{CuDeviceVector{Int64, 1}, CuDeviceVector{Int64, 1}, CuDeviceVector{Int64, 1}}}, ::CuDeviceVector{Int64, 1}, ::CuDeviceVector{Int64, 1}, ::CuDeviceVector{Int64, 1}; call_kwargs::Base.Pairs{Symbol, Int64, Tuple{Symbol, Symbol}, NamedTuple{(:threads, :blocks), Tuple{Int64, Int64}}})",
      "    @ CUDA ./none:0",
      " [17] (::CUDA.HostKernel{typeof(vadd_reverse), Tuple{CuDeviceVector{Int64, 1}, CuDeviceVector{Int64, 1}, CuDeviceVector{Int64, 1}}})(::CuArray{Int64, 1, CUDA.Mem.DeviceBuffer}, ::Vararg{CuArray{Int64, 1, CUDA.Mem.DeviceBuffer}}; threads::Int64, blocks::Int64, kwargs::Base.Pairs{Symbol, Union{}, Tuple{}, NamedTuple{(), Tuple{}}})",
      "    @ CUDA /opt/app-root/share/julia/packages/CUDA/Uurn4/src/compiler/execution.jl:468",
      " [18] top-level scope",
      "    @ /opt/app-root/share/julia/packages/CUDA/Uurn4/src/compiler/execution.jl:104",
      " [19] eval",
      "    @ ./boot.jl:373 [inlined]",
      " [20] include_string(mapexpr::typeof(REPL.softscope), mod::Module, code::String, filename::String)",
      "    @ Base ./loading.jl:1196"
     ]
    }
   ],
   "source": [
    "@cuda threads = length(a) vadd_reverse(c, a, a)"
   ]
  },
  {
   "cell_type": "markdown",
   "id": "1f446669",
   "metadata": {},
   "source": [
    "Les fonctions `blockIdx` et `threadIdx` sont disponibkes pour vous aider:"
   ]
  },
  {
   "cell_type": "code",
   "execution_count": 125,
   "id": "11807089",
   "metadata": {
    "ExecuteTime": {
     "end_time": "2022-06-22T10:12:41.327000Z",
     "start_time": "2022-06-22T10:12:23.839Z"
    }
   },
   "outputs": [
    {
     "data": {
      "text/plain": [
       "1024"
      ]
     },
     "execution_count": 125,
     "metadata": {},
     "output_type": "execute_result"
    }
   ],
   "source": [
    "attribute(device(), CUDA.DEVICE_ATTRIBUTE_MAX_THREADS_PER_BLOCK)"
   ]
  },
  {
   "cell_type": "code",
   "execution_count": 126,
   "id": "bb1784d9",
   "metadata": {
    "ExecuteTime": {
     "end_time": "2022-06-22T10:12:41.329000Z",
     "start_time": "2022-06-22T10:12:24.533Z"
    }
   },
   "outputs": [
    {
     "data": {
      "text/plain": [
       "vadd_reverse (generic function with 1 method)"
      ]
     },
     "execution_count": 126,
     "metadata": {},
     "output_type": "execute_result"
    }
   ],
   "source": [
    "function vadd_reverse(c, a, b)\n",
    "    i = (blockIdx().x - 1) * blockDim().x + threadIdx().x\n",
    "    if i <= length(c)\n",
    "        @inbounds c[i] = a[i] + b[end - i + 1]\n",
    "    end\n",
    "    return\n",
    "end"
   ]
  },
  {
   "cell_type": "markdown",
   "id": "6ac4adfd",
   "metadata": {},
   "source": [
    "Le noyau construit est plus rapide que la fonction `reverse` initialement utilisée:"
   ]
  },
  {
   "cell_type": "code",
   "execution_count": null,
   "id": "1437b8d1",
   "metadata": {
    "ExecuteTime": {
     "start_time": "2022-06-22T10:12:25.188Z"
    }
   },
   "outputs": [],
   "source": [
    "@btime CUDA.@sync @cuda threads=1024 blocks=length($a)÷1024+1 vadd_reverse($c, $a, $a)"
   ]
  },
  {
   "cell_type": "code",
   "execution_count": null,
   "id": "038e62e3",
   "metadata": {
    "ExecuteTime": {
     "start_time": "2022-06-22T10:12:25.418Z"
    }
   },
   "outputs": [],
   "source": [
    "@btime CUDA.@sync $a .+ reverse($a);"
   ]
  },
  {
   "cell_type": "markdown",
   "id": "eb8cf6d4",
   "metadata": {},
   "source": [
    "Vous pouvez automatiser la configuration du noyau aux caractéristiques de votre carte."
   ]
  },
  {
   "cell_type": "code",
   "execution_count": null,
   "id": "6eb08dcf",
   "metadata": {
    "ExecuteTime": {
     "start_time": "2022-06-22T10:12:26.434Z"
    }
   },
   "outputs": [],
   "source": [
    "function configurator(kernel)\n",
    "    config = launch_configuration(kernel.fun)\n",
    "    threads = min(length(a), config.threads)\n",
    "    blocks = cld(length(a), threads)\n",
    "    return (threads=threads, blocks=blocks)\n",
    "end"
   ]
  },
  {
   "cell_type": "code",
   "execution_count": null,
   "id": "25743aa5",
   "metadata": {
    "ExecuteTime": {
     "start_time": "2022-06-22T10:12:27.300Z"
    }
   },
   "outputs": [],
   "source": [
    "@cuda config=configurator vadd_reverse(c, a, a)"
   ]
  },
  {
   "cell_type": "code",
   "execution_count": null,
   "id": "b7196ee3",
   "metadata": {},
   "outputs": [],
   "source": []
  }
 ],
 "metadata": {
  "finalized": {
   "timestamp": 1655888479006,
   "trusted": true
  },
  "jupytext": {
   "cell_metadata_filter": "-all",
   "main_language": "julia",
   "notebook_metadata_filter": "-all"
  },
  "kernelspec": {
   "display_name": "Julia 1.7.2",
   "language": "julia",
   "name": "julia-1.7"
  },
  "language_info": {
   "file_extension": ".jl",
   "mimetype": "application/julia",
   "name": "julia",
   "version": "1.7.2"
  },
  "toc": {
   "base_numbering": 1,
   "nav_menu": {},
   "number_sections": true,
   "sideBar": true,
   "skip_h1_title": false,
   "title_cell": "Table of Contents",
   "title_sidebar": "Contents",
   "toc_cell": false,
   "toc_position": {},
   "toc_section_display": true,
   "toc_window_display": false
  }
 },
 "nbformat": 4,
 "nbformat_minor": 5
}
