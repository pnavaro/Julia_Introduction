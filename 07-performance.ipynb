{
 "cells": [
  {
   "cell_type": "markdown",
   "id": "60e0536a",
   "metadata": {},
   "source": [
    "# Performance\n",
    "\n",
    "*Julia* avec la compilation *Just-In-Time* est un langage naturellement performant. Il n'est pas allergique aux boucles comme le sont les langages Python et R. Les opérations vectorisées fonctionnent également très bien à condition d'être attentifs aux allocations mémoire et aux vues explicites."
   ]
  },
  {
   "cell_type": "markdown",
   "id": "1298796e",
   "metadata": {},
   "source": [
    "## Allocations"
   ]
  },
  {
   "cell_type": "code",
   "execution_count": 2,
   "id": "9d7c4e3e",
   "metadata": {},
   "outputs": [
    {
     "name": "stdout",
     "output_type": "stream",
     "text": [
      "  5.443 ms (4 allocations: 16.00 MiB)\n"
     ]
    }
   ],
   "source": [
    "using Random, LinearAlgebra, BenchmarkTools\n",
    "\n",
    "function test(A, B, C)\n",
    "    C = C - A * B\n",
    "    return C\n",
    "end\n",
    "\n",
    "A = rand(1024, 256); B = rand(256, 1024); C = rand(1024, 1024)\n",
    "\n",
    "@btime test($A, $B, $C);"
   ]
  },
  {
   "cell_type": "markdown",
   "id": "78e32eb5",
   "metadata": {},
   "source": [
    "Dans l'appel de la macro `@benchmark` on interpole les arguments avec le signe `$` pour être sur que les fonctions\n",
    "    `rand` aient déjà été evaluées avant l'appel de la fonction `test`. La matrice `C` est modifiée dans la fonction suivante donc par convention on ajoute un `!` au nom de la fonction. Par convention également, l'argument modifié se placera en premier. Comme dans la fonction `push!` par exemple."
   ]
  },
  {
   "cell_type": "code",
   "execution_count": 7,
   "id": "0584472c",
   "metadata": {},
   "outputs": [
    {
     "name": "stdout",
     "output_type": "stream",
     "text": [
      "  4.898 ms (2 allocations: 8.00 MiB)\n"
     ]
    }
   ],
   "source": [
    "function test!(C, A, B)\n",
    "    C .= C .- A * B\n",
    "    return C\n",
    "end\n",
    "\n",
    "@btime test!( $C, $A, $B);"
   ]
  },
  {
   "cell_type": "markdown",
   "id": "b058bdbd",
   "metadata": {},
   "source": [
    "En effectuant une opération \"en place\", on supprime une allocation mais celle pour effectuer l'opération `A * B` est toujours nécessaire. On peut supprimer cette allocation en utilisant la bibliothèque `BLAS`, cependant le code perd en lisibilité ce qu'il a gagné en performance."
   ]
  },
  {
   "cell_type": "code",
   "execution_count": 5,
   "id": "c0e29ff5",
   "metadata": {},
   "outputs": [
    {
     "name": "stdout",
     "output_type": "stream",
     "text": [
      "  3.003 ms (0 allocations: 0 bytes)\n"
     ]
    }
   ],
   "source": [
    "function test_opt!(C, A, B)\n",
    "    BLAS.gemm!('N','N', -1., A, B, 1., C)\n",
    "    return C\n",
    "end\n",
    "\n",
    "@btime test_opt!($C, $A, $B);"
   ]
  },
  {
   "cell_type": "markdown",
   "id": "ab7bace7",
   "metadata": {},
   "source": [
    "## Alignement de la mémoire\n",
    "\n",
    "Les opérations le long des premiers indices seront plus rapides."
   ]
  },
  {
   "cell_type": "code",
   "execution_count": 9,
   "id": "64134a0d",
   "metadata": {},
   "outputs": [
    {
     "name": "stdout",
     "output_type": "stream",
     "text": [
      "  8.291 ms (29 allocations: 32.00 MiB)\n"
     ]
    }
   ],
   "source": [
    "using FFTW\n",
    "\n",
    "T = randn(1024, 1024)\n",
    "\n",
    "@btime fft($T, 1);"
   ]
  },
  {
   "cell_type": "code",
   "execution_count": 10,
   "id": "cc456b94",
   "metadata": {},
   "outputs": [
    {
     "name": "stdout",
     "output_type": "stream",
     "text": [
      "  33.095 ms (29 allocations: 32.00 MiB)\n"
     ]
    }
   ],
   "source": [
    "@btime fft($T, 2);"
   ]
  },
  {
   "cell_type": "markdown",
   "id": "d0cc89a3",
   "metadata": {},
   "source": [
    "Voici un autre exemple ou on calcule la dérivée de la quantité $f$ suivant la coordonnée $y$ en passant par l'espace de Fourier"
   ]
  },
  {
   "cell_type": "code",
   "execution_count": 12,
   "id": "a54485a0",
   "metadata": {},
   "outputs": [
    {
     "name": "stdout",
     "output_type": "stream",
     "text": [
      "  71.749 ms (59 allocations: 64.00 MiB)\n"
     ]
    }
   ],
   "source": [
    "using FFTW\n",
    "\n",
    "xmin, xmax, nx = 0, 4π, 1024\n",
    "ymin, ymax, ny = 0, 4π, 1024\n",
    "x = LinRange(xmin, xmax, nx+1)[1:end-1]\n",
    "y = LinRange(ymin, ymax, ny+1)[1:end-1]\n",
    "ky  = 2π ./ (ymax-ymin) .* [0:ny÷2-1;ny÷2-ny:-1]\n",
    "exky = exp.( 1im .* ky' .* x)\n",
    "function df_dy( f, exky )\n",
    "    ifft(exky .* fft(f, 2), 2)\n",
    "end\n",
    "f = sin.(x) .* cos.(y') # f is a 2d array created by broadcasting\n",
    "@btime df_dy($f, $exky);"
   ]
  },
  {
   "cell_type": "markdown",
   "id": "146585e0",
   "metadata": {},
   "source": [
    "En utilisant les \"plans\" de FFTW qui permettent de pré-allouer la mémoire nécessaire et le calcul \"en place\". On peut améliorer les performances. On réutilise le même tableau pour la valeur de $f$ et sa transformée de Fourier. On prend soin également de respecter l'alignement de la mémoire en transposant le tableau contenant $f$ pour calculer la FFT. On utilise plus de mémoire, on fait plus de calcul en ajoutant les transpositions mais finalement le calcul va 3 fois plus vite car on évite les allocations et on limite les accès mémoire."
   ]
  },
  {
   "cell_type": "code",
   "execution_count": 13,
   "id": "3c6f847b",
   "metadata": {},
   "outputs": [
    {
     "name": "stdout",
     "output_type": "stream",
     "text": [
      "  18.432 ms (2 allocations: 96 bytes)\n"
     ]
    }
   ],
   "source": [
    "f  = zeros(ComplexF64, (nx,ny))\n",
    "fᵗ = zeros(ComplexF64, reverse(size(f)))\n",
    "f̂ᵗ = zeros(ComplexF64, reverse(size(f)))\n",
    "f .= sin.(x) .* cos.(y')\n",
    "fft_plan = plan_fft(fᵗ, 1, flags=FFTW.PATIENT)\n",
    "function df_dy!( f, fᵗ, f̂ᵗ, exky )\n",
    "    transpose!(fᵗ,f)\n",
    "    mul!(f̂ᵗ,  fft_plan, fᵗ)\n",
    "    f̂ᵗ .= f̂ᵗ .* exky\n",
    "    ldiv!(fᵗ, fft_plan, f̂ᵗ)\n",
    "    transpose!(f, fᵗ)\n",
    "end\n",
    "@btime df_dy!($f, $fᵗ, $f̂ᵗ, $exky );"
   ]
  },
  {
   "cell_type": "markdown",
   "id": "c3b8a7b3",
   "metadata": {},
   "source": [
    "## Vues explicites"
   ]
  },
  {
   "cell_type": "code",
   "execution_count": 14,
   "id": "a6480eaf",
   "metadata": {},
   "outputs": [
    {
     "name": "stdout",
     "output_type": "stream",
     "text": [
      "  1.163 μs (3 allocations: 8.16 KiB)\n"
     ]
    },
    {
     "data": {
      "text/plain": [
       "-37.45424678271367"
      ]
     },
     "execution_count": 14,
     "metadata": {},
     "output_type": "execute_result"
    }
   ],
   "source": [
    "@btime sum(T[:,1]) # Somme de la première colonne"
   ]
  },
  {
   "cell_type": "code",
   "execution_count": 15,
   "id": "ba8e1a35",
   "metadata": {},
   "outputs": [
    {
     "name": "stdout",
     "output_type": "stream",
     "text": [
      "  229.237 ns (3 allocations: 80 bytes)\n"
     ]
    },
    {
     "data": {
      "text/plain": [
       "-37.45424678271367"
      ]
     },
     "execution_count": 15,
     "metadata": {},
     "output_type": "execute_result"
    }
   ],
   "source": [
    "@btime sum(view(T,:,1))  "
   ]
  },
  {
   "cell_type": "markdown",
   "id": "775dbeb8",
   "metadata": {},
   "source": [
    "## Eviter les calculs dans l'environnement global."
   ]
  },
  {
   "cell_type": "code",
   "execution_count": 18,
   "id": "db2a0a00",
   "metadata": {},
   "outputs": [
    {
     "name": "stdout",
     "output_type": "stream",
     "text": [
      "  86.435 μs (3978 allocations: 77.77 KiB)\n"
     ]
    },
    {
     "data": {
      "text/plain": [
       "512.5043541109563"
      ]
     },
     "execution_count": 18,
     "metadata": {},
     "output_type": "execute_result"
    }
   ],
   "source": [
    "v = rand(1000)\n",
    "\n",
    "function somme()\n",
    "    acc = 0\n",
    "    for i in eachindex(v) \n",
    "        acc += v[i]\n",
    "    end\n",
    "    acc\n",
    "end\n",
    "\n",
    "@btime somme()\n"
   ]
  },
  {
   "cell_type": "code",
   "execution_count": 23,
   "id": "cdb5ddbc",
   "metadata": {},
   "outputs": [
    {
     "data": {
      "text/plain": [
       "CodeInfo(\n",
       "\u001b[90m1 ─\u001b[39m       acc = 0\n",
       "\u001b[90m│  \u001b[39m %2  = Main.eachindex(Main.v)\n",
       "\u001b[90m│  \u001b[39m       @_2 = Base.iterate(%2)\n",
       "\u001b[90m│  \u001b[39m %4  = @_2 === nothing\n",
       "\u001b[90m│  \u001b[39m %5  = Base.not_int(%4)\n",
       "\u001b[90m└──\u001b[39m       goto #4 if not %5\n",
       "\u001b[90m2 ┄\u001b[39m %7  = @_2\n",
       "\u001b[90m│  \u001b[39m       i = Core.getfield(%7, 1)\n",
       "\u001b[90m│  \u001b[39m %9  = Core.getfield(%7, 2)\n",
       "\u001b[90m│  \u001b[39m %10 = acc\n",
       "\u001b[90m│  \u001b[39m %11 = Base.getindex(Main.v, i)\n",
       "\u001b[90m│  \u001b[39m       acc = %10 + %11\n",
       "\u001b[90m│  \u001b[39m       @_2 = Base.iterate(%2, %9)\n",
       "\u001b[90m│  \u001b[39m %14 = @_2 === nothing\n",
       "\u001b[90m│  \u001b[39m %15 = Base.not_int(%14)\n",
       "\u001b[90m└──\u001b[39m       goto #4 if not %15\n",
       "\u001b[90m3 ─\u001b[39m       goto #2\n",
       "\u001b[90m4 ┄\u001b[39m       return acc\n",
       ")"
      ]
     },
     "execution_count": 23,
     "metadata": {},
     "output_type": "execute_result"
    }
   ],
   "source": [
    "@code_lowered somme()"
   ]
  },
  {
   "cell_type": "markdown",
   "id": "848cae30",
   "metadata": {},
   "source": [
    "Il faut écrire des fonctions"
   ]
  },
  {
   "cell_type": "code",
   "execution_count": 20,
   "id": "c9755115",
   "metadata": {},
   "outputs": [
    {
     "name": "stdout",
     "output_type": "stream",
     "text": [
      "  2.300 μs (1 allocation: 16 bytes)\n"
     ]
    },
    {
     "data": {
      "text/plain": [
       "512.5043541109563"
      ]
     },
     "execution_count": 20,
     "metadata": {},
     "output_type": "execute_result"
    }
   ],
   "source": [
    "function somme( x )\n",
    "    acc = 0\n",
    "    for i in eachindex(x) \n",
    "        acc += x[i]\n",
    "    end\n",
    "    acc\n",
    "end\n",
    "\n",
    "@btime somme( v )\n",
    "    "
   ]
  },
  {
   "cell_type": "code",
   "execution_count": 22,
   "id": "08de1e7b",
   "metadata": {},
   "outputs": [
    {
     "data": {
      "text/plain": [
       "CodeInfo(\n",
       "\u001b[90m1 ─\u001b[39m       acc = 0\n",
       "\u001b[90m│  \u001b[39m %2  = Main.eachindex(x)\n",
       "\u001b[90m│  \u001b[39m       @_3 = Base.iterate(%2)\n",
       "\u001b[90m│  \u001b[39m %4  = @_3 === nothing\n",
       "\u001b[90m│  \u001b[39m %5  = Base.not_int(%4)\n",
       "\u001b[90m└──\u001b[39m       goto #4 if not %5\n",
       "\u001b[90m2 ┄\u001b[39m %7  = @_3\n",
       "\u001b[90m│  \u001b[39m       i = Core.getfield(%7, 1)\n",
       "\u001b[90m│  \u001b[39m %9  = Core.getfield(%7, 2)\n",
       "\u001b[90m│  \u001b[39m %10 = acc\n",
       "\u001b[90m│  \u001b[39m %11 = Base.getindex(x, i)\n",
       "\u001b[90m│  \u001b[39m       acc = %10 + %11\n",
       "\u001b[90m│  \u001b[39m       @_3 = Base.iterate(%2, %9)\n",
       "\u001b[90m│  \u001b[39m %14 = @_3 === nothing\n",
       "\u001b[90m│  \u001b[39m %15 = Base.not_int(%14)\n",
       "\u001b[90m└──\u001b[39m       goto #4 if not %15\n",
       "\u001b[90m3 ─\u001b[39m       goto #2\n",
       "\u001b[90m4 ┄\u001b[39m       return acc\n",
       ")"
      ]
     },
     "execution_count": 22,
     "metadata": {},
     "output_type": "execute_result"
    }
   ],
   "source": [
    "@code_lowered somme(v)"
   ]
  },
  {
   "cell_type": "markdown",
   "id": "89a8b11d",
   "metadata": {},
   "source": [
    "Pour comprendre pourquoi l'utilisation de variable global influence les performances, prenons un exemple simple d'une fonction additionnant deux nombres:"
   ]
  },
  {
   "cell_type": "code",
   "execution_count": 24,
   "id": "a4f9b893",
   "metadata": {},
   "outputs": [
    {
     "name": "stdout",
     "output_type": "stream",
     "text": [
      "  19.534 ns (0 allocations: 0 bytes)\n"
     ]
    },
    {
     "data": {
      "text/plain": [
       "20"
      ]
     },
     "execution_count": 24,
     "metadata": {},
     "output_type": "execute_result"
    }
   ],
   "source": [
    "variable = 10\n",
    "\n",
    "function addition_variable_globale(x)\n",
    "    x + variable\n",
    "end\n",
    "\n",
    "@btime addition_variable_globale(10)"
   ]
  },
  {
   "cell_type": "markdown",
   "id": "099736b8",
   "metadata": {},
   "source": [
    "Comparons la performance avec cette fonction qui retourne la somme de ses deux arguments"
   ]
  },
  {
   "cell_type": "code",
   "execution_count": 26,
   "id": "f85b9a54",
   "metadata": {},
   "outputs": [
    {
     "name": "stdout",
     "output_type": "stream",
     "text": [
      "  0.041 ns (0 allocations: 0 bytes)\n"
     ]
    },
    {
     "data": {
      "text/plain": [
       "20"
      ]
     },
     "execution_count": 26,
     "metadata": {},
     "output_type": "execute_result"
    }
   ],
   "source": [
    "function addition_deux_arguments(x, y)\n",
    "    x + y\n",
    "end\n",
    "\n",
    "@btime addition_deux_arguments(10, 10)"
   ]
  },
  {
   "cell_type": "markdown",
   "id": "e2769b84",
   "metadata": {},
   "source": [
    "On remarque que la deuxième fonction est 300 fois plus rapide que la première. Pour comprendre pourquoi elle est plus rapide, on peut regarder le code généré avant la compilation. On s'appercoit que le code est relativement simple avec une utilisation unique de l'instruction `add`."
   ]
  },
  {
   "cell_type": "code",
   "execution_count": 27,
   "id": "b1f16cd9",
   "metadata": {},
   "outputs": [
    {
     "name": "stdout",
     "output_type": "stream",
     "text": [
      "\u001b[90m;  @ In[26]:1 within `addition_deux_arguments`\u001b[39m\n",
      "\u001b[95mdefine\u001b[39m \u001b[36mi64\u001b[39m \u001b[93m@julia_addition_deux_arguments_2713\u001b[39m\u001b[33m(\u001b[39m\u001b[36mi64\u001b[39m \u001b[95msignext\u001b[39m \u001b[0m%0\u001b[0m, \u001b[36mi64\u001b[39m \u001b[95msignext\u001b[39m \u001b[0m%1\u001b[33m)\u001b[39m \u001b[0m#0 \u001b[33m{\u001b[39m\n",
      "\u001b[91mtop:\u001b[39m\n",
      "\u001b[90m;  @ In[26]:2 within `addition_deux_arguments`\u001b[39m\n",
      "\u001b[90m; ┌ @ int.jl:87 within `+`\u001b[39m\n",
      "   \u001b[0m%2 \u001b[0m= \u001b[96m\u001b[1madd\u001b[22m\u001b[39m \u001b[36mi64\u001b[39m \u001b[0m%1\u001b[0m, \u001b[0m%0\n",
      "\u001b[90m; └\u001b[39m\n",
      "  \u001b[96m\u001b[1mret\u001b[22m\u001b[39m \u001b[36mi64\u001b[39m \u001b[0m%2\n",
      "\u001b[33m}\u001b[39m\n"
     ]
    }
   ],
   "source": [
    "@code_llvm addition_deux_arguments(10, 10)"
   ]
  },
  {
   "cell_type": "markdown",
   "id": "0f3f1e9a",
   "metadata": {},
   "source": [
    "Si on regarde le code généré utilisant la variable globale, on comprend rapidement pourquoi c'est plus long. Pourquoi le code est-il si compliqué ? Ici le langage ne connait pas le type de `variable`, il doit donc prendre en compte le fait que ce type puisse être modifié à tout moment. Comme tous les cas sont envisagés, cela provoque un surcoût important."
   ]
  },
  {
   "cell_type": "code",
   "execution_count": 28,
   "id": "44c9ab63",
   "metadata": {},
   "outputs": [
    {
     "name": "stdout",
     "output_type": "stream",
     "text": [
      "\u001b[90m;  @ In[24]:3 within `addition_variable_globale`\u001b[39m\n",
      "\u001b[95mdefine\u001b[39m \u001b[95mnonnull\u001b[39m \u001b[33m{\u001b[39m\u001b[33m}\u001b[39m\u001b[0m* \u001b[93m@julia_addition_variable_globale_2715\u001b[39m\u001b[33m(\u001b[39m\u001b[36mi64\u001b[39m \u001b[95msignext\u001b[39m \u001b[0m%0\u001b[33m)\u001b[39m \u001b[0m#0 \u001b[33m{\u001b[39m\n",
      "\u001b[91mtop:\u001b[39m\n",
      "  \u001b[0m%1 \u001b[0m= \u001b[96m\u001b[1malloca\u001b[22m\u001b[39m \u001b[33m[\u001b[39m\u001b[33m2\u001b[39m \u001b[0mx \u001b[33m{\u001b[39m\u001b[33m}\u001b[39m\u001b[0m*\u001b[33m]\u001b[39m\u001b[0m, \u001b[95malign\u001b[39m \u001b[33m8\u001b[39m\n",
      "  \u001b[0m%gcframe2 \u001b[0m= \u001b[96m\u001b[1malloca\u001b[22m\u001b[39m \u001b[33m[\u001b[39m\u001b[33m4\u001b[39m \u001b[0mx \u001b[33m{\u001b[39m\u001b[33m}\u001b[39m\u001b[0m*\u001b[33m]\u001b[39m\u001b[0m, \u001b[95malign\u001b[39m \u001b[33m16\u001b[39m\n",
      "  \u001b[0m%gcframe2.sub \u001b[0m= \u001b[96m\u001b[1mgetelementptr\u001b[22m\u001b[39m \u001b[95minbounds\u001b[39m \u001b[33m[\u001b[39m\u001b[33m4\u001b[39m \u001b[0mx \u001b[33m{\u001b[39m\u001b[33m}\u001b[39m\u001b[0m*\u001b[33m]\u001b[39m\u001b[0m, \u001b[33m[\u001b[39m\u001b[33m4\u001b[39m \u001b[0mx \u001b[33m{\u001b[39m\u001b[33m}\u001b[39m\u001b[0m*\u001b[33m]\u001b[39m\u001b[0m* \u001b[0m%gcframe2\u001b[0m, \u001b[36mi64\u001b[39m \u001b[33m0\u001b[39m\u001b[0m, \u001b[36mi64\u001b[39m \u001b[33m0\u001b[39m\n",
      "  \u001b[0m%.sub \u001b[0m= \u001b[96m\u001b[1mgetelementptr\u001b[22m\u001b[39m \u001b[95minbounds\u001b[39m \u001b[33m[\u001b[39m\u001b[33m2\u001b[39m \u001b[0mx \u001b[33m{\u001b[39m\u001b[33m}\u001b[39m\u001b[0m*\u001b[33m]\u001b[39m\u001b[0m, \u001b[33m[\u001b[39m\u001b[33m2\u001b[39m \u001b[0mx \u001b[33m{\u001b[39m\u001b[33m}\u001b[39m\u001b[0m*\u001b[33m]\u001b[39m\u001b[0m* \u001b[0m%1\u001b[0m, \u001b[36mi64\u001b[39m \u001b[33m0\u001b[39m\u001b[0m, \u001b[36mi64\u001b[39m \u001b[33m0\u001b[39m\n",
      "  \u001b[0m%2 \u001b[0m= \u001b[96m\u001b[1mbitcast\u001b[22m\u001b[39m \u001b[33m[\u001b[39m\u001b[33m4\u001b[39m \u001b[0mx \u001b[33m{\u001b[39m\u001b[33m}\u001b[39m\u001b[0m*\u001b[33m]\u001b[39m\u001b[0m* \u001b[0m%gcframe2 \u001b[95mto\u001b[39m \u001b[36mi8\u001b[39m\u001b[0m*\n",
      "  \u001b[96m\u001b[1mcall\u001b[22m\u001b[39m \u001b[36mvoid\u001b[39m \u001b[93m@llvm.memset.p0i8.i32\u001b[39m\u001b[33m(\u001b[39m\u001b[36mi8\u001b[39m\u001b[0m* \u001b[95mnonnull\u001b[39m \u001b[95malign\u001b[39m \u001b[33m16\u001b[39m \u001b[95mdereferenceable\u001b[39m\u001b[33m(\u001b[39m\u001b[33m32\u001b[39m\u001b[33m)\u001b[39m \u001b[0m%2\u001b[0m, \u001b[36mi8\u001b[39m \u001b[33m0\u001b[39m\u001b[0m, \u001b[36mi32\u001b[39m \u001b[33m32\u001b[39m\u001b[0m, \u001b[36mi1\u001b[39m \u001b[95mfalse\u001b[39m\u001b[33m)\u001b[39m\n",
      "  \u001b[0m%3 \u001b[0m= \u001b[96m\u001b[1mcall\u001b[22m\u001b[39m \u001b[33m{\u001b[39m\u001b[33m}\u001b[39m\u001b[0m*** \u001b[95minttoptr\u001b[39m \u001b[33m(\u001b[39m\u001b[36mi64\u001b[39m \u001b[33m140703307841493\u001b[39m \u001b[95mto\u001b[39m \u001b[33m{\u001b[39m\u001b[33m}\u001b[39m\u001b[0m*** \u001b[33m(\u001b[39m\u001b[36mi64\u001b[39m\u001b[33m)\u001b[39m\u001b[0m*\u001b[33m)\u001b[39m\u001b[33m(\u001b[39m\u001b[36mi64\u001b[39m \u001b[33m260\u001b[39m\u001b[33m)\u001b[39m \u001b[0m#3\n",
      "\u001b[90m;  @ In[24]:4 within `addition_variable_globale`\u001b[39m\n",
      "  \u001b[0m%4 \u001b[0m= \u001b[96m\u001b[1mbitcast\u001b[22m\u001b[39m \u001b[33m[\u001b[39m\u001b[33m4\u001b[39m \u001b[0mx \u001b[33m{\u001b[39m\u001b[33m}\u001b[39m\u001b[0m*\u001b[33m]\u001b[39m\u001b[0m* \u001b[0m%gcframe2 \u001b[95mto\u001b[39m \u001b[36mi64\u001b[39m\u001b[0m*\n",
      "  \u001b[96m\u001b[1mstore\u001b[22m\u001b[39m \u001b[36mi64\u001b[39m \u001b[33m8\u001b[39m\u001b[0m, \u001b[36mi64\u001b[39m\u001b[0m* \u001b[0m%4\u001b[0m, \u001b[95malign\u001b[39m \u001b[33m16\u001b[39m\n",
      "  \u001b[0m%5 \u001b[0m= \u001b[96m\u001b[1mload\u001b[22m\u001b[39m \u001b[33m{\u001b[39m\u001b[33m}\u001b[39m\u001b[0m**\u001b[0m, \u001b[33m{\u001b[39m\u001b[33m}\u001b[39m\u001b[0m*** \u001b[0m%3\u001b[0m, \u001b[95malign\u001b[39m \u001b[33m8\u001b[39m\n",
      "  \u001b[0m%6 \u001b[0m= \u001b[96m\u001b[1mgetelementptr\u001b[22m\u001b[39m \u001b[95minbounds\u001b[39m \u001b[33m[\u001b[39m\u001b[33m4\u001b[39m \u001b[0mx \u001b[33m{\u001b[39m\u001b[33m}\u001b[39m\u001b[0m*\u001b[33m]\u001b[39m\u001b[0m, \u001b[33m[\u001b[39m\u001b[33m4\u001b[39m \u001b[0mx \u001b[33m{\u001b[39m\u001b[33m}\u001b[39m\u001b[0m*\u001b[33m]\u001b[39m\u001b[0m* \u001b[0m%gcframe2\u001b[0m, \u001b[36mi64\u001b[39m \u001b[33m0\u001b[39m\u001b[0m, \u001b[36mi64\u001b[39m \u001b[33m1\u001b[39m\n",
      "  \u001b[0m%7 \u001b[0m= \u001b[96m\u001b[1mbitcast\u001b[22m\u001b[39m \u001b[33m{\u001b[39m\u001b[33m}\u001b[39m\u001b[0m** \u001b[0m%6 \u001b[95mto\u001b[39m \u001b[33m{\u001b[39m\u001b[33m}\u001b[39m\u001b[0m***\n",
      "  \u001b[96m\u001b[1mstore\u001b[22m\u001b[39m \u001b[33m{\u001b[39m\u001b[33m}\u001b[39m\u001b[0m** \u001b[0m%5\u001b[0m, \u001b[33m{\u001b[39m\u001b[33m}\u001b[39m\u001b[0m*** \u001b[0m%7\u001b[0m, \u001b[95malign\u001b[39m \u001b[33m8\u001b[39m\n",
      "  \u001b[0m%8 \u001b[0m= \u001b[96m\u001b[1mbitcast\u001b[22m\u001b[39m \u001b[33m{\u001b[39m\u001b[33m}\u001b[39m\u001b[0m*** \u001b[0m%3 \u001b[95mto\u001b[39m \u001b[33m{\u001b[39m\u001b[33m}\u001b[39m\u001b[0m***\n",
      "  \u001b[96m\u001b[1mstore\u001b[22m\u001b[39m \u001b[33m{\u001b[39m\u001b[33m}\u001b[39m\u001b[0m** \u001b[0m%gcframe2.sub\u001b[0m, \u001b[33m{\u001b[39m\u001b[33m}\u001b[39m\u001b[0m*** \u001b[0m%8\u001b[0m, \u001b[95malign\u001b[39m \u001b[33m8\u001b[39m\n",
      "  \u001b[0m%9 \u001b[0m= \u001b[96m\u001b[1mload\u001b[22m\u001b[39m \u001b[95matomic\u001b[39m \u001b[33m{\u001b[39m\u001b[33m}\u001b[39m\u001b[0m*\u001b[0m, \u001b[33m{\u001b[39m\u001b[33m}\u001b[39m\u001b[0m** \u001b[95minttoptr\u001b[39m \u001b[33m(\u001b[39m\u001b[36mi64\u001b[39m \u001b[33m5350563688\u001b[39m \u001b[95mto\u001b[39m \u001b[33m{\u001b[39m\u001b[33m}\u001b[39m\u001b[0m**\u001b[33m)\u001b[39m \u001b[95munordered\u001b[39m\u001b[0m, \u001b[95malign\u001b[39m \u001b[33m8\u001b[39m\n",
      "  \u001b[0m%10 \u001b[0m= \u001b[96m\u001b[1mgetelementptr\u001b[22m\u001b[39m \u001b[95minbounds\u001b[39m \u001b[33m[\u001b[39m\u001b[33m4\u001b[39m \u001b[0mx \u001b[33m{\u001b[39m\u001b[33m}\u001b[39m\u001b[0m*\u001b[33m]\u001b[39m\u001b[0m, \u001b[33m[\u001b[39m\u001b[33m4\u001b[39m \u001b[0mx \u001b[33m{\u001b[39m\u001b[33m}\u001b[39m\u001b[0m*\u001b[33m]\u001b[39m\u001b[0m* \u001b[0m%gcframe2\u001b[0m, \u001b[36mi64\u001b[39m \u001b[33m0\u001b[39m\u001b[0m, \u001b[36mi64\u001b[39m \u001b[33m2\u001b[39m\n",
      "  \u001b[96m\u001b[1mstore\u001b[22m\u001b[39m \u001b[33m{\u001b[39m\u001b[33m}\u001b[39m\u001b[0m* \u001b[0m%9\u001b[0m, \u001b[33m{\u001b[39m\u001b[33m}\u001b[39m\u001b[0m** \u001b[0m%10\u001b[0m, \u001b[95malign\u001b[39m \u001b[33m16\u001b[39m\n",
      "  \u001b[0m%11 \u001b[0m= \u001b[96m\u001b[1mcall\u001b[22m\u001b[39m \u001b[95mnonnull\u001b[39m \u001b[33m{\u001b[39m\u001b[33m}\u001b[39m\u001b[0m* \u001b[93m@jl_box_int64\u001b[39m\u001b[33m(\u001b[39m\u001b[36mi64\u001b[39m \u001b[95msignext\u001b[39m \u001b[0m%0\u001b[33m)\u001b[39m\n",
      "  \u001b[0m%12 \u001b[0m= \u001b[96m\u001b[1mgetelementptr\u001b[22m\u001b[39m \u001b[95minbounds\u001b[39m \u001b[33m[\u001b[39m\u001b[33m4\u001b[39m \u001b[0mx \u001b[33m{\u001b[39m\u001b[33m}\u001b[39m\u001b[0m*\u001b[33m]\u001b[39m\u001b[0m, \u001b[33m[\u001b[39m\u001b[33m4\u001b[39m \u001b[0mx \u001b[33m{\u001b[39m\u001b[33m}\u001b[39m\u001b[0m*\u001b[33m]\u001b[39m\u001b[0m* \u001b[0m%gcframe2\u001b[0m, \u001b[36mi64\u001b[39m \u001b[33m0\u001b[39m\u001b[0m, \u001b[36mi64\u001b[39m \u001b[33m3\u001b[39m\n",
      "  \u001b[96m\u001b[1mstore\u001b[22m\u001b[39m \u001b[33m{\u001b[39m\u001b[33m}\u001b[39m\u001b[0m* \u001b[0m%11\u001b[0m, \u001b[33m{\u001b[39m\u001b[33m}\u001b[39m\u001b[0m** \u001b[0m%12\u001b[0m, \u001b[95malign\u001b[39m \u001b[33m8\u001b[39m\n",
      "  \u001b[96m\u001b[1mstore\u001b[22m\u001b[39m \u001b[33m{\u001b[39m\u001b[33m}\u001b[39m\u001b[0m* \u001b[0m%11\u001b[0m, \u001b[33m{\u001b[39m\u001b[33m}\u001b[39m\u001b[0m** \u001b[0m%.sub\u001b[0m, \u001b[95malign\u001b[39m \u001b[33m8\u001b[39m\n",
      "  \u001b[0m%13 \u001b[0m= \u001b[96m\u001b[1mgetelementptr\u001b[22m\u001b[39m \u001b[95minbounds\u001b[39m \u001b[33m[\u001b[39m\u001b[33m2\u001b[39m \u001b[0mx \u001b[33m{\u001b[39m\u001b[33m}\u001b[39m\u001b[0m*\u001b[33m]\u001b[39m\u001b[0m, \u001b[33m[\u001b[39m\u001b[33m2\u001b[39m \u001b[0mx \u001b[33m{\u001b[39m\u001b[33m}\u001b[39m\u001b[0m*\u001b[33m]\u001b[39m\u001b[0m* \u001b[0m%1\u001b[0m, \u001b[36mi64\u001b[39m \u001b[33m0\u001b[39m\u001b[0m, \u001b[36mi64\u001b[39m \u001b[33m1\u001b[39m\n",
      "  \u001b[96m\u001b[1mstore\u001b[22m\u001b[39m \u001b[33m{\u001b[39m\u001b[33m}\u001b[39m\u001b[0m* \u001b[0m%9\u001b[0m, \u001b[33m{\u001b[39m\u001b[33m}\u001b[39m\u001b[0m** \u001b[0m%13\u001b[0m, \u001b[95malign\u001b[39m \u001b[33m8\u001b[39m\n",
      "  \u001b[0m%14 \u001b[0m= \u001b[96m\u001b[1mcall\u001b[22m\u001b[39m \u001b[95mnonnull\u001b[39m \u001b[33m{\u001b[39m\u001b[33m}\u001b[39m\u001b[0m* \u001b[93m@jl_apply_generic\u001b[39m\u001b[33m(\u001b[39m\u001b[33m{\u001b[39m\u001b[33m}\u001b[39m\u001b[0m* \u001b[95minttoptr\u001b[39m \u001b[33m(\u001b[39m\u001b[36mi64\u001b[39m \u001b[33m4792167856\u001b[39m \u001b[95mto\u001b[39m \u001b[33m{\u001b[39m\u001b[33m}\u001b[39m\u001b[0m*\u001b[33m)\u001b[39m\u001b[0m, \u001b[33m{\u001b[39m\u001b[33m}\u001b[39m\u001b[0m** \u001b[95mnonnull\u001b[39m \u001b[0m%.sub\u001b[0m, \u001b[36mi32\u001b[39m \u001b[33m2\u001b[39m\u001b[33m)\u001b[39m\n",
      "  \u001b[0m%15 \u001b[0m= \u001b[96m\u001b[1mload\u001b[22m\u001b[39m \u001b[33m{\u001b[39m\u001b[33m}\u001b[39m\u001b[0m*\u001b[0m, \u001b[33m{\u001b[39m\u001b[33m}\u001b[39m\u001b[0m** \u001b[0m%6\u001b[0m, \u001b[95malign\u001b[39m \u001b[33m8\u001b[39m\n",
      "  \u001b[0m%16 \u001b[0m= \u001b[96m\u001b[1mbitcast\u001b[22m\u001b[39m \u001b[33m{\u001b[39m\u001b[33m}\u001b[39m\u001b[0m*** \u001b[0m%3 \u001b[95mto\u001b[39m \u001b[33m{\u001b[39m\u001b[33m}\u001b[39m\u001b[0m**\n",
      "  \u001b[96m\u001b[1mstore\u001b[22m\u001b[39m \u001b[33m{\u001b[39m\u001b[33m}\u001b[39m\u001b[0m* \u001b[0m%15\u001b[0m, \u001b[33m{\u001b[39m\u001b[33m}\u001b[39m\u001b[0m** \u001b[0m%16\u001b[0m, \u001b[95malign\u001b[39m \u001b[33m8\u001b[39m\n",
      "  \u001b[96m\u001b[1mret\u001b[22m\u001b[39m \u001b[33m{\u001b[39m\u001b[33m}\u001b[39m\u001b[0m* \u001b[0m%14\n",
      "\u001b[33m}\u001b[39m\n"
     ]
    }
   ],
   "source": [
    "@code_llvm addition_variable_globale(10)"
   ]
  },
  {
   "cell_type": "markdown",
   "id": "0280aba5",
   "metadata": {},
   "source": [
    "Il est donc possible d'améliorer la performance en fixant la valeur de la variable globale avec l'instruction `const`."
   ]
  },
  {
   "cell_type": "code",
   "execution_count": 32,
   "id": "06925d7f",
   "metadata": {},
   "outputs": [
    {
     "name": "stdout",
     "output_type": "stream",
     "text": [
      "  0.049 ns (0 allocations: 0 bytes)\n"
     ]
    },
    {
     "data": {
      "text/plain": [
       "20"
      ]
     },
     "execution_count": 32,
     "metadata": {},
     "output_type": "execute_result"
    }
   ],
   "source": [
    "const constante = 10\n",
    "\n",
    "function addition_variable_constante(x)\n",
    "    x + constante\n",
    "end\n",
    "\n",
    "@btime addition_variable_constante(10)"
   ]
  },
  {
   "cell_type": "markdown",
   "id": "c0ce77d0",
   "metadata": {},
   "source": [
    "On peut également fixer le type de cette variable. C'est mieux mais cela reste éloigné, en terme de performance, du résultat précedent."
   ]
  },
  {
   "cell_type": "code",
   "execution_count": 30,
   "id": "3ff88260",
   "metadata": {},
   "outputs": [
    {
     "name": "stdout",
     "output_type": "stream",
     "text": [
      "  1.861 ns (0 allocations: 0 bytes)\n"
     ]
    },
    {
     "data": {
      "text/plain": [
       "20"
      ]
     },
     "execution_count": 30,
     "metadata": {},
     "output_type": "execute_result"
    }
   ],
   "source": [
    "function addition_variable_typee(x)\n",
    "    x + variable::Int\n",
    "end\n",
    "\n",
    "@btime addition_variable_typee(10)"
   ]
  },
  {
   "cell_type": "markdown",
   "id": "5bd24745",
   "metadata": {},
   "source": [
    "Pour régler notre problème de performance avec une variable globale, il faut la passer en argument dans la fonction."
   ]
  },
  {
   "cell_type": "code",
   "execution_count": null,
   "id": "f2a754aa",
   "metadata": {},
   "outputs": [],
   "source": [
    "function addition_variable_globale_en_argument(x, v)\n",
    "    x + v\n",
    "end"
   ]
  },
  {
   "cell_type": "code",
   "execution_count": null,
   "id": "0b9ebcdd",
   "metadata": {
    "lines_to_next_cell": 2
   },
   "outputs": [],
   "source": [
    "@btime addition_variable_globale_en_argument(10, $variable)"
   ]
  },
  {
   "cell_type": "markdown",
   "id": "e87af8f2",
   "metadata": {},
   "source": [
    "## Instabilité de type\n",
    "\n",
    "Une fonction est de type stable lorsque vous pouvez déduire ce que doit être la sortie de la fonction. L'exemple ci-dessous rendra les choses plus claires. En règle générale, les fonctions de type stable sont plus rapides.\n"
   ]
  },
  {
   "cell_type": "code",
   "execution_count": 33,
   "id": "74ebc790",
   "metadata": {},
   "outputs": [
    {
     "data": {
      "text/plain": [
       "carre_plus_un (generic function with 1 method)"
      ]
     },
     "execution_count": 33,
     "metadata": {},
     "output_type": "execute_result"
    }
   ],
   "source": [
    "function carre_plus_un(v::T) where T <:Number\n",
    "    g = v * v\n",
    "    return g+1\n",
    "end"
   ]
  },
  {
   "cell_type": "code",
   "execution_count": 34,
   "id": "4edca01f",
   "metadata": {},
   "outputs": [
    {
     "data": {
      "text/plain": [
       "0.79927465273255"
      ]
     },
     "execution_count": 34,
     "metadata": {},
     "output_type": "execute_result"
    }
   ],
   "source": [
    "v = rand()"
   ]
  },
  {
   "cell_type": "code",
   "execution_count": 35,
   "id": "99485981",
   "metadata": {},
   "outputs": [
    {
     "name": "stdout",
     "output_type": "stream",
     "text": [
      "MethodInstance for carre_plus_un(::Float64)\n",
      "  from carre_plus_un(v::T) where T<:Number in Main at In[33]:1\n",
      "Static Parameters\n",
      "  T = \u001b[36mFloat64\u001b[39m\n",
      "Arguments\n",
      "  #self#\u001b[36m::Core.Const(carre_plus_un)\u001b[39m\n",
      "  v\u001b[36m::Float64\u001b[39m\n",
      "Locals\n",
      "  g\u001b[36m::Float64\u001b[39m\n",
      "Body\u001b[36m::Float64\u001b[39m\n",
      "\u001b[90m1 ─\u001b[39m      (g = v * v)\n",
      "\u001b[90m│  \u001b[39m %2 = (g + 1)\u001b[36m::Float64\u001b[39m\n",
      "\u001b[90m└──\u001b[39m      return %2\n",
      "\n"
     ]
    }
   ],
   "source": [
    "@code_warntype carre_plus_un(v)"
   ]
  },
  {
   "cell_type": "code",
   "execution_count": 36,
   "id": "9dca48e3",
   "metadata": {},
   "outputs": [
    {
     "data": {
      "text/plain": [
       "5"
      ]
     },
     "execution_count": 36,
     "metadata": {},
     "output_type": "execute_result"
    }
   ],
   "source": [
    "w = 5"
   ]
  },
  {
   "cell_type": "code",
   "execution_count": 37,
   "id": "a28229a7",
   "metadata": {},
   "outputs": [
    {
     "name": "stdout",
     "output_type": "stream",
     "text": [
      "MethodInstance for carre_plus_un(::Int64)\n",
      "  from carre_plus_un(v::T) where T<:Number in Main at In[33]:1\n",
      "Static Parameters\n",
      "  T = \u001b[36mInt64\u001b[39m\n",
      "Arguments\n",
      "  #self#\u001b[36m::Core.Const(carre_plus_un)\u001b[39m\n",
      "  v\u001b[36m::Int64\u001b[39m\n",
      "Locals\n",
      "  g\u001b[36m::Int64\u001b[39m\n",
      "Body\u001b[36m::Int64\u001b[39m\n",
      "\u001b[90m1 ─\u001b[39m      (g = v * v)\n",
      "\u001b[90m│  \u001b[39m %2 = (g + 1)\u001b[36m::Int64\u001b[39m\n",
      "\u001b[90m└──\u001b[39m      return %2\n",
      "\n"
     ]
    }
   ],
   "source": [
    "@code_warntype carre_plus_un(w)"
   ]
  },
  {
   "cell_type": "markdown",
   "id": "ceafe1d0",
   "metadata": {},
   "source": [
    "Sur les deux exemples précedents on peut déduire le type de sortie de la fonction.\n",
    "```\n",
    "function carre_plus_un(v::T) where T <:Number\n",
    "    g = v*v         # Type(T * T) ==> T\n",
    "    return g+1      # Type(T + Int)) ==> \"max\" (T,Int)\n",
    "end\n",
    "\n",
    "```\n",
    "Le type de la valeur de retour peut être différent: `Float64` ou `Int64`. Mais la fonction est toujours stable.\n",
    "\n",
    "Créons maintenant un nouveau type:"
   ]
  },
  {
   "cell_type": "code",
   "execution_count": 38,
   "id": "150f60c8",
   "metadata": {},
   "outputs": [],
   "source": [
    "mutable struct Cube\n",
    "    length\n",
    "    width\n",
    "    height\n",
    "end"
   ]
  },
  {
   "cell_type": "code",
   "execution_count": 40,
   "id": "9785378b",
   "metadata": {},
   "outputs": [
    {
     "data": {
      "text/plain": [
       "volume (generic function with 1 method)"
      ]
     },
     "execution_count": 40,
     "metadata": {},
     "output_type": "execute_result"
    }
   ],
   "source": [
    "volume(c::Cube) = c.length*c.width*c.height"
   ]
  },
  {
   "cell_type": "code",
   "execution_count": 41,
   "id": "ad094daf",
   "metadata": {},
   "outputs": [
    {
     "data": {
      "text/plain": [
       "volume (generic function with 2 methods)"
      ]
     },
     "execution_count": 41,
     "metadata": {},
     "output_type": "execute_result"
    }
   ],
   "source": [
    "mutable struct Cube_typed\n",
    "    length::Float64\n",
    "    width::Float64\n",
    "    height::Float64\n",
    "end\n",
    "volume(c::Cube_typed) = c.length*c.width*c.height"
   ]
  },
  {
   "cell_type": "code",
   "execution_count": 42,
   "id": "532f1944",
   "metadata": {},
   "outputs": [
    {
     "data": {
      "text/plain": [
       "volume (generic function with 3 methods)"
      ]
     },
     "execution_count": 42,
     "metadata": {},
     "output_type": "execute_result"
    }
   ],
   "source": [
    "mutable struct Cube_parametric_typed{T <: Real}\n",
    "    length :: T\n",
    "    width :: T\n",
    "    height :: T\n",
    "end\n",
    "volume(c::Cube_parametric_typed) = c.length*c.width*c.height"
   ]
  },
  {
   "cell_type": "code",
   "execution_count": 43,
   "id": "513032b3",
   "metadata": {},
   "outputs": [
    {
     "name": "stdout",
     "output_type": "stream",
     "text": [
      "volume(c1) == volume(c2) == volume(c3) = true\n"
     ]
    },
    {
     "data": {
      "text/plain": [
       "true"
      ]
     },
     "execution_count": 43,
     "metadata": {},
     "output_type": "execute_result"
    }
   ],
   "source": [
    "c1 = Cube(1.1,1.2,1.3)\n",
    "c2 = Cube_typed(1.1,1.2,1.3)\n",
    "c3 = Cube_parametric_typed(1.1,1.2,1.3)\n",
    "@show volume(c1) == volume(c2) == volume(c3)"
   ]
  },
  {
   "cell_type": "code",
   "execution_count": 44,
   "id": "559b8262",
   "metadata": {},
   "outputs": [
    {
     "name": "stdout",
     "output_type": "stream",
     "text": [
      "  26.116 ns (1 allocation: 16 bytes)\n",
      "  6.881 ns (1 allocation: 16 bytes)\n",
      "  17.550 ns (1 allocation: 16 bytes)\n"
     ]
    },
    {
     "data": {
      "text/plain": [
       "1.7160000000000002"
      ]
     },
     "execution_count": 44,
     "metadata": {},
     "output_type": "execute_result"
    }
   ],
   "source": [
    "using BenchmarkTools\n",
    "@btime volume(c1) # not typed\n",
    "@btime volume(c2) # typed float\n",
    "@btime volume(c3) # typed parametric"
   ]
  },
  {
   "cell_type": "code",
   "execution_count": 47,
   "id": "38218767",
   "metadata": {},
   "outputs": [
    {
     "name": "stdout",
     "output_type": "stream",
     "text": [
      "  19.667 ns (1 allocation: 16 bytes)\n"
     ]
    },
    {
     "data": {
      "text/plain": [
       "1.7160000000000002"
      ]
     },
     "execution_count": 47,
     "metadata": {},
     "output_type": "execute_result"
    }
   ],
   "source": [
    "c4 = Cube_parametric_typed{Float64}(1.1,1.2,1.3)\n",
    "@btime volume(c4) "
   ]
  },
  {
   "cell_type": "markdown",
   "id": "406b45da",
   "metadata": {},
   "source": [
    "The second and the third function calls are faster! Let's call `@code_warntype` and check type stability"
   ]
  },
  {
   "cell_type": "code",
   "execution_count": 48,
   "id": "f6050993",
   "metadata": {},
   "outputs": [
    {
     "name": "stdout",
     "output_type": "stream",
     "text": [
      "MethodInstance for volume(::Cube)\n",
      "  from volume(c::Cube) in Main at In[40]:1\n",
      "Arguments\n",
      "  #self#\u001b[36m::Core.Const(volume)\u001b[39m\n",
      "  c\u001b[36m::Cube\u001b[39m\n",
      "Body\u001b[91m\u001b[1m::Any\u001b[22m\u001b[39m\n",
      "\u001b[90m1 ─\u001b[39m %1 = Base.getproperty(c, :length)\u001b[91m\u001b[1m::Any\u001b[22m\u001b[39m\n",
      "\u001b[90m│  \u001b[39m %2 = Base.getproperty(c, :width)\u001b[91m\u001b[1m::Any\u001b[22m\u001b[39m\n",
      "\u001b[90m│  \u001b[39m %3 = Base.getproperty(c, :height)\u001b[91m\u001b[1m::Any\u001b[22m\u001b[39m\n",
      "\u001b[90m│  \u001b[39m %4 = (%1 * %2 * %3)\u001b[91m\u001b[1m::Any\u001b[22m\u001b[39m\n",
      "\u001b[90m└──\u001b[39m      return %4\n",
      "\n"
     ]
    }
   ],
   "source": [
    "@code_warntype volume(c1)"
   ]
  },
  {
   "cell_type": "code",
   "execution_count": 49,
   "id": "632e6673",
   "metadata": {},
   "outputs": [
    {
     "name": "stdout",
     "output_type": "stream",
     "text": [
      "MethodInstance for volume(::Cube_typed)\n",
      "  from volume(c::Cube_typed) in Main at In[41]:6\n",
      "Arguments\n",
      "  #self#\u001b[36m::Core.Const(volume)\u001b[39m\n",
      "  c\u001b[36m::Cube_typed\u001b[39m\n",
      "Body\u001b[36m::Float64\u001b[39m\n",
      "\u001b[90m1 ─\u001b[39m %1 = Base.getproperty(c, :length)\u001b[36m::Float64\u001b[39m\n",
      "\u001b[90m│  \u001b[39m %2 = Base.getproperty(c, :width)\u001b[36m::Float64\u001b[39m\n",
      "\u001b[90m│  \u001b[39m %3 = Base.getproperty(c, :height)\u001b[36m::Float64\u001b[39m\n",
      "\u001b[90m│  \u001b[39m %4 = (%1 * %2 * %3)\u001b[36m::Float64\u001b[39m\n",
      "\u001b[90m└──\u001b[39m      return %4\n",
      "\n"
     ]
    }
   ],
   "source": [
    "@code_warntype volume(c2)"
   ]
  },
  {
   "cell_type": "code",
   "execution_count": 50,
   "id": "acdc75fe",
   "metadata": {},
   "outputs": [
    {
     "name": "stdout",
     "output_type": "stream",
     "text": [
      "MethodInstance for volume(::Cube_parametric_typed{Float64})\n",
      "  from volume(c::Cube_parametric_typed) in Main at In[42]:6\n",
      "Arguments\n",
      "  #self#\u001b[36m::Core.Const(volume)\u001b[39m\n",
      "  c\u001b[36m::Cube_parametric_typed{Float64}\u001b[39m\n",
      "Body\u001b[36m::Float64\u001b[39m\n",
      "\u001b[90m1 ─\u001b[39m %1 = Base.getproperty(c, :length)\u001b[36m::Float64\u001b[39m\n",
      "\u001b[90m│  \u001b[39m %2 = Base.getproperty(c, :width)\u001b[36m::Float64\u001b[39m\n",
      "\u001b[90m│  \u001b[39m %3 = Base.getproperty(c, :height)\u001b[36m::Float64\u001b[39m\n",
      "\u001b[90m│  \u001b[39m %4 = (%1 * %2 * %3)\u001b[36m::Float64\u001b[39m\n",
      "\u001b[90m└──\u001b[39m      return %4\n",
      "\n"
     ]
    }
   ],
   "source": [
    "@code_warntype volume(c3)"
   ]
  },
  {
   "cell_type": "markdown",
   "id": "29c00202",
   "metadata": {},
   "source": [
    "**Conclusion**: Les types en Julia sont importants donc si vous les connaissez, ajoutez-les, cela peut améliorer les performances."
   ]
  },
  {
   "cell_type": "code",
   "execution_count": 51,
   "id": "025e22a3",
   "metadata": {},
   "outputs": [
    {
     "name": "stdout",
     "output_type": "stream",
     "text": [
      "MethodInstance for zero_or_val(::Float64)\n",
      "  from zero_or_val(x::Real) in Main at In[51]:1\n",
      "Arguments\n",
      "  #self#\u001b[36m::Core.Const(zero_or_val)\u001b[39m\n",
      "  x\u001b[36m::Float64\u001b[39m\n",
      "Body\u001b[91m\u001b[1m::Union{Float64, Int64}\u001b[22m\u001b[39m\n",
      "\u001b[90m1 ─\u001b[39m %1 = (x >= 0)\u001b[36m::Bool\u001b[39m\n",
      "\u001b[90m└──\u001b[39m      goto #3 if not %1\n",
      "\u001b[90m2 ─\u001b[39m      return x\n",
      "\u001b[90m3 ─\u001b[39m      return 0\n",
      "\n"
     ]
    }
   ],
   "source": [
    "function zero_or_val(x::Real)\n",
    "    if x >= 0\n",
    "        return x\n",
    "    else\n",
    "        return 0\n",
    "    end\n",
    "end\n",
    "@code_warntype zero_or_val(0.2)"
   ]
  },
  {
   "cell_type": "code",
   "execution_count": 52,
   "id": "945d0a4c",
   "metadata": {},
   "outputs": [
    {
     "name": "stdout",
     "output_type": "stream",
     "text": [
      "MethodInstance for zero_or_val_stable(::Float64)\n",
      "  from zero_or_val_stable(x::Real) in Main at In[52]:1\n",
      "Arguments\n",
      "  #self#\u001b[36m::Core.Const(zero_or_val_stable)\u001b[39m\n",
      "  x\u001b[36m::Float64\u001b[39m\n",
      "Locals\n",
      "  T\u001b[36m::Type{Float64}\u001b[39m\n",
      "  y\u001b[91m\u001b[1m::Union{Float64, Int64}\u001b[22m\u001b[39m\n",
      "Body\u001b[36m::Float64\u001b[39m\n",
      "\u001b[90m1 ─\u001b[39m       Core.NewvarNode(:(T))\n",
      "\u001b[90m│  \u001b[39m       Core.NewvarNode(:(y))\n",
      "\u001b[90m│  \u001b[39m %3  = (x >= 0)\u001b[36m::Bool\u001b[39m\n",
      "\u001b[90m└──\u001b[39m       goto #3 if not %3\n",
      "\u001b[90m2 ─\u001b[39m       (y = x)\n",
      "\u001b[90m└──\u001b[39m       goto #4\n",
      "\u001b[90m3 ─\u001b[39m       (y = 0)\n",
      "\u001b[90m4 ┄\u001b[39m %8  = Main.typeof(x)\u001b[36m::Core.Const(Float64)\u001b[39m\n",
      "\u001b[90m│  \u001b[39m       (T = Main.promote_type(%8, Main.Int))\n",
      "\u001b[90m│  \u001b[39m %10 = (T::Core.Const(Float64))(y)\u001b[36m::Float64\u001b[39m\n",
      "\u001b[90m└──\u001b[39m       return %10\n",
      "\n"
     ]
    }
   ],
   "source": [
    "function zero_or_val_stable(x::Real)\n",
    "    if x >= 0\n",
    "        y = x\n",
    "    else\n",
    "        y = 0\n",
    "    end\n",
    "    T = promote_type(typeof(x),Int)\n",
    "    return T(y)\n",
    "end\n",
    "@code_warntype zero_or_val_stable(0.2)"
   ]
  },
  {
   "cell_type": "markdown",
   "id": "ba524ebf",
   "metadata": {},
   "source": [
    "**Conclusion**: `promote_type` peut vous permettre de supprimer une instabilité de type en utilisant la réprésentation la plus haute dans l'abre des types."
   ]
  },
  {
   "cell_type": "markdown",
   "id": "f386a835",
   "metadata": {},
   "source": [
    "Je vous propose le jeu suivant: Soit un vecteur de nombres. Calculons la somme comme suit. \n",
    "Pour chaque nombre du vecteur, on lance une pièce de monnaie (`rand()`), si c'est face (`>=0.5`), vous ajoutez `1`. Sinon, vous ajoutez le nombre lui-même.\n"
   ]
  },
  {
   "cell_type": "code",
   "execution_count": 53,
   "id": "01422850",
   "metadata": {},
   "outputs": [
    {
     "name": "stdout",
     "output_type": "stream",
     "text": [
      "flipcoin_then_add(myvec) == flipcoin_then_add_typed(myvec) = true\n"
     ]
    },
    {
     "data": {
      "text/plain": [
       "true"
      ]
     },
     "execution_count": 53,
     "metadata": {},
     "output_type": "execute_result"
    }
   ],
   "source": [
    "function flipcoin_then_add(v::Vector{T}) where T <: Real\n",
    "    s = 0\n",
    "    for vi in v\n",
    "        r = rand()\n",
    "        if r >=0.5\n",
    "            s += 1\n",
    "        else\n",
    "            s += vi\n",
    "        end\n",
    "    end\n",
    "end\n",
    "\n",
    "function flipcoin_then_add_typed(v::Vector{T}) where T <: Real\n",
    "    s = zero(T)\n",
    "    for vi in v\n",
    "        r = rand()\n",
    "        if r >=0.5\n",
    "            s += one(T)\n",
    "        else\n",
    "            s += vi\n",
    "        end\n",
    "    end\n",
    "end\n",
    "myvec = rand(1000)\n",
    "@show flipcoin_then_add(myvec) == flipcoin_then_add_typed(myvec)"
   ]
  },
  {
   "cell_type": "code",
   "execution_count": 54,
   "id": "f5806fa6",
   "metadata": {},
   "outputs": [
    {
     "name": "stdout",
     "output_type": "stream",
     "text": [
      "  2.434 μs (1 allocation: 7.94 KiB)\n",
      "  2.401 μs (1 allocation: 7.94 KiB)\n"
     ]
    }
   ],
   "source": [
    "@btime flipcoin_then_add(rand(1000))\n",
    "@btime flipcoin_then_add_typed(rand(1000))"
   ]
  },
  {
   "cell_type": "markdown",
   "id": "90bdf79b",
   "metadata": {},
   "source": [
    "**Conclusion**: Think about the variables you are declaring. Do you know their types? If so, specify the type somehow."
   ]
  },
  {
   "cell_type": "markdown",
   "id": "eb833422",
   "metadata": {},
   "source": [
    "### @code_XXX\n",
    "\n",
    "Nous avons vu durant ce chapitre que regarder le code généré peut nous aider à améliorer les performances. Voici toutes les macros à votre disposition:"
   ]
  },
  {
   "cell_type": "code",
   "execution_count": 55,
   "id": "e454b4c2",
   "metadata": {},
   "outputs": [
    {
     "data": {
      "text/plain": [
       "flipcoin (generic function with 1 method)"
      ]
     },
     "execution_count": 55,
     "metadata": {},
     "output_type": "execute_result"
    }
   ],
   "source": [
    "# @code_llvm \n",
    "# @code_lowered \n",
    "# @code_native \n",
    "# @code_typed \n",
    "# @code_warntype\n",
    "\n",
    "function flipcoin(randval::Float64)\n",
    "    if randval<0.5\n",
    "        return \"H\"\n",
    "    else\n",
    "        return \"T\"\n",
    "    end\n",
    "end"
   ]
  },
  {
   "cell_type": "code",
   "execution_count": 56,
   "id": "6ca27001",
   "metadata": {},
   "outputs": [
    {
     "data": {
      "text/plain": [
       "CodeInfo(\n",
       "\u001b[90m1 ─\u001b[39m %1 = randval < 0.5\n",
       "\u001b[90m└──\u001b[39m      goto #3 if not %1\n",
       "\u001b[90m2 ─\u001b[39m      return \"H\"\n",
       "\u001b[90m3 ─\u001b[39m      return \"T\"\n",
       ")"
      ]
     },
     "execution_count": 56,
     "metadata": {},
     "output_type": "execute_result"
    }
   ],
   "source": [
    "@code_lowered flipcoin(rand()) # syntax tree"
   ]
  },
  {
   "cell_type": "code",
   "execution_count": 57,
   "id": "fb492e2e",
   "metadata": {},
   "outputs": [
    {
     "name": "stdout",
     "output_type": "stream",
     "text": [
      "MethodInstance for flipcoin(::Float64)\n",
      "  from flipcoin(randval::Float64) in Main at In[55]:7\n",
      "Arguments\n",
      "  #self#\u001b[36m::Core.Const(flipcoin)\u001b[39m\n",
      "  randval\u001b[36m::Float64\u001b[39m\n",
      "Body\u001b[36m::String\u001b[39m\n",
      "\u001b[90m1 ─\u001b[39m %1 = (randval < 0.5)\u001b[36m::Bool\u001b[39m\n",
      "\u001b[90m└──\u001b[39m      goto #3 if not %1\n",
      "\u001b[90m2 ─\u001b[39m      return \"H\"\n",
      "\u001b[90m3 ─\u001b[39m      return \"T\"\n",
      "\n"
     ]
    }
   ],
   "source": [
    "@code_warntype flipcoin(rand()) # try @code_typed"
   ]
  },
  {
   "cell_type": "code",
   "execution_count": 58,
   "id": "db32862e",
   "metadata": {},
   "outputs": [
    {
     "name": "stdout",
     "output_type": "stream",
     "text": [
      "\u001b[90m;  @ In[55]:7 within `flipcoin`\u001b[39m\n",
      "\u001b[95mdefine\u001b[39m \u001b[95mnonnull\u001b[39m \u001b[33m{\u001b[39m\u001b[33m}\u001b[39m\u001b[0m* \u001b[93m@julia_flipcoin_3582\u001b[39m\u001b[33m(\u001b[39m\u001b[36mdouble\u001b[39m \u001b[0m%0\u001b[33m)\u001b[39m \u001b[0m#0 \u001b[33m{\u001b[39m\n",
      "\u001b[91mtop:\u001b[39m\n",
      "\u001b[90m;  @ In[55]:8 within `flipcoin`\u001b[39m\n",
      "\u001b[90m; ┌ @ float.jl:444 within `<`\u001b[39m\n",
      "   \u001b[0m%1 \u001b[0m= \u001b[96m\u001b[1mfcmp\u001b[22m\u001b[39m \u001b[96m\u001b[1muge\u001b[22m\u001b[39m \u001b[36mdouble\u001b[39m \u001b[0m%0\u001b[0m, \u001b[33m5.000000e-01\u001b[39m\n",
      "\u001b[90m; └\u001b[39m\n",
      "  \u001b[0m%spec.select \u001b[0m= \u001b[96m\u001b[1mselect\u001b[22m\u001b[39m \u001b[36mi1\u001b[39m \u001b[0m%1\u001b[0m, \u001b[33m{\u001b[39m\u001b[33m}\u001b[39m\u001b[0m* \u001b[95minttoptr\u001b[39m \u001b[33m(\u001b[39m\u001b[36mi64\u001b[39m \u001b[33m4529490128\u001b[39m \u001b[95mto\u001b[39m \u001b[33m{\u001b[39m\u001b[33m}\u001b[39m\u001b[0m*\u001b[33m)\u001b[39m\u001b[0m, \u001b[33m{\u001b[39m\u001b[33m}\u001b[39m\u001b[0m* \u001b[95minttoptr\u001b[39m \u001b[33m(\u001b[39m\u001b[36mi64\u001b[39m \u001b[33m4529490000\u001b[39m \u001b[95mto\u001b[39m \u001b[33m{\u001b[39m\u001b[33m}\u001b[39m\u001b[0m*\u001b[33m)\u001b[39m\n",
      "\u001b[90m;  @ In[55]:9 within `flipcoin`\u001b[39m\n",
      "  \u001b[96m\u001b[1mret\u001b[22m\u001b[39m \u001b[33m{\u001b[39m\u001b[33m}\u001b[39m\u001b[0m* \u001b[0m%spec.select\n",
      "\u001b[33m}\u001b[39m\n"
     ]
    }
   ],
   "source": [
    "@code_llvm flipcoin(rand()) # this and code_warntype are probably the most relevant"
   ]
  },
  {
   "cell_type": "code",
   "execution_count": 59,
   "id": "e06ed5f5",
   "metadata": {},
   "outputs": [
    {
     "name": "stdout",
     "output_type": "stream",
     "text": [
      "\t\u001b[0m.section\t\u001b[0m__TEXT\u001b[0m,\u001b[0m__text\u001b[0m,\u001b[0mregular\u001b[0m,\u001b[0mpure_instructions\n",
      "\u001b[90m; ┌ @ In[55]:7 within `flipcoin`\u001b[39m\n",
      "\t\u001b[96m\u001b[1mmovabsq\u001b[22m\u001b[39m\t\u001b[33m$4526567312\u001b[39m\u001b[0m, \u001b[0m%rax               \u001b[0m## \u001b[0mimm \u001b[0m= \u001b[33m0x10DCDEF90\u001b[39m\n",
      "\t\u001b[96m\u001b[1mvmovsd\u001b[22m\u001b[39m\t\u001b[33m(\u001b[39m\u001b[0m%rax\u001b[33m)\u001b[39m\u001b[0m, \u001b[0m%xmm1                   \u001b[0m## \u001b[0mxmm1 \u001b[0m= \u001b[0mmem\u001b[33m[\u001b[39m\u001b[33m0\u001b[39m\u001b[33m]\u001b[39m\u001b[0m,\u001b[0mzero\n",
      "\u001b[90m; │ @ In[55]:8 within `flipcoin`\u001b[39m\n",
      "\u001b[90m; │┌ @ float.jl:444 within `<`\u001b[39m\n",
      "\t\u001b[96m\u001b[1mxorl\u001b[22m\u001b[39m\t\u001b[0m%ecx\u001b[0m, \u001b[0m%ecx\n",
      "\t\u001b[96m\u001b[1mvucomisd\u001b[22m\u001b[39m\t\u001b[0m%xmm0\u001b[0m, \u001b[0m%xmm1\n",
      "\t\u001b[96m\u001b[1msetbe\u001b[22m\u001b[39m\t\u001b[0m%cl\n",
      "\u001b[90m; │└\u001b[39m\n",
      "\t\u001b[96m\u001b[1mshlq\u001b[22m\u001b[39m\t\u001b[33m$7\u001b[39m\u001b[0m, \u001b[0m%rcx\n",
      "\t\u001b[96m\u001b[1mmovabsq\u001b[22m\u001b[39m\t\u001b[33m$4529490000\u001b[39m\u001b[0m, \u001b[0m%rax               \u001b[0m## \u001b[0mimm \u001b[0m= \u001b[33m0x10DFA8850\u001b[39m\n",
      "\t\u001b[96m\u001b[1morq\u001b[22m\u001b[39m\t\u001b[0m%rcx\u001b[0m, \u001b[0m%rax\n",
      "\u001b[90m; │ @ In[55]:9 within `flipcoin`\u001b[39m\n",
      "\t\u001b[96m\u001b[1mretq\u001b[22m\u001b[39m\n",
      "\t\u001b[96m\u001b[1mnopl\u001b[22m\u001b[39m\t\u001b[33m(\u001b[39m\u001b[0m%rax\u001b[33m)\u001b[39m\n",
      "\u001b[90m; └\u001b[39m\n"
     ]
    }
   ],
   "source": [
    "@code_native flipcoin(rand())"
   ]
  },
  {
   "cell_type": "code",
   "execution_count": null,
   "id": "cdbfe670",
   "metadata": {},
   "outputs": [],
   "source": []
  }
 ],
 "metadata": {
  "jupytext": {
   "cell_metadata_filter": "-all",
   "main_language": "julia",
   "notebook_metadata_filter": "-all"
  },
  "kernelspec": {
   "display_name": "Julia 1.7.2",
   "language": "julia",
   "name": "julia-1.7"
  },
  "language_info": {
   "file_extension": ".jl",
   "mimetype": "application/julia",
   "name": "julia",
   "version": "1.7.2"
  }
 },
 "nbformat": 4,
 "nbformat_minor": 5
}
