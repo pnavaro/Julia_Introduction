{
 "cells": [
  {
   "cell_type": "markdown",
   "id": "60e0536a",
   "metadata": {},
   "source": [
    "# Performance\n",
    "\n",
    "*Julia* avec la compilation *Just-In-Time* est un langage naturellement performant. Il n'est pas allergique aux boucles comme le sont les langages Python et R. Les opérations vectorisées fonctionnent également très bien à condition d'être attentifs aux allocations mémoire et aux vues explicites."
   ]
  },
  {
   "cell_type": "markdown",
   "id": "1298796e",
   "metadata": {},
   "source": [
    "## Allocations"
   ]
  },
  {
   "cell_type": "code",
   "execution_count": null,
   "id": "9d7c4e3e",
   "metadata": {},
   "outputs": [],
   "source": [
    "using Random, LinearAlgebra, BenchmarkTools\n",
    "\n",
    "function test(A, B, C)\n",
    "    C = C - A * B\n",
    "    return C\n",
    "end\n",
    "\n",
    "A = rand(1024, 256); B = rand(256, 1024); C = rand(1024, 1024)\n",
    "\n",
    "@btime test($A, $B, $C);"
   ]
  },
  {
   "cell_type": "markdown",
   "id": "78e32eb5",
   "metadata": {},
   "source": [
    "Dans l'appel de la macro `@benchmark` on interpole les arguments avec le signe `$` pour être sur que les fonctions\n",
    "    `rand` aient déjà été evaluées avant l'appel de la fonction `test`. La matrice `C` est modifiée dans la fonction suivante donc par convention on ajoute un `!` au nom de la fonction. Par convention également, l'argument modifié se placera en premier. Comme dans la fonction `push!` par exemple."
   ]
  },
  {
   "cell_type": "code",
   "execution_count": null,
   "id": "0584472c",
   "metadata": {},
   "outputs": [],
   "source": [
    "function test!(C, A, B)\n",
    "    C .-= A * B\n",
    "    return C\n",
    "end\n",
    "\n",
    "@btime test!( $C, $A, $B);"
   ]
  },
  {
   "cell_type": "markdown",
   "id": "b058bdbd",
   "metadata": {},
   "source": [
    "En effectuant une opération \"en place\", on supprime une allocation mais celle pour effectuer l'opération `A * B` est toujours nécessaire. On peut supprimer cette allocation en utilisant la bibliothèque `BLAS`, cependant le code perd en lisibilité ce qu'il a gagné en performance."
   ]
  },
  {
   "cell_type": "code",
   "execution_count": null,
   "id": "c0e29ff5",
   "metadata": {},
   "outputs": [],
   "source": [
    "function test_opt!(C, A, B)\n",
    "    BLAS.gemm!('N','N', -1., A, B, 1., C)\n",
    "    return C\n",
    "end\n",
    "\n",
    "@btime test_opt!($C, $A, $B);"
   ]
  },
  {
   "cell_type": "markdown",
   "id": "ab7bace7",
   "metadata": {},
   "source": [
    "## Alignement de la mémoire\n",
    "\n",
    "Les opérations le long des premiers indices seront plus rapides."
   ]
  },
  {
   "cell_type": "code",
   "execution_count": null,
   "id": "64134a0d",
   "metadata": {},
   "outputs": [],
   "source": [
    "using FFTW\n",
    "\n",
    "T = randn(1024, 1024)\n",
    "\n",
    "@btime fft(T, 1);"
   ]
  },
  {
   "cell_type": "code",
   "execution_count": null,
   "id": "cc456b94",
   "metadata": {},
   "outputs": [],
   "source": [
    "@btime fft(T, 2);"
   ]
  },
  {
   "cell_type": "markdown",
   "id": "d0cc89a3",
   "metadata": {},
   "source": [
    "Voici un autre exemple ou on calcule la dérivée de la quantité $f$ suivant la coordonnée $y$ en passant par l'espace de Fourier"
   ]
  },
  {
   "cell_type": "code",
   "execution_count": null,
   "id": "a54485a0",
   "metadata": {},
   "outputs": [],
   "source": [
    "using FFTW\n",
    "\n",
    "xmin, xmax, nx = 0, 4π, 1024\n",
    "ymin, ymax, ny = 0, 4π, 1024\n",
    "x = LinRange(xmin, xmax, nx+1)[1:end-1]\n",
    "y = LinRange(ymin, ymax, ny+1)[1:end-1]\n",
    "ky  = 2π ./ (ymax-ymin) .* [0:ny÷2-1;ny÷2-ny:-1]\n",
    "exky = exp.( 1im .* ky' .* x)\n",
    "function df_dy( f, exky )\n",
    "    ifft(exky .* fft(f, 2), 2)\n",
    "end\n",
    "f = sin.(x) .* cos.(y') # f is a 2d array created by broadcasting\n",
    "@btime df_dy($f, $exky);"
   ]
  },
  {
   "cell_type": "markdown",
   "id": "146585e0",
   "metadata": {},
   "source": [
    "En utilisant les \"plans\" de FFTW qui permettent de pré-allouer la mémoire nécessaire et le calcul \"en place\". On peut améliorer les performances. On réutilise le même tableau pour la valeur de $f$ et sa transformée de Fourier. On prend soin également de respecter l'alignement de la mémoire en transposant le tableau contenant $f$ pour calculer la FFT. On utilise plus de mémoire, on fait plus de calcul en ajoutant les transpositions mais finalement le calcul va 3 fois plus vite car on évite les allocations et on limite les accès mémoire."
   ]
  },
  {
   "cell_type": "code",
   "execution_count": null,
   "id": "3c6f847b",
   "metadata": {},
   "outputs": [],
   "source": [
    "f  = zeros(ComplexF64, (nx,ny))\n",
    "fᵗ = zeros(ComplexF64, reverse(size(f)))\n",
    "f̂ᵗ = zeros(ComplexF64, reverse(size(f)))\n",
    "f .= sin.(x) .* cos.(y')\n",
    "fft_plan = plan_fft(fᵗ, 1, flags=FFTW.PATIENT)\n",
    "function df_dy!( f, fᵗ, f̂ᵗ, exky )\n",
    "    transpose!(fᵗ,f)\n",
    "    mul!(f̂ᵗ,  fft_plan, fᵗ)\n",
    "    f̂ᵗ .= f̂ᵗ .* exky\n",
    "    ldiv!(fᵗ, fft_plan, f̂ᵗ)\n",
    "    transpose!(f, fᵗ)\n",
    "end\n",
    "@btime df_dy!($f, $fᵗ, $f̂ᵗ, $exky );"
   ]
  },
  {
   "cell_type": "markdown",
   "id": "c3b8a7b3",
   "metadata": {},
   "source": [
    "## Vues explicites"
   ]
  },
  {
   "cell_type": "code",
   "execution_count": null,
   "id": "a6480eaf",
   "metadata": {},
   "outputs": [],
   "source": [
    "@btime sum(T[:,1]) # Somme de la première colonne"
   ]
  },
  {
   "cell_type": "code",
   "execution_count": null,
   "id": "ba8e1a35",
   "metadata": {},
   "outputs": [],
   "source": [
    "@btime sum(view(T,:,1))  "
   ]
  },
  {
   "cell_type": "markdown",
   "id": "775dbeb8",
   "metadata": {},
   "source": [
    "## Eviter les calculs dans l'environnement global."
   ]
  },
  {
   "cell_type": "code",
   "execution_count": null,
   "id": "db2a0a00",
   "metadata": {},
   "outputs": [],
   "source": [
    "v = rand(1000)\n",
    "\n",
    "function somme()\n",
    "    acc = 0\n",
    "    for i in eachindex(v) \n",
    "        acc += v[i]\n",
    "    end\n",
    "    acc\n",
    "end\n",
    "\n",
    "@btime somme()\n"
   ]
  },
  {
   "cell_type": "markdown",
   "id": "848cae30",
   "metadata": {},
   "source": [
    "Il faut écrire des fonctions"
   ]
  },
  {
   "cell_type": "code",
   "execution_count": null,
   "id": "c9755115",
   "metadata": {},
   "outputs": [],
   "source": [
    "function somme( x )\n",
    "    acc = 0\n",
    "    for i in eachindex(x) \n",
    "        acc += x[i]\n",
    "    end\n",
    "    acc\n",
    "end\n",
    "\n",
    "@btime somme( v )\n",
    "    "
   ]
  },
  {
   "cell_type": "markdown",
   "id": "89a8b11d",
   "metadata": {},
   "source": [
    "Pour comprendre pourquoi l'utilisation de variable global influence les performances, prenons un exemple simple d'une fonction additionnant deux nombres:"
   ]
  },
  {
   "cell_type": "code",
   "execution_count": null,
   "id": "a4f9b893",
   "metadata": {},
   "outputs": [],
   "source": [
    "variable = 10\n",
    "\n",
    "function addition_variable_globale(x)\n",
    "    x + variable\n",
    "end\n",
    "\n",
    "@btime addition_variable_globale(10)"
   ]
  },
  {
   "cell_type": "markdown",
   "id": "099736b8",
   "metadata": {},
   "source": [
    "Comparons la performance avec cette fonction qui retourne la somme de ses deux arguments"
   ]
  },
  {
   "cell_type": "code",
   "execution_count": null,
   "id": "f85b9a54",
   "metadata": {},
   "outputs": [],
   "source": [
    "function addition_deux_arguments(x, y)\n",
    "    x + y\n",
    "end\n",
    "\n",
    "@btime addition_deux_arguments(10, 10)"
   ]
  },
  {
   "cell_type": "markdown",
   "id": "e2769b84",
   "metadata": {},
   "source": [
    "On remarque que la deuxième fonction est 300 fois plus rapide que la première. Pour comprendre pourquoi elle est plus rapide, on peut regarder le code généré avant la compilation. On s'appercoit que le code est relativement simple avec une utilisation unique de l'instruction `add`."
   ]
  },
  {
   "cell_type": "code",
   "execution_count": null,
   "id": "b1f16cd9",
   "metadata": {},
   "outputs": [],
   "source": [
    "@code_llvm addition_deux_arguments(10, 10)"
   ]
  },
  {
   "cell_type": "markdown",
   "id": "0f3f1e9a",
   "metadata": {},
   "source": [
    "Si on regarde le code généré utilisant la variable globale, on comprend rapidement pourquoi c'est plus long. Pourquoi le code est-il si compliqué ? Ici le langage ne connait pas le type de `variable`, il doit donc prendre en compte le fait que ce type puisse être modifié à tout moment. Comme tous les cas sont envisagés, cela provoque un surcoût important."
   ]
  },
  {
   "cell_type": "code",
   "execution_count": null,
   "id": "44c9ab63",
   "metadata": {},
   "outputs": [],
   "source": [
    "@code_llvm addition_variable_globale(10)"
   ]
  },
  {
   "cell_type": "markdown",
   "id": "0280aba5",
   "metadata": {},
   "source": [
    "Il est donc possible d'améliorer la performance en fixant la valeur de la variable globale avec l'instruction `const`."
   ]
  },
  {
   "cell_type": "code",
   "execution_count": null,
   "id": "06925d7f",
   "metadata": {},
   "outputs": [],
   "source": [
    "const constante = 10\n",
    "\n",
    "function addition_variable_constante(x)\n",
    "    x + constante\n",
    "end\n",
    "\n",
    "@btime addition_variable_constante(10)"
   ]
  },
  {
   "cell_type": "markdown",
   "id": "c0ce77d0",
   "metadata": {},
   "source": [
    "On peut également fixer le type de cette variable. C'est mieux mais cela reste éloigné, en terme de performance, du résultat précedent."
   ]
  },
  {
   "cell_type": "code",
   "execution_count": null,
   "id": "3ff88260",
   "metadata": {},
   "outputs": [],
   "source": [
    "function addition_variable_typee(x)\n",
    "    x + variable::Int\n",
    "end\n",
    "\n",
    "@btime addition_variable_typee(10)"
   ]
  },
  {
   "cell_type": "markdown",
   "id": "5bd24745",
   "metadata": {},
   "source": [
    "Pour régler notre problème de performance avec une variable globale, il faut la passer en argument dans la fonction."
   ]
  },
  {
   "cell_type": "code",
   "execution_count": null,
   "id": "f2a754aa",
   "metadata": {},
   "outputs": [],
   "source": [
    "function addition_variable_globale_en_argument(x, v)\n",
    "    x + v\n",
    "end"
   ]
  },
  {
   "cell_type": "code",
   "execution_count": null,
   "id": "0b9ebcdd",
   "metadata": {
    "lines_to_next_cell": 2
   },
   "outputs": [],
   "source": [
    "@btime addition_variable_globale_en_argument(10, $variable)"
   ]
  },
  {
   "cell_type": "markdown",
   "id": "e87af8f2",
   "metadata": {},
   "source": [
    "## Instabilité de type\n",
    "\n",
    "Une fonction est de type stable lorsque vous pouvez déduire ce que doit être la sortie de la fonction. L'exemple ci-dessous rendra les choses plus claires. En règle générale, les fonctions de type stable sont plus rapides.\n"
   ]
  },
  {
   "cell_type": "code",
   "execution_count": null,
   "id": "74ebc790",
   "metadata": {},
   "outputs": [],
   "source": [
    "function carre_plus_un(v::T) where T <:Number\n",
    "    g = v*v\n",
    "    return g+1\n",
    "end"
   ]
  },
  {
   "cell_type": "code",
   "execution_count": null,
   "id": "4edca01f",
   "metadata": {},
   "outputs": [],
   "source": [
    "v = rand()"
   ]
  },
  {
   "cell_type": "code",
   "execution_count": null,
   "id": "99485981",
   "metadata": {},
   "outputs": [],
   "source": [
    "@code_warntype carre_plus_un(v)"
   ]
  },
  {
   "cell_type": "code",
   "execution_count": null,
   "id": "9dca48e3",
   "metadata": {},
   "outputs": [],
   "source": [
    "w = 5"
   ]
  },
  {
   "cell_type": "code",
   "execution_count": null,
   "id": "a28229a7",
   "metadata": {},
   "outputs": [],
   "source": [
    "@code_warntype carre_plus_un(w)"
   ]
  },
  {
   "cell_type": "markdown",
   "id": "ceafe1d0",
   "metadata": {},
   "source": [
    "Sur les deux exemples précedents on peut déduire le type de sortie de la fonction.\n",
    "```\n",
    "function carre_plus_un(v::T) where T <:Number\n",
    "    g = v*v         # Type(T * T) ==> T\n",
    "    return g+1      # Type(T + Int)) ==> \"max\" (T,Int)\n",
    "end\n",
    "\n",
    "```\n",
    "Le type de la valeur de retour peut être différent: `Float64` ou `Int64`. Mais la fonction est toujours stable.\n",
    "\n",
    "Créons maintenant un nouveau type:"
   ]
  },
  {
   "cell_type": "code",
   "execution_count": null,
   "id": "150f60c8",
   "metadata": {},
   "outputs": [],
   "source": [
    "mutable struct Cube\n",
    "    length\n",
    "    width\n",
    "    height\n",
    "end"
   ]
  },
  {
   "cell_type": "code",
   "execution_count": null,
   "id": "9785378b",
   "metadata": {},
   "outputs": [],
   "source": [
    "volume(c::Cube) = c.length*c.width*c.height"
   ]
  },
  {
   "cell_type": "code",
   "execution_count": null,
   "id": "ad094daf",
   "metadata": {},
   "outputs": [],
   "source": [
    "mutable struct Cube_typed\n",
    "    length::Float64\n",
    "    width::Float64\n",
    "    height::Float64\n",
    "end\n",
    "volume(c::Cube_typed) = c.length*c.width*c.height"
   ]
  },
  {
   "cell_type": "code",
   "execution_count": null,
   "id": "532f1944",
   "metadata": {},
   "outputs": [],
   "source": [
    "mutable struct Cube_parametric_typed{T <: Real}\n",
    "    length::T\n",
    "    width::T\n",
    "    height::T\n",
    "end\n",
    "volume(c::Cube_parametric_typed) = c.length*c.width*c.height"
   ]
  },
  {
   "cell_type": "code",
   "execution_count": null,
   "id": "513032b3",
   "metadata": {},
   "outputs": [],
   "source": [
    "c1 = Cube(1.1,1.2,1.3)\n",
    "c2 = Cube_typed(1.1,1.2,1.3)\n",
    "c3 = Cube_parametric_typed(1.1,1.2,1.3)\n",
    "@show volume(c1) == volume(c2) == volume(c3)"
   ]
  },
  {
   "cell_type": "code",
   "execution_count": null,
   "id": "559b8262",
   "metadata": {},
   "outputs": [],
   "source": [
    "using BenchmarkTools\n",
    "@btime volume(c1) # not typed\n",
    "@btime volume(c2) # typed float\n",
    "@btime volume(c3) # typed parametric"
   ]
  },
  {
   "cell_type": "markdown",
   "id": "406b45da",
   "metadata": {},
   "source": [
    "The second and the third function calls are faster! Let's call `@code_warntype` and check type stability"
   ]
  },
  {
   "cell_type": "code",
   "execution_count": null,
   "id": "f6050993",
   "metadata": {},
   "outputs": [],
   "source": [
    "@code_warntype volume(c1)"
   ]
  },
  {
   "cell_type": "code",
   "execution_count": null,
   "id": "632e6673",
   "metadata": {},
   "outputs": [],
   "source": [
    "@code_warntype volume(c2)"
   ]
  },
  {
   "cell_type": "code",
   "execution_count": null,
   "id": "acdc75fe",
   "metadata": {},
   "outputs": [],
   "source": [
    "@code_warntype volume(c3)"
   ]
  },
  {
   "cell_type": "markdown",
   "id": "29c00202",
   "metadata": {},
   "source": [
    "**Conclusion**: Les types en Julia sont importants donc si vous les connaissez, ajoutez-les, cela peut améliorer les performances."
   ]
  },
  {
   "cell_type": "code",
   "execution_count": null,
   "id": "025e22a3",
   "metadata": {},
   "outputs": [],
   "source": [
    "function zero_or_val(x::Real)\n",
    "    if x >= 0\n",
    "        return x\n",
    "    else\n",
    "        return 0\n",
    "    end\n",
    "end\n",
    "@code_warntype zero_or_val(0.2)"
   ]
  },
  {
   "cell_type": "code",
   "execution_count": null,
   "id": "945d0a4c",
   "metadata": {},
   "outputs": [],
   "source": [
    "function zero_or_val_stable(x::Real)\n",
    "    if x >= 0\n",
    "        y = x\n",
    "    else\n",
    "        y = 0\n",
    "    end\n",
    "    T = promote_type(typeof(x),Int)\n",
    "    return T(y)\n",
    "end\n",
    "@code_warntype zero_or_val_stable(0.2)"
   ]
  },
  {
   "cell_type": "markdown",
   "id": "ba524ebf",
   "metadata": {},
   "source": [
    "**Conclusion**: `promote_type` peut vous permettre de supprimer une instabilité de type en utilisant la réprésentation la plus haute dans l'abre des types."
   ]
  },
  {
   "cell_type": "markdown",
   "id": "f386a835",
   "metadata": {},
   "source": [
    "Je vous propose le jeu suivant: Soit un vecteur de nombres. Calculons la somme comme suit. \n",
    "Pour chaque nombre du vecteur, on lance une pièce de monnaie (`rand()`), si c'est face (`>=0.5`), vous ajoutez `1`. Sinon, vous ajoutez le nombre lui-même.\n"
   ]
  },
  {
   "cell_type": "code",
   "execution_count": null,
   "id": "01422850",
   "metadata": {},
   "outputs": [],
   "source": [
    "function flipcoin_then_add(v::Vector{T}) where T <: Real\n",
    "    s = 0\n",
    "    for vi in v\n",
    "        r = rand()\n",
    "        if r >=0.5\n",
    "            s += 1\n",
    "        else\n",
    "            s += vi\n",
    "        end\n",
    "    end\n",
    "end\n",
    "\n",
    "function flipcoin_then_add_typed(v::Vector{T}) where T <: Real\n",
    "    s = zero(T)\n",
    "    for vi in v\n",
    "        r = rand()\n",
    "        if r >=0.5\n",
    "            s += one(T)\n",
    "        else\n",
    "            s += vi\n",
    "        end\n",
    "    end\n",
    "end\n",
    "myvec = rand(1000)\n",
    "@show flipcoin_then_add(myvec) == flipcoin_then_add_typed(myvec)"
   ]
  },
  {
   "cell_type": "code",
   "execution_count": null,
   "id": "f5806fa6",
   "metadata": {},
   "outputs": [],
   "source": [
    "@btime flipcoin_then_add(rand(1000))\n",
    "@btime flipcoin_then_add_typed(rand(1000))"
   ]
  },
  {
   "cell_type": "markdown",
   "id": "90bdf79b",
   "metadata": {},
   "source": [
    "**Conclusion**: Think about the variables you are declaring. Do you know their types? If so, specify the type somehow."
   ]
  },
  {
   "cell_type": "markdown",
   "id": "eb833422",
   "metadata": {},
   "source": [
    "### @code_XXX\n",
    "\n",
    "Nous avons vu durant ce chapitre que regarder le code généré peut nous aider à améliorer les performances. Voici toutes les macros à votre disposition:"
   ]
  },
  {
   "cell_type": "code",
   "execution_count": null,
   "id": "e454b4c2",
   "metadata": {},
   "outputs": [],
   "source": [
    "# @code_llvm \n",
    "# @code_lowered \n",
    "# @code_native \n",
    "# @code_typed \n",
    "# @code_warntype\n",
    "\n",
    "function flipcoin(randval::Float64)\n",
    "    if randval<0.5\n",
    "        return \"H\"\n",
    "    else\n",
    "        return \"T\"\n",
    "    end\n",
    "end"
   ]
  },
  {
   "cell_type": "code",
   "execution_count": null,
   "id": "6ca27001",
   "metadata": {},
   "outputs": [],
   "source": [
    "@code_lowered flipcoin(rand()) # syntax tree"
   ]
  },
  {
   "cell_type": "code",
   "execution_count": null,
   "id": "fb492e2e",
   "metadata": {},
   "outputs": [],
   "source": [
    "@code_warntype flipcoin(rand()) # try @code_typed"
   ]
  },
  {
   "cell_type": "code",
   "execution_count": null,
   "id": "db32862e",
   "metadata": {},
   "outputs": [],
   "source": [
    "@code_llvm flipcoin(rand()) # this and code_warntype are probably the most relevant"
   ]
  },
  {
   "cell_type": "code",
   "execution_count": null,
   "id": "e06ed5f5",
   "metadata": {},
   "outputs": [],
   "source": [
    "@code_native flipcoin(rand())"
   ]
  }
 ],
 "metadata": {
  "jupytext": {
   "cell_metadata_filter": "-all",
   "main_language": "julia",
   "notebook_metadata_filter": "-all"
  }
 },
 "nbformat": 4,
 "nbformat_minor": 5
}
